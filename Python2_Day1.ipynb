{
  "nbformat": 4,
  "nbformat_minor": 0,
  "metadata": {
    "colab": {
      "name": "Python2 Day1.ipynb",
      "provenance": [],
      "collapsed_sections": [],
      "authorship_tag": "ABX9TyMxR053wdU1zFmarf5LZjAV",
      "include_colab_link": true
    },
    "kernelspec": {
      "name": "python3",
      "display_name": "Python 3"
    },
    "language_info": {
      "name": "python"
    }
  },
  "cells": [
    {
      "cell_type": "markdown",
      "metadata": {
        "id": "view-in-github",
        "colab_type": "text"
      },
      "source": [
        "<a href=\"https://colab.research.google.com/github/BhoomikaSheth/PythonBasicNotes/blob/main/Python2_Day1.ipynb\" target=\"_parent\"><img src=\"https://colab.research.google.com/assets/colab-badge.svg\" alt=\"Open In Colab\"/></a>"
      ]
    },
    {
      "cell_type": "markdown",
      "metadata": {
        "id": "Oo2-xdpSpQXB"
      },
      "source": [
        "# Data types, Type function,  Data type conversions, Operators, If statements"
      ]
    },
    {
      "cell_type": "markdown",
      "metadata": {
        "id": "uVejXVzGUv7l"
      },
      "source": [
        "Variable:\n",
        "entitites that store data. A varibale name has rules:\n",
        "1. vari name should be meaningful\n",
        "2. vari name should have alphabets/numbers/_(underscore)\n",
        "3. vari name should always start with alphabet/_(underscore)\n",
        "4. Variable name should not be any python keyword."
      ]
    },
    {
      "cell_type": "code",
      "metadata": {
        "colab": {
          "base_uri": "https://localhost:8080/"
        },
        "id": "YLfiZzpZVPWj",
        "outputId": "9efde6cd-15f6-4938-ba25-29066fd793cf"
      },
      "source": [
        "name=input(\"enter your name :\")\n",
        "print(\"HI,\",name)"
      ],
      "execution_count": null,
      "outputs": [
        {
          "output_type": "stream",
          "text": [
            "enter your name :xyz\n",
            "HI,xyz\n"
          ],
          "name": "stdout"
        }
      ]
    },
    {
      "cell_type": "markdown",
      "metadata": {
        "id": "wqNKFoa6Vm21"
      },
      "source": [
        "varibale can be of type:\n",
        "1. string\n",
        "2. int\n",
        "3. float\n",
        "4. bool\n",
        "5. list\n",
        "6. tuple\n",
        "7. dict\n",
        "8. Set and frozenset"
      ]
    },
    {
      "cell_type": "code",
      "metadata": {
        "colab": {
          "base_uri": "https://localhost:8080/"
        },
        "id": "7y1E1K8oV5z4",
        "outputId": "9aa7156e-749e-4b96-f29f-944e7ba1e746"
      },
      "source": [
        "name=\"xyz\"      # string\n",
        "age=25           #int\n",
        "weight=50.6      #float\n",
        "gender=True      #boolean\n",
        "shopping_list=[\"milk\",65,\"khga\",63.25,False]       #list\n",
        "print(name,age,weight,gender,shopping_list)  # list can have all values either of same data type or different\n",
        "# you can pass n number of values within [] of a list"
      ],
      "execution_count": null,
      "outputs": [
        {
          "output_type": "stream",
          "name": "stdout",
          "text": [
            "xyz 25 50.6 True ['milk', 65, 'khga', 63.25, False]\n"
          ]
        }
      ]
    },
    {
      "cell_type": "code",
      "source": [
        "marks = [78,85,65,74,68]\n",
        "marks # list is storing a group of data within [] seperated by , in one variable"
      ],
      "metadata": {
        "colab": {
          "base_uri": "https://localhost:8080/"
        },
        "id": "AjRQ2PeddjdK",
        "outputId": "427ee47f-72a2-4baa-a4fe-eb573dade087"
      },
      "execution_count": null,
      "outputs": [
        {
          "output_type": "execute_result",
          "data": {
            "text/plain": [
              "[78, 85, 65, 74, 68]"
            ]
          },
          "metadata": {},
          "execution_count": 1
        }
      ]
    },
    {
      "cell_type": "code",
      "source": [
        "type(marks)"
      ],
      "metadata": {
        "colab": {
          "base_uri": "https://localhost:8080/"
        },
        "id": "88WnLzU8dq8Y",
        "outputId": "5bc57be5-8e9e-4be6-ff6d-dd47d6f0a2b2"
      },
      "execution_count": null,
      "outputs": [
        {
          "output_type": "execute_result",
          "data": {
            "text/plain": [
              "list"
            ]
          },
          "metadata": {},
          "execution_count": 3
        }
      ]
    },
    {
      "cell_type": "code",
      "metadata": {
        "colab": {
          "base_uri": "https://localhost:8080/"
        },
        "id": "DGThL0S_Xecn",
        "outputId": "5603e292-9712-43a4-f366-923ce6518c8b"
      },
      "source": [
        "type(name)"
      ],
      "execution_count": null,
      "outputs": [
        {
          "output_type": "execute_result",
          "data": {
            "text/plain": [
              "str"
            ]
          },
          "metadata": {
            "tags": []
          },
          "execution_count": 4
        }
      ]
    },
    {
      "cell_type": "code",
      "metadata": {
        "colab": {
          "base_uri": "https://localhost:8080/"
        },
        "id": "Cj29vrq9XjaY",
        "outputId": "bb46ef80-eec6-4d34-d478-12a8751ad9f7"
      },
      "source": [
        "print(type(gender))\n",
        "type(shopping_list)"
      ],
      "execution_count": null,
      "outputs": [
        {
          "output_type": "stream",
          "text": [
            "<class 'bool'>\n"
          ],
          "name": "stdout"
        },
        {
          "output_type": "execute_result",
          "data": {
            "text/plain": [
              "list"
            ]
          },
          "metadata": {
            "tags": []
          },
          "execution_count": 8
        }
      ]
    },
    {
      "cell_type": "code",
      "metadata": {
        "colab": {
          "base_uri": "https://localhost:8080/"
        },
        "id": "RXImNxnYXlk3",
        "outputId": "40533f59-da2b-40ab-9901-cb5cd0e3b205"
      },
      "source": [
        "print(type(age),type(weight))"
      ],
      "execution_count": null,
      "outputs": [
        {
          "output_type": "stream",
          "text": [
            "<class 'int'> <class 'float'>\n"
          ],
          "name": "stdout"
        }
      ]
    },
    {
      "cell_type": "markdown",
      "metadata": {
        "id": "6BDaM4PbYR1B"
      },
      "source": [
        "Data Type conversion:\n",
        "1. int\n",
        "2. float\n",
        "3. str\n",
        "4. bool\n",
        "5. list\n",
        "6. tuple\n",
        "7. dict"
      ]
    },
    {
      "cell_type": "code",
      "source": [
        "mark = input(\"Enter your marks:\")\n",
        "print(mark)"
      ],
      "metadata": {
        "colab": {
          "base_uri": "https://localhost:8080/"
        },
        "id": "jktj3GzNeeUB",
        "outputId": "019a99dd-adfb-4110-98b0-fb6e24ed2a38"
      },
      "execution_count": null,
      "outputs": [
        {
          "output_type": "stream",
          "name": "stdout",
          "text": [
            "Enter your marks:54\n",
            "54\n"
          ]
        }
      ]
    },
    {
      "cell_type": "code",
      "source": [
        "v1=\"Hello\"\n",
        "v2=\"Students\"\n",
        "v1+v2"
      ],
      "metadata": {
        "colab": {
          "base_uri": "https://localhost:8080/",
          "height": 36
        },
        "id": "H5RlT-GZe1RF",
        "outputId": "468a6e9e-5841-465e-d64c-92287d1b167f"
      },
      "execution_count": null,
      "outputs": [
        {
          "output_type": "execute_result",
          "data": {
            "application/vnd.google.colaboratory.intrinsic+json": {
              "type": "string"
            },
            "text/plain": [
              "'HelloStudents'"
            ]
          },
          "metadata": {},
          "execution_count": 6
        }
      ]
    },
    {
      "cell_type": "code",
      "source": [
        "internal_mark = 25\n",
        "mark+internal_mark"
      ],
      "metadata": {
        "colab": {
          "base_uri": "https://localhost:8080/",
          "height": 191
        },
        "id": "TmrpkPwzelco",
        "outputId": "39dc3284-c79b-41f6-87b8-e22194a68f09"
      },
      "execution_count": null,
      "outputs": [
        {
          "output_type": "error",
          "ename": "TypeError",
          "evalue": "ignored",
          "traceback": [
            "\u001b[0;31m---------------------------------------------------------------------------\u001b[0m",
            "\u001b[0;31mTypeError\u001b[0m                                 Traceback (most recent call last)",
            "\u001b[0;32m<ipython-input-5-0ed01a51af32>\u001b[0m in \u001b[0;36m<module>\u001b[0;34m()\u001b[0m\n\u001b[1;32m      1\u001b[0m \u001b[0minternal_mark\u001b[0m \u001b[0;34m=\u001b[0m \u001b[0;36m25\u001b[0m\u001b[0;34m\u001b[0m\u001b[0;34m\u001b[0m\u001b[0m\n\u001b[0;32m----> 2\u001b[0;31m \u001b[0mmark\u001b[0m\u001b[0;34m+\u001b[0m\u001b[0minternal_mark\u001b[0m\u001b[0;34m\u001b[0m\u001b[0;34m\u001b[0m\u001b[0m\n\u001b[0m",
            "\u001b[0;31mTypeError\u001b[0m: can only concatenate str (not \"int\") to str"
          ]
        }
      ]
    },
    {
      "cell_type": "code",
      "source": [
        "type(internal_mark)"
      ],
      "metadata": {
        "colab": {
          "base_uri": "https://localhost:8080/"
        },
        "id": "GUEDlmHOfBYC",
        "outputId": "74046308-7c70-4371-df99-e7d89d5c9a58"
      },
      "execution_count": null,
      "outputs": [
        {
          "output_type": "execute_result",
          "data": {
            "text/plain": [
              "int"
            ]
          },
          "metadata": {},
          "execution_count": 8
        }
      ]
    },
    {
      "cell_type": "code",
      "source": [
        "type(mark)"
      ],
      "metadata": {
        "colab": {
          "base_uri": "https://localhost:8080/"
        },
        "id": "Ze8G2OZTe9nY",
        "outputId": "8467af96-334a-4a93-a136-4d81d43fb016"
      },
      "execution_count": null,
      "outputs": [
        {
          "output_type": "execute_result",
          "data": {
            "text/plain": [
              "str"
            ]
          },
          "metadata": {},
          "execution_count": 7
        }
      ]
    },
    {
      "cell_type": "code",
      "source": [
        "external_mark=60\n",
        "external_mark+internal_mark"
      ],
      "metadata": {
        "colab": {
          "base_uri": "https://localhost:8080/"
        },
        "id": "VP4jzvm_fGeT",
        "outputId": "8b987c68-b9cd-4653-fae6-75eda60302df"
      },
      "execution_count": null,
      "outputs": [
        {
          "output_type": "execute_result",
          "data": {
            "text/plain": [
              "85"
            ]
          },
          "metadata": {},
          "execution_count": 9
        }
      ]
    },
    {
      "cell_type": "code",
      "source": [
        "#\"25\" is different from 25"
      ],
      "metadata": {
        "id": "VKkBm0AHfVw2"
      },
      "execution_count": null,
      "outputs": []
    },
    {
      "cell_type": "code",
      "source": [
        "mark = int(mark)\n",
        "type(mark)   # input function by default gives data as str only. if you want to apply any mathematical/logical operation\n",
        "# on it then you have to convert it to int or float"
      ],
      "metadata": {
        "colab": {
          "base_uri": "https://localhost:8080/"
        },
        "id": "udbpC_C4fQIJ",
        "outputId": "2b121ed2-23ef-4c96-952d-62d890e17f57"
      },
      "execution_count": null,
      "outputs": [
        {
          "output_type": "execute_result",
          "data": {
            "text/plain": [
              "int"
            ]
          },
          "metadata": {},
          "execution_count": 11
        }
      ]
    },
    {
      "cell_type": "code",
      "source": [
        "print(external_mark,type(external_mark))\n",
        "external_mark=float(external_mark)\n",
        "print(external_mark,type(external_mark))"
      ],
      "metadata": {
        "colab": {
          "base_uri": "https://localhost:8080/"
        },
        "id": "LBmVxf5Cfvg_",
        "outputId": "b25b6a01-9686-4805-f05c-7cdfa476965c"
      },
      "execution_count": null,
      "outputs": [
        {
          "output_type": "stream",
          "name": "stdout",
          "text": [
            "60 <class 'int'>\n",
            "60.0 <class 'float'>\n"
          ]
        }
      ]
    },
    {
      "cell_type": "code",
      "source": [
        "num1 = input(\"Enter a number:\")\n",
        "num1=int(num1)\n",
        "print(num1,type(num1))\n",
        "\n",
        "num2 = int(input(\"Enter a number:\"))\n",
        "print(num2,type(num2))"
      ],
      "metadata": {
        "colab": {
          "base_uri": "https://localhost:8080/"
        },
        "id": "K6bOhjJOf-Pt",
        "outputId": "f7795c15-0571-4b01-b035-adebc0b8c107"
      },
      "execution_count": null,
      "outputs": [
        {
          "output_type": "stream",
          "name": "stdout",
          "text": [
            "Enter a number:57\n",
            "57 <class 'int'>\n",
            "Enter a number:75\n",
            "75 <class 'int'>\n"
          ]
        }
      ]
    },
    {
      "cell_type": "code",
      "metadata": {
        "colab": {
          "base_uri": "https://localhost:8080/"
        },
        "id": "v8bCRXodYVEX",
        "outputId": "59756d45-529b-47eb-d63a-d6772f137757"
      },
      "source": [
        "temp1=\"68.3\"+\"10\"\n",
        "temp2=float(temp1)+10\n",
        "print(type(temp2))\n",
        "print(temp1,temp2)"
      ],
      "execution_count": null,
      "outputs": [
        {
          "output_type": "stream",
          "name": "stdout",
          "text": [
            "<class 'float'>\n",
            "68.310 78.31\n"
          ]
        }
      ]
    },
    {
      "cell_type": "markdown",
      "metadata": {
        "id": "au1UcAd6ZXts"
      },
      "source": [
        "input function gives any data in form of string only. you need to convert that data to int/float if you want to perform any mathematical operations"
      ]
    },
    {
      "cell_type": "code",
      "metadata": {
        "colab": {
          "base_uri": "https://localhost:8080/"
        },
        "id": "7MJeR7p2XjQ-",
        "outputId": "a360fc75-7f40-4eba-bd9a-5cd2f6e6d8e0"
      },
      "source": [
        "num1=input(\"Enter no 1:\")\n",
        "num2=input(\"Enter no 2:\")\n",
        "result=num1+num2\n",
        "print(result)"
      ],
      "execution_count": null,
      "outputs": [
        {
          "output_type": "stream",
          "text": [
            "Enter no 1:10\n",
            "Enter no 2:20\n",
            "1020\n"
          ],
          "name": "stdout"
        }
      ]
    },
    {
      "cell_type": "code",
      "metadata": {
        "id": "_pMg19IqZ3Ub",
        "colab": {
          "base_uri": "https://localhost:8080/"
        },
        "outputId": "758e1559-5fd8-462c-bb0a-2bebbe62a18c"
      },
      "source": [
        "num1=int(input(\"Enter no 1:\"))\n",
        "num2=int(input(\"Enter no 2:\"))\n",
        "result=num1+num2\n",
        "print(result)"
      ],
      "execution_count": null,
      "outputs": [
        {
          "output_type": "stream",
          "text": [
            "Enter no 1:10\n",
            "Enter no 2:20\n",
            "30\n"
          ],
          "name": "stdout"
        }
      ]
    },
    {
      "cell_type": "markdown",
      "metadata": {
        "id": "2I0HQ4XIafwj"
      },
      "source": [
        "operators------performs some operation on data\n",
        "1. assignemt =    rhs to lhs\n",
        "2. arithmetic + - * / % // **\n",
        "        // floor division, ans without decimal point\n",
        "        % remainder\n",
        "        / actual ans\n",
        "        ** power\n",
        "3. logical and, or, not\n",
        "4. conditional <, >, <=, >=, ==, !=\n",
        "5. bitwise ~, ^, & ,| ,<< ,>>\n",
        "6. membership in , not in\n",
        "7. Identity operator is, not is"
      ]
    },
    {
      "cell_type": "code",
      "metadata": {
        "colab": {
          "base_uri": "https://localhost:8080/"
        },
        "id": "ThYfxgFPbCmU",
        "outputId": "4ef92c31-8677-4be5-bef9-4992071e4549"
      },
      "source": [
        "num1=20\n",
        "num2=30\n",
        "print(num1+num2,num1-num2,num1*num2,num1/num2)\n",
        "print(5/2, 5//2, 5%2)\n",
        "print(5**3, 2**10)"
      ],
      "execution_count": null,
      "outputs": [
        {
          "output_type": "stream",
          "name": "stdout",
          "text": [
            "50 -10 600 0.6666666666666666\n",
            "2.5 2 1\n",
            "125 1024\n"
          ]
        }
      ]
    },
    {
      "cell_type": "code",
      "metadata": {
        "id": "qMpv2cEjcK-q",
        "colab": {
          "base_uri": "https://localhost:8080/"
        },
        "outputId": "92f3ba39-4f36-43a5-a351-ee918ed84618"
      },
      "source": [
        "#write a program to find interest for given P,R,T \n",
        "#i= prt/100\n",
        "p=input(\"Enter your principal/base amount:\\t\")\n",
        "r=input(\"Enter your rate of interest:\\t\")\n",
        "t=input(\"Enter your time period:\\t\")\n",
        "p=float(p)\n",
        "r=float(r)\n",
        "t=float(t)#p=int(p)\n",
        "i=(p*r*t)/100\n",
        "print(\"SImple interest is\",i)"
      ],
      "execution_count": null,
      "outputs": [
        {
          "output_type": "stream",
          "name": "stdout",
          "text": [
            "Enter your principal/base amount:\t5000\n",
            "Enter your rate of interest:\t10\n",
            "Enter your time period:\t1\n",
            "SImple interest is 500.0\n"
          ]
        }
      ]
    },
    {
      "cell_type": "code",
      "metadata": {
        "colab": {
          "base_uri": "https://localhost:8080/"
        },
        "id": "HoPjyUdRfLBE",
        "outputId": "0e5bce72-58cf-4ecd-a52c-c1eae01c184a"
      },
      "source": [
        "p=float(input(\"Enter your principal/base amount:\\t\"))\n",
        "r=float(input(\"Enter your rate of interest:\\t\"))\n",
        "t=float(input(\"Enter your time period:\\t\"))\n",
        "print(\"Simple interest is\",(p*r*t)/100)"
      ],
      "execution_count": null,
      "outputs": [
        {
          "output_type": "stream",
          "text": [
            "Enter your principal/base amount:\t100\n",
            "Enter your rate of interest:\t20\n",
            "Enter your time period:\t1\n",
            "Simple interest is 20.0\n"
          ],
          "name": "stdout"
        }
      ]
    },
    {
      "cell_type": "code",
      "source": [
        "# write a program to calculate area of a square for given length\n",
        "l=int(input(\"Enter your length:\"))\n",
        "a=l*l\n",
        "print(a)"
      ],
      "metadata": {
        "colab": {
          "base_uri": "https://localhost:8080/"
        },
        "id": "ykRptbUTj3fE",
        "outputId": "93892e2d-afcd-41ef-b80b-2082b61cda16"
      },
      "execution_count": null,
      "outputs": [
        {
          "output_type": "stream",
          "name": "stdout",
          "text": [
            "Enter your length:5\n",
            "25\n"
          ]
        }
      ]
    },
    {
      "cell_type": "code",
      "source": [
        "# write a program to find percentage for given total marks\n",
        "marks = int(input(\"Enter marks obtained: \"))\n",
        "total = int(input(\"Enter total marks obtainable: \"))\n",
        "print(\"Your percentage is :\" , marks*100/total)"
      ],
      "metadata": {
        "colab": {
          "base_uri": "https://localhost:8080/"
        },
        "id": "wIdjSCQckF00",
        "outputId": "1bf4eede-b70e-447b-cd81-f34038c8628a"
      },
      "execution_count": null,
      "outputs": [
        {
          "output_type": "stream",
          "name": "stdout",
          "text": [
            "Enter marks obtained: 754\n",
            "Enter total marks obtainable: 800\n",
            "Your percentage is : 94.25\n"
          ]
        }
      ]
    },
    {
      "cell_type": "code",
      "source": [
        "# write a program to find total marks for 3 subjects\n",
        "sub_1 = int(input(\"Enter marks of first subject: \"))\n",
        "sub_2 = int(input(\"Enter marks of second subject: \"))\n",
        "sub_3 = int(input(\"Enter marks of third subject: \"))\n",
        "print(\"Total marks of the three subjects are: \", (sub_1 + sub_2 + sub_3))"
      ],
      "metadata": {
        "colab": {
          "base_uri": "https://localhost:8080/"
        },
        "id": "0Fq6Lrv7kO4C",
        "outputId": "cb7c0bd6-05c0-462c-9cd4-b7d205719554"
      },
      "execution_count": null,
      "outputs": [
        {
          "output_type": "stream",
          "name": "stdout",
          "text": [
            "Enter marks of first subject: 74\n",
            "Enter marks of second subject: 85\n",
            "Enter marks of third subject: 96\n",
            "Total marks of the three subjects are:  255\n"
          ]
        }
      ]
    },
    {
      "cell_type": "code",
      "source": [
        "# write a program to find perimeter and area of a triangle, area=0.5*base*height    perimeter=a+b+c\n",
        "side_1 = int(input(\"Enter length of first side\"))\n",
        "side_2 = int(input(\"Enter length of second side\"))\n",
        "side_3 = int(input(\"Enter length of third side\"))\n",
        "\n",
        "perimeter = side_1 + side_2 + side_3\n",
        "s = perimeter/2\n",
        "\n",
        "area = (s*(s-side_1)*(s-side_2)*(s-side_3))**0.5   # heron's formula\n",
        "\n",
        "print(\"The area is\", area)\n",
        "print(\"The perimeter is\", perimeter)"
      ],
      "metadata": {
        "colab": {
          "base_uri": "https://localhost:8080/"
        },
        "id": "aQZIShn-kTo-",
        "outputId": "c25521fa-2830-4e4a-c924-ac0aaf984412"
      },
      "execution_count": null,
      "outputs": [
        {
          "output_type": "stream",
          "name": "stdout",
          "text": [
            "Enter length of first side4\n",
            "Enter length of second side3\n",
            "Enter length of third side5\n",
            "The area is 6.0\n",
            "The perimeter is 12\n"
          ]
        }
      ]
    },
    {
      "cell_type": "code",
      "source": [
        "#write a program to convert Farenhiet to Celcius F − 32 × 5/9 \n",
        "fahrenheit = int(input(\"Enter temperature in Fahrenheit: \"))\n",
        "celsius = (fahrenheit-32)*(5/9)\n",
        "print(\"The temperature in Celsius is: \", celsius)\n"
      ],
      "metadata": {
        "colab": {
          "base_uri": "https://localhost:8080/"
        },
        "id": "2mjVMEWSkdty",
        "outputId": "a3c0a7ef-42fb-444c-ac7d-6a71fa305cbf"
      },
      "execution_count": null,
      "outputs": [
        {
          "output_type": "stream",
          "name": "stdout",
          "text": [
            "Enter temperature in Fahrenheit: 98\n",
            "The temperature in Celsius is:  36.66666666666667\n"
          ]
        }
      ]
    },
    {
      "cell_type": "markdown",
      "metadata": {
        "id": "5gchytsRhAg3"
      },
      "source": [
        "1. declarative\n",
        "2. calculative\n",
        "3. control flow----- statement(if, if else, if ladder,nested if) and loops(for, while)\n",
        "\n",
        "        if condition:\n",
        "            work1\n",
        "            work2\n",
        "            work2\n",
        "\n",
        "\n",
        "        if condition:\n",
        "            work 1\n",
        "            work2\n",
        "            work3\n",
        "        else:\n",
        "            work4\n",
        "            work5\n",
        "            work6\n",
        "\n",
        "        if conditon1:\n",
        "            work 1\n",
        "            work2\n",
        "        elif condtion2:\n",
        "            work 3\n",
        "            work 4\n",
        "        elif conditon 3:\n",
        "            work 5\n",
        "            work6\n",
        "        ..... n conditon\n",
        "        else:\n",
        "            work n-1\n",
        "            work n\n",
        "         \n",
        "        if conditon1:\n",
        "            if condtion 2:\n",
        "                if conditon3:\n",
        "                .....n  conditons\n",
        "                else:\n",
        "\n",
        "            else:"
      ]
    },
    {
      "cell_type": "code",
      "metadata": {
        "colab": {
          "base_uri": "https://localhost:8080/"
        },
        "id": "BDaPEZvRjaF9",
        "outputId": "d0805f5d-7a4c-471d-e0ec-06901875606e"
      },
      "source": [
        "# even or odd\n",
        "num=int(input(\"enter a number:\"))\n",
        "if num%2 == 0:\n",
        "    print(\"even\")"
      ],
      "execution_count": null,
      "outputs": [
        {
          "output_type": "stream",
          "text": [
            "enter a number:30\n",
            "even\n"
          ],
          "name": "stdout"
        }
      ]
    },
    {
      "cell_type": "code",
      "metadata": {
        "colab": {
          "base_uri": "https://localhost:8080/"
        },
        "id": "IabI-K9HkJMX",
        "outputId": "6d03cb3a-da56-4db4-ce67-22cc8c5e4f44"
      },
      "source": [
        "# even or odd\n",
        "num=int(input(\"enter a number:\"))\n",
        "if num%2 == 0:\n",
        "    print(\"even\")"
      ],
      "execution_count": null,
      "outputs": [
        {
          "output_type": "stream",
          "text": [
            "enter a number:25\n"
          ],
          "name": "stdout"
        }
      ]
    },
    {
      "cell_type": "code",
      "metadata": {
        "colab": {
          "base_uri": "https://localhost:8080/"
        },
        "id": "52BpnY3JkLSg",
        "outputId": "0790da35-6280-4825-dd66-981312b467f4"
      },
      "source": [
        "# even or odd\n",
        "num=int(input(\"enter a number:\"))\n",
        "if num%2 == 0:\n",
        "    print(\"even\")\n",
        "else:\n",
        "    print(\"odd\")"
      ],
      "execution_count": null,
      "outputs": [
        {
          "output_type": "stream",
          "text": [
            "enter a number:25\n",
            "odd\n"
          ],
          "name": "stdout"
        }
      ]
    },
    {
      "cell_type": "code",
      "metadata": {
        "colab": {
          "base_uri": "https://localhost:8080/"
        },
        "id": "WiZA55COccgd",
        "outputId": "9d13e052-75a9-42a4-c241-02bb519e8fa3"
      },
      "source": [
        "# calculator on basis of given operator\n",
        "num1=int(input(\"enter a number1:\"))\n",
        "num2=int(input(\"enter a number2:\"))\n",
        "op=input(\"enter operator:\")\n",
        "if op == \"+\":\n",
        "    print(num1+num2)\n",
        "elif op==\"-\":\n",
        "    print(num1-num2)\n",
        "elif op==\"*\":\n",
        "    print(num1*num2)\n",
        "elif op==\"/\":\n",
        "    print(num1/num2)"
      ],
      "execution_count": null,
      "outputs": [
        {
          "output_type": "stream",
          "text": [
            "enter a number1:60\n",
            "enter a number2:30\n",
            "enter operator:.\n"
          ],
          "name": "stdout"
        }
      ]
    },
    {
      "cell_type": "code",
      "metadata": {
        "colab": {
          "base_uri": "https://localhost:8080/"
        },
        "id": "PYSOdIXLk73U",
        "outputId": "77be958d-9bbf-4707-e907-755e0e4bfc5b"
      },
      "source": [
        "num1=int(input(\"enter a number1:\"))\n",
        "num2=int(input(\"enter a number2:\"))\n",
        "op=input(\"enter operator:\")\n",
        "if op == \"+\":\n",
        "    print(num1+num2)\n",
        "elif op==\"-\":\n",
        "    print(num1-num2)\n",
        "elif op==\"*\":\n",
        "    print(num1*num2)\n",
        "elif op==\"/\":\n",
        "    print(num1/num2)\n",
        "else:\n",
        "    print(\"invalid operator\")"
      ],
      "execution_count": null,
      "outputs": [
        {
          "output_type": "stream",
          "text": [
            "enter a number1:20\n",
            "enter a number2:30\n",
            "enter operator:/\n",
            "0.6666666666666666\n"
          ],
          "name": "stdout"
        }
      ]
    }
  ]
}