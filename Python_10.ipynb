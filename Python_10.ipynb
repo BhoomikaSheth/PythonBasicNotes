{
  "cells": [
    {
      "cell_type": "markdown",
      "metadata": {
        "id": "view-in-github",
        "colab_type": "text"
      },
      "source": [
        "<a href=\"https://colab.research.google.com/github/BhoomikaSheth/PythonBasicNotes/blob/main/Python_10.ipynb\" target=\"_parent\"><img src=\"https://colab.research.google.com/assets/colab-badge.svg\" alt=\"Open In Colab\"/></a>"
      ]
    },
    {
      "cell_type": "code",
      "execution_count": null,
      "metadata": {
        "colab": {
          "base_uri": "https://localhost:8080/"
        },
        "id": "oZlw2n9v1zHT",
        "outputId": "e3031e59-8116-4893-f870-86c0eb1d9111"
      },
      "outputs": [
        {
          "data": {
            "text/plain": [
              "3.56"
            ]
          },
          "execution_count": 1,
          "metadata": {},
          "output_type": "execute_result"
        }
      ],
      "source": [
        "abs(3.56)"
      ]
    },
    {
      "cell_type": "code",
      "execution_count": null,
      "metadata": {
        "colab": {
          "base_uri": "https://localhost:8080/"
        },
        "id": "mY3-f7QW196Q",
        "outputId": "2583948e-5c52-44a7-d9e5-d30b20d29347"
      },
      "outputs": [
        {
          "data": {
            "text/plain": [
              "6.324555320336759"
            ]
          },
          "execution_count": 2,
          "metadata": {},
          "output_type": "execute_result"
        }
      ],
      "source": [
        "abs(6+2j)"
      ]
    },
    {
      "cell_type": "code",
      "execution_count": null,
      "metadata": {
        "colab": {
          "base_uri": "https://localhost:8080/"
        },
        "id": "9oblcUW02CAg",
        "outputId": "e4691b8b-29ca-4a66-a92e-a4d06de4c2c3"
      },
      "outputs": [
        {
          "data": {
            "text/plain": [
              "3.15"
            ]
          },
          "execution_count": 3,
          "metadata": {},
          "output_type": "execute_result"
        }
      ],
      "source": [
        "abs(-3.15)"
      ]
    },
    {
      "cell_type": "code",
      "execution_count": null,
      "metadata": {
        "colab": {
          "base_uri": "https://localhost:8080/"
        },
        "id": "aodVwl972FNJ",
        "outputId": "7556a760-0508-4837-c4bf-950962951d11"
      },
      "outputs": [
        {
          "data": {
            "text/plain": [
              "False"
            ]
          },
          "execution_count": 4,
          "metadata": {},
          "output_type": "execute_result"
        }
      ],
      "source": [
        "seq=(12,54,0,True,\"asdf\",False)\n",
        "all(seq)"
      ]
    },
    {
      "cell_type": "code",
      "execution_count": null,
      "metadata": {
        "colab": {
          "base_uri": "https://localhost:8080/"
        },
        "id": "kGoehrZP2Q-b",
        "outputId": "6e7ef16b-5ac3-4a8a-e58e-bb9e961bf970"
      },
      "outputs": [
        {
          "data": {
            "text/plain": [
              "True"
            ]
          },
          "execution_count": 5,
          "metadata": {},
          "output_type": "execute_result"
        }
      ],
      "source": [
        "seq=(12,54,True,\"asdf\")\n",
        "all(seq)"
      ]
    },
    {
      "cell_type": "code",
      "execution_count": null,
      "metadata": {
        "colab": {
          "base_uri": "https://localhost:8080/"
        },
        "id": "RbWILlQi2ax5",
        "outputId": "66d25c36-b5c5-42ce-89dc-a7d9a0b4b2cd"
      },
      "outputs": [
        {
          "data": {
            "text/plain": [
              "True"
            ]
          },
          "execution_count": 6,
          "metadata": {},
          "output_type": "execute_result"
        }
      ],
      "source": [
        "seq=(12,54,True,\"asdf\")\n",
        "any(seq)"
      ]
    },
    {
      "cell_type": "code",
      "execution_count": null,
      "metadata": {
        "colab": {
          "base_uri": "https://localhost:8080/"
        },
        "id": "WM1ljaxv2eAB",
        "outputId": "49aedd2c-2c12-4bb9-fb50-77de9f36feb6"
      },
      "outputs": [
        {
          "data": {
            "text/plain": [
              "True"
            ]
          },
          "execution_count": 7,
          "metadata": {},
          "output_type": "execute_result"
        }
      ],
      "source": [
        "seq=(12,54,0,True,\"asdf\",False)\n",
        "any(seq)"
      ]
    },
    {
      "cell_type": "code",
      "execution_count": null,
      "metadata": {
        "colab": {
          "base_uri": "https://localhost:8080/"
        },
        "id": "bXIs-4he2r63",
        "outputId": "064a9870-9401-4006-a20d-abb14f13efdb"
      },
      "outputs": [
        {
          "name": "stdout",
          "output_type": "stream",
          "text": [
            "Help on built-in function ascii in module builtins:\n",
            "\n",
            "ascii(obj, /)\n",
            "    Return an ASCII-only representation of an object.\n",
            "    \n",
            "    As repr(), return a string containing a printable representation of an\n",
            "    object, but escape the non-ASCII characters in the string returned by\n",
            "    repr() using \\\\x, \\\\u or \\\\U escapes. This generates a string similar\n",
            "    to that returned by repr() in Python 2.\n",
            "\n"
          ]
        }
      ],
      "source": [
        "help(ascii)"
      ]
    },
    {
      "cell_type": "code",
      "execution_count": null,
      "metadata": {
        "colab": {
          "base_uri": "https://localhost:8080/",
          "height": 35
        },
        "id": "j-cRlwgH2lXA",
        "outputId": "7d63a34c-1594-4f38-b322-0ff8dd8adcd5"
      },
      "outputs": [
        {
          "data": {
            "application/vnd.google.colaboratory.intrinsic+json": {
              "type": "string"
            },
            "text/plain": [
              "'65'"
            ]
          },
          "execution_count": 9,
          "metadata": {},
          "output_type": "execute_result"
        }
      ],
      "source": [
        "ascii(65)"
      ]
    },
    {
      "cell_type": "code",
      "source": [
        "x=5\n",
        "y=0\n",
        "bool(x),bool(y)"
      ],
      "metadata": {
        "colab": {
          "base_uri": "https://localhost:8080/"
        },
        "id": "TRQ4xPq8chOt",
        "outputId": "1facc078-e5ac-44d5-d67c-c59c81e26527"
      },
      "execution_count": null,
      "outputs": [
        {
          "output_type": "execute_result",
          "data": {
            "text/plain": [
              "(True, False)"
            ]
          },
          "metadata": {},
          "execution_count": 1
        }
      ]
    },
    {
      "cell_type": "code",
      "execution_count": null,
      "metadata": {
        "colab": {
          "base_uri": "https://localhost:8080/"
        },
        "id": "QuW-6NUS3McN",
        "outputId": "242a577a-b06b-4725-81a6-3242b53c0490"
      },
      "outputs": [
        {
          "output_type": "execute_result",
          "data": {
            "text/plain": [
              "True"
            ]
          },
          "metadata": {},
          "execution_count": 3
        }
      ],
      "source": [
        "bool([1,23])"
      ]
    },
    {
      "cell_type": "code",
      "execution_count": null,
      "metadata": {
        "colab": {
          "base_uri": "https://localhost:8080/"
        },
        "id": "zq-Ki6Bs3O8_",
        "outputId": "b48f57e0-5bf3-42ab-8b65-bdb3097ea169"
      },
      "outputs": [
        {
          "output_type": "execute_result",
          "data": {
            "text/plain": [
              "True"
            ]
          },
          "metadata": {},
          "execution_count": 2
        }
      ],
      "source": [
        "bool([0,0])"
      ]
    },
    {
      "cell_type": "code",
      "execution_count": null,
      "metadata": {
        "colab": {
          "base_uri": "https://localhost:8080/",
          "height": 35
        },
        "id": "PMXp9oDt3TqI",
        "outputId": "d249da0f-3eb3-4726-9ef4-0dded1edd781"
      },
      "outputs": [
        {
          "data": {
            "application/vnd.google.colaboratory.intrinsic+json": {
              "type": "string"
            },
            "text/plain": [
              "'0b100000000'"
            ]
          },
          "execution_count": 16,
          "metadata": {},
          "output_type": "execute_result"
        }
      ],
      "source": [
        "bin(256)"
      ]
    },
    {
      "cell_type": "code",
      "execution_count": null,
      "metadata": {
        "colab": {
          "base_uri": "https://localhost:8080/",
          "height": 35
        },
        "id": "N8yGKuTK2-TL",
        "outputId": "7d560072-e032-469d-8b02-c4b34382c804"
      },
      "outputs": [
        {
          "data": {
            "application/vnd.google.colaboratory.intrinsic+json": {
              "type": "string"
            },
            "text/plain": [
              "'A'"
            ]
          },
          "execution_count": 12,
          "metadata": {},
          "output_type": "execute_result"
        }
      ],
      "source": [
        "chr(65)"
      ]
    },
    {
      "cell_type": "code",
      "source": [
        "dir(list)"
      ],
      "metadata": {
        "colab": {
          "base_uri": "https://localhost:8080/"
        },
        "id": "ac6e_QjKdG_u",
        "outputId": "6b837483-0405-4bfe-ab53-dd492c68cafc"
      },
      "execution_count": null,
      "outputs": [
        {
          "output_type": "execute_result",
          "data": {
            "text/plain": [
              "['__add__',\n",
              " '__class__',\n",
              " '__contains__',\n",
              " '__delattr__',\n",
              " '__delitem__',\n",
              " '__dir__',\n",
              " '__doc__',\n",
              " '__eq__',\n",
              " '__format__',\n",
              " '__ge__',\n",
              " '__getattribute__',\n",
              " '__getitem__',\n",
              " '__gt__',\n",
              " '__hash__',\n",
              " '__iadd__',\n",
              " '__imul__',\n",
              " '__init__',\n",
              " '__init_subclass__',\n",
              " '__iter__',\n",
              " '__le__',\n",
              " '__len__',\n",
              " '__lt__',\n",
              " '__mul__',\n",
              " '__ne__',\n",
              " '__new__',\n",
              " '__reduce__',\n",
              " '__reduce_ex__',\n",
              " '__repr__',\n",
              " '__reversed__',\n",
              " '__rmul__',\n",
              " '__setattr__',\n",
              " '__setitem__',\n",
              " '__sizeof__',\n",
              " '__str__',\n",
              " '__subclasshook__',\n",
              " 'append',\n",
              " 'clear',\n",
              " 'copy',\n",
              " 'count',\n",
              " 'extend',\n",
              " 'index',\n",
              " 'insert',\n",
              " 'pop',\n",
              " 'remove',\n",
              " 'reverse',\n",
              " 'sort']"
            ]
          },
          "metadata": {},
          "execution_count": 4
        }
      ]
    },
    {
      "cell_type": "code",
      "source": [
        "divmod(17,3)"
      ],
      "metadata": {
        "colab": {
          "base_uri": "https://localhost:8080/"
        },
        "id": "wg1D5laTdL9m",
        "outputId": "b02ef80b-a468-478a-afab-26b169a31b32"
      },
      "execution_count": null,
      "outputs": [
        {
          "output_type": "execute_result",
          "data": {
            "text/plain": [
              "(5, 2)"
            ]
          },
          "metadata": {},
          "execution_count": 5
        }
      ]
    },
    {
      "cell_type": "code",
      "source": [
        "dict(data1=[\"name\",\"age\"],data2=[\"rahul\",35])"
      ],
      "metadata": {
        "colab": {
          "base_uri": "https://localhost:8080/"
        },
        "id": "6vkqbBfndP_p",
        "outputId": "3440c58c-26e7-4911-e66b-0a31bb9ca41f"
      },
      "execution_count": null,
      "outputs": [
        {
          "output_type": "execute_result",
          "data": {
            "text/plain": [
              "{'data1': ['name', 'age'], 'data2': ['rahul', 35]}"
            ]
          },
          "metadata": {},
          "execution_count": 14
        }
      ]
    },
    {
      "cell_type": "code",
      "execution_count": null,
      "metadata": {
        "colab": {
          "base_uri": "https://localhost:8080/"
        },
        "id": "8FxEsFIb3ntW",
        "outputId": "f2d92652-df5c-48c0-f4bd-99669850d492"
      },
      "outputs": [
        {
          "data": {
            "text/plain": [
              "<enumerate at 0x7f9a4df8e820>"
            ]
          },
          "execution_count": 17,
          "metadata": {},
          "output_type": "execute_result"
        }
      ],
      "source": [
        "enumerate(seq)"
      ]
    },
    {
      "cell_type": "code",
      "execution_count": null,
      "metadata": {
        "colab": {
          "base_uri": "https://localhost:8080/"
        },
        "id": "yj0NyHDx3wKY",
        "outputId": "eabf5dd8-8468-40ea-d1eb-394104f8bcdb"
      },
      "outputs": [
        {
          "data": {
            "text/plain": [
              "((0, 12), (1, 54), (2, 0), (3, True), (4, 'asdf'), (5, False))"
            ]
          },
          "execution_count": 18,
          "metadata": {},
          "output_type": "execute_result"
        }
      ],
      "source": [
        "tuple(enumerate(seq))   # seq could be any sequence and output of enumerate can be converted to any sequence"
      ]
    },
    {
      "cell_type": "code",
      "source": [
        "float(25)"
      ],
      "metadata": {
        "colab": {
          "base_uri": "https://localhost:8080/"
        },
        "id": "5caiJxUSex-X",
        "outputId": "a8fcf757-7724-4174-ef8c-808205c9b0ff"
      },
      "execution_count": null,
      "outputs": [
        {
          "output_type": "execute_result",
          "data": {
            "text/plain": [
              "25.0"
            ]
          },
          "metadata": {},
          "execution_count": 15
        }
      ]
    },
    {
      "cell_type": "code",
      "source": [
        "age=25\n",
        "name=\"sunny\"\n",
        "print(\"my name is {} and my age is {}\".format(name,age))  # {} are called placeholders, they can have labels"
      ],
      "metadata": {
        "colab": {
          "base_uri": "https://localhost:8080/"
        },
        "id": "DnUjWQtqez8b",
        "outputId": "cc5f065f-279d-4ea7-d3b3-ebe960b00a9b"
      },
      "execution_count": null,
      "outputs": [
        {
          "output_type": "stream",
          "name": "stdout",
          "text": [
            "my name is sunny and my age is 25\n"
          ]
        }
      ]
    },
    {
      "cell_type": "code",
      "source": [
        "age=25\n",
        "name=\"sunny\"\n",
        "print(\"my name is {0} and my age is {1}. I am {1} years old\".format(name,age))  # {} are called placeholders, they can have labels"
      ],
      "metadata": {
        "colab": {
          "base_uri": "https://localhost:8080/"
        },
        "id": "NppLQDa0fFyi",
        "outputId": "5d9e86e6-595d-4aad-8678-c242c795a629"
      },
      "execution_count": null,
      "outputs": [
        {
          "output_type": "stream",
          "name": "stdout",
          "text": [
            "my name is sunny and my age is 25. I am 25 years old\n"
          ]
        }
      ]
    },
    {
      "cell_type": "code",
      "source": [
        "ages=[15,63,87,52,14,25,36,19]\n",
        "def can_vote(num):\n",
        "  if num>=18:\n",
        "    return True\n",
        "  else:\n",
        "    return False\n",
        "adults=filter(can_vote,ages)\n",
        "adults"
      ],
      "metadata": {
        "colab": {
          "base_uri": "https://localhost:8080/"
        },
        "id": "3g_jeq0CY6Da",
        "outputId": "2f5d29bc-cc55-474d-8fe6-9c6900da9ef1"
      },
      "execution_count": null,
      "outputs": [
        {
          "output_type": "execute_result",
          "data": {
            "text/plain": [
              "<filter at 0x7f5028995910>"
            ]
          },
          "metadata": {},
          "execution_count": 1
        }
      ]
    },
    {
      "cell_type": "code",
      "source": [
        "tuple(adults)"
      ],
      "metadata": {
        "colab": {
          "base_uri": "https://localhost:8080/"
        },
        "id": "IMS8l_H3Yz9E",
        "outputId": "4734e38f-0d41-45a8-d12b-0b663c53158d"
      },
      "execution_count": null,
      "outputs": [
        {
          "output_type": "execute_result",
          "data": {
            "text/plain": [
              "(63, 87, 52, 25, 36, 19)"
            ]
          },
          "metadata": {},
          "execution_count": 2
        }
      ]
    },
    {
      "cell_type": "code",
      "source": [
        "help(input)"
      ],
      "metadata": {
        "colab": {
          "base_uri": "https://localhost:8080/"
        },
        "id": "kC2jTlw8faNl",
        "outputId": "f3fd0ba2-adb7-4412-b231-a2681b451bf8"
      },
      "execution_count": null,
      "outputs": [
        {
          "output_type": "stream",
          "name": "stdout",
          "text": [
            "Help on method raw_input in module ipykernel.kernelbase:\n",
            "\n",
            "raw_input(prompt='') method of google.colab._kernel.Kernel instance\n",
            "    Forward raw_input to frontends\n",
            "    \n",
            "    Raises\n",
            "    ------\n",
            "    StdinNotImplentedError if active frontend doesn't support stdin.\n",
            "\n"
          ]
        }
      ]
    },
    {
      "cell_type": "code",
      "source": [
        "hex(10)"
      ],
      "metadata": {
        "colab": {
          "base_uri": "https://localhost:8080/",
          "height": 35
        },
        "id": "2vVg5GeTfc1e",
        "outputId": "7aa9ea8c-5bc9-4e65-b4fe-c05a91f3f192"
      },
      "execution_count": null,
      "outputs": [
        {
          "output_type": "execute_result",
          "data": {
            "text/plain": [
              "'0xa'"
            ],
            "application/vnd.google.colaboratory.intrinsic+json": {
              "type": "string"
            }
          },
          "metadata": {},
          "execution_count": 19
        }
      ]
    },
    {
      "cell_type": "code",
      "source": [
        "input(\"Enter any data:\")"
      ],
      "metadata": {
        "colab": {
          "base_uri": "https://localhost:8080/",
          "height": 52
        },
        "id": "jAQUVah9flcy",
        "outputId": "1e77fbbf-4b2e-4f02-d856-71e94239cad2"
      },
      "execution_count": null,
      "outputs": [
        {
          "name": "stdout",
          "output_type": "stream",
          "text": [
            "Enter any data:12\n"
          ]
        },
        {
          "output_type": "execute_result",
          "data": {
            "text/plain": [
              "'12'"
            ],
            "application/vnd.google.colaboratory.intrinsic+json": {
              "type": "string"
            }
          },
          "metadata": {},
          "execution_count": 20
        }
      ]
    },
    {
      "cell_type": "code",
      "source": [
        "int(5.3),int(5.5),int(5.7)"
      ],
      "metadata": {
        "colab": {
          "base_uri": "https://localhost:8080/"
        },
        "id": "Q2NybEyOfreI",
        "outputId": "47ad526b-c12f-4a5b-e5bf-d1ebf3544e1e"
      },
      "execution_count": null,
      "outputs": [
        {
          "output_type": "execute_result",
          "data": {
            "text/plain": [
              "(5, 5, 5)"
            ]
          },
          "metadata": {},
          "execution_count": 22
        }
      ]
    },
    {
      "cell_type": "code",
      "source": [
        "list(\"hello\")"
      ],
      "metadata": {
        "colab": {
          "base_uri": "https://localhost:8080/"
        },
        "id": "3Oqq1KlRfztK",
        "outputId": "aaea92e4-6146-47b5-fcab-9c9c2504e1bd"
      },
      "execution_count": null,
      "outputs": [
        {
          "output_type": "execute_result",
          "data": {
            "text/plain": [
              "['h', 'e', 'l', 'l', 'o']"
            ]
          },
          "metadata": {},
          "execution_count": 23
        }
      ]
    },
    {
      "cell_type": "code",
      "source": [
        "len(\"hellllo\")"
      ],
      "metadata": {
        "colab": {
          "base_uri": "https://localhost:8080/"
        },
        "id": "L3JNdyZof6ll",
        "outputId": "9939ebe4-7aa6-4ad4-92e0-33d6be339e94"
      },
      "execution_count": null,
      "outputs": [
        {
          "output_type": "execute_result",
          "data": {
            "text/plain": [
              "7"
            ]
          },
          "metadata": {},
          "execution_count": 24
        }
      ]
    },
    {
      "cell_type": "code",
      "source": [
        "max(\"1234567sdfghjk\")"
      ],
      "metadata": {
        "colab": {
          "base_uri": "https://localhost:8080/",
          "height": 35
        },
        "id": "26Helhihf_Vs",
        "outputId": "4b114f37-4c85-4d0a-c431-99d6c4a3ed6b"
      },
      "execution_count": null,
      "outputs": [
        {
          "output_type": "execute_result",
          "data": {
            "text/plain": [
              "'s'"
            ],
            "application/vnd.google.colaboratory.intrinsic+json": {
              "type": "string"
            }
          },
          "metadata": {},
          "execution_count": 25
        }
      ]
    },
    {
      "cell_type": "code",
      "source": [
        "l=[15,63,87,52,14,25,36,19]\n",
        "def double(num):\n",
        "    return num*2\n",
        "l2=map(double,l)\n",
        "l2"
      ],
      "metadata": {
        "colab": {
          "base_uri": "https://localhost:8080/"
        },
        "id": "AfXM354ohpcq",
        "outputId": "a06bd676-d439-4e92-c565-b6593d5ef3de"
      },
      "execution_count": null,
      "outputs": [
        {
          "output_type": "execute_result",
          "data": {
            "text/plain": [
              "<map at 0x7f3b20669ad0>"
            ]
          },
          "metadata": {},
          "execution_count": 42
        }
      ]
    },
    {
      "cell_type": "code",
      "source": [
        "list(l2)"
      ],
      "metadata": {
        "colab": {
          "base_uri": "https://localhost:8080/"
        },
        "id": "RTG0DLhOh25W",
        "outputId": "7c4fcef2-a90f-44b6-b82f-5659783948f3"
      },
      "execution_count": null,
      "outputs": [
        {
          "output_type": "execute_result",
          "data": {
            "text/plain": [
              "[30, 126, 174, 104, 28, 50, 72, 38]"
            ]
          },
          "metadata": {},
          "execution_count": 43
        }
      ]
    },
    {
      "cell_type": "code",
      "source": [
        "min(3,5,6,9,12)"
      ],
      "metadata": {
        "colab": {
          "base_uri": "https://localhost:8080/"
        },
        "id": "VxDO5ZL1gBbX",
        "outputId": "7ba8c277-094b-449d-df6f-ffd3a0001e49"
      },
      "execution_count": null,
      "outputs": [
        {
          "output_type": "execute_result",
          "data": {
            "text/plain": [
              "3"
            ]
          },
          "metadata": {},
          "execution_count": 26
        }
      ]
    },
    {
      "cell_type": "code",
      "source": [
        "oct(10)"
      ],
      "metadata": {
        "colab": {
          "base_uri": "https://localhost:8080/",
          "height": 35
        },
        "id": "rit7ev3qgEfK",
        "outputId": "f7a21174-f9b4-4d8b-ad00-27567d18c4bb"
      },
      "execution_count": null,
      "outputs": [
        {
          "output_type": "execute_result",
          "data": {
            "text/plain": [
              "'0o12'"
            ],
            "application/vnd.google.colaboratory.intrinsic+json": {
              "type": "string"
            }
          },
          "metadata": {},
          "execution_count": 27
        }
      ]
    },
    {
      "cell_type": "code",
      "execution_count": null,
      "metadata": {
        "colab": {
          "base_uri": "https://localhost:8080/"
        },
        "id": "1F3AnL6f27m_",
        "outputId": "c4a61f58-85c3-444f-e544-8ef6c7c2f379"
      },
      "outputs": [
        {
          "data": {
            "text/plain": [
              "65"
            ]
          },
          "execution_count": 11,
          "metadata": {},
          "output_type": "execute_result"
        }
      ],
      "source": [
        "ord(\"A\")"
      ]
    },
    {
      "cell_type": "code",
      "execution_count": null,
      "metadata": {
        "colab": {
          "base_uri": "https://localhost:8080/"
        },
        "id": "YLNVmpG44qHh",
        "outputId": "e28a8afe-69e1-48e3-b0be-a2412ce739b9"
      },
      "outputs": [
        {
          "data": {
            "text/plain": [
              "32"
            ]
          },
          "execution_count": 21,
          "metadata": {},
          "output_type": "execute_result"
        }
      ],
      "source": [
        "pow(2,5)   # 2**5"
      ]
    },
    {
      "cell_type": "code",
      "execution_count": null,
      "metadata": {
        "colab": {
          "base_uri": "https://localhost:8080/"
        },
        "id": "X46U6ohY40Wv",
        "outputId": "dbbd9fed-adff-48f8-9330-9138c778b31b"
      },
      "outputs": [
        {
          "data": {
            "text/plain": [
              "5.0"
            ]
          },
          "execution_count": 22,
          "metadata": {},
          "output_type": "execute_result"
        }
      ],
      "source": [
        "pow(25,(1/2))"
      ]
    },
    {
      "cell_type": "code",
      "source": [
        "print(\"defrtgyhujikl;\")"
      ],
      "metadata": {
        "colab": {
          "base_uri": "https://localhost:8080/"
        },
        "id": "ss5tOho0gJtg",
        "outputId": "0de54379-f1fb-4484-b28e-bf343a3292cd"
      },
      "execution_count": null,
      "outputs": [
        {
          "output_type": "stream",
          "name": "stdout",
          "text": [
            "defrtgyhujikl;\n"
          ]
        }
      ]
    },
    {
      "cell_type": "code",
      "source": [
        "tuple(reversed(\"hello\"))"
      ],
      "metadata": {
        "colab": {
          "base_uri": "https://localhost:8080/"
        },
        "id": "9zqyFrTMgXqj",
        "outputId": "63c1ec73-dab2-48bb-dc80-c3880d2b51e0"
      },
      "execution_count": null,
      "outputs": [
        {
          "output_type": "execute_result",
          "data": {
            "text/plain": [
              "('o', 'l', 'l', 'e', 'h')"
            ]
          },
          "metadata": {},
          "execution_count": 31
        }
      ]
    },
    {
      "cell_type": "code",
      "source": [
        "round(5.74589631,2)"
      ],
      "metadata": {
        "colab": {
          "base_uri": "https://localhost:8080/"
        },
        "id": "o7mkUZdegmtI",
        "outputId": "742358f9-19be-421d-a5bb-f853bd77954d"
      },
      "execution_count": null,
      "outputs": [
        {
          "output_type": "execute_result",
          "data": {
            "text/plain": [
              "5.75"
            ]
          },
          "metadata": {},
          "execution_count": 32
        }
      ]
    },
    {
      "cell_type": "code",
      "source": [
        "t=(23,56,90,78,65,47,32,74,36,55,99,11)\n",
        "o=slice(2,8,2)\n",
        "t[o]"
      ],
      "metadata": {
        "colab": {
          "base_uri": "https://localhost:8080/"
        },
        "id": "wa8C3nFrgsFY",
        "outputId": "7a745327-a6be-40bc-edf2-ed74b34e10fa"
      },
      "execution_count": null,
      "outputs": [
        {
          "output_type": "execute_result",
          "data": {
            "text/plain": [
              "(90, 65, 32)"
            ]
          },
          "metadata": {},
          "execution_count": 34
        }
      ]
    },
    {
      "cell_type": "code",
      "source": [
        "sorted(t)"
      ],
      "metadata": {
        "colab": {
          "base_uri": "https://localhost:8080/"
        },
        "id": "zVyzJljQhFRE",
        "outputId": "4c5b96f2-d534-42be-f7ca-97192a5ec510"
      },
      "execution_count": null,
      "outputs": [
        {
          "output_type": "execute_result",
          "data": {
            "text/plain": [
              "[11, 23, 32, 36, 47, 55, 56, 65, 74, 78, 90, 99]"
            ]
          },
          "metadata": {},
          "execution_count": 35
        }
      ]
    },
    {
      "cell_type": "code",
      "source": [
        "sorted(t,reverse=True)"
      ],
      "metadata": {
        "colab": {
          "base_uri": "https://localhost:8080/"
        },
        "id": "FLytxmpIhIkx",
        "outputId": "5b7571d5-58cd-48f0-f19c-42b6a1e165e5"
      },
      "execution_count": null,
      "outputs": [
        {
          "output_type": "execute_result",
          "data": {
            "text/plain": [
              "[99, 90, 78, 74, 65, 56, 55, 47, 36, 32, 23, 11]"
            ]
          },
          "metadata": {},
          "execution_count": 36
        }
      ]
    },
    {
      "cell_type": "code",
      "source": [
        "str(8.25)"
      ],
      "metadata": {
        "colab": {
          "base_uri": "https://localhost:8080/",
          "height": 35
        },
        "id": "ZqEU2qANhNFW",
        "outputId": "2cea973f-bc55-4f84-eeff-1d4cf3d5c5e4"
      },
      "execution_count": null,
      "outputs": [
        {
          "output_type": "execute_result",
          "data": {
            "text/plain": [
              "'8.25'"
            ],
            "application/vnd.google.colaboratory.intrinsic+json": {
              "type": "string"
            }
          },
          "metadata": {},
          "execution_count": 37
        }
      ]
    },
    {
      "cell_type": "code",
      "source": [
        "sum(t)"
      ],
      "metadata": {
        "colab": {
          "base_uri": "https://localhost:8080/"
        },
        "id": "ofR2FY25hPNT",
        "outputId": "67a7c4be-9020-4ba0-dd8a-0b2da52555a2"
      },
      "execution_count": null,
      "outputs": [
        {
          "output_type": "execute_result",
          "data": {
            "text/plain": [
              "666"
            ]
          },
          "metadata": {},
          "execution_count": 38
        }
      ]
    },
    {
      "cell_type": "code",
      "source": [
        "tuple([23,56,90,78,65])"
      ],
      "metadata": {
        "colab": {
          "base_uri": "https://localhost:8080/"
        },
        "id": "JJtQk1o_hTSg",
        "outputId": "ed5880be-6899-4a00-bde3-a7a48d9efa93"
      },
      "execution_count": null,
      "outputs": [
        {
          "output_type": "execute_result",
          "data": {
            "text/plain": [
              "(23, 56, 90, 78, 65)"
            ]
          },
          "metadata": {},
          "execution_count": 39
        }
      ]
    },
    {
      "cell_type": "code",
      "source": [
        "type(t)"
      ],
      "metadata": {
        "colab": {
          "base_uri": "https://localhost:8080/"
        },
        "id": "c9-xSqF1hXiX",
        "outputId": "99f642a0-e459-4435-8477-976dbdc5f7e7"
      },
      "execution_count": null,
      "outputs": [
        {
          "output_type": "execute_result",
          "data": {
            "text/plain": [
              "tuple"
            ]
          },
          "metadata": {},
          "execution_count": 40
        }
      ]
    },
    {
      "cell_type": "code",
      "execution_count": null,
      "metadata": {
        "colab": {
          "base_uri": "https://localhost:8080/"
        },
        "id": "5tAB8BKk36i5",
        "outputId": "926510ba-5f66-4d5c-cb75-923815424d1d"
      },
      "outputs": [
        {
          "data": {
            "text/plain": [
              "<zip at 0x7f9a4dfca7d0>"
            ]
          },
          "execution_count": 19,
          "metadata": {},
          "output_type": "execute_result"
        }
      ],
      "source": [
        "t0=(23,56,90,78,65)\n",
        "l0=[12,35,19,99]\n",
        "d0={14:25,36:45,63:25}\n",
        "zip(t0,l0,d0)"
      ]
    },
    {
      "cell_type": "code",
      "execution_count": null,
      "metadata": {
        "colab": {
          "base_uri": "https://localhost:8080/"
        },
        "id": "CT5RhCaG4ZpN",
        "outputId": "a4af25be-768a-4d62-e826-8532f9297e37"
      },
      "outputs": [
        {
          "data": {
            "text/plain": [
              "((23, 12, 14), (56, 35, 36), (90, 19, 63))"
            ]
          },
          "execution_count": 20,
          "metadata": {},
          "output_type": "execute_result"
        }
      ],
      "source": [
        "tuple(zip(t0,l0,d0))"
      ]
    },
    {
      "cell_type": "code",
      "source": [
        "#set and frozenset"
      ],
      "metadata": {
        "id": "yjmzObQHfPFL"
      },
      "execution_count": null,
      "outputs": []
    },
    {
      "cell_type": "markdown",
      "source": [
        "# set and frozen set: Set Theory\n",
        "\n",
        "⦁\tA set is an unordered collection of items. Every element is unique (no duplicates) and must be immutable (which cannot be changed).\n",
        "⦁\tHowever, the set itself is mutable. We can add or remove items from it.\n",
        "⦁\tSets can be used to perform mathematical set operations like union, intersection, symmetric difference etc.\n",
        "⦁\tA set is created by placing all the items (elements) inside curly braces {}, separated by comma or by using the built-in function set().\n",
        "⦁\tIt can have any number of items and they may be of different types (integer, float, tuple, string etc.). But a set cannot have a mutable element, like list, set or dictionary, as its element.\n",
        "⦁\tCreating an empty set is a bit tricky.\n",
        "⦁\tEmpty curly braces {} will make an empty dictionary in Python. To make a set without any elements we use the set() function without any argument.\n",
        "⦁\tSets are mutable. But since they are unordered, indexing have no meaning.\n",
        "⦁\tWe cannot access or change an element of set using indexing or slicing. Set does not support it.\n",
        "⦁\tWe can add single element using the add() method and multiple elements using the update() method. The update() method can take tuples, lists, strings or other sets as its argument. In all cases, duplicates are avoided.\n",
        "⦁\tA particular item can be removed from set using methods, discard() and remove().\n",
        "⦁\tThe only difference between the two is that, while using discard() if the item does not exist in the set, it remains unchanged. But remove() will raise an error in such condition.\n",
        "⦁\tSimilarly, we can remove and return an item using the pop() method.\n",
        "⦁\tSet being unordered, there is no way of determining which item will be popped. It is completely arbitrary.\n",
        "⦁\tWe can also remove all items from a set using clear().\n",
        "\n",
        "\n",
        "⦁\tUnion of A and B is a set of all elements from both sets. Union is performed using | operator. Same can be accomplished using the method union().\n",
        "⦁\tIntersection of A and B is a set of elements that are common in both sets. Intersection is performed using & operator. Same can be accomplished using the method intersection().\n",
        "⦁\tDifference of A and B (A - B) is a set of elements that are only in A but not in B. Similarly, B - A is a set of element in B but not in A. Difference is performed using - operator. Same can be accomplished using the method difference().\n",
        "⦁\tSymmetric Difference of A and B is a set of elements in both A and B except those that are common in both. Symmetric difference is performed using ^ operator. Same can be accomplished using the method symmetric_difference().\n",
        "⦁\tWe can test if an item exists in a set or not, using the keyword in.\n",
        "⦁\tUsing a for loop, we can iterate though each item in a set.\n",
        "\n",
        "\n",
        "\n",
        "\n",
        "![image.png](data:image/png;base64,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)"
      ],
      "metadata": {
        "id": "D8ugs0A9iOkF"
      }
    },
    {
      "cell_type": "markdown",
      "source": [
        "### frozenset\n",
        "\n",
        "⦁\tThe frozenset() method returns an immutable frozenset object initialized with elements from the given iterable. \n",
        "⦁\tFrozen set is just an immutable version of a Python set object.\n",
        "⦁\tSo lets see set first\n",
        "\n",
        "⦁\tWhile elements of a set can be modified at any time, elements of frozen set remains the same after creation.\n",
        "⦁\tDue to this, frozen sets can be used as key in Dictionary or as element of another set. But like sets, it is not ordered (the elements can be set at any index).\n",
        "⦁\tfrozenset([iterable])\n",
        "⦁\tThe frozenset() method optionally takes a single parameter:\n",
        "⦁\titerable (Optional) - the iterable which contains elements to initialize the frozenset with.\n",
        "Iterable can be set, dictionary, tuple, etc.\n",
        "⦁\tThe frozenset() method returns an immutable frozenset initialized with elements from the given iterable. \n",
        "⦁\tLike normal sets, frozenset can also perform different operations like union, intersection, etc. Check using dir function.\n"
      ],
      "metadata": {
        "id": "w27XZOehkju3"
      }
    },
    {
      "cell_type": "code",
      "source": [
        "# 1. Write a Python program to create a set. \n",
        "\n",
        "# 2. Write a Python program to iteration over sets. \n",
        "\n",
        "# 3. Write a Python program to add member(s) in a set. \n",
        "\n",
        "# 4. Write a Python program to remove item(s) from a given set. \n",
        "\n",
        "# 5. Write a Python program to remove an item from a set if it is present in the set.\n",
        "\n",
        "# 6. Write a Python program to create an intersection of sets.\n",
        "\n",
        "# 7. Write a Python program to create a union of sets. \n",
        "\n",
        "# 8. Write a Python program to create set difference. \n",
        "\n",
        "# 9. Write a Python program to create a symmetric difference. \n",
        "\n",
        "# 10. Write a Python program to check if a set is a subset of another set. \n",
        "\n",
        "# 11. Write a Python program to create a shallow copy of sets. \n",
        "\n",
        "# Note : Shallow copy is a bit-wise copy of an object. A new object is created that has an exact copy of the values in the original object.\n",
        "\n",
        "# 12. Write a Python program to remove all elements from a given set.\n",
        "\n",
        "# 13. Write a Python program to use of frozensets.\n",
        "# Note: Frozensets behave just like sets except they are immutable.\n",
        "\n",
        "# 14. Write a Python program to find maximum and the minimum value in a set.\n",
        "\n",
        "# 15. Write a Python program to find the length of a set.\n",
        "\n",
        "# 16. Write a Python program to check if a given value is present in a set or not. \n",
        "\n",
        "# 17. Write a Python program to check if two given sets have no elements in common.\n",
        "\n",
        "# 18. Write a Python program to check if a given set is superset of itself and superset of another given set\n",
        "\n",
        "# 19. Write a Python program to find the elements in a given set that are not in another set.\n",
        "\n",
        "# 20. Write a Python program to remove the intersection of a 2nd set from the 1st set\n"
      ],
      "metadata": {
        "id": "-mS2wjipjTNu"
      },
      "execution_count": null,
      "outputs": []
    }
  ],
  "metadata": {
    "colab": {
      "provenance": [],
      "collapsed_sections": [],
      "include_colab_link": true
    },
    "kernelspec": {
      "display_name": "Python 3",
      "name": "python3"
    },
    "language_info": {
      "name": "python"
    }
  },
  "nbformat": 4,
  "nbformat_minor": 0
}