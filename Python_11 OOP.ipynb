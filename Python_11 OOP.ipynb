{
  "nbformat": 4,
  "nbformat_minor": 0,
  "metadata": {
    "colab": {
      "provenance": [],
      "authorship_tag": "ABX9TyNX6qIY2D49Dq9lhuI2z/vX",
      "include_colab_link": true
    },
    "kernelspec": {
      "name": "python3",
      "display_name": "Python 3"
    },
    "language_info": {
      "name": "python"
    }
  },
  "cells": [
    {
      "cell_type": "markdown",
      "metadata": {
        "id": "view-in-github",
        "colab_type": "text"
      },
      "source": [
        "<a href=\"https://colab.research.google.com/github/BhoomikaSheth/PythonBasicNotes/blob/main/Python_11.ipynb\" target=\"_parent\"><img src=\"https://colab.research.google.com/assets/colab-badge.svg\" alt=\"Open In Colab\"/></a>"
      ]
    },
    {
      "cell_type": "markdown",
      "source": [
        "# OOP\n",
        "\n",
        "⦁\tObject Oriented Programming (OOP) is a design methodology used for developing large software. OOP allows us to break our problems into small units of work called objects and then we build functions around those objects.\n",
        "⦁\tThis enables us to create reusable code and remove unnecessary or redundant code. That is why this concept is also known as DRY (Don't Repeat Yourself).\n",
        "⦁\tThe four principles of OOP are:\n",
        "⦁\tInheritance\n",
        "⦁\tPolymorphism\n",
        "⦁\tAbstraction\n",
        "⦁\tEncapsulation\n",
        "\n",
        "\n",
        "The first letter of the name of a class must always be capital. "
      ],
      "metadata": {
        "id": "wHxfnRLxifmZ"
      }
    },
    {
      "cell_type": "code",
      "execution_count": 1,
      "metadata": {
        "id": "tz4Rng1SiYcN"
      },
      "outputs": [],
      "source": [
        "class MT:\n",
        "  pass\n",
        "obj=MT()"
      ]
    },
    {
      "cell_type": "code",
      "source": [
        "class Mobile:\n",
        "  length=6   # attributes or class variables\n",
        "  height=0.5\n",
        "  width=4\n",
        "  def call(number):\n",
        "    return \"processed call\"\n",
        "  def take_picture():\n",
        "    print(\"open cam app\")\n",
        "    return \"clicked picture\"\n",
        "phone1=Mobile()  # phone1 is my object\n",
        "phone1.length"
      ],
      "metadata": {
        "colab": {
          "base_uri": "https://localhost:8080/"
        },
        "id": "OclmKLnIisFy",
        "outputId": "be8d6f67-13bc-4fb5-b79b-9727a986dd66"
      },
      "execution_count": 2,
      "outputs": [
        {
          "output_type": "execute_result",
          "data": {
            "text/plain": [
              "6"
            ]
          },
          "metadata": {},
          "execution_count": 2
        }
      ]
    },
    {
      "cell_type": "code",
      "source": [
        "phone1.call(1234)"
      ],
      "metadata": {
        "colab": {
          "base_uri": "https://localhost:8080/",
          "height": 166
        },
        "id": "W1frlHZPiupG",
        "outputId": "caa05b5a-eee9-4347-ea15-083ef3a36d03"
      },
      "execution_count": 3,
      "outputs": [
        {
          "output_type": "error",
          "ename": "TypeError",
          "evalue": "ignored",
          "traceback": [
            "\u001b[0;31m---------------------------------------------------------------------------\u001b[0m",
            "\u001b[0;31mTypeError\u001b[0m                                 Traceback (most recent call last)",
            "\u001b[0;32m<ipython-input-3-c6d3535f380e>\u001b[0m in \u001b[0;36m<module>\u001b[0;34m\u001b[0m\n\u001b[0;32m----> 1\u001b[0;31m \u001b[0mphone1\u001b[0m\u001b[0;34m.\u001b[0m\u001b[0mcall\u001b[0m\u001b[0;34m(\u001b[0m\u001b[0;36m1234\u001b[0m\u001b[0;34m)\u001b[0m\u001b[0;34m\u001b[0m\u001b[0;34m\u001b[0m\u001b[0m\n\u001b[0m",
            "\u001b[0;31mTypeError\u001b[0m: call() takes 1 positional argument but 2 were given"
          ]
        }
      ]
    },
    {
      "cell_type": "code",
      "source": [
        "class Mobile:\n",
        "  def __init__(self):   # constructor\n",
        "    self.length=6   # attributes or class variables\n",
        "    self.height=0.5\n",
        "    self.width=4\n",
        "  def call(self,number):\n",
        "    return \"processed call\"\n",
        "  def take_picture(self):\n",
        "    print(\"open cam app\")\n",
        "    return \"clicked picture\"\n",
        "phone1=Mobile()  # phone1 is my object\n",
        "phone1.call(1234)"
      ],
      "metadata": {
        "colab": {
          "base_uri": "https://localhost:8080/",
          "height": 35
        },
        "id": "lYXAhEOZix7c",
        "outputId": "0429a410-07e7-40b3-d5f8-7ebed791780d"
      },
      "execution_count": 4,
      "outputs": [
        {
          "output_type": "execute_result",
          "data": {
            "text/plain": [
              "'processed call'"
            ],
            "application/vnd.google.colaboratory.intrinsic+json": {
              "type": "string"
            }
          },
          "metadata": {},
          "execution_count": 4
        }
      ]
    },
    {
      "cell_type": "code",
      "source": [
        "class Family:\n",
        "  def __init__(self, first_name, last_name, age, relation):\n",
        "    self.first_name = first_name\n",
        "    self.last_name = last_name\n",
        "    self.age = age\n",
        "    self.relation = relation\n",
        "  # We can also create a function, to generate the full name of a family member.\n",
        "  def full_name(self):\n",
        "    return self.first_name.title() + \" \" + self.last_name.title()\n",
        "father = Family('bob', 'parr', 40, 'father')\n",
        "mother = Family('helen', 'parr', 38, 'mother')\n",
        "sibling_1 = Family('violet', 'parr', 14, 'sister')\n",
        "sibling_2 = Family('dash', 'parr', 10, 'brother')\n",
        "\n",
        "father.full_name()"
      ],
      "metadata": {
        "colab": {
          "base_uri": "https://localhost:8080/",
          "height": 35
        },
        "id": "EnrAPOIbi04w",
        "outputId": "5baa476c-ef88-4f7d-a733-e867be8e3f30"
      },
      "execution_count": 5,
      "outputs": [
        {
          "output_type": "execute_result",
          "data": {
            "text/plain": [
              "'Bob Parr'"
            ],
            "application/vnd.google.colaboratory.intrinsic+json": {
              "type": "string"
            }
          },
          "metadata": {},
          "execution_count": 5
        }
      ]
    },
    {
      "cell_type": "code",
      "source": [
        "type(father)"
      ],
      "metadata": {
        "colab": {
          "base_uri": "https://localhost:8080/"
        },
        "id": "S6xlilVDi3qQ",
        "outputId": "04237e71-3bf2-4fb9-deeb-b96cb7632891"
      },
      "execution_count": 6,
      "outputs": [
        {
          "output_type": "execute_result",
          "data": {
            "text/plain": [
              "__main__.Family"
            ]
          },
          "metadata": {},
          "execution_count": 6
        }
      ]
    },
    {
      "cell_type": "code",
      "source": [
        "print(type(123))"
      ],
      "metadata": {
        "colab": {
          "base_uri": "https://localhost:8080/"
        },
        "id": "mrktXiJTi5w2",
        "outputId": "0820acf8-b9d4-405f-cecb-5ebb3e5a5d69"
      },
      "execution_count": 7,
      "outputs": [
        {
          "output_type": "stream",
          "name": "stdout",
          "text": [
            "<class 'int'>\n"
          ]
        }
      ]
    },
    {
      "cell_type": "code",
      "source": [
        "print(type([23,56]))"
      ],
      "metadata": {
        "colab": {
          "base_uri": "https://localhost:8080/"
        },
        "id": "yxJfVOSji8Kl",
        "outputId": "8d362de7-ff7e-4e88-8677-d0c731def14b"
      },
      "execution_count": 8,
      "outputs": [
        {
          "output_type": "stream",
          "name": "stdout",
          "text": [
            "<class 'list'>\n"
          ]
        }
      ]
    },
    {
      "cell_type": "code",
      "source": [
        "class Family:\n",
        "  def __init__(self, first_name, last_name, age, relation):  # instance variables\n",
        "    self.first_name = first_name\n",
        "    self.last_name = last_name\n",
        "    self.age = age\n",
        "    self.relation = relation\n",
        "  # We can also create a function, to generate the full name of a family member.\n",
        "  def full_name(self):\n",
        "    return self.first_name.title() + \" \" + self.last_name.title()\n",
        "  def __repr__(self):\n",
        "    return \"My Family class\"\n",
        "father = Family('bob', 'parr', 40, 'father')  # object/instance\n",
        "mother = Family('helen', 'parr', 38, 'mother')\n",
        "sibling_1 = Family('violet', 'parr', 14, 'sister')\n",
        "sibling_2 = Family('dash', 'parr', 10, 'brother')\n",
        "\n",
        "repr(mother)"
      ],
      "metadata": {
        "colab": {
          "base_uri": "https://localhost:8080/",
          "height": 35
        },
        "id": "jBWyHDtCi-GK",
        "outputId": "c786d00b-8aa2-4abb-911a-85e08630869f"
      },
      "execution_count": 9,
      "outputs": [
        {
          "output_type": "execute_result",
          "data": {
            "text/plain": [
              "'My Family class'"
            ],
            "application/vnd.google.colaboratory.intrinsic+json": {
              "type": "string"
            }
          },
          "metadata": {},
          "execution_count": 9
        }
      ]
    },
    {
      "cell_type": "code",
      "source": [
        "type(mother)"
      ],
      "metadata": {
        "colab": {
          "base_uri": "https://localhost:8080/"
        },
        "id": "52vPTpZzjAkJ",
        "outputId": "0757e1a6-0de0-43bd-a471-55befeb21ec6"
      },
      "execution_count": 10,
      "outputs": [
        {
          "output_type": "execute_result",
          "data": {
            "text/plain": [
              "__main__.Family"
            ]
          },
          "metadata": {},
          "execution_count": 10
        }
      ]
    },
    {
      "cell_type": "code",
      "source": [
        "class Bank:\n",
        "  interest_rate=0.05  # class variable\n",
        "  def __init__(self, first_name, last_name, account_num, uid,amount):  # instance variables\n",
        "    self.first_name = first_name\n",
        "    self.last_name = last_name\n",
        "    self.account_num = account_num\n",
        "    self.uid = uid\n",
        "    self.amount = amount\n",
        "  # We can also create a function, to generate the full name of a family member.\n",
        "  def full_name(self):\n",
        "    return self.first_name.title() + \" \" + self.last_name.title()\n",
        "  def __repr__(self):\n",
        "    return \"My Family class\"\n",
        "  def show_balance(self):\n",
        "    return self.amount\n",
        "\n",
        "  def balance_after_interest(self):\n",
        "    return self.amount+(self.amount*Bank.interest_rate) # prt/100  # Bank.interest_rate in a class variable which is being used in instance method\n",
        "  \n",
        "  @classmethod\n",
        "  def interest(cls): \n",
        "    #amt=Bank.show_balance()\n",
        "    return cls.interest_rate\n",
        "cus1 = Bank('bob', 'parr', 40123456, 123456789012,5000)  # object/instance\n",
        "\n",
        "cus1.interest(),cus1.balance_after_interest()"
      ],
      "metadata": {
        "colab": {
          "base_uri": "https://localhost:8080/"
        },
        "id": "_Rx1ZCvhjC_h",
        "outputId": "ad590448-e8e2-4d5b-b836-e3cd40d84bd9"
      },
      "execution_count": 11,
      "outputs": [
        {
          "output_type": "execute_result",
          "data": {
            "text/plain": [
              "(0.05, 5250.0)"
            ]
          },
          "metadata": {},
          "execution_count": 11
        }
      ]
    },
    {
      "cell_type": "code",
      "source": [
        "import random\n",
        "\n",
        "class Employee:\n",
        "\n",
        "  bonus_manager = 0.10\n",
        "  bonus_developer = 0.07\n",
        "  bonus_else = 0.05\n",
        "\n",
        "  def __init__(self, first_name, last_name, salary, contact, ID, designation): \n",
        "    self.first_name = first_name\n",
        "    self.last_name = last_name\n",
        "    self.salary = salary\n",
        "    self.contact = contact\n",
        "    self.ID = ID\n",
        "    self.designation = designation\n",
        "\n",
        "  def full_name(self):\n",
        "    return self.first_name.title() + \" \"+ self.last_name.title()\n",
        "  \n",
        "  def bonus(self):\n",
        "    if self.designation == \"Manager\": \n",
        "      return self.salary * self.bonus_manager\n",
        "    elif self.designation == \"Developer\": \n",
        "      return self.salary * self.bonus_developer\n",
        "    else: \n",
        "      return self.salary * self.bonus_else\n",
        "\n",
        "  @classmethod\n",
        "  def performancereview(cls): \n",
        "    return random.randint(50, 90)\n",
        "\n",
        "\n",
        "\n",
        "\n",
        "emp1 = Employee(\"Mark\", \"Sharma\", 100, 85674455, 332, 'Manager')\n",
        "emp1.bonus(), emp1.performancereview()                          \n",
        "\n",
        "  "
      ],
      "metadata": {
        "colab": {
          "base_uri": "https://localhost:8080/"
        },
        "id": "xKAkkm49jF_k",
        "outputId": "de9974bd-a330-4584-c0cd-81e93cd65999"
      },
      "execution_count": 12,
      "outputs": [
        {
          "output_type": "execute_result",
          "data": {
            "text/plain": [
              "(10.0, 74)"
            ]
          },
          "metadata": {},
          "execution_count": 12
        }
      ]
    },
    {
      "cell_type": "code",
      "source": [
        "class Bankaccount: \n",
        "  inr = 0.05 # Always the same \n",
        "\n",
        "  def __init__(self, firstname, accountnum, balance, contactnum, id): # Instance variables, keep changing\n",
        "    self.__firstname = firstname\n",
        "    self.__accountnumber = accountnum\n",
        "    self.__balance = balance\n",
        "    self.__contactnum = contactnum\n",
        "    self.__id = id\n",
        "\n",
        "  def withdraw(self, withdrawamount):\n",
        "    if withdrawamount > self.__balance: \n",
        "      return \"insufficient balance\"\n",
        "    else: \n",
        "      self.__balance = self.__balance - withdrawamount\n",
        "      return \"Your remaining balance is\", self.balance\n",
        "  \n",
        "  def deposit(self, depositamount): \n",
        "    return \"Your updated balance is\", self.__balance + depositamount\n",
        "\n",
        "  def interest(self, timeperiod): \n",
        "    # PRT/100\n",
        "    formula = (self.__balance * Bankaccount.inr * timeperiod)/100\n",
        "    updatedbalancewithinterest = self.__balance+formula\n",
        "    return updatedbalancewithinterest \n",
        "\n",
        "  def getbalance(self): \n",
        "    return self.__balance\n",
        "\n",
        "  def setid(self, newid): \n",
        "    self.__id = newid\n",
        "  \n",
        "  def getid(self): \n",
        "    return self.__id\n",
        "\n",
        "accountholder1 = Bankaccount(\"Shivam\", 43445676, 1000, 8756453645, \"1qw3455t\")\n",
        "accountholder2 = Bankaccount(\"Shiram\", 43445276, 0, 8756453645, \"1qw3455t\")\n",
        "\n",
        "print(accountholder2.withdraw(100))\n",
        "accountholder1.deposit(100)"
      ],
      "metadata": {
        "colab": {
          "base_uri": "https://localhost:8080/"
        },
        "id": "wFjinySAjKED",
        "outputId": "dd0b5436-e09b-439e-ed5a-0364a918c596"
      },
      "execution_count": 13,
      "outputs": [
        {
          "output_type": "stream",
          "name": "stdout",
          "text": [
            "insufficient balance\n"
          ]
        },
        {
          "output_type": "execute_result",
          "data": {
            "text/plain": [
              "('Your updated balance is', 1100)"
            ]
          },
          "metadata": {},
          "execution_count": 13
        }
      ]
    },
    {
      "cell_type": "code",
      "source": [
        "accountholder2.setid(\"7yyutwqer\")"
      ],
      "metadata": {
        "id": "lar-jtGWjM0b"
      },
      "execution_count": 14,
      "outputs": []
    },
    {
      "cell_type": "code",
      "source": [
        "accountholder2.getid()"
      ],
      "metadata": {
        "colab": {
          "base_uri": "https://localhost:8080/",
          "height": 35
        },
        "id": "gPfJwX3WjPlt",
        "outputId": "85ca2456-a4ef-4576-d2dd-361e56bcc1d4"
      },
      "execution_count": 15,
      "outputs": [
        {
          "output_type": "execute_result",
          "data": {
            "text/plain": [
              "'7yyutwqer'"
            ],
            "application/vnd.google.colaboratory.intrinsic+json": {
              "type": "string"
            }
          },
          "metadata": {},
          "execution_count": 15
        }
      ]
    },
    {
      "cell_type": "code",
      "source": [
        "# inheritance\n",
        "class Person:\n",
        "  def __init__(self, name, age, gender):\n",
        "    self.name = name\n",
        "    self.age = age\n",
        "    self.gender = gender\n",
        "  \n",
        "  def changename(self, newname):\n",
        "    self.name = newname\n",
        "    return self.name \n"
      ],
      "metadata": {
        "id": "sN_9c9sMjb24"
      },
      "execution_count": 16,
      "outputs": []
    },
    {
      "cell_type": "code",
      "source": [
        "class Student(Person): # inheritance\n",
        "  def __init__(self, name, age, gender, grade, class_teacher, school_fee):\n",
        "    Person.__init__(self, name, age, gender) \n",
        "    self.grade = grade\n",
        "    self.class_teacher = class_teacher\n",
        "    self.school_fee = school_fee\n",
        "\n",
        "  def increase_school_fee(self):\n",
        "    self.school_fee = self.school_fee * 1.05\n",
        "    return self.school_fee"
      ],
      "metadata": {
        "id": "cNw9mtPfjh7c"
      },
      "execution_count": 17,
      "outputs": []
    },
    {
      "cell_type": "code",
      "source": [
        "class Alumni(Student):  # multiple level inheritance\n",
        "  def __init__(self, name, age, gender, grade, class_teacher, grad_year):\n",
        "    super().__init__(name, age, gender, grade, class_teacher, school_fee = None)\n",
        "    self.grad_year = grad_year\n",
        "\n",
        "  def changename(self, newname): \n",
        "    self.name = newname + self.grad_year\n",
        "    return self.name\n",
        "\n",
        "  def __add__(self, newdata): \n",
        "    newname = ''\n",
        "    if len(self.name) < len(newdata.name): #################\n",
        "      for i in range(0, len(self.name)): ###############\n",
        "        newname = newname + self.name[i] + newdata.name[i]##############\n",
        "      return Alumni(newname,self.age,self.gender,self.grade,self.class_teacher,self.grad_year)#############\n",
        "    else:\n",
        "      for i in range(0, len(newdata.name)): ###############\n",
        "        newname = newname + self.name[i] + newdata.name[i]##############\n",
        "      return Alumni(newname,self.age,self.gender,self.grade,self.class_teacher,self.grad_year)#############\n"
      ],
      "metadata": {
        "id": "zqU2fp7FjkKZ"
      },
      "execution_count": 18,
      "outputs": []
    },
    {
      "cell_type": "code",
      "source": [
        "alumni2 = Alumni(\"Raj\", 43, \"M\", 12, \"RET\", 2025)"
      ],
      "metadata": {
        "id": "UV03A8bSjnOG"
      },
      "execution_count": 19,
      "outputs": []
    },
    {
      "cell_type": "code",
      "source": [
        "alumni1 = Alumni(\"mukul\", 24, 'M', 10, \"RRR\", \"2023\")\n",
        "alumni1.changename('taru') # Method Overriding \n"
      ],
      "metadata": {
        "colab": {
          "base_uri": "https://localhost:8080/",
          "height": 35
        },
        "id": "dOyFOKR7joI6",
        "outputId": "95cc2aff-de7d-4b6b-e245-3306d86ae605"
      },
      "execution_count": 20,
      "outputs": [
        {
          "output_type": "execute_result",
          "data": {
            "text/plain": [
              "'taru2023'"
            ],
            "application/vnd.google.colaboratory.intrinsic+json": {
              "type": "string"
            }
          },
          "metadata": {},
          "execution_count": 20
        }
      ]
    },
    {
      "cell_type": "code",
      "source": [
        "new=alumni1+ alumni2\n",
        "new.name#######################"
      ],
      "metadata": {
        "colab": {
          "base_uri": "https://localhost:8080/",
          "height": 35
        },
        "id": "VkfkD6q_jqfL",
        "outputId": "7fc131e0-1569-449e-aa5f-31b010de8332"
      },
      "execution_count": 21,
      "outputs": [
        {
          "output_type": "execute_result",
          "data": {
            "text/plain": [
              "'tRaarj'"
            ],
            "application/vnd.google.colaboratory.intrinsic+json": {
              "type": "string"
            }
          },
          "metadata": {},
          "execution_count": 21
        }
      ]
    }
  ]
}
