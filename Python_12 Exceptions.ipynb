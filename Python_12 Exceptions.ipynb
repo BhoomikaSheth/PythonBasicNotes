{
  "nbformat": 4,
  "nbformat_minor": 0,
  "metadata": {
    "colab": {
      "provenance": [],
      "authorship_tag": "ABX9TyNcGBjjZX+1LBK5JGSsUPT2",
      "include_colab_link": true
    },
    "kernelspec": {
      "name": "python3",
      "display_name": "Python 3"
    },
    "language_info": {
      "name": "python"
    }
  },
  "cells": [
    {
      "cell_type": "markdown",
      "metadata": {
        "id": "view-in-github",
        "colab_type": "text"
      },
      "source": [
        "<a href=\"https://colab.research.google.com/github/BhoomikaSheth/PythonBasicNotes/blob/main/Python_12.ipynb\" target=\"_parent\"><img src=\"https://colab.research.google.com/assets/colab-badge.svg\" alt=\"Open In Colab\"/></a>"
      ]
    },
    {
      "cell_type": "markdown",
      "source": [
        "# Exceptions\n",
        "\n",
        "⦁\tAn exception is an event, which occurs during the execution of a program that disrupts the normal flow of the program's instructions. In general, when a Python script encounters a situation that it cannot cope with, it raises an exception. An exception is a Python object that represents an error.\n",
        "⦁\tWhen a Python script raises an exception, it must either handle the exception immediately otherwise it terminates and quits.\n",
        "\n"
      ],
      "metadata": {
        "id": "e_-uZhuzkG2P"
      }
    },
    {
      "cell_type": "markdown",
      "source": [
        "⦁\tFor some suspicious code that may raise an exception, you can defend your program by placing the suspicious code in a try: block. After the try: block, include an except: statement, followed by a block of code which handles the problem as elegantly as possible.\n",
        "⦁\ttry: You do your operations here; ...................... \n",
        "⦁\texcept ExceptionI: If there is ExceptionI, then execute this block. \n",
        "⦁\texcept ExceptionII,Argument: If there is ExceptionII, then execute this block. ......................Argument if written holds error string, the error number, and an error location. \n",
        "⦁\tExcept exception1,exception2,…..exception n:If there is any exception from the given exception list, then execute this block.\n",
        "⦁\telse: If there is no exception then execute this block.\n",
        "⦁\tFinally: this would be executed always \n"
      ],
      "metadata": {
        "id": "QkDar_GQkP1G"
      }
    },
    {
      "cell_type": "markdown",
      "source": [
        "## Standard Exceptions\t\n",
        "\n",
        "⦁\tException\n",
        "⦁\tBase class for all exceptions\n",
        "\n",
        "⦁\tZeroDivisionError\n",
        "⦁\tRaised when division or modulo by zero takes place for all numeric types\n",
        "\n",
        "⦁\tOverflowError\n",
        "⦁\tRaised when a calculation exceeds maximum limit for a numeric type.\n",
        "\n",
        "⦁\tFloatingPointError\n",
        "⦁\tRaised when a floating point calculation fails.\n",
        "\n",
        "⦁\tStandardError\n",
        "⦁\tBase class for all built-in exceptions except StopIteration and SystemExit.\n",
        "\n",
        "⦁\tStopIteration\n",
        "⦁\tRaised when the next() method of an iterator does not point to any object.\n",
        "\n",
        "⦁\tSystemExit\n",
        "⦁\tRaised by the sys.exit() function.\n",
        "\n",
        "⦁\tArithmeticError\n",
        "⦁\tBase class for all errors that occur for numeric calculation.\n",
        "\n",
        "⦁\tAttributeError\n",
        "⦁\tRaised in case of failure of attribute reference or assignment.\n",
        "\n",
        "⦁\tEOFError\n",
        "⦁\tRaised when there is no input from either the raw_input() or input() function and the end of file is reached.\n",
        "\n",
        "⦁\tAssertionError\n",
        "⦁\tRaised in case of failure of the Assert statement.\n",
        "\n",
        "⦁\tImportError\n",
        "⦁\tRaised when an import statement fails.\n",
        "\n",
        "⦁\tKeyboardInterrupt\n",
        "⦁\tRaised when the user interrupts program execution, usually by pressing Ctrl+c.\n",
        "\n",
        "⦁\tLookupError\n",
        "⦁\tBase class for all lookup errors.\n",
        "\n",
        "⦁\tIndexError\n",
        "⦁\tRaised when an index is not found in a sequence.\n",
        "\n",
        "⦁\tKeyError\n",
        "⦁\tRaised when the specified key is not found in the dictionary.\n",
        "\n",
        "⦁\tNameError\n",
        "⦁\tRaised when an identifier is not found in the local or global namespace.\n",
        "\n",
        "⦁\tUnboundLocalError\n",
        "⦁\tRaised when trying to access a local variable in a function or method but no value has been assigned to it.\n",
        "\n",
        "⦁\tEnvironmentError\n",
        "⦁\tBase class for all exceptions that occur outside the Python environment.\n",
        "\n",
        "⦁\tIOError\n",
        "⦁\tRaised when an input/ output operation fails, such as the print statement or the open() function when trying to open a file that does not exist.\n",
        "\n",
        "⦁\tOSError\n",
        "⦁\tRaised for operating system-related errors.\n",
        "\n",
        "⦁\tSyntaxError\n",
        "⦁\tRaised when there is an error in Python syntax.\n",
        "\n",
        "⦁\tIndentationError\n",
        "⦁\tRaised when indentation is not specified properly.\n",
        "\n",
        "⦁\tSystemError\n",
        "⦁\tRaised when the interpreter finds an internal problem, but when this error is encountered the Python interpreter does not exit.\n",
        "\n",
        "⦁\tSystemExit\n",
        "⦁\tRaised when Python interpreter is quit by using the sys.exit() function. If not handled in the code, causes the interpreter to exit.\n",
        "\n",
        "⦁\tTypeError\n",
        "⦁\tRaised when an operation or function is attempted that is invalid for the specified data type.\n",
        "\n",
        "⦁\tValueError\n",
        "⦁\tRaised when the built-in function for a data type has the valid type of arguments, but the arguments have invalid values specified.\n",
        "\n",
        "⦁\tRuntimeError\n",
        "⦁\tRaised when a generated error does not fall into any category.\n",
        "\n",
        "⦁\tNotImplementedError\n",
        "⦁\tRaised when an abstract method that needs to be implemented in an inherited class is not actually implemented.\n",
        "\n",
        "\n",
        "\n",
        "\n",
        "\n",
        "\n",
        "\n",
        "\n",
        "\n",
        "\n"
      ],
      "metadata": {
        "id": "4Wq4MEbQkWdb"
      }
    },
    {
      "cell_type": "markdown",
      "source": [
        "## Handling Exceptions\n",
        "```\n",
        "try:\n",
        "print 1/0\n",
        "\n",
        "except ZeroDivisionError:\n",
        "print \"Your answer is infinite\"\n",
        "```\n",
        "\n",
        "```\n",
        "try:\n",
        "    number = int(raw_input(\"Enter a number:\"))\n",
        "\n",
        "except ValueError:\n",
        "    print \"Err.. numbers only\"\n",
        "\n",
        "else:\n",
        "    print \"you entered number \"\n",
        "```\n",
        "\n",
        "```\n",
        "try:\n",
        "    num1, num2 =(input(\"Enter two numbers, separated by a comma : \"))\n",
        "    result = num1 / num2\n",
        "    print(\"Result is\", result)\n",
        " \n",
        "except ZeroDivisionError:\n",
        "    print(\"Division by zero is error !!\")\n",
        " \n",
        "except SyntaxError:\n",
        "    print(\"Comma is missing. Enter numbers separated by comma like this 1, 2\")\n",
        " \n",
        "except:\n",
        "    print(\"Wrong input\")\n",
        " \n",
        "else:\n",
        "    print(\"Code executed succesfully! No exceptions\")\n",
        " \n",
        "finally:\n",
        "    print(\"Bye Bye!\")\n",
        "\n",
        "\n",
        "```\n",
        "```\n",
        "\n",
        "def kelvin_to_celcius(var):\n",
        "   try:\n",
        "      return int(var)+273.15\n",
        "   except ValueError, Argument:\n",
        "      print \"Value Error: The argument does not contain numbers\\n\"\n",
        "      return Argument\n",
        "\n",
        "print kelvin_to_celcius(\"xyz\");\n",
        "```\n",
        "\n",
        "⦁\tPython exception messages can be captured and printed using as\n",
        "\n",
        "```\n",
        "⦁\ttry:\n",
        "⦁\t    num1 =int(input(\"Enter number 1:\"))\n",
        "⦁\t    num2 = int(input(\"Enter number 2:\"))\n",
        "⦁\t    result = num1 / num2\n",
        "⦁\t    print(\"Result is\", result)\n",
        "⦁\texcept ZeroDivisionError as e:\n",
        "⦁\t    print(\"Division by zero is error !!\")\n",
        "⦁\t    print(e)\n",
        "\n",
        "```\n",
        "\n",
        "⦁\twith statement in Python is used in exception handling to make the code cleaner and much more readable. It simplifies the management of common resources like file streams.\n",
        "\n",
        "⦁\t# using with statement \n",
        "⦁\twith open('file_path', 'w') as file: \n",
        "⦁\t    file.write('hello world !') \n",
        "\n",
        "⦁\tNotice there is no need to call file.close() when using with statement. The with statement itself ensures proper acquisition and release of resources. \n",
        "⦁\tAn exception during the file.write() call in the first implementation can prevent the file from closing properly which may introduce several bugs in the code\n",
        "⦁\tThe second approach in the above example takes care of all the exceptions but using the with statement makes the code compact and much more readable. \n",
        "⦁\tThus, with statement helps avoiding bugs and leaks by ensuring that a resource is properly released when the code using the resource is completely executed. The with statement is popularly used with file streams, as shown above and with Locks, sockets, subprocesses and telnets etc.\n",
        "\n",
        "```\n",
        "⦁\t1) without using with statement \n",
        "⦁\tfile = open('file_path', 'w') \n",
        "⦁\tfile.write('hello world !') \n",
        "⦁\tfile.close() \n",
        "\n",
        "\n",
        "⦁\t# 2) without using with statement \n",
        "⦁\tfile = open('file_path', 'w') \n",
        "⦁\ttry: \n",
        "⦁\t    file.write('hello world') \n",
        "⦁\tfinally: \n",
        "⦁\t    file.close() \n",
        "```"
      ],
      "metadata": {
        "id": "nyOl-l2alBpL"
      }
    },
    {
      "cell_type": "code",
      "execution_count": 1,
      "metadata": {
        "colab": {
          "base_uri": "https://localhost:8080/",
          "height": 166
        },
        "id": "CgSgUsppkELZ",
        "outputId": "22be568d-011b-45b0-c1a8-b34cc328d374"
      },
      "outputs": [
        {
          "output_type": "error",
          "ename": "ZeroDivisionError",
          "evalue": "ignored",
          "traceback": [
            "\u001b[0;31m---------------------------------------------------------------------------\u001b[0m",
            "\u001b[0;31mZeroDivisionError\u001b[0m                         Traceback (most recent call last)",
            "\u001b[0;32m<ipython-input-1-9e1622b385b6>\u001b[0m in \u001b[0;36m<module>\u001b[0;34m\u001b[0m\n\u001b[0;32m----> 1\u001b[0;31m \u001b[0;36m1\u001b[0m\u001b[0;34m/\u001b[0m\u001b[0;36m0\u001b[0m\u001b[0;34m\u001b[0m\u001b[0;34m\u001b[0m\u001b[0m\n\u001b[0m",
            "\u001b[0;31mZeroDivisionError\u001b[0m: division by zero"
          ]
        }
      ],
      "source": [
        "1/0"
      ]
    },
    {
      "cell_type": "code",
      "source": [
        "#try and except\n",
        "\n",
        "#zerodivisionerror\n",
        "\n",
        "try:\n",
        "  x=1/0\n",
        "except ZeroDivisionError:\n",
        "  print(\"You cannot divide by 0\")"
      ],
      "metadata": {
        "colab": {
          "base_uri": "https://localhost:8080/"
        },
        "id": "m_VQ56McmHmm",
        "outputId": "9a224ded-054f-4af1-f879-8dad02dac3d7"
      },
      "execution_count": 3,
      "outputs": [
        {
          "output_type": "stream",
          "name": "stdout",
          "text": [
            "You cannot divide by 0\n"
          ]
        }
      ]
    },
    {
      "cell_type": "code",
      "source": [
        "try:\n",
        "  age=int(input(\"Enter your age:\"))\n",
        "  while age< 0:\n",
        "    age=int(input(\"Please Enter your proper age:\"))\n",
        "except ValueError:\n",
        "  print(\"Please enter inetegers only\")"
      ],
      "metadata": {
        "colab": {
          "base_uri": "https://localhost:8080/"
        },
        "id": "KLZ_nXFYmKzA",
        "outputId": "9a63ae4e-6ad5-451e-bbc3-3de774d25449"
      },
      "execution_count": 4,
      "outputs": [
        {
          "name": "stdout",
          "output_type": "stream",
          "text": [
            "Enter your age:13\n"
          ]
        }
      ]
    },
    {
      "cell_type": "code",
      "source": [
        "try:\n",
        "  age=int(input(\"Enter your age:\"))\n",
        "  while age< 0:\n",
        "    age=int(input(\"Please Enter your proper age:\"))\n",
        "except ValueError:\n",
        "  print(\"Please enter inetegers only\")\n",
        "except ZeroDivisionError:\n",
        "  print(\"You cannot divide by 0\")\n",
        "else:\n",
        "  print(\"Code executed successfully\")\n"
      ],
      "metadata": {
        "colab": {
          "base_uri": "https://localhost:8080/"
        },
        "id": "pbEeKIsjmNFa",
        "outputId": "42fc2b47-3a93-4b87-e363-d650e3f04352"
      },
      "execution_count": 5,
      "outputs": [
        {
          "output_type": "stream",
          "name": "stdout",
          "text": [
            "Enter your age:13\n",
            "Code executed successfully\n"
          ]
        }
      ]
    },
    {
      "cell_type": "code",
      "source": [
        "try:\n",
        "  age=int(input(\"Enter your age:\"))\n",
        "  while age< 0:\n",
        "    age=int(input(\"Please Enter your proper age:\"))\n",
        "except ValueError:\n",
        "  print(\"Please enter inetegers only\")\n",
        "except ZeroDivisionError:\n",
        "  print(\"You cannot divide by 0\")\n",
        "else:\n",
        "  print(\"Code executed successfully\")\n"
      ],
      "metadata": {
        "colab": {
          "base_uri": "https://localhost:8080/"
        },
        "id": "H-JKp-ikmSLu",
        "outputId": "a68ad89d-c28d-4bb0-db9d-2cf69396d815"
      },
      "execution_count": 6,
      "outputs": [
        {
          "output_type": "stream",
          "name": "stdout",
          "text": [
            "Enter your age:fghj\n",
            "Please enter inetegers only\n"
          ]
        }
      ]
    },
    {
      "cell_type": "code",
      "source": [
        "try:\n",
        "  temp = int(input(\"Please enter a temperature in Kelvin: \"))\n",
        "  temp = temp + 273.15\n",
        "  print(temp), \"C\"\n",
        "\n",
        "  if temp < 0: \n",
        "    raise ValueError()\n",
        "\n",
        "except:\n",
        "  print(\"Something went wrong. \")\n",
        "\n"
      ],
      "metadata": {
        "colab": {
          "base_uri": "https://localhost:8080/"
        },
        "id": "RIghmAIqmUYb",
        "outputId": "55defb64-0cc2-4a20-b39f-930da645014b"
      },
      "execution_count": 7,
      "outputs": [
        {
          "output_type": "stream",
          "name": "stdout",
          "text": [
            "Please enter a temperature in Kelvin: 13\n",
            "286.15\n"
          ]
        }
      ]
    },
    {
      "cell_type": "markdown",
      "source": [
        "## raising exceptions\n",
        "\n",
        "⦁\tTo raise your exceptions from your own methods you need to use raise  keyword\n",
        "⦁\traise ExceptionClass(\"Your argument\")\n",
        "\n"
      ],
      "metadata": {
        "id": "lFD3KB5Gmb1c"
      }
    },
    {
      "cell_type": "code",
      "source": [
        "def enterage(age):\n",
        "    if age < 0:\n",
        "        raise ValueError(\"Only positive integers are allowed\")\n",
        "    if age % 2 == 0:\n",
        "        return \"even\"\n",
        "    else:\n",
        "        return \"odd\"\n",
        "try:\n",
        "    num = int(input(\"Enter your age: \"))\n",
        "    ans=enterage(num)\n",
        "except ValueError:\n",
        "    print(\"Only positive integers are allowed\")\n",
        "except:\n",
        "    print(\"something is wrong\")\n",
        "else:\n",
        "    print (\"Your age is:\",ans)\n",
        "finally:\n",
        "    print (\"Age is just a number! Enjoy your life!\")\n"
      ],
      "metadata": {
        "colab": {
          "base_uri": "https://localhost:8080/"
        },
        "id": "fKUu3TiAmbFU",
        "outputId": "d56e1e01-81af-472b-bfc5-12dd76f2947c"
      },
      "execution_count": 9,
      "outputs": [
        {
          "output_type": "stream",
          "name": "stdout",
          "text": [
            "Enter your age: 15\n",
            "Your age is: odd\n",
            "Age is just a number! Enjoy your life!\n"
          ]
        }
      ]
    },
    {
      "cell_type": "code",
      "source": [
        "def enterage(age):\n",
        "    if age < 0:\n",
        "        raise ValueError(\"Only positive integers are allowed\")\n",
        "    if age % 2 == 0:\n",
        "        return \"even\"\n",
        "    else:\n",
        "        return \"odd\"\n",
        "try:\n",
        "    num = int(input(\"Enter your age: \"))\n",
        "    ans=enterage(num)\n",
        "except ValueError:\n",
        "    print(\"Only positive integers are allowed\")\n",
        "except:\n",
        "    print(\"something is wrong\")\n",
        "else:\n",
        "    print (\"Your age is:\",ans)\n",
        "finally:\n",
        "    print (\"Age is just a number! Enjoy your life!\")\n"
      ],
      "metadata": {
        "colab": {
          "base_uri": "https://localhost:8080/"
        },
        "id": "zo7Y3-y0mu08",
        "outputId": "6005b57d-76ff-4e19-b3c7-6a40c1f8a1c3"
      },
      "execution_count": 10,
      "outputs": [
        {
          "output_type": "stream",
          "name": "stdout",
          "text": [
            "Enter your age: -12\n",
            "Only positive integers are allowed\n",
            "Age is just a number! Enjoy your life!\n"
          ]
        }
      ]
    },
    {
      "cell_type": "code",
      "source": [
        "def enterage(age):\n",
        "    if age < 0:\n",
        "        raise ValueError(\"Only positive integers are allowed\")\n",
        "    if age % 2 == 0:\n",
        "        return \"even\"\n",
        "    else:\n",
        "        return \"odd\"\n",
        "try:\n",
        "    num = int(input(\"Enter your age: \"))\n",
        "    ans=enterage(num)\n",
        "except ValueError:\n",
        "    print(\"Only positive integers are allowed\")\n",
        "except:\n",
        "    print(\"something is wrong\")\n",
        "else:\n",
        "    print (\"Your age is:\",ans)\n",
        "finally:\n",
        "    print (\"Age is just a number! Enjoy your life!\")\n"
      ],
      "metadata": {
        "colab": {
          "base_uri": "https://localhost:8080/"
        },
        "id": "x6VzYo0Dm1Fs",
        "outputId": "cfc3376f-7aaa-4207-a17b-863851026cdb"
      },
      "execution_count": 11,
      "outputs": [
        {
          "output_type": "stream",
          "name": "stdout",
          "text": [
            "Enter your age: fgh\n",
            "Only positive integers are allowed\n",
            "Age is just a number! Enjoy your life!\n"
          ]
        }
      ]
    },
    {
      "cell_type": "markdown",
      "source": [
        "## exceptions as objects\n",
        "\n",
        "⦁\tto access exception object in exception handler code, You can use the following code to assign exception object to a variable:\n",
        "⦁\ttry:\n",
        "⦁\t    # this code is expected to throw exception\n",
        "⦁\texcept ExceptionType as e:\n",
        "⦁\t    # code to handle exception\n",
        "\n"
      ],
      "metadata": {
        "id": "49VCCW0FnAKF"
      }
    },
    {
      "cell_type": "code",
      "source": [
        "try:\n",
        "    number =(input(\"Enter a number: \"))\n",
        "    print(\"The number entered is\", number)\n",
        "except NameError as xyz:\n",
        "    print(\"Exception:\", xyz)\n"
      ],
      "metadata": {
        "colab": {
          "base_uri": "https://localhost:8080/"
        },
        "id": "M6XMb-EpnG6c",
        "outputId": "3e92edac-1b07-4fdc-8432-59b1f6f414cb"
      },
      "execution_count": 12,
      "outputs": [
        {
          "output_type": "stream",
          "name": "stdout",
          "text": [
            "Enter a number: 12\n",
            "The number entered is 12\n"
          ]
        }
      ]
    }
  ]
}
