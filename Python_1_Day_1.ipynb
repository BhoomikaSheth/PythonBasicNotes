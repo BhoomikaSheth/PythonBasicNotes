{
  "nbformat": 4,
  "nbformat_minor": 0,
  "metadata": {
    "colab": {
      "name": "Python 1 Day 1",
      "provenance": [],
      "collapsed_sections": [],
      "authorship_tag": "ABX9TyP40sRm/G6WCLsStxIiI911",
      "include_colab_link": true
    },
    "kernelspec": {
      "name": "python3",
      "display_name": "Python 3"
    }
  },
  "cells": [
    {
      "cell_type": "markdown",
      "metadata": {
        "id": "view-in-github",
        "colab_type": "text"
      },
      "source": [
        "<a href=\"https://colab.research.google.com/github/BhoomikaSheth/PythonBasicNotes/blob/main/Python_1_Day_1.ipynb\" target=\"_parent\"><img src=\"https://colab.research.google.com/assets/colab-badge.svg\" alt=\"Open In Colab\"/></a>"
      ]
    },
    {
      "cell_type": "markdown",
      "metadata": {
        "id": "RZ_fxQtQxI4i"
      },
      "source": [
        "# **Print and Input Function**"
      ]
    },
    {
      "cell_type": "markdown",
      "metadata": {
        "id": "Xlt65PSB_gf2"
      },
      "source": [
        "Function: function is an entity that completes one particular task in your program. function takes some input, processes it and generates some output. a function is always denoted by (). inputs to a function are passed within these round brackets. Functions can be broadly categorized ans standard built in functions and user defined functions"
      ]
    },
    {
      "cell_type": "markdown",
      "metadata": {
        "id": "YqkwDmt71iZS"
      },
      "source": [
        "## Print Function: A function used to display some data on screen\n",
        "\n",
        "```\n",
        "**syntax: ** \n",
        "print(\"message to be displayed on screen\")\n",
        "```\n",
        "\n"
      ]
    },
    {
      "cell_type": "markdown",
      "metadata": {
        "id": "P2-cLuPwu7A8"
      },
      "source": [
        "### Hello World Progam\n",
        "\n",
        "A \"Hello, World!\" program generally is a computer program that outputs or displays the message \"Hello, World!\". Such a program is very simple in most programming languages, and is often used to illustrate the basic syntax of a programming language. It is often the first program written by people learning to code."
      ]
    },
    {
      "cell_type": "markdown",
      "metadata": {
        "id": "4k1RKhVn_Q3L"
      },
      "source": [
        "Note: python is a case sensitive language"
      ]
    },
    {
      "cell_type": "markdown",
      "metadata": {
        "id": "mHIatGZSv7iL"
      },
      "source": [
        "Question: Write a program to display \"Hello World\" message on screen"
      ]
    },
    {
      "cell_type": "code",
      "metadata": {
        "id": "FwWega-bO8Nw",
        "colab": {
          "base_uri": "https://localhost:8080/"
        },
        "outputId": "68f294e2-c0a3-41e8-df78-e13a068b1923"
      },
      "source": [
        "print(\"Hello World\")"
      ],
      "execution_count": null,
      "outputs": [
        {
          "output_type": "stream",
          "name": "stdout",
          "text": [
            "Hello World\n"
          ]
        }
      ]
    },
    {
      "cell_type": "code",
      "source": [
        "print('Hello world')"
      ],
      "metadata": {
        "colab": {
          "base_uri": "https://localhost:8080/"
        },
        "id": "5B0fMP8EUlvv",
        "outputId": "a8d3e43a-18d1-4c06-9fb7-1976b4445902"
      },
      "execution_count": null,
      "outputs": [
        {
          "output_type": "stream",
          "name": "stdout",
          "text": [
            "Hello world\n"
          ]
        }
      ]
    },
    {
      "cell_type": "markdown",
      "metadata": {
        "id": "4-B0hsjrwqDb"
      },
      "source": [
        "Question: Write a program to display \"Welcome to bank ATM on Screen\" message on screen"
      ]
    },
    {
      "cell_type": "code",
      "metadata": {
        "id": "K6VWEMTO2N82",
        "colab": {
          "base_uri": "https://localhost:8080/"
        },
        "outputId": "e03d2c86-9886-4370-85c2-e78abe974c05"
      },
      "source": [
        "print(\"Welcome to bank ATM!\")"
      ],
      "execution_count": null,
      "outputs": [
        {
          "output_type": "stream",
          "name": "stdout",
          "text": [
            "Welcome to bank ATM!\n"
          ]
        }
      ]
    },
    {
      "cell_type": "markdown",
      "metadata": {
        "id": "9-1E11_32aPZ"
      },
      "source": [
        "Question: Write a program to display \"Please wait while program is loading...\" message on screen"
      ]
    },
    {
      "cell_type": "code",
      "metadata": {
        "id": "0BPMKyFA2mEn"
      },
      "source": [
        ""
      ],
      "execution_count": null,
      "outputs": []
    },
    {
      "cell_type": "markdown",
      "metadata": {
        "id": "AUEImwm1ou7Q"
      },
      "source": [
        "### Empty brackets- blank line \n",
        "Empty brackets with print will leave an empty line\n",
        "Try it...\n",
        "Question: Write a program to print your first name in first line, leave second line empty and print your last name in third line"
      ]
    },
    {
      "cell_type": "code",
      "metadata": {
        "id": "Vn4TxwKYs2xW",
        "colab": {
          "base_uri": "https://localhost:8080/"
        },
        "outputId": "88797544-dc7a-4e05-f211-8d4d9dfa55ce"
      },
      "source": [
        "print(\"Hey\")\n",
        "print()\n",
        "print(\"Hello\")"
      ],
      "execution_count": null,
      "outputs": [
        {
          "output_type": "stream",
          "name": "stdout",
          "text": [
            "Hey\n",
            "\n",
            "Hello\n"
          ]
        }
      ]
    },
    {
      "cell_type": "markdown",
      "metadata": {
        "id": "_YGoy2hotcG6"
      },
      "source": [
        "### Multiple inputs(arguments) in print statement can be given inside print after seperating them by comma. eg\n",
        "```\n",
        "print(\"Hello\",\"World\")\n",
        "``` "
      ]
    },
    {
      "cell_type": "code",
      "metadata": {
        "id": "Zkhsodjlx924",
        "colab": {
          "base_uri": "https://localhost:8080/"
        },
        "outputId": "97c9a2ad-9f46-433c-8750-4fe4c9d35577"
      },
      "source": [
        "print(\"Hello\",\"Students of GEC\")\n",
        "# you can pass n number os arguments withi print function"
      ],
      "execution_count": null,
      "outputs": [
        {
          "output_type": "stream",
          "name": "stdout",
          "text": [
            "Hello Students of GEC\n"
          ]
        }
      ]
    },
    {
      "cell_type": "markdown",
      "metadata": {
        "id": "mnjyRpASs7sa"
      },
      "source": [
        "### *\\n* is a string literal that denotes new line when enclosed within single quotes and double quotes \n",
        "```\n",
        "eg. print(\"Hello \\n World\")\n",
        "```\n",
        "\n",
        "will print Hello in first line and World in second line"
      ]
    },
    {
      "cell_type": "code",
      "metadata": {
        "id": "f_b4Oh0AcFWj",
        "colab": {
          "base_uri": "https://localhost:8080/"
        },
        "outputId": "55223529-e71e-4242-98a3-bbf921fca05d"
      },
      "source": [
        "print(\"Hello \\n World\")\n",
        "# \\n for new line"
      ],
      "execution_count": null,
      "outputs": [
        {
          "output_type": "stream",
          "name": "stdout",
          "text": [
            "Hello \n",
            " World\n"
          ]
        }
      ]
    },
    {
      "cell_type": "markdown",
      "metadata": {
        "id": "e0YSr8amtVms"
      },
      "source": [
        "### *\\t* for horizontal tab"
      ]
    },
    {
      "cell_type": "code",
      "metadata": {
        "id": "Di7Lw4UGtb0p",
        "colab": {
          "base_uri": "https://localhost:8080/"
        },
        "outputId": "41a8ae98-87c4-4ce5-f4d9-1fb35e10a921"
      },
      "source": [
        "print(\"Hello \\t world\")\n",
        "#\\t for tab"
      ],
      "execution_count": null,
      "outputs": [
        {
          "output_type": "stream",
          "name": "stdout",
          "text": [
            "Hello \t world\n"
          ]
        }
      ]
    },
    {
      "cell_type": "markdown",
      "metadata": {
        "id": "62EFIuJot21X"
      },
      "source": [
        "### String Concatenation"
      ]
    },
    {
      "cell_type": "markdown",
      "metadata": {
        "id": "5ra2PcRVCQDa"
      },
      "source": [
        "string--- group of characters. Examples of Characters are A P , / +   _    etc\n"
      ]
    },
    {
      "cell_type": "markdown",
      "metadata": {
        "id": "M1GXbIRJCuRM"
      },
      "source": [
        "'+' operator can used with strings for string concatenation\n",
        "\n",
        "Question: Write a program to concatenate 2 strings "
      ]
    },
    {
      "cell_type": "code",
      "metadata": {
        "id": "zPfjUI2et0e3",
        "colab": {
          "base_uri": "https://localhost:8080/"
        },
        "outputId": "7ff5da64-a2e9-4e8a-9ece-100bcc4a2ae1"
      },
      "source": [
        "# String is data written within '' or \"\"\n",
        "print(\"Hello\"+\"Students\")"
      ],
      "execution_count": null,
      "outputs": [
        {
          "output_type": "stream",
          "name": "stdout",
          "text": [
            "HelloStudents\n"
          ]
        }
      ]
    },
    {
      "cell_type": "code",
      "source": [
        "# String is data written within '' or \"\"\n",
        "print(\"Hello\"+\" \"+\"Students\")"
      ],
      "metadata": {
        "colab": {
          "base_uri": "https://localhost:8080/"
        },
        "id": "HJvfAtJ1VzQd",
        "outputId": "a381d2bc-8a0a-48c7-fee0-375108a94b2d"
      },
      "execution_count": null,
      "outputs": [
        {
          "output_type": "stream",
          "name": "stdout",
          "text": [
            "Hello Students\n"
          ]
        }
      ]
    },
    {
      "cell_type": "markdown",
      "metadata": {
        "id": "xG2HziYM0VJi"
      },
      "source": [
        "### String Repetition"
      ]
    },
    {
      "cell_type": "markdown",
      "metadata": {
        "id": "olregvGmIJPj"
      },
      "source": [
        "* \"*\"operator can be used with string for repetition\n",
        "Question: Write a program to print \"Hello\" 5 times using * operator"
      ]
    },
    {
      "cell_type": "code",
      "metadata": {
        "id": "L7qpn4EE0iMb",
        "colab": {
          "base_uri": "https://localhost:8080/",
          "height": 36
        },
        "outputId": "07aeafda-0602-43e1-e1b6-5785b261743c"
      },
      "source": [
        "\"Hello\"*5"
      ],
      "execution_count": null,
      "outputs": [
        {
          "output_type": "execute_result",
          "data": {
            "application/vnd.google.colaboratory.intrinsic+json": {
              "type": "string"
            },
            "text/plain": [
              "'HelloHelloHelloHelloHello'"
            ]
          },
          "metadata": {},
          "execution_count": 11
        }
      ]
    },
    {
      "cell_type": "markdown",
      "metadata": {
        "id": "hpqZfOLcxElY"
      },
      "source": [
        "### *end* parameter in print can be used to change the chracter that ends statement of print function. It is \\n by default"
      ]
    },
    {
      "cell_type": "code",
      "metadata": {
        "id": "ATlru9N1xdTH",
        "colab": {
          "base_uri": "https://localhost:8080/"
        },
        "outputId": "7bfdd948-404a-4e7a-8a66-7b14657934bc"
      },
      "source": [
        "print(\"Line 1\")\n",
        "print(\"Line 2\")"
      ],
      "execution_count": null,
      "outputs": [
        {
          "output_type": "stream",
          "name": "stdout",
          "text": [
            "Line 1\n",
            "Line 2\n"
          ]
        }
      ]
    },
    {
      "cell_type": "code",
      "source": [
        "print(\"Line 1\", end =\"Ok done\")\n",
        "print(\"Line 2\")"
      ],
      "metadata": {
        "colab": {
          "base_uri": "https://localhost:8080/"
        },
        "id": "aVpk4arOWPaQ",
        "outputId": "3dcbf566-9ed7-4c6c-e086-4174db6bfc2e"
      },
      "execution_count": null,
      "outputs": [
        {
          "output_type": "stream",
          "name": "stdout",
          "text": [
            "Line 1Ok doneLine 2\n"
          ]
        }
      ]
    },
    {
      "cell_type": "code",
      "source": [
        "print(\"Line 1\", end =\",\")\n",
        "print(\"Line 2\")"
      ],
      "metadata": {
        "colab": {
          "base_uri": "https://localhost:8080/"
        },
        "id": "NI_lLtYCWXnv",
        "outputId": "e9ea2190-d0a5-4892-d699-252e890c4286"
      },
      "execution_count": null,
      "outputs": [
        {
          "output_type": "stream",
          "name": "stdout",
          "text": [
            "Line 1,Line 2\n"
          ]
        }
      ]
    },
    {
      "cell_type": "markdown",
      "metadata": {
        "id": "LtSDIskexfQu"
      },
      "source": [
        "### *sep* parameter in print: The separator between the arguments to print() function in Python is space by default (softspace feature) , which can be modified and can be made to any character, integer or string as per our choice."
      ]
    },
    {
      "cell_type": "code",
      "metadata": {
        "id": "244jxRVHxhJe",
        "colab": {
          "base_uri": "https://localhost:8080/"
        },
        "outputId": "13bcafc0-1831-4c1f-85ca-e9f23d6fba67"
      },
      "source": [
        "print(\"Hello\",\"Students\",\"GEC\",\"Surat\")"
      ],
      "execution_count": null,
      "outputs": [
        {
          "output_type": "stream",
          "name": "stdout",
          "text": [
            "Hello Students GEC Surat\n"
          ]
        }
      ]
    },
    {
      "cell_type": "code",
      "source": [
        "print(\"Hello\",\"Students\",\"GEC\",\"Surat\",sep=\",\")"
      ],
      "metadata": {
        "colab": {
          "base_uri": "https://localhost:8080/"
        },
        "id": "icglGMi0WkFY",
        "outputId": "c088a8dd-c993-4a9e-b733-2b30f850c99f"
      },
      "execution_count": null,
      "outputs": [
        {
          "output_type": "stream",
          "name": "stdout",
          "text": [
            "Hello,Students,GEC,Surat\n"
          ]
        }
      ]
    },
    {
      "cell_type": "markdown",
      "metadata": {
        "id": "dLmPX5HFDo9l"
      },
      "source": [
        "## Variables\n",
        "variables are memory locations that holds some data(information). variables are suppose to have unique names.\n",
        "1. variable name should be meaningful\n",
        "2. variable name can have alphabets, numbers or _ (underscore)\n",
        "3. variable name must start with alphabet or _ (underscore)\n",
        "4. Variable name cannot be  a python keyword. Following are the python keywords \n",
        "\n",
        "The keywords are some predefined and reserved words in python that have special meanings. Keywords are used to define the syntax of the coding. The keyword cannot be used as an identifier, function, and variable name. All the keywords in python are written in lower case except True and False. Python Keywords are:\n",
        "\n",
        "![image.png](data:image/png;base64,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)\n"
      ]
    },
    {
      "cell_type": "markdown",
      "metadata": {
        "id": "lLUnHUvCEs6N"
      },
      "source": [
        "## Operators: operators are used to perform mathematical or logical operations on your data.\n",
        "= is called assignemnet operator. it assigns value from rhs to lhs.\n",
        "\n",
        "In Python, every value has its own python data type. The classification of data items or to put the data value into some sort of data category is called Data Types. It helps to understand what kind of operations can be performed on a value. "
      ]
    },
    {
      "cell_type": "markdown",
      "metadata": {
        "id": "YUBk_nK60Tcp"
      },
      "source": [
        "```\n",
        "Syntax:\n",
        "variable_name=data\n",
        "```"
      ]
    },
    {
      "cell_type": "markdown",
      "metadata": {
        "id": "Zdj7Xbq3z_po"
      },
      "source": [
        "Write a program to store your name in a variable. Don't forget to enclose your name with single quotes or double quotes"
      ]
    },
    {
      "cell_type": "code",
      "metadata": {
        "id": "8zbpu06OECi3"
      },
      "source": [
        "x=5\n",
        "#5=x"
      ],
      "execution_count": null,
      "outputs": []
    },
    {
      "cell_type": "code",
      "source": [
        "name = \"GEC Surat\"\n",
        "print(\"name\")\n",
        "print(name)# variable values can be printed by passing the variable's name without \"\" or ''"
      ],
      "metadata": {
        "colab": {
          "base_uri": "https://localhost:8080/"
        },
        "id": "q-aIhByfYjbn",
        "outputId": "3fea7f04-15ca-436c-b503-6f9ed89bcb48"
      },
      "execution_count": null,
      "outputs": [
        {
          "output_type": "stream",
          "name": "stdout",
          "text": [
            "name\n",
            "GEC Surat\n"
          ]
        }
      ]
    },
    {
      "cell_type": "markdown",
      "metadata": {
        "id": "xRnvlHkv0cG_"
      },
      "source": [
        "Write a program to store your age in a variable"
      ]
    },
    {
      "cell_type": "code",
      "metadata": {
        "id": "L3EsaMN8FLZL",
        "colab": {
          "base_uri": "https://localhost:8080/"
        },
        "outputId": "72961629-a352-493a-8411-15bfa22851ab"
      },
      "source": [
        "age = 20\n",
        "print(age)"
      ],
      "execution_count": null,
      "outputs": [
        {
          "output_type": "stream",
          "name": "stdout",
          "text": [
            "20\n"
          ]
        }
      ]
    },
    {
      "cell_type": "code",
      "source": [
        "print(\"Your age is \",age)"
      ],
      "metadata": {
        "colab": {
          "base_uri": "https://localhost:8080/"
        },
        "id": "IUNIKPGJZGPD",
        "outputId": "a1a48b3a-f219-4340-b0c7-9e62444fe740"
      },
      "execution_count": null,
      "outputs": [
        {
          "output_type": "stream",
          "name": "stdout",
          "text": [
            "Your age is  20\n"
          ]
        }
      ]
    },
    {
      "cell_type": "code",
      "source": [
        "college_name =\"GEC Surat\"\n",
        "ClassName = \"Python\"\n",
        "day = 1\n",
        "print(college_name,ClassName,day)\n",
        "print(name)"
      ],
      "metadata": {
        "colab": {
          "base_uri": "https://localhost:8080/"
        },
        "id": "mPXL4vY-ZPEW",
        "outputId": "2185a5b9-519f-4e6a-b40a-4d50560a1f22"
      },
      "execution_count": null,
      "outputs": [
        {
          "output_type": "stream",
          "name": "stdout",
          "text": [
            "GEC Surat Python 1\n",
            "GEC Surat\n"
          ]
        }
      ]
    },
    {
      "cell_type": "code",
      "source": [
        "college_name =\"GEC Surat\"\n",
        "ClassName = \"Python\"\n",
        "day = 1\n",
        "print(college_name,ClassName,day)\n",
        "name"
      ],
      "metadata": {
        "colab": {
          "base_uri": "https://localhost:8080/",
          "height": 54
        },
        "id": "rfxdxAbpZjDb",
        "outputId": "9fc1776d-b20c-4e3e-8223-6d3dd4dcb7ae"
      },
      "execution_count": null,
      "outputs": [
        {
          "output_type": "stream",
          "name": "stdout",
          "text": [
            "GEC Surat Python 1\n"
          ]
        },
        {
          "output_type": "execute_result",
          "data": {
            "application/vnd.google.colaboratory.intrinsic+json": {
              "type": "string"
            },
            "text/plain": [
              "'GEC Surat'"
            ]
          },
          "metadata": {},
          "execution_count": 25
        }
      ]
    },
    {
      "cell_type": "markdown",
      "metadata": {
        "id": "mqmTIyLV0foI"
      },
      "source": [
        "Write a program to store your height in a variable"
      ]
    },
    {
      "cell_type": "code",
      "metadata": {
        "id": "lHVAlae4DYE5"
      },
      "source": [
        ""
      ],
      "execution_count": null,
      "outputs": []
    },
    {
      "cell_type": "markdown",
      "metadata": {
        "id": "m75MMdyKzAJq"
      },
      "source": [
        "# Input Function"
      ]
    },
    {
      "cell_type": "markdown",
      "metadata": {
        "id": "Hs7jy5CD05YT"
      },
      "source": [
        "### Ask for user data\n",
        "\n",
        "The input() function allows a user to insert a value into a program. input() returns a string value."
      ]
    },
    {
      "cell_type": "markdown",
      "metadata": {
        "id": "SAsPYhyqJKCz"
      },
      "source": [
        "input function asks and takes some data from user.\n",
        "\n",
        "you may or may not store it into a variable.\n",
        "```\n",
        "Syntax1:\n",
        "input(\"Write your question here\")\n",
        "\n",
        "Syntax 2:\n",
        "variable_name=input(\"Write your question here\")\n",
        "```"
      ]
    },
    {
      "cell_type": "code",
      "metadata": {
        "id": "JqkIQz0l0867",
        "colab": {
          "base_uri": "https://localhost:8080/",
          "height": 54
        },
        "outputId": "a2f9524c-2a4b-4a34-d346-36171d22c0a8"
      },
      "source": [
        "input(\"Enter your name:\")"
      ],
      "execution_count": null,
      "outputs": [
        {
          "name": "stdout",
          "output_type": "stream",
          "text": [
            "Enter your name:GEC\n"
          ]
        },
        {
          "output_type": "execute_result",
          "data": {
            "application/vnd.google.colaboratory.intrinsic+json": {
              "type": "string"
            },
            "text/plain": [
              "'GEC'"
            ]
          },
          "metadata": {},
          "execution_count": 26
        }
      ]
    },
    {
      "cell_type": "code",
      "metadata": {
        "id": "bRJf4J91dQuD",
        "colab": {
          "base_uri": "https://localhost:8080/"
        },
        "outputId": "049732a1-bfea-4978-c80e-7386fdab5f52"
      },
      "source": [
        "user_name = input(\"Enter your name:\")\n",
        "#input(\"Enter your name:\")=user_name---- error \n",
        "print(\"Your name is:\",user_name)"
      ],
      "execution_count": null,
      "outputs": [
        {
          "output_type": "stream",
          "name": "stdout",
          "text": [
            "Enter your name:Bhoomika\n",
            "Your name is: Bhoomika\n"
          ]
        }
      ]
    },
    {
      "cell_type": "code",
      "source": [
        "input(\"Enter your name:\")=user_name"
      ],
      "metadata": {
        "colab": {
          "base_uri": "https://localhost:8080/",
          "height": 136
        },
        "id": "wPS0OOM3aZ2E",
        "outputId": "226c5054-981a-470e-c3cc-e84bbd71e9f3"
      },
      "execution_count": null,
      "outputs": [
        {
          "output_type": "error",
          "ename": "SyntaxError",
          "evalue": "ignored",
          "traceback": [
            "\u001b[0;36m  File \u001b[0;32m\"<ipython-input-30-3abd9bb32630>\"\u001b[0;36m, line \u001b[0;32m1\u001b[0m\n\u001b[0;31m    input(\"Enter your name:\")=user_name\u001b[0m\n\u001b[0m                                       ^\u001b[0m\n\u001b[0;31mSyntaxError\u001b[0m\u001b[0;31m:\u001b[0m can't assign to function call\n"
          ]
        }
      ]
    },
    {
      "cell_type": "code",
      "source": [
        ""
      ],
      "metadata": {
        "id": "XBpe1M9mawsZ"
      },
      "execution_count": null,
      "outputs": []
    },
    {
      "cell_type": "markdown",
      "source": [
        "# Type function\n",
        "\n",
        "Type function can be used to get type of any identifier in python\n",
        "\n",
        "```\n",
        "Syntax: type(variable_name)\n",
        "```\n",
        "\n"
      ],
      "metadata": {
        "id": "p8sG5W1bKzon"
      }
    },
    {
      "cell_type": "code",
      "source": [
        "name=\"GEC Surat Students\"\n",
        "age = 20\n",
        "height=5.6\n",
        "gender = True   # True=male\n",
        "print(name,age,height,gender)\n",
        "gender2=False\n",
        "gender2"
      ],
      "metadata": {
        "colab": {
          "base_uri": "https://localhost:8080/"
        },
        "id": "HhBmE3t6LEN_",
        "outputId": "c8d899ba-106a-4ebc-e33d-8321081b38ad"
      },
      "execution_count": null,
      "outputs": [
        {
          "output_type": "stream",
          "name": "stdout",
          "text": [
            "GEC Surat Students 20 5.6 True\n"
          ]
        },
        {
          "output_type": "execute_result",
          "data": {
            "text/plain": [
              "False"
            ]
          },
          "metadata": {},
          "execution_count": 33
        }
      ]
    },
    {
      "cell_type": "code",
      "source": [
        "print(type(name))\n",
        "print(type(age))\n",
        "print(type(height))\n",
        "type(gender2)"
      ],
      "metadata": {
        "colab": {
          "base_uri": "https://localhost:8080/"
        },
        "id": "M26Jv97Vbsqn",
        "outputId": "b73e8bf6-564b-492c-c3c4-c26db5e575a5"
      },
      "execution_count": null,
      "outputs": [
        {
          "output_type": "stream",
          "name": "stdout",
          "text": [
            "<class 'str'>\n",
            "<class 'int'>\n",
            "<class 'float'>\n"
          ]
        },
        {
          "output_type": "execute_result",
          "data": {
            "text/plain": [
              "bool"
            ]
          },
          "metadata": {},
          "execution_count": 38
        }
      ]
    },
    {
      "cell_type": "code",
      "source": [
        "print(\"hello\")"
      ],
      "metadata": {
        "colab": {
          "base_uri": "https://localhost:8080/"
        },
        "id": "xbxIq_QncYSo",
        "outputId": "837c1e0e-209d-4dee-a428-be69fa65de8b"
      },
      "execution_count": null,
      "outputs": [
        {
          "output_type": "stream",
          "name": "stdout",
          "text": [
            "hello\n"
          ]
        }
      ]
    }
  ]
}