{
  "nbformat": 4,
  "nbformat_minor": 0,
  "metadata": {
    "colab": {
      "name": "Python  2 Day 3",
      "provenance": [],
      "collapsed_sections": [],
      "authorship_tag": "ABX9TyPDSk1xkyvpny6Ng+FRBGLg",
      "include_colab_link": true
    },
    "kernelspec": {
      "name": "python3",
      "display_name": "Python 3"
    },
    "language_info": {
      "name": "python"
    }
  },
  "cells": [
    {
      "cell_type": "markdown",
      "metadata": {
        "id": "view-in-github",
        "colab_type": "text"
      },
      "source": [
        "<a href=\"https://colab.research.google.com/github/BhoomikaSheth/PythonBasicNotes/blob/main/Python_2_Day_3.ipynb\" target=\"_parent\"><img src=\"https://colab.research.google.com/assets/colab-badge.svg\" alt=\"Open In Colab\"/></a>"
      ]
    },
    {
      "cell_type": "markdown",
      "metadata": {
        "id": "-hSz_1PdQ7FO"
      },
      "source": [
        "#Dictionary"
      ]
    },
    {
      "cell_type": "code",
      "metadata": {
        "id": "trvLllmlkx4R"
      },
      "source": [
        "d={} #empty dictioanry, dict is a group of key,value pairs"
      ],
      "execution_count": null,
      "outputs": []
    },
    {
      "cell_type": "code",
      "metadata": {
        "colab": {
          "base_uri": "https://localhost:8080/"
        },
        "id": "ZMMxfqamk1_v",
        "outputId": "5ccb372d-95af-4be4-b456-69cd67e93ae7"
      },
      "source": [
        "type(d)"
      ],
      "execution_count": null,
      "outputs": [
        {
          "output_type": "execute_result",
          "data": {
            "text/plain": [
              "dict"
            ]
          },
          "metadata": {},
          "execution_count": 3
        }
      ]
    },
    {
      "cell_type": "code",
      "metadata": {
        "colab": {
          "base_uri": "https://localhost:8080/"
        },
        "id": "UnUXtfoNlA8E",
        "outputId": "f4c0214b-c447-44b7-f581-ba711b3962ad"
      },
      "source": [
        "employee_info={'name':'xyz',\"id\":12345,\"gender\":True,\"contact\":5658987}\n",
        "employee_info"
      ],
      "execution_count": null,
      "outputs": [
        {
          "output_type": "execute_result",
          "data": {
            "text/plain": [
              "{'contact': 5658987, 'gender': True, 'id': 12345, 'name': 'xyz'}"
            ]
          },
          "metadata": {},
          "execution_count": 4
        }
      ]
    },
    {
      "cell_type": "code",
      "metadata": {
        "id": "xEkkVaPQlYFr"
      },
      "source": [
        "employee_info={12345:{'name':'xyz',\"gender\":True,\"contact\":5658987},\n",
        "               12346:{'name':'abc',\"gender\":True,\"contact\":5658237},\n",
        "               12347:{'name':'ijk',\"gender\":False,\"contact\":5641237}}   # nested dictionary"
      ],
      "execution_count": null,
      "outputs": []
    },
    {
      "cell_type": "code",
      "metadata": {
        "colab": {
          "base_uri": "https://localhost:8080/"
        },
        "id": "K3Ejj8M6lzW4",
        "outputId": "b4e12fcd-f341-4c46-b0c8-44acd4eb5dd5"
      },
      "source": [
        "employee_info"
      ],
      "execution_count": null,
      "outputs": [
        {
          "output_type": "execute_result",
          "data": {
            "text/plain": [
              "{12345: {'contact': 5658987, 'gender': True, 'name': 'xyz'},\n",
              " 12346: {'contact': 5658237, 'gender': True, 'name': 'abc'},\n",
              " 12347: {'contact': 5641237, 'gender': False, 'name': 'ijk'}}"
            ]
          },
          "metadata": {},
          "execution_count": 6
        }
      ]
    },
    {
      "cell_type": "markdown",
      "metadata": {
        "id": "iM6EVMO2l7Jq"
      },
      "source": [
        "Here are some of the important points about a Python dictionary:\n",
        "\n",
        "1. A key in a Python dictionary can be a `str` (string), `int` (integer), `float` (a floating-point number) and a `bool` (boolean) data-type. Additionally, it can also be a tuple. In general, any immutable Python object can be a key in a Python dictionary. The term **immutable** means **unchangeable**. A dict key cannot be a list\n",
        "\n",
        "2. Any Python object (whether mutable or immutable) or a data-type can be a value in a Python dictionary.\n",
        "\n",
        "Let's go through a few examples for keys and values in a Python dictionary.\n"
      ]
    },
    {
      "cell_type": "markdown",
      "metadata": {
        "id": "EncSgVB8nGEp"
      },
      "source": [
        "![image.png](data:image/png;base64,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)"
      ]
    },
    {
      "cell_type": "markdown",
      "metadata": {
        "id": "h2Bu-K8jnKre"
      },
      "source": [
        "![image.png](data:image/png;base64,iVBORw0KGgoAAAANSUhEUgAAC3YAAACYCAYAAAASyJqnAAAgAElEQVR4nOzdL3TyvBfAcSQSiUROIpHIyclJJHISh5ycRE5OIieRSCQSiUQi7yue071p6J+0zU3S8v2cwzm/3/uM0qbJzU2atiMBAAAAAAAAAAAAAAAAAAAAAEQ1ir0DAAAAAAAAAAAAAAAAAAAAAPDsWNgNAAAAAAAAAAAAAAAAAAAAAJGxsBsAAAAAAAAAAAAAAAAAAAAAImNhNwAAAAAAAAAAAAAAAAAAAABExsJuAAAAAAAAAAAAAAAAAAAAAIiMhd0AAAAAAAAAAAAAAAAAAAAAEBkLuwEAAAAAAAAAAAAAAAAAAAAgMhZ2AwAAAAAAAAAAAAAAAAAAAEBkLOwGAAAAAAAAAAAAAAAAAAAAgMhY2A0AAAAAAAAAAAAAAAAAAAAAkbGwGwAAAAAAAAAAAAAAAAAAAAAiY2E3AAAAAAAAAAAAAAAAAAAAAETGwm4AAAAAAAAAAAAAAAAAAAAAiIyF3QAAAAAAAAAAAAAAAAAAAAAQGQu7AQAAAAAAAAAAAAAAAAAAACAyFnYDAAAAAAAAAAAAAAAAAAAAQGQs7AYAAAAAAAAAAAAAAAAAAACAyFjYDQAAAAAAAAAAAAAAAAAAAACRsbAbAAAAAAAAAAAAAAAAAAAAACJjYTcAAAAAAAAAAAAAAAAAAAAARMbCbgAAAAAAAAAAAAAAAAAAAACIjIXdAAAAAAAAAAAAAAAAAAAAABAZC7sBAAAAAAAAAAAAAAAAAAAAIDIWdmNw3t/fZTQayWg0kre3t9i7AwBBEQMRg2u9o36m4eXlRUajkYzHY/n5+Ym9O9EMqT4O6ViAvhl6TCW+pIXz8XzIs/tl6H2CK+qjvqHXNepQejgnAFIXq28cep8MACENNecc6nEBAPSxsBuDs1wu/xKj5XIZe3cAIChiIGJwrXfUzzRk52A0Gsl2u1X9rePxKIfDQW63W6fv3+/3Vt8/n89yvV4L/02zPv7+/spqtZLVaiW/v79et12EtgXEEzKmxuAaX0LHvWdFvM97hnpHnt0v5Nn/UB/1kX/88wz9QCpo1wBSF6tv7HufTF86LJxP9N1Qc86hHhfKEY8xZNTvsJ5+Yffr62tu0DWdTuXr68vLtn9/f2U6nea2v1gsWk+Yww2JEYBnRgxEDCw46ZdQFxzW6/Xf74zHY7lcLo2+v1gsct9vumhls9nkvm/Tqo/3+13G43GnfW+KtgXE0/eLuHVc4kuMuPesiPf/e5Z6R57dL+TZ/1Af9ZF/PE8/kAraNYDUsbC7OfrSYeF8YgiGmnMO9bhQjHiMIaN+h/fUC7t/f39zAy7zs9/vO237er3mKrP5OR6Pno4ARUiMADwzYiBiYMFJv4S64PD19ZX7rSY3T95ut4cc+vv7u9Hvz+fzv+/OZrOHf9eqj5fL5WHfmy62aYq2BcTT54u4LlziS4y496yI9/97lnpHnt0v5Nn/UB/1kX88Tz+QCto1gNSxsLs5+tJh4XxiCIaacw71uFCMeIwho36H99QLu7+/v0sXdnftUD8+Pkq3fTgc/BzAE3h7e/srt5+fH6fvkBgB/2vThtBvxMDh6FP7ZcFJv4S64GAP7t7e3py/u9/vH3Lo1Wrl/H17wcp6vX74G836aL61Zzqdqr+xh7YFxNPni7guXONL6LinJfX8i3ifN5R6V4U8u1/Is/+hPuoj//hnKP1A6vmHCO0a0NSHGNAHLOxuZyh9Kf7hfMIUu39hnc//hnBcsetT3xCPYRpa+6F+h8XCbmPA9fr6mvv/5/O51Xbv93uuIpuNlIXdzcxms8YD4iEkRoAvbdoQ+o0YOBx9ar8sOOmXkBcczHo8mUycv7darR4WnBQ9DbCMvWCl6G08mvXxdrvJfr+X/X4f5BVUtC0gnr5fxK3jGl9Cxz0tqedfxPu8odS7KuTZ/UKe/Q/1UR/5xz9D6QdSzz9EaNeApj7EgD5gYXc7Q+lL8Q/nE6bY/QvrfP43hOOKXZ/6hngM09DaD/U7LBZ2GwOun5+f3P/fbDattmtuZzqdym63Y2F3SyR8QDdDSxJQjxg4HH1qvyw46ZeQFxzst9i45sFm/Tc/p9Op8e+Ox+PCu4WHVB+HdCxA3/T9Im6dZ4svqedfz3Y+QJ7dN+TZ/1Af9ZF/DEvq+YfI850TIKQ+xIA+YGE3AOTF7l9Y5/O/IRxX7PoE9BntB12wsNuaADefrt32kfGLxSK3OLzod+CGhA/ohiTh+RADh6NP7ZcFJ/0S8oLD7+9v498zXy0/Ho9z3//6+nL6XbP9lNW1IdXHIR0L0DdDv4j7bPEl9fzr2c4HyLP7hjz7H+qjPvKPYUk9/xB5vnMChNSHGNAHLOwGgLzY/QvrfP43hOOKXZ+APqP9oIuoC7uPx2PUx7IXLbh2eZ1kldPplPv+5XLxurD7dDrJ9Xpt/f0qh8NBLpdLo+9cLhfnJ7q0oZXwXS6XVov2y5zP58Zl18TpdPK6v01/W6vOZdv3fWza9TL0b3YpI40koU2siO1yuXivx1rnvGv5hhocxmhnWrRibNf4GTrJ79KXhV5wot03xaDRpsq2F/KCw/1+zy0acTnvZu68XC5lPp83+r65YKVqkUqMnLGJJn1X6sdyOBwa/fb5fPa6r77bV59y/9vtJsfj0cu2mki1b+3620X6chG3bT4c8sKDj5y9a/v0nX/5jj/k+v6EjI/k2XGRZ/9v6Hl2qnNzXX+3CPmHP+Qfbp49BwmZN/Qtlvmcd+9zHpLSNZyUrlsMKQ/rc58c6pqe7xhzOp2CXov0Pd/no+8IPa+nWeaa+fTQ5p5NKfUvIX5/iGNJke65dArxKWR9SuF4NbbRBPG4HeJx/wzheqi24Au7r9ervL+/5wY6s9lMfn9/Q+9K4YLr+/0u0+n077+9vr422uZ6vX74bpeF3V9fX/L+/p57Cnj2mc/nstlsnBfHf35+yng8lul0+rcPt9tNVqtVbrvT6VTO53PhNu73u3x+fuYm/s3vrVarThMv9/tdXl9fZblcynK5zF2gmM1mf/89+xSdn7LE6Pf3V1arVS5ovry8yPv7e+Pgvt/v5f39PVdXzP18e3tzDhhF5yXb39fX19y22+5vE9p1TsT/sWnXS83f9F1GPtpQ01hxu93+2lXTeP75+fm3vc1m4/y9ov2dzWa5dnc8Hgv7m/f3d/n+/m78O5rnvGksruI6OLzf77Jer2UymTj1d12OP2YdCRlju8ZPH+23CZ99mfaCEx9908fHh4zHYxmPx/Lx8VH7m6fT6a/ezudzp/a93W5lMpnIeDyura8afdfv76+s1+uHbc7n89zNiqEvOJhtbTwe154rMx5ut1vZbDa579cN8Ozcu2zyQzNnzGKPS13InE4nWa/Xuf0yxxVVfVeI/LdMWZz9+fl5aLNZ+yuq26fT6aHfzva1aX/ou331Lfff7XaF9Wg2m8l6ve48IdinvrUL3zE164cmk4nzU1Gz8zibzSpvOtfMh1377tBxL9O1ffrOv7THpuT6j99vUu+042OGPLsaebY/z5hnm1Kdm+uC/CO/D+QfaeQfIs+Zg4TKG/oWy3y0oYzP8V6IeJfSNRx7e6lctxhSHtbHPrnNuXPtS0PEmNvtJh8fH4X15+Xl5aFtLJdLeX9/b/QbJp/jtoyPvqPLNprmRr7KXLN+DHnuOfX+pam+rPPJ9jXk2pKmczYpxKeQ9SmF4/W9DeIx8Vir/aQwD5tS/hhq3B5T0IXdx+Pxb0Kn6NN2UV9bZQuuzUnt0Wjk3GnbT0rJBlltFnZfLpfCyYyiz3Q6derIzMr8/f0tl8tFXl5eCrf58/Pz8P3T6VT69+ZnMpm0Xqh/PB6djtn82A3RTozu9/vD4NX+jMfjwmO2HQ4HpzLIPuv1unab9nnxub9NhKhzGscWol5q/qbvMvLdhlxixf1+z8X2xWLhVI52zFytVk7fcylDO463bZ8ZzXPeNBY3KY+qweHb21vut97e3tSOP2YdCRGHfMVPH+3XhXZf5nPBic++yTzvLosePj4+ctuvm3C363nVYEqj7zJvLiz7ZPtk/rcQC06+vr5yv1n3Rhxzcu5wOMjhcMh9vy6XNs/1bDYr/TvNnLFpXXfpt0ajf4PuonaveSxNjvX7+1tut9vDpIz9mc1muePY7Xa5eF/UFlxvjvXZvvqW+1+vV6eYOZlMOi2G7lPf2pZGTDVjm2tO47ptzXxYq4/vGvd8tU+f+VeIsSm5fp5reYSKj+TZ5NnmfyPP/r8+pj4fmMrcLPlH8bbJP/59YuYfIs+Vg4TKG3yUgSlELOvahjIa473Q8S72NZxMStcthpSH9b1PbnLu2vS5GjHm5+encEGfy6cpjXGbj77Dxzaa5EY+y1yzfgx57jnl/qWN1Nf5ZGKsLXFtmynFpxD1KaXj9b0N4vG/D/HYf/tJYR42hfwx5Lg9tmALu+/3u1OjavI0667KFlyfz+fcf3cdAJqT6dPp9O8pJ00Xdv/8/BQugJ9Op7JcLkuDel0DNBvNbrerrOR2Q/n5+XkIsPP5XNbr9d/d+fa/f35+OpWb6Xa7VS7+L2qEVcc5n88f7s6YTCalZVh394d9jPbdNEV3AtU9ocA+L/adKV3211WoOuf72ELVS83f9F1GvtuQa6ywJ7pc7qb7+fnJfcfH4oavr6/CNl92DC4TaNrnvEksbloeZYmUnTC9vr6WPpnL1/HHqiMh4pCv+Omj/brQ7st8XXT13TfZ9alu0YOdt9bdLeu6KEKj7yq72LBYLB7K0I6RIRac2K9sr1qMY/5t9tRA+6Jr3R3I5oWSqr/VzBmb1HV7UG3uU9H4qejCuOax1LH7YTuGzGazwoma+XwuIo8XhrO7t+2/H4/HtTfc+m5ffcv97fO+WCxks9nIdruVt7e33Ha7TNr3qW9tQyumhrqI6zsf1ujjfcQ9X+3TV/4VamxKrp/Xpn5qxkfy7H8f8uz6uO3LM+bZIunPzbVB/lG+bfKP+PmHa1kPJQcJlTf0LZb5aEPZcWuM90LFu1Su4WRlmcp1iyHlYX3vk5ueuzZ9ru8Yczwec/VjMpnI6+urbLfbhyf0FsWgprTHbVl9adp3+N5G1fn0Xeah5juHNvecav/SVurrfETirC2xj6uqbaYUn0LUp5SOV3MbxGPisc/2k8I8bAr5Y6hxewqCLeze7/dOFbbqDn7fqhZcm5VgOp06bc8MXObTx5ss7L5erw8BZrvdPgSu8/lcGPiqKqR5TGYHsFgs/iavjsfjw+9dr9dc0Hl5eSlsRPYdMS4Bt465n64DcbsBmwHK3O/r9foQOOrqn/l3Zefx+/s7V17mIv+6/TW/52N/XYSqc76PLUa91PhN7fPftQ25xgq7g3f5LfMOPtc4W7e/Zl1eLBa5dnq73eT7+/uhvtfFZM1z3iQWtymPokRqu90+xMayGOXz+GPVEe04pBU/Rdq1XxfafZmPi64aZXu73ZyfCmkvkMi2W1UG5n5MJpPCv9WIKafT6WE/f35+cnef7vf70hssQyw4EcnX55eXl9K/M/Nms46YT/2qmrC3y6NqkZhmzuha139/fx/OX3bXsl0uWRkWbU/zWOqU9cNvb2+5tng4HB4mMswLTfP5PBeTLpfLw8RQ1RueNNqXdrz02S/ZY86yuv/9/S0vLy/entjdt761jmZMDXUR13c+7LuP9xX3NNqnSLv8K+TYlFw/z6XehYyP2v0GeTZ5dpFny7P7ODdXh/yjetvkH8VCz40/Sw4SKm/oWyzz1YY0x3uh4l0q13BSum4xpDxsCH1y02tObfpcn+3gfr/n9nk+nz/cpGO/FWQ6nXZaf+C7P/fRd/jqf1zOp0aZa8bJIc89p9i/+JTaOp+Ya55cY22K8SmjUZ9SPF7icTnicRrxOIV52Nj5Y8j5/hQEW9jt+oquLov7mqpacG3/W91dDvaj9M3A1WRht33Xe93TWu1XblZV7qJEaLlc1k4smvs0nU4rK709MVP3pJc6vhK+qtdy2J1E1VMddrud091+9nmpelWc5v66CF3nfB1bjHqp8Zva599XG3KJFeZvVb2SV+TxlZddYkXR/q5Wq8onwph/+/7+XrrtUOfcpXxdVSVSdvutusgi4v/4Y9SRUHHId/wU0Zt00e7LfFx01Spbc1BQlXPauVv2qVq8YA4Oy+KKRkyxX3NclrPebrfCu9tDTejZ57TsYpz5hC9z3+xzXPZ98+/qBqea8cG1rpvbnEwmlW3zdrvJarWqfe2VRj5Rpclvl71+bLFYFLaH2+2Wu6u6qt1qtK8+5f7m8dfdcd9Vn/vWOpoxNdRFXPM3fOTDvvt4X3FPo32KtMu/Qo5NyfXzXOpdyPhInk2e7Rq3fXq2PLuPc3N1yD+qt03+USz03Piz5CCh8oa+xTJfbUhzvBc63sW+hpPSdYsh5WFD6pNdrzm16XN9tgP7Bp2q+GJus8s1Rd/9uY++w1f/43I+Nco81Dx73bb7NvecYv/iU2rrfGKueXKNtSnGp4xGfUrxeInHxOM+xOPY87Cx88eQ8/0pCLawu+w1XfbH9ys/qlQtuLYneOouEJt3+dt/67qw2w4qrhel7TsXygK+3Whms1ntnQmXyyW3Ty6vtzbP9Xg8djqGMj4SvroBsv00+brJJBe32815mzH3N3Sd83VsMeql1m9qn38fbcglVog8Ppml6qKFfTGn7gJHk/11mRSz7ygsujsv1Dl3LV9XZYmUXeZ1F1k0jj9GHdFqY9rxUyT+pEvbvqzrRVfNst3tdk71ylz04DLgs+94LSorjTZlP0Wm6sK4SPFFh1B1y366U9nr0sx6b9+x7fJ98wJMk7vLfffBLnXdLhOfNzmFzCeb/rZdB+fzeWU/aI8jQ/bZrlLI/c0YqP0WrD73rVW0Y2rIi7i+8mH777r28T7jnqsm7VOkef4VOv6Q6+e51LuQ8dEVeTZ5tk/PlGf3dW6uCvkH+YdI+vmHyPPkICHyhr7FMl9tSHu8l1K8076Gk9J1iyHlYUPqk5tcc2q7MMdXOzAX61W9PUZE5PPz0/lvfXDtz330Hb76H5fzqVHmoebZXbbdp7nn1PoX31Ja5xP7+oFrrHUVMj5lYtYn4jHxOEM8/ifmPKxI/Pwxxfl+TcEWdtsTJmWfkKvp6xZcr9frXCUvm2i0JyTsO3hdF3bbE1CuF6Ttyr3b7Qr/zm40VU8Oz5gBwTVhse8s6vJqkq4Jn8vAzk4EysqvKfNVAq4D7tD7G7LO+Ty2GPVS6ze1z7+PQZNLrBB57Oir7rYyb4apelVw0/11ncyx7+wsevJCiHPepHxdFSVSv7+/uX6q7iKLiM7xx6gjWm1MO36KxJ90EWnXl3W96KpZttfrNfc3Zcdkl332v8ue/GS3l6KBqUabsmNZ1R22GbuOh6pb9k2TRYO38/mcKyM7Tpnnpeziilln6/pIzT64TV339dTs0Plk0982x1ijUflTITN2265bTBZjzCISP/c335BV94rqrvrct1bRjqmhLuL6zIftbfvu47s+4dSVa/sUaZ5/hY4/5Pp5LvUuZHxsgjybPNuXZ8qz+zo3V4X8g/xDJP38Q+R5cpAQeUPfYpmvNqQ93ksp3mlfw0npusWQ8rCh9Mmu567ou659rs92YC44qltMb6636LrI0pVLf+6j7/DV/7icT40yDzXPPrS559T6F99SWucT+/qB74XdIuHiUyZ2fSIeE49FiMeZmPOwIvHzx1Tn+7UEW9h9vV5zj84v+5Q9FURD3YJr+/UAn5+fhdsx744pesy968JuM3DXvTLOdL/fc9t3eX2Aa8Jg3r2yWCycvmNPpHVZtNg14XM9Tpeg15Trvsfc3xTrnMuxxaiXWr+pff5DtaGi706n08LJ/Nvtlpv0L4utbX7TdX/Ni5plSUFK57wJe/un06nxRRaRMMcfoo5otTHt+CkSf5DcZB98XnTVLtvFYlFZt82ns8zn84d6XTQ4MJ9eV3aTokabMgcuVa9asmnkPS7MO2iL3tJjXkApKkezbhR93x6c1w3kNPtgl22bf9Okrrf9PZuvetD0t+2LuXXsJyYV9S2xxywi8XN/+ylqs9nM+81jmT73rVW0Y2qoi7g+8+Em2w4d95poklM1zb9Cxx9y/fLfK6t3IeNjE+TZ5Nk+PUuendI8ja9zTf5B/tH0b0XijH+eJQcJkTf0LZb5akPaeUhq8a5JP5FKDEjlGnKsPOzZ+uSm3w2R39Vt11yP0fWBUa5c2qePvsNX/+NynjTKPPY8u6lPc8+p9S++pbTOJ/b1A421AaHiU5Pf00Q8Jh6LEI9NseZhReLnj6nO92sJtrBbpP6p3aEfke6y4Np8PUDZZENdI3Rd2N2lQzf3oawc22zfbLjT6VSWy2Xtxwwgo1G3xfqhEr4ugfR4PMrhcJDdbifb7fbv4/vpS772t+tvF+2Dzzrncmwx6qXWb2qf/9ALu+14V/RUA/tvut5B1WZ/7QnhzWbz8DcpnfMm7Ml2Mxa9vLw4XWQR0Tv+0HVEq41px0/X/fAlVF/W9KKrRtmag9/RqPqpMNnFInO79mud7CfklV2Y1mhTbZ92aW4z5ASM/eQb+25rs4yKXp9Vd7e2OUngUh6afbDLts1tde0P+pRPNp3McZl0CZkbppz7mzHB/I2618A11ee+tYp2TE3tIq5LPtxk26HjXpGu7dPeR5fYGHpsSq5fXh5VdSpUfCxCnv0/8mw9z5JnpzRP4yuXJv8g/7D3McX8Q+S5chDtvKFvscxXG9LOQ1KLd5rXcFKqQ0PKw56tT276Xa12YD4ZcjKZlD4ZUiS/ZqPuyaZNde3PffQdPrbhcp40ylwzTjbddp/mnlPrX3xLaZ1P7DVPXeJ0CvFJJFx9SuF4icd+tk08bve3rmLNw4rEzx9F4s73hxZ0YbfIv5XzRU/u3mw2zpM/vrgsuLYnxu2/sSe+ix7b77qwu82gLmM2iLJH2LdpNC8vLw/nqumnS8NJKeEz7ff7wkBR9ok5KeS6nVTqnMuxxaiXWr+ZYpLQZXBhd/hFiaX5JKkuk8Fd99ccABTV/5TOeRN22zTrwGhU/ppbm9bxh64jIS5qaMRP1/3oIkZf5vJ32mVrPyHMHsCZg8IsZ6u6a9q+K7TsdWwabaptPHE9r77Zg3J70GjG5aJXbNW93tQsj7IFAmV/H2OCwzzerhcjYuaTKUzmaOeGfcn9b7db6X5Op1P5/PysnBx01ee+1XUbGjE1xYu4dflwk22HjnsZn+1TpHlsDD02JdcvL4+qbYWKjxny7H8f8uyt8/e6epY8O6V5mtgP3XCta+Qf5B9N2kKVZ8pBtPOGvsUyX21IOw9JLd5pXsNJqQ4NKQ97xj65yXe12sH1es3F79VqVbhexF6v4eMN8D77cx99h49tuJwnjTKPPc9u6tPcc2r9i28prfOJveap6XGlFp9EdOtTasdLPPazbeJxu791FWseViR+/igSfr4/puALuzPZXTaHw6GyQmhyWXBtB1N74sJsDGV3irsu7DZ/Z71eNzqWEItsXe94MT/v7++dFuynlPCJ/AsO5t1QPpKLmBcPUq9zLos+QtVLrd9MMUnoMgkkkr87ajwe547bfuVl1Z1ertrur3mTUVH9T+mcN2Fv/3g85sp8Mpk4PRVPs52FrCNabUw7frruRxsx+zKXvwtdtnZul12wMuumOZix66zra5802lTbpya5nlcNZftsvhKq6PXvmbI6ZF/EdXnlUuwJDvM8NL2o2eb3bENa2K3VZ/U199/v97nfMT/T6bTzK8n63Le67qNGTE3xIm5dPtxk26Hjnkb7FGne3kKPTcn1q8ujjnZ8JM8mz24Sb3x7hjw7pXkajYdukH803zb5R7i58WfMQbTyhr7FMl9tSDsPSS3eaV7DSbUO9T0Pe8Y+ucl3NduBvWDt5eVFttut7Pd72W63uRtzRqORvL6+NjpGm1Z/LuKn7+iyDdfz5LvMNetH0233ae45tf7Ft5TW+cRe8+R6XCnHJ436lPLxdt0G8Zh43PZvm4gxDyuSRv6Y0Z7vT0G0hd0pcF1wbU8IZQvRr9dr7vtlTyVw/R3z7pKmgxLzu2V3zbdpNOZrCdq+0rqLlBK+osRiufz3KP/j8dh630MEszIp1jmXY4tRL7V+M8UkocskkMjj3Vzm3WFmPByPx9GeGimSnxT7/Px8+PeUznnX7duDgsViUTsA1WxnIeuIVhvTjp+u+9FU7L7M5e9ClO1ms/n7u8lk8tceDodD4f7ZixnMnM+1jDTalFmeTRYymuc/9ISeOTA0B41mnKoqH3MiwIwR5rkzz2mV2BMc5ra6XpCImU+mMJmj0b5ix8s227adz2dZr9e5+JW1nfP57LwdW5/71iraMbVqkq3rtrXy4SbbDhn3tNpn078VCT82JdfPa1v3NeJj7H6DPJs8+xny7JTmaTRyafKP5tsm/wg3N/7MOYjvvKFvscxXG9LOQ1KLd32MAalcQ46Vhz1jn9zku6HmUes+8/m80wMDNftzk4++o8022pxPH2Uee57d1Je5Z5H0+hffUlrnE3vNk8txpR6ffNen1I+36zaIx8Tjtn/bRIx5WJE08keb1vXQFLCwuyYwiDxOCGWvszQbyXQ67fw75t02TZ8yZlbOssrdptGYi9rbPvmsi5QSPnui0ldwjnnxIMU653JsMeql1m+mmCT4WHhsPn3HnKg165zGRJ/r/tqJYdErV1I65z62b75hYjSqfyqEdjsLVUe02ph2/HTdj6Zi92UufxeibM0BjZmbmYNM+/tmG8qeLGTHkqqBgUabMvepKhe1NakDvtl5dVb25rHYr443HY/H3PezQae5kMU1dsSe4OhS19v8nm1IC7s12lfseNlm22Wu1+vDK8m65CB97luraMdUc9LRtdxct62VDzfZdsi4p9U+m/6tSPixKbl+Xtexlc/4GLvfIM8mz36GPDuleRpfuTT5B/lH078ViTM3Tg7iL2/oWyzz1RXC7/MAACAASURBVIa085DU4l0fY0Aq15Bj5WHP1ic3/a5WO/j8/Mxtd7VaPSzIGY3+LVaqymVdafbnRXz0HU224XKeNMo89jy7qS9zzyLp9S++pbTOJ/aaJ5fjSj0++a5PqR9v120Qj4nHbf+2iRjzsCLx88cqvq+HpoCF3TWBIWNOCM3nc7nf77n/VlWhXH9nvV7//Y35ZPA65is1R6PuE6Im18XrWsxGu9lsnL6jFRzMAOfSSaS8uCOTYp1zObYY9VLrN0MmCZptyGaW12g0kuv16vyWg6ba7O9ut8vtS9Gdnymdcx/bv91uufowGuWfXGPTbmeh6ohWG9OOn/Z+uLbfOrH7Mpe/C1G2Ivnc7uPj42H/7Lhgxo3ZbCYi+YmH7L+V0WhTZlmNRiOn1x6LxF1wYt8NnNXt7JVQo9FITqdT5TbMv83OnXlnf1VsM8We4DDPn+vTD7v8nm1IC7s12lfseNlm23XMC+nj8bj1dvrct1bRjqnmZFLdq+yablsrH26y7ZBxT6t92n/rkn+FHpuS6+f5Glv5iI+x+w3ybPLsZ8izU5qn0ZibJf9ovm3yj3Bz4+Qg/+uaN/QtlvlqQ9p5SGrxro8xIJVryLHysGfrk5t+V6sdmNvNctX7/S6Hw+Hv0+UJ3TbN/ryKjzGnyzZczpNGmceeZzf1Ze5ZJL3+xbeU1vnEXvPkclypxyff9Sn14+26DeIx8bjsb33H49DzsPb2U1vYnfF1PTQFLOyuCQwZO+jYA7yqgOr6O/ZdSa533ZidXtWESJtGY++7r4WYrsxXrNU97SGjFRzMixvZnStdt6m5vy5SrHMuxxajXmr9pvb5D9WGbOfz+aFumUlC1wVsZfs7Ho/l9/e39jvm0xHKXr+Z0jn3tf3T6ZS70Fv16hHtdhaqjmi1Me34KdKu/daJ3Ze5/F2IshURWa1Wf3//8vKSWwgxmUwe/r7oblXzeOoGYhptyr4oXvYaa5P5xL2ueURb9lOazIt0RWVvMy+EzGYzud1uznm5KfYEh3k3/mg0kt1u57QPbX/PNqSF3RrtK3a8bLPtOj8/P7lycr1Iaetz31pFO6aaf+uS59htxbVe+cyH7W137eN9xT2t9inSPP8KPTYl18/zNbbyER9j9xvk2eTZIsPPs1Oap/GVn5F/kH+IpJ9/iJCDmLrmDX2LZb7akHYeEirepXANJ6U6NKQ8bCh9ct8Wdpv9R91NiD5o9udVfIw5Xbbhcp40yjz2PLupL3PPIun1L76ltM4n9ponl+NKPT75rk+pH2/XbRCPiccmzXgceh5WJH7+6MLX9dAUsLC7JjBk7Mptfupe3eb6O/ZTwLMJ9Cr2pFl2B0aRNo3G3qfQryYxL0i47rNWcDCDrfkavyL2BECqiztSrHMuxxajXmr9pvb5D9WGipgXaxaLRW67Lgm6K3O7o1H9xST79cRldTilc+5z+3afVNbuQ7SzEHUkVBzyHT9F2rXfOrH7Mpe/C1G2Io+xwDzestzOLL/Pz8/cb1blkUXH5aNN2U/le3l5qSwrexBdd17v97vsdjvZbrfy9fVVex5cFb1izTWvFnmMY+b2mpRr7AmO6/WaO3/ZW4GqfH9/F9bvZ1/YrdG+YsdLk8ZNnSk+sTtU/C+jHVPtBRFVCxnsOtWkXvnMh+1td+3jfcU9rfYp0jz/Cj02JdfP8zW28hEfY/cb5Nnk2SLDz7NTmqfxOTdL/lG9bfKPRzHmxslB/tc1b+hbLPPVhrTzkFDxLoVrOCnVoT7mYbF+N7U62vS7Wu3A/JvFYuF0o1gXmv15FR9jTpdtuJwnjTKPPc9u6svcs0h6/Uvm9/dXttutbLfb0pv1XKS0zif2mieX40o9Pvm+Zp368XbdBvGYeGzSWPORCT0PKxI/f3Th0k615md9Y2F3TWAwmY3N/NQF2Ca/Y0/Az2az0jsH9vt97k6muqfmtB3Y2fu0WCxqn9ByPp9lu922fg12xry7ZDQqfz2jSSs4mE+tGY/HhXdN3e/3h6e5++4AXffXVWp1zvXYYtRLjd/UPv+h2lCRosmnJgmBK/tCUlY3iybGjsdjLjEZjaqfOJXKOW/CZft2vShL6rTbWYg6EjIO+YyfIu3ab53YfZnr32mXbXacZjwwt1E2sW4+WcX+rguNNmU/Geb19fXhAtvtdis8p3Xn1X6Fsa/XQ9mDc7MsXZ7YZH/fPHdN8qIUJjjs81dWJy6Xy99YpOg1WM++sFvEf/uKHS9NdefqcrnIdDqV7XZbeoH9drvlJmu65CB97lvraMZUe0HEZDJ56NvbblszH/bdx/uIe1rtU6Rd/hVybEqun1dXHiHjY+x+gzybPFvkOfLsVOZpfM7Nkn9Ub5v8o1joufFnyEFC5g19i2W+5i4085BQ8S6Vazip1CGtfdHsG6sMoU/u28Juu8ztz3K5/Pt8fHzIdrvt9MRF3/25j77DZ//jcp40yjyFefZMX+ae2xybiH7/cr1eH+pDWymt8xGJu+bJ5bhSjE8m39esUzxe4jHxOKV47CrGPGzM/NFnO9Wan/WNhd0OgSFjP6p9NCqenOjyO/YdJllDWi6XstlsZLvdynq9lvl8/rAv39/flfvRZWBn/95kMpH393fZbrfy+/srh8NBttutfHx8eH2NwH6/f/jdrNN6f3+X8Xj80Fi1gq59p8tkMpGvry85HA5yOBwejt0MgDEnheqkVueaHFuMeun7N7XLKFQbKmJPVDWJm02Y+2smKtlvbTYb2Ww2hXX4/f29dvspnPMmXLZ/v99z+1qV2Gm2sxB1RLONacZPkXbtt07svsz177TLNmO+ztX8lD2F4HA4FP59k37Fd5u6XC4PsW8ymcjb29vfdsx/n81mufNQdV7tmxrr7ppvwmxn5sf1dWNF5340arZQLIUJjqI4OJ1O5fX1VbbbrWw2m4cFEy8vL0GPpU4qkzkifttX7HhpqjtXp9Mpt5/r9Vp2u93fvm42m4c21+UVdX3uW+toxlSRxwm88Xj8t+31ev3wtAnzOF3rle982Hcf7yPuabVPkfb5V6ixKbl+Xl15hIyPsfsN8mzy7MzQ8+yifUx9bq4O+Uf1tp89/3h7e4uef7iWdd9zkNDjqj7FMl9zF9p5SIh4l8o1HJE06pDWvmj3jWWG0Cf3bWG3yGO5uHxWq1Wrpyr67s999B0++x/X8+S7zFOYZ8/0Ze65zbGJ6Pcvdnl0mcNpk+P2bSzpyuW4UoxPJt/XrFM8XuIx8TileNxE6HnYmPmjz3aqOT/rEwu7HQODyL9JB3tA9/n56f13rtdr6dPBiz7T6dRpcr3LwO56vZYGg6qPjzsayi4oZB/7riTNoFt2p3TRcZsdVcxJIRcp1bkmxxajXvr+zRDnP0QbKlNUVr7vdLL39+fnp3Dy3v64vEJaJI1z3oTr9s/nc66cxuNx4d2B2u1Mu46EiEMa8TPTtP26iNmXNTkf2mUr8pijjUbVE1X2Xa/Zp8mFPI02dTqdHnLUos9isZDL5ZKbKKg6r/Z+ury+3VXRneiudwL7+L5IOhMcx+OxdAGO/Sl7vTkLu//x3b76kvvfbjen3MfH+dY6BlOI+F9FK6aK/KvPdX37aPTvAu7tdnO+QKyZD2v08T7inkb7zLTJv0KNTcn18+rKI3R8JM/+H3k2ebZrfczEnA9MYW6W/KN6213/ToT8wzXulXmGHCR03tC3WOajDWXHrZWHhIp3LrSv4YikUYe09kVEt2+sMoQ+uYnYC7vv93uuDCeTiSyX/55OWnceFotFq0VQPvtzH32Hz/7H9UYs32Weyjy7SL/mnlPsX+zyWCwWTvvl6/f7NpZ05XpcqcUnm+9r1qkdL/GYeKwVe0R01nxkQs/DxswffbZTzflZn556Ybf9BG6XyQH7kfQuryC1f8f1sfrf39+1FfL9/d35jlRzsqTtYsLf39+HO+qLPsvl0ssT00SqJ3pms9lDh9XmOJs8Qe7r66u0I53NZn8TVp+fn3//veoGAM39bSqFOtfm2GLUS1+/GaKMQrShMvbdZ6NR+Z1hbRUlBOfzuTQ5mkwmstvtGv9OzHPeRJPt2/1T1V1oWu1Mu46EikO+42emaft1EbMva3M+tMpWpDj5r7vIbL4ebDT6d4GpzXnw3aaqLgxMJpPc+TMnS6rquP06K5fXt7s6Ho8P+7lerzt93/WGnYxmfGi67dvt9lC37M9qtSod2MfMJ5v+thlXRiO/kzkZX+2rT7n/8XisvTi+XC47PVFO+xhsmvG/jkZMzdxut9JzNZlMZLPZ/PUr5t81nVT1lQ9r9fFd455G+8x0yb+0x6bk+nku5REyPpJn/488mzy7aX2MOR+Yytws+cf/yD/Syj9EnicHCZk3ZPoUy7q2IZNWHqIR71K8hmNK6bpFH/IwF33rk7ucO83xhks7sBe0lb1l5nw+y263k8VikSuzNnm07/7cR9/hq/9xOU8aZZ7SPHuf5p5T7F/s8ui6oDmldT6m0GtLXI8rxfhk8n3NOsXjJR5vOx2TiXicp7HmIxN6HjZ2/uirnWrOz/r01Au7ReTvceyui63N7zS5Y6LN72Su16scDgf5/PyU7XYr2+1Wfn5+Wi0Oy/bDZUF6lfv9LofDQXa73d8+bbdbr09Ksx2PR9nv97nfKgosbY7zcrn8fcelXG+3mxwOB/n6+vo7H0X1IdtmVQAMsb9NxaxzXY4tRr3s+pshy0izDVUxX2/S9c7eIlV3eh2Px1wd7nKnWybGOW+i6fbP53Ojv9doZ5p1JHQc8hU/ba7tt4kYfVmX+q9Vtub5dqnHWRtINacy4952+++VU/a5y869Sz06nU5yOBycX93ehBl/2hxv1+9rxocudf14PObqw36/rz1PMfPJpr9ttiHXxX3H47HVefbVvvqU+99ut1x/kR2vzzY8lL7Vhe+YWvS9bNvf398P3zfLumrbmvlwiD6+TdzL+GyfRfvVNv/SGpuS6+c1KY8Q8dH8rdD9hu88+/v7mzzbQp7trm/zganNzZJ/kH+kln+IPF8OEjJvyPQtlnVpQ0X77Xu85zPetSlbsw1oXMMpktJ1i9TzsBR+N3YdbfpdjRjz+/ubW0zjsobifr/n4nuXJyv67s999B1dt1F3nrTKPKV59j7NPae4RsBc5DYej73dnJ/SOh9TqLUlTY8rxfhk8n3NOsXjJR43P6ai/SUeP9JY82Hvj8txd5mHjZk/mny0dc35WV+efmE3AECP/aQnjbucurxmDvGFqCMAAABDRj6MVJHrA8BwkX8gZeQgAJA+80mlVW93qPrey8uL4h4OD2WOKvf7Pffk2+12G3uXgMEiHgNwxcJuAIAaM7kcj8cqT6jmQlK/hagjAAAAQ0Y+jFSR6wPAcJF/IGXkIACQPjOXeH9/d/7efD7/+95qtVLcw+GhzFHFfFr3fD739vYDAI+IxwBcsbAbAKDidrvJeDxudbdhE1xI6q9QdQQAAGDIyIeRInJ9ABg28g+kihwEAPrBvAlnNpvJ7Xar/c7393fujQzf39/6OzoglDnKmE/rHo/HcjqdYu8SMGjEYwCuWNgNAFBh3tk7Go3k5+dH5Xe4kNRfoeoIAADAkJEPI0Xk+gAwbOQfSBU5CAD0g71A7eXlRX5+fgoXt10ul9wiuCz/4InCzVDmKGPmT9vtNvbuAINHPAbgioXdAAAV5qtgJpOJWnLJhaT+ClVHAAAAhox8GCki1weAYSP/QKrIQQCgP+yFauZnsVj8PUHY/sxmM7ler7F3v5cocxTJzvtisSB3AgIhHgNwwcJuAIB3x+Mxl2Cu12u13+JCUj+FrCMAAABDRj6M1JDrA8DwkX8gReQgANA/Hx8fMh6PSxe3mZ/pdCpfX18sPO2IMofteDzK4XDgPAOBEY8B1GFhNwDAu9PpJMvlUpbLpby9vaneNfj19fX3W5+fn2q/A79C1hEAAIAhIx9Gasj1AWD4yD+QInIQAOin2+0mPz8/st1u5ePj4y+WL5dL+fj4kO12K/v9nsVsHlHmAJAG4jGAKizsBgAAAAAAAAAAAAAAAAAAAIDIWNgNAAAAAAAAAAAAAAAAAAAAAJGxsBsAAAAAAAAAAAAAAAAAAAAAImNhNwAAAAAAAAAAAAAAAAAAAABExsJuAAAAAAAAAAAAAAAAAAAAAIiMhd0AAAAAAAAAAAAAAAAAAAAAEBkLuwEAAAAAAAAAAAAAAAAAAAAgMhZ2AwAAAAAAAAAAAAAAAAAAAEBkLOwGAAAAAAAAAAAAAAAAAAAAgMhY2A0AAAAAAAAAAAAAAAAAAAAAkbGwGwAAAAAAAAAAAAAAAAAAAAAiY2E3AAAAAAAAAAAAAAAAAAAAAETGwm4AAAAAAAAAAAAAAAAAAAAAiIyF3QAAAAAAAAAAAAAAAAAAAAAQGQu7AQAAAAAAAAAAAAAAAAAAACAyFnYDAAAAAAAAAAAAAAAAAAAAQGQs7AYAAAAAAAAAAAAAAAAAAACAyFjYDQAAAAAAAAAAAAAAAAAAAACRsbAbAAAAAAAAAAAAAAAAAAAAACJjYTcAAAAAAAAAAAAAAAAAAAAARMbCbgAAAAAAAAAAAAAAAAAAAACIjIXdAAAAAAAAAAAAAAAAAAAAABAZC7sBAAAAAAAAAAAAAAAAAAAAIDIWdgMAAAAAAAAAAAAAgFbu97scDofCT5nD4SDn8zncTiauqjxOp1Nh2V6v18B7CQAAACAEFnYDA/X+/i6j0UhGo5G8vb3F3h1AnWadpz3pG1IZD+lYAAAAfCFHwjOi3g/Ly8uLjEYjGY/H8vPzE3t3gFLEHv8oUwwB9dgv3+U5hPPz+vr6dwz2pyh3mkwmf/++Xq8LtzmEcnFVVx7j8biwbMfjsVwul/A7jMFwbWfP1B5TxrgUAIDnwcLulk6nk9zv99i7AZRaLpd/g6vlchl7d7z5/f2V1Wolq9VKfn9/Y+8OEqJZ54fSno7HoxwOB7ndbp2+37b/O5/PpU+P0Czj0HFjKPUFANAv5MlIHTkSnhH1fljMBTTb7bb07/rSJ/dlP9Ecscc/yhRDMKT51xS4lqdr2Qwhzsxms0YLu82FyqvVqnCbQygXV3XlYS78tj9VT0V39YztGP+4trNnao8pcx2XAgCA/nvqhd2HwyGX+JxOp9rvXK/X3MB0sVgE2FOguSEOru73e25iYzwet16giuFhYXe19Xrd6QkOi8WiU9vbbDa579u0yjhG3BhCfQEA9At5MvqAHAnPiHo/LC4X0PvSJ/dlP9EOscc/yhRDMKT51xS4lGeTshlCnDGvn282GzkcDn+foofFmH9fllsNoVxc1ZXH6XTKlanPhd3P2o7xDwu7+4WF3QAAPI+nXtj9/f3daNBzv99zC9tGo5F8fn6G2VmgoSEOri6Xy8Nd6LxeDBkWdlf7+vrKtZ2vry/n795ut4e29/393ej35/P533dns9nDv2uVcYy4MYT6AgDoF/Jk9AE5Ep4R9X5YXC6g96VP7st+oh1ij3+UKYZgSPOvKXApzyZlM4Q4Yy5Mdrl+wMLuPJfyMPlc2P2s7Rj/sLC7X1jYDQDA82Bhd4NBj/m009FoJG9vb2F2FIP39vb2V6+KXkfWxlAHV9Pp9O+4ptNp4V3+CE+jDjfFwu5q9sRckz5sv98/TOqVvRqxiL0wfL1eP/yNZhmHjhtDqC8AgO5C50fkyUgdORIyKYwfQ6HeD4vrBfQYfXKbdkXuMFzEHv/6XKbP1O8+kzbndUjzrylwLU/XsulznMk0XdhtPkyt7EFqQygXVy7lYfK5sFvkOduxpj71vyzs7hcWdgMA8DxY2O046Nntdrm/nc/nDGjgTdO7sF0MdXB1u91kv9/Lfr/nNWAJ0ajDTbGwu555niaTifP3VqvVw8Luoqdul7EXhu/3+4e/0Szj0HFjKPUFANBN6PyIPBmpI0dCJoXxYyjU+2FxvYAeo09u067IHYaL2ONfn8v0mfrdZ9LmvA5p/jUFruXpWjZ9jjOZpgu7zWMu+/shlIsrl/Iw+V7Y/YztWFOf+l8WdvcLC7sBAHgeLOx2GPQcj0cZj8e5u1R5/RB8YmE3+i6FCQoWdtf7+PhoNdlnnl/zczqdGv/ueDwuvDFqKGUsMqxjAQC0l0J+BKSEHAmZZ4qP1PthSfkC+jO1K9Qj9vjX5zIlPgxTagu7n5Hv8hzC+Wm6sNt8ojELu93Kw+R7YTf86lP/y8Lufkl5XAoAAPxiYXfNoOd6veZePTQej+V4PIbfWQwaC7vRdylMULCwu97v72/jAf/lcsn1geb3v76+nH7XrB9l5TeUMhYZ1rEAANpLIT8CUkKOhMwzxUfq/bCkfAH9mdoV6hF7/OtzmRIfhomF3fGxsPtR04Xd5ptCi97yKTKMcnHlUh4mFnanrU/9Lwu7+yXlcSkAAPAr6sLu4/EY9VU+dQu77/e7LBaL3N/8/Py0/r3L5eL8dNOQbrdbtMXqh8Oh8MmtZc7nc6O/j6FNecZa2H06neR8Pnv5vUyq9bxIKvUvlf3owlcdPp/Prd+IoFnnfUxWpNA27vd7bnG2y7GYfeVyuZT5fN7o++bC8KrF4C5lfLlcotX9y+Ui1+vV6W9TP5bYMcd3W+gSN1ycTidvxx8z5/LhdDo5t4O+aNK2y/SpDsbmsw2E7ldTyfEPh0OQt0f5rnen08nbfqceS/vaZkPkB0MbozZpj6HrrWaf7SMO9ekCd6ZtzpDaWDJkXfSdI4Xc97LyDnkBvWmdi9mutMcJvvtWzfw9VK5WJ9SimxTmuopoxItYeYwPIeOD77LXji99niPTWtgdc84yk/J41NTXhd2asbvLwu6yhclDKBdXLuVhSmlhd8y5Gq15mK59UOj8XPv6apO/qzPU6wy+Y0gK41IAABBX8IXd1+tV3t/fcwnHbDaT39/f0LtSu7B7vV7n/n2z2TTa/v1+l8/Pz9wiuOwznU5ltVqVJq232+0v4W9aPp+fn7X7vNvtcsm3eS7W67WXSY7Pz08Zj8cynU5zZfvz8/OwYH48HsvHx0dheZxOp4c68/LyIu/v704TpR8fHzIej2UymTg/XTYrm9ls5nRXdNPyvN/v8vr6KsvlUpbLZW6h5Ww2+/vv2ef19dVpv4uOwR5cHQ4HeX19fdjXxWLR6saFLvW8jaxejcfjyjaZSv1LZT98twNfdXi/38v7+3vuzQjmdt7e3pwngzTrfJvJitBtw5VZFuPxuPYGK3MycbvdymazyX2/bsLM7mvL+peyMv79/ZXVapWbBMvqvuskiWvcMJ1OJ1mv14Wx/fX1tXJiWvNY6qQSc0y+24LPuFFWXr+/vw9xo+250si5tPPEzNfXl7y/vz/UndFoJPP5XDabjfNNmiHyMRdd2namb3WwSop5cpkY/WqMHL+oTtxut1x/nB2zHY+75sk+693tdpOPj4/C8/Xy8vJQFsvlUt7f30u3F2L86kKz7DTbYyr5Qd/GqF3ao0jYeuuzz+563EV8xMcQbWQ2m+X68OPxWDiH+f7+7pQzmPtg1/sqvvu8UHXRZ44Uet9/f39lvV4/lPl8Ps/VHfPfqi6ghxiD+sw7muyniH7MEfGbl2jn71UxMtTYzeYae+73u6zXa5lMJn91rcozX+/QzGNSnbd15bPsQ8SXvs6R+TivKcy/9nE8WsY11rqWTYqxu6mmC7u32+3f33dd2D2EPs2lPEzmPvtY2N00N4y51kBj7rRrHxS6/w1xfbXt39l89O9ZvpT12XVOp9NfO53P505xbrvdymQycWoDGrHV97gUAAD0X9CF3cfj8W9AVfRpOkHZVdXC7t1ul/u3t7e3Rts+nU7y8vJSeqzZZzKZFA747vd7rqwWi4XT79pPY12tVrl/v16vhUlz0X51fZq6mdx/f3/L7XZ7mAArGmiYA73dbpc7nqL9rBusmhMJdnmUcU2I25bn8Xis/Y79aToAtgdX9/v94SJD0afJAKBrPW+jzeAyZv1LZT98t4OudfhwODjVneyzXq9r91ezzjedrIjRNlx9fX3l9qFuUZ5Zdw6HgxwOh9z36+qeeQ5ms1np37U5f+Px2OkiWdPzZy5er/rM5/PC2Kx5LE2ONWbMyfhsC9px4/v72+u50sy5tPLEzOVycdr30ejfJKXLBLFmPuaqa9vuWx10kWKeXCR0vxozx7frxOVyKT12ux60zZN917ufn5/Ci0ouH1/nQotm2Wm2x1Tyg76NUdu2x5D1VqPP7hKHyviIjyHbyP1+d8ob2oxT6/isw6HqokaOFLId2Q/2KPpkCwfa1CmtMajvvMNlP0PEHJ99a4j8vS5Gao/dXPaz6ty+vb3l9rnqGsizX+/QzGNSm7d15bPsQ8SXvs+RacT9GPOvfRqPahyzj78LGbubarqw++fn52+Ra9kCyBTLRatPcykPk7mvPhZ2u5Z1zLUGGnOnvvqgUP1viOurXf8u47N/N8+7y0OrPj4+ctuvu3nObtdVi8c1YqvGuBQAAPRfsIXd9/vdKcEJ+aqgsoXdx+MxN7Caz+eNXuHz8/PzMNkzn89lvV7/PXnF/vfPz8+H7dgJnMvd/z8/P7nv2MmifefsYrGQzWYj2+1W3t7echMePp9i8fX19XB34Ww2K5wUm8/nIvJ4USO7I7dogFY1wA118a9Jed5ut8qbHIoS/6bMfZvP5w/7OpvNCu8idS0nX/W8y3G5Di5j1r9U9sN3O+hah+1jtu9WL6qbdROBmnW+yWRFrLbh6nK55H67anLC/Nvs6dz25GPdnfFm3av627rzN5lMSifl657A0OT82ZM95j4V5TFFE8Sax1InlZgj4r8taMeN3W738JQPX/VuNPKfc2nkidnfFMX36XQqy+WytDzqJkZjL+z20bb7VgddpJgn22L0qzFzfLtOVF388LGw23e9s8fSk8lEXl9fZbvdPjwBrqg9+joXWjTLLlR7TGVs1Icxatv2GKreavXZXeJQGR/xMWQbKcrfy8oh5bFkjdlGpwAAIABJREFUqLqonSNp7nvZxfPFYvFQZ+198rWwu22e6jvvcKmfIWKOz741RP7uEiO1xm6u+1l2bu1FUa+vr6XXQLjeoZvHpDZv26ZMupR9iPgyhDky33E/1vxrn8ajdWIs7I4Ru5tourDbRarlEqN/t5nbCrmwO9ZaA425U599UKj+VzvH9bWw23f/brefuodW2WOpuiekuz7USiO2ao1LAQBA/wVb2L3f752S2KZPxu6iaGH39XrNJZLT6bTRoON6veYSrJeXl8KBg30nX9Hkj51AuiRm5hMHptNp5fGWDRi/v7/l5eXF6120ZgL79vb28OReOyk1J8Xn83kueb5cLg+DkqqnvWtd/PNZnuY++krA7cTeTPjNOnm9XnOv/so+VXfF+qznXY7LdXAZs/6lsh/aC+qa1mGzHMoGx9/f37kymU6nlTfZaNZ513oXs200Yb9Ws4wZ58zjNp9+UTXpfTqdnOKkSPn5e319fTh/9uRdXe7gev5+f39z2x2Px39PgbDLJSvDou1pHkudVGKORlvQjhvm97qeqxA5l+88UeTfcdqTjtvt9uGcnM/nwgucVTlzzIXdvtp2n+qgq9Tz5Bj9auwc36wT5vcXi8XfvhyPx8K22SZP9lnv7vd7bp/n8/nDhU37KbjT6bT0XIUev7rQbLOhFq2mMjYyP6mOUdu0x1D1VrPP7hKHXLWJjzHayGKxyNX52+0m39/fD2VftYgi1lgyZAz1nSOF2nd7vJo92c/c3n6/L31QiY+F3b7yVJHueUdd/QwRc3z3rb7rpr2/rjFSY+xWp+7cbrfb3D5VLYDjesc/mnlMavO2LnyO+ULEl6HNkYl0j/t2DAg1/9qX8aiL0Au7Y8XuJmIs7B5Kn9aG+fuhFnbHXGvgO1fU7INEdPpfEf0c10c80yjb2+3m/EYb+wFX2XarysDcj8lkUvi3GrFVc1wKAAD6L9jCbtdXSvoYyLgqGnyYEzbj8djplW4m8ykr0+m0csBiJ7VFTzI1k/7ZbFb523VPUTX3re6uRB+KJonKXvdT9nqixWJRWIa32+1hAX4ZrYlRn+UZamH3arUqHbR8fX09/G0Z3/W87XE1uWM8Vv1LZT9Su0Cw2+2c7pa366Xr4mvfdd613sVsG03YTwQrm4Ayn3Rhnle77Mq+b/5d3aRJk7YiIg8XUKqeiOF6/sxtTiaTyjp6u91ktVoVnjfNY6mTSszRaAuh4oaPcxUq5/KZJ4o8xoa6p3DaZV01WR5zYbevtt2nOugq9Tw5Rr8aO8cvqhPL5dLpDVIaebKIe72zL2pWtRdzm2XnKvT41YVmmw35BP1Y+UHfxqht2mOoeqvZZ3eJQ65SXtjtUjftJ4W9v787bTvkWDJkDPWdI4Xad/OG5dGo/Ilvt9ut8Kl3PhZ2+8pTRXQXdoeOOb761lD5u0uM9D12q1N1bu3jrVoAJ8L1joxmHpPavK0LjTFfzPjStzkyEX/jzdDzr30Zj7oIubA7dux2FXphd+xyCd2/28xjD7WwO+W1BiLN4pZmHySit7BbO8f1Ec+0ytZcvF/V99prgLJP1cOnzIXTZWN8jdiqOS4FAAD9F2xhd9lrJe1P29fOtGEndXYy1PSVU5fLJZeg1b0KTiRfLuPx+OHf7TuNq5Ju+8KS/bdmshviyej2YKtuUtIu//l8XpkQ23Wq7E5HrYlRn+UZYmG3y7HbT7EoKlONet5E2wnCWPUvlf3o4wUCkX8DVdfBv1adt/+urN7FbhtN2E8FK5tkNc+r/WQal++bExJNnuricv7sN4G41o2y82eXia9Jfd/H4vu3NWJO7LagGTdcz1WonMtnnmhPNLrut/0klLJJ5VgLu322bVcp1EFXKefJsWJJ7BzfrhOz2cz56UZaebJrvTMvwtS9xtp8imHZ34Yev7rQbLMhF632ZWxkfyf0GLVNewxRb7X77C5xyFXqC7uHMJZMMYa65kgh9t1+KlrV4nyR4ovoXRd2+85TtRZ2h445ofNhkW75u2uM9Dl2c1F2bu1t1y2A43rH/zT7ij7O2/oo+9TiS9/myHyMN0PPv2rug+/xqItQC7tTiN2uQi7sTqFcQvfvNnN7oRZ2p77WwDVmaPdBInrXTV21zXG7xjPNst3tdk7tyHxolcviavuaZ1FZacQQ7XEpAADov2ALu+0BS9kn5JO47IXd9kRM04tXZjLpOvC17yK3J3/sRLLqLlTzFU4vLy8P/24+Nd3lFUFdmcm9y+TIer3OHWvd/tmDs9ALiXyWp/bCbtfJKfuO2KK7QjXqeRNtBpcx618q+9HHCwQZ87VWrhdOfdZ5e9tl9S5222jCfjpEUZ04n8+547EnRc1zXjbZYJ673W5XuU9Nz589KVW1fZfzZ0/C+npqtu9j8f3bGjEnhbagFTdcz1WonMtnnmi3AZenfog81omyMom1sNtn224idh10lXKeHCuWxM7x7QtWTS7MaeXJrvXOvGhSdyHCHIuXnd/Q41cXmm021KLVPo2NROKOUdu0xxD1VrvP7hKHXKW8sHsoY8kUY6iIW44UYt/t81f15LaMHdO7Luz2nadqLewOGXNi5MOZNvl7kxjpc+zmoujc/v7+5uaC6hbAiXC9w6TZV/Rx3tZH2acWX/o2R9Y17seYf9XcB9/jURchFnanErtdhVrYnUq5hO7fbW1ykioudTX1tQauMUO7DxKJv7BbpF2O2zWeaZbt9Xp1yoHsss/+d9mT9e34ULQ+SCOGaI9LAQBA/wVb2H29XnOvJiv7+BroubAXdh8Oh4fF3U3uNjW/u1gsnL5jD/qKBl5mkjydTgsHp7fbLTeILXrauP0kmNlspnKBrmi/qwYBGTvRr2PfxVh2LFoToz7LU3tht0v5i+QXcpYNmrTquSvfk2UZrfqXyn708QJB021r1XnXbcduG02Zd78XvS3DnFAouunKnCwv+r49YVE3wdfm/LnWUZdtm39T99rEOprH4vu3NWJOCm1BM26EzhHq+MoTzTbdpA3c7/fcsbq8Gj7kwm6fbbuJ2HWwzX6mlifHiiWxc/w2daLpd7XqnXnO6rZrPiGt7IJm6PGrC802G2rRap/GRiJxx6ht9jdEvdXus7vEIVcpL+weylgyxRgq4nbuQ+y7uSCl6hXeNp91yneeqpV3pBhzfObDGc38vei7XcZuTX9ruVzK6XRqvABOhOsdZfvsu6/o47ytj7JPLb70bY4s1HjTdz7Vl/GoC+2F3anFbhchFnanVi4h+3ebj3Nmcqmrqa81EHGLGdp9kEgaC7t957gpjB8Wi0VlWzb75/l8/tCOi65Vmm8fLnsIpUYM0R6XAgCA/gu2sFuk/qndoV8NWrSw+36/y8vLS+6/u7xKRSSf9E2nU1kul7UfM/ksG+ja+1l0t579N2UL6Mw7gs3E28drK23aE2dtJrh8T4z6Ks9UFnbbg6bNZvPwN1r13PdxpVL/UtmPPlwgOB6PcjgcZLfbyXa7/fv4vqPc5FLnXbcdu200Zd8Jbt81bx5PUT9Y91Qasy67TJC3OX8+J6XMbXVdwKJ5LL5/WyPmhGwLMeKG67kKlXP5yhO7LFAwy6Qsn4+1sNtn2y6Sch1suq3U8uSY/WrMHN/XYiHfF9JdjsV8cs1kMql8+5X52tCqp6mFHL+60GyzKS1aTWVsJBJ3jNq2PWrXW+0+u8v22+xHXxd292EsGTOGds2RtPe97RMTfdYp33mqVt6RYszpkg/HyN8zPuf465j7OZvNcsf38vLitABOhOsdJs2+og/ztkW6ln1q8aVvc2ShxpsxFgW22QeN8Wgd38eceux2ob2wO8VyCdm/2+piUFOudTXltQYibjFDuw9y3Q9fQuW4KYwfzJtzRqPqp2Bni8PN7drXO+03HJfdiKcRQ7THpQAAoP+CLuwW+XcnZ9GTuzebjfPgy5eihd0i/56kYCZw4/FYjsdj7fbsBeFtPkWDHjuhLJpoMJ+8WpUk3263wgFXloR+fn5WTng0kcLEmYjuxKiv8kxlYbdI/rVMReWlVc99H1cq9S+V/Uj1AsF+vy9tQ0UfjYtrdXXeddux20ZTdt2xJzPMcil6VVrd677MMiu7cFX29zEuLJjH22VC3/X3bENa2K3dFmLHDddzFSrn8pUntuknMmY5lr0SM9bCbp9tO9OXOth0W6nlyTH71Zg5fpeLH7EvpF+v11w8Wq1WhWN8++ayqou9IcevLjTbbEqLVlMZG2VijVHb7q92vdXus7vEIVdDWNgtkv5YMnQM9Zkjae9723Pus075zlO18o4UY07TY42dv2d8zvHXscveLLPRaCT7/d5pO1zv+J9mX5HqvG2drmWfWnzp2xwZC7vzNMajdTQXdqcYu11oL+xOsVxC9u+2uhjUlGtdTXmtgYhbzNDug1z3o4sYOW4K4wf7jSh2rDEXYGftouqtDvZT6O2F4hmNGKI9LgUAAP0XfGF3Jrtr8HA4lCZI2soWdhf922w2qx2EmImq65165uf9/b10cbuZmI/H49zf2a9wKruT0LTf73PJoj3oCjkAzPR1QatI9/JMaWG3eeNFUXlp1nOfx5VK/UtlP1K7QHC73XJPxgg58WCrq/Ou247dNtooe0KY+aqyyWRS+v2ycrEnM136lNgXFsx61nSyqc3v2Ya0sFurLaQSN9osItDOuXzkiebfrNfrRr/vMuEaa2G3z7bd1zrouq3U8uQU+tUYOX7bfKbJdzXrnX2R/OXlRbbbrez3e9lut7mLmaNR+etNbSFiqQvNsktp0WoqY6NMrDFql/YooldvtfvsrsftYigLu826WXYuUhhLasdQjRxJe9/bPi3bZ50yt9U1TxXRyztSjDlNbrZNIX83+Z7jd93P4/GY2/ZkMnF6WijXO/6nlceIpDdv21Tbsk8tvvRpjszeNgu7/9Eaj3Y9lrZ/l2LsbvLbGgu7Uy2XUP27rS4GNdW0faa41kDELWZo90Gu+9FGzBw3hfGDSL5s7ZspspvqzLZoLt6226i56HuxWDj9pq8Yoj0uBQAA/RdtYXcKqhZ2i4isVqvcv1e9TkdEcq9Tqfvbpuy7Bc0BsXkc4/G40V2w5/NZ1ut1LsnOtnM+nzvtcwoTZyLVyX2Ztglx2/JMaWF33bFr1nMXWhOEqSxe6Gs7aFKHiyYdlst/r2krejuC78ljm8txumw7dttow5ywMCczzEnwqmMx66vZ/xwOh7//PplMnCaCY19YMLcValK/7Pf7vrBboy2kFDfanivNnMtHnmg+caJpGzC/W9bHhMzHyn63S9seQh2s21ZqeXJK/WrIHL/LYqEULqSXXdAr+szn88Y3eWvGUheaZafZHlPID9rsR6buOLXiRZf2aPJdb7X7bF/HXaXrwu7YbaRo+5+fn623HarP04ihWjmS9r67Lhiw+axTPseg9vZ85h0pxhyXY00pfzdpzfG77Ke94HGxWNTO13C943+a844pzdt20bTsU4svfZkjy7Cwu3rbdZ8249G2x9Ll71KL3XVCLOwWSa9cQvXvtroY1FTbvi6ltQYibjFDuw9y3Y+mYue4KYwfREQ2m83f35nXIM1rk+b+2Q+jMp/071pGGjFEe1wKAAD6j4XdFYOe2+328Eqnr6+v0u2Zd+Q2Sb5cmU93MBNh8y7ztonk9Xp9eF1P1wt4KUycieQTbddj6poQNy3PVBZ222VaNPGiXc/rsLC73X5ot4MmddiedPO1ba0677rt2G2jDXvCMas/5qvKqvq94/GY+342GWIuGHftl2JfWDD70q7n79kXdmu0hZTiRtdzpZFziXTPE7u0AXNStKxMYuRjIv7a9pDqoCnlPDnFfjVEjt/nhd2fn5+57a5Wq4eLeqPRvwsuVfmFC61YWkezzWq2xxTygzb7UbTtkGNU3wucfdVb7T471YXdKbURkce6Wfa6+hTHkj5jqFaOpL3v5ph3Op06f89nnfI5BhXRyztSjDkux5pS/m7TnOOv20+z7o9G9U+H5nrH/zTnHVOat/XBtexTiy99mSPLsLA7L+R4tOmxdP271GJ3lVALu0XSK5cQ/butLgY11TXPSWGtgYhbzNDug1z3o6nYOW4K4weR/AJus/6bfbn9fTNmZE8St/vyqhsRNGKI9rgUAAD0Hwu7awY99iudxuNx4R2PIvm7A5skX67M7Y9GI7ler3K9XnP/zbzDsA0z2R6Px522lcLEmUg+0a56hY7JV0LsWp7mwGqz2bT+PVObwa5Lm9Cu53VY2N1uP7TbQZM6bA5UXQa/mhfXXOq867Zjt4027LvUs3OXvapsNBrJ6XSq3Ib5tx8fHyIiuScGuE7gxr6wsF6v//7G9SnjXX7PNqSF3RptIaW44etc+cy5RLrniWYbGI/Hzk8tOp1Oud8oW9QUKx/z1baHWAdF0s6TU+5XNXP8Pi/sNreb5Q/3+10Oh8Pfp+sT0Wy+Y2kdzTar2R5TyA/a7IdI3DGq1gLnrvVWu88OvbDbNT6m1EZERHa7XW77ZXOFKY8lfcRQrRypjs92NBqN5HK5OH3PZ53yOQYV0cs7Uow5LvUopfzdFmKOv2w/ix5kUzVvw/WO/2nOO6Y0b+tTXdmnFl/6MkeWCTXe7MvC7hjj0VALu1OL3VVCLuxOrVxC9Gk2lz6mCV9jwZhrDUTcYoZ2H2Tvh6/+N3aOm8L4IWPeTJFdmzT3zx6jm2P42WwmIvmF8tl/K6MRQ7THpQAAoP9Y2O0w6LHvfpzNZoWvSrK353uAdj6fc9v/+vrKJaE+LgL8/Py0SiCLpDBxJpJ/cqxLGdn70SUhdi1P89VCdXeVuzLLfzweOw3q7e/EqOdN9pGF3em0gyZ12FwInN0VXaXNxIPPOm//Xdl5jN022rLvnjcnTyaTSe33zYtPWf9oloPrpE3sCwvmU11Go5HsdjunfWj7e7YhLezWaAsh4kboc+Uz5xLpnifa+a7r04vMyeSqidpY+Zivtj3EOiiSdp6ccr+qmeP3eWG3ebNY3Y1hvviOpXU026xme0whP7D3ow9jVK0Fzl3rrXafHWJhd5v4GKqNjMdj+f39rd0f8+mqfR1L+oihWjlSna77bi/M//z8rP2OWQd9xF2fY1ARvbwjxZjjUo9Syt9tIeb4q/bzdDo9PMim7OmEXO/4n+a8Y0rztj7VlX1q8aUvc2SZUOPNvizsjjEeDbWwWySt2F0l5MJukbTKJUSfZquLQU35GgvGXGsg0u7tLr77IBGd/jd2jpvC+CGzWq3+/v7l5SX3IKuia5tFT+c2j6du8b1GDNEelwIAgP5jYbfjoMdc+DYaFb8u6X6/5+4O1HiVk3nhaLFY5BJOlwS+jplsD+WJ3faFkqoBhJ1Ad02IXcvTrF++Lpya5Z8NYqomtOzXFmV3t9pC1PMqLOxutx/a7aBJHTYnM8xX0rnsi+vEg886b2+77Pi02sb9fpfdbifb7Va+vr5KLwK1VfTqtqq+zmb3peb2mpRB7AsL1+s1Nwk8n89rJ1q/v78L682zL+zWaAsh4kboc+Uz58p0yRPt81Z2I6PJvnhSFUdj5WO+2vYQ66BI2nly7JyzimaO3+eF3ebfLBYLp4WRXbmei9/fX9lut7Ldbitfq1pHs81qtscU8gN7P3zm61rxQmuBc9ccQLvPDrGwu018DNVGsvNSFcN+f3+d6qa97dBjyTo+8lGtHKmOj3ZktomXl5fKdmTHRR9x1+cYVEQv70gx5rj0rSnl70W05/jr9tOeyyk7r1zv+J/mvGNK87Y+NR3zxY4vfZkjy4Qab/ZlYXeM8WjIhd0iacXuMqEXdoukVS7afZqtLgY15SvPibnWQMQtZmj3QSI6/W/sHDeF8UPGHpebx1t2bdMsv8/Pz9xv1rUhjRiiPS4FAAD9x8Jux0HP9XrNJWtlE2z2ArnFYlF7R+H5fJbtdlv7ShmR4ok7l/2/XC4ynU5lu92WXiS43W65hLbrICOFiTORxwslk8nk4fU7t9vt4XU3VQmx7/I07yodjcpf4duEPdmcDaCL6tnpdMrd5TsaVd9BrV3PXY+Lhd1x24GpSR02n/A8Ho8LL4Lc7/fCfWlyMd5nnXc9jxptw36Fn+9Xptp1yKwnLnfS2983y7XJhEIKFxbsO93Lzt/lcvmblCt6PduzL+wW8d8WQsQNX+cqRs6VaZsnZoreUlMWG/f7fa691z1FQ7sfquKjbfepDjaRep4cOudMIcfv88Juu63Zn+Vy+ff5+PiQ7XZbGmN8ngv71cddYq5mm9WMk6nkB30bozYtt5A5gGafHWJhd5v4GKqNmOVUNB46Ho+5/RiNqt9SFGMsGbIu+s6RQu673W+9vr4+/KZ23PU1BhXRzTtSizkufWtK+XuRrmO3Oi77adeZsgUwXO/4RzOPSWne1oXmmC9mfOnLHFkm1HizLwu7fY5HXYVe2C2STuwuE2Nht0g65aLdv9tC5w99WGsg4h63NPsgEZ1r/7Fz3BTGD+Zx2vlT9r/Lrm2afYX9XRcaMURzXAoAAPqPhd0NBj32UxbG43FhEj6fz3N/N5lM5P39Xbbbrfz+/srhcJDtdisfHx+NX8NjT/KZCXGV0+mU25/1ei273U4Oh4McDgfZbDa5gc5o1P0VMqlMnIk8Dp7G47G8vb3JdruV9Xr9cIeleQ6LEmLf5bnf7x/qTDa59P7+LuPxuPEruszyt584P5vN5OPjQzabTe4O8uzz/v5eu33Neu56XCzsjtsOTE3qsH0X9WQyka+vr7/2Y9cZM+a5Tjz4rvNNzqPvtmEfS91d+G3Y8Sr7uL620j5m137VlMKFhaI+djqdyuvrq2y3W9lsNg8X8l5eXoIeS52UYo7PthAibvg6VzFyrkzbPDFjP3UiK8vlcimbzeavvyhq8y4XazT7oabl0rRt96kONpV6nhwy50whx+/zwm6Rx/rk8lmtVg9Po/F5Luy+yzUmFtFus1pxMpX8oG9j1KblFjIH0OyzQyzsbjsHEqKN2AvxZrOZbDYb2Ww2heWZ4lgyZF30nSOF3PfL5fJwvieTyV+d+vj4yP37bDbLnc+UxqAiunlHajHHpW9NKX8v0nXsVsdlP+/3e64MRqPyRTBc79DPY1KZt3Xhs+xTii99mSPLhBpv9mVht4i/8airGAu7U4ndZWIt7E6lXLT7d5trDHJVV9Z9WGsg4h4ztOfCNa79x85xUxg/mN7e3gpje9nb+uy1Pm3inu8YojkuBQAA/cfC7oaDHntyZzabPSTd1+u1NJGs+rg+hbVo23Xfvd1uhYPJso+PJDClibPL5VK68ND8zOdzud1utQmxRnnW7V/TpweYx/D9/f1Q38s+Lq83EtGv5y7HxcLuuO3A1qQOl91ZXFRfzDJxnXjwXeebnEffbcPeVtnTJrooeqKJ6x3qPr4vksaFBZF/T+ArW+huf8pe0c7C7n98twXtuOHrXMXIuUxt8kTT9Xp9uEhd9ZlOp84XDrT7oSo+2nZf6mBTqefJIXPOFHL8Pi/svt/vuQvpk8lElst/T0SzL1DYn8VikRtX+zwXdt+1WCycjrmIdpvVipOp5Ad9G6M2LbfQOYBWnx1iYbdIuzmQUG3k5+fH6VymOpYMXRd95kih973oqbpFn8ViIZfLJdfPpTQGzWjmHSnFHNe+NZX8vUzXsVsV1/08n8+5Nlf2IBuud+jnMSnN29bRGPOlEF/6NEeWCTHe7MvCbp/jUVcxFnaLpBO7i8Ra2C2STrlo9u821xjkqq6s+7DWQKTZPIzmXLiI/2v/InFz3BTGD6aifKzqRgr7Kd/Zp8kNCBoxRGtcCgAA+u+pF3b//Py0GvTYT10oe3XK7+/vw92IRZ/lctlogGvf4Tkald95aDoej7UJ9HK59PbUSPO3XAZbn5+fuX2p02TiTOTfgLPs+CeTiWw2m7/JG/PvyhJi3+VZNcApuoGgjrmtrH4dj8eHu9bNMtjtdo1+Q0SvnrscV1W9SqX+pbIfGd/twNSkDt/vd/n6+iodqM5ms7+LlWaZfH5+lv6+Zp1veh5F/LUN+9VeZU+a6OJ4PD7s13q97vR91wtXmTZl7DpB13Tbt9st90q7os9qtSqddNM8ljqpxRwRf21BO274PFehcy5T2zzR9v39XTtR//7+3vipRpr9kMtvd2nbfaqDTaWeJ4uEyzlj5/ht6kTT72rVO/sietmbP87ns+x2u4dxtZ3j+DoXdt/V5YJqiDarESdTyQ/6NkZtc75j5AC+++wucaiJtnMgGm2k6OL0+XwuvQjfh7FkyLroO0cK3Y6qFlNOJpPcfpqLKFIag2ZC5B0pxJwmT2FMIX8v42vs1nU/7WskVW+Ke+brHSHymFTmbV1olH3s+NKnObJMiLjve/61L+NRF76PuW+xu4jGwu6+lYtm/25rGoPquJR16msNRNrNnWrNhfvuf0Xi5rgpjB9MRTcb1F2btMdd0+m01XnwHUM0xqUAAKD/nnpht4j8vZqm6K7dKsfj0fl79/tdDoeD7HY72W63f58ugyxzwrDpE8dut5vs9/uHfSmb6Gjrer3+le/1eq39+6ycDoeD8yA3Ow9NyvJ2u/29Bme73cr393fhU9ez7dYl877L83g85rbnsg9FzGMo+o1s+z8/P14mFTTqeRHXepVK/UtlP2y+24G9P651ONuPr6+vv/pYdKHSZT8063zT82jy0TZOp5NKnDadz+e/Y2zTbrt+v00ZXy6Xv+9UTfp0OX/H4zF37vb7fW170DyWOqnGHPO3uvYTWnFD41yFyrlsXfJEW1ZGn5+fuTjapZ6K6PZDLtq0bXvf+1AHm0o9TxYJl3PGyvG79FlaebJIfb2zXwXrOk4241XZW0m6ngvzJrnxeNxp7BOyzfpsj6nkB30bo3ZpjzFyAF99dpfjbqPtHIjPNlL11DG7bjZ9olrssWTIuugzRwq97yL5c73d/nuNtr2P2TFq5HjmfrTNU81thMo7zJjz/f0dJOY07Vtj5+9VfI4PNX0QAAAFE0lEQVTdTE3305zTaZIrPNP1jpB5TCrztq776rvsY+U0fZwjM/dDK+6b8cHH/GvfxqNVfB9zH2O3TWNhdx/LRat/t/le2N2krFNdayDSbe5Uay7cd/8rEifH9T1+8FG25vl2aQdmf9/mOMq257NP9zUuBQAA/ff0C7v7yH4yqsbTWwEAANA/5IkAYjCfjlb1RKyq7728vHjfr/v9nnt6zna79f4bAPqvzeu9AaArxm7/oywAdJHqePQZaSzs7puQfZrvhd0AAAAA0sLC7h4yJxvG43GQJygBAAAgfeSJAGIwF0W+v787f898xehqtfK+X+bTuufzOU+xAVCIhd0AYmDs9j/KAkAXqY5HnxELu8P2aSzsBgAAAIaNhd09c7vdZDwet7r7HAAAAMNFngggFvPC5Ww2c3qN6vf3d+4ipO+LvubTusfjsffXAQMYDhZ2AwiNsdv/KAsAXaU4Hn1Wz76wO3SfxsJuAAAAYNhY2N0z5hPHRqOR/Pz8xN4lAAAAJIA8EUAs9kXxl5cX+fn5Kbygfrlcchfes4WUvp+mbcbE7XbrddsAhoWF3QBCY+z2P8oCQFcpjkeflbmw++XlRZbL5d/nfD7H3j112n3a+/t7rkxZ2A0AAAAMGwu7e8Z8NdhkMmGyAQAAACJCngggLvviuPlZLBZ/T8+2P7PZTOXVxNnvLRYL4iGASizsBhAaY7f/URYAfEhtPPqszIXd9ucZnuCt3aeVlS0LuwEAAIBhYmF3jxyPx9wgbb1ex94lAAAAJIA8EUAKPj4+cq8drvpMp1P5+vpSW7xzPB7lcDiwOAhALRZ2AwiJsdv/KAsAPqU0Hn1Wn5+fuSdKm5/T6RR791SF6NNWq1Vh2b69vVGXAQAAgAFiYXePnE6n3CCNu8gBAAAgQp4IIB23201+fn5ku93Kx8dH7mLjx8eHbLdb2e/3XHQEkIyvr6+/OPX5+Rl7dwAMHGO3/1EWAHxjPIpY6NMAAAAA+MbCbgAAAAAAAAAAAAAAAAAAAACIjIXdAAAAAAAAAAAAAAAAAAAAABAZC7sBAAAAAAAAAAAAAAAAAAAAIDIWdgMAAAAAAAAAAAAAAAAAAABAZCzsBgAAAAAAAAAAAAAAAAAAAIDIWNgNAAAAAAAAAAAAAAAAAAAAAJGxsBsAAAAAAAAAAAAAAAAAAAAAImNhNwAAAAAAAAAAAAAAAAAAAABExsJuAAAAAAAAAAAAAAAAAAAAAIiMhd0AAAAAAAAAAAAAAAAAAAAAEBkLuwEAAAAAAAAAAAAAAAAAAAAgMhZ2AwAAAAAAAAAAAAAAAAAAAEBkLOwGAAAAAAAAAAAAAAAAAAAAgMhY2A0AAAAAAAAAAAAAAAAAAAAAkbGwGwAAAAAAAAAAAAAAAAAAAAAiY2E3AAAAAAAAAAAAAAAAAAAAAETGwm4AAAAAAAAAAAAAAAAAAAAAiIyF3QAAAAAAAAAAAAAAAAAAAAAQGQu7AQAAAAAAAAAAAAAAAAAAACAyFnYDAAAAAAAAAAAAAAAAAAD8164dCwAAAAAM8rcexp7iCGAmdgMAAAAAAAAAAAAAzMRuAAAAAAAAAAAAAICZ2A0AAAAAAAAAAAAAMBO7AQAAAAAAAAAAAABmYjcAAAAAAAAAAAAAwEzsBgAAAAAAAAAAAACYid0AAAAAAAAAAAAAADOxGwAAAAAAAAAAAABgJnYDAAAAAAAAAAAAAMzEbgAAAAAAAAAAAACAWW8GsgX8tHkUAAAAAElFTkSuQmCC)"
      ]
    },
    {
      "cell_type": "code",
      "metadata": {
        "colab": {
          "base_uri": "https://localhost:8080/"
        },
        "id": "Jydekh0_l_Po",
        "outputId": "ea93e824-f420-4752-95d3-af51060ab115"
      },
      "source": [
        "d2={'name':'abc','number':123,'name':'xyz'}\n",
        "d2 # duplicated keys not allowed"
      ],
      "execution_count": null,
      "outputs": [
        {
          "output_type": "execute_result",
          "data": {
            "text/plain": [
              "{'name': 'xyz', 'number': 123}"
            ]
          },
          "metadata": {},
          "execution_count": 7
        }
      ]
    },
    {
      "cell_type": "code",
      "metadata": {
        "colab": {
          "base_uri": "https://localhost:8080/"
        },
        "id": "ry946_kKmLDd",
        "outputId": "866533da-b833-4683-9da6-7fe66755e733"
      },
      "source": [
        "d3={'name':'abc','email':'abc'} # values can be duplicated\n",
        "d3"
      ],
      "execution_count": null,
      "outputs": [
        {
          "output_type": "execute_result",
          "data": {
            "text/plain": [
              "{'email': 'abc', 'name': 'abc'}"
            ]
          },
          "metadata": {},
          "execution_count": 8
        }
      ]
    },
    {
      "cell_type": "code",
      "metadata": {
        "colab": {
          "base_uri": "https://localhost:8080/"
        },
        "id": "wq0JyN2FmZZp",
        "outputId": "ae075e0a-9416-47bd-f3eb-98a022fcf19f"
      },
      "source": [
        "d4={1:[55,66,77,88,99],2:[50,60,70,80,90],3:[45,56,67,78,89]}\n",
        "d4"
      ],
      "execution_count": null,
      "outputs": [
        {
          "output_type": "execute_result",
          "data": {
            "text/plain": [
              "{1: [55, 66, 77, 88, 99], 2: [50, 60, 70, 80, 90], 3: [45, 56, 67, 78, 89]}"
            ]
          },
          "metadata": {},
          "execution_count": 9
        }
      ]
    },
    {
      "cell_type": "code",
      "source": [
        "d5={[1,2,3]:\"abc\"}\n",
        "d5"
      ],
      "metadata": {
        "colab": {
          "base_uri": "https://localhost:8080/",
          "height": 191
        },
        "id": "Dl82D4a-xVoO",
        "outputId": "8b105224-ab1a-4cc0-b388-29f7dc936840"
      },
      "execution_count": null,
      "outputs": [
        {
          "output_type": "error",
          "ename": "TypeError",
          "evalue": "ignored",
          "traceback": [
            "\u001b[0;31m---------------------------------------------------------------------------\u001b[0m",
            "\u001b[0;31mTypeError\u001b[0m                                 Traceback (most recent call last)",
            "\u001b[0;32m<ipython-input-10-3dd7de3c6bd0>\u001b[0m in \u001b[0;36m<module>\u001b[0;34m()\u001b[0m\n\u001b[0;32m----> 1\u001b[0;31m \u001b[0md5\u001b[0m\u001b[0;34m=\u001b[0m\u001b[0;34m{\u001b[0m\u001b[0;34m[\u001b[0m\u001b[0;36m1\u001b[0m\u001b[0;34m,\u001b[0m\u001b[0;36m2\u001b[0m\u001b[0;34m,\u001b[0m\u001b[0;36m3\u001b[0m\u001b[0;34m]\u001b[0m\u001b[0;34m:\u001b[0m\u001b[0;34m\"abc\"\u001b[0m\u001b[0;34m}\u001b[0m\u001b[0;34m\u001b[0m\u001b[0;34m\u001b[0m\u001b[0m\n\u001b[0m\u001b[1;32m      2\u001b[0m \u001b[0md5\u001b[0m\u001b[0;34m\u001b[0m\u001b[0;34m\u001b[0m\u001b[0m\n",
            "\u001b[0;31mTypeError\u001b[0m: unhashable type: 'list'"
          ]
        }
      ]
    },
    {
      "cell_type": "markdown",
      "metadata": {
        "id": "wyQeFHvdmtuo"
      },
      "source": [
        "Accessing values of particular keys"
      ]
    },
    {
      "cell_type": "code",
      "metadata": {
        "colab": {
          "base_uri": "https://localhost:8080/"
        },
        "id": "nu408WLdmw5m",
        "outputId": "fa810e64-c9e6-4cc3-f668-672bc3ed859a"
      },
      "source": [
        "d4[2]"
      ],
      "execution_count": null,
      "outputs": [
        {
          "output_type": "execute_result",
          "data": {
            "text/plain": [
              "[50, 60, 70, 80, 90]"
            ]
          },
          "metadata": {},
          "execution_count": 11
        }
      ]
    },
    {
      "cell_type": "code",
      "source": [
        "d3[\"name\"]"
      ],
      "metadata": {
        "colab": {
          "base_uri": "https://localhost:8080/",
          "height": 36
        },
        "id": "q2uv3OIqxhu0",
        "outputId": "adb411e7-0ef0-4697-e237-4b53b833f686"
      },
      "execution_count": null,
      "outputs": [
        {
          "output_type": "execute_result",
          "data": {
            "application/vnd.google.colaboratory.intrinsic+json": {
              "type": "string"
            },
            "text/plain": [
              "'abc'"
            ]
          },
          "metadata": {},
          "execution_count": 12
        }
      ]
    },
    {
      "cell_type": "markdown",
      "metadata": {
        "id": "nQ4E30NdodrP"
      },
      "source": [
        "#Applicable functions on dictionary"
      ]
    },
    {
      "cell_type": "code",
      "metadata": {
        "colab": {
          "base_uri": "https://localhost:8080/"
        },
        "id": "adsMYYzLoiPh",
        "outputId": "81af4bc5-c0aa-4d06-8035-99f220d44ec9"
      },
      "source": [
        "len(d4) # total number of pairs"
      ],
      "execution_count": null,
      "outputs": [
        {
          "output_type": "execute_result",
          "data": {
            "text/plain": [
              "3"
            ]
          },
          "metadata": {},
          "execution_count": 13
        }
      ]
    },
    {
      "cell_type": "code",
      "metadata": {
        "id": "xBSb4U30olMF",
        "colab": {
          "base_uri": "https://localhost:8080/",
          "height": 36
        },
        "outputId": "8c6ade81-612c-4a2b-c4dc-74be63f9b294"
      },
      "source": [
        "d6=str(d4)\n",
        "d6"
      ],
      "execution_count": null,
      "outputs": [
        {
          "output_type": "execute_result",
          "data": {
            "application/vnd.google.colaboratory.intrinsic+json": {
              "type": "string"
            },
            "text/plain": [
              "'{1: [55, 66, 77, 88, 99], 2: [50, 60, 70, 80, 90], 3: [45, 56, 67, 78, 89]}'"
            ]
          },
          "metadata": {},
          "execution_count": 14
        }
      ]
    },
    {
      "cell_type": "code",
      "source": [
        "for ei in d6:\n",
        "    print(ei)"
      ],
      "metadata": {
        "colab": {
          "base_uri": "https://localhost:8080/"
        },
        "id": "XOk_JNy5x6-y",
        "outputId": "6d2dbd08-3759-4abc-e27e-3bcfcf7155b6"
      },
      "execution_count": null,
      "outputs": [
        {
          "output_type": "stream",
          "name": "stdout",
          "text": [
            "{\n",
            "1\n",
            ":\n",
            " \n",
            "[\n",
            "5\n",
            "5\n",
            ",\n",
            " \n",
            "6\n",
            "6\n",
            ",\n",
            " \n",
            "7\n",
            "7\n",
            ",\n",
            " \n",
            "8\n",
            "8\n",
            ",\n",
            " \n",
            "9\n",
            "9\n",
            "]\n",
            ",\n",
            " \n",
            "2\n",
            ":\n",
            " \n",
            "[\n",
            "5\n",
            "0\n",
            ",\n",
            " \n",
            "6\n",
            "0\n",
            ",\n",
            " \n",
            "7\n",
            "0\n",
            ",\n",
            " \n",
            "8\n",
            "0\n",
            ",\n",
            " \n",
            "9\n",
            "0\n",
            "]\n",
            ",\n",
            " \n",
            "3\n",
            ":\n",
            " \n",
            "[\n",
            "4\n",
            "5\n",
            ",\n",
            " \n",
            "5\n",
            "6\n",
            ",\n",
            " \n",
            "6\n",
            "7\n",
            ",\n",
            " \n",
            "7\n",
            "8\n",
            ",\n",
            " \n",
            "8\n",
            "9\n",
            "]\n",
            "}\n"
          ]
        }
      ]
    },
    {
      "cell_type": "code",
      "metadata": {
        "colab": {
          "base_uri": "https://localhost:8080/"
        },
        "id": "1o5BIIsOooNg",
        "outputId": "26e7974c-70d3-4592-bda6-4ea994e4e376"
      },
      "source": [
        "type(d4)"
      ],
      "execution_count": null,
      "outputs": [
        {
          "output_type": "execute_result",
          "data": {
            "text/plain": [
              "dict"
            ]
          },
          "metadata": {},
          "execution_count": 15
        }
      ]
    },
    {
      "cell_type": "code",
      "metadata": {
        "colab": {
          "base_uri": "https://localhost:8080/"
        },
        "id": "5MBFk1KHoydm",
        "outputId": "8f479a53-0663-472f-eb46-4b9990f59ae4"
      },
      "source": [
        "type(d6)"
      ],
      "execution_count": null,
      "outputs": [
        {
          "output_type": "execute_result",
          "data": {
            "text/plain": [
              "str"
            ]
          },
          "metadata": {},
          "execution_count": 16
        }
      ]
    },
    {
      "cell_type": "markdown",
      "metadata": {
        "id": "i4d48c1Hnixo"
      },
      "source": [
        "#Dictionary Methods"
      ]
    },
    {
      "cell_type": "markdown",
      "metadata": {
        "id": "U6DbeTb2tteY"
      },
      "source": [
        "\n",
        "\n",
        "```\n",
        " 'clear',\n",
        " 'copy',\n",
        " 'fromkeys',\n",
        " 'get',\n",
        " 'items',\n",
        " 'keys',\n",
        " 'pop',\n",
        " 'popitem',\n",
        " 'setdefault',\n",
        " 'update',\n",
        " 'values'\n",
        "```\n",
        "\n"
      ]
    },
    {
      "cell_type": "code",
      "metadata": {
        "colab": {
          "base_uri": "https://localhost:8080/"
        },
        "id": "dj-QwXwPnMm4",
        "outputId": "52dab457-ef44-4cb0-b164-f6f8db17a78c"
      },
      "source": [
        "employee_info.items()"
      ],
      "execution_count": null,
      "outputs": [
        {
          "output_type": "execute_result",
          "data": {
            "text/plain": [
              "dict_items([(12345, {'name': 'xyz', 'gender': True, 'contact': 5658987}), (12346, {'name': 'abc', 'gender': True, 'contact': 5658237}), (12347, {'name': 'ijk', 'gender': False, 'contact': 5641237})])"
            ]
          },
          "metadata": {},
          "execution_count": 19
        }
      ]
    },
    {
      "cell_type": "code",
      "source": [
        "d2.items()"
      ],
      "metadata": {
        "colab": {
          "base_uri": "https://localhost:8080/"
        },
        "id": "8uPi-c_cybkj",
        "outputId": "784b7d30-2fe0-4a9d-a779-77977a3e7dbd"
      },
      "execution_count": null,
      "outputs": [
        {
          "output_type": "execute_result",
          "data": {
            "text/plain": [
              "dict_items([('name', 'xyz'), ('number', 123)])"
            ]
          },
          "metadata": {},
          "execution_count": 20
        }
      ]
    },
    {
      "cell_type": "code",
      "source": [
        "type(d2.items())"
      ],
      "metadata": {
        "colab": {
          "base_uri": "https://localhost:8080/"
        },
        "id": "bFncSY-6ymYB",
        "outputId": "331bd433-0d19-49b2-8845-b1debd35f54f"
      },
      "execution_count": null,
      "outputs": [
        {
          "output_type": "execute_result",
          "data": {
            "text/plain": [
              "dict_items"
            ]
          },
          "metadata": {},
          "execution_count": 21
        }
      ]
    },
    {
      "cell_type": "code",
      "source": [
        "temp=list(d2.items())\n",
        "temp"
      ],
      "metadata": {
        "colab": {
          "base_uri": "https://localhost:8080/"
        },
        "id": "3p19NF90yvXx",
        "outputId": "79a3113a-51b0-461a-f51c-29f837c96b75"
      },
      "execution_count": null,
      "outputs": [
        {
          "output_type": "execute_result",
          "data": {
            "text/plain": [
              "[('name', 'xyz'), ('number', 123)]"
            ]
          },
          "metadata": {},
          "execution_count": 22
        }
      ]
    },
    {
      "cell_type": "code",
      "metadata": {
        "colab": {
          "base_uri": "https://localhost:8080/"
        },
        "id": "psXfX_FCnMed",
        "outputId": "f6977521-3d96-4125-ddd7-25c24d68543c"
      },
      "source": [
        "for ev in d4.items():\n",
        "    print(ev,ev[0],ev[1],type(ev))\n",
        "type(d4.items())"
      ],
      "execution_count": null,
      "outputs": [
        {
          "output_type": "stream",
          "name": "stdout",
          "text": [
            "(1, [55, 66, 77, 88, 99]) 1 [55, 66, 77, 88, 99] <class 'tuple'>\n",
            "(2, [50, 60, 70, 80, 90]) 2 [50, 60, 70, 80, 90] <class 'tuple'>\n",
            "(3, [45, 56, 67, 78, 89]) 3 [45, 56, 67, 78, 89] <class 'tuple'>\n"
          ]
        },
        {
          "output_type": "execute_result",
          "data": {
            "text/plain": [
              "dict_items"
            ]
          },
          "metadata": {},
          "execution_count": 23
        }
      ]
    },
    {
      "cell_type": "code",
      "metadata": {
        "colab": {
          "base_uri": "https://localhost:8080/"
        },
        "id": "7RrhPejfoD6u",
        "outputId": "40479372-dadb-45a3-dc49-9cdf0c8221c5"
      },
      "source": [
        "for ek in d4.keys():\n",
        "    print(ek,type(ek))\n",
        "type(d4.keys())"
      ],
      "execution_count": null,
      "outputs": [
        {
          "output_type": "stream",
          "name": "stdout",
          "text": [
            "1 <class 'int'>\n",
            "2 <class 'int'>\n",
            "3 <class 'int'>\n"
          ]
        },
        {
          "output_type": "execute_result",
          "data": {
            "text/plain": [
              "dict_keys"
            ]
          },
          "metadata": {},
          "execution_count": 24
        }
      ]
    },
    {
      "cell_type": "code",
      "metadata": {
        "colab": {
          "base_uri": "https://localhost:8080/"
        },
        "id": "NFtigmZOoQwq",
        "outputId": "f502666d-00d3-4faf-b032-133eb6915268"
      },
      "source": [
        "for ev in d4.values():\n",
        "    print(ev,type(ev))\n",
        "type(d4.values())"
      ],
      "execution_count": null,
      "outputs": [
        {
          "output_type": "stream",
          "name": "stdout",
          "text": [
            "[55, 66, 77, 88, 99] <class 'list'>\n",
            "[50, 60, 70, 80, 90] <class 'list'>\n",
            "[45, 56, 67, 78, 89] <class 'list'>\n"
          ]
        },
        {
          "output_type": "execute_result",
          "data": {
            "text/plain": [
              "dict_values"
            ]
          },
          "metadata": {},
          "execution_count": 25
        }
      ]
    },
    {
      "cell_type": "code",
      "metadata": {
        "colab": {
          "base_uri": "https://localhost:8080/"
        },
        "id": "5sz1jJJ2oqyN",
        "outputId": "902469d1-177e-4aa9-e1a9-51333e127528"
      },
      "source": [
        "print(d4)\n",
        "d4.clear()\n",
        "d4"
      ],
      "execution_count": null,
      "outputs": [
        {
          "output_type": "stream",
          "name": "stdout",
          "text": [
            "{1: [55, 66, 77, 88, 99], 2: [50, 60, 70, 80, 90], 3: [45, 56, 67, 78, 89]}\n"
          ]
        },
        {
          "output_type": "execute_result",
          "data": {
            "text/plain": [
              "{}"
            ]
          },
          "metadata": {},
          "execution_count": 26
        }
      ]
    },
    {
      "cell_type": "code",
      "metadata": {
        "colab": {
          "base_uri": "https://localhost:8080/",
          "height": 228
        },
        "id": "3U55ozOhpFgF",
        "outputId": "eae529e9-b7d8-4900-c41d-f6e4ad001266"
      },
      "source": [
        "#check\n",
        "l=(1,2,3,4,5)\n",
        "d6=dict(l)\n",
        "d6"
      ],
      "execution_count": null,
      "outputs": [
        {
          "output_type": "error",
          "ename": "TypeError",
          "evalue": "ignored",
          "traceback": [
            "\u001b[0;31m---------------------------------------------------------------------------\u001b[0m",
            "\u001b[0;31mTypeError\u001b[0m                                 Traceback (most recent call last)",
            "\u001b[0;32m<ipython-input-28-97b5441bc66b>\u001b[0m in \u001b[0;36m<module>\u001b[0;34m()\u001b[0m\n\u001b[1;32m      1\u001b[0m \u001b[0;31m#check\u001b[0m\u001b[0;34m\u001b[0m\u001b[0;34m\u001b[0m\u001b[0;34m\u001b[0m\u001b[0m\n\u001b[1;32m      2\u001b[0m \u001b[0ml\u001b[0m\u001b[0;34m=\u001b[0m\u001b[0;34m(\u001b[0m\u001b[0;36m1\u001b[0m\u001b[0;34m,\u001b[0m\u001b[0;36m2\u001b[0m\u001b[0;34m,\u001b[0m\u001b[0;36m3\u001b[0m\u001b[0;34m,\u001b[0m\u001b[0;36m4\u001b[0m\u001b[0;34m,\u001b[0m\u001b[0;36m5\u001b[0m\u001b[0;34m)\u001b[0m\u001b[0;34m\u001b[0m\u001b[0;34m\u001b[0m\u001b[0m\n\u001b[0;32m----> 3\u001b[0;31m \u001b[0md6\u001b[0m\u001b[0;34m=\u001b[0m\u001b[0mdict\u001b[0m\u001b[0;34m(\u001b[0m\u001b[0ml\u001b[0m\u001b[0;34m)\u001b[0m\u001b[0;34m\u001b[0m\u001b[0;34m\u001b[0m\u001b[0m\n\u001b[0m\u001b[1;32m      4\u001b[0m \u001b[0md6\u001b[0m\u001b[0;34m\u001b[0m\u001b[0;34m\u001b[0m\u001b[0m\n",
            "\u001b[0;31mTypeError\u001b[0m: cannot convert dictionary update sequence element #0 to a sequence"
          ]
        }
      ]
    },
    {
      "cell_type": "code",
      "metadata": {
        "colab": {
          "base_uri": "https://localhost:8080/"
        },
        "id": "TZNxQqQ5p-PF",
        "outputId": "1bc55857-e341-4855-fab8-7d321cb29c40"
      },
      "source": [
        "d6=d3.copy()\n",
        "d6"
      ],
      "execution_count": null,
      "outputs": [
        {
          "output_type": "execute_result",
          "data": {
            "text/plain": [
              "{'email': 'abc', 'name': 'abc'}"
            ]
          },
          "metadata": {},
          "execution_count": 29
        }
      ]
    },
    {
      "cell_type": "code",
      "source": [
        "d6[\"email\"]"
      ],
      "metadata": {
        "colab": {
          "base_uri": "https://localhost:8080/",
          "height": 36
        },
        "id": "yiR_sw1XzSeK",
        "outputId": "e683a26e-e3a9-4809-bfc4-80f1d27ce846"
      },
      "execution_count": null,
      "outputs": [
        {
          "output_type": "execute_result",
          "data": {
            "application/vnd.google.colaboratory.intrinsic+json": {
              "type": "string"
            },
            "text/plain": [
              "'abc'"
            ]
          },
          "metadata": {},
          "execution_count": 30
        }
      ]
    },
    {
      "cell_type": "code",
      "metadata": {
        "colab": {
          "base_uri": "https://localhost:8080/",
          "height": 36
        },
        "id": "C1SQEMlDqGlu",
        "outputId": "8127b46a-fb7d-4846-a575-d6a95d360787"
      },
      "source": [
        "d6.get('email')"
      ],
      "execution_count": null,
      "outputs": [
        {
          "output_type": "execute_result",
          "data": {
            "application/vnd.google.colaboratory.intrinsic+json": {
              "type": "string"
            },
            "text/plain": [
              "'abc'"
            ]
          },
          "metadata": {},
          "execution_count": 31
        }
      ]
    },
    {
      "cell_type": "code",
      "metadata": {
        "colab": {
          "base_uri": "https://localhost:8080/"
        },
        "id": "-mdi3gz3qK-S",
        "outputId": "d7310894-54b7-4c83-bab9-d3a7a448df31"
      },
      "source": [
        "d6.setdefault('contact',12345)\n",
        "d6"
      ],
      "execution_count": null,
      "outputs": [
        {
          "output_type": "execute_result",
          "data": {
            "text/plain": [
              "{'contact': 12345, 'email': 'abc', 'name': 'abc'}"
            ]
          },
          "metadata": {},
          "execution_count": 32
        }
      ]
    },
    {
      "cell_type": "code",
      "metadata": {
        "colab": {
          "base_uri": "https://localhost:8080/"
        },
        "id": "cB6GLQz1qZ-y",
        "outputId": "bd06d32b-198c-4504-c6b6-b8e3bcdbf200"
      },
      "source": [
        "print(d3,d6)\n",
        "d3.update(d6)\n",
        "d3"
      ],
      "execution_count": null,
      "outputs": [
        {
          "output_type": "stream",
          "name": "stdout",
          "text": [
            "{'name': 'abc', 'email': 'abc'} {'name': 'abc', 'email': 'abc', 'contact': 12345}\n"
          ]
        },
        {
          "output_type": "execute_result",
          "data": {
            "text/plain": [
              "{'contact': 12345, 'email': 'abc', 'name': 'abc'}"
            ]
          },
          "metadata": {},
          "execution_count": 33
        }
      ]
    },
    {
      "cell_type": "code",
      "metadata": {
        "colab": {
          "base_uri": "https://localhost:8080/"
        },
        "id": "kr5wkxbQqnlf",
        "outputId": "2c7d844b-2bba-4109-fa5a-3151361cb4bf"
      },
      "source": [
        "d3.update({'gender':True})\n",
        "d3"
      ],
      "execution_count": null,
      "outputs": [
        {
          "output_type": "execute_result",
          "data": {
            "text/plain": [
              "{'contact': 12345, 'email': 'abc', 'gender': True, 'name': 'abc'}"
            ]
          },
          "metadata": {},
          "execution_count": 34
        }
      ]
    },
    {
      "cell_type": "code",
      "metadata": {
        "colab": {
          "base_uri": "https://localhost:8080/"
        },
        "id": "_yHBZKwWrG02",
        "outputId": "6026f409-37a8-44d0-dea3-51bf2818661d"
      },
      "source": [
        "d3.update({'name':'xyz'})\n",
        "d3"
      ],
      "execution_count": null,
      "outputs": [
        {
          "output_type": "execute_result",
          "data": {
            "text/plain": [
              "{'contact': 12345, 'email': 'abc', 'gender': True, 'name': 'xyz'}"
            ]
          },
          "metadata": {},
          "execution_count": 35
        }
      ]
    },
    {
      "cell_type": "code",
      "source": [
        "d3.popitem()"
      ],
      "metadata": {
        "colab": {
          "base_uri": "https://localhost:8080/"
        },
        "id": "menXrrhszreP",
        "outputId": "28b0cdd5-7b51-427a-e5c4-a870ecac7d5d"
      },
      "execution_count": null,
      "outputs": [
        {
          "output_type": "execute_result",
          "data": {
            "text/plain": [
              "('gender', True)"
            ]
          },
          "metadata": {},
          "execution_count": 36
        }
      ]
    },
    {
      "cell_type": "code",
      "source": [
        "d3"
      ],
      "metadata": {
        "colab": {
          "base_uri": "https://localhost:8080/"
        },
        "id": "UhK6VIeezxot",
        "outputId": "856aaf70-8df1-45e8-a543-b78b61321e35"
      },
      "execution_count": null,
      "outputs": [
        {
          "output_type": "execute_result",
          "data": {
            "text/plain": [
              "{'contact': 12345, 'email': 'abc', 'name': 'xyz'}"
            ]
          },
          "metadata": {},
          "execution_count": 37
        }
      ]
    },
    {
      "cell_type": "code",
      "source": [
        "d3.pop(\"name\")\n",
        "d3"
      ],
      "metadata": {
        "colab": {
          "base_uri": "https://localhost:8080/"
        },
        "id": "30Fd-ijUzzCJ",
        "outputId": "5e315b08-6c32-47cf-f0b9-78e2aa40ce8f"
      },
      "execution_count": null,
      "outputs": [
        {
          "output_type": "execute_result",
          "data": {
            "text/plain": [
              "{'contact': 12345, 'email': 'abc'}"
            ]
          },
          "metadata": {},
          "execution_count": 38
        }
      ]
    },
    {
      "cell_type": "code",
      "source": [
        "d3.clear()\n",
        "d3"
      ],
      "metadata": {
        "colab": {
          "base_uri": "https://localhost:8080/"
        },
        "id": "1UEOBgkc0KLO",
        "outputId": "472013fa-ea84-4fa2-c2c7-437f608ad61b"
      },
      "execution_count": null,
      "outputs": [
        {
          "output_type": "execute_result",
          "data": {
            "text/plain": [
              "{}"
            ]
          },
          "metadata": {},
          "execution_count": 40
        }
      ]
    },
    {
      "cell_type": "markdown",
      "metadata": {
        "id": "JCDMVMiUrOsk"
      },
      "source": [
        "#programs"
      ]
    },
    {
      "cell_type": "markdown",
      "metadata": {
        "id": "kaA8I82_rWn0"
      },
      "source": [
        "write a porgram to calculate and print bonus of 10% of salary for all employess with their names"
      ]
    },
    {
      "cell_type": "code",
      "metadata": {
        "id": "njrQDqMYrVOU",
        "colab": {
          "base_uri": "https://localhost:8080/"
        },
        "outputId": "8d2fd8e1-fe9c-4c2c-b887-0a5aa85c5413"
      },
      "source": [
        "employee_info={12345:{'name':'xyz',\"gender\":True,\"contact\":5658987,'salary':10000},\n",
        "               12346:{'name':'abc',\"gender\":True,\"contact\":5658237,'salary':20000},\n",
        "               12347:{'name':'ijk',\"gender\":False,\"contact\":5641237,'salary':15000}}\n",
        "for ei in employee_info.values():\n",
        "    #print(ei,type(ei))\n",
        "    print(\"The bonus for employee\",ei.get(\"name\"),\"is\",ei.get(\"salary\")*0.1)"
      ],
      "execution_count": null,
      "outputs": [
        {
          "output_type": "stream",
          "name": "stdout",
          "text": [
            "The bonus for employee xyz is 1000.0\n",
            "The bonus for employee abc is 2000.0\n",
            "The bonus for employee ijk is 1500.0\n"
          ]
        }
      ]
    },
    {
      "cell_type": "markdown",
      "metadata": {
        "id": "1fUENM2isCwb"
      },
      "source": [
        "write a program to create a dictionary with key as linear,square,cube\n",
        "and values as a list of numbers from 1 to 10, squares of 1 to 10, cubes of 1 to 10"
      ]
    },
    {
      "cell_type": "markdown",
      "source": [
        "###List comprehension:\n"
      ],
      "metadata": {
        "id": "QvRmt_Ny1LWy"
      }
    },
    {
      "cell_type": "code",
      "metadata": {
        "id": "rNCdy3UcsSTn",
        "colab": {
          "base_uri": "https://localhost:8080/"
        },
        "outputId": "34dda008-6234-45a3-c0c0-b4c1464185ba"
      },
      "source": [
        "l=[1,2,3,4,5,6,7,8,9,10]\n",
        "l2=[]\n",
        "for i in range(1,101):\n",
        "    l2.append(i)\n",
        "print(l)\n",
        "print(l2)"
      ],
      "execution_count": null,
      "outputs": [
        {
          "output_type": "stream",
          "name": "stdout",
          "text": [
            "[1, 2, 3, 4, 5, 6, 7, 8, 9, 10]\n",
            "[1, 2, 3, 4, 5, 6, 7, 8, 9, 10, 11, 12, 13, 14, 15, 16, 17, 18, 19, 20, 21, 22, 23, 24, 25, 26, 27, 28, 29, 30, 31, 32, 33, 34, 35, 36, 37, 38, 39, 40, 41, 42, 43, 44, 45, 46, 47, 48, 49, 50, 51, 52, 53, 54, 55, 56, 57, 58, 59, 60, 61, 62, 63, 64, 65, 66, 67, 68, 69, 70, 71, 72, 73, 74, 75, 76, 77, 78, 79, 80, 81, 82, 83, 84, 85, 86, 87, 88, 89, 90, 91, 92, 93, 94, 95, 96, 97, 98, 99, 100]\n"
          ]
        }
      ]
    },
    {
      "cell_type": "code",
      "source": [
        "l3=[i for i in range(1,21)]  # list comprehension  [ equation     for loop    if condition]\n",
        "l3"
      ],
      "metadata": {
        "colab": {
          "base_uri": "https://localhost:8080/"
        },
        "id": "5MSBMFpN1f8U",
        "outputId": "7f0d9492-a529-4bf5-c342-2b243ae87042"
      },
      "execution_count": null,
      "outputs": [
        {
          "output_type": "execute_result",
          "data": {
            "text/plain": [
              "[1, 2, 3, 4, 5, 6, 7, 8, 9, 10, 11, 12, 13, 14, 15, 16, 17, 18, 19, 20]"
            ]
          },
          "metadata": {},
          "execution_count": 49
        }
      ]
    },
    {
      "cell_type": "code",
      "source": [
        "l4=[i**2 for i in range(1,10)]\n",
        "l4"
      ],
      "metadata": {
        "colab": {
          "base_uri": "https://localhost:8080/"
        },
        "id": "0AQxACuk1vlX",
        "outputId": "610d60f1-bd9d-4c07-e84e-6ac9ca11c3fb"
      },
      "execution_count": null,
      "outputs": [
        {
          "output_type": "execute_result",
          "data": {
            "text/plain": [
              "[1, 4, 9, 16, 25, 36, 49, 64, 81]"
            ]
          },
          "metadata": {},
          "execution_count": 50
        }
      ]
    },
    {
      "cell_type": "code",
      "source": [
        "l5=[i*10 for i in range(0,21,4)]\n",
        "l5"
      ],
      "metadata": {
        "colab": {
          "base_uri": "https://localhost:8080/"
        },
        "id": "nm-ZfE6c11Yv",
        "outputId": "14d27836-4aae-442c-806f-6446c9341171"
      },
      "execution_count": null,
      "outputs": [
        {
          "output_type": "execute_result",
          "data": {
            "text/plain": [
              "[0, 40, 80, 120, 160, 200]"
            ]
          },
          "metadata": {},
          "execution_count": 51
        }
      ]
    },
    {
      "cell_type": "code",
      "source": [
        "l6 = [i**2 for i in range(1,11) if i%2==0]\n",
        "l6"
      ],
      "metadata": {
        "colab": {
          "base_uri": "https://localhost:8080/"
        },
        "id": "qTlg1MJ92Fu_",
        "outputId": "c9522ce8-230b-4c3c-aed6-8c425997d44a"
      },
      "execution_count": null,
      "outputs": [
        {
          "output_type": "execute_result",
          "data": {
            "text/plain": [
              "[4, 16, 36, 64, 100]"
            ]
          },
          "metadata": {},
          "execution_count": 52
        }
      ]
    },
    {
      "cell_type": "code",
      "source": [
        "d = {\"linear\":[i for i in range(11)],\n",
        "     \"square\":[i**2 for i in range(11)],\n",
        "     \"cube\":[i**3 for i in range(11)]\n",
        "     }\n",
        "d"
      ],
      "metadata": {
        "colab": {
          "base_uri": "https://localhost:8080/"
        },
        "id": "HGnASxlT2Y5p",
        "outputId": "5aacc691-297b-406c-f88f-968933b056aa"
      },
      "execution_count": null,
      "outputs": [
        {
          "output_type": "execute_result",
          "data": {
            "text/plain": [
              "{'cube': [0, 1, 8, 27, 64, 125, 216, 343, 512, 729, 1000],\n",
              " 'linear': [0, 1, 2, 3, 4, 5, 6, 7, 8, 9, 10],\n",
              " 'square': [0, 1, 4, 9, 16, 25, 36, 49, 64, 81, 100]}"
            ]
          },
          "metadata": {},
          "execution_count": 54
        }
      ]
    },
    {
      "cell_type": "markdown",
      "metadata": {
        "id": "iUxxe9oKsSvc"
      },
      "source": [
        "write a program to print Pass or Fail for all students as status depending on their  percentage values \n",
        "\n",
        "d={1:[55,66,77,88,99],2:[50,60,70,80,90],3:[45,56,67,78,89],4:[25,46,21,32,28]}"
      ]
    },
    {
      "cell_type": "code",
      "metadata": {
        "id": "lc0t1ILgsdLd"
      },
      "source": [
        "d={1:[55,66,77,88,99],\n",
        "   2:[50,60,70,80,90],\n",
        "   3:[45,56,67,78,89],\n",
        "   4:[25,46,21,32,28]}"
      ],
      "execution_count": null,
      "outputs": []
    },
    {
      "cell_type": "markdown",
      "metadata": {
        "id": "j7CvDxjQtDzh"
      },
      "source": [
        "write a program to create a dictionary from 2 given lists \n",
        "l1=[1,2,3,4,5]\n",
        "l2=[\"one\",\"two\",\"three\",\"four\",\"five\"]"
      ]
    },
    {
      "cell_type": "code",
      "metadata": {
        "id": "1sPzQxyZtXYf"
      },
      "source": [
        "l1=[1,2,3,4,5] \n",
        "l2=[\"one\",\"two\",\"three\",\"four\",\"five\"]\n"
      ],
      "execution_count": null,
      "outputs": []
    },
    {
      "cell_type": "markdown",
      "metadata": {
        "id": "kVX0pJ_stg-n"
      },
      "source": [
        "write a program to check if a particular key is present in a given dictionary or not. if so print its value"
      ]
    },
    {
      "cell_type": "code",
      "metadata": {
        "id": "XfOd_Jc4uCmB"
      },
      "source": [
        "d = {\"linear\":[i for i in range(11)],\n",
        "     \"square\":[i**2 for i in range(11)],\n",
        "     \"cube\":[i**3 for i in range(11)]\n",
        "     }"
      ],
      "execution_count": null,
      "outputs": []
    },
    {
      "cell_type": "markdown",
      "metadata": {
        "id": "UyykP1X5Re4O"
      },
      "source": [
        "Create a function that takes a dictionary of student names as parameters and returns a list containing those student names."
      ]
    },
    {
      "cell_type": "code",
      "source": [
        ""
      ],
      "metadata": {
        "id": "7tr9Leetgwub"
      },
      "execution_count": null,
      "outputs": []
    },
    {
      "cell_type": "code",
      "source": [
        "import cmath\n",
        "\n",
        "def solvequadeq(a, b, c):\n",
        "    D = b**2 - 4 * a * c\n",
        "    x1 = (-b - cmath.sqrt(D)) / (2 * a)\n",
        "    x2 = (-b + cmath.sqrt(D)) / (2 * a)\n",
        "    return x1, x2\n",
        "\n",
        "a = 1\n",
        "b = -4\n",
        "c = 3\n",
        "print('Equation: %d*x**2 + %d*x + %d = 0' % (a, b, c))\n",
        "solutions = solvequadeq(a, b, c)\n",
        "print('Roots:')\n",
        "print('x1 = %s' % solutions[0])\n",
        "print('x2 = %s' % solutions[1])"
      ],
      "metadata": {
        "colab": {
          "base_uri": "https://localhost:8080/"
        },
        "id": "fUidlLL94aDw",
        "outputId": "43454d34-464e-47a9-cad5-6201488fe46f"
      },
      "execution_count": null,
      "outputs": [
        {
          "output_type": "stream",
          "name": "stdout",
          "text": [
            "Equation: 1*x**2 + -4*x + 3 = 0\n",
            "Roots:\n",
            "x1 = (1+0j)\n",
            "x2 = (3+0j)\n"
          ]
        }
      ]
    }
  ]
}