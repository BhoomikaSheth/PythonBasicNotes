{
  "nbformat": 4,
  "nbformat_minor": 0,
  "metadata": {
    "colab": {
      "name": "Python 2 day 5",
      "provenance": [],
      "collapsed_sections": [],
      "authorship_tag": "ABX9TyNN/Q3NT7gF6eZQCqjZ3Pek",
      "include_colab_link": true
    },
    "kernelspec": {
      "name": "python3",
      "display_name": "Python 3"
    },
    "language_info": {
      "name": "python"
    }
  },
  "cells": [
    {
      "cell_type": "markdown",
      "metadata": {
        "id": "view-in-github",
        "colab_type": "text"
      },
      "source": [
        "<a href=\"https://colab.research.google.com/github/BhoomikaSheth/PythonBasicNotes/blob/main/Python_2_day_5.ipynb\" target=\"_parent\"><img src=\"https://colab.research.google.com/assets/colab-badge.svg\" alt=\"Open In Colab\"/></a>"
      ]
    },
    {
      "cell_type": "markdown",
      "metadata": {
        "id": "Qg4MOdg79Jr6"
      },
      "source": [
        "# Modules"
      ]
    },
    {
      "cell_type": "markdown",
      "metadata": {
        "id": "o7OwxKaI7Ejb"
      },
      "source": [
        "Simply, a module is a file consisting of Python code. A module can define functions, classes and variables. A module can also include runnable code.\n",
        "\n",
        "\n",
        "The Python code for a module named aname normally resides in a file named aname.py.\n",
        "\n",
        "⦁\tEg greetings.py\n",
        "```\n",
        "def greeting_func( var ): \n",
        "\tprint \"Hello : \", var \n",
        "\treturn\n",
        "```\n",
        "```\n",
        "import greetings\n",
        "greetings.greeting_func(\"Zara\")\n",
        "```\n",
        "```\n",
        "Hello : Zara\n",
        "```\n",
        "When the interpreter encounters an import statement, it imports the module if the module is present in the search path. A search path is a list of directories that the interpreter searches before importing a module. A module is loaded only once, regardless of the number of times it is imported. This prevents the module execution from happening over and over again if multiple imports occur.\n",
        "\n",
        "Variables are names (identifiers) that map to objects. A namespace is a dictionary of variable names (keys) and their corresponding objects (values). A Python statement can access variables in a local namespace and in the global namespace. If a local and a global variable have the same name, the local variable shadows the global variable.\n",
        "\n",
        "Python's from statement lets you import specific attributes from a module into the current namespace.\n",
        "```\n",
        "import random\n",
        "\n",
        "random.randint(4,10)\n",
        "```\n",
        "```\n",
        "from random import randint\n",
        "```\n",
        "```\n",
        "randint(4,10)\n",
        "```\n",
        "Alias name:\n",
        "You can give alias name to your module or method by masking use of as keyword\n",
        "```\n",
        "import random as rd\n",
        "rd.randint(4,10)\n",
        "```\n",
        "\n",
        "\n",
        "\n",
        "```\n",
        "from random import randint as rd\n",
        "rd(4,10)\n",
        "```"
      ]
    },
    {
      "cell_type": "markdown",
      "metadata": {
        "id": "PWHXKa2p9OUt"
      },
      "source": [
        "##Random Module\n",
        "```\n",
        "'betavariate',\n",
        " 'choice',\n",
        " 'choices',\n",
        " 'expovariate',\n",
        " 'gammavariate',\n",
        " 'gauss',\n",
        " 'getrandbits',\n",
        " 'getstate',\n",
        " 'lognormvariate',\n",
        " 'normalvariate',\n",
        " 'paretovariate',\n",
        " 'randint',\n",
        " 'random',\n",
        " 'randrange',\n",
        " 'sample',\n",
        " 'seed',\n",
        " 'setstate',\n",
        " 'shuffle',\n",
        " 'triangular',\n",
        " 'uniform',\n",
        " 'vonmisesvariate',\n",
        " 'weibullvariate'\n",
        "```\n",
        "\n"
      ]
    },
    {
      "cell_type": "code",
      "metadata": {
        "colab": {
          "base_uri": "https://localhost:8080/"
        },
        "id": "kRiqQL7k657y",
        "outputId": "3b348562-b7a3-48cd-c7ab-81c2b575a3d3"
      },
      "source": [
        "import random\n",
        "random.choices(population=[6789,456,345,6574],k=2)\n"
      ],
      "execution_count": null,
      "outputs": [
        {
          "output_type": "execute_result",
          "data": {
            "text/plain": [
              "[6789, 6574]"
            ]
          },
          "metadata": {},
          "execution_count": 1
        }
      ]
    },
    {
      "cell_type": "code",
      "source": [
        "random.choice([23,67,89,12,457])"
      ],
      "metadata": {
        "colab": {
          "base_uri": "https://localhost:8080/"
        },
        "id": "MLCoTNtUHeQA",
        "outputId": "548f899d-26c6-4f5a-e155-ddc3707ac3b2"
      },
      "execution_count": null,
      "outputs": [
        {
          "output_type": "execute_result",
          "data": {
            "text/plain": [
              "457"
            ]
          },
          "metadata": {},
          "execution_count": 2
        }
      ]
    },
    {
      "cell_type": "code",
      "metadata": {
        "colab": {
          "base_uri": "https://localhost:8080/"
        },
        "id": "agOcwvE87VvS",
        "outputId": "b2c5fa36-a8cd-438f-8b54-8510409685cc"
      },
      "source": [
        "random.choices(\"1234567890\",k=4)"
      ],
      "execution_count": null,
      "outputs": [
        {
          "output_type": "execute_result",
          "data": {
            "text/plain": [
              "['3', '6', '4', '1']"
            ]
          },
          "metadata": {},
          "execution_count": 3
        }
      ]
    },
    {
      "cell_type": "code",
      "metadata": {
        "colab": {
          "base_uri": "https://localhost:8080/"
        },
        "id": "T5N6yV9c4Qco",
        "outputId": "04517d8b-c04e-485d-b415-588181247b0b"
      },
      "source": [
        "import random\n",
        "random.randint(4,100)\n"
      ],
      "execution_count": null,
      "outputs": [
        {
          "output_type": "execute_result",
          "data": {
            "text/plain": [
              "11"
            ]
          },
          "metadata": {},
          "execution_count": 5
        }
      ]
    },
    {
      "cell_type": "code",
      "metadata": {
        "colab": {
          "base_uri": "https://localhost:8080/",
          "height": 36
        },
        "id": "435UMeRt4V6E",
        "outputId": "7af3724f-f74f-4b48-dc73-db1f51b640c8"
      },
      "source": [
        "random.choice(\"wertyuiodcfghjklcvbnm,.\")"
      ],
      "execution_count": null,
      "outputs": [
        {
          "output_type": "execute_result",
          "data": {
            "application/vnd.google.colaboratory.intrinsic+json": {
              "type": "string"
            },
            "text/plain": [
              "'g'"
            ]
          },
          "metadata": {},
          "execution_count": 6
        }
      ]
    },
    {
      "cell_type": "code",
      "metadata": {
        "colab": {
          "base_uri": "https://localhost:8080/"
        },
        "id": "vCAWh2794bKb",
        "outputId": "4b53366d-4151-4298-f6e6-328698a656c7"
      },
      "source": [
        "random.choice([123,234,2345,345])"
      ],
      "execution_count": null,
      "outputs": [
        {
          "output_type": "execute_result",
          "data": {
            "text/plain": [
              "345"
            ]
          },
          "metadata": {},
          "execution_count": 7
        }
      ]
    },
    {
      "cell_type": "code",
      "metadata": {
        "colab": {
          "base_uri": "https://localhost:8080/"
        },
        "id": "A_0ntlbp4oxb",
        "outputId": "ecb16c64-68ff-4a2a-b294-d28e416f9c53"
      },
      "source": [
        "random.random()# between 0 and 1"
      ],
      "execution_count": null,
      "outputs": [
        {
          "output_type": "execute_result",
          "data": {
            "text/plain": [
              "0.09633847635957982"
            ]
          },
          "metadata": {},
          "execution_count": 8
        }
      ]
    },
    {
      "cell_type": "code",
      "metadata": {
        "colab": {
          "base_uri": "https://localhost:8080/"
        },
        "id": "roN053qs4qzg",
        "outputId": "7358f634-f634-4b85-ea6d-6abb8d94c2e2"
      },
      "source": [
        "l=[123,2345,456,9876,123]\n",
        "random.shuffle(l)# shuffle works with list only and shuffles original list\n",
        "l"
      ],
      "execution_count": null,
      "outputs": [
        {
          "output_type": "execute_result",
          "data": {
            "text/plain": [
              "[123, 2345, 9876, 456, 123]"
            ]
          },
          "metadata": {},
          "execution_count": 9
        }
      ]
    },
    {
      "cell_type": "code",
      "metadata": {
        "colab": {
          "base_uri": "https://localhost:8080/"
        },
        "id": "JLJbnA_p52OO",
        "outputId": "de16828f-f507-4175-c960-9ff6d8fbd674"
      },
      "source": [
        "random.randrange(10,100,2)#always get even numbers in range 10 to 100"
      ],
      "execution_count": null,
      "outputs": [
        {
          "output_type": "execute_result",
          "data": {
            "text/plain": [
              "66"
            ]
          },
          "metadata": {},
          "execution_count": 12
        }
      ]
    },
    {
      "cell_type": "code",
      "metadata": {
        "colab": {
          "base_uri": "https://localhost:8080/"
        },
        "id": "wdiO7Hgh6VdR",
        "outputId": "750e360f-ce36-4148-c849-5add899ac9e3"
      },
      "source": [
        "random.randint(11,1200)"
      ],
      "execution_count": null,
      "outputs": [
        {
          "output_type": "execute_result",
          "data": {
            "text/plain": [
              "889"
            ]
          },
          "metadata": {},
          "execution_count": 13
        }
      ]
    },
    {
      "cell_type": "code",
      "metadata": {
        "colab": {
          "base_uri": "https://localhost:8080/"
        },
        "id": "1gRmxG3T7on_",
        "outputId": "42293b6f-c77e-4fd3-d0a1-81b76eb8eddb"
      },
      "source": [
        "random.choices(\"Dhairya\",k=3)#random.sample is same"
      ],
      "execution_count": null,
      "outputs": [
        {
          "output_type": "execute_result",
          "data": {
            "text/plain": [
              "['i', 'a', 'i']"
            ]
          },
          "metadata": {},
          "execution_count": 14
        }
      ]
    },
    {
      "cell_type": "markdown",
      "metadata": {
        "id": "UIvRWIqY75IR"
      },
      "source": [
        "write a program to make a virtual dice"
      ]
    },
    {
      "cell_type": "code",
      "source": [
        "random.randint(1,6)"
      ],
      "metadata": {
        "colab": {
          "base_uri": "https://localhost:8080/"
        },
        "id": "EhHKygVp1CmP",
        "outputId": "93fd2cfe-3eee-4852-c400-53f3d3519182"
      },
      "execution_count": null,
      "outputs": [
        {
          "output_type": "execute_result",
          "data": {
            "text/plain": [
              "1"
            ]
          },
          "metadata": {},
          "execution_count": 16
        }
      ]
    },
    {
      "cell_type": "markdown",
      "metadata": {
        "id": "n3krxmg579Nm"
      },
      "source": [
        "write a program to guess coin toss output for given user's coin toss data. if compter guesses correctly, increase computer score else increase player score. Play this game 10 times"
      ]
    },
    {
      "cell_type": "code",
      "source": [
        ""
      ],
      "metadata": {
        "id": "8TZzC45n1DIq"
      },
      "execution_count": null,
      "outputs": []
    },
    {
      "cell_type": "markdown",
      "metadata": {
        "id": "y7fJ6KMs8Ovf"
      },
      "source": [
        "write a program to generate 5 random words from a given paragraph"
      ]
    },
    {
      "cell_type": "code",
      "source": [
        ""
      ],
      "metadata": {
        "id": "MZdtAPHj1DmU"
      },
      "execution_count": null,
      "outputs": []
    },
    {
      "cell_type": "markdown",
      "metadata": {
        "id": "XHSZmTnp81_s"
      },
      "source": [
        "write a paragraph to rearrange words in a given string "
      ]
    },
    {
      "cell_type": "code",
      "source": [
        ""
      ],
      "metadata": {
        "id": "LXnPcJ4w1EaC"
      },
      "execution_count": null,
      "outputs": []
    },
    {
      "cell_type": "markdown",
      "metadata": {
        "id": "YPDJGo2A9rJ7"
      },
      "source": [
        "## Math Module\n",
        "```\n",
        "https://realpython.com/python-math-module/\n",
        "```\n",
        "\n",
        "```\n",
        " 'acos',\n",
        " 'acosh',\n",
        " 'asin',\n",
        " 'asinh',\n",
        " 'atan',\n",
        " 'atan2',\n",
        " 'atanh',\n",
        " 'cos',\n",
        " 'cosh',\n",
        " 'sin',\n",
        " 'sinh',\n",
        " 'tan',\n",
        " 'tanh',\n",
        " 'degrees',\n",
        " 'radians',\n",
        " 'erf',\n",
        " 'erfc',\n",
        " 'e',\n",
        " 'exp',\n",
        " 'log',\n",
        " 'log10',\n",
        " 'log1p',\n",
        " 'log2',\n",
        " 'expm1',\n",
        " 'gamma',\n",
        "  'ldexp',\n",
        " 'lgamma',\n",
        "  'tau',\n",
        "\n",
        " 'ceil',\n",
        " 'floor',\n",
        " 'trunc'\n",
        " 'sqrt'\n",
        " 'pow'\n",
        " 'pi'\n",
        "'copysign',\n",
        " 'fabs',\n",
        " 'remainder',\n",
        " 'factorial',\n",
        " 'fmod',\n",
        " 'fsum',\n",
        " 'gcd',\n",
        "  'frexp',\n",
        " 'hypot',\n",
        " 'inf',\n",
        " 'isclose',\n",
        " 'isfinite',\n",
        " 'isinf',\n",
        " 'isnan',\n",
        " 'modf',\n",
        " 'nan',\n",
        "\n",
        "\n",
        " \n",
        "```\n",
        "\n"
      ]
    },
    {
      "cell_type": "code",
      "metadata": {
        "colab": {
          "base_uri": "https://localhost:8080/"
        },
        "id": "iVCd-iWj98Gb",
        "outputId": "8532c6ab-aaa2-41ad-a3f9-3a8814457ce1"
      },
      "source": [
        "import math\n",
        "x=9.3456789\n",
        "y=9.9876543\n",
        "print(round(x),round(y))\n",
        "print(math.ceil(x),math.ceil(y))\n",
        "print(math.floor(x),math.floor(y))"
      ],
      "execution_count": null,
      "outputs": [
        {
          "output_type": "stream",
          "name": "stdout",
          "text": [
            "9 10\n",
            "10 10\n",
            "9 9\n"
          ]
        }
      ]
    },
    {
      "cell_type": "code",
      "metadata": {
        "colab": {
          "base_uri": "https://localhost:8080/"
        },
        "id": "uuqRSMc2_F1O",
        "outputId": "d03763c4-8f2c-419b-d0d6-d83a24aa3e22"
      },
      "source": [
        "math.trunc(y) #same as floor"
      ],
      "execution_count": null,
      "outputs": [
        {
          "output_type": "execute_result",
          "data": {
            "text/plain": [
              "9"
            ]
          },
          "metadata": {},
          "execution_count": 18
        }
      ]
    },
    {
      "cell_type": "code",
      "metadata": {
        "colab": {
          "base_uri": "https://localhost:8080/"
        },
        "id": "QylE8wKx_zBp",
        "outputId": "a900b880-a68f-4ee6-e9c6-eafac4af584a"
      },
      "source": [
        "x=-5247\n",
        "y=math.copysign(1,x)-10\n",
        "y"
      ],
      "execution_count": null,
      "outputs": [
        {
          "output_type": "execute_result",
          "data": {
            "text/plain": [
              "-11.0"
            ]
          },
          "metadata": {},
          "execution_count": 19
        }
      ]
    },
    {
      "cell_type": "code",
      "metadata": {
        "colab": {
          "base_uri": "https://localhost:8080/"
        },
        "id": "1y9mdnS4AL_P",
        "outputId": "ad239b0a-e4de-4344-9fdb-58823054a0b6"
      },
      "source": [
        "x=5247\n",
        "y=math.copysign(1,x)-10\n",
        "y"
      ],
      "execution_count": null,
      "outputs": [
        {
          "output_type": "execute_result",
          "data": {
            "text/plain": [
              "-9.0"
            ]
          },
          "metadata": {},
          "execution_count": 24
        }
      ]
    },
    {
      "cell_type": "code",
      "source": [
        "import math\n",
        "math.ceil(3.5)\n",
        "math.pi"
      ],
      "metadata": {
        "colab": {
          "base_uri": "https://localhost:8080/"
        },
        "id": "-aG12PJJJY_q",
        "outputId": "92e9aa64-e2d6-44fb-88ad-e83a1f01c39e"
      },
      "execution_count": null,
      "outputs": [
        {
          "output_type": "execute_result",
          "data": {
            "text/plain": [
              "3.141592653589793"
            ]
          },
          "metadata": {},
          "execution_count": 20
        }
      ]
    },
    {
      "cell_type": "code",
      "metadata": {
        "colab": {
          "base_uri": "https://localhost:8080/"
        },
        "id": "8P2HFwetBpte",
        "outputId": "70564f75-0cf7-4801-b836-096a1eef1e11"
      },
      "source": [
        "math.pi"
      ],
      "execution_count": null,
      "outputs": [
        {
          "output_type": "execute_result",
          "data": {
            "text/plain": [
              "3.141592653589793"
            ]
          },
          "metadata": {},
          "execution_count": 32
        }
      ]
    },
    {
      "cell_type": "code",
      "metadata": {
        "colab": {
          "base_uri": "https://localhost:8080/"
        },
        "id": "rpFoX8oBBsXM",
        "outputId": "9a852b61-73f4-477d-8215-ca12c297a1a7"
      },
      "source": [
        "math.pow(2,10)"
      ],
      "execution_count": null,
      "outputs": [
        {
          "output_type": "execute_result",
          "data": {
            "text/plain": [
              "1024.0"
            ]
          },
          "metadata": {},
          "execution_count": 33
        }
      ]
    },
    {
      "cell_type": "code",
      "metadata": {
        "colab": {
          "base_uri": "https://localhost:8080/"
        },
        "id": "BHNnIFnsB68I",
        "outputId": "d629a288-2b14-4e12-edd3-9c8238405b35"
      },
      "source": [
        "math.pow(1024,(1/10))"
      ],
      "execution_count": null,
      "outputs": [
        {
          "output_type": "execute_result",
          "data": {
            "text/plain": [
              "2.0"
            ]
          },
          "metadata": {},
          "execution_count": 34
        }
      ]
    },
    {
      "cell_type": "code",
      "metadata": {
        "colab": {
          "base_uri": "https://localhost:8080/"
        },
        "id": "Wp2otxpQCAGg",
        "outputId": "61160391-bf0d-4ea8-db71-0312852a6c83"
      },
      "source": [
        "math.sqrt(36)"
      ],
      "execution_count": null,
      "outputs": [
        {
          "output_type": "execute_result",
          "data": {
            "text/plain": [
              "6.0"
            ]
          },
          "metadata": {},
          "execution_count": 35
        }
      ]
    },
    {
      "cell_type": "code",
      "metadata": {
        "colab": {
          "base_uri": "https://localhost:8080/"
        },
        "id": "d7JZFZ2aChNf",
        "outputId": "9bf857d0-86c9-40b8-a2b7-de2eeb9706cb"
      },
      "source": [
        "math.fabs(-6)"
      ],
      "execution_count": null,
      "outputs": [
        {
          "output_type": "execute_result",
          "data": {
            "text/plain": [
              "6.0"
            ]
          },
          "metadata": {},
          "execution_count": 36
        }
      ]
    },
    {
      "cell_type": "code",
      "metadata": {
        "colab": {
          "base_uri": "https://localhost:8080/"
        },
        "id": "cdvTpLkGClpp",
        "outputId": "3109c998-f47b-46ea-a0df-488623164415"
      },
      "source": [
        "math.fabs(8)#fabs will also make a complex number real"
      ],
      "execution_count": null,
      "outputs": [
        {
          "output_type": "execute_result",
          "data": {
            "text/plain": [
              "8.0"
            ]
          },
          "metadata": {},
          "execution_count": 37
        }
      ]
    },
    {
      "cell_type": "code",
      "metadata": {
        "colab": {
          "base_uri": "https://localhost:8080/"
        },
        "id": "9v9_5oeDCpBb",
        "outputId": "0922030a-ea4f-4618-f021-a875b4261f5f"
      },
      "source": [
        "math.remainder(5,2)\n"
      ],
      "execution_count": null,
      "outputs": [
        {
          "output_type": "execute_result",
          "data": {
            "text/plain": [
              "1.0"
            ]
          },
          "metadata": {},
          "execution_count": 38
        }
      ]
    },
    {
      "cell_type": "code",
      "metadata": {
        "colab": {
          "base_uri": "https://localhost:8080/"
        },
        "id": "cosVPoHaC5wN",
        "outputId": "b4fdbbca-a1d1-42c7-edc0-1bd2224a5e73"
      },
      "source": [
        "math.remainder(23,7)"
      ],
      "execution_count": null,
      "outputs": [
        {
          "output_type": "execute_result",
          "data": {
            "text/plain": [
              "2.0"
            ]
          },
          "metadata": {},
          "execution_count": 39
        }
      ]
    },
    {
      "cell_type": "code",
      "metadata": {
        "colab": {
          "base_uri": "https://localhost:8080/"
        },
        "id": "1uczb60BC9A-",
        "outputId": "e7360a0d-cae3-4920-be0e-8b838f61fde0"
      },
      "source": [
        "math.factorial(5)# 5! = 5*4*3*2*1     3!=3*2*1"
      ],
      "execution_count": null,
      "outputs": [
        {
          "output_type": "execute_result",
          "data": {
            "text/plain": [
              "120"
            ]
          },
          "metadata": {},
          "execution_count": 40
        }
      ]
    },
    {
      "cell_type": "code",
      "metadata": {
        "colab": {
          "base_uri": "https://localhost:8080/"
        },
        "id": "LdLrCvdiDXPr",
        "outputId": "b4efd7e7-87ef-4316-fcfa-f59bc404a56b"
      },
      "source": [
        "math.fsum([2,5,7,8,9])"
      ],
      "execution_count": null,
      "outputs": [
        {
          "output_type": "execute_result",
          "data": {
            "text/plain": [
              "31.0"
            ]
          },
          "metadata": {},
          "execution_count": 41
        }
      ]
    },
    {
      "cell_type": "code",
      "metadata": {
        "colab": {
          "base_uri": "https://localhost:8080/"
        },
        "id": "xFjXGnc5DeMY",
        "outputId": "76959843-10d5-4cc5-9b8d-b1cc41987f33"
      },
      "source": [
        "math.fsum([2,5,3.7,6.7])"
      ],
      "execution_count": null,
      "outputs": [
        {
          "output_type": "execute_result",
          "data": {
            "text/plain": [
              "17.4"
            ]
          },
          "metadata": {},
          "execution_count": 43
        }
      ]
    },
    {
      "cell_type": "code",
      "metadata": {
        "colab": {
          "base_uri": "https://localhost:8080/"
        },
        "id": "r65O_zBVDsd9",
        "outputId": "a0dcd878-21c0-45aa-c214-a2159d10a834"
      },
      "source": [
        "math.fmod(7,2)# smae as remainder"
      ],
      "execution_count": null,
      "outputs": [
        {
          "output_type": "execute_result",
          "data": {
            "text/plain": [
              "1.0"
            ]
          },
          "metadata": {},
          "execution_count": 45
        }
      ]
    },
    {
      "cell_type": "code",
      "metadata": {
        "colab": {
          "base_uri": "https://localhost:8080/"
        },
        "id": "eutFP8YzD6xf",
        "outputId": "8da7cafb-26ad-4675-dde2-9ae0acf9df9a"
      },
      "source": [
        "#hcf\n",
        "math.gcd(21,32)"
      ],
      "execution_count": null,
      "outputs": [
        {
          "output_type": "execute_result",
          "data": {
            "text/plain": [
              "1"
            ]
          },
          "metadata": {},
          "execution_count": 46
        }
      ]
    },
    {
      "cell_type": "code",
      "metadata": {
        "colab": {
          "base_uri": "https://localhost:8080/"
        },
        "id": "HC0C72czEgfD",
        "outputId": "59c3a68c-ddcd-4a04-c3b3-e15eacdfe3d9"
      },
      "source": [
        "math.gcd(6,9)"
      ],
      "execution_count": null,
      "outputs": [
        {
          "output_type": "execute_result",
          "data": {
            "text/plain": [
              "3"
            ]
          },
          "metadata": {},
          "execution_count": 47
        }
      ]
    },
    {
      "cell_type": "code",
      "metadata": {
        "colab": {
          "base_uri": "https://localhost:8080/"
        },
        "id": "wLKWAXzuE0g0",
        "outputId": "83bb0a01-a78a-4f52-d3c2-2ff5cb33b3ad"
      },
      "source": [
        "math.gcd(15,45)"
      ],
      "execution_count": null,
      "outputs": [
        {
          "output_type": "execute_result",
          "data": {
            "text/plain": [
              "15"
            ]
          },
          "metadata": {},
          "execution_count": 48
        }
      ]
    },
    {
      "cell_type": "code",
      "metadata": {
        "colab": {
          "base_uri": "https://localhost:8080/"
        },
        "id": "RUefU9mUFTgS",
        "outputId": "9858534d-e520-42f0-9828-d7840e29244f"
      },
      "source": [
        "math.frexp(753.159)# mantissa and exponent 753.159    ----- 0.753159*10^3     (0.753159,3)"
      ],
      "execution_count": null,
      "outputs": [
        {
          "output_type": "execute_result",
          "data": {
            "text/plain": [
              "(0.7355068359375, 10)"
            ]
          },
          "metadata": {},
          "execution_count": 21
        }
      ]
    },
    {
      "cell_type": "code",
      "metadata": {
        "colab": {
          "base_uri": "https://localhost:8080/"
        },
        "id": "ds_TfsDqGTGc",
        "outputId": "18421774-e7c5-4674-f156-b43b8643fbc7"
      },
      "source": [
        "math.hypot(4,3)#16+9"
      ],
      "execution_count": null,
      "outputs": [
        {
          "output_type": "execute_result",
          "data": {
            "text/plain": [
              "5.0"
            ]
          },
          "metadata": {},
          "execution_count": 52
        }
      ]
    },
    {
      "cell_type": "code",
      "metadata": {
        "colab": {
          "base_uri": "https://localhost:8080/"
        },
        "id": "QJPtYhTvH7i0",
        "outputId": "296f7b39-2d00-45c2-9dde-0107d65ff186"
      },
      "source": [
        "math.isclose(1.7563,3.8,rel_tol=0.5)"
      ],
      "execution_count": null,
      "outputs": [
        {
          "output_type": "execute_result",
          "data": {
            "text/plain": [
              "False"
            ]
          },
          "metadata": {},
          "execution_count": 76
        }
      ]
    },
    {
      "cell_type": "code",
      "metadata": {
        "id": "RDYeTG1cJULt"
      },
      "source": [
        ""
      ],
      "execution_count": null,
      "outputs": []
    },
    {
      "cell_type": "code",
      "metadata": {
        "colab": {
          "base_uri": "https://localhost:8080/"
        },
        "id": "DOpdV0mDIMHV",
        "outputId": "8ad82647-4850-4418-87d5-d1adc35cbf0c"
      },
      "source": [
        "math.isclose(1.7563,2.8,abs_tol=0.5)"
      ],
      "execution_count": null,
      "outputs": [
        {
          "output_type": "execute_result",
          "data": {
            "text/plain": [
              "False"
            ]
          },
          "metadata": {},
          "execution_count": 78
        }
      ]
    },
    {
      "cell_type": "code",
      "metadata": {
        "colab": {
          "base_uri": "https://localhost:8080/"
        },
        "id": "41_OChkRI3pi",
        "outputId": "c5f4042e-4da1-480b-cdd2-89d40f38b20e"
      },
      "source": [
        "math.isclose(1.7563,2.1,abs_tol=0.5)"
      ],
      "execution_count": null,
      "outputs": [
        {
          "output_type": "execute_result",
          "data": {
            "text/plain": [
              "True"
            ]
          },
          "metadata": {},
          "execution_count": 79
        }
      ]
    },
    {
      "cell_type": "code",
      "metadata": {
        "colab": {
          "base_uri": "https://localhost:8080/"
        },
        "id": "Ozci-orLJCTa",
        "outputId": "a16b0fe6-5694-4f5c-da51-b807476da7f7"
      },
      "source": [
        "math.isclose(2.1,1.7,abs_tol=0.5)"
      ],
      "execution_count": null,
      "outputs": [
        {
          "output_type": "execute_result",
          "data": {
            "text/plain": [
              "True"
            ]
          },
          "metadata": {},
          "execution_count": 80
        }
      ]
    },
    {
      "cell_type": "code",
      "metadata": {
        "colab": {
          "base_uri": "https://localhost:8080/"
        },
        "id": "C0DNVAD5JKjE",
        "outputId": "079fe513-9eb7-4da0-f429-087f54237747"
      },
      "source": [
        "math.isclose(2.8,1.7563,abs_tol=0.5)"
      ],
      "execution_count": null,
      "outputs": [
        {
          "output_type": "execute_result",
          "data": {
            "text/plain": [
              "False"
            ]
          },
          "metadata": {},
          "execution_count": 81
        }
      ]
    },
    {
      "cell_type": "code",
      "metadata": {
        "colab": {
          "base_uri": "https://localhost:8080/"
        },
        "id": "G6X-divWIVkW",
        "outputId": "02b9f251-786c-4131-9e4d-289675cc8d55"
      },
      "source": [
        "help(math.isclose)"
      ],
      "execution_count": null,
      "outputs": [
        {
          "output_type": "stream",
          "text": [
            "Help on built-in function isclose in module math:\n",
            "\n",
            "isclose(a, b, *, rel_tol=1e-09, abs_tol=0.0)\n",
            "    Determine whether two floating point numbers are close in value.\n",
            "    \n",
            "      rel_tol\n",
            "        maximum difference for being considered \"close\", relative to the\n",
            "        magnitude of the input values\n",
            "      abs_tol\n",
            "        maximum difference for being considered \"close\", regardless of the\n",
            "        magnitude of the input values\n",
            "    \n",
            "    Return True if a is close in value to b, and False otherwise.\n",
            "    \n",
            "    For the values to be considered close, the difference between them\n",
            "    must be smaller than at least one of the tolerances.\n",
            "    \n",
            "    -inf, inf and NaN behave similarly to the IEEE 754 Standard.  That\n",
            "    is, NaN is not close to anything, even itself.  inf and -inf are\n",
            "    only close to themselves.\n",
            "\n"
          ],
          "name": "stdout"
        }
      ]
    },
    {
      "cell_type": "code",
      "metadata": {
        "colab": {
          "base_uri": "https://localhost:8080/"
        },
        "id": "FAwc3L8tP86z",
        "outputId": "0114854d-b124-48f1-84ee-4b39f80815d3"
      },
      "source": [
        "import math\n",
        "math.isfinite(34567891234567890)"
      ],
      "execution_count": null,
      "outputs": [
        {
          "output_type": "execute_result",
          "data": {
            "text/plain": [
              "True"
            ]
          },
          "metadata": {},
          "execution_count": 8
        }
      ]
    },
    {
      "cell_type": "code",
      "metadata": {
        "colab": {
          "base_uri": "https://localhost:8080/"
        },
        "id": "zqk4Od9KQCvY",
        "outputId": "905b9b54-ecd1-490d-bf80-93a372a317d4"
      },
      "source": [
        "math.isinf(1234567890123456789012345678901234567890)#check"
      ],
      "execution_count": null,
      "outputs": [
        {
          "output_type": "execute_result",
          "data": {
            "text/plain": [
              "False"
            ]
          },
          "metadata": {},
          "execution_count": 9
        }
      ]
    },
    {
      "cell_type": "code",
      "metadata": {
        "id": "r65HG1aoQg5y"
      },
      "source": [
        "None"
      ],
      "execution_count": null,
      "outputs": []
    },
    {
      "cell_type": "code",
      "metadata": {
        "colab": {
          "base_uri": "https://localhost:8080/",
          "height": 36
        },
        "id": "oNsf9CcQQirQ",
        "outputId": "9080d961-b52a-46bd-a21e-fcb1c2c8c2cc"
      },
      "source": [
        "\"Null\""
      ],
      "execution_count": null,
      "outputs": [
        {
          "output_type": "execute_result",
          "data": {
            "application/vnd.google.colaboratory.intrinsic+json": {
              "type": "string"
            },
            "text/plain": [
              "'Null'"
            ]
          },
          "metadata": {},
          "execution_count": 7
        }
      ]
    },
    {
      "cell_type": "code",
      "metadata": {
        "colab": {
          "base_uri": "https://localhost:8080/"
        },
        "id": "kUIdwHQhRK__",
        "outputId": "213276ee-efed-4c75-d845-f5cc38efc958"
      },
      "source": [
        "math.nan"
      ],
      "execution_count": null,
      "outputs": [
        {
          "output_type": "execute_result",
          "data": {
            "text/plain": [
              "nan"
            ]
          },
          "metadata": {},
          "execution_count": 14
        }
      ]
    },
    {
      "cell_type": "code",
      "metadata": {
        "colab": {
          "base_uri": "https://localhost:8080/"
        },
        "id": "fzRGR_nZQNGA",
        "outputId": "6bb86311-cccc-4ccb-e3f6-64212b468882"
      },
      "source": [
        "math.nan+5"
      ],
      "execution_count": null,
      "outputs": [
        {
          "output_type": "execute_result",
          "data": {
            "text/plain": [
              "nan"
            ]
          },
          "metadata": {},
          "execution_count": 13
        }
      ]
    },
    {
      "cell_type": "code",
      "metadata": {
        "colab": {
          "base_uri": "https://localhost:8080/"
        },
        "id": "fTe7xb6mQ6tn",
        "outputId": "44f0cbc9-3e5f-403f-81ee-58fc227608fe"
      },
      "source": [
        "math.isnan(math.nan)"
      ],
      "execution_count": null,
      "outputs": [
        {
          "output_type": "execute_result",
          "data": {
            "text/plain": [
              "True"
            ]
          },
          "metadata": {},
          "execution_count": 10
        }
      ]
    },
    {
      "cell_type": "code",
      "metadata": {
        "colab": {
          "base_uri": "https://localhost:8080/"
        },
        "id": "8Va2LIIlQ9yE",
        "outputId": "ea4e06a1-bfeb-4c0a-8435-dd3cce2be3a0"
      },
      "source": [
        "math.isnan(45678)"
      ],
      "execution_count": null,
      "outputs": [
        {
          "output_type": "execute_result",
          "data": {
            "text/plain": [
              "False"
            ]
          },
          "metadata": {},
          "execution_count": 11
        }
      ]
    },
    {
      "cell_type": "code",
      "metadata": {
        "colab": {
          "base_uri": "https://localhost:8080/"
        },
        "id": "4ggaWoR-ROYT",
        "outputId": "bfc57751-8ed1-4590-fb13-4222ac6e561f"
      },
      "source": [
        "math.modf(7.5)  # reduced form of factor 1/dino, num//dino"
      ],
      "execution_count": null,
      "outputs": [
        {
          "output_type": "execute_result",
          "data": {
            "text/plain": [
              "(0.5, 7.0)"
            ]
          },
          "metadata": {},
          "execution_count": 15
        }
      ]
    },
    {
      "cell_type": "markdown",
      "metadata": {
        "id": "WZ9ExjHk2S01"
      },
      "source": [
        "Write a program to show the square roots of the first N integers. take N as an inout from user. make a list of all perfect square roots"
      ]
    },
    {
      "cell_type": "code",
      "metadata": {
        "id": "SlAm5xm44mo6"
      },
      "source": [
        "# 10"
      ],
      "execution_count": null,
      "outputs": []
    },
    {
      "cell_type": "markdown",
      "metadata": {
        "id": "zYLSYTTt2Wtk"
      },
      "source": [
        "Given radius r and height h (in cm), calculate the mass of a cylinder when it's filled with water and the cylinder itself doesn't weigh anything. The desired output should be given in kg and rounded to two decimal places.\n",
        "\n",
        "How to solve:\n",
        "\n",
        "    Calculate the volume of the cylinder. pi*r*r*h\n",
        "    Convert cm³ into dm³.\n",
        "    1dm³ = 1L, 1L is 1Kg.\n",
        "\n",
        "Examples\n",
        "\n",
        "weight(4, 10) ➞ 0.5\n"
      ]
    },
    {
      "cell_type": "code",
      "metadata": {
        "id": "bQnPoBia4nZc"
      },
      "source": [
        ""
      ],
      "execution_count": null,
      "outputs": []
    },
    {
      "cell_type": "markdown",
      "metadata": {
        "id": "gwhT1P1o4WQH"
      },
      "source": [
        "Create a function that takes the height and radius of a cone as arguments and returns the volume of the cone rounded to the nearest hundredth\n",
        "\n",
        "Examples\n",
        "\n",
        "cone_volume(3, 2) ➞ 12.57"
      ]
    },
    {
      "cell_type": "code",
      "metadata": {
        "id": "_IUtfw2b4mCB"
      },
      "source": [
        ""
      ],
      "execution_count": null,
      "outputs": []
    },
    {
      "cell_type": "markdown",
      "metadata": {
        "id": "Od819-xd4lUs"
      },
      "source": [
        "Given a list of boxes, create a function that returns the total volume of all those boxes combined together. A box is represented by a list with three elements: length, width and height.\n",
        "\n",
        "For instance, total_volume([2, 3, 2], [6, 6, 7], [1, 2, 1]) should return 266 since (2 x 3 x 2) + (6 x 6 x 7) + (1 x 2 x 1) = 12 + 252 + 2 = 266."
      ]
    },
    {
      "cell_type": "code",
      "metadata": {
        "id": "ZDPx6HNH4oRg"
      },
      "source": [
        ""
      ],
      "execution_count": null,
      "outputs": []
    },
    {
      "cell_type": "markdown",
      "metadata": {
        "id": "lV7vmMYs4orJ"
      },
      "source": [
        "Create a function that takes a number n and returns the nth even number.\n",
        "Examples\n",
        "\n",
        "nth_even(1) ➞ 0\n",
        " 0 is first even number\n",
        "\n",
        "nth_even(2) ➞ 2\n",
        " 2 is second even number\n",
        "\n",
        "nth_even(100) ➞ 198"
      ]
    },
    {
      "cell_type": "code",
      "metadata": {
        "id": "_W-38c3B5p5P"
      },
      "source": [
        ""
      ],
      "execution_count": null,
      "outputs": []
    },
    {
      "cell_type": "markdown",
      "metadata": {
        "id": "1ec5S2C15cEI"
      },
      "source": [
        "Create a function that returns how many possible arrangements can come from a certain number of switches (on / off). In other words, for a given number of switches, how many different patterns of on and off can we have? 2**switches"
      ]
    },
    {
      "cell_type": "code",
      "metadata": {
        "id": "mSMyh3bL5qmI"
      },
      "source": [
        ""
      ],
      "execution_count": null,
      "outputs": []
    }
  ]
}