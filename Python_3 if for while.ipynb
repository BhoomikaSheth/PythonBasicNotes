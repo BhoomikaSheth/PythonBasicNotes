{
  "nbformat": 4,
  "nbformat_minor": 0,
  "metadata": {
    "colab": {
      "name": "Python Day 2",
      "provenance": [],
      "collapsed_sections": [],
      "authorship_tag": "ABX9TyNS7E0gQpYf3geX2P6RCHw4",
      "include_colab_link": true
    },
    "kernelspec": {
      "name": "python3",
      "display_name": "Python 3"
    }
  },
  "cells": [
    {
      "cell_type": "markdown",
      "metadata": {
        "id": "view-in-github",
        "colab_type": "text"
      },
      "source": [
        "<a href=\"https://colab.research.google.com/github/BhoomikaSheth/PythonBasicNotes/blob/main/Python_Day_2.ipynb\" target=\"_parent\"><img src=\"https://colab.research.google.com/assets/colab-badge.svg\" alt=\"Open In Colab\"/></a>"
      ]
    },
    {
      "cell_type": "markdown",
      "metadata": {
        "id": "RZ_fxQtQxI4i"
      },
      "source": [
        "# **if, if else, if else ladder, nested if, loops-for, while**"
      ]
    },
    {
      "cell_type": "markdown",
      "metadata": {
        "id": "YqkwDmt71iZS"
      },
      "source": [
        "# if Exercises:"
      ]
    },
    {
      "cell_type": "markdown",
      "metadata": {
        "id": "P2-cLuPwu7A8"
      },
      "source": [
        "Take values of length and breadth of a rectangle from user and check if it is square or not"
      ]
    },
    {
      "cell_type": "code",
      "metadata": {
        "id": "wd0RMNEIxebT"
      },
      "source": [
        ""
      ],
      "execution_count": null,
      "outputs": []
    },
    {
      "cell_type": "markdown",
      "metadata": {
        "id": "4-B0hsjrwqDb"
      },
      "source": [
        "\n",
        "Take two int values from user and print greatest among them.\n"
      ]
    },
    {
      "cell_type": "code",
      "metadata": {
        "id": "K6VWEMTO2N82"
      },
      "source": [
        ""
      ],
      "execution_count": null,
      "outputs": []
    },
    {
      "cell_type": "markdown",
      "metadata": {
        "id": "9-1E11_32aPZ"
      },
      "source": [
        "A shop will give discount of 10% if the cost of purchased quantity is more than 1000.\n",
        "Ask user for quantity\n",
        "Suppose, one unit will cost 100.\n",
        "Judge and print total cost for user."
      ]
    },
    {
      "cell_type": "code",
      "metadata": {
        "id": "0BPMKyFA2mEn"
      },
      "source": [
        ""
      ],
      "execution_count": null,
      "outputs": []
    },
    {
      "cell_type": "markdown",
      "metadata": {
        "id": "mnjyRpASs7sa"
      },
      "source": [
        "A company decided to give bonus of 5% to employee if his/her year of service is more than 5 years.\n",
        "Ask user for their salary and year of service and print the net bonus amount."
      ]
    },
    {
      "cell_type": "code",
      "metadata": {
        "id": "Nzq-4t2ptUnj"
      },
      "source": [
        ""
      ],
      "execution_count": null,
      "outputs": []
    },
    {
      "cell_type": "markdown",
      "metadata": {
        "id": "e0YSr8amtVms"
      },
      "source": [
        "Take input of age of 3 people by user and determine oldest and youngest among them."
      ]
    },
    {
      "cell_type": "code",
      "metadata": {
        "id": "Di7Lw4UGtb0p",
        "colab": {
          "base_uri": "https://localhost:8080/"
        },
        "outputId": "595ef850-d1ed-4645-d71d-b8d913722f14"
      },
      "source": [
        "person1_age=int(input(\"Enter your age person1:\"))\n",
        "person2_age=int(input(\"Enter your age person2:\"))\n",
        "person3_age=int(input(\"Enter your age person3:\"))\n",
        "# oldest\n",
        "if person1_age>=person2_age and person1_age>=person3_age:\n",
        "    print(\"person1 is oldest\")\n",
        "elif person2_age>=person1_age and person2_age>=person3_age:\n",
        "    print(\"person2 is oldest\")\n",
        "else:\n",
        "    print(\"person3 is oldest\")\n",
        "\n",
        "#youngest\n",
        "if person1_age<=person2_age and person1_age<=person3_age:\n",
        "    print(\"person1 is youngest\")\n",
        "elif person2_age<=person1_age and person2_age<=person3_age:\n",
        "    print(\"person2 is youngest\")\n",
        "else:\n",
        "    print(\"person3 is youngest\")"
      ],
      "execution_count": null,
      "outputs": [
        {
          "output_type": "stream",
          "name": "stdout",
          "text": [
            "Enter your age person1:40\n",
            "Enter your age person2:30\n",
            "Enter your age person3:20\n",
            "person1 is oldest\n",
            "person3 is youngest\n"
          ]
        }
      ]
    },
    {
      "cell_type": "markdown",
      "metadata": {
        "id": "_YGoy2hotcG6"
      },
      "source": [
        "A school has following rules for grading system:\n",
        "a. Below 25 - F\n",
        "b. 25 to 45 - E\n",
        "c. 45 to 50 - D\n",
        "d. 50 to 60 - C\n",
        "e. 60 to 80 - B\n",
        "f. Above 80 - A\n",
        "Ask user to enter marks and print the corresponding grade."
      ]
    },
    {
      "cell_type": "code",
      "metadata": {
        "id": "mmQirRzWt2gt"
      },
      "source": [
        ""
      ],
      "execution_count": null,
      "outputs": []
    },
    {
      "cell_type": "markdown",
      "metadata": {
        "id": "62EFIuJot21X"
      },
      "source": [
        "\n",
        "Write a program to print absolute vlaue of a number entered by user. E.g.-\n",
        "INPUT: 1        OUTPUT: 1\n",
        "INPUT: -1        OUTPUT: 1\n"
      ]
    },
    {
      "cell_type": "code",
      "metadata": {
        "id": "L7qpn4EE0iMb"
      },
      "source": [
        ""
      ],
      "execution_count": null,
      "outputs": []
    },
    {
      "cell_type": "markdown",
      "metadata": {
        "id": "gWzHZs1i37PW"
      },
      "source": [
        "\n",
        "A student will not be allowed to sit in exam if his/her attendence is less than 75%.\n",
        "Take following input from user\n",
        "Number of classes held\n",
        "Number of classes attended.\n",
        "And print\n",
        "percentage of class attended\n",
        "Is student is allowed to sit in exam or not.\n"
      ]
    },
    {
      "cell_type": "code",
      "metadata": {
        "id": "JzhqQUyO3_TU"
      },
      "source": [
        ""
      ],
      "execution_count": null,
      "outputs": []
    },
    {
      "cell_type": "markdown",
      "metadata": {
        "id": "hpqZfOLcxElY"
      },
      "source": [
        "\n",
        "Modify the above question to allow student to sit if he/she has medical cause. Ask user if he/she has medical cause or not ( 'Y' or 'N' ) and print accordingly.\n"
      ]
    },
    {
      "cell_type": "code",
      "metadata": {
        "id": "ATlru9N1xdTH"
      },
      "source": [
        ""
      ],
      "execution_count": null,
      "outputs": []
    },
    {
      "cell_type": "markdown",
      "metadata": {
        "id": "m75MMdyKzAJq"
      },
      "source": [
        "# Loops- While, for"
      ]
    },
    {
      "cell_type": "markdown",
      "metadata": {
        "id": "Hs7jy5CD05YT"
      },
      "source": [
        "### Loops are used to repeat a part of code multiple times.\n",
        "\n",
        "### For loops are mostly used when you want to repeat some task/tasks for fixed number of time. or For loops are also widely used with sequences\n",
        "\n",
        "### While loops are used when you want to repeate some tasks until some condiiton is met."
      ]
    },
    {
      "cell_type": "markdown",
      "metadata": {
        "id": "4USSxALAUni0"
      },
      "source": [
        "\n",
        "\n",
        "```\n",
        "while(room_temp>20):\n",
        "    fan=\"on\"\n",
        "    work2\n",
        "    work3\n",
        "    work4\n",
        "print(\"bye\")\n",
        "```\n",
        "\n"
      ]
    },
    {
      "cell_type": "markdown",
      "metadata": {
        "id": "XOgOFs93klhn"
      },
      "source": [
        "### While Loop:\n",
        "**Syntax of `while` loop:**\n",
        "```python\n",
        "while condition:\n",
        "  #code\n",
        "```\n",
        "\n",
        "### For Loop:\n",
        "**Syntax of `for` loop:**\n",
        "```python\n",
        "for i in range(1, 6):\n",
        "  print(i)\n",
        "```\n",
        "**The range function:**\n",
        "\n",
        "It is used to generate a range of numbers. \n",
        "\n",
        "**Syntax:** `range(start, end,interval)`\n",
        "\n",
        "where,\n",
        "\n",
        "- `start` (optional):  An integer which specifies from which position to start. Default is 0.\n",
        "- `end` (required): An integer which specifies at which position to stop. This number is not included in the range.\n",
        "- `interval` (optional): An integer which specifies how many values to skip after each iteration. Default is 1.\n",
        "\n",
        "**For e.g:**\n",
        "1. `range(0,6)` $\\Rightarrow$ generates numbers from 0 to 5.\n",
        "2.`range(6)` $\\Rightarrow$ generates numbers from 0 to 5.\n",
        "3. `range(1,11)` $\\Rightarrow$ generates numbers from 1 to 10.\n",
        "4. `range(11)` $\\Rightarrow$ generates numbers from 0 to 10.\n",
        "5. `range(0,6,2)`$\\Rightarrow$  generates 0,2,4\n",
        "6. `range(10,0,-2)`$\\Rightarrow$ generates 10,8,6,4,2  \n",
        "\n",
        "### For Loop with sequence:\n",
        "**Syntax of `for` loop:**\n",
        "```python\n",
        "for i in sequence:\n",
        "  print(i)\n",
        "```"
      ]
    },
    {
      "cell_type": "code",
      "metadata": {
        "colab": {
          "base_uri": "https://localhost:8080/"
        },
        "id": "s5IVheMxhl3g",
        "outputId": "703f3d25-6d55-4303-fa50-f43b3635d87e"
      },
      "source": [
        "seq=\"python\"\n",
        "for var in seq:\n",
        "    print(var)\n",
        "type(seq)"
      ],
      "execution_count": null,
      "outputs": [
        {
          "output_type": "stream",
          "text": [
            "p\n",
            "y\n",
            "t\n",
            "h\n",
            "o\n",
            "n\n"
          ],
          "name": "stdout"
        },
        {
          "output_type": "execute_result",
          "data": {
            "text/plain": [
              "str"
            ]
          },
          "metadata": {
            "tags": []
          },
          "execution_count": 23
        }
      ]
    },
    {
      "cell_type": "code",
      "metadata": {
        "colab": {
          "base_uri": "https://localhost:8080/"
        },
        "id": "HY1bCadaf4ct",
        "outputId": "8e2361ce-b55c-4e2a-f8ef-2bf55c1847d6"
      },
      "source": [
        "seq=(\"python\",\"da\")   # tuple\n",
        "for var in seq:\n",
        "    print(var)\n",
        "type(seq)"
      ],
      "execution_count": null,
      "outputs": [
        {
          "output_type": "stream",
          "text": [
            "python\n",
            "da\n"
          ],
          "name": "stdout"
        },
        {
          "output_type": "execute_result",
          "data": {
            "text/plain": [
              "tuple"
            ]
          },
          "metadata": {
            "tags": []
          },
          "execution_count": 22
        }
      ]
    },
    {
      "cell_type": "code",
      "metadata": {
        "colab": {
          "base_uri": "https://localhost:8080/"
        },
        "id": "INwagTrfgiT7",
        "outputId": "0cbdbdee-562e-4107-db87-9ca6b06613ff"
      },
      "source": [
        "seq=[23,78.98,\"python\"]\n",
        "for var in seq:\n",
        "    print(var)"
      ],
      "execution_count": null,
      "outputs": [
        {
          "output_type": "stream",
          "text": [
            "23\n",
            "78.98\n",
            "python\n"
          ],
          "name": "stdout"
        }
      ]
    },
    {
      "cell_type": "markdown",
      "metadata": {
        "id": "3eRNmGJMmkeS"
      },
      "source": [
        " Print First 10 natural numbers using for loop"
      ]
    },
    {
      "cell_type": "code",
      "source": [
        "for i in range(1,11):\n",
        "    print(i)"
      ],
      "metadata": {
        "colab": {
          "base_uri": "https://localhost:8080/"
        },
        "id": "k0nsgRxWmFdf",
        "outputId": "800642bc-b5a0-41bf-fcd7-284f0af8e68a"
      },
      "execution_count": null,
      "outputs": [
        {
          "output_type": "stream",
          "name": "stdout",
          "text": [
            "1\n",
            "2\n",
            "3\n",
            "4\n",
            "5\n",
            "6\n",
            "7\n",
            "8\n",
            "9\n",
            "10\n"
          ]
        }
      ]
    },
    {
      "cell_type": "markdown",
      "metadata": {
        "id": "TZntIGJVdnoU"
      },
      "source": [
        "write a program to print all even numbers from 0 to 50 using for loop"
      ]
    },
    {
      "cell_type": "code",
      "metadata": {
        "colab": {
          "base_uri": "https://localhost:8080/"
        },
        "id": "AyTRXkd4dy1h",
        "outputId": "4fe346a0-d493-43eb-bc51-524b29ea2690"
      },
      "source": [
        "for i in range(0,51,2):\n",
        "    print(i)"
      ],
      "execution_count": null,
      "outputs": [
        {
          "output_type": "stream",
          "text": [
            "0\n",
            "2\n",
            "4\n",
            "6\n",
            "8\n",
            "10\n",
            "12\n",
            "14\n",
            "16\n",
            "18\n",
            "20\n",
            "22\n",
            "24\n",
            "26\n",
            "28\n",
            "30\n",
            "32\n",
            "34\n",
            "36\n",
            "38\n",
            "40\n",
            "42\n",
            "44\n",
            "46\n",
            "48\n",
            "50\n"
          ],
          "name": "stdout"
        }
      ]
    },
    {
      "cell_type": "markdown",
      "metadata": {
        "id": "dEKqVSAmd553"
      },
      "source": [
        "write a program to print all multiples of 5 from 100 to 0"
      ]
    },
    {
      "cell_type": "code",
      "metadata": {
        "colab": {
          "base_uri": "https://localhost:8080/"
        },
        "id": "cbpd01aueZJw",
        "outputId": "7710c4aa-9c0e-45e0-e7f6-e323e4e8e52b"
      },
      "source": [
        "for i in range(100,-1,-5):\n",
        "    print(i)"
      ],
      "execution_count": null,
      "outputs": [
        {
          "output_type": "stream",
          "text": [
            "100\n",
            "95\n",
            "90\n",
            "85\n",
            "80\n",
            "75\n",
            "70\n",
            "65\n",
            "60\n",
            "55\n",
            "50\n",
            "45\n",
            "40\n",
            "35\n",
            "30\n",
            "25\n",
            "20\n",
            "15\n",
            "10\n",
            "5\n",
            "0\n"
          ],
          "name": "stdout"
        }
      ]
    },
    {
      "cell_type": "markdown",
      "metadata": {
        "id": "Y-E4qIlXmmY2"
      },
      "source": [
        "Accept number from user and calculate the sum of all number from 1 to a given number using while loop"
      ]
    },
    {
      "cell_type": "code",
      "metadata": {
        "id": "Hg_7VE1nmy9y",
        "colab": {
          "base_uri": "https://localhost:8080/"
        },
        "outputId": "15827594-2864-4665-be32-4a81a06e3cfd"
      },
      "source": [
        "num=int(input(\"Enter any number between 1 to 100:\"))\n",
        "result = 0\n",
        "count = 1\n",
        "while count <= num:\n",
        "    result = result + count\n",
        "    count = count + 1\n",
        "result"
      ],
      "execution_count": null,
      "outputs": [
        {
          "name": "stdout",
          "output_type": "stream",
          "text": [
            "Enter any number between 1 to 100:5\n"
          ]
        },
        {
          "output_type": "execute_result",
          "data": {
            "text/plain": [
              "15"
            ]
          },
          "metadata": {},
          "execution_count": 3
        }
      ]
    },
    {
      "cell_type": "code",
      "source": [
        "num=int(input(\"Enter any number between 1 to 100:\"))\n",
        "result = 0\n",
        "for i in range(1,num+1):\n",
        "    result=result+i\n",
        "result"
      ],
      "metadata": {
        "colab": {
          "base_uri": "https://localhost:8080/"
        },
        "id": "7vKAXCysnlDX",
        "outputId": "63321dd2-1b1f-4230-a49f-2f8e2dcbcbb1"
      },
      "execution_count": null,
      "outputs": [
        {
          "name": "stdout",
          "output_type": "stream",
          "text": [
            "Enter any number between 1 to 100:5\n"
          ]
        },
        {
          "output_type": "execute_result",
          "data": {
            "text/plain": [
              "15"
            ]
          },
          "metadata": {},
          "execution_count": 4
        }
      ]
    },
    {
      "cell_type": "markdown",
      "metadata": {
        "id": "EPumBsCxmzct"
      },
      "source": [
        "Print multiplication table of a given number\n",
        "\n",
        "output format:num x count = product\n",
        "\n",
        "num take from user as input\n",
        "\n",
        "count will go from 1 to 10\n",
        "\n",
        "product=1"
      ]
    },
    {
      "cell_type": "code",
      "metadata": {
        "id": "DRBuSPYem0Mc",
        "colab": {
          "base_uri": "https://localhost:8080/"
        },
        "outputId": "fa0196c1-54f0-489c-8a65-272037403185"
      },
      "source": [
        "num=int(input(\"Enter a number to get its table:\"))\n",
        "for i in range(1,11):\n",
        "    print(i*num)\n"
      ],
      "execution_count": null,
      "outputs": [
        {
          "output_type": "stream",
          "name": "stdout",
          "text": [
            "Enter a number to get its table:5\n",
            "5\n",
            "10\n",
            "15\n",
            "20\n",
            "25\n",
            "30\n",
            "35\n",
            "40\n",
            "45\n",
            "50\n"
          ]
        }
      ]
    },
    {
      "cell_type": "code",
      "source": [
        "num=int(input(\"Enter a number to get its table:\"))\n",
        "for i in range(1,11):\n",
        "    print(num,\"x\",i,\"=\",num*i)\n"
      ],
      "metadata": {
        "colab": {
          "base_uri": "https://localhost:8080/"
        },
        "id": "R-n0XZ5hoezP",
        "outputId": "f89c38e9-600e-4ef9-8967-a2cf4dee70ce"
      },
      "execution_count": null,
      "outputs": [
        {
          "output_type": "stream",
          "name": "stdout",
          "text": [
            "Enter a number to get its table:4\n",
            "4 x 1 = 4\n",
            "4 x 2 = 8\n",
            "4 x 3 = 12\n",
            "4 x 4 = 16\n",
            "4 x 5 = 20\n",
            "4 x 6 = 24\n",
            "4 x 7 = 28\n",
            "4 x 8 = 32\n",
            "4 x 9 = 36\n",
            "4 x 10 = 40\n"
          ]
        }
      ]
    },
    {
      "cell_type": "code",
      "source": [
        "num=int(input(\"Enter a number to get its table:\"))\n",
        "second_num=1\n",
        "while second_num<=10:\n",
        "    print(num,\"x\",second_num,\"=\",num*second_num)\n",
        "    second_num=second_num+1\n"
      ],
      "metadata": {
        "colab": {
          "base_uri": "https://localhost:8080/"
        },
        "id": "nz2_h3eyooo-",
        "outputId": "be69c48c-c574-4bef-c21a-ee33711d79d0"
      },
      "execution_count": null,
      "outputs": [
        {
          "output_type": "stream",
          "name": "stdout",
          "text": [
            "Enter a number to get its table:6\n",
            "6 x 1 = 6\n",
            "6 x 2 = 12\n",
            "6 x 3 = 18\n",
            "6 x 4 = 24\n",
            "6 x 5 = 30\n",
            "6 x 6 = 36\n",
            "6 x 7 = 42\n",
            "6 x 8 = 48\n",
            "6 x 9 = 54\n",
            "6 x 10 = 60\n"
          ]
        }
      ]
    },
    {
      "cell_type": "markdown",
      "metadata": {
        "id": "svbM-nTcm0ep"
      },
      "source": [
        " Write a Python program to construct the following pattern\n",
        "\n",
        "1\n",
        "\n",
        "22\n",
        "\n",
        "333\n",
        "\n",
        "4444\n",
        "\n",
        "55555\n",
        "\n",
        "666666\n",
        "\n",
        "7777777\n",
        "\n",
        "88888888\n",
        "\n",
        "999999999\n"
      ]
    },
    {
      "cell_type": "code",
      "metadata": {
        "id": "x1ZvzOP-nVwy",
        "colab": {
          "base_uri": "https://localhost:8080/"
        },
        "outputId": "67e75c6a-3b02-488a-c653-ebb73f43bb18"
      },
      "source": [
        "for i in range(1,10):   # nested loops\n",
        "    for j in range(i):\n",
        "        print(i,end=\"\")\n",
        "    print()  \n",
        "      "
      ],
      "execution_count": null,
      "outputs": [
        {
          "output_type": "stream",
          "text": [
            "1\n",
            "22\n",
            "333\n",
            "4444\n",
            "55555\n",
            "666666\n",
            "7777777\n",
            "88888888\n",
            "999999999\n"
          ],
          "name": "stdout"
        }
      ]
    },
    {
      "cell_type": "markdown",
      "source": [
        " Write a Python program to construct the following pattern\n",
        "\n",
        "\n",
        "22\n",
        "\n",
        "4444\n",
        "\n",
        "666666\n",
        "\n",
        "88888888\n",
        "\n"
      ],
      "metadata": {
        "id": "36PIWcFepfDp"
      }
    },
    {
      "cell_type": "code",
      "source": [
        "for i in range(1, 5):\n",
        "  for j in range(i*2):\n",
        "    print(i*2, end = \"\")\n",
        "  print()"
      ],
      "metadata": {
        "colab": {
          "base_uri": "https://localhost:8080/"
        },
        "id": "QsH6o7eDppkS",
        "outputId": "380f1837-42bd-4db6-b914-8ee94515da85"
      },
      "execution_count": null,
      "outputs": [
        {
          "output_type": "stream",
          "name": "stdout",
          "text": [
            "22\n",
            "4444\n",
            "666666\n",
            "88888888\n"
          ]
        }
      ]
    },
    {
      "cell_type": "markdown",
      "metadata": {
        "id": "HzwfKAqknc6L"
      },
      "source": [
        "Write a Python program to count the number of even and odd numbers from a list of numbers"
      ]
    },
    {
      "cell_type": "code",
      "metadata": {
        "id": "DZx50GXZoLlp",
        "colab": {
          "base_uri": "https://localhost:8080/"
        },
        "outputId": "31b7c5f2-8c5d-4e27-ad09-640be9815de2"
      },
      "source": [
        "l=[21,96,34,75,28,33,67]\n",
        "odd_count=0\n",
        "even_count=0\n",
        "for num in l:\n",
        "    if num%2==0:\n",
        "        even_count=even_count+1\n",
        "    else:\n",
        "        odd_count=odd_count+1\n",
        "print(odd_count,even_count)"
      ],
      "execution_count": null,
      "outputs": [
        {
          "output_type": "stream",
          "text": [
            "4 3\n"
          ],
          "name": "stdout"
        }
      ]
    },
    {
      "cell_type": "code",
      "metadata": {
        "colab": {
          "base_uri": "https://localhost:8080/"
        },
        "id": "mC2OcT0ykxMU",
        "outputId": "3bd8a362-60f1-44f9-8cfb-9770d7aa0ea3"
      },
      "source": [
        "l=[]\n",
        "for i in range(5):\n",
        "    l.append(int(input(\"Enter number:\")))\n",
        "odd_count=0\n",
        "even_count=0\n",
        "for num in l:\n",
        "    if num%2==0:\n",
        "        even_count=even_count+1\n",
        "    else:\n",
        "        odd_count=odd_count+1\n",
        "print(odd_count,even_count)"
      ],
      "execution_count": null,
      "outputs": [
        {
          "output_type": "stream",
          "name": "stdout",
          "text": [
            "Enter number:45\n",
            "Enter number:85\n",
            "Enter number:64\n",
            "Enter number:23\n",
            "Enter number:21\n",
            "4 1\n"
          ]
        }
      ]
    },
    {
      "cell_type": "markdown",
      "metadata": {
        "id": "Iyg8N-BtoMB6"
      },
      "source": [
        "Write a python program to count number of vowels in a given string"
      ]
    },
    {
      "cell_type": "code",
      "metadata": {
        "id": "zLENc7cCobi3",
        "colab": {
          "base_uri": "https://localhost:8080/"
        },
        "outputId": "1c01647d-240d-49c8-edf5-9aa0140d622f"
      },
      "source": [
        "string=\"python programming language\"\n",
        "vc=0 # vowel count\n",
        "for el in string: #el is a variable (each letter)\n",
        "    if el==\"a\" or el==\"e\" or el==\"i\" or el==\"o\" or el==\"u\":\n",
        "        vc=vc+1\n",
        "        print(el)\n",
        "print(vc)"
      ],
      "execution_count": null,
      "outputs": [
        {
          "output_type": "stream",
          "text": [
            "o\n",
            "o\n",
            "a\n",
            "i\n",
            "a\n",
            "u\n",
            "a\n",
            "e\n",
            "8\n"
          ],
          "name": "stdout"
        }
      ]
    },
    {
      "cell_type": "markdown",
      "metadata": {
        "id": "821HA0zBmGkE"
      },
      "source": [
        "write a program to print:\n",
        "\n",
        "\n",
        "```\n",
        "*\n",
        "**\n",
        "***\n",
        "****\n",
        "*****\n",
        "```\n",
        "\n",
        "\n",
        "\n",
        "```\n",
        "*****\n",
        "*****\n",
        "*****\n",
        "*****\n",
        "*****\n",
        "```\n",
        "\n",
        "\n"
      ]
    },
    {
      "cell_type": "code",
      "metadata": {
        "colab": {
          "base_uri": "https://localhost:8080/"
        },
        "id": "Tfj7IrcuEMJP",
        "outputId": "29824dde-4760-4640-826a-49de014a5362"
      },
      "source": [
        "#*****\n",
        "#*****\n",
        "#*****\n",
        "#*****\n",
        "#*****\n",
        "\n",
        "for rows in range(5):\n",
        "    for cols in range(5):\n",
        "        print(\"*\",end=\"\")\n",
        "    print()"
      ],
      "execution_count": null,
      "outputs": [
        {
          "output_type": "stream",
          "text": [
            "*****\n",
            "*****\n",
            "*****\n",
            "*****\n",
            "*****\n"
          ],
          "name": "stdout"
        }
      ]
    },
    {
      "cell_type": "code",
      "metadata": {
        "id": "cgEFm7LYE2o7"
      },
      "source": [
        "#*\n",
        "#**\n",
        "#***\n",
        "#****\n",
        "#*****\n",
        "\n",
        "for rows in range(5):\n",
        "    for cols in range(5):\n",
        "        print(\"*\",end=\"\")\n",
        "    print()"
      ],
      "execution_count": null,
      "outputs": []
    },
    {
      "cell_type": "markdown",
      "metadata": {
        "id": "xG2HziYM0VJi"
      },
      "source": [
        "Write a Python program to find those numbers which are divisible by 7 and multiple of 5, between 1500 and 2700 (both included)."
      ]
    },
    {
      "cell_type": "markdown",
      "metadata": {
        "id": "J42EsCi8TMLY"
      },
      "source": [
        "/ proper answer for division\n",
        "\n",
        "% remainder\n",
        "\n",
        "// answer without decimal point"
      ]
    },
    {
      "cell_type": "code",
      "source": [
        "for i in range(1500,2701,1):\n",
        "    if i%7==0 and i%5==0:\n",
        "        print(i)"
      ],
      "metadata": {
        "colab": {
          "base_uri": "https://localhost:8080/"
        },
        "id": "NPvh64BWrqY-",
        "outputId": "feea0df2-12d0-4557-e394-fe8f9283336c"
      },
      "execution_count": null,
      "outputs": [
        {
          "output_type": "stream",
          "name": "stdout",
          "text": [
            "1505\n",
            "1540\n",
            "1575\n",
            "1610\n",
            "1645\n",
            "1680\n",
            "1715\n",
            "1750\n",
            "1785\n",
            "1820\n",
            "1855\n",
            "1890\n",
            "1925\n",
            "1960\n",
            "1995\n",
            "2030\n",
            "2065\n",
            "2100\n",
            "2135\n",
            "2170\n",
            "2205\n",
            "2240\n",
            "2275\n",
            "2310\n",
            "2345\n",
            "2380\n",
            "2415\n",
            "2450\n",
            "2485\n",
            "2520\n",
            "2555\n",
            "2590\n",
            "2625\n",
            "2660\n",
            "2695\n"
          ]
        }
      ]
    }
  ]
}
