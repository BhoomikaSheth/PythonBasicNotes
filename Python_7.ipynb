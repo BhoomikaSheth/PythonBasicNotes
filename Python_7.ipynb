{
  "nbformat": 4,
  "nbformat_minor": 0,
  "metadata": {
    "colab": {
      "name": "Python Day 4",
      "provenance": [],
      "collapsed_sections": [],
      "authorship_tag": "ABX9TyNcllU1oUUy83Eq66yzmAVc",
      "include_colab_link": true
    },
    "kernelspec": {
      "name": "python3",
      "display_name": "Python 3"
    },
    "language_info": {
      "name": "python"
    }
  },
  "cells": [
    {
      "cell_type": "markdown",
      "metadata": {
        "id": "view-in-github",
        "colab_type": "text"
      },
      "source": [
        "<a href=\"https://colab.research.google.com/github/BhoomikaSheth/PythonBasicNotes/blob/main/Python_Day_4.ipynb\" target=\"_parent\"><img src=\"https://colab.research.google.com/assets/colab-badge.svg\" alt=\"Open In Colab\"/></a>"
      ]
    },
    {
      "cell_type": "markdown",
      "metadata": {
        "id": "2S2c3RclBvYy"
      },
      "source": [
        "#String Methods and Functions "
      ]
    },
    {
      "cell_type": "markdown",
      "metadata": {
        "id": "IEffbnzKEa9F"
      },
      "source": [
        "Slicing---[]\n",
        "seperator :\n",
        "[start:end:interval]\n",
        "start by default is 0\n",
        "end by default is len(String)\n",
        "interval by default is 1"
      ]
    },
    {
      "cell_type": "code",
      "metadata": {
        "colab": {
          "base_uri": "https://localhost:8080/"
        },
        "id": "sdrH9oGujjBG",
        "outputId": "40efb208-c7f6-4657-dbb7-1ce94f334c4c"
      },
      "source": [
        "l=[1,2,3,4,5,78,9]\n",
        "l[1:4]"
      ],
      "execution_count": null,
      "outputs": [
        {
          "output_type": "execute_result",
          "data": {
            "text/plain": [
              "[2, 3, 4]"
            ]
          },
          "metadata": {},
          "execution_count": 1
        }
      ]
    },
    {
      "cell_type": "code",
      "metadata": {
        "colab": {
          "base_uri": "https://localhost:8080/"
        },
        "id": "qm62OTfEjwyZ",
        "outputId": "afb12d88-73fe-4166-fa1c-442a7c59b971"
      },
      "source": [
        "l[3:]"
      ],
      "execution_count": null,
      "outputs": [
        {
          "output_type": "execute_result",
          "data": {
            "text/plain": [
              "[4, 5, 78, 9]"
            ]
          },
          "metadata": {},
          "execution_count": 2
        }
      ]
    },
    {
      "cell_type": "code",
      "metadata": {
        "colab": {
          "base_uri": "https://localhost:8080/"
        },
        "id": "aKN3fhcnjzeU",
        "outputId": "e46b09ad-af23-40ae-87d2-aee5e942b106"
      },
      "source": [
        "l[0::2]"
      ],
      "execution_count": null,
      "outputs": [
        {
          "output_type": "execute_result",
          "data": {
            "text/plain": [
              "[1, 3, 5, 9]"
            ]
          },
          "metadata": {},
          "execution_count": 3
        }
      ]
    },
    {
      "cell_type": "code",
      "metadata": {
        "colab": {
          "base_uri": "https://localhost:8080/"
        },
        "id": "Ockb77vvj3Zm",
        "outputId": "d101c430-1332-4d83-823f-ce1ff54e9730"
      },
      "source": [
        "l[::2]"
      ],
      "execution_count": null,
      "outputs": [
        {
          "output_type": "execute_result",
          "data": {
            "text/plain": [
              "[1, 3, 5, 9]"
            ]
          },
          "metadata": {},
          "execution_count": 4
        }
      ]
    },
    {
      "cell_type": "code",
      "metadata": {
        "colab": {
          "base_uri": "https://localhost:8080/"
        },
        "id": "S4BvDeC6j_Y3",
        "outputId": "f3faf18c-befd-43fb-fc46-c081b226bb98"
      },
      "source": [
        "l[:4]"
      ],
      "execution_count": null,
      "outputs": [
        {
          "output_type": "execute_result",
          "data": {
            "text/plain": [
              "[1, 2, 3, 4]"
            ]
          },
          "metadata": {},
          "execution_count": 5
        }
      ]
    },
    {
      "cell_type": "code",
      "metadata": {
        "colab": {
          "base_uri": "https://localhost:8080/"
        },
        "id": "GXlvUQspj7ip",
        "outputId": "9c992eca-20cf-4161-c855-83ecba06fd10"
      },
      "source": [
        "l[::-1]"
      ],
      "execution_count": null,
      "outputs": [
        {
          "output_type": "execute_result",
          "data": {
            "text/plain": [
              "[9, 78, 5, 4, 3, 2, 1]"
            ]
          },
          "metadata": {},
          "execution_count": 6
        }
      ]
    },
    {
      "cell_type": "code",
      "metadata": {
        "id": "Qibd8RaSYj4N",
        "colab": {
          "base_uri": "https://localhost:8080/",
          "height": 36
        },
        "outputId": "670b2c67-418d-4185-dd86-d2b3834ff11d"
      },
      "source": [
        "s=\"python programming language\"\n",
        "s[5:13]"
      ],
      "execution_count": null,
      "outputs": [
        {
          "output_type": "execute_result",
          "data": {
            "application/vnd.google.colaboratory.intrinsic+json": {
              "type": "string"
            },
            "text/plain": [
              "'n progra'"
            ]
          },
          "metadata": {},
          "execution_count": 7
        }
      ]
    },
    {
      "cell_type": "code",
      "metadata": {
        "colab": {
          "base_uri": "https://localhost:8080/",
          "height": 36
        },
        "id": "pXiAbubwkRAb",
        "outputId": "ba0691d7-58cb-49e4-983c-2df728f0546f"
      },
      "source": [
        "s[5:]"
      ],
      "execution_count": null,
      "outputs": [
        {
          "output_type": "execute_result",
          "data": {
            "application/vnd.google.colaboratory.intrinsic+json": {
              "type": "string"
            },
            "text/plain": [
              "'n programming language'"
            ]
          },
          "metadata": {},
          "execution_count": 8
        }
      ]
    },
    {
      "cell_type": "code",
      "metadata": {
        "colab": {
          "base_uri": "https://localhost:8080/",
          "height": 36
        },
        "id": "KStXgMFIkTeE",
        "outputId": "dfe1ac28-265a-424c-ff56-e9366ebb4eff"
      },
      "source": [
        "s[::3]"
      ],
      "execution_count": null,
      "outputs": [
        {
          "output_type": "execute_result",
          "data": {
            "application/vnd.google.colaboratory.intrinsic+json": {
              "type": "string"
            },
            "text/plain": [
              "'ph oai na'"
            ]
          },
          "metadata": {},
          "execution_count": 9
        }
      ]
    },
    {
      "cell_type": "code",
      "metadata": {
        "colab": {
          "base_uri": "https://localhost:8080/",
          "height": 36
        },
        "id": "G31MMrOikZ5u",
        "outputId": "77f8494e-5f1c-4ea5-8dea-edfd13239dfe"
      },
      "source": [
        "s[:14]"
      ],
      "execution_count": null,
      "outputs": [
        {
          "output_type": "execute_result",
          "data": {
            "application/vnd.google.colaboratory.intrinsic+json": {
              "type": "string"
            },
            "text/plain": [
              "'python program'"
            ]
          },
          "metadata": {},
          "execution_count": 10
        }
      ]
    },
    {
      "cell_type": "code",
      "metadata": {
        "colab": {
          "base_uri": "https://localhost:8080/",
          "height": 36
        },
        "id": "wwQjwz01kejL",
        "outputId": "1c822589-07a2-44dc-c134-7eb5921d960d"
      },
      "source": [
        "s[::-1]"
      ],
      "execution_count": null,
      "outputs": [
        {
          "output_type": "execute_result",
          "data": {
            "application/vnd.google.colaboratory.intrinsic+json": {
              "type": "string"
            },
            "text/plain": [
              "'egaugnal gnimmargorp nohtyp'"
            ]
          },
          "metadata": {},
          "execution_count": 11
        }
      ]
    },
    {
      "cell_type": "code",
      "source": [
        "s[9]"
      ],
      "metadata": {
        "colab": {
          "base_uri": "https://localhost:8080/",
          "height": 36
        },
        "id": "ALzKLMDeslGD",
        "outputId": "2e7c4ea7-597b-4ff1-c246-b495ad76d92f"
      },
      "execution_count": null,
      "outputs": [
        {
          "output_type": "execute_result",
          "data": {
            "application/vnd.google.colaboratory.intrinsic+json": {
              "type": "string"
            },
            "text/plain": [
              "'o'"
            ]
          },
          "metadata": {},
          "execution_count": 12
        }
      ]
    },
    {
      "cell_type": "code",
      "source": [
        "l[4]"
      ],
      "metadata": {
        "colab": {
          "base_uri": "https://localhost:8080/"
        },
        "id": "168vE7-Tsw7p",
        "outputId": "9547975b-42a8-4540-bd6d-900916a63a6e"
      },
      "execution_count": null,
      "outputs": [
        {
          "output_type": "execute_result",
          "data": {
            "text/plain": [
              "5"
            ]
          },
          "metadata": {},
          "execution_count": 14
        }
      ]
    },
    {
      "cell_type": "code",
      "source": [
        "l[4]=88\n",
        "l"
      ],
      "metadata": {
        "colab": {
          "base_uri": "https://localhost:8080/"
        },
        "id": "zrYbj7iqsy4Q",
        "outputId": "3c1dee11-765a-487a-e0c5-a43a62c1abdd"
      },
      "execution_count": null,
      "outputs": [
        {
          "output_type": "execute_result",
          "data": {
            "text/plain": [
              "[1, 2, 3, 4, 88, 78, 9]"
            ]
          },
          "metadata": {},
          "execution_count": 15
        }
      ]
    },
    {
      "cell_type": "code",
      "source": [
        "s[9]=\"i\""
      ],
      "metadata": {
        "colab": {
          "base_uri": "https://localhost:8080/",
          "height": 173
        },
        "id": "D4DcAwttspHp",
        "outputId": "59e6dfcf-5b14-46fc-a717-52bc903732b1"
      },
      "execution_count": null,
      "outputs": [
        {
          "output_type": "error",
          "ename": "TypeError",
          "evalue": "ignored",
          "traceback": [
            "\u001b[0;31m---------------------------------------------------------------------------\u001b[0m",
            "\u001b[0;31mTypeError\u001b[0m                                 Traceback (most recent call last)",
            "\u001b[0;32m<ipython-input-13-e8b57f75e71e>\u001b[0m in \u001b[0;36m<module>\u001b[0;34m()\u001b[0m\n\u001b[0;32m----> 1\u001b[0;31m \u001b[0ms\u001b[0m\u001b[0;34m[\u001b[0m\u001b[0;36m9\u001b[0m\u001b[0;34m]\u001b[0m\u001b[0;34m=\u001b[0m\u001b[0;34m\"i\"\u001b[0m\u001b[0;34m\u001b[0m\u001b[0;34m\u001b[0m\u001b[0m\n\u001b[0m",
            "\u001b[0;31mTypeError\u001b[0m: 'str' object does not support item assignment"
          ]
        }
      ]
    },
    {
      "cell_type": "markdown",
      "metadata": {
        "id": "NwUhWDSmG_vu"
      },
      "source": [
        "Arithmetic operators with String\n",
        "### * for repetition\n",
        "### + for concatenation\n",
        "### string literals \\n,\\t\n",
        "### %     s-string, d-int,f-float\n",
        "### raw string used mostly where address of a file in the system"
      ]
    },
    {
      "cell_type": "code",
      "metadata": {
        "colab": {
          "base_uri": "https://localhost:8080/"
        },
        "id": "3j2K4BzCHu7m",
        "outputId": "4936e3bc-0b89-4221-d6fe-6efa67e597bf"
      },
      "source": [
        "s=\"Hello\"+\"world\"\n",
        "s"
      ],
      "execution_count": null,
      "outputs": [
        {
          "output_type": "execute_result",
          "data": {
            "application/vnd.google.colaboratory.intrinsic+json": {
              "type": "string"
            },
            "text/plain": [
              "'Helloworld'"
            ]
          },
          "metadata": {
            "tags": []
          },
          "execution_count": 12
        }
      ]
    },
    {
      "cell_type": "code",
      "metadata": {
        "colab": {
          "base_uri": "https://localhost:8080/"
        },
        "id": "rQ5I7qtslMij",
        "outputId": "69519dcf-6796-42b0-b466-4f595378d925"
      },
      "source": [
        "s2=s*3\n",
        "s2"
      ],
      "execution_count": null,
      "outputs": [
        {
          "output_type": "execute_result",
          "data": {
            "application/vnd.google.colaboratory.intrinsic+json": {
              "type": "string"
            },
            "text/plain": [
              "'HelloworldHelloworldHelloworld'"
            ]
          },
          "metadata": {
            "tags": []
          },
          "execution_count": 13
        }
      ]
    },
    {
      "cell_type": "code",
      "metadata": {
        "colab": {
          "base_uri": "https://localhost:8080/"
        },
        "id": "USIn-Bp2la9o",
        "outputId": "75048fa3-a206-4a75-d454-0506bada67ea"
      },
      "source": [
        "s3=\"dhairya123\"\n",
        "print(\"Hello\",s3)\n",
        "print(\"Hello %s\"%s3)"
      ],
      "execution_count": null,
      "outputs": [
        {
          "output_type": "stream",
          "name": "stdout",
          "text": [
            "Hello dhairya123\n",
            "Hello dhairya123\n"
          ]
        }
      ]
    },
    {
      "cell_type": "code",
      "source": [
        "print(\"c\\name\\tablet\")"
      ],
      "metadata": {
        "colab": {
          "base_uri": "https://localhost:8080/"
        },
        "id": "cxmGsSq1tL_C",
        "outputId": "10d6b3fe-85dc-4568-a83f-3874a26fd5e2"
      },
      "execution_count": null,
      "outputs": [
        {
          "output_type": "stream",
          "name": "stdout",
          "text": [
            "c\n",
            "ame\tablet\n"
          ]
        }
      ]
    },
    {
      "cell_type": "code",
      "metadata": {
        "colab": {
          "base_uri": "https://localhost:8080/"
        },
        "id": "ptps3vTrl91J",
        "outputId": "7596467d-28cf-473c-fbb0-96ee50c60441"
      },
      "source": [
        "print(r\"c\\name\\tablet\")\n"
      ],
      "execution_count": null,
      "outputs": [
        {
          "output_type": "stream",
          "name": "stdout",
          "text": [
            "c\\name\\tablet\n"
          ]
        }
      ]
    },
    {
      "cell_type": "markdown",
      "metadata": {
        "id": "r40MV_FDI5UA"
      },
      "source": [
        "### functions with string\n",
        "max, min, len, str, type"
      ]
    },
    {
      "cell_type": "code",
      "metadata": {
        "id": "1wmdnY-tnEx1"
      },
      "source": [
        "s3=\"dahirya\"\n",
        "s4=\"dhairya123\"\n",
        "s5=\"dhairya@123\""
      ],
      "execution_count": null,
      "outputs": []
    },
    {
      "cell_type": "code",
      "metadata": {
        "colab": {
          "base_uri": "https://localhost:8080/",
          "height": 36
        },
        "id": "_92OKk3CmaPV",
        "outputId": "85c4e106-8357-4c98-e61d-174dfe519f5b"
      },
      "source": [
        "max(s3)"
      ],
      "execution_count": null,
      "outputs": [
        {
          "output_type": "execute_result",
          "data": {
            "application/vnd.google.colaboratory.intrinsic+json": {
              "type": "string"
            },
            "text/plain": [
              "'y'"
            ]
          },
          "metadata": {},
          "execution_count": 22
        }
      ]
    },
    {
      "cell_type": "code",
      "metadata": {
        "colab": {
          "base_uri": "https://localhost:8080/",
          "height": 36
        },
        "id": "uzCUJrobnK1U",
        "outputId": "3821c503-a0cb-428b-b7de-6dfdf0d8340b"
      },
      "source": [
        "max(s4)"
      ],
      "execution_count": null,
      "outputs": [
        {
          "output_type": "execute_result",
          "data": {
            "application/vnd.google.colaboratory.intrinsic+json": {
              "type": "string"
            },
            "text/plain": [
              "'y'"
            ]
          },
          "metadata": {},
          "execution_count": 23
        }
      ]
    },
    {
      "cell_type": "code",
      "metadata": {
        "colab": {
          "base_uri": "https://localhost:8080/",
          "height": 36
        },
        "id": "ECkUvuUonPAi",
        "outputId": "aeedf109-e603-4ab6-8a19-b4665533a883"
      },
      "source": [
        "max(s5)"
      ],
      "execution_count": null,
      "outputs": [
        {
          "output_type": "execute_result",
          "data": {
            "application/vnd.google.colaboratory.intrinsic+json": {
              "type": "string"
            },
            "text/plain": [
              "'y'"
            ]
          },
          "metadata": {},
          "execution_count": 24
        }
      ]
    },
    {
      "cell_type": "code",
      "metadata": {
        "colab": {
          "base_uri": "https://localhost:8080/",
          "height": 36
        },
        "id": "PANxEuaum-a5",
        "outputId": "862bc1ea-5fdb-4ca5-a135-3bfc6127c7a5"
      },
      "source": [
        "min(s3)"
      ],
      "execution_count": null,
      "outputs": [
        {
          "output_type": "execute_result",
          "data": {
            "application/vnd.google.colaboratory.intrinsic+json": {
              "type": "string"
            },
            "text/plain": [
              "'a'"
            ]
          },
          "metadata": {},
          "execution_count": 25
        }
      ]
    },
    {
      "cell_type": "code",
      "metadata": {
        "colab": {
          "base_uri": "https://localhost:8080/",
          "height": 36
        },
        "id": "u2Q9G4HknVz3",
        "outputId": "d68c59a3-b883-47a9-9612-d43c6117584e"
      },
      "source": [
        "min(s4)"
      ],
      "execution_count": null,
      "outputs": [
        {
          "output_type": "execute_result",
          "data": {
            "application/vnd.google.colaboratory.intrinsic+json": {
              "type": "string"
            },
            "text/plain": [
              "'1'"
            ]
          },
          "metadata": {},
          "execution_count": 26
        }
      ]
    },
    {
      "cell_type": "code",
      "metadata": {
        "colab": {
          "base_uri": "https://localhost:8080/",
          "height": 36
        },
        "id": "CUQh_pIynZAS",
        "outputId": "933457cb-aff0-4e56-fd4b-1b938b1b1c11"
      },
      "source": [
        "min(s5)"
      ],
      "execution_count": null,
      "outputs": [
        {
          "output_type": "execute_result",
          "data": {
            "application/vnd.google.colaboratory.intrinsic+json": {
              "type": "string"
            },
            "text/plain": [
              "'1'"
            ]
          },
          "metadata": {},
          "execution_count": 27
        }
      ]
    },
    {
      "cell_type": "code",
      "metadata": {
        "colab": {
          "base_uri": "https://localhost:8080/"
        },
        "id": "3RU6Ihe3nk-t",
        "outputId": "6e317816-b157-4fa6-c9ca-37fdc44c419d"
      },
      "source": [
        "len(s4)"
      ],
      "execution_count": null,
      "outputs": [
        {
          "output_type": "execute_result",
          "data": {
            "text/plain": [
              "10"
            ]
          },
          "metadata": {},
          "execution_count": 28
        }
      ]
    },
    {
      "cell_type": "code",
      "metadata": {
        "colab": {
          "base_uri": "https://localhost:8080/",
          "height": 54
        },
        "id": "UIac4airnpLH",
        "outputId": "1bbe4094-21f4-49c7-fad0-738b9741a05e"
      },
      "source": [
        "ls=str(l)\n",
        "print(type(ls))\n",
        "ls"
      ],
      "execution_count": null,
      "outputs": [
        {
          "output_type": "stream",
          "name": "stdout",
          "text": [
            "<class 'str'>\n"
          ]
        },
        {
          "output_type": "execute_result",
          "data": {
            "application/vnd.google.colaboratory.intrinsic+json": {
              "type": "string"
            },
            "text/plain": [
              "'[1, 2, 3, 4, 88, 78, 9]'"
            ]
          },
          "metadata": {},
          "execution_count": 29
        }
      ]
    },
    {
      "cell_type": "code",
      "source": [
        "dir(s)"
      ],
      "metadata": {
        "colab": {
          "base_uri": "https://localhost:8080/"
        },
        "id": "NCuAnGq4uR4z",
        "outputId": "d602cc5a-f75d-439c-9ecc-a1f3ee39b6bc"
      },
      "execution_count": null,
      "outputs": [
        {
          "output_type": "execute_result",
          "data": {
            "text/plain": [
              "['__add__',\n",
              " '__class__',\n",
              " '__contains__',\n",
              " '__delattr__',\n",
              " '__dir__',\n",
              " '__doc__',\n",
              " '__eq__',\n",
              " '__format__',\n",
              " '__ge__',\n",
              " '__getattribute__',\n",
              " '__getitem__',\n",
              " '__getnewargs__',\n",
              " '__gt__',\n",
              " '__hash__',\n",
              " '__init__',\n",
              " '__init_subclass__',\n",
              " '__iter__',\n",
              " '__le__',\n",
              " '__len__',\n",
              " '__lt__',\n",
              " '__mod__',\n",
              " '__mul__',\n",
              " '__ne__',\n",
              " '__new__',\n",
              " '__reduce__',\n",
              " '__reduce_ex__',\n",
              " '__repr__',\n",
              " '__rmod__',\n",
              " '__rmul__',\n",
              " '__setattr__',\n",
              " '__sizeof__',\n",
              " '__str__',\n",
              " '__subclasshook__',\n",
              " 'capitalize',\n",
              " 'casefold',\n",
              " 'center',\n",
              " 'count',\n",
              " 'encode',\n",
              " 'endswith',\n",
              " 'expandtabs',\n",
              " 'find',\n",
              " 'format',\n",
              " 'format_map',\n",
              " 'index',\n",
              " 'isalnum',\n",
              " 'isalpha',\n",
              " 'isascii',\n",
              " 'isdecimal',\n",
              " 'isdigit',\n",
              " 'isidentifier',\n",
              " 'islower',\n",
              " 'isnumeric',\n",
              " 'isprintable',\n",
              " 'isspace',\n",
              " 'istitle',\n",
              " 'isupper',\n",
              " 'join',\n",
              " 'ljust',\n",
              " 'lower',\n",
              " 'lstrip',\n",
              " 'maketrans',\n",
              " 'partition',\n",
              " 'replace',\n",
              " 'rfind',\n",
              " 'rindex',\n",
              " 'rjust',\n",
              " 'rpartition',\n",
              " 'rsplit',\n",
              " 'rstrip',\n",
              " 'split',\n",
              " 'splitlines',\n",
              " 'startswith',\n",
              " 'strip',\n",
              " 'swapcase',\n",
              " 'title',\n",
              " 'translate',\n",
              " 'upper',\n",
              " 'zfill']"
            ]
          },
          "metadata": {},
          "execution_count": 30
        }
      ]
    },
    {
      "cell_type": "markdown",
      "metadata": {
        "id": "6P_5v1MaN9OE"
      },
      "source": [
        "### string methods= in built functions associated only with string. to access such methods we make use of . operator\n",
        "\n",
        "\n",
        "\n",
        "```\n",
        "'capitalize',\n",
        " 'casefold',\n",
        " 'center',\n",
        " 'count',\n",
        " 'encode',\n",
        " 'endswith',\n",
        " 'expandtabs',\n",
        " 'find',\n",
        " 'format',\n",
        " 'format_map',\n",
        " 'index',\n",
        " 'isalnum',\n",
        " 'isalpha',\n",
        " 'isascii',\n",
        " 'isdecimal',\n",
        " 'isdigit',\n",
        " 'isidentifier',\n",
        " 'islower',\n",
        " 'isnumeric',\n",
        " 'isprintable',\n",
        " 'isspace',\n",
        " 'istitle',\n",
        " 'isupper',\n",
        " 'join',\n",
        " 'ljust',\n",
        " 'lower',\n",
        " 'lstrip',\n",
        " 'maketrans',\n",
        " 'partition',\n",
        " 'replace',\n",
        " 'rfind',\n",
        " 'rindex',\n",
        " 'rjust',\n",
        " 'rpartition',\n",
        " 'rsplit',\n",
        " 'rstrip',\n",
        " 'split',\n",
        " 'splitlines',\n",
        " 'startswith',\n",
        " 'strip',\n",
        " 'swapcase',\n",
        " 'title',\n",
        " 'translate',\n",
        " 'upper',\n",
        " 'zfill'\n",
        "```\n",
        "\n"
      ]
    },
    {
      "cell_type": "markdown",
      "metadata": {
        "id": "fmglD8kdONeY"
      },
      "source": [
        "dir() is another in built functions used to find sipported functions/attributes of any python object(variable/datatypes/functions)"
      ]
    },
    {
      "cell_type": "code",
      "metadata": {
        "colab": {
          "base_uri": "https://localhost:8080/"
        },
        "id": "vMWk1bGQoRJt",
        "outputId": "f357cd47-8940-4f73-a94b-1262ff11d63a"
      },
      "source": [
        "dir(s4)#dir(str)"
      ],
      "execution_count": null,
      "outputs": [
        {
          "output_type": "execute_result",
          "data": {
            "text/plain": [
              "['__add__',\n",
              " '__class__',\n",
              " '__contains__',\n",
              " '__delattr__',\n",
              " '__dir__',\n",
              " '__doc__',\n",
              " '__eq__',\n",
              " '__format__',\n",
              " '__ge__',\n",
              " '__getattribute__',\n",
              " '__getitem__',\n",
              " '__getnewargs__',\n",
              " '__gt__',\n",
              " '__hash__',\n",
              " '__init__',\n",
              " '__init_subclass__',\n",
              " '__iter__',\n",
              " '__le__',\n",
              " '__len__',\n",
              " '__lt__',\n",
              " '__mod__',\n",
              " '__mul__',\n",
              " '__ne__',\n",
              " '__new__',\n",
              " '__reduce__',\n",
              " '__reduce_ex__',\n",
              " '__repr__',\n",
              " '__rmod__',\n",
              " '__rmul__',\n",
              " '__setattr__',\n",
              " '__sizeof__',\n",
              " '__str__',\n",
              " '__subclasshook__',\n",
              " 'capitalize',\n",
              " 'casefold',\n",
              " 'center',\n",
              " 'count',\n",
              " 'encode',\n",
              " 'endswith',\n",
              " 'expandtabs',\n",
              " 'find',\n",
              " 'format',\n",
              " 'format_map',\n",
              " 'index',\n",
              " 'isalnum',\n",
              " 'isalpha',\n",
              " 'isascii',\n",
              " 'isdecimal',\n",
              " 'isdigit',\n",
              " 'isidentifier',\n",
              " 'islower',\n",
              " 'isnumeric',\n",
              " 'isprintable',\n",
              " 'isspace',\n",
              " 'istitle',\n",
              " 'isupper',\n",
              " 'join',\n",
              " 'ljust',\n",
              " 'lower',\n",
              " 'lstrip',\n",
              " 'maketrans',\n",
              " 'partition',\n",
              " 'replace',\n",
              " 'rfind',\n",
              " 'rindex',\n",
              " 'rjust',\n",
              " 'rpartition',\n",
              " 'rsplit',\n",
              " 'rstrip',\n",
              " 'split',\n",
              " 'splitlines',\n",
              " 'startswith',\n",
              " 'strip',\n",
              " 'swapcase',\n",
              " 'title',\n",
              " 'translate',\n",
              " 'upper',\n",
              " 'zfill']"
            ]
          },
          "metadata": {
            "tags": []
          },
          "execution_count": 26
        }
      ]
    },
    {
      "cell_type": "markdown",
      "metadata": {
        "id": "UUohVtZ8pfvG"
      },
      "source": [
        "#### center,ljust,rjust,zfill"
      ]
    },
    {
      "cell_type": "code",
      "metadata": {
        "colab": {
          "base_uri": "https://localhost:8080/",
          "height": 36
        },
        "id": "A_oh6N8Non48",
        "outputId": "ac34920c-d065-41e3-d70e-9f39ede45d3e"
      },
      "source": [
        "string=\"python programming language\"\n",
        "string.center(100,\"$\")"
      ],
      "execution_count": null,
      "outputs": [
        {
          "output_type": "execute_result",
          "data": {
            "application/vnd.google.colaboratory.intrinsic+json": {
              "type": "string"
            },
            "text/plain": [
              "'$$$$$$$$$$$$$$$$$$$$$$$$$$$$$$$$$$$$python programming language$$$$$$$$$$$$$$$$$$$$$$$$$$$$$$$$$$$$$'"
            ]
          },
          "metadata": {},
          "execution_count": 33
        }
      ]
    },
    {
      "cell_type": "code",
      "source": [
        "s=\"government engineering college\"\n",
        "s.center(100,\"-\")"
      ],
      "metadata": {
        "colab": {
          "base_uri": "https://localhost:8080/",
          "height": 36
        },
        "id": "FRpgj2dQuiN1",
        "outputId": "6ed1db38-7d07-40c8-fe99-2763cba56b93"
      },
      "execution_count": null,
      "outputs": [
        {
          "output_type": "execute_result",
          "data": {
            "application/vnd.google.colaboratory.intrinsic+json": {
              "type": "string"
            },
            "text/plain": [
              "'-----------------------------------government engineering college-----------------------------------'"
            ]
          },
          "metadata": {},
          "execution_count": 31
        }
      ]
    },
    {
      "cell_type": "code",
      "metadata": {
        "colab": {
          "base_uri": "https://localhost:8080/"
        },
        "id": "jeKq316ao9Hl",
        "outputId": "21419273-29fa-44db-de7f-0792f6e86a39"
      },
      "source": [
        "string.center(100,\" \")"
      ],
      "execution_count": null,
      "outputs": [
        {
          "output_type": "execute_result",
          "data": {
            "application/vnd.google.colaboratory.intrinsic+json": {
              "type": "string"
            },
            "text/plain": [
              "'                                    python programming language                                     '"
            ]
          },
          "metadata": {
            "tags": []
          },
          "execution_count": 28
        }
      ]
    },
    {
      "cell_type": "code",
      "metadata": {
        "colab": {
          "base_uri": "https://localhost:8080/",
          "height": 36
        },
        "id": "mkUAuOZKpBzA",
        "outputId": "f7be281b-3406-473c-e82f-ae4267cea915"
      },
      "source": [
        "string.ljust(100,\"*\")"
      ],
      "execution_count": null,
      "outputs": [
        {
          "output_type": "execute_result",
          "data": {
            "application/vnd.google.colaboratory.intrinsic+json": {
              "type": "string"
            },
            "text/plain": [
              "'python programming language*************************************************************************'"
            ]
          },
          "metadata": {},
          "execution_count": 35
        }
      ]
    },
    {
      "cell_type": "code",
      "metadata": {
        "colab": {
          "base_uri": "https://localhost:8080/"
        },
        "id": "G3wa_oJ9pIKT",
        "outputId": "76f9a012-ad71-4956-a24b-b605a7ec153d"
      },
      "source": [
        "string.rjust(100,\"$\")"
      ],
      "execution_count": null,
      "outputs": [
        {
          "output_type": "execute_result",
          "data": {
            "application/vnd.google.colaboratory.intrinsic+json": {
              "type": "string"
            },
            "text/plain": [
              "'$$$$$$$$$$$$$$$$$$$$$$$$$$$$$$$$$$$$$$$$$$$$$$$$$$$$$$$$$$$$$$$$$$$$$$$$$python programming language'"
            ]
          },
          "metadata": {
            "tags": []
          },
          "execution_count": 30
        }
      ]
    },
    {
      "cell_type": "code",
      "metadata": {
        "colab": {
          "base_uri": "https://localhost:8080/"
        },
        "id": "MCj5NXTHpL0j",
        "outputId": "8dee51f7-a26c-4018-b5cd-421667707228"
      },
      "source": [
        "string.zfill(100)"
      ],
      "execution_count": null,
      "outputs": [
        {
          "output_type": "execute_result",
          "data": {
            "application/vnd.google.colaboratory.intrinsic+json": {
              "type": "string"
            },
            "text/plain": [
              "'0000000000000000000000000000000000000000000000000000000000000000000000000python programming language'"
            ]
          },
          "metadata": {
            "tags": []
          },
          "execution_count": 31
        }
      ]
    },
    {
      "cell_type": "markdown",
      "metadata": {
        "id": "bsSV0IetpjuF"
      },
      "source": [
        "####count,endswith,startwith"
      ]
    },
    {
      "cell_type": "code",
      "metadata": {
        "colab": {
          "base_uri": "https://localhost:8080/"
        },
        "id": "h5hx-XAqpm9V",
        "outputId": "983ea844-5692-4297-b7db-78362ddc7bdd"
      },
      "source": [
        "string=\"python programming language\"\n",
        "string.count(\"on\")"
      ],
      "execution_count": null,
      "outputs": [
        {
          "output_type": "execute_result",
          "data": {
            "text/plain": [
              "1"
            ]
          },
          "metadata": {},
          "execution_count": 38
        }
      ]
    },
    {
      "cell_type": "code",
      "source": [
        "string.count(\"o\")"
      ],
      "metadata": {
        "colab": {
          "base_uri": "https://localhost:8080/"
        },
        "id": "3OXt0ho_vU9Z",
        "outputId": "bd5b62fa-5930-468c-b1d8-31810f5d4170"
      },
      "execution_count": null,
      "outputs": [
        {
          "output_type": "execute_result",
          "data": {
            "text/plain": [
              "2"
            ]
          },
          "metadata": {},
          "execution_count": 39
        }
      ]
    },
    {
      "cell_type": "code",
      "metadata": {
        "colab": {
          "base_uri": "https://localhost:8080/"
        },
        "id": "5mRsvzzDptqw",
        "outputId": "41eae20c-3c32-4371-de66-fe431fc427e6"
      },
      "source": [
        "string.count(\"in\")"
      ],
      "execution_count": null,
      "outputs": [
        {
          "output_type": "execute_result",
          "data": {
            "text/plain": [
              "1"
            ]
          },
          "metadata": {
            "tags": []
          },
          "execution_count": 33
        }
      ]
    },
    {
      "cell_type": "code",
      "metadata": {
        "colab": {
          "base_uri": "https://localhost:8080/"
        },
        "id": "IyY07dyHp7a4",
        "outputId": "990c2df1-4d1c-48f2-e6e2-d9af20d4abcc"
      },
      "source": [
        "string.count(\"in\",3,10)"
      ],
      "execution_count": null,
      "outputs": [
        {
          "output_type": "execute_result",
          "data": {
            "text/plain": [
              "0"
            ]
          },
          "metadata": {
            "tags": []
          },
          "execution_count": 34
        }
      ]
    },
    {
      "cell_type": "code",
      "metadata": {
        "colab": {
          "base_uri": "https://localhost:8080/"
        },
        "id": "DimLzlAXqP_A",
        "outputId": "7a718784-716e-4a33-d9ce-f00649277fb3"
      },
      "source": [
        "string.endswith(\"e\")"
      ],
      "execution_count": null,
      "outputs": [
        {
          "output_type": "execute_result",
          "data": {
            "text/plain": [
              "True"
            ]
          },
          "metadata": {
            "tags": []
          },
          "execution_count": 35
        }
      ]
    },
    {
      "cell_type": "code",
      "metadata": {
        "colab": {
          "base_uri": "https://localhost:8080/"
        },
        "id": "-YSH4R-EqY2E",
        "outputId": "415eed20-578b-48e6-c475-73f32db0efb7"
      },
      "source": [
        "string.endswith(\"ge\")"
      ],
      "execution_count": null,
      "outputs": [
        {
          "output_type": "execute_result",
          "data": {
            "text/plain": [
              "True"
            ]
          },
          "metadata": {
            "tags": []
          },
          "execution_count": 36
        }
      ]
    },
    {
      "cell_type": "code",
      "source": [
        "string.endswith(\"gec\")"
      ],
      "metadata": {
        "colab": {
          "base_uri": "https://localhost:8080/"
        },
        "id": "I_PiAyH4vk9j",
        "outputId": "685b271d-747d-40eb-849b-df427e989b21"
      },
      "execution_count": null,
      "outputs": [
        {
          "output_type": "execute_result",
          "data": {
            "text/plain": [
              "False"
            ]
          },
          "metadata": {},
          "execution_count": 40
        }
      ]
    },
    {
      "cell_type": "code",
      "metadata": {
        "colab": {
          "base_uri": "https://localhost:8080/"
        },
        "id": "yTEV04WMqcor",
        "outputId": "5452d0ef-7649-482b-cedd-6096b7db14f7"
      },
      "source": [
        "string.endswith(\"ge\",3,10)"
      ],
      "execution_count": null,
      "outputs": [
        {
          "output_type": "execute_result",
          "data": {
            "text/plain": [
              "False"
            ]
          },
          "metadata": {
            "tags": []
          },
          "execution_count": 37
        }
      ]
    },
    {
      "cell_type": "code",
      "metadata": {
        "colab": {
          "base_uri": "https://localhost:8080/"
        },
        "id": "fRmPPU1Lqg7z",
        "outputId": "c550da02-fddd-49c2-96a3-85681caa8efa"
      },
      "source": [
        "string.startswith(\"p\")"
      ],
      "execution_count": null,
      "outputs": [
        {
          "output_type": "execute_result",
          "data": {
            "text/plain": [
              "True"
            ]
          },
          "metadata": {
            "tags": []
          },
          "execution_count": 38
        }
      ]
    },
    {
      "cell_type": "code",
      "metadata": {
        "colab": {
          "base_uri": "https://localhost:8080/"
        },
        "id": "vi0mrzaSqope",
        "outputId": "28aebfb7-381a-4ab0-b0a2-15835b7be9a3"
      },
      "source": [
        "string.startswith(\"py\")"
      ],
      "execution_count": null,
      "outputs": [
        {
          "output_type": "execute_result",
          "data": {
            "text/plain": [
              "True"
            ]
          },
          "metadata": {
            "tags": []
          },
          "execution_count": 39
        }
      ]
    },
    {
      "cell_type": "code",
      "metadata": {
        "colab": {
          "base_uri": "https://localhost:8080/"
        },
        "id": "eRYWZx9NqsCn",
        "outputId": "9721b9b8-1c4e-4e2c-cb6a-30611587eb00"
      },
      "source": [
        "string.startswith(\"p\",3,10)"
      ],
      "execution_count": null,
      "outputs": [
        {
          "output_type": "execute_result",
          "data": {
            "text/plain": [
              "False"
            ]
          },
          "metadata": {
            "tags": []
          },
          "execution_count": 40
        }
      ]
    },
    {
      "cell_type": "code",
      "source": [
        "roll_no=\"21xxxxxx\"\n",
        "if roll_no.startswith(\"21\"):\n",
        "    print(\"Student is in first year\")\n",
        "else:\n",
        "    print(\"student not in first year\")"
      ],
      "metadata": {
        "colab": {
          "base_uri": "https://localhost:8080/"
        },
        "id": "zz4gbendv0TG",
        "outputId": "ed34b955-6f93-4961-ae9f-fd39a68b272c"
      },
      "execution_count": null,
      "outputs": [
        {
          "output_type": "stream",
          "name": "stdout",
          "text": [
            "Student is in first year\n"
          ]
        }
      ]
    },
    {
      "cell_type": "markdown",
      "metadata": {
        "id": "tsZMVle5P9ku"
      },
      "source": [
        "#membership operators\n",
        "\n",
        "> in\n",
        "\n",
        "\n",
        "> not in\n",
        "\n",
        "\n",
        "\n"
      ]
    },
    {
      "cell_type": "code",
      "metadata": {
        "id": "rNxk9qcCZy_u",
        "colab": {
          "base_uri": "https://localhost:8080/"
        },
        "outputId": "68f87922-4835-414d-f5b1-5daf1d3daac6"
      },
      "source": [
        "roll_no2=\"21ECxxx\"\n",
        "if \"EC\" in roll_no2:\n",
        "    print(\"You belong to EC dept\")\n",
        "    "
      ],
      "execution_count": null,
      "outputs": [
        {
          "output_type": "stream",
          "name": "stdout",
          "text": [
            "You belong to EC dept\n"
          ]
        }
      ]
    },
    {
      "cell_type": "code",
      "source": [
        "\"MECH\" not in roll_no2"
      ],
      "metadata": {
        "colab": {
          "base_uri": "https://localhost:8080/"
        },
        "id": "kFtoozQWwg0J",
        "outputId": "7d0b80ff-4856-4131-baca-71abeb6d9243"
      },
      "execution_count": null,
      "outputs": [
        {
          "output_type": "execute_result",
          "data": {
            "text/plain": [
              "True"
            ]
          },
          "metadata": {},
          "execution_count": 43
        }
      ]
    },
    {
      "cell_type": "markdown",
      "metadata": {
        "id": "Hp9-uA8USA6S"
      },
      "source": [
        "#string exercises"
      ]
    },
    {
      "cell_type": "markdown",
      "metadata": {
        "id": "pz6TJGoWrTDi"
      },
      "source": [
        "write a program to check if a given string is a palindrome or not\n",
        "nayan\n",
        "malayalam"
      ]
    },
    {
      "cell_type": "code",
      "metadata": {
        "id": "q73nD4J2ratq"
      },
      "source": [
        ""
      ],
      "execution_count": null,
      "outputs": []
    },
    {
      "cell_type": "markdown",
      "metadata": {
        "id": "NVDRuqX_rcDh"
      },
      "source": [
        "write a program to find min,max,len,type of a given string"
      ]
    },
    {
      "cell_type": "code",
      "metadata": {
        "id": "HP2ilYZHrqc3"
      },
      "source": [
        ""
      ],
      "execution_count": null,
      "outputs": []
    },
    {
      "cell_type": "markdown",
      "metadata": {
        "id": "oRSNZn5brq8X"
      },
      "source": [
        "write a program to count the strings of same domain name in a given list\n",
        "l=[\"www.google.com\",\"www.facebook.com\",\"www.gst.gov.in\",\"www.wikipedia.org\",\"www.gsrtc.org\"]"
      ]
    },
    {
      "cell_type": "code",
      "metadata": {
        "id": "9XEBrRlWsDWx"
      },
      "source": [
        ""
      ],
      "execution_count": null,
      "outputs": []
    },
    {
      "cell_type": "markdown",
      "metadata": {
        "id": "nzqxF6iBsCZ9"
      },
      "source": [
        "write a program to convert a list of hex numbers to a string with \"-\" in between for a given mac address\n",
        "l=[59,98,6F,9E,87,33,AC]\n",
        "59-98-6F-9E-87-33-AC]"
      ]
    },
    {
      "cell_type": "code",
      "source": [
        ""
      ],
      "metadata": {
        "id": "J8EvVMFRw8jz"
      },
      "execution_count": null,
      "outputs": []
    },
    {
      "cell_type": "markdown",
      "metadata": {
        "id": "ngQVn-Haslcr"
      },
      "source": [
        "WRITE A PROGRAM TO CHECK IF A STRING IS STARTING WITH LETTER OR A NUMBER. IF IT IS STARTING WITH A CHARACTER, PRINT THAT STRING IN CENTER WITH 10 $ SIGNS ON LEFT AND ON RIGHT\n",
        "S=\"LETTER\"\n",
        "$$$$$$$$$$LETTER$$$$$$$$$$"
      ]
    },
    {
      "cell_type": "code",
      "metadata": {
        "id": "_LCpLDouslJZ",
        "colab": {
          "base_uri": "https://localhost:8080/"
        },
        "outputId": "7b197812-0458-4eb9-c5ef-797daba763c2"
      },
      "source": [
        "s1=\"Python\"\n",
        "s2=\"12345\"\n",
        "for i in range(0,10):\n",
        "    if s1.startswith(str(i)):\n",
        "         print(s1)\n",
        "         break\n",
        "else:\n",
        "      length=20+len(s1)\n",
        "      print(s1.center(length,\"$\"))"
      ],
      "execution_count": null,
      "outputs": [
        {
          "output_type": "stream",
          "name": "stdout",
          "text": [
            "$$$$$$$$$$Python$$$$$$$$$$\n"
          ]
        }
      ]
    },
    {
      "cell_type": "code",
      "source": [
        "for i in range(0,10):\n",
        "    if s2.startswith(str(i)):\n",
        "         print(s2)\n",
        "         break\n",
        "else:\n",
        "      length=20+len(s2)\n",
        "      print(s2.center(length,\"$\"))"
      ],
      "metadata": {
        "colab": {
          "base_uri": "https://localhost:8080/"
        },
        "id": "YmGqggdJx9EN",
        "outputId": "23463b2c-488b-4e72-b322-023be1c69246"
      },
      "execution_count": null,
      "outputs": [
        {
          "output_type": "stream",
          "name": "stdout",
          "text": [
            "12345\n"
          ]
        }
      ]
    },
    {
      "cell_type": "markdown",
      "metadata": {
        "id": "v0w8AZzkRxVM"
      },
      "source": [
        "#### isalnum, isalpha, isascii, isdecimal, isdigit,  isidentifier, islower, isnumeric, isprintable, isspace, istitle, isupper\n",
        "\n",
        "\n",
        "\n",
        "Generates output in form of True or False"
      ]
    },
    {
      "cell_type": "markdown",
      "metadata": {
        "id": "ZbqqQzzemNMq"
      },
      "source": [
        "    isdecimal() method supports only Decimal Numbers.\n",
        "    isdigit() method supports Decimals, Subscripts, Superscripts.\n",
        "    isnumeric() method supports Digits, Vulgar Fractions, Subscripts, Superscripts, Roman Numerals, Currency Numerators."
      ]
    },
    {
      "cell_type": "code",
      "metadata": {
        "colab": {
          "base_uri": "https://localhost:8080/"
        },
        "id": "k3_EIOl8STiU",
        "outputId": "a9ec44c7-106b-4355-e6ea-29690c27435f"
      },
      "source": [
        "string=\"PythonProgrammingLanguagewasfoundedin1991\"\n",
        "string.isupper()"
      ],
      "execution_count": null,
      "outputs": [
        {
          "output_type": "execute_result",
          "data": {
            "text/plain": [
              "False"
            ]
          },
          "metadata": {},
          "execution_count": 49
        }
      ]
    },
    {
      "cell_type": "code",
      "metadata": {
        "colab": {
          "base_uri": "https://localhost:8080/"
        },
        "id": "7zGRS21zaQKv",
        "outputId": "415f3b92-d25b-459c-bcc1-24ed9b7a28cf"
      },
      "source": [
        "### check\n",
        "\n",
        "word=\"1991.31\"\n",
        "print(word)\n",
        "word.isdecimal()"
      ],
      "execution_count": null,
      "outputs": [
        {
          "output_type": "stream",
          "name": "stdout",
          "text": [
            "1991.31\n"
          ]
        },
        {
          "output_type": "execute_result",
          "data": {
            "text/plain": [
              "False"
            ]
          },
          "metadata": {},
          "execution_count": 50
        }
      ]
    },
    {
      "cell_type": "code",
      "metadata": {
        "colab": {
          "base_uri": "https://localhost:8080/"
        },
        "id": "8yskgRiNZZEK",
        "outputId": "dc0d6721-f6c8-4984-8ba5-e8b60705a1d0"
      },
      "source": [
        "string.islower()"
      ],
      "execution_count": null,
      "outputs": [
        {
          "output_type": "execute_result",
          "data": {
            "text/plain": [
              "False"
            ]
          },
          "metadata": {},
          "execution_count": 51
        }
      ]
    },
    {
      "cell_type": "code",
      "metadata": {
        "colab": {
          "base_uri": "https://localhost:8080/"
        },
        "id": "-hwTA-PfZcQC",
        "outputId": "42a827b9-1ffc-4a13-d268-000f7df12372"
      },
      "source": [
        "for el in string:\n",
        "    if el.isdecimal():\n",
        "        print(el)"
      ],
      "execution_count": null,
      "outputs": [
        {
          "output_type": "stream",
          "name": "stdout",
          "text": [
            "1\n",
            "9\n",
            "9\n",
            "1\n"
          ]
        }
      ]
    },
    {
      "cell_type": "code",
      "source": [
        "string=\"Python Programming Language was founded in 1991\"\n",
        "string.isalnum()"
      ],
      "metadata": {
        "colab": {
          "base_uri": "https://localhost:8080/"
        },
        "id": "LPcUPWX0zG0a",
        "outputId": "0b6cd3ed-22cf-4cc5-fe27-9f0032fba94b"
      },
      "execution_count": null,
      "outputs": [
        {
          "output_type": "execute_result",
          "data": {
            "text/plain": [
              "False"
            ]
          },
          "metadata": {},
          "execution_count": 53
        }
      ]
    },
    {
      "cell_type": "code",
      "metadata": {
        "colab": {
          "base_uri": "https://localhost:8080/"
        },
        "id": "1SLBx_Lia4hc",
        "outputId": "85b3b6e8-fff3-41ae-d93f-e330f7fe0c8e"
      },
      "source": [
        "string=\"PythonProgrammingLanguagewasfoundedin1991\"\n",
        "string.isalnum() # it won't accept and special character. not even space"
      ],
      "execution_count": null,
      "outputs": [
        {
          "output_type": "execute_result",
          "data": {
            "text/plain": [
              "True"
            ]
          },
          "metadata": {},
          "execution_count": 54
        }
      ]
    },
    {
      "cell_type": "code",
      "metadata": {
        "colab": {
          "base_uri": "https://localhost:8080/"
        },
        "id": "cLLCzoCdbRpl",
        "outputId": "e95cd909-68c9-456f-abc0-acb84fb8fcb1"
      },
      "source": [
        "s2=\"Python123\\n acb\"\n",
        "s2.isalpha()"
      ],
      "execution_count": null,
      "outputs": [
        {
          "output_type": "execute_result",
          "data": {
            "text/plain": [
              "False"
            ]
          },
          "metadata": {},
          "execution_count": 55
        }
      ]
    },
    {
      "cell_type": "code",
      "source": [
        "s2=\"Python123\\n acb\"\n",
        "s2.isidentifier()"
      ],
      "metadata": {
        "colab": {
          "base_uri": "https://localhost:8080/"
        },
        "id": "a_i7WnCOzer0",
        "outputId": "1a42465a-f9b6-423c-fcaa-75a5ba3cf448"
      },
      "execution_count": null,
      "outputs": [
        {
          "output_type": "execute_result",
          "data": {
            "text/plain": [
              "False"
            ]
          },
          "metadata": {},
          "execution_count": 58
        }
      ]
    },
    {
      "cell_type": "code",
      "metadata": {
        "colab": {
          "base_uri": "https://localhost:8080/"
        },
        "id": "mwvKWp9mbjBb",
        "outputId": "d29e0a86-35c2-4833-d51d-1362ca38d244"
      },
      "source": [
        "#identifier check for 0-9,a-z, _\n",
        "s2=\"Python123\"\n",
        "s2.isidentifier()"
      ],
      "execution_count": null,
      "outputs": [
        {
          "output_type": "execute_result",
          "data": {
            "text/plain": [
              "True"
            ]
          },
          "metadata": {},
          "execution_count": 57
        }
      ]
    },
    {
      "cell_type": "code",
      "metadata": {
        "colab": {
          "base_uri": "https://localhost:8080/"
        },
        "id": "Da44bTnqb2Pv",
        "outputId": "6952b1a6-bf36-4c92-d940-6cd33e98d06e"
      },
      "source": [
        "s2.isprintable()"
      ],
      "execution_count": null,
      "outputs": [
        {
          "output_type": "execute_result",
          "data": {
            "text/plain": [
              "False"
            ]
          },
          "metadata": {},
          "execution_count": 59
        }
      ]
    },
    {
      "cell_type": "code",
      "metadata": {
        "colab": {
          "base_uri": "https://localhost:8080/"
        },
        "id": "w3iiolV0cDB9",
        "outputId": "231be858-aa4a-484c-965f-8ea71c1427e3"
      },
      "source": [
        "s3=\"letter\"\n",
        "s3.istitle()"
      ],
      "execution_count": null,
      "outputs": [
        {
          "output_type": "execute_result",
          "data": {
            "text/plain": [
              "False"
            ]
          },
          "metadata": {},
          "execution_count": 60
        }
      ]
    },
    {
      "cell_type": "code",
      "source": [
        "s3=\"Letter\"\n",
        "s3.istitle()"
      ],
      "metadata": {
        "colab": {
          "base_uri": "https://localhost:8080/"
        },
        "id": "9kYkX4ebznpW",
        "outputId": "9d241eb0-a918-4fc5-fb42-6f4eec4916b9"
      },
      "execution_count": null,
      "outputs": [
        {
          "output_type": "execute_result",
          "data": {
            "text/plain": [
              "True"
            ]
          },
          "metadata": {},
          "execution_count": 62
        }
      ]
    },
    {
      "cell_type": "markdown",
      "metadata": {
        "id": "yDsbWdhXSdu7"
      },
      "source": [
        "#### capitalize,casefold,upper,lower,swapcase,title"
      ]
    },
    {
      "cell_type": "code",
      "metadata": {
        "colab": {
          "base_uri": "https://localhost:8080/"
        },
        "id": "D7VqnLZ6Ssom",
        "outputId": "a7add42e-cbb7-475e-da96-cf15a31b960d"
      },
      "source": [
        "c\n",
        "print(s1.upper())\n",
        "print(s1)"
      ],
      "execution_count": null,
      "outputs": [
        {
          "output_type": "stream",
          "name": "stdout",
          "text": [
            "PYTHON PROGRAMMING LANGUAGE. HELLO\n",
            "Python programming language. Hello\n"
          ]
        }
      ]
    },
    {
      "cell_type": "code",
      "source": [
        "s1 = s1.upper()\n",
        "s1"
      ],
      "metadata": {
        "colab": {
          "base_uri": "https://localhost:8080/",
          "height": 36
        },
        "id": "8k_sJnHyz_1X",
        "outputId": "7cbfd790-8dbe-4cea-c894-86ed73292415"
      },
      "execution_count": null,
      "outputs": [
        {
          "output_type": "execute_result",
          "data": {
            "application/vnd.google.colaboratory.intrinsic+json": {
              "type": "string"
            },
            "text/plain": [
              "'PYTHON PROGRAMMING LANGUAGE. HELLO'"
            ]
          },
          "metadata": {},
          "execution_count": 66
        }
      ]
    },
    {
      "cell_type": "code",
      "metadata": {
        "colab": {
          "base_uri": "https://localhost:8080/",
          "height": 54
        },
        "id": "l_GpXLVjceQh",
        "outputId": "f6e77e70-82c6-45d8-f9cc-718f08bf9d96"
      },
      "source": [
        "print(s1)\n",
        "s1.lower()"
      ],
      "execution_count": null,
      "outputs": [
        {
          "output_type": "stream",
          "name": "stdout",
          "text": [
            "PYTHON PROGRAMMING LANGUAGE. HELLO\n"
          ]
        },
        {
          "output_type": "execute_result",
          "data": {
            "application/vnd.google.colaboratory.intrinsic+json": {
              "type": "string"
            },
            "text/plain": [
              "'python programming language. hello'"
            ]
          },
          "metadata": {},
          "execution_count": 67
        }
      ]
    },
    {
      "cell_type": "code",
      "metadata": {
        "colab": {
          "base_uri": "https://localhost:8080/",
          "height": 36
        },
        "id": "fKUmEpzecgl0",
        "outputId": "cbd350ad-47f4-4565-b373-ebb225a209d5"
      },
      "source": [
        "s1=\"Python programming language. Hello\"\n",
        "s1.swapcase()"
      ],
      "execution_count": null,
      "outputs": [
        {
          "output_type": "execute_result",
          "data": {
            "application/vnd.google.colaboratory.intrinsic+json": {
              "type": "string"
            },
            "text/plain": [
              "'pYTHON PROGRAMMING LANGUAGE. hELLO'"
            ]
          },
          "metadata": {},
          "execution_count": 69
        }
      ]
    },
    {
      "cell_type": "code",
      "metadata": {
        "colab": {
          "base_uri": "https://localhost:8080/",
          "height": 36
        },
        "id": "HlEaIa1PcscS",
        "outputId": "5d477ed7-26b2-4d81-a614-4cfeafe9285c"
      },
      "source": [
        "s1.title()"
      ],
      "execution_count": null,
      "outputs": [
        {
          "output_type": "execute_result",
          "data": {
            "application/vnd.google.colaboratory.intrinsic+json": {
              "type": "string"
            },
            "text/plain": [
              "'Python Programming Language. Hello'"
            ]
          },
          "metadata": {},
          "execution_count": 70
        }
      ]
    },
    {
      "cell_type": "code",
      "metadata": {
        "colab": {
          "base_uri": "https://localhost:8080/",
          "height": 36
        },
        "id": "bViXt3NAcvcq",
        "outputId": "735eaf53-6daa-4dd6-8d42-557443722fb4"
      },
      "source": [
        "s1.capitalize()"
      ],
      "execution_count": null,
      "outputs": [
        {
          "output_type": "execute_result",
          "data": {
            "application/vnd.google.colaboratory.intrinsic+json": {
              "type": "string"
            },
            "text/plain": [
              "'Python programming language. hello'"
            ]
          },
          "metadata": {},
          "execution_count": 71
        }
      ]
    },
    {
      "cell_type": "code",
      "metadata": {
        "colab": {
          "base_uri": "https://localhost:8080/",
          "height": 36
        },
        "id": "Iqyk1dhYc0BW",
        "outputId": "7e5eb51e-53bd-4856-cf2a-2680f6ce4396"
      },
      "source": [
        "s1.casefold()"
      ],
      "execution_count": null,
      "outputs": [
        {
          "output_type": "execute_result",
          "data": {
            "application/vnd.google.colaboratory.intrinsic+json": {
              "type": "string"
            },
            "text/plain": [
              "'python programming language. hello'"
            ]
          },
          "metadata": {},
          "execution_count": 72
        }
      ]
    },
    {
      "cell_type": "markdown",
      "metadata": {
        "id": "BPQcoGvcS1N7"
      },
      "source": [
        "#### join,replace,expandtabs"
      ]
    },
    {
      "cell_type": "code",
      "metadata": {
        "colab": {
          "base_uri": "https://localhost:8080/",
          "height": 54
        },
        "id": "VENMnulnS5mD",
        "outputId": "83bd1e19-b02a-42a7-8e3a-95636a4488da"
      },
      "source": [
        "s1=\"Python\"\n",
        "s2=\"-* \"\n",
        "print(s1.join(s2))\n",
        "s2.join(s1)"
      ],
      "execution_count": null,
      "outputs": [
        {
          "output_type": "stream",
          "name": "stdout",
          "text": [
            "-Python*Python \n"
          ]
        },
        {
          "output_type": "execute_result",
          "data": {
            "application/vnd.google.colaboratory.intrinsic+json": {
              "type": "string"
            },
            "text/plain": [
              "'P-* y-* t-* h-* o-* n'"
            ]
          },
          "metadata": {},
          "execution_count": 74
        }
      ]
    },
    {
      "cell_type": "code",
      "source": [
        "s3=\"India is a great \\t country\"\n",
        "print(s3[4])\n",
        "s3[4]=\"A\"\n",
        "s3"
      ],
      "metadata": {
        "colab": {
          "base_uri": "https://localhost:8080/",
          "height": 247
        },
        "id": "lbYqdmBc0uX8",
        "outputId": "2c8c1483-cfec-4ef6-df6d-c1794a719221"
      },
      "execution_count": null,
      "outputs": [
        {
          "output_type": "stream",
          "name": "stdout",
          "text": [
            "a\n"
          ]
        },
        {
          "output_type": "error",
          "ename": "TypeError",
          "evalue": "ignored",
          "traceback": [
            "\u001b[0;31m---------------------------------------------------------------------------\u001b[0m",
            "\u001b[0;31mTypeError\u001b[0m                                 Traceback (most recent call last)",
            "\u001b[0;32m<ipython-input-75-e48cf83c9b93>\u001b[0m in \u001b[0;36m<module>\u001b[0;34m()\u001b[0m\n\u001b[1;32m      1\u001b[0m \u001b[0ms3\u001b[0m\u001b[0;34m=\u001b[0m\u001b[0;34m\"India is a great \\t country\"\u001b[0m\u001b[0;34m\u001b[0m\u001b[0;34m\u001b[0m\u001b[0m\n\u001b[1;32m      2\u001b[0m \u001b[0mprint\u001b[0m\u001b[0;34m(\u001b[0m\u001b[0ms3\u001b[0m\u001b[0;34m[\u001b[0m\u001b[0;36m4\u001b[0m\u001b[0;34m]\u001b[0m\u001b[0;34m)\u001b[0m\u001b[0;34m\u001b[0m\u001b[0;34m\u001b[0m\u001b[0m\n\u001b[0;32m----> 3\u001b[0;31m \u001b[0ms3\u001b[0m\u001b[0;34m[\u001b[0m\u001b[0;36m4\u001b[0m\u001b[0;34m]\u001b[0m\u001b[0;34m=\u001b[0m\u001b[0;34m\"A\"\u001b[0m\u001b[0;34m\u001b[0m\u001b[0;34m\u001b[0m\u001b[0m\n\u001b[0m\u001b[1;32m      4\u001b[0m \u001b[0ms3\u001b[0m\u001b[0;34m\u001b[0m\u001b[0;34m\u001b[0m\u001b[0m\n",
            "\u001b[0;31mTypeError\u001b[0m: 'str' object does not support item assignment"
          ]
        }
      ]
    },
    {
      "cell_type": "code",
      "metadata": {
        "colab": {
          "base_uri": "https://localhost:8080/"
        },
        "id": "Dn0oAMbEdm_2",
        "outputId": "4334d49e-2c6d-44c4-d9fd-3f03fa6f139e"
      },
      "source": [
        "s3=\"India is a great \\t country\"\n",
        "print(s3.replace(\"country\",\"nation\"))\n",
        "print(s3)"
      ],
      "execution_count": null,
      "outputs": [
        {
          "output_type": "stream",
          "name": "stdout",
          "text": [
            "India is a great \t nation\n",
            "India is a great \t country\n"
          ]
        }
      ]
    },
    {
      "cell_type": "code",
      "metadata": {
        "colab": {
          "base_uri": "https://localhost:8080/"
        },
        "id": "w-DhTfR0eGjy",
        "outputId": "b43831ee-4319-4de6-f153-6181826b5445"
      },
      "source": [
        "s3=s3.replace(\"country\",\"nation\")\n",
        "print(s3)"
      ],
      "execution_count": null,
      "outputs": [
        {
          "output_type": "stream",
          "name": "stdout",
          "text": [
            "India is a great \t nation\n"
          ]
        }
      ]
    },
    {
      "cell_type": "code",
      "source": [
        "l=[422,66,93]\n",
        "l.sort()"
      ],
      "metadata": {
        "id": "wu8OciyQ1TV2"
      },
      "execution_count": null,
      "outputs": []
    },
    {
      "cell_type": "code",
      "source": [
        "l"
      ],
      "metadata": {
        "colab": {
          "base_uri": "https://localhost:8080/"
        },
        "id": "VJjL0nRb1ZU_",
        "outputId": "6e7cfe90-670b-44ac-b067-28ec7de51e50"
      },
      "execution_count": null,
      "outputs": [
        {
          "output_type": "execute_result",
          "data": {
            "text/plain": [
              "[66, 93, 422]"
            ]
          },
          "metadata": {},
          "execution_count": 83
        }
      ]
    },
    {
      "cell_type": "code",
      "metadata": {
        "colab": {
          "base_uri": "https://localhost:8080/",
          "height": 36
        },
        "id": "ushin_Lnd7rv",
        "outputId": "069205c0-adf6-4aa5-f29a-6ba8a064c854"
      },
      "source": [
        "s3.expandtabs()\n"
      ],
      "execution_count": null,
      "outputs": [
        {
          "output_type": "execute_result",
          "data": {
            "application/vnd.google.colaboratory.intrinsic+json": {
              "type": "string"
            },
            "text/plain": [
              "'India is a great         nation'"
            ]
          },
          "metadata": {},
          "execution_count": 84
        }
      ]
    },
    {
      "cell_type": "markdown",
      "metadata": {
        "id": "ChWidKU0S59b"
      },
      "source": [
        "#### lstrip,rstrip,strip,split,splitlines"
      ]
    },
    {
      "cell_type": "code",
      "metadata": {
        "colab": {
          "base_uri": "https://localhost:8080/",
          "height": 36
        },
        "id": "k0BuhICSTLDD",
        "outputId": "5e0dda54-c29e-41e9-bf87-c8d6a8bd5c72"
      },
      "source": [
        "c\n",
        "string.strip(\"Pyt\")"
      ],
      "execution_count": null,
      "outputs": [
        {
          "output_type": "execute_result",
          "data": {
            "application/vnd.google.colaboratory.intrinsic+json": {
              "type": "string"
            },
            "text/plain": [
              "'hon Programming Language'"
            ]
          },
          "metadata": {},
          "execution_count": 85
        }
      ]
    },
    {
      "cell_type": "code",
      "source": [
        "string"
      ],
      "metadata": {
        "colab": {
          "base_uri": "https://localhost:8080/",
          "height": 36
        },
        "id": "3XPB1E8A1zTX",
        "outputId": "26b6d7e1-72f6-4fac-e7a6-2fcd0f3023e9"
      },
      "execution_count": null,
      "outputs": [
        {
          "output_type": "execute_result",
          "data": {
            "application/vnd.google.colaboratory.intrinsic+json": {
              "type": "string"
            },
            "text/plain": [
              "'Python Programming Language'"
            ]
          },
          "metadata": {},
          "execution_count": 86
        }
      ]
    },
    {
      "cell_type": "code",
      "metadata": {
        "colab": {
          "base_uri": "https://localhost:8080/",
          "height": 36
        },
        "id": "2lc7GzB_fEv4",
        "outputId": "708c5790-d62e-45dc-927a-e9599cecec1e"
      },
      "source": [
        "string.strip(\"Ta\")"
      ],
      "execution_count": null,
      "outputs": [
        {
          "output_type": "execute_result",
          "data": {
            "application/vnd.google.colaboratory.intrinsic+json": {
              "type": "string"
            },
            "text/plain": [
              "'Python Programming Language'"
            ]
          },
          "metadata": {},
          "execution_count": 87
        }
      ]
    },
    {
      "cell_type": "code",
      "metadata": {
        "colab": {
          "base_uri": "https://localhost:8080/",
          "height": 36
        },
        "id": "PpRs4BxLfLKe",
        "outputId": "1f15d14b-221d-419d-d6aa-07bf52c459d3"
      },
      "source": [
        "string.lstrip(\"Py\")"
      ],
      "execution_count": null,
      "outputs": [
        {
          "output_type": "execute_result",
          "data": {
            "application/vnd.google.colaboratory.intrinsic+json": {
              "type": "string"
            },
            "text/plain": [
              "'thon Programming Language'"
            ]
          },
          "metadata": {},
          "execution_count": 88
        }
      ]
    },
    {
      "cell_type": "code",
      "metadata": {
        "colab": {
          "base_uri": "https://localhost:8080/",
          "height": 36
        },
        "id": "04s83NM9fQiF",
        "outputId": "6721e21c-33e9-4862-ad9c-a5fb67a20ad3"
      },
      "source": [
        "string.lstrip(\"T\")"
      ],
      "execution_count": null,
      "outputs": [
        {
          "output_type": "execute_result",
          "data": {
            "application/vnd.google.colaboratory.intrinsic+json": {
              "type": "string"
            },
            "text/plain": [
              "'Python Programming Language'"
            ]
          },
          "metadata": {},
          "execution_count": 89
        }
      ]
    },
    {
      "cell_type": "code",
      "metadata": {
        "colab": {
          "base_uri": "https://localhost:8080/",
          "height": 36
        },
        "id": "ic0ndsUdfTRk",
        "outputId": "b7aae6be-d6ff-444f-e50b-4ae077a2bd77"
      },
      "source": [
        "string.rstrip(\"Py\")"
      ],
      "execution_count": null,
      "outputs": [
        {
          "output_type": "execute_result",
          "data": {
            "application/vnd.google.colaboratory.intrinsic+json": {
              "type": "string"
            },
            "text/plain": [
              "'Python Programming Language'"
            ]
          },
          "metadata": {},
          "execution_count": 90
        }
      ]
    },
    {
      "cell_type": "code",
      "metadata": {
        "colab": {
          "base_uri": "https://localhost:8080/",
          "height": 36
        },
        "id": "WzVtoiKpfWZR",
        "outputId": "6e800cd6-1587-41e2-f13c-dc8636303a85"
      },
      "source": [
        "string.rstrip(\"ge\")"
      ],
      "execution_count": null,
      "outputs": [
        {
          "output_type": "execute_result",
          "data": {
            "application/vnd.google.colaboratory.intrinsic+json": {
              "type": "string"
            },
            "text/plain": [
              "'Python Programming Langua'"
            ]
          },
          "metadata": {},
          "execution_count": 91
        }
      ]
    },
    {
      "cell_type": "code",
      "source": [
        ""
      ],
      "metadata": {
        "id": "L41rYw-V1-qZ"
      },
      "execution_count": null,
      "outputs": []
    },
    {
      "cell_type": "code",
      "source": [
        ""
      ],
      "metadata": {
        "id": "ll1V0xES1-nT"
      },
      "execution_count": null,
      "outputs": []
    },
    {
      "cell_type": "code",
      "source": [
        ""
      ],
      "metadata": {
        "id": "5XdBdWp41-ko"
      },
      "execution_count": null,
      "outputs": []
    },
    {
      "cell_type": "code",
      "metadata": {
        "colab": {
          "base_uri": "https://localhost:8080/"
        },
        "id": "RfuOZsXPemk2",
        "outputId": "1e29fecf-671c-49a7-be06-3aed011b72ca"
      },
      "source": [
        "string=\"Python Programming Lnaguage\"\n",
        "string.split()\n"
      ],
      "execution_count": null,
      "outputs": [
        {
          "output_type": "execute_result",
          "data": {
            "text/plain": [
              "['Python', 'Programming', 'Lnaguage']"
            ]
          },
          "metadata": {},
          "execution_count": 92
        }
      ]
    },
    {
      "cell_type": "code",
      "metadata": {
        "colab": {
          "base_uri": "https://localhost:8080/"
        },
        "id": "79F3RaHgerx5",
        "outputId": "0d07f9f5-eef2-4a3d-96a5-41ba33fbae02"
      },
      "source": [
        "string.split(\"P\")"
      ],
      "execution_count": null,
      "outputs": [
        {
          "output_type": "execute_result",
          "data": {
            "text/plain": [
              "['', 'ython ', 'rogramming Lnaguage']"
            ]
          },
          "metadata": {},
          "execution_count": 94
        }
      ]
    },
    {
      "cell_type": "code",
      "metadata": {
        "colab": {
          "base_uri": "https://localhost:8080/"
        },
        "id": "fymEoMlRfeH1",
        "outputId": "11c41484-1c18-4a75-ed5f-2d1dd09b232f"
      },
      "source": [
        "string.split(\"Py\")"
      ],
      "execution_count": null,
      "outputs": [
        {
          "output_type": "execute_result",
          "data": {
            "text/plain": [
              "['', 'thon Programming Lnaguage']"
            ]
          },
          "metadata": {},
          "execution_count": 95
        }
      ]
    },
    {
      "cell_type": "code",
      "metadata": {
        "colab": {
          "base_uri": "https://localhost:8080/"
        },
        "id": "71_o_hdLfrBK",
        "outputId": "014932d3-e6d4-4052-c785-6f817a838e59"
      },
      "source": [
        "string.splitlines()"
      ],
      "execution_count": null,
      "outputs": [
        {
          "output_type": "execute_result",
          "data": {
            "text/plain": [
              "['Python Programming Lnaguage']"
            ]
          },
          "metadata": {},
          "execution_count": 96
        }
      ]
    },
    {
      "cell_type": "code",
      "metadata": {
        "colab": {
          "base_uri": "https://localhost:8080/"
        },
        "id": "lP5jYfVffhKz",
        "outputId": "d4379156-0396-4d4e-90d3-5fc0465a7615"
      },
      "source": [
        "string2=\"Python programming language. \\n Java programming language\"\n",
        "string2.splitlines()"
      ],
      "execution_count": null,
      "outputs": [
        {
          "output_type": "execute_result",
          "data": {
            "text/plain": [
              "['Python programming language. ', ' Java programming language']"
            ]
          },
          "metadata": {},
          "execution_count": 97
        }
      ]
    },
    {
      "cell_type": "markdown",
      "metadata": {
        "id": "yHfLAU8CTNbF"
      },
      "source": [
        "#### find,rfind,index,rindex"
      ]
    },
    {
      "cell_type": "markdown",
      "metadata": {
        "id": "8ZedWehdltGw"
      },
      "source": [
        "The index() method is similar to find() method for strings. The only difference is that find() method returns -1 if the substring is not found, whereas index() throws an exception."
      ]
    },
    {
      "cell_type": "code",
      "metadata": {
        "colab": {
          "base_uri": "https://localhost:8080/"
        },
        "id": "eoNE0tkglBnT",
        "outputId": "c0ad00bb-e091-44a7-e047-613901a78bb0"
      },
      "source": [
        "string=\"Python L Programming L Language\"\n",
        "print(string.find(\"L\"))\n",
        "print(string.rfind(\"L\"))"
      ],
      "execution_count": null,
      "outputs": [
        {
          "output_type": "stream",
          "name": "stdout",
          "text": [
            "7\n",
            "23\n"
          ]
        }
      ]
    },
    {
      "cell_type": "code",
      "metadata": {
        "colab": {
          "base_uri": "https://localhost:8080/"
        },
        "id": "c8xE82YcTRpf",
        "outputId": "ca609813-20c5-45ed-9268-e0ae821af740"
      },
      "source": [
        "print(string.index(\"L\"))\n",
        "print(string.rindex(\"L\"))"
      ],
      "execution_count": null,
      "outputs": [
        {
          "output_type": "stream",
          "name": "stdout",
          "text": [
            "7\n",
            "23\n"
          ]
        }
      ]
    },
    {
      "cell_type": "code",
      "metadata": {
        "colab": {
          "base_uri": "https://localhost:8080/"
        },
        "id": "S3qF4ZkAlW6Z",
        "outputId": "6fc95093-f442-406e-b4b5-52a87c109246"
      },
      "source": [
        "print(string.find(\"Z\"))\n",
        "print(string.rfind(\"Z\"))"
      ],
      "execution_count": null,
      "outputs": [
        {
          "output_type": "stream",
          "name": "stdout",
          "text": [
            "-1\n",
            "-1\n"
          ]
        }
      ]
    },
    {
      "cell_type": "code",
      "metadata": {
        "colab": {
          "base_uri": "https://localhost:8080/",
          "height": 191
        },
        "id": "qTWNVHHAleKq",
        "outputId": "10098c21-9d9f-4dc6-d679-ed9c7d5cc12f"
      },
      "source": [
        "print(string.index(\"Z\"))\n",
        "print(string.rindex(\"Z\"))"
      ],
      "execution_count": null,
      "outputs": [
        {
          "output_type": "error",
          "ename": "ValueError",
          "evalue": "ignored",
          "traceback": [
            "\u001b[0;31m---------------------------------------------------------------------------\u001b[0m",
            "\u001b[0;31mValueError\u001b[0m                                Traceback (most recent call last)",
            "\u001b[0;32m<ipython-input-101-d9a96f2e1e70>\u001b[0m in \u001b[0;36m<module>\u001b[0;34m()\u001b[0m\n\u001b[0;32m----> 1\u001b[0;31m \u001b[0mprint\u001b[0m\u001b[0;34m(\u001b[0m\u001b[0mstring\u001b[0m\u001b[0;34m.\u001b[0m\u001b[0mindex\u001b[0m\u001b[0;34m(\u001b[0m\u001b[0;34m\"Z\"\u001b[0m\u001b[0;34m)\u001b[0m\u001b[0;34m)\u001b[0m\u001b[0;34m\u001b[0m\u001b[0;34m\u001b[0m\u001b[0m\n\u001b[0m\u001b[1;32m      2\u001b[0m \u001b[0mprint\u001b[0m\u001b[0;34m(\u001b[0m\u001b[0mstring\u001b[0m\u001b[0;34m.\u001b[0m\u001b[0mrindex\u001b[0m\u001b[0;34m(\u001b[0m\u001b[0;34m\"Z\"\u001b[0m\u001b[0;34m)\u001b[0m\u001b[0;34m)\u001b[0m\u001b[0;34m\u001b[0m\u001b[0;34m\u001b[0m\u001b[0m\n",
            "\u001b[0;31mValueError\u001b[0m: substring not found"
          ]
        }
      ]
    },
    {
      "cell_type": "markdown",
      "metadata": {
        "id": "SUGvWyoDVr5s"
      },
      "source": [
        "### String exercies\n"
      ]
    },
    {
      "cell_type": "markdown",
      "metadata": {
        "id": "sn2EC8TCVuUQ"
      },
      "source": [
        "Write a python program to count number of words in a given string"
      ]
    },
    {
      "cell_type": "code",
      "source": [
        "s=\"India (Hindi: Bhārat), officially the Republic of \n",
        "India (Hindi: Bhārat Gaṇarājya),[23] is a country in South Asia. \n",
        "It is the second-most populous country, the seventh-largest country by land area, \n",
        "and the most populous democracy in the world. Bounded by the Indian Ocean on the south, \n",
        "the Arabian Sea on the southwest, and the Bay of Bengal on the southeast, it shares land borders \n",
        "with Pakistan to the west;[f] China, Nepal, and Bhutan to the north; and Bangladesh and Myanmar to the east. \n",
        "In the Indian Ocean, India is in the vicinity of Sri Lanka and the Maldives; its Andaman and Nicobar Islands \n",
        "share a maritime border with Thailand, Myanmar and Indonesia. \"\n"
      ],
      "metadata": {
        "colab": {
          "base_uri": "https://localhost:8080/",
          "height": 136
        },
        "id": "mXdbFGWb3Tah",
        "outputId": "4bb0adca-918c-450e-a949-b9962f89c168"
      },
      "execution_count": null,
      "outputs": [
        {
          "output_type": "error",
          "ename": "SyntaxError",
          "evalue": "ignored",
          "traceback": [
            "\u001b[0;36m  File \u001b[0;32m\"<ipython-input-102-f37b927e77f1>\"\u001b[0;36m, line \u001b[0;32m1\u001b[0m\n\u001b[0;31m    s=\"India (Hindi: Bhārat), officially the Republic of\u001b[0m\n\u001b[0m                                                         ^\u001b[0m\n\u001b[0;31mSyntaxError\u001b[0m\u001b[0;31m:\u001b[0m EOL while scanning string literal\n"
          ]
        }
      ]
    },
    {
      "cell_type": "code",
      "metadata": {
        "id": "y5EpFJvgV08l",
        "colab": {
          "base_uri": "https://localhost:8080/",
          "height": 128
        },
        "outputId": "7ff76ae3-0567-47b4-ef80-be3befbb4abe"
      },
      "source": [
        "s=\"\"\"India (Hindi: Bhārat), officially the Republic of \n",
        "India (Hindi: Bhārat Gaṇarājya),[23] is a country in South Asia. \n",
        "It is the second-most populous country, the seventh-largest country by land area, \n",
        "and the most populous democracy in the world. Bounded by the Indian Ocean on the south, \n",
        "the Arabian Sea on the southwest, and the Bay of Bengal on the southeast, it shares land borders \n",
        "with Pakistan to the west;[f] China, Nepal, and Bhutan to the north; and Bangladesh and Myanmar to the east. \n",
        "In the Indian Ocean, India is in the vicinity of Sri Lanka and the Maldives; its Andaman and Nicobar Islands \n",
        "share a maritime border with Thailand, Myanmar and Indonesia. \"\"\"\n",
        "s"
      ],
      "execution_count": null,
      "outputs": [
        {
          "output_type": "execute_result",
          "data": {
            "application/vnd.google.colaboratory.intrinsic+json": {
              "type": "string"
            },
            "text/plain": [
              "'India (Hindi: Bhārat), officially the Republic of \\nIndia (Hindi: Bhārat Gaṇarājya),[23] is a country in South Asia. \\nIt is the second-most populous country, the seventh-largest country by land area, \\nand the most populous democracy in the world. Bounded by the Indian Ocean on the south, \\nthe Arabian Sea on the southwest, and the Bay of Bengal on the southeast, it shares land borders \\nwith Pakistan to the west;[f] China, Nepal, and Bhutan to the north; and Bangladesh and Myanmar to the east. \\nIn the Indian Ocean, India is in the vicinity of Sri Lanka and the Maldives; its Andaman and Nicobar Islands \\nshare a maritime border with Thailand, Myanmar and Indonesia. '"
            ]
          },
          "metadata": {},
          "execution_count": 104
        }
      ]
    },
    {
      "cell_type": "markdown",
      "metadata": {
        "id": "yp_zCwoYV1KH"
      },
      "source": [
        "Write a program to count number of digits in a given string. Write a Python program to compute sum of digits of a given string."
      ]
    },
    {
      "cell_type": "code",
      "metadata": {
        "id": "6BQR0hEKV55M"
      },
      "source": [
        ""
      ],
      "execution_count": null,
      "outputs": []
    },
    {
      "cell_type": "code",
      "source": [
        ""
      ],
      "metadata": {
        "id": "qAX0dAI73umd"
      },
      "execution_count": null,
      "outputs": []
    },
    {
      "cell_type": "markdown",
      "metadata": {
        "id": "gFlC4DtiV6Zm"
      },
      "source": [
        "Write a Python program to count occurrences of a substring in a string"
      ]
    },
    {
      "cell_type": "code",
      "metadata": {
        "id": "sBSnWM9gV-KB"
      },
      "source": [
        "s=\"Python is a programming language based on interepreter\"\n",
        "ss=\"on\""
      ],
      "execution_count": null,
      "outputs": []
    },
    {
      "cell_type": "markdown",
      "metadata": {
        "id": "-LTK98LuV-bz"
      },
      "source": [
        "Write a Python program to reverse words in a string and not the order of words"
      ]
    },
    {
      "cell_type": "code",
      "metadata": {
        "id": "jf_mf9FNWDv_"
      },
      "source": [
        ""
      ],
      "execution_count": null,
      "outputs": []
    },
    {
      "cell_type": "markdown",
      "metadata": {
        "id": "jnUjYxwPWEJL"
      },
      "source": [
        "Write a Python program to count repeated characters in a string\n",
        "Sample string: 'thequickbrownfoxjumpsoverthelazydog'\n",
        "Expected output :\n",
        "o 4\n",
        "e 3\n",
        "u 2\n",
        "h 2\n",
        "r 2\n",
        "t 2"
      ]
    },
    {
      "cell_type": "code",
      "metadata": {
        "id": "Ga5271EQWK-0"
      },
      "source": [
        ""
      ],
      "execution_count": null,
      "outputs": []
    },
    {
      "cell_type": "markdown",
      "metadata": {
        "id": "HCV6slXAWLSB"
      },
      "source": [
        "Write a python program to check validity of a password\n",
        "\n",
        "\n",
        "\n",
        "```\n",
        "1.password should have atleast 1 capital letter\n",
        "2.password should have atleast 1 small letter\n",
        "3.password should atleast have 6 letters\n",
        "4.password should have atleast 1 number\n",
        "5.password should have atleast 1 special character\n",
        "6.password's lenght should be atleast 8\n",
        "\n",
        "```\n",
        "\n",
        "\n",
        "\n"
      ]
    },
    {
      "cell_type": "code",
      "metadata": {
        "id": "9WCtikBzWUwD",
        "colab": {
          "base_uri": "https://localhost:8080/"
        },
        "outputId": "6937c232-c43f-4dd2-ffaa-e83b61f4094b"
      },
      "source": [
        "ul=0\n",
        "ll=0\n",
        "n=0\n",
        "sp_ch=\"!@#$%^&*()<>:{}[],.;:/*-+_\"\n",
        "spc=0\n",
        "password=input(\"Create a password:\")\n",
        "if len(password)>=8:\n",
        "    for el in password:\n",
        "        if el.isupper():\n",
        "            ul=ul+1\n",
        "        elif el.islower():\n",
        "            ll=ll+1\n",
        "        elif el.isdigit():\n",
        "            n=n+1\n",
        "        elif el in sp_ch:\n",
        "            spc=spc+1\n",
        "    if ((ul>=1) and (ll>=1) and ((ul+ll)>=6) and (n>=1) and (spc>=1)):\n",
        "        print(\"password accepted\")\n",
        "    else:\n",
        "        print(\"Please create a strong password.\")\n",
        "        print(ul,ll,n,spc,len(password),ul+ll)\n",
        "else:\n",
        "    print(\"Create a password with alteast 8 characters\")    "
      ],
      "execution_count": null,
      "outputs": [
        {
          "output_type": "stream",
          "name": "stdout",
          "text": [
            "Create a password:145987\n",
            "Create a password with alteast 8 characters\n"
          ]
        }
      ]
    },
    {
      "cell_type": "code",
      "source": [
        "rules=\"\"\"1.password should have atleast 1 capital letter\n",
        "2.password should have atleast 1 small letter\n",
        "3.password should atleast have 6 letters\n",
        "4.password should have atleast 1 number\n",
        "5.password should have atleast 1 special character\n",
        "6.password's lenght should be atleast 8\"\"\"\n",
        "ul=0\n",
        "ll=0\n",
        "n=0\n",
        "sp_ch=\"!@#$%^&*()<>:{}[],.;:/*-+_\"\n",
        "spc=0\n",
        "password=input(\"Create a password:\")\n",
        "if len(password)>=8:\n",
        "    for el in password:\n",
        "        if el.isupper():\n",
        "            ul=ul+1\n",
        "        elif el.islower():\n",
        "            ll=ll+1\n",
        "        elif el.isdigit():\n",
        "            n=n+1\n",
        "        elif el in sp_ch:\n",
        "            spc=spc+1\n",
        "    if ((ul>=1) and (ll>=1) and ((ul+ll)>=6) and (n>=1) and (spc>=1)):\n",
        "        print(\"password accepted\")\n",
        "    else:\n",
        "        print(\"Please create a strong password.\")\n",
        "        print(rules)\n",
        "else:\n",
        "    print(\"Create a password with alteast 8 characters\")    "
      ],
      "metadata": {
        "colab": {
          "base_uri": "https://localhost:8080/"
        },
        "id": "eM_-WsKq5QHx",
        "outputId": "46fd030c-12d2-4e72-cc6f-f1262a8a69a1"
      },
      "execution_count": null,
      "outputs": [
        {
          "output_type": "stream",
          "name": "stdout",
          "text": [
            "Create a password:password123\n",
            "Please create a strong password.\n",
            "1.password should have atleast 1 capital letter\n",
            "2.password should have atleast 1 small letter\n",
            "3.password should atleast have 6 letters\n",
            "4.password should have atleast 1 number\n",
            "5.password should have atleast 1 special character\n",
            "6.password's lenght should be atleast 8\n"
          ]
        }
      ]
    },
    {
      "cell_type": "code",
      "source": [
        "rules=\"\"\"1.password should have atleast 1 capital letter\n",
        "2.password should have atleast 1 small letter\n",
        "3.password should atleast have 6 letters\n",
        "4.password should have atleast 1 number\n",
        "5.password should have atleast 1 special character\n",
        "6.password's lenght should be atleast 8\"\"\"\n",
        "ul=0\n",
        "ll=0\n",
        "n=0\n",
        "sp_ch=\"!@#$%^&*()<>:{}[],.;:/*-+_\"\n",
        "spc=0\n",
        "password=input(\"Create a password:\")\n",
        "if len(password)>=8:\n",
        "    for el in password:\n",
        "        if el.isupper():\n",
        "            ul=ul+1\n",
        "        elif el.islower():\n",
        "            ll=ll+1\n",
        "        elif el.isdigit():\n",
        "            n=n+1\n",
        "        elif el in sp_ch:\n",
        "            spc=spc+1\n",
        "    if ((ul>=1) and (ll>=1) and ((ul+ll)>=6) and (n>=1) and (spc>=1)):\n",
        "        print(\"password accepted\")\n",
        "    else:\n",
        "        print(\"Please create a strong password.\")\n",
        "        print(rules)\n",
        "else:\n",
        "    print(\"Create a password with alteast 8 characters\")    "
      ],
      "metadata": {
        "colab": {
          "base_uri": "https://localhost:8080/"
        },
        "id": "0GwVxXWh5fIU",
        "outputId": "276a98d7-4db0-4920-bfa1-4a5775991863"
      },
      "execution_count": null,
      "outputs": [
        {
          "output_type": "stream",
          "name": "stdout",
          "text": [
            "Create a password:Password.123\n",
            "password accepted\n"
          ]
        }
      ]
    },
    {
      "cell_type": "markdown",
      "metadata": {
        "id": "ONuvfanEWU_o"
      },
      "source": [
        "Write a python program to generate a strong password\n",
        "\n",
        "\n",
        "```\n",
        "1.password should have atleast 1 capital letter\n",
        "2.password should have atleast 1 small letter\n",
        "3.password should atleast have 6 letters\n",
        "4.password should have atleast 1 number\n",
        "5.password should have atleast 1 special character\n",
        "6.password's lenght should be atleast 8\n",
        "```\n",
        "\n"
      ]
    },
    {
      "cell_type": "code",
      "source": [
        "import random\n",
        "dir(random)"
      ],
      "metadata": {
        "colab": {
          "base_uri": "https://localhost:8080/"
        },
        "id": "JLMhBreF5wkF",
        "outputId": "78644e3f-5d0a-45ab-da5c-8857621f7764"
      },
      "execution_count": null,
      "outputs": [
        {
          "output_type": "execute_result",
          "data": {
            "text/plain": [
              "['BPF',\n",
              " 'LOG4',\n",
              " 'NV_MAGICCONST',\n",
              " 'RECIP_BPF',\n",
              " 'Random',\n",
              " 'SG_MAGICCONST',\n",
              " 'SystemRandom',\n",
              " 'TWOPI',\n",
              " '_BuiltinMethodType',\n",
              " '_MethodType',\n",
              " '_Sequence',\n",
              " '_Set',\n",
              " '__all__',\n",
              " '__builtins__',\n",
              " '__cached__',\n",
              " '__doc__',\n",
              " '__file__',\n",
              " '__loader__',\n",
              " '__name__',\n",
              " '__package__',\n",
              " '__spec__',\n",
              " '_acos',\n",
              " '_bisect',\n",
              " '_ceil',\n",
              " '_cos',\n",
              " '_e',\n",
              " '_exp',\n",
              " '_inst',\n",
              " '_itertools',\n",
              " '_log',\n",
              " '_os',\n",
              " '_pi',\n",
              " '_random',\n",
              " '_sha512',\n",
              " '_sin',\n",
              " '_sqrt',\n",
              " '_test',\n",
              " '_test_generator',\n",
              " '_urandom',\n",
              " '_warn',\n",
              " 'betavariate',\n",
              " 'choice',\n",
              " 'choices',\n",
              " 'expovariate',\n",
              " 'gammavariate',\n",
              " 'gauss',\n",
              " 'getrandbits',\n",
              " 'getstate',\n",
              " 'lognormvariate',\n",
              " 'normalvariate',\n",
              " 'paretovariate',\n",
              " 'randint',\n",
              " 'random',\n",
              " 'randrange',\n",
              " 'sample',\n",
              " 'seed',\n",
              " 'setstate',\n",
              " 'shuffle',\n",
              " 'triangular',\n",
              " 'uniform',\n",
              " 'vonmisesvariate',\n",
              " 'weibullvariate']"
            ]
          },
          "metadata": {},
          "execution_count": 109
        }
      ]
    },
    {
      "cell_type": "code",
      "metadata": {
        "id": "Evx9hb5gWZ55",
        "colab": {
          "base_uri": "https://localhost:8080/"
        },
        "outputId": "80a7f53b-564a-4b52-f05d-a71a5c60c57b"
      },
      "source": [
        "l=[45,90,12,67]\n",
        "random.choice(l)"
      ],
      "execution_count": null,
      "outputs": [
        {
          "output_type": "execute_result",
          "data": {
            "text/plain": [
              "45"
            ]
          },
          "metadata": {},
          "execution_count": 113
        }
      ]
    },
    {
      "cell_type": "code",
      "source": [
        "sp=\"!@#$%^&*()<>:{}[],.;:/*-+_\"\n",
        "random.choice(sp)"
      ],
      "metadata": {
        "colab": {
          "base_uri": "https://localhost:8080/",
          "height": 36
        },
        "id": "kaCOVlx16FT4",
        "outputId": "5b334cc8-83fe-41e8-b500-6cae6e31e9d7"
      },
      "execution_count": null,
      "outputs": [
        {
          "output_type": "execute_result",
          "data": {
            "application/vnd.google.colaboratory.intrinsic+json": {
              "type": "string"
            },
            "text/plain": [
              "'@'"
            ]
          },
          "metadata": {},
          "execution_count": 114
        }
      ]
    },
    {
      "cell_type": "code",
      "source": [
        ""
      ],
      "metadata": {
        "id": "Q7v62TY46LIj"
      },
      "execution_count": null,
      "outputs": []
    },
    {
      "cell_type": "markdown",
      "metadata": {
        "id": "iE8VwqYLWaL4"
      },
      "source": [
        "Write a Python program to swap comma and dot in a string"
      ]
    },
    {
      "cell_type": "code",
      "metadata": {
        "id": "trydeN1WWhKE",
        "colab": {
          "base_uri": "https://localhost:8080/",
          "height": 36
        },
        "outputId": "aa739b58-54c1-44fa-ab3b-5dea664c8e62"
      },
      "source": [
        "string=\"123.685,96.321,65\"\n",
        "string=string.replace(\".\",\"_\")\n",
        "string=string.replace(\",\",\".\")\n",
        "string=string.replace(\"_\",\",\")\n",
        "string"
      ],
      "execution_count": null,
      "outputs": [
        {
          "output_type": "execute_result",
          "data": {
            "application/vnd.google.colaboratory.intrinsic+json": {
              "type": "string"
            },
            "text/plain": [
              "'123,685.96,321.65'"
            ]
          },
          "metadata": {},
          "execution_count": 115
        }
      ]
    },
    {
      "cell_type": "markdown",
      "metadata": {
        "id": "zgBYyOp-Whed"
      },
      "source": [
        "Write a Python program to find the first non-repeating character in given string"
      ]
    },
    {
      "cell_type": "code",
      "metadata": {
        "id": "WoXn-1izWmTd"
      },
      "source": [
        "s=\"Python Programming language\""
      ],
      "execution_count": null,
      "outputs": []
    },
    {
      "cell_type": "markdown",
      "metadata": {
        "id": "-OhxPx0fWmsy"
      },
      "source": [
        "Write a Python program to find the maximum occurring character in a given string"
      ]
    },
    {
      "cell_type": "code",
      "metadata": {
        "id": "Gvk6K5c4WsuT"
      },
      "source": [
        ""
      ],
      "execution_count": null,
      "outputs": []
    },
    {
      "cell_type": "markdown",
      "metadata": {
        "id": "9mjD2YcaWtAb"
      },
      "source": [
        "Write a Python program to create a string from two given strings concatenating uncommon characters of the said strings"
      ]
    },
    {
      "cell_type": "code",
      "metadata": {
        "id": "k2QYdlcRW7SG",
        "colab": {
          "base_uri": "https://localhost:8080/",
          "height": 54
        },
        "outputId": "1e8e5b3a-e028-407c-8cce-54c93c09bb5e"
      },
      "source": [
        "s1=\"hello\"\n",
        "s2=\"hey\"\n",
        "s3=\"\"\n",
        "for el in s1:\n",
        "    if el not in s2:\n",
        "        s3=s3+el\n",
        "print(s3)\n",
        "for el in s2:\n",
        "    if el not in s1:\n",
        "        s3=s3+el\n",
        "s3"
      ],
      "execution_count": null,
      "outputs": [
        {
          "output_type": "stream",
          "name": "stdout",
          "text": [
            "llo\n"
          ]
        },
        {
          "output_type": "execute_result",
          "data": {
            "application/vnd.google.colaboratory.intrinsic+json": {
              "type": "string"
            },
            "text/plain": [
              "'lloy'"
            ]
          },
          "metadata": {},
          "execution_count": 116
        }
      ]
    },
    {
      "cell_type": "markdown",
      "source": [
        "#File INPUT OUTPUT\n",
        "\n",
        "Filename=open(“filename”,mode)\n",
        "Filename.closed\n",
        "Filename.mode\n",
        "Filename.name\n",
        "Filename.close()\n",
        "Filename.write(string)\n",
        "Filename.read([countofbytes])\n",
        "Filename.readlines()\n",
        "Filename.tell();noofbytes\n",
        "Filename.seek(noofbytes[,from]);from can be 0/1/2\n",
        "For more functions refer os module\n"
      ],
      "metadata": {
        "id": "a5KxoLqG7S_Z"
      }
    },
    {
      "cell_type": "code",
      "source": [
        "f=open(\"/content/data.txt\",\"r\")\n",
        "file_data=f.read()\n",
        "print(file_data)\n",
        "type(file_data)"
      ],
      "metadata": {
        "colab": {
          "base_uri": "https://localhost:8080/"
        },
        "id": "Wev8K1go8tWA",
        "outputId": "2c5a99cd-b233-4bb3-fb03-ce788f8fb4bc"
      },
      "execution_count": null,
      "outputs": [
        {
          "output_type": "stream",
          "name": "stdout",
          "text": [
            "Python\n",
            "Programming\n",
            "Language\n",
            "GEC\n"
          ]
        },
        {
          "output_type": "execute_result",
          "data": {
            "text/plain": [
              "str"
            ]
          },
          "metadata": {},
          "execution_count": 119
        }
      ]
    },
    {
      "cell_type": "code",
      "source": [
        "f1=open(\"/content/data3.txt\",\"r\")\n",
        "file_data=f.read()\n",
        "print(file_data)\n",
        "type(file_data)"
      ],
      "metadata": {
        "colab": {
          "base_uri": "https://localhost:8080/",
          "height": 228
        },
        "id": "6ckPRDdW9MIo",
        "outputId": "06aebf1b-5fc1-495c-b8d7-227f1fa4b643"
      },
      "execution_count": null,
      "outputs": [
        {
          "output_type": "error",
          "ename": "FileNotFoundError",
          "evalue": "ignored",
          "traceback": [
            "\u001b[0;31m---------------------------------------------------------------------------\u001b[0m",
            "\u001b[0;31mFileNotFoundError\u001b[0m                         Traceback (most recent call last)",
            "\u001b[0;32m<ipython-input-120-744dec856d72>\u001b[0m in \u001b[0;36m<module>\u001b[0;34m()\u001b[0m\n\u001b[0;32m----> 1\u001b[0;31m \u001b[0mf1\u001b[0m\u001b[0;34m=\u001b[0m\u001b[0mopen\u001b[0m\u001b[0;34m(\u001b[0m\u001b[0;34m\"/content/data2.txt\"\u001b[0m\u001b[0;34m,\u001b[0m\u001b[0;34m\"r\"\u001b[0m\u001b[0;34m)\u001b[0m\u001b[0;34m\u001b[0m\u001b[0;34m\u001b[0m\u001b[0m\n\u001b[0m\u001b[1;32m      2\u001b[0m \u001b[0mfile_data\u001b[0m\u001b[0;34m=\u001b[0m\u001b[0mf\u001b[0m\u001b[0;34m.\u001b[0m\u001b[0mread\u001b[0m\u001b[0;34m(\u001b[0m\u001b[0;34m)\u001b[0m\u001b[0;34m\u001b[0m\u001b[0;34m\u001b[0m\u001b[0m\n\u001b[1;32m      3\u001b[0m \u001b[0mprint\u001b[0m\u001b[0;34m(\u001b[0m\u001b[0mfile_data\u001b[0m\u001b[0;34m)\u001b[0m\u001b[0;34m\u001b[0m\u001b[0;34m\u001b[0m\u001b[0m\n\u001b[1;32m      4\u001b[0m \u001b[0mtype\u001b[0m\u001b[0;34m(\u001b[0m\u001b[0mfile_data\u001b[0m\u001b[0;34m)\u001b[0m\u001b[0;34m\u001b[0m\u001b[0;34m\u001b[0m\u001b[0m\n",
            "\u001b[0;31mFileNotFoundError\u001b[0m: [Errno 2] No such file or directory: '/content/data2.txt'"
          ]
        }
      ]
    },
    {
      "cell_type": "code",
      "source": [
        "f1=open(\"/content/data2.txt\",\"w\")\n",
        "f1.write(\"Hello\")\n",
        "f1.close()\n",
        "f1=open(\"/content/data2.txt\",\"r\")\n",
        "print(f1.read())\n",
        "f1.close()"
      ],
      "metadata": {
        "colab": {
          "base_uri": "https://localhost:8080/"
        },
        "id": "qNMByErn9SLg",
        "outputId": "dfc7de3e-be72-497f-d344-66049f196200"
      },
      "execution_count": null,
      "outputs": [
        {
          "output_type": "stream",
          "name": "stdout",
          "text": [
            "Hello\n"
          ]
        }
      ]
    },
    {
      "cell_type": "code",
      "source": [
        "f1=open(\"/content/data2.txt\",\"w\")\n",
        "f1.write(\"GEC\")\n",
        "f1.close()\n",
        "f1=open(\"/content/data2.txt\",\"r\")\n",
        "print(f1.read())\n",
        "f1.close()"
      ],
      "metadata": {
        "colab": {
          "base_uri": "https://localhost:8080/"
        },
        "id": "b06sg98F9pAZ",
        "outputId": "ba3bcba9-8bd3-4901-987d-210678f2a567"
      },
      "execution_count": null,
      "outputs": [
        {
          "output_type": "stream",
          "name": "stdout",
          "text": [
            "GEC\n"
          ]
        }
      ]
    },
    {
      "cell_type": "code",
      "source": [
        "f1=open(\"/content/data2.txt\",\"a\")\n",
        "f1.write(\"Python\")\n",
        "f1.close()\n",
        "f1=open(\"/content/data2.txt\",\"r\")\n",
        "print(f1.read())\n",
        "f1.close()"
      ],
      "metadata": {
        "colab": {
          "base_uri": "https://localhost:8080/"
        },
        "id": "CKvIk0OP95tq",
        "outputId": "8eb3d1ab-4c05-4128-bc3b-1897791a9797"
      },
      "execution_count": null,
      "outputs": [
        {
          "output_type": "stream",
          "name": "stdout",
          "text": [
            "GECPython\n"
          ]
        }
      ]
    },
    {
      "cell_type": "markdown",
      "source": [
        "Suppose you have a file with this data stored in it:\n",
        "```\n",
        "1,1\n",
        "2,4\n",
        "3,9\n",
        "4,16\n",
        "5,25\n",
        "```\n",
        "Read this data from file and create 2 lists from this data:\n",
        "list 1 should have all numbers written before,\n",
        "```\n",
        "x=[1,2,3,4,5]\n",
        "```\n",
        "list 2 should have all numbers written after ,\n",
        "```\n",
        "y=[1,4,9,16,25]\n",
        "```"
      ],
      "metadata": {
        "id": "ao5jxHbk-Lur"
      }
    },
    {
      "cell_type": "code",
      "source": [
        ""
      ],
      "metadata": {
        "id": "f9Y1ea9E-LBU"
      },
      "execution_count": null,
      "outputs": []
    },
    {
      "cell_type": "markdown",
      "source": [
        "#ord and chr functions for string"
      ],
      "metadata": {
        "id": "Po0K_hzf-8Td"
      }
    },
    {
      "cell_type": "code",
      "source": [
        "ord (\"A\")  # give ascii number for char"
      ],
      "metadata": {
        "colab": {
          "base_uri": "https://localhost:8080/"
        },
        "id": "z-Y3Wa_q-_a7",
        "outputId": "a3d349f9-36eb-41b4-f8d3-c4d9fd078ed2"
      },
      "execution_count": null,
      "outputs": [
        {
          "output_type": "execute_result",
          "data": {
            "text/plain": [
              "65"
            ]
          },
          "metadata": {},
          "execution_count": 130
        }
      ]
    },
    {
      "cell_type": "code",
      "source": [
        "chr(65)"
      ],
      "metadata": {
        "colab": {
          "base_uri": "https://localhost:8080/",
          "height": 36
        },
        "id": "rCrLQJMP_DBP",
        "outputId": "bde2a194-8016-4a73-97e3-20a4199475d6"
      },
      "execution_count": null,
      "outputs": [
        {
          "output_type": "execute_result",
          "data": {
            "application/vnd.google.colaboratory.intrinsic+json": {
              "type": "string"
            },
            "text/plain": [
              "'A'"
            ]
          },
          "metadata": {},
          "execution_count": 131
        }
      ]
    },
    {
      "cell_type": "code",
      "source": [
        "ord(\"Z\")"
      ],
      "metadata": {
        "colab": {
          "base_uri": "https://localhost:8080/"
        },
        "id": "9xeJ2x-S_J4g",
        "outputId": "dda70f02-e714-4ead-b49b-a3c3c4fbe822"
      },
      "execution_count": null,
      "outputs": [
        {
          "output_type": "execute_result",
          "data": {
            "text/plain": [
              "90"
            ]
          },
          "metadata": {},
          "execution_count": 132
        }
      ]
    },
    {
      "cell_type": "code",
      "source": [
        "for i in range(65,91):\n",
        "    print(chr(i))"
      ],
      "metadata": {
        "colab": {
          "base_uri": "https://localhost:8080/"
        },
        "id": "i7eV0hU2_MOD",
        "outputId": "ebc59c66-62f3-40ec-b058-cb884c4c1491"
      },
      "execution_count": null,
      "outputs": [
        {
          "output_type": "stream",
          "name": "stdout",
          "text": [
            "A\n",
            "B\n",
            "C\n",
            "D\n",
            "E\n",
            "F\n",
            "G\n",
            "H\n",
            "I\n",
            "J\n",
            "K\n",
            "L\n",
            "M\n",
            "N\n",
            "O\n",
            "P\n",
            "Q\n",
            "R\n",
            "S\n",
            "T\n",
            "U\n",
            "V\n",
            "W\n",
            "X\n",
            "Y\n",
            "Z\n"
          ]
        }
      ]
    }
  ]
}
