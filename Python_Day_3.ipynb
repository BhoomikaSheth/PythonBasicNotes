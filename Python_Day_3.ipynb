{
  "nbformat": 4,
  "nbformat_minor": 0,
  "metadata": {
    "colab": {
      "name": "Python Day 3",
      "provenance": [],
      "collapsed_sections": [],
      "authorship_tag": "ABX9TyPs0WRKR4jhKxVoLV3zxVv+",
      "include_colab_link": true
    },
    "kernelspec": {
      "name": "python3",
      "display_name": "Python 3"
    },
    "language_info": {
      "name": "python"
    }
  },
  "cells": [
    {
      "cell_type": "markdown",
      "metadata": {
        "id": "view-in-github",
        "colab_type": "text"
      },
      "source": [
        "<a href=\"https://colab.research.google.com/github/BhoomikaSheth/PythonBasicNotes/blob/main/Python_Day_3.ipynb\" target=\"_parent\"><img src=\"https://colab.research.google.com/assets/colab-badge.svg\" alt=\"Open In Colab\"/></a>"
      ]
    },
    {
      "cell_type": "markdown",
      "metadata": {
        "id": "2S2c3RclBvYy"
      },
      "source": [
        "#List & Tuples Methods and Functions "
      ]
    },
    {
      "cell_type": "markdown",
      "metadata": {
        "id": "IEffbnzKEa9F"
      },
      "source": [
        "Slicing---[]\n",
        "seperator :\n",
        "[start:end:interval]\n",
        "start by default is 0\n",
        "end by default is len(list)\n",
        "interval by default is 1"
      ]
    },
    {
      "cell_type": "code",
      "source": [
        "t1=90,76,45\n",
        "type(t1)"
      ],
      "metadata": {
        "colab": {
          "base_uri": "https://localhost:8080/"
        },
        "id": "2WJ5IYi0nJyP",
        "outputId": "4d6f47d5-4404-4984-ba5c-fa9771e8e3e2"
      },
      "execution_count": null,
      "outputs": [
        {
          "output_type": "execute_result",
          "data": {
            "text/plain": [
              "tuple"
            ]
          },
          "metadata": {},
          "execution_count": 6
        }
      ]
    },
    {
      "cell_type": "code",
      "source": [
        "t=(9,5,\"dfgh\",62.1)\n",
        "t"
      ],
      "metadata": {
        "colab": {
          "base_uri": "https://localhost:8080/"
        },
        "id": "GX8iSzR7mSDA",
        "outputId": "dc03f608-b537-4c1d-aa51-f54aeddd176c"
      },
      "execution_count": null,
      "outputs": [
        {
          "output_type": "execute_result",
          "data": {
            "text/plain": [
              "(9, 5, 'dfgh', 62.1)"
            ]
          },
          "metadata": {},
          "execution_count": 3
        }
      ]
    },
    {
      "cell_type": "code",
      "source": [
        "type(t)"
      ],
      "metadata": {
        "colab": {
          "base_uri": "https://localhost:8080/"
        },
        "id": "0C4Qq_HMmWQX",
        "outputId": "a2b6fc7a-774e-4863-f924-873362742917"
      },
      "execution_count": null,
      "outputs": [
        {
          "output_type": "execute_result",
          "data": {
            "text/plain": [
              "tuple"
            ]
          },
          "metadata": {},
          "execution_count": 5
        }
      ]
    },
    {
      "cell_type": "code",
      "metadata": {
        "colab": {
          "base_uri": "https://localhost:8080/"
        },
        "id": "35fEpDqkB1rh",
        "outputId": "b11c3357-90b3-4a02-a39a-5b137ab9d711"
      },
      "source": [
        "l=[1,2,33,47,59,6889,4]#0 to 6 positive index\n",
        "#negative indexing\n",
        "#4 -1\n",
        "#6889 -2\n",
        "#59 -3\n",
        "#47 -4\n",
        "#33 -5\n",
        "#2 -6\n",
        "#1 -7\n",
        "l[4]"
      ],
      "execution_count": null,
      "outputs": [
        {
          "output_type": "execute_result",
          "data": {
            "text/plain": [
              "59"
            ]
          },
          "metadata": {},
          "execution_count": 7
        }
      ]
    },
    {
      "cell_type": "code",
      "metadata": {
        "colab": {
          "base_uri": "https://localhost:8080/"
        },
        "id": "_jHE5-nzFJB-",
        "outputId": "c88048dd-6b5d-42a7-925a-641690599ebe"
      },
      "source": [
        "l[0:2]  # slicing use :, start:end+1:interval"
      ],
      "execution_count": null,
      "outputs": [
        {
          "output_type": "execute_result",
          "data": {
            "text/plain": [
              "[1, 2]"
            ]
          },
          "metadata": {
            "tags": []
          },
          "execution_count": 2
        }
      ]
    },
    {
      "cell_type": "code",
      "metadata": {
        "colab": {
          "base_uri": "https://localhost:8080/"
        },
        "id": "6nqUpMeWFUxw",
        "outputId": "1b6adf7d-0bf9-44c7-9272-51c7abdd6aa9"
      },
      "source": [
        "l[1:6]"
      ],
      "execution_count": null,
      "outputs": [
        {
          "output_type": "execute_result",
          "data": {
            "text/plain": [
              "[2, 33, 47, 59, 6889]"
            ]
          },
          "metadata": {
            "tags": []
          },
          "execution_count": 3
        }
      ]
    },
    {
      "cell_type": "code",
      "metadata": {
        "colab": {
          "base_uri": "https://localhost:8080/"
        },
        "id": "d2c-HFlBGMaW",
        "outputId": "7984470a-c63c-4413-a7d5-749ac2f30083"
      },
      "source": [
        "l[0:7]"
      ],
      "execution_count": null,
      "outputs": [
        {
          "output_type": "execute_result",
          "data": {
            "text/plain": [
              "[1, 2, 33, 47, 59, 6889, 4]"
            ]
          },
          "metadata": {
            "tags": []
          },
          "execution_count": 5
        }
      ]
    },
    {
      "cell_type": "code",
      "metadata": {
        "colab": {
          "base_uri": "https://localhost:8080/"
        },
        "id": "Tj0eVLOEFsMD",
        "outputId": "5c64726c-09f7-4106-cb32-5b7aa938289d"
      },
      "source": [
        "l[0:7:2]"
      ],
      "execution_count": null,
      "outputs": [
        {
          "output_type": "execute_result",
          "data": {
            "text/plain": [
              "[1, 33, 59, 4]"
            ]
          },
          "metadata": {
            "tags": []
          },
          "execution_count": 4
        }
      ]
    },
    {
      "cell_type": "code",
      "source": [
        "l[6]"
      ],
      "metadata": {
        "colab": {
          "base_uri": "https://localhost:8080/"
        },
        "id": "XhMTFjtZoEOP",
        "outputId": "adc327dc-b395-4e68-fc18-1fd0e7cb7dfd"
      },
      "execution_count": null,
      "outputs": [
        {
          "output_type": "execute_result",
          "data": {
            "text/plain": [
              "4"
            ]
          },
          "metadata": {},
          "execution_count": 8
        }
      ]
    },
    {
      "cell_type": "code",
      "metadata": {
        "colab": {
          "base_uri": "https://localhost:8080/"
        },
        "id": "HNpP1QEjGQXE",
        "outputId": "ac4d583b-d53d-496f-bead-b6ae53dbfedd"
      },
      "source": [
        "l[:6]"
      ],
      "execution_count": null,
      "outputs": [
        {
          "output_type": "execute_result",
          "data": {
            "text/plain": [
              "[1, 2, 33, 47, 59, 6889]"
            ]
          },
          "metadata": {},
          "execution_count": 9
        }
      ]
    },
    {
      "cell_type": "code",
      "metadata": {
        "colab": {
          "base_uri": "https://localhost:8080/"
        },
        "id": "6Lit2uYRGVMb",
        "outputId": "832a3d14-e769-4c5d-cc0c-d00410778431"
      },
      "source": [
        "l[::2]"
      ],
      "execution_count": null,
      "outputs": [
        {
          "output_type": "execute_result",
          "data": {
            "text/plain": [
              "[1, 33, 59, 4]"
            ]
          },
          "metadata": {
            "tags": []
          },
          "execution_count": 7
        }
      ]
    },
    {
      "cell_type": "code",
      "metadata": {
        "colab": {
          "base_uri": "https://localhost:8080/"
        },
        "id": "YTrGXTyFGfaY",
        "outputId": "0ad277b6-5b34-48d2-a8a3-a558b05fd0c7"
      },
      "source": [
        "l[::-1]"
      ],
      "execution_count": null,
      "outputs": [
        {
          "output_type": "execute_result",
          "data": {
            "text/plain": [
              "[4, 6889, 59, 47, 33, 2, 1]"
            ]
          },
          "metadata": {
            "tags": []
          },
          "execution_count": 8
        }
      ]
    },
    {
      "cell_type": "markdown",
      "metadata": {
        "id": "NwUhWDSmG_vu"
      },
      "source": [
        "Arithmetic operators with list\n",
        "### * for repetition\n",
        "### + for concatenation"
      ]
    },
    {
      "cell_type": "code",
      "source": [
        "45+52"
      ],
      "metadata": {
        "colab": {
          "base_uri": "https://localhost:8080/"
        },
        "id": "oGFtYh7aoj6-",
        "outputId": "07d691cd-e5a9-4cba-dab6-0bb8930eb89b"
      },
      "execution_count": null,
      "outputs": [
        {
          "output_type": "execute_result",
          "data": {
            "text/plain": [
              "97"
            ]
          },
          "metadata": {},
          "execution_count": 10
        }
      ]
    },
    {
      "cell_type": "code",
      "source": [
        "\"45\"+\"52\""
      ],
      "metadata": {
        "colab": {
          "base_uri": "https://localhost:8080/",
          "height": 36
        },
        "id": "BK0VtlOCol21",
        "outputId": "cfef7de3-e9c6-44d1-de4d-d289755855a4"
      },
      "execution_count": null,
      "outputs": [
        {
          "output_type": "execute_result",
          "data": {
            "application/vnd.google.colaboratory.intrinsic+json": {
              "type": "string"
            },
            "text/plain": [
              "'4552'"
            ]
          },
          "metadata": {},
          "execution_count": 11
        }
      ]
    },
    {
      "cell_type": "code",
      "metadata": {
        "colab": {
          "base_uri": "https://localhost:8080/",
          "height": 36
        },
        "id": "3j2K4BzCHu7m",
        "outputId": "9fd569c2-159b-4e5c-c1db-8f695b33dbd3"
      },
      "source": [
        "s=\"Hello\"+\"world\"\n",
        "s"
      ],
      "execution_count": null,
      "outputs": [
        {
          "output_type": "execute_result",
          "data": {
            "application/vnd.google.colaboratory.intrinsic+json": {
              "type": "string"
            },
            "text/plain": [
              "'Helloworld'"
            ]
          },
          "metadata": {
            "tags": []
          },
          "execution_count": 12
        }
      ]
    },
    {
      "cell_type": "code",
      "metadata": {
        "colab": {
          "base_uri": "https://localhost:8080/"
        },
        "id": "d6cFnCfHHT8I",
        "outputId": "2b5ee93b-ab83-4f32-dc8d-35317af31229"
      },
      "source": [
        "l1=[1,2,33,47,59,6889,4]\n",
        "l2=[\"fdhg\",\"fhg\",325.26,52.9]\n",
        "print(l1+l2)\n",
        "print()\n",
        "l3=l1*5\n",
        "l3"
      ],
      "execution_count": null,
      "outputs": [
        {
          "output_type": "stream",
          "name": "stdout",
          "text": [
            "[1, 2, 33, 47, 59, 6889, 4, 'fdhg', 'fhg', 325.26, 52.9]\n",
            "\n"
          ]
        },
        {
          "output_type": "execute_result",
          "data": {
            "text/plain": [
              "[1,\n",
              " 2,\n",
              " 33,\n",
              " 47,\n",
              " 59,\n",
              " 6889,\n",
              " 4,\n",
              " 1,\n",
              " 2,\n",
              " 33,\n",
              " 47,\n",
              " 59,\n",
              " 6889,\n",
              " 4,\n",
              " 1,\n",
              " 2,\n",
              " 33,\n",
              " 47,\n",
              " 59,\n",
              " 6889,\n",
              " 4,\n",
              " 1,\n",
              " 2,\n",
              " 33,\n",
              " 47,\n",
              " 59,\n",
              " 6889,\n",
              " 4,\n",
              " 1,\n",
              " 2,\n",
              " 33,\n",
              " 47,\n",
              " 59,\n",
              " 6889,\n",
              " 4]"
            ]
          },
          "metadata": {},
          "execution_count": 13
        }
      ]
    },
    {
      "cell_type": "code",
      "metadata": {
        "colab": {
          "base_uri": "https://localhost:8080/"
        },
        "id": "uySYG66oHnAS",
        "outputId": "d069f470-bf6b-47c6-d75a-319633a7280d"
      },
      "source": [
        "l4=l1+l2\n",
        "l4"
      ],
      "execution_count": null,
      "outputs": [
        {
          "output_type": "execute_result",
          "data": {
            "text/plain": [
              "[1, 2, 33, 47, 59, 6889, 4, 'fdhg', 'fhg', 325.26, 52.9]"
            ]
          },
          "metadata": {
            "tags": []
          },
          "execution_count": 11
        }
      ]
    },
    {
      "cell_type": "code",
      "source": [
        "l=[34,87,12,67]\n",
        "print(l[2])\n",
        "l[2]=21\n",
        "print(l)"
      ],
      "metadata": {
        "colab": {
          "base_uri": "https://localhost:8080/"
        },
        "id": "-XIN69Boo7Ax",
        "outputId": "fa53d618-2981-4ec1-e260-e76b534a9a3d"
      },
      "execution_count": null,
      "outputs": [
        {
          "output_type": "stream",
          "name": "stdout",
          "text": [
            "12\n",
            "[34, 87, 21, 67]\n"
          ]
        }
      ]
    },
    {
      "cell_type": "code",
      "source": [
        "t=(34,87,12,67)\n",
        "t1=(43,76,333)\n",
        "print(t[1:4])\n",
        "print(t+t1)\n",
        "print(t1*3)\n",
        "print(t[2])\n",
        "print(t)\n",
        "t[2]=21\n",
        "print(t)"
      ],
      "metadata": {
        "colab": {
          "base_uri": "https://localhost:8080/",
          "height": 321
        },
        "id": "zNbapv8hpFBz",
        "outputId": "39aa926d-0ae6-4fea-ffd9-7d4f969b03d9"
      },
      "execution_count": null,
      "outputs": [
        {
          "output_type": "stream",
          "name": "stdout",
          "text": [
            "(87, 12, 67)\n",
            "(34, 87, 12, 67, 43, 76, 333)\n",
            "(43, 76, 333, 43, 76, 333, 43, 76, 333)\n",
            "12\n",
            "(34, 87, 12, 67)\n"
          ]
        },
        {
          "output_type": "error",
          "ename": "TypeError",
          "evalue": "ignored",
          "traceback": [
            "\u001b[0;31m---------------------------------------------------------------------------\u001b[0m",
            "\u001b[0;31mTypeError\u001b[0m                                 Traceback (most recent call last)",
            "\u001b[0;32m<ipython-input-18-117614e4df9b>\u001b[0m in \u001b[0;36m<module>\u001b[0;34m()\u001b[0m\n\u001b[1;32m      6\u001b[0m \u001b[0mprint\u001b[0m\u001b[0;34m(\u001b[0m\u001b[0mt\u001b[0m\u001b[0;34m[\u001b[0m\u001b[0;36m2\u001b[0m\u001b[0;34m]\u001b[0m\u001b[0;34m)\u001b[0m\u001b[0;34m\u001b[0m\u001b[0;34m\u001b[0m\u001b[0m\n\u001b[1;32m      7\u001b[0m \u001b[0mprint\u001b[0m\u001b[0;34m(\u001b[0m\u001b[0mt\u001b[0m\u001b[0;34m)\u001b[0m\u001b[0;34m\u001b[0m\u001b[0;34m\u001b[0m\u001b[0m\n\u001b[0;32m----> 8\u001b[0;31m \u001b[0mt\u001b[0m\u001b[0;34m[\u001b[0m\u001b[0;36m2\u001b[0m\u001b[0;34m]\u001b[0m\u001b[0;34m=\u001b[0m\u001b[0;36m21\u001b[0m\u001b[0;34m\u001b[0m\u001b[0;34m\u001b[0m\u001b[0m\n\u001b[0m\u001b[1;32m      9\u001b[0m \u001b[0mprint\u001b[0m\u001b[0;34m(\u001b[0m\u001b[0mt\u001b[0m\u001b[0;34m)\u001b[0m\u001b[0;34m\u001b[0m\u001b[0;34m\u001b[0m\u001b[0m\n",
            "\u001b[0;31mTypeError\u001b[0m: 'tuple' object does not support item assignment"
          ]
        }
      ]
    },
    {
      "cell_type": "markdown",
      "metadata": {
        "id": "9f2E4MMFIH4J"
      },
      "source": [
        "###*tuple* every things like slicing, repetition, concatenations works same with tuple except for reassigning the decalared values of a tuple. tuple has () and list has[]. however while slicing tuple use [] only"
      ]
    },
    {
      "cell_type": "code",
      "metadata": {
        "colab": {
          "base_uri": "https://localhost:8080/"
        },
        "id": "yJGLgFywH8et",
        "outputId": "5e571831-1fc8-43d2-e0ab-e759133beab6"
      },
      "source": [
        "l[4]=78\n",
        "l"
      ],
      "execution_count": null,
      "outputs": [
        {
          "output_type": "execute_result",
          "data": {
            "text/plain": [
              "[1, 2, 33, 47, 78, 6889, 4]"
            ]
          },
          "metadata": {
            "tags": []
          },
          "execution_count": 13
        }
      ]
    },
    {
      "cell_type": "code",
      "metadata": {
        "colab": {
          "base_uri": "https://localhost:8080/",
          "height": 193
        },
        "id": "zSKB3O9BIExK",
        "outputId": "5d3d1741-dd2c-4840-d405-19a4a2972fa8"
      },
      "source": [
        "t=(1, 2, 33, 47, 78, 6889, 4)\n",
        "t[3]=86"
      ],
      "execution_count": null,
      "outputs": [
        {
          "output_type": "error",
          "ename": "TypeError",
          "evalue": "ignored",
          "traceback": [
            "\u001b[0;31m---------------------------------------------------------------------------\u001b[0m",
            "\u001b[0;31mTypeError\u001b[0m                                 Traceback (most recent call last)",
            "\u001b[0;32m<ipython-input-14-c6832939b810>\u001b[0m in \u001b[0;36m<module>\u001b[0;34m()\u001b[0m\n\u001b[1;32m      1\u001b[0m \u001b[0mt\u001b[0m\u001b[0;34m=\u001b[0m\u001b[0;34m(\u001b[0m\u001b[0;36m1\u001b[0m\u001b[0;34m,\u001b[0m \u001b[0;36m2\u001b[0m\u001b[0;34m,\u001b[0m \u001b[0;36m33\u001b[0m\u001b[0;34m,\u001b[0m \u001b[0;36m47\u001b[0m\u001b[0;34m,\u001b[0m \u001b[0;36m78\u001b[0m\u001b[0;34m,\u001b[0m \u001b[0;36m6889\u001b[0m\u001b[0;34m,\u001b[0m \u001b[0;36m4\u001b[0m\u001b[0;34m)\u001b[0m\u001b[0;34m\u001b[0m\u001b[0;34m\u001b[0m\u001b[0m\n\u001b[0;32m----> 2\u001b[0;31m \u001b[0mt\u001b[0m\u001b[0;34m[\u001b[0m\u001b[0;36m3\u001b[0m\u001b[0;34m]\u001b[0m\u001b[0;34m=\u001b[0m\u001b[0;36m86\u001b[0m\u001b[0;34m\u001b[0m\u001b[0;34m\u001b[0m\u001b[0m\n\u001b[0m",
            "\u001b[0;31mTypeError\u001b[0m: 'tuple' object does not support item assignment"
          ]
        }
      ]
    },
    {
      "cell_type": "code",
      "metadata": {
        "colab": {
          "base_uri": "https://localhost:8080/"
        },
        "id": "z9CNwlozIjAr",
        "outputId": "d3f931b5-8152-41df-80e7-d0a1f872eb6d"
      },
      "source": [
        "t[6]"
      ],
      "execution_count": null,
      "outputs": [
        {
          "output_type": "execute_result",
          "data": {
            "text/plain": [
              "4"
            ]
          },
          "metadata": {
            "tags": []
          },
          "execution_count": 15
        }
      ]
    },
    {
      "cell_type": "code",
      "metadata": {
        "colab": {
          "base_uri": "https://localhost:8080/"
        },
        "id": "uit0fClJIlck",
        "outputId": "c6d0193c-c142-4bb1-ead3-756e5e694324"
      },
      "source": [
        "t[1:5]"
      ],
      "execution_count": null,
      "outputs": [
        {
          "output_type": "execute_result",
          "data": {
            "text/plain": [
              "(2, 33, 47, 78)"
            ]
          },
          "metadata": {
            "tags": []
          },
          "execution_count": 16
        }
      ]
    },
    {
      "cell_type": "markdown",
      "metadata": {
        "id": "r40MV_FDI5UA"
      },
      "source": [
        "### functions with list/tuple\n",
        "max, min, len, sum\n",
        "tuple, list"
      ]
    },
    {
      "cell_type": "code",
      "metadata": {
        "colab": {
          "base_uri": "https://localhost:8080/"
        },
        "id": "TlvGm4iwJC8F",
        "outputId": "f0ef755f-8ae1-4051-8880-fc871599e468"
      },
      "source": [
        "max(t)"
      ],
      "execution_count": null,
      "outputs": [
        {
          "output_type": "execute_result",
          "data": {
            "text/plain": [
              "87"
            ]
          },
          "metadata": {},
          "execution_count": 19
        }
      ]
    },
    {
      "cell_type": "code",
      "metadata": {
        "colab": {
          "base_uri": "https://localhost:8080/"
        },
        "id": "VI5JgC6IJHBs",
        "outputId": "966bcb36-6d8c-4047-ee2c-48dd39bd006c"
      },
      "source": [
        "min(t)"
      ],
      "execution_count": null,
      "outputs": [
        {
          "output_type": "execute_result",
          "data": {
            "text/plain": [
              "12"
            ]
          },
          "metadata": {},
          "execution_count": 20
        }
      ]
    },
    {
      "cell_type": "code",
      "metadata": {
        "colab": {
          "base_uri": "https://localhost:8080/"
        },
        "id": "0rIu48ePJJds",
        "outputId": "7ba495a8-7033-4f7e-c7fe-d2191264975b"
      },
      "source": [
        "len(t)"
      ],
      "execution_count": null,
      "outputs": [
        {
          "output_type": "execute_result",
          "data": {
            "text/plain": [
              "4"
            ]
          },
          "metadata": {},
          "execution_count": 21
        }
      ]
    },
    {
      "cell_type": "code",
      "metadata": {
        "colab": {
          "base_uri": "https://localhost:8080/"
        },
        "id": "6LleuVbwJMNb",
        "outputId": "5ab69893-860b-4532-c8f1-79b3a37c76b3"
      },
      "source": [
        "sum(t)"
      ],
      "execution_count": null,
      "outputs": [
        {
          "output_type": "execute_result",
          "data": {
            "text/plain": [
              "200"
            ]
          },
          "metadata": {},
          "execution_count": 22
        }
      ]
    },
    {
      "cell_type": "code",
      "metadata": {
        "colab": {
          "base_uri": "https://localhost:8080/"
        },
        "id": "1CQr_9XJJazt",
        "outputId": "d76b2dcd-eaf3-4999-c624-ffbe12b9e1af"
      },
      "source": [
        "type(t)"
      ],
      "execution_count": null,
      "outputs": [
        {
          "output_type": "execute_result",
          "data": {
            "text/plain": [
              "tuple"
            ]
          },
          "metadata": {},
          "execution_count": 23
        }
      ]
    },
    {
      "cell_type": "code",
      "source": [
        "print(max(l))\n",
        "print(min(l))\n",
        "print(len(l))\n",
        "print(sum(l))\n",
        "type(l)"
      ],
      "metadata": {
        "colab": {
          "base_uri": "https://localhost:8080/"
        },
        "id": "-TBR7OnBp54U",
        "outputId": "9a7e11a2-1c08-4c9c-e0e1-bb7fbe639320"
      },
      "execution_count": null,
      "outputs": [
        {
          "output_type": "stream",
          "name": "stdout",
          "text": [
            "87\n",
            "21\n",
            "4\n",
            "209\n"
          ]
        },
        {
          "output_type": "execute_result",
          "data": {
            "text/plain": [
              "list"
            ]
          },
          "metadata": {},
          "execution_count": 24
        }
      ]
    },
    {
      "cell_type": "code",
      "metadata": {
        "colab": {
          "base_uri": "https://localhost:8080/"
        },
        "id": "QsDgJFErJPUi",
        "outputId": "738959b8-dae9-4b89-8fdc-0fc74197df8a"
      },
      "source": [
        "#convert any sequence to list\n",
        "lt=list(t)\n",
        "print(lt)\n",
        "type(lt)"
      ],
      "execution_count": null,
      "outputs": [
        {
          "output_type": "stream",
          "name": "stdout",
          "text": [
            "[34, 87, 12, 67]\n"
          ]
        },
        {
          "output_type": "execute_result",
          "data": {
            "text/plain": [
              "list"
            ]
          },
          "metadata": {},
          "execution_count": 26
        }
      ]
    },
    {
      "cell_type": "code",
      "metadata": {
        "colab": {
          "base_uri": "https://localhost:8080/"
        },
        "id": "fPk42Iu9Jeir",
        "outputId": "10590874-185b-4a2a-8673-6e211604b64f"
      },
      "source": [
        "s=\"this is a sentence\"\n",
        "ls=list(s)\n",
        "ls"
      ],
      "execution_count": null,
      "outputs": [
        {
          "output_type": "execute_result",
          "data": {
            "text/plain": [
              "['t',\n",
              " 'h',\n",
              " 'i',\n",
              " 's',\n",
              " ' ',\n",
              " 'i',\n",
              " 's',\n",
              " ' ',\n",
              " 'a',\n",
              " ' ',\n",
              " 's',\n",
              " 'e',\n",
              " 'n',\n",
              " 't',\n",
              " 'e',\n",
              " 'n',\n",
              " 'c',\n",
              " 'e']"
            ]
          },
          "metadata": {},
          "execution_count": 27
        }
      ]
    },
    {
      "cell_type": "code",
      "metadata": {
        "colab": {
          "base_uri": "https://localhost:8080/"
        },
        "id": "mSYSnlJHJmts",
        "outputId": "284a5d40-2477-4b6f-f5e4-655ac203487f"
      },
      "source": [
        "type(ls)"
      ],
      "execution_count": null,
      "outputs": [
        {
          "output_type": "execute_result",
          "data": {
            "text/plain": [
              "list"
            ]
          },
          "metadata": {
            "tags": []
          },
          "execution_count": 25
        }
      ]
    },
    {
      "cell_type": "code",
      "metadata": {
        "colab": {
          "base_uri": "https://localhost:8080/"
        },
        "id": "KATbqMJTNvnP",
        "outputId": "52dd8b24-e5fc-4969-89bc-8d0dbe6cd5f9"
      },
      "source": [
        "ts=tuple(s)\n",
        "ts"
      ],
      "execution_count": null,
      "outputs": [
        {
          "output_type": "execute_result",
          "data": {
            "text/plain": [
              "('t',\n",
              " 'h',\n",
              " 'i',\n",
              " 's',\n",
              " ' ',\n",
              " 'i',\n",
              " 's',\n",
              " ' ',\n",
              " 'a',\n",
              " ' ',\n",
              " 's',\n",
              " 'e',\n",
              " 'n',\n",
              " 't',\n",
              " 'e',\n",
              " 'n',\n",
              " 'c',\n",
              " 'e')"
            ]
          },
          "metadata": {
            "tags": []
          },
          "execution_count": 26
        }
      ]
    },
    {
      "cell_type": "code",
      "metadata": {
        "colab": {
          "base_uri": "https://localhost:8080/"
        },
        "id": "4gsONzXAN1sO",
        "outputId": "519a8ac9-0ef8-4c0c-a35e-ea2cd332113f"
      },
      "source": [
        "type(ts)"
      ],
      "execution_count": null,
      "outputs": [
        {
          "output_type": "execute_result",
          "data": {
            "text/plain": [
              "tuple"
            ]
          },
          "metadata": {
            "tags": []
          },
          "execution_count": 27
        }
      ]
    },
    {
      "cell_type": "markdown",
      "metadata": {
        "id": "6P_5v1MaN9OE"
      },
      "source": [
        "### list methods= in built functions associated only with list. to access such methods we make use of . operator\n",
        "\n",
        "\n",
        "\n",
        "```\n",
        "'append',\n",
        " 'clear',\n",
        " 'copy',\n",
        " 'count',\n",
        " 'extend',\n",
        " 'index',\n",
        " 'insert',\n",
        " 'pop',\n",
        " 'remove',\n",
        " 'reverse',\n",
        " 'sort']\n",
        "```\n",
        "\n"
      ]
    },
    {
      "cell_type": "markdown",
      "metadata": {
        "id": "fmglD8kdONeY"
      },
      "source": [
        "dir() is another in built functions used to find sipported functions/attributes of any python object(variable/datatypes/functions)"
      ]
    },
    {
      "cell_type": "code",
      "source": [
        "dir(tuple)"
      ],
      "metadata": {
        "colab": {
          "base_uri": "https://localhost:8080/"
        },
        "id": "no9NWy5_geSp",
        "outputId": "c7fcc941-1731-4ea7-9c11-473e033dcf05"
      },
      "execution_count": null,
      "outputs": [
        {
          "output_type": "execute_result",
          "data": {
            "text/plain": [
              "['__add__',\n",
              " '__class__',\n",
              " '__contains__',\n",
              " '__delattr__',\n",
              " '__dir__',\n",
              " '__doc__',\n",
              " '__eq__',\n",
              " '__format__',\n",
              " '__ge__',\n",
              " '__getattribute__',\n",
              " '__getitem__',\n",
              " '__getnewargs__',\n",
              " '__gt__',\n",
              " '__hash__',\n",
              " '__init__',\n",
              " '__init_subclass__',\n",
              " '__iter__',\n",
              " '__le__',\n",
              " '__len__',\n",
              " '__lt__',\n",
              " '__mul__',\n",
              " '__ne__',\n",
              " '__new__',\n",
              " '__reduce__',\n",
              " '__reduce_ex__',\n",
              " '__repr__',\n",
              " '__rmul__',\n",
              " '__setattr__',\n",
              " '__sizeof__',\n",
              " '__str__',\n",
              " '__subclasshook__',\n",
              " 'count',\n",
              " 'index']"
            ]
          },
          "metadata": {},
          "execution_count": 2
        }
      ]
    },
    {
      "cell_type": "code",
      "metadata": {
        "colab": {
          "base_uri": "https://localhost:8080/"
        },
        "id": "hFftrCyPOIbJ",
        "outputId": "1354667b-7b06-4342-9e58-a4ae45de6a2a"
      },
      "source": [
        "dir(l)"
      ],
      "execution_count": null,
      "outputs": [
        {
          "output_type": "execute_result",
          "data": {
            "text/plain": [
              "['__add__',\n",
              " '__class__',\n",
              " '__contains__',\n",
              " '__delattr__',\n",
              " '__delitem__',\n",
              " '__dir__',\n",
              " '__doc__',\n",
              " '__eq__',\n",
              " '__format__',\n",
              " '__ge__',\n",
              " '__getattribute__',\n",
              " '__getitem__',\n",
              " '__gt__',\n",
              " '__hash__',\n",
              " '__iadd__',\n",
              " '__imul__',\n",
              " '__init__',\n",
              " '__init_subclass__',\n",
              " '__iter__',\n",
              " '__le__',\n",
              " '__len__',\n",
              " '__lt__',\n",
              " '__mul__',\n",
              " '__ne__',\n",
              " '__new__',\n",
              " '__reduce__',\n",
              " '__reduce_ex__',\n",
              " '__repr__',\n",
              " '__reversed__',\n",
              " '__rmul__',\n",
              " '__setattr__',\n",
              " '__setitem__',\n",
              " '__sizeof__',\n",
              " '__str__',\n",
              " '__subclasshook__',\n",
              " 'append',\n",
              " 'clear',\n",
              " 'copy',\n",
              " 'count',\n",
              " 'extend',\n",
              " 'index',\n",
              " 'insert',\n",
              " 'pop',\n",
              " 'remove',\n",
              " 'reverse',\n",
              " 'sort']"
            ]
          },
          "metadata": {
            "tags": []
          },
          "execution_count": 28
        }
      ]
    },
    {
      "cell_type": "code",
      "source": [
        "help(list.count)"
      ],
      "metadata": {
        "colab": {
          "base_uri": "https://localhost:8080/"
        },
        "id": "VcVbAsO2q6eQ",
        "outputId": "8ebe5ce6-623c-487d-f8f6-94ae3099b0ab"
      },
      "execution_count": null,
      "outputs": [
        {
          "output_type": "stream",
          "name": "stdout",
          "text": [
            "Help on method_descriptor:\n",
            "\n",
            "count(self, value, /)\n",
            "    Return number of occurrences of value.\n",
            "\n"
          ]
        }
      ]
    },
    {
      "cell_type": "code",
      "metadata": {
        "colab": {
          "base_uri": "https://localhost:8080/"
        },
        "id": "IqhH2ouDOoCc",
        "outputId": "599b916f-c683-4004-8be1-ded434fe4575"
      },
      "source": [
        "#create an empty list\n",
        "o=[]\n",
        "o.append(\"1\")\n",
        "o.append(\"abc\")\n",
        "o"
      ],
      "execution_count": null,
      "outputs": [
        {
          "output_type": "execute_result",
          "data": {
            "text/plain": [
              "['1', 'abc']"
            ]
          },
          "metadata": {},
          "execution_count": 29
        }
      ]
    },
    {
      "cell_type": "code",
      "metadata": {
        "colab": {
          "base_uri": "https://localhost:8080/"
        },
        "id": "Tyk0wwhqPEx7",
        "outputId": "1effe8eb-a171-4d3c-ded6-ae21bf4c6cbd"
      },
      "source": [
        "o.clear()\n",
        "o"
      ],
      "execution_count": null,
      "outputs": [
        {
          "output_type": "execute_result",
          "data": {
            "text/plain": [
              "[]"
            ]
          },
          "metadata": {},
          "execution_count": 30
        }
      ]
    },
    {
      "cell_type": "code",
      "metadata": {
        "colab": {
          "base_uri": "https://localhost:8080/"
        },
        "id": "b0PX10YWPMw2",
        "outputId": "5e9f4313-84a6-4fc5-b701-7c65ceaa0db2"
      },
      "source": [
        "o.append(\"1\")\n",
        "o.append(\"abc\")\n",
        "o2=o.copy()\n",
        "print(o,o2)"
      ],
      "execution_count": null,
      "outputs": [
        {
          "output_type": "stream",
          "name": "stdout",
          "text": [
            "['1', 'abc'] ['1', 'abc']\n"
          ]
        }
      ]
    },
    {
      "cell_type": "code",
      "metadata": {
        "colab": {
          "base_uri": "https://localhost:8080/",
          "height": 173
        },
        "id": "i4zbpw0ZPXuE",
        "outputId": "15888880-b5fd-4a4c-c509-4b7a3a137086"
      },
      "source": [
        "o2.append(3,4,5,6)"
      ],
      "execution_count": null,
      "outputs": [
        {
          "output_type": "error",
          "ename": "TypeError",
          "evalue": "ignored",
          "traceback": [
            "\u001b[0;31m---------------------------------------------------------------------------\u001b[0m",
            "\u001b[0;31mTypeError\u001b[0m                                 Traceback (most recent call last)",
            "\u001b[0;32m<ipython-input-32-70bda1f42950>\u001b[0m in \u001b[0;36m<module>\u001b[0;34m()\u001b[0m\n\u001b[0;32m----> 1\u001b[0;31m \u001b[0mo2\u001b[0m\u001b[0;34m.\u001b[0m\u001b[0mappend\u001b[0m\u001b[0;34m(\u001b[0m\u001b[0;36m3\u001b[0m\u001b[0;34m,\u001b[0m\u001b[0;36m4\u001b[0m\u001b[0;34m,\u001b[0m\u001b[0;36m5\u001b[0m\u001b[0;34m,\u001b[0m\u001b[0;36m6\u001b[0m\u001b[0;34m)\u001b[0m\u001b[0;34m\u001b[0m\u001b[0;34m\u001b[0m\u001b[0m\n\u001b[0m",
            "\u001b[0;31mTypeError\u001b[0m: append() takes exactly one argument (4 given)"
          ]
        }
      ]
    },
    {
      "cell_type": "code",
      "metadata": {
        "colab": {
          "base_uri": "https://localhost:8080/"
        },
        "id": "Y2eufeEAPbpF",
        "outputId": "e5191ecc-6516-4e5d-923b-6a3ffa01ca1a"
      },
      "source": [
        "o2.append(o)   # nested list\n",
        "o2"
      ],
      "execution_count": null,
      "outputs": [
        {
          "output_type": "execute_result",
          "data": {
            "text/plain": [
              "['1', 'abc', ['1', 'abc']]"
            ]
          },
          "metadata": {},
          "execution_count": 33
        }
      ]
    },
    {
      "cell_type": "code",
      "source": [
        "o2.pop()"
      ],
      "metadata": {
        "colab": {
          "base_uri": "https://localhost:8080/"
        },
        "id": "DKVI6AV9rmT-",
        "outputId": "e94b7d58-d39d-460b-a5a4-adc1b20470d8"
      },
      "execution_count": null,
      "outputs": [
        {
          "output_type": "execute_result",
          "data": {
            "text/plain": [
              "['1', 'abc']"
            ]
          },
          "metadata": {},
          "execution_count": 34
        }
      ]
    },
    {
      "cell_type": "code",
      "metadata": {
        "colab": {
          "base_uri": "https://localhost:8080/"
        },
        "id": "w6fIlOSLPrJo",
        "outputId": "fc300301-f472-485b-bb66-fee2e365eea1"
      },
      "source": [
        "o2.extend(o)\n",
        "o2"
      ],
      "execution_count": null,
      "outputs": [
        {
          "output_type": "execute_result",
          "data": {
            "text/plain": [
              "['1', 'abc', '1', 'abc']"
            ]
          },
          "metadata": {},
          "execution_count": 35
        }
      ]
    },
    {
      "cell_type": "code",
      "metadata": {
        "colab": {
          "base_uri": "https://localhost:8080/"
        },
        "id": "1iJiF-28P0Lk",
        "outputId": "f2077605-86b7-43b8-ef6f-21fcf3d0c043"
      },
      "source": [
        "o.index(\"abc\")"
      ],
      "execution_count": null,
      "outputs": [
        {
          "output_type": "execute_result",
          "data": {
            "text/plain": [
              "1"
            ]
          },
          "metadata": {},
          "execution_count": 36
        }
      ]
    },
    {
      "cell_type": "code",
      "metadata": {
        "colab": {
          "base_uri": "https://localhost:8080/"
        },
        "id": "ymBMuuFpP5bj",
        "outputId": "288fb501-4f39-4a14-e83b-94d420d8a9e0"
      },
      "source": [
        "o.reverse()\n",
        "o"
      ],
      "execution_count": null,
      "outputs": [
        {
          "output_type": "execute_result",
          "data": {
            "text/plain": [
              "['abc', '1']"
            ]
          },
          "metadata": {},
          "execution_count": 37
        }
      ]
    },
    {
      "cell_type": "code",
      "metadata": {
        "colab": {
          "base_uri": "https://localhost:8080/"
        },
        "id": "ARjs431QQFDI",
        "outputId": "107cba1a-541c-4d2e-cd59-9abb82d21b08"
      },
      "source": [
        "l.sort()\n",
        "l"
      ],
      "execution_count": null,
      "outputs": [
        {
          "output_type": "execute_result",
          "data": {
            "text/plain": [
              "[21, 34, 67, 87]"
            ]
          },
          "metadata": {},
          "execution_count": 38
        }
      ]
    },
    {
      "cell_type": "code",
      "source": [
        "l.sort(reverse=True)\n",
        "l"
      ],
      "metadata": {
        "colab": {
          "base_uri": "https://localhost:8080/"
        },
        "id": "6rT_IlkBryOv",
        "outputId": "7862be51-27c0-46bd-c39b-7fc217d0dfce"
      },
      "execution_count": null,
      "outputs": [
        {
          "output_type": "execute_result",
          "data": {
            "text/plain": [
              "[87, 67, 34, 21]"
            ]
          },
          "metadata": {},
          "execution_count": 40
        }
      ]
    },
    {
      "cell_type": "code",
      "metadata": {
        "colab": {
          "base_uri": "https://localhost:8080/",
          "height": 247
        },
        "id": "8KGHYCCAQLpG",
        "outputId": "cf6c43cd-8a24-462b-9444-d098fc689eba"
      },
      "source": [
        "o.extend([54,32,96])\n",
        "print(o)\n",
        "o.sort()\n",
        "o"
      ],
      "execution_count": null,
      "outputs": [
        {
          "output_type": "stream",
          "name": "stdout",
          "text": [
            "['abc', '1', 54, 32, 96]\n"
          ]
        },
        {
          "output_type": "error",
          "ename": "TypeError",
          "evalue": "ignored",
          "traceback": [
            "\u001b[0;31m---------------------------------------------------------------------------\u001b[0m",
            "\u001b[0;31mTypeError\u001b[0m                                 Traceback (most recent call last)",
            "\u001b[0;32m<ipython-input-41-881a1c7b682b>\u001b[0m in \u001b[0;36m<module>\u001b[0;34m()\u001b[0m\n\u001b[1;32m      1\u001b[0m \u001b[0mo\u001b[0m\u001b[0;34m.\u001b[0m\u001b[0mextend\u001b[0m\u001b[0;34m(\u001b[0m\u001b[0;34m[\u001b[0m\u001b[0;36m54\u001b[0m\u001b[0;34m,\u001b[0m\u001b[0;36m32\u001b[0m\u001b[0;34m,\u001b[0m\u001b[0;36m96\u001b[0m\u001b[0;34m]\u001b[0m\u001b[0;34m)\u001b[0m\u001b[0;34m\u001b[0m\u001b[0;34m\u001b[0m\u001b[0m\n\u001b[1;32m      2\u001b[0m \u001b[0mprint\u001b[0m\u001b[0;34m(\u001b[0m\u001b[0mo\u001b[0m\u001b[0;34m)\u001b[0m\u001b[0;34m\u001b[0m\u001b[0;34m\u001b[0m\u001b[0m\n\u001b[0;32m----> 3\u001b[0;31m \u001b[0mo\u001b[0m\u001b[0;34m.\u001b[0m\u001b[0msort\u001b[0m\u001b[0;34m(\u001b[0m\u001b[0;34m)\u001b[0m\u001b[0;34m\u001b[0m\u001b[0;34m\u001b[0m\u001b[0m\n\u001b[0m\u001b[1;32m      4\u001b[0m \u001b[0mo\u001b[0m\u001b[0;34m\u001b[0m\u001b[0;34m\u001b[0m\u001b[0m\n",
            "\u001b[0;31mTypeError\u001b[0m: '<' not supported between instances of 'int' and 'str'"
          ]
        }
      ]
    },
    {
      "cell_type": "code",
      "metadata": {
        "colab": {
          "base_uri": "https://localhost:8080/"
        },
        "id": "J5_OaCd2Qfee",
        "outputId": "b38a3db9-ac0c-4bfe-bd90-f022101fe6aa"
      },
      "source": [
        "o3=[\"a\",\"x\",\"b\"]\n",
        "o3.sort()\n",
        "o3"
      ],
      "execution_count": null,
      "outputs": [
        {
          "output_type": "execute_result",
          "data": {
            "text/plain": [
              "['a', 'b', 'x']"
            ]
          },
          "metadata": {},
          "execution_count": 42
        }
      ]
    },
    {
      "cell_type": "code",
      "metadata": {
        "colab": {
          "base_uri": "https://localhost:8080/"
        },
        "id": "9SVc59slQ7Ft",
        "outputId": "b7712d75-42c6-49f0-8cf1-4e60df07f501"
      },
      "source": [
        "o3.insert(1,\"y\")\n",
        "o3"
      ],
      "execution_count": null,
      "outputs": [
        {
          "output_type": "execute_result",
          "data": {
            "text/plain": [
              "['a', 'y', 'b', 'x']"
            ]
          },
          "metadata": {},
          "execution_count": 43
        }
      ]
    },
    {
      "cell_type": "code",
      "metadata": {
        "colab": {
          "base_uri": "https://localhost:8080/"
        },
        "id": "IoQ2XP0YRE1V",
        "outputId": "8184d818-d483-4ac6-f7d6-13724e506638"
      },
      "source": [
        "o3.extend([53,98,72,63])\n",
        "o3"
      ],
      "execution_count": null,
      "outputs": [
        {
          "output_type": "execute_result",
          "data": {
            "text/plain": [
              "['a', 'y', 'b', 'x', 53, 98, 72, 63]"
            ]
          },
          "metadata": {},
          "execution_count": 44
        }
      ]
    },
    {
      "cell_type": "code",
      "metadata": {
        "colab": {
          "base_uri": "https://localhost:8080/"
        },
        "id": "mXiy7nIURLnV",
        "outputId": "47417ef0-62f9-45eb-d937-12c34bd2aa1a"
      },
      "source": [
        "#pop without argument removes something fom end\n",
        "o3.pop()\n",
        "o3"
      ],
      "execution_count": null,
      "outputs": [
        {
          "output_type": "execute_result",
          "data": {
            "text/plain": [
              "['a', 'y', 'b', 'x', 53, 98, 72]"
            ]
          },
          "metadata": {},
          "execution_count": 45
        }
      ]
    },
    {
      "cell_type": "code",
      "metadata": {
        "colab": {
          "base_uri": "https://localhost:8080/"
        },
        "id": "pERwRkVLRSp5",
        "outputId": "af8d977d-2c08-45da-860a-5ce9f307e9ff"
      },
      "source": [
        "#pop with argument will remove something at given index value\n",
        "o3.pop(3)\n",
        "o3"
      ],
      "execution_count": null,
      "outputs": [
        {
          "output_type": "execute_result",
          "data": {
            "text/plain": [
              "['a', 'y', 'b', 53, 98, 72]"
            ]
          },
          "metadata": {},
          "execution_count": 46
        }
      ]
    },
    {
      "cell_type": "code",
      "metadata": {
        "colab": {
          "base_uri": "https://localhost:8080/",
          "height": 191
        },
        "id": "111QYdHeRZmc",
        "outputId": "0b315dbe-197f-48a5-8615-f8bfb6574ac5"
      },
      "source": [
        "o3.pop(7)\n",
        "o3"
      ],
      "execution_count": null,
      "outputs": [
        {
          "output_type": "error",
          "ename": "IndexError",
          "evalue": "ignored",
          "traceback": [
            "\u001b[0;31m---------------------------------------------------------------------------\u001b[0m",
            "\u001b[0;31mIndexError\u001b[0m                                Traceback (most recent call last)",
            "\u001b[0;32m<ipython-input-47-e9aab40bee23>\u001b[0m in \u001b[0;36m<module>\u001b[0;34m()\u001b[0m\n\u001b[0;32m----> 1\u001b[0;31m \u001b[0mo3\u001b[0m\u001b[0;34m.\u001b[0m\u001b[0mpop\u001b[0m\u001b[0;34m(\u001b[0m\u001b[0;36m7\u001b[0m\u001b[0;34m)\u001b[0m\u001b[0;34m\u001b[0m\u001b[0;34m\u001b[0m\u001b[0m\n\u001b[0m\u001b[1;32m      2\u001b[0m \u001b[0mo3\u001b[0m\u001b[0;34m\u001b[0m\u001b[0;34m\u001b[0m\u001b[0m\n",
            "\u001b[0;31mIndexError\u001b[0m: pop index out of range"
          ]
        }
      ]
    },
    {
      "cell_type": "code",
      "metadata": {
        "colab": {
          "base_uri": "https://localhost:8080/"
        },
        "id": "ETbrLrhXReTD",
        "outputId": "05b122c5-5f9b-4fd3-9f46-caa277596400"
      },
      "source": [
        "#remove is used to remove by value\n",
        "o3.remove(\"b\")\n",
        "o3"
      ],
      "execution_count": null,
      "outputs": [
        {
          "output_type": "execute_result",
          "data": {
            "text/plain": [
              "['a', 'y', 53, 98, 72]"
            ]
          },
          "metadata": {},
          "execution_count": 48
        }
      ]
    },
    {
      "cell_type": "code",
      "metadata": {
        "colab": {
          "base_uri": "https://localhost:8080/",
          "height": 191
        },
        "id": "5xelSlLMR24G",
        "outputId": "f4147551-4e67-4676-afe9-ed89c76e8f5e"
      },
      "source": [
        "o3.remove(\"abx\")\n",
        "o3"
      ],
      "execution_count": null,
      "outputs": [
        {
          "output_type": "error",
          "ename": "ValueError",
          "evalue": "ignored",
          "traceback": [
            "\u001b[0;31m---------------------------------------------------------------------------\u001b[0m",
            "\u001b[0;31mValueError\u001b[0m                                Traceback (most recent call last)",
            "\u001b[0;32m<ipython-input-49-fecd3edfb9da>\u001b[0m in \u001b[0;36m<module>\u001b[0;34m()\u001b[0m\n\u001b[0;32m----> 1\u001b[0;31m \u001b[0mo3\u001b[0m\u001b[0;34m.\u001b[0m\u001b[0mremove\u001b[0m\u001b[0;34m(\u001b[0m\u001b[0;34m\"abx\"\u001b[0m\u001b[0;34m)\u001b[0m\u001b[0;34m\u001b[0m\u001b[0;34m\u001b[0m\u001b[0m\n\u001b[0m\u001b[1;32m      2\u001b[0m \u001b[0mo3\u001b[0m\u001b[0;34m\u001b[0m\u001b[0;34m\u001b[0m\u001b[0m\n",
            "\u001b[0;31mValueError\u001b[0m: list.remove(x): x not in list"
          ]
        }
      ]
    },
    {
      "cell_type": "markdown",
      "metadata": {
        "id": "tsZMVle5P9ku"
      },
      "source": [
        "#membership operators"
      ]
    },
    {
      "cell_type": "code",
      "source": [
        "o3"
      ],
      "metadata": {
        "colab": {
          "base_uri": "https://localhost:8080/"
        },
        "id": "_3fmtw8AgIEO",
        "outputId": "d48d1d1c-8f68-4ff6-b34a-2e5669e76c5c"
      },
      "execution_count": null,
      "outputs": [
        {
          "output_type": "execute_result",
          "data": {
            "text/plain": [
              "['a', 'y', 53, 98, 72]"
            ]
          },
          "metadata": {},
          "execution_count": 50
        }
      ]
    },
    {
      "cell_type": "code",
      "source": [
        "\"y\" in o3"
      ],
      "metadata": {
        "colab": {
          "base_uri": "https://localhost:8080/"
        },
        "id": "3vH3lz1_sYJr",
        "outputId": "9299d2bb-7225-45e8-f69e-00744cb55f22"
      },
      "execution_count": null,
      "outputs": [
        {
          "output_type": "execute_result",
          "data": {
            "text/plain": [
              "True"
            ]
          },
          "metadata": {},
          "execution_count": 51
        }
      ]
    },
    {
      "cell_type": "code",
      "source": [
        "if \"y\" in o3:\n",
        "    print(\" y is present\")"
      ],
      "metadata": {
        "colab": {
          "base_uri": "https://localhost:8080/"
        },
        "id": "qF4ktGPysdcI",
        "outputId": "a290953a-a1cd-45f6-d60a-d5bcb4c6207c"
      },
      "execution_count": null,
      "outputs": [
        {
          "output_type": "stream",
          "name": "stdout",
          "text": [
            " y is present\n"
          ]
        }
      ]
    },
    {
      "cell_type": "code",
      "source": [
        "if \"x\" in o3:\n",
        "    print(\"x is present\")\n",
        "else:\n",
        "    print(\"x is absent\")"
      ],
      "metadata": {
        "colab": {
          "base_uri": "https://localhost:8080/"
        },
        "id": "074NW44Tsjeg",
        "outputId": "88bf019d-f229-4d6a-cd83-b2c3050c8e9e"
      },
      "execution_count": null,
      "outputs": [
        {
          "output_type": "stream",
          "name": "stdout",
          "text": [
            "x is absent\n"
          ]
        }
      ]
    },
    {
      "cell_type": "code",
      "source": [
        "word =\"python\"\n",
        "\"i\" not in word"
      ],
      "metadata": {
        "colab": {
          "base_uri": "https://localhost:8080/"
        },
        "id": "BoOOJu7UstZp",
        "outputId": "7229cfac-29ec-4fff-af1e-c280e7893295"
      },
      "execution_count": null,
      "outputs": [
        {
          "output_type": "execute_result",
          "data": {
            "text/plain": [
              "True"
            ]
          },
          "metadata": {},
          "execution_count": 54
        }
      ]
    },
    {
      "cell_type": "code",
      "source": [
        "l=[]\n",
        "while \"q0\" not in l:\n",
        "    l.append(input(\"enter some data:\"))\n",
        "    print(l)"
      ],
      "metadata": {
        "colab": {
          "base_uri": "https://localhost:8080/"
        },
        "id": "3xBwli9Xs4pL",
        "outputId": "09e60d62-d688-4d86-d8ff-40d7f875ef7a"
      },
      "execution_count": null,
      "outputs": [
        {
          "output_type": "stream",
          "name": "stdout",
          "text": [
            "enter some data:74\n",
            "['74']\n",
            "enter some data:tge\n",
            "['74', 'tge']\n",
            "enter some data:aw\n",
            "['74', 'tge', 'aw']\n",
            "enter some data:0\n",
            "['74', 'tge', 'aw', '0']\n"
          ]
        }
      ]
    },
    {
      "cell_type": "code",
      "source": [
        "t=(344,123,76,89,123)\n",
        "t.count(123)"
      ],
      "metadata": {
        "colab": {
          "base_uri": "https://localhost:8080/"
        },
        "id": "ykbmOXXUtaIM",
        "outputId": "486ba8a3-2b0b-4727-8339-50afb1f0330a"
      },
      "execution_count": null,
      "outputs": [
        {
          "output_type": "execute_result",
          "data": {
            "text/plain": [
              "2"
            ]
          },
          "metadata": {},
          "execution_count": 59
        }
      ]
    },
    {
      "cell_type": "code",
      "source": [
        "t.index(76)"
      ],
      "metadata": {
        "colab": {
          "base_uri": "https://localhost:8080/"
        },
        "id": "l--d5ssltgQV",
        "outputId": "1cf4c928-a844-4c43-8a73-be5eb87ba575"
      },
      "execution_count": null,
      "outputs": [
        {
          "output_type": "execute_result",
          "data": {
            "text/plain": [
              "2"
            ]
          },
          "metadata": {},
          "execution_count": 60
        }
      ]
    },
    {
      "cell_type": "markdown",
      "metadata": {
        "id": "Hp9-uA8USA6S"
      },
      "source": [
        "#list exercises"
      ]
    },
    {
      "cell_type": "markdown",
      "metadata": {
        "id": "08Kw-gWJSEWS"
      },
      "source": [
        "write a program to find maximum and minimum and length of a given list of numbers. Also sort this list"
      ]
    },
    {
      "cell_type": "code",
      "metadata": {
        "id": "emZdBUCESDvt"
      },
      "source": [
        "l=[68,96,34,29,37,61,26,88]"
      ],
      "execution_count": null,
      "outputs": []
    },
    {
      "cell_type": "markdown",
      "metadata": {
        "id": "1k2VyZzgSLLO"
      },
      "source": [
        "write a program to print only unique values from a list"
      ]
    },
    {
      "cell_type": "code",
      "metadata": {
        "id": "Lvt-JYDVST0x"
      },
      "source": [
        "l=[68,96,88,34,29,37,61,96,29,26,88]"
      ],
      "execution_count": null,
      "outputs": []
    },
    {
      "cell_type": "markdown",
      "metadata": {
        "id": "3Zslf23gRhHJ"
      },
      "source": [
        "write a program to print all values only one time from a list"
      ]
    },
    {
      "cell_type": "code",
      "metadata": {
        "id": "nDQM39NIRoqG"
      },
      "source": [
        "l=[68,96,88,34,29,37,61,96,29,26,88]"
      ],
      "execution_count": null,
      "outputs": []
    },
    {
      "cell_type": "markdown",
      "metadata": {
        "id": "ALz_6MUpSmhR"
      },
      "source": [
        "write a program to check if all the members of list 1 are present in all members of list 2 or not"
      ]
    },
    {
      "cell_type": "code",
      "metadata": {
        "id": "yr49BfqMSwph"
      },
      "source": [
        "l1=[68,96,34,29,37,61,26,88]\n",
        "l2=[68,96,88,34,29,37,61,96,29,26,88]"
      ],
      "execution_count": null,
      "outputs": []
    },
    {
      "cell_type": "markdown",
      "metadata": {
        "id": "JqhNYQS2S2L4"
      },
      "source": [
        "write a program to count number of strings ina given list"
      ]
    },
    {
      "cell_type": "code",
      "metadata": {
        "id": "NFivYsMES-yH"
      },
      "source": [
        "l=[34,765,12,90,\"sd\",52.1]"
      ],
      "execution_count": null,
      "outputs": []
    },
    {
      "cell_type": "markdown",
      "metadata": {
        "id": "uHYdcHuhS_RE"
      },
      "source": [
        "write a program to find if a given list is a palindrome or not\n",
        "[1,2,3,2,1]\n",
        "Hint: use reverse and copy functions"
      ]
    },
    {
      "cell_type": "code",
      "source": [
        ""
      ],
      "metadata": {
        "id": "WNLiHqq8uLXB"
      },
      "execution_count": null,
      "outputs": []
    },
    {
      "cell_type": "markdown",
      "metadata": {
        "id": "wByNEtYXU_Dz"
      },
      "source": [
        "Note: when we copy entire list using =, new copied list will also reflect all changes made in original list\n",
        "\n",
        "but if we copy using copy function, new copied list will not reflect changes made in original list"
      ]
    },
    {
      "cell_type": "code",
      "metadata": {
        "id": "UQ-zF2ubTMGc"
      },
      "source": [
        ""
      ],
      "execution_count": null,
      "outputs": []
    },
    {
      "cell_type": "markdown",
      "metadata": {
        "id": "YEtMVP2IRpee"
      },
      "source": [
        "Write a python program to extend the main list if all the mebers of other list are integers"
      ]
    },
    {
      "cell_type": "code",
      "metadata": {
        "id": "C1zdaUxSSy99"
      },
      "source": [
        "l=[68,96,88,34,29,37,61,96,29,26,88]\n",
        "l2=[1,98,46,75,35]\n",
        "l3=[12,63.8,68.6,True]"
      ],
      "execution_count": null,
      "outputs": []
    },
    {
      "cell_type": "markdown",
      "metadata": {
        "id": "vvsmQ0akV8Tx"
      },
      "source": [
        "Write a Python program to extract common index elements from more than one given list. Go to the editor\n",
        "Original lists:\n",
        "[1, 1, 3, 4, 5, 6, 7]\n",
        "[0, 1, 2, 3, 4, 5, 7]\n",
        "[0, 1, 2, 3, 4, 5, 7]"
      ]
    },
    {
      "cell_type": "code",
      "metadata": {
        "id": "83wyXqezV-0I"
      },
      "source": [
        ""
      ],
      "execution_count": null,
      "outputs": []
    },
    {
      "cell_type": "markdown",
      "metadata": {
        "id": "ASBZgJBKXugr"
      },
      "source": [
        "Write a Python program to insert a given string at the beginning of all items in a list.\n",
        "Sample list : [1,2,3,4], string : emp\n",
        "Expected output : ['emp1', 'emp2', 'emp3', 'emp4']\n"
      ]
    },
    {
      "cell_type": "code",
      "metadata": {
        "id": "CkIjEMvUXvWc"
      },
      "source": [
        ""
      ],
      "execution_count": null,
      "outputs": []
    },
    {
      "cell_type": "markdown",
      "metadata": {
        "id": "VeqUhz1JYBoN"
      },
      "source": [
        "Write a Python program to insert an element in a given list after every nth position. \n",
        "Original list:\n",
        "[1, 2, 3, 4, 5, 6, 7, 8, 9, 0]\n",
        "Insert a in the said list after 2 nd element:\n",
        "[1, 2, 'a', 3, 4, 'a', 5, 6, 'a', 7, 8, 'a', 9, 0]\n",
        "Insert b in the said list after 4 th element:\n",
        "[1, 2, 3, 4, 'b', 5, 6, 7, 8, 'b', 9, 0]\n"
      ]
    },
    {
      "cell_type": "code",
      "metadata": {
        "id": "lUrnsPmTYCwD"
      },
      "source": [
        ""
      ],
      "execution_count": null,
      "outputs": []
    },
    {
      "cell_type": "code",
      "metadata": {
        "id": "OvCTyXI7ZYK2"
      },
      "source": [
        "\n"
      ],
      "execution_count": null,
      "outputs": []
    },
    {
      "cell_type": "code",
      "metadata": {
        "id": "9nsSOzejZsXB"
      },
      "source": [
        ""
      ],
      "execution_count": null,
      "outputs": []
    }
  ]
}