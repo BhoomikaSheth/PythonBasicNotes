{
  "nbformat": 4,
  "nbformat_minor": 0,
  "metadata": {
    "colab": {
      "name": "Python Day 5",
      "provenance": [],
      "collapsed_sections": [],
      "authorship_tag": "ABX9TyMttMBxFfcxN7U3CwezKkwc",
      "include_colab_link": true
    },
    "kernelspec": {
      "name": "python3",
      "display_name": "Python 3"
    },
    "language_info": {
      "name": "python"
    }
  },
  "cells": [
    {
      "cell_type": "markdown",
      "metadata": {
        "id": "view-in-github",
        "colab_type": "text"
      },
      "source": [
        "<a href=\"https://colab.research.google.com/github/BhoomikaSheth/PythonBasicNotes/blob/main/Python_Day_5.ipynb\" target=\"_parent\"><img src=\"https://colab.research.google.com/assets/colab-badge.svg\" alt=\"Open In Colab\"/></a>"
      ]
    },
    {
      "cell_type": "markdown",
      "metadata": {
        "id": "Ec4L07y2SczU"
      },
      "source": [
        "Functions are a part of program that completes one particular task in your program. A function's name is always followed by () whe nn executing/using the function\n",
        "\n",
        "A function can be broadly divided into 2 categories:\n",
        "1. standard built in function eg print(),input(),type(),len(),etc\n",
        "\n",
        "2. user defined functions. user defined functions are fucntions that we define in accordance to our requiremnets in the program To make use of user defined function it should always be defined first. To define a function def keyword is used. \n",
        "\n",
        "\n",
        "\n",
        "```\n",
        "def func_name(input1,input2,... inputn):\n",
        "    task 1 \n",
        "    task 2\n",
        "    task 3\n",
        "    ....\n",
        "    task n\n",
        "    return output\n",
        "```\n",
        "It is not compulsory that a function should take some input. similarly it is not compulsory for a function to generate some output.\n",
        "\n",
        "Defining a functions name is similar to defining a variable's name. \n",
        "\n",
        "1. function's name should be meaningful\n",
        "2. function's name should not be a keyword/in built function\n",
        "3. A function's name can have alphabets/numbers/_\n",
        "4. A functions's name should start with either an alphabet/_\n"
      ]
    },
    {
      "cell_type": "code",
      "metadata": {
        "colab": {
          "base_uri": "https://localhost:8080/",
          "height": 36
        },
        "id": "egy4cVnmSaKL",
        "outputId": "5400bf45-ee78-472c-b5ac-ff7df6951e97"
      },
      "source": [
        "# function that takes no inputs\n",
        "def greetings():\n",
        "    message = \"Hello! welcome to our shop\"\n",
        "    return message\n",
        "\n",
        "greetings()"
      ],
      "execution_count": null,
      "outputs": [
        {
          "output_type": "execute_result",
          "data": {
            "application/vnd.google.colaboratory.intrinsic+json": {
              "type": "string"
            },
            "text/plain": [
              "'Hello! welcome to our shop'"
            ]
          },
          "metadata": {},
          "execution_count": 1
        }
      ]
    },
    {
      "cell_type": "code",
      "source": [
        "ans = greetings()\n",
        "ans"
      ],
      "metadata": {
        "colab": {
          "base_uri": "https://localhost:8080/",
          "height": 36
        },
        "id": "sujOKZ0O32iQ",
        "outputId": "f92353a6-2398-4723-af57-d2a1f84d07f1"
      },
      "execution_count": null,
      "outputs": [
        {
          "output_type": "execute_result",
          "data": {
            "application/vnd.google.colaboratory.intrinsic+json": {
              "type": "string"
            },
            "text/plain": [
              "'Hello! welcome to our shop'"
            ]
          },
          "metadata": {},
          "execution_count": 2
        }
      ]
    },
    {
      "cell_type": "code",
      "metadata": {
        "id": "qWLmP3WLUWNa"
      },
      "source": [
        "# function taking one input\n",
        "def greetings2(name):\n",
        "    message = \"Hello \"+ name +\" Welcome to bank ATM\"\n",
        "    return message\n",
        "\n",
        "greetings2()"
      ],
      "execution_count": null,
      "outputs": []
    },
    {
      "cell_type": "code",
      "source": [
        "greetings2(\"GEC Students\")"
      ],
      "metadata": {
        "colab": {
          "base_uri": "https://localhost:8080/",
          "height": 36
        },
        "id": "7wVrG4BZ4Sdj",
        "outputId": "081ffc9b-8bb9-4069-e1cc-89d8484947d0"
      },
      "execution_count": null,
      "outputs": [
        {
          "output_type": "execute_result",
          "data": {
            "application/vnd.google.colaboratory.intrinsic+json": {
              "type": "string"
            },
            "text/plain": [
              "'Hello GEC Students Welcome to bank ATM'"
            ]
          },
          "metadata": {},
          "execution_count": 4
        }
      ]
    },
    {
      "cell_type": "code",
      "metadata": {
        "colab": {
          "base_uri": "https://localhost:8080/",
          "height": 36
        },
        "id": "O6otuUEvU-_5",
        "outputId": "1934cf32-a2f6-4375-f9f5-e7720d78fff4"
      },
      "source": [
        "# function taking two input\n",
        "def greetings3(name,last_name):\n",
        "    message = \"Hello \"+name+\" \"+last_name+\" Welcome to GEC College\"\n",
        "    return message\n",
        "\n",
        "greetings3(\"GEC\",\"Students\")"
      ],
      "execution_count": null,
      "outputs": [
        {
          "output_type": "execute_result",
          "data": {
            "application/vnd.google.colaboratory.intrinsic+json": {
              "type": "string"
            },
            "text/plain": [
              "'Hello GEC Students Welcome to GEC College'"
            ]
          },
          "metadata": {},
          "execution_count": 5
        }
      ]
    },
    {
      "cell_type": "markdown",
      "metadata": {
        "id": "ev0Q2zW6VPbU"
      },
      "source": [
        "#Scope of a function, Local and Global variables\n",
        "\n",
        "A local varibale is a variable defined inside a function and which can be used only inside the functions that has declared this variables\n",
        "\n",
        "A global variable is a variable that has been declared outside all functions and can be accessed by all functions but cannot be edited by these functions without defining them as global first.\n",
        "\n",
        "\n",
        "## Global"
      ]
    },
    {
      "cell_type": "code",
      "metadata": {
        "colab": {
          "base_uri": "https://localhost:8080/"
        },
        "id": "l6AzXF6jVxjv",
        "outputId": "2db9f37a-6750-4b2a-c4fe-40025fe2de0e"
      },
      "source": [
        "var_global = 8  # global variable\n",
        "print(var_global)\n",
        "var_global=var_global+5\n",
        "print(var_global)\n",
        "print()\n",
        "def add(n1,n2):\n",
        "    result = n1+n2   # n1,n2, result are local\n",
        "    print(\"value of global variable is\",var_global)\n",
        "    print(\"value of local variable is\",result)\n",
        "    return result\n",
        "\n",
        "add(2,3)\n"
      ],
      "execution_count": null,
      "outputs": [
        {
          "output_type": "stream",
          "name": "stdout",
          "text": [
            "8\n",
            "13\n",
            "\n",
            "value of global variable is 13\n",
            "value of local variable is 5\n"
          ]
        },
        {
          "output_type": "execute_result",
          "data": {
            "text/plain": [
              "5"
            ]
          },
          "metadata": {},
          "execution_count": 6
        }
      ]
    },
    {
      "cell_type": "code",
      "metadata": {
        "id": "fLPQ9OZzWaEG"
      },
      "source": [
        "result = 10\n",
        "\n",
        "def add10(n1):\n",
        "    result = result + n1  \n",
        "    return result\n",
        "\n",
        "add10(7)\n"
      ],
      "execution_count": null,
      "outputs": []
    },
    {
      "cell_type": "code",
      "metadata": {
        "colab": {
          "base_uri": "https://localhost:8080/"
        },
        "id": "t-C0thMpWoA6",
        "outputId": "e9a01f47-5501-4636-c9f6-a049c67d5fbd"
      },
      "source": [
        "result = 10  # global\n",
        "\n",
        "def add10_2(n1):  # n1 local\n",
        "    global result\n",
        "    result = result + n1  \n",
        "    return result\n",
        "\n",
        "add10_2(7)\n"
      ],
      "execution_count": null,
      "outputs": [
        {
          "output_type": "execute_result",
          "data": {
            "text/plain": [
              "17"
            ]
          },
          "metadata": {},
          "execution_count": 8
        }
      ]
    },
    {
      "cell_type": "markdown",
      "metadata": {
        "id": "JkLEA0S8W8C_"
      },
      "source": [
        "##Local"
      ]
    },
    {
      "cell_type": "code",
      "metadata": {
        "colab": {
          "base_uri": "https://localhost:8080/"
        },
        "id": "IhKnIojhXAhO",
        "outputId": "bcd536d7-0bd2-4d52-e5e3-0e8652a09130"
      },
      "source": [
        "def mult(n1,n2):\n",
        "    return n1*n2   # n1 and n2 are local\n",
        "mult(3,5)"
      ],
      "execution_count": null,
      "outputs": [
        {
          "output_type": "execute_result",
          "data": {
            "text/plain": [
              "15"
            ]
          },
          "metadata": {},
          "execution_count": 9
        }
      ]
    },
    {
      "cell_type": "markdown",
      "metadata": {
        "id": "XcumYWPZYDK5"
      },
      "source": [
        "## function without output"
      ]
    },
    {
      "cell_type": "code",
      "metadata": {
        "id": "iEF8q9faX8DD"
      },
      "source": [
        "# a function without output\n",
        "result = 30\n",
        "\n",
        "def add30(num):\n",
        "    global result\n",
        "    result= result + num\n",
        "\n",
        "add30(60)\n"
      ],
      "execution_count": null,
      "outputs": []
    },
    {
      "cell_type": "code",
      "source": [
        "result"
      ],
      "metadata": {
        "colab": {
          "base_uri": "https://localhost:8080/"
        },
        "id": "jJZ9YULh7AY9",
        "outputId": "77a13c80-deb9-467e-8038-0d3443a8ccc5"
      },
      "execution_count": null,
      "outputs": [
        {
          "output_type": "execute_result",
          "data": {
            "text/plain": [
              "90"
            ]
          },
          "metadata": {},
          "execution_count": 11
        }
      ]
    },
    {
      "cell_type": "markdown",
      "metadata": {
        "id": "EWDewGYZbmIZ"
      },
      "source": [
        "##Exercises"
      ]
    },
    {
      "cell_type": "markdown",
      "metadata": {
        "id": "w7popzPVboho"
      },
      "source": [
        "Write a Python function to create all possible strings by using 'a', 'e', 'i', 'o', 'u'. Use the characters exactly once."
      ]
    },
    {
      "cell_type": "code",
      "metadata": {
        "id": "HwsLoBSZbppF"
      },
      "source": [
        "# aeiou\n",
        "# eioua\n",
        "# iouae\n",
        "\n",
        "\n",
        "# check\n",
        "data = \"aeiou\"\n",
        "def permutations():\n",
        "    data2=list(data)\n",
        "    output=[]\n",
        "    for i in range(0,len(data2)):\n",
        "        output.append(data2[i])\n",
        "        print(output)\n",
        "        result = \"\"\n",
        "        result + \n",
        "\n",
        "permutations()"
      ],
      "execution_count": null,
      "outputs": []
    },
    {
      "cell_type": "markdown",
      "metadata": {
        "id": "zWdOltZEbqNg"
      },
      "source": [
        "Write a Python function to take a long text as input, convert the string to a list and print all the words and their frequencies"
      ]
    },
    {
      "cell_type": "code",
      "metadata": {
        "id": "oXwIKWdxb8ho"
      },
      "source": [
        ""
      ],
      "execution_count": null,
      "outputs": []
    },
    {
      "cell_type": "markdown",
      "metadata": {
        "id": "0wsVZaYYb9BL"
      },
      "source": [
        "Write a python functions for a standard calculator"
      ]
    },
    {
      "cell_type": "code",
      "metadata": {
        "id": "5rpQCabMcHY6"
      },
      "source": [
        ""
      ],
      "execution_count": null,
      "outputs": []
    },
    {
      "cell_type": "markdown",
      "metadata": {
        "id": "8QqrbdMTcIHZ"
      },
      "source": [
        "Write a Python program to find the number of notes of a particular amount(eg: 10, 20, 50, 100, 200 and 500 ) against a given amount. "
      ]
    },
    {
      "cell_type": "code",
      "metadata": {
        "id": "wbqw3nfjcVS3"
      },
      "source": [
        ""
      ],
      "execution_count": null,
      "outputs": []
    },
    {
      "cell_type": "markdown",
      "metadata": {
        "id": "BDhytvx_cV-R"
      },
      "source": [
        "Write a python function to convert millions and billions to lakhs and crores using proper ,\n",
        "eg 1,000,000-----> 10,00,000\n",
        "\n",
        "1 million--- 10 lakh"
      ]
    },
    {
      "cell_type": "code",
      "metadata": {
        "id": "IrHthCrmcbMi"
      },
      "source": [
        ""
      ],
      "execution_count": null,
      "outputs": []
    },
    {
      "cell_type": "markdown",
      "metadata": {
        "id": "V86mdnj1cbvt"
      },
      "source": [
        "Write a python function to convert lakhs and crores to millions and billions using proper ,\n",
        "\n",
        "eg 10,00,00,000--100,000,000\n",
        "10 crores--- 100 million"
      ]
    },
    {
      "cell_type": "code",
      "source": [
        ""
      ],
      "metadata": {
        "id": "OnjrdJEN7PSm"
      },
      "execution_count": null,
      "outputs": []
    },
    {
      "cell_type": "markdown",
      "metadata": {
        "id": "xBscIeXyZWkI"
      },
      "source": [
        "## Types of User defined function"
      ]
    },
    {
      "cell_type": "markdown",
      "metadata": {
        "id": "MBlX7Etwjar1"
      },
      "source": [
        " ###1. Requiered arguments"
      ]
    },
    {
      "cell_type": "code",
      "metadata": {
        "colab": {
          "base_uri": "https://localhost:8080/"
        },
        "id": "ifOPDDMjjfBs",
        "outputId": "dafc8d44-f6fb-4156-8c6b-3541781185d8"
      },
      "source": [
        "#addition of a series of numbers: start 5, end 10----- 5+6+7+8+9+10\n",
        "def add_series(start,end):\n",
        "    total=0\n",
        "    for i in range(start,end+1):\n",
        "        total=total+i\n",
        "    return total\n",
        "\n",
        "add_series(5,10)"
      ],
      "execution_count": null,
      "outputs": [
        {
          "output_type": "execute_result",
          "data": {
            "text/plain": [
              "45"
            ]
          },
          "metadata": {},
          "execution_count": 13
        }
      ]
    },
    {
      "cell_type": "code",
      "metadata": {
        "id": "ssJL2Y31kM7_"
      },
      "source": [
        "add_series(5)"
      ],
      "execution_count": null,
      "outputs": []
    },
    {
      "cell_type": "code",
      "metadata": {
        "colab": {
          "base_uri": "https://localhost:8080/"
        },
        "id": "RkC77AQrkM1Y",
        "outputId": "35b9cb1f-dd7e-4116-8030-90910fe065d9"
      },
      "source": [
        "add_series(10,5)"
      ],
      "execution_count": null,
      "outputs": [
        {
          "output_type": "execute_result",
          "data": {
            "text/plain": [
              "0"
            ]
          },
          "metadata": {},
          "execution_count": 15
        }
      ]
    },
    {
      "cell_type": "code",
      "metadata": {
        "id": "aE6SByVCkWPf"
      },
      "source": [
        "add_series(15,10,-1)"
      ],
      "execution_count": null,
      "outputs": []
    },
    {
      "cell_type": "markdown",
      "metadata": {
        "id": "s14T62-ykfwe"
      },
      "source": [
        "### 2. Keyword Arguments"
      ]
    },
    {
      "cell_type": "code",
      "metadata": {
        "colab": {
          "base_uri": "https://localhost:8080/"
        },
        "id": "GU_MBTcRkjwv",
        "outputId": "57340682-d731-41bd-b7cd-60c24284cfbe"
      },
      "source": [
        "add_series(end=10,start=5)"
      ],
      "execution_count": null,
      "outputs": [
        {
          "output_type": "execute_result",
          "data": {
            "text/plain": [
              "45"
            ]
          },
          "metadata": {},
          "execution_count": 17
        }
      ]
    },
    {
      "cell_type": "code",
      "metadata": {
        "id": "DpYPMe2vkutn"
      },
      "source": [
        "add_series(begin=5,end=10)"
      ],
      "execution_count": null,
      "outputs": []
    },
    {
      "cell_type": "markdown",
      "metadata": {
        "id": "qY9mMySVlRyc"
      },
      "source": [
        "### 3.Default arguments"
      ]
    },
    {
      "cell_type": "code",
      "metadata": {
        "colab": {
          "base_uri": "https://localhost:8080/"
        },
        "id": "6Hd_NByblUIq",
        "outputId": "5124eadb-52d1-45a2-9670-ff9f994f3484"
      },
      "source": [
        "def add_series(start,end,interval=1):\n",
        "    total=0\n",
        "    for i in range(start,end+interval,interval):\n",
        "\n",
        "        total=total+i\n",
        "    return total\n",
        "add_series(5,10)"
      ],
      "execution_count": null,
      "outputs": [
        {
          "output_type": "execute_result",
          "data": {
            "text/plain": [
              "45"
            ]
          },
          "metadata": {},
          "execution_count": 19
        }
      ]
    },
    {
      "cell_type": "code",
      "metadata": {
        "colab": {
          "base_uri": "https://localhost:8080/"
        },
        "id": "1xRan8-VmfWB",
        "outputId": "d39adfe0-db98-4fe9-f0eb-42fbfb62a547"
      },
      "source": [
        "add_series(10,5)"
      ],
      "execution_count": null,
      "outputs": [
        {
          "output_type": "execute_result",
          "data": {
            "text/plain": [
              "0"
            ]
          },
          "metadata": {},
          "execution_count": 20
        }
      ]
    },
    {
      "cell_type": "code",
      "metadata": {
        "id": "mQBcOjhImjKD"
      },
      "source": [
        "#add_series(10,5,-1)"
      ],
      "execution_count": null,
      "outputs": []
    },
    {
      "cell_type": "markdown",
      "metadata": {
        "id": "5niJObC_tUAt"
      },
      "source": [
        "### 4. multiple length arguments\n",
        "### 4. variable length arguments\n",
        "\n",
        "\n",
        "```\n",
        "*args\n",
        "**kargs\n",
        "```\n",
        "\n"
      ]
    },
    {
      "cell_type": "code",
      "metadata": {
        "colab": {
          "base_uri": "https://localhost:8080/"
        },
        "id": "02n1btcCiGPM",
        "outputId": "90e0342a-81cc-4599-de8e-47a66da3ac64"
      },
      "source": [
        "def add_n(*num):\n",
        "    total=0\n",
        "    print(num,type(num))\n",
        "    for en in num:\n",
        "        total=total+en\n",
        "    return total\n",
        "add_n(63,25,36,25,85)"
      ],
      "execution_count": null,
      "outputs": [
        {
          "output_type": "stream",
          "name": "stdout",
          "text": [
            "(63, 25, 36, 25, 85) <class 'tuple'>\n"
          ]
        },
        {
          "output_type": "execute_result",
          "data": {
            "text/plain": [
              "234"
            ]
          },
          "metadata": {},
          "execution_count": 22
        }
      ]
    },
    {
      "cell_type": "code",
      "metadata": {
        "colab": {
          "base_uri": "https://localhost:8080/",
          "height": 54
        },
        "id": "D1OjAd1qi-vk",
        "outputId": "83cbf6da-9e51-4ab5-f1fe-d08876a64b3d"
      },
      "source": [
        "def func(**name):\n",
        "    print(name,type(name))\n",
        "    output=\"\"\n",
        "    for echdata in name.values():\n",
        "        output=output+echdata+\" \"\n",
        "    return \"Welcome \"+output\n",
        "    \n",
        "func(first=\"xyz\",middle=\"abc\",last=\"pqr\")"
      ],
      "execution_count": null,
      "outputs": [
        {
          "output_type": "stream",
          "name": "stdout",
          "text": [
            "{'first': 'xyz', 'middle': 'abc', 'last': 'pqr'} <class 'dict'>\n"
          ]
        },
        {
          "output_type": "execute_result",
          "data": {
            "application/vnd.google.colaboratory.intrinsic+json": {
              "type": "string"
            },
            "text/plain": [
              "'Welcome xyz abc pqr '"
            ]
          },
          "metadata": {},
          "execution_count": 23
        }
      ]
    },
    {
      "cell_type": "markdown",
      "metadata": {
        "id": "h8jhQ4KDtZhE"
      },
      "source": [
        "### 5. lambda functions\n",
        "### 5. anonymous functions\n",
        "\n",
        "\n",
        "\n",
        "\n",
        "\n"
      ]
    },
    {
      "cell_type": "code",
      "metadata": {
        "id": "yEk4meFP19kK"
      },
      "source": [
        "#function_name=lambda  input/inputs : output/outputs "
      ],
      "execution_count": null,
      "outputs": []
    },
    {
      "cell_type": "code",
      "metadata": {
        "colab": {
          "base_uri": "https://localhost:8080/"
        },
        "id": "shKbMbGY2GqH",
        "outputId": "98813b6b-2b08-425d-98f8-66d51068aaba"
      },
      "source": [
        "add = lambda a,b:a+b\n",
        "add(10,20)"
      ],
      "execution_count": null,
      "outputs": [
        {
          "output_type": "execute_result",
          "data": {
            "text/plain": [
              "30"
            ]
          },
          "metadata": {},
          "execution_count": 25
        }
      ]
    },
    {
      "cell_type": "code",
      "metadata": {
        "colab": {
          "base_uri": "https://localhost:8080/",
          "height": 54
        },
        "id": "qIo2bOqp2bqb",
        "outputId": "b04080a0-4b8f-4122-c739-8a22ced2c07e"
      },
      "source": [
        "number_type = lambda a: \"even\" if(a%2==0) else \"odd\" \n",
        "print(number_type(56))\n",
        "number_type(45)\n"
      ],
      "execution_count": null,
      "outputs": [
        {
          "output_type": "stream",
          "name": "stdout",
          "text": [
            "even\n"
          ]
        },
        {
          "output_type": "execute_result",
          "data": {
            "application/vnd.google.colaboratory.intrinsic+json": {
              "type": "string"
            },
            "text/plain": [
              "'odd'"
            ]
          },
          "metadata": {},
          "execution_count": 26
        }
      ]
    },
    {
      "cell_type": "markdown",
      "metadata": {
        "id": "9xkTRuWq6h2L"
      },
      "source": [
        "write a lambda function to find the count of vowles in a word"
      ]
    },
    {
      "cell_type": "code",
      "metadata": {
        "colab": {
          "base_uri": "https://localhost:8080/"
        },
        "id": "2EViUMQjfNKE",
        "outputId": "92fa13af-acd3-4bdd-dbc8-73ddffeb5748"
      },
      "source": [
        "vowel_count=lambda string:(string.lower().count('a')+string.lower().count('e')+string.lower().count('i')+string.lower().count('o')+string.lower().count('u'))\n",
        "vowel_count(\"GytdaAfHeeE\")"
      ],
      "execution_count": null,
      "outputs": [
        {
          "output_type": "execute_result",
          "data": {
            "text/plain": [
              "5"
            ]
          },
          "metadata": {},
          "execution_count": 27
        }
      ]
    },
    {
      "cell_type": "markdown",
      "metadata": {
        "id": "cJLtM4_P6rpm"
      },
      "source": [
        "write a lambda function to check if word has any digit in it or not"
      ]
    },
    {
      "cell_type": "code",
      "metadata": {
        "colab": {
          "base_uri": "https://localhost:8080/",
          "height": 54
        },
        "id": "8iAPkLU-ib-2",
        "outputId": "8f95f0c2-7d59-4e46-c4a5-dcc05158536a"
      },
      "source": [
        "number_present = lambda a: \"Yes number present\" if((\"1\" in a) or (\"2\" in a) or(\"3\" in a)or(\"4\" in a)) else \"No number present\" \n",
        "print(number_present(\"fhgeryfb\"))\n",
        "number_present(\"fhgeryfb123\")"
      ],
      "execution_count": null,
      "outputs": [
        {
          "output_type": "stream",
          "name": "stdout",
          "text": [
            "No number present\n"
          ]
        },
        {
          "output_type": "execute_result",
          "data": {
            "application/vnd.google.colaboratory.intrinsic+json": {
              "type": "string"
            },
            "text/plain": [
              "'Yes number present'"
            ]
          },
          "metadata": {},
          "execution_count": 28
        }
      ]
    },
    {
      "cell_type": "markdown",
      "metadata": {
        "id": "VC6K98BHkQR-"
      },
      "source": [
        "###recurssive function"
      ]
    },
    {
      "cell_type": "markdown",
      "metadata": {
        "id": "_bMRSEAr4O1L"
      },
      "source": [
        "factorial of 5 = 5!=5x4x3x2x1"
      ]
    },
    {
      "cell_type": "code",
      "metadata": {
        "colab": {
          "base_uri": "https://localhost:8080/"
        },
        "id": "QEm2VLMf4Jyk",
        "outputId": "61a7a659-7321-4d68-cafe-826dc86c9667"
      },
      "source": [
        "def fact(num):\n",
        "    if num<0:\n",
        "        return 0\n",
        "    elif num==0:\n",
        "        return 1\n",
        "    elif num==1:\n",
        "        return 1\n",
        "    else: \n",
        "       return num*fact(num-1)#5*(4!), 5*(4*3!), 5 (*4(*3*2!)),5*4*3*2*1!, 5*4*3*2*1\n",
        "fact(5)   "
      ],
      "execution_count": null,
      "outputs": [
        {
          "output_type": "execute_result",
          "data": {
            "text/plain": [
              "120"
            ]
          },
          "metadata": {},
          "execution_count": 29
        }
      ]
    },
    {
      "cell_type": "code",
      "metadata": {
        "colab": {
          "base_uri": "https://localhost:8080/",
          "height": 202
        },
        "id": "OqX69ipg3C5j",
        "outputId": "60da9715-7c57-4c70-e2e9-74b584ccf71b"
      },
      "source": [
        "# Game\n",
        "# Variables --> [ people_count, i, ]\n",
        "# Functions --> []\n",
        "\n",
        "import random\n",
        "def pass_parcel(l):\n",
        "    if len(l)==1:\n",
        "        return l[0]+\" is The Winner!\"\n",
        "    else:\n",
        "        kick_person = random.choice(l)\n",
        "        l.remove(kick_person)\n",
        "        print(str(kick_person)+ \" is removed!\")\n",
        "        return pass_parcel(l)#always return\n",
        "\n",
        "    \n",
        "l2=[\"person_1\",\"person_2\",\"person_3\",\"person_4\",\"person_5\",\"person_6\",\"person_7\",\"person_8\",\"person_9\",\"person_10\"]\n",
        "pass_parcel(l2)"
      ],
      "execution_count": null,
      "outputs": [
        {
          "output_type": "stream",
          "name": "stdout",
          "text": [
            "person_7 is removed!\n",
            "person_3 is removed!\n",
            "person_2 is removed!\n",
            "person_8 is removed!\n",
            "person_5 is removed!\n",
            "person_10 is removed!\n",
            "person_9 is removed!\n",
            "person_4 is removed!\n",
            "person_1 is removed!\n"
          ]
        },
        {
          "output_type": "execute_result",
          "data": {
            "application/vnd.google.colaboratory.intrinsic+json": {
              "type": "string"
            },
            "text/plain": [
              "'person_6 is The Winner!'"
            ]
          },
          "metadata": {},
          "execution_count": 30
        }
      ]
    },
    {
      "cell_type": "markdown",
      "metadata": {
        "id": "cFi_AZc97NbC"
      },
      "source": [
        "write a recurrsive function to get sum of all numbers in a list"
      ]
    },
    {
      "cell_type": "code",
      "metadata": {
        "id": "P1FsI_Q7lrwr"
      },
      "source": [
        ""
      ],
      "execution_count": null,
      "outputs": []
    },
    {
      "cell_type": "markdown",
      "metadata": {
        "id": "aeo1DAiD7SMc"
      },
      "source": [
        "write a reccursive function to get harmonic sum of all numers in a list\n",
        "eg harmonic sum of 1,2,3 is\n",
        "(1/1)+(1/2)+(1/3)"
      ]
    },
    {
      "cell_type": "code",
      "metadata": {
        "colab": {
          "base_uri": "https://localhost:8080/"
        },
        "id": "j1TbImo2mN3G",
        "outputId": "f832e878-3ab7-49f4-e544-a0234547823b"
      },
      "source": [
        "def harmonic_sum_recursive(input_list):\n",
        "    if input_list == []:\n",
        "        return 0\n",
        "    else:\n",
        "        head = 1/input_list[0]\n",
        "        smaller_list = input_list[1:]\n",
        "        return head + harmonic_sum_recursive(smaller_list)\n",
        "harmonic_sum_recursive([1,2,3,4,5])"
      ],
      "execution_count": null,
      "outputs": [
        {
          "output_type": "execute_result",
          "data": {
            "text/plain": [
              "2.283333333333333"
            ]
          },
          "metadata": {},
          "execution_count": 31
        }
      ]
    },
    {
      "cell_type": "markdown",
      "metadata": {
        "id": "oThopvIW7n45"
      },
      "source": [
        "write a reccursive function to print the value of a to the power of b\n",
        "\n",
        "\n",
        "```\n",
        "'a**b'\n",
        "'eg 2**5=32'\n",
        "```\n",
        "\n"
      ]
    },
    {
      "cell_type": "code",
      "metadata": {
        "id": "4vQBLxO9moQs"
      },
      "source": [
        ""
      ],
      "execution_count": null,
      "outputs": []
    },
    {
      "cell_type": "markdown",
      "metadata": {
        "id": "tAJzHZ4JkS5V"
      },
      "source": [
        "### function inside function"
      ]
    },
    {
      "cell_type": "code",
      "metadata": {
        "colab": {
          "base_uri": "https://localhost:8080/"
        },
        "id": "oxvda9CCt_4e",
        "outputId": "48ebc71f-ff6d-4119-9ca5-f73c35409e4c"
      },
      "source": [
        "# not advisable:\n",
        "\n",
        "def multiple(a,b):\n",
        "    def add(n1,n2):\n",
        "        return (n1+n2)\n",
        "    o=0\n",
        "    for i in range(b):\n",
        "        o=add(o,a)#0+5,5+5,10+5,15+5\n",
        "    return o\n",
        "multiple(5,4)    #5*4=5+5+5+5\n",
        "#add(6,3)\n",
        "#add(4,5) not a global function so cannot be called outside of multiple function "
      ],
      "execution_count": null,
      "outputs": [
        {
          "output_type": "execute_result",
          "data": {
            "text/plain": [
              "20"
            ]
          },
          "metadata": {},
          "execution_count": 32
        }
      ]
    },
    {
      "cell_type": "markdown",
      "metadata": {
        "id": "T9N3-gL5kcA6"
      },
      "source": [
        "###function with 2 names(function copies)"
      ]
    },
    {
      "cell_type": "code",
      "metadata": {
        "colab": {
          "base_uri": "https://localhost:8080/",
          "height": 36
        },
        "id": "t3-wM3-HvJa9",
        "outputId": "b36eb724-9a35-4ff5-e358-cf190410df3a"
      },
      "source": [
        "def func1(a,b):\n",
        "    return (a+b)\n",
        "    \n",
        "func2=func1\n",
        "func2(\"Hello\",\"world\")"
      ],
      "execution_count": null,
      "outputs": [
        {
          "output_type": "execute_result",
          "data": {
            "application/vnd.google.colaboratory.intrinsic+json": {
              "type": "string"
            },
            "text/plain": [
              "'Helloworld'"
            ]
          },
          "metadata": {},
          "execution_count": 33
        }
      ]
    },
    {
      "cell_type": "markdown",
      "metadata": {
        "id": "58itJphznCzC"
      },
      "source": [
        "write a function to print multiplicative series of given numbers"
      ]
    },
    {
      "cell_type": "code",
      "metadata": {
        "id": "r8IkFoxtnKTo"
      },
      "source": [
        ""
      ],
      "execution_count": null,
      "outputs": []
    },
    {
      "cell_type": "markdown",
      "metadata": {
        "id": "lHH_a89JnKlj"
      },
      "source": [
        "write a function to find weight of any item from given mass item. take gravitational constant g as 9.8 if not given.\n",
        "\n",
        "weight=mass*gravitational contast(g)\n"
      ]
    },
    {
      "cell_type": "code",
      "metadata": {
        "id": "j8pdJ-J5nvab"
      },
      "source": [
        ""
      ],
      "execution_count": null,
      "outputs": []
    },
    {
      "cell_type": "markdown",
      "metadata": {
        "id": "xiK6wN77nv3e"
      },
      "source": [
        "write a function to check if given dimensions represnt a triangle or not, if they do, return its area as an output using heron's formula\n",
        "\n",
        "area=sqrt(s x(s-a)x(s-b)x(s-c)) where s=(a+b+c)/2"
      ]
    },
    {
      "cell_type": "code",
      "metadata": {
        "id": "jt8zwusGonxQ"
      },
      "source": [
        ""
      ],
      "execution_count": null,
      "outputs": []
    },
    {
      "cell_type": "markdown",
      "metadata": {
        "id": "M7qr9nEbopxp"
      },
      "source": [
        "write a function for rock, paper, scissors game"
      ]
    },
    {
      "cell_type": "code",
      "metadata": {
        "id": "CKVtdkD7pBZY"
      },
      "source": [
        ""
      ],
      "execution_count": null,
      "outputs": []
    },
    {
      "cell_type": "markdown",
      "metadata": {
        "id": "p-pxLzEspD5_"
      },
      "source": [
        "write a function to return nearest (greater) prime number. if the number is a prime number, retunr same number"
      ]
    },
    {
      "cell_type": "code",
      "metadata": {
        "id": "vPTqL6mnqggK"
      },
      "source": [
        "#45 , 47\n",
        "#13"
      ],
      "execution_count": null,
      "outputs": []
    },
    {
      "cell_type": "markdown",
      "metadata": {
        "id": "Tc3vCTORk06a"
      },
      "source": [
        "write a function to get board marks of all students of your school and from that print the top performers of your school\n",
        "\n",
        "surat_10_percentage=[[245,63],[698,59],[125,78],[245,88],[698,56],[245,54],[245,89],[698,78],[245,82]]\n",
        "\n",
        "[[school id, percentage]]\n",
        "for school 245\n"
      ]
    },
    {
      "cell_type": "code",
      "metadata": {
        "id": "OYNG7_VPnmsC"
      },
      "source": [
        ""
      ],
      "execution_count": null,
      "outputs": []
    },
    {
      "cell_type": "markdown",
      "metadata": {
        "id": "bX752VrRmJ59"
      },
      "source": [
        "write a function to find out if any of given numbers exist in your data base or not"
      ]
    },
    {
      "cell_type": "code",
      "metadata": {
        "id": "FASwFmJsmJkw"
      },
      "source": [
        ""
      ],
      "execution_count": null,
      "outputs": []
    },
    {
      "cell_type": "markdown",
      "metadata": {
        "id": "GqrXKmv3m447"
      },
      "source": [
        "write a function to design a passing the parcel game for n players"
      ]
    },
    {
      "cell_type": "code",
      "metadata": {
        "id": "a3JOX-6wnRM7"
      },
      "source": [
        ""
      ],
      "execution_count": null,
      "outputs": []
    },
    {
      "cell_type": "markdown",
      "metadata": {
        "id": "fDBcYUgAx6wf"
      },
      "source": [
        "### Standard inbuilt functions\n",
        "\n",
        "![image.png](data:image/png;base64,iVBORw0KGgoAAAANSUhEUgAAA0AAAAIyCAYAAADi/qo8AAAgAElEQVR4nOydd3RUZd6As+t+tlXXsiKIdJAg9l5XFAuorIK9g6Ci2AsWLEgX6VV6D72TAEkIISG9THqvkzLJJNN7fb4/kkCAoEHDZhJ/zznPOZxhMvPOzTv33ufOnRs/BEEQBEEQBEEQ/iL4tfYABEEQBEEQBEEQ/ldIAAmCIAiCIAiC8JdBAkgQBEEQBEEQhL8MEkCCIAiCIAiCIPxlkAASBEEQBEEQBOEvwykBZDQaqa6uRq1WU1NTI4o+rVqtpra29ti/W3s8Ytu2YQ7V1taiVqtlTomtbsM6Tuaj6As2XkfKvqLo66rVaqqrqzEajb8fQBUVFSiVStRq9bF/i6IvWlZWhkqloqioiLKyMmpqamTOin/KyspKlEolRUVF1NTUoFKpKCsra/VxiX9Ny8rKqKyspLCwkMrKStRqNeXl5a0+LvGva2VlJaWlpRQXF1NTU0NlZaWsI0WftbKykpKSEioqKn4/gCorK9Hr9bjdbgwGAzqdThR9Ur1ej8Vioby8HJ1Oh8fjkTkr/inNZjO1tbVUVFTg8XiwWCzo9fpWH5f419RgMGA2m1EqlZjNZpxOp6zjxFbVbDajVquprKzE6/ViNptlHSn6rI3na7MCqKqqCqPRiEajQavViqLPqtPpKC0tlTkrtog6nQ6VSoVSqZT5JPqMJSUl1NbWYjAYZE6KrapOpzv2qY/RaGz18Yjib6nT6aioqEClUv1+AKlUKioqKtDpdK0+cFH8PXU6HUqlUuas2CI2BFBpaWmrj0UUGywpKaGqqgq9Xt/qYxH/2jYEkFKplG2u6PNKAIntVgkgsSXV6XRUVVVRUlLS6mMRxQYbAkjWcWJr2xBApaWlMh9Fn1cCSGy3SgCJLakEkOiLSgCJvqIEkNiWlAAS260SQGJLKgEk+qISQKKvKAEktiUlgMR2qwSQ2JJKAIm+qASQ6CtKAIltSQkgsd0qASS2pGcUQDo9eoMRo/E0GgwY9H9wTur0GAwGjEYD+oZ5rddjMBgxGvTodY3vq0OvN5x422+O90+M65Qx/sbrNxrQt8TztMjvVY/BoEd3wrIwHFsWulYaV3OVABJ9RQkgsS0pASS2WyWAxJb0zAJIh06vR/97/qF5efyxdbqTn093wm36k+/XrMdsiffK779+X3hP6nRN/R5aelmcXSWARF9RAkhsS0oAie1WCSCxJW1eAOnQm21UHFrGtPf+y2NPPs0zzzzD008/fdynnmDIc68z5tckytQGbOZmXr5Yb8Skq6QibiGfvjKMJwe9xoR9aRSaXeRsnsrYF+7nvld/4te9OTisRkx2D9UZkWye9AEzQqtR1RoxNhFCeouDqsj1zB0ziPseH8nX8w9QZDGh1/2RTz+MmG0qCtM38O1zwxg65L88/cwzPNP49T/9FI8PHM74tSHkuGwYW+n3qTFYsRuKyA6ZzxdfrSK2vAaDWYcucx0/jX6JQQOG8eXacBS1Dqz61p9/p1MCSPQVJYDEtqQEkNhulQASW9LmBpDB5kK5ZRwj7ryccy++lMv+dREXnn8+F1xwARecfz4XnH8+/7ysA13vHMZ7C2MprNBjNemOPUdTj6nT6dAazFh0ZZQe+Ih7Ol3MOX6dGbY0mkwbKGa9yeBr/PDr+RJfrUgDr5GCxN1MGHoPD9x7H29vUaPSmDE3sSNvsHup2DWRd2/xw8+vD4+MWUWO3YJep6uLoJNOqdP9ZhiZsLnKyY6bzpBOV/Hvf13Kvy6+kAsvOJ/zz7+gbhlc8A/8/HrwzPj1JOPGXP+6m3rMpm4/YRkd+6vev/G7a/SXv4/dZrRiV2WSsnYMgx+8i5seHU9oeS1mmx59/E8MvaEDfn4XM2D8No7UeHEYThrTyY/X1O+rucvshL9OfubzUgJI9BUlgMS2pASQ2G6VABJb0mYHkNVJ2Y4JvD/gai7qdAdPvPU9y7ZvYWPABjZt3caaxXP5YEBXenS+iq6PTWFfWjkmuw2b3Ynb68VtN2PSa9BoNGj1RswOD16PG5fDilFXg7okifADgezZfYDo3HJqrC4S5o3m2X7nce5NI/h+TTbgJPfwPF7o9Dc63/4Enx90YnV6cBh1aDUnvS6DkdqidBLDdrNtdwiRSXlU6fXoDVacHg9utwuH2YjN6cLl8eDxePA6rZiMOjSak1+/CauzgpyEObzQqxs9e/bjkU8W8+varWzZtIENGzawYcN61qzaTmhCFmVmCxarA4/Xg9tpx6LXotVo0Op0mOxu3B4PHqcFo16LRmvCanfhwYPTasVqqRufx+PB43bisJz8SZoes915bMwerwenzYxRq0FrBWqSiZpwHxde1oebh84i0WjH47VirEwjKnQ/u3cEEpFWSJnGiEGnQaM1YLI66sbk8eDxuHG7bJh0OrRaTd1z6i3YnG48XjcOiwWb1Y7L68Hj8eJxObCZG9ZDda/RYHXicjc8ngeP24HFZKhbBs2clxJAoq8oASS2JSWAxHarBJDYkp5xAD3YgXM7DuSdmSFoAfDWrUhN5SRPH8wNvbpxdc8XmBefjdqTz8HlM/huzBgmrAkhusSOzWZFkxdPyK/f8skX45m6JJj82iqqc/ezas4vTJk8l81xhVRY3SQdC6BRTN4aQ6liCz+8MoR7enWiZ/+befDlbxg3YQ0RZSpqTAb0jV+X0YI6/TB7l03m+0mLWLcvmWpbDcVZ+1gw9gu+mzCFFVFZ7F44nUlff86XY7/k01n7SM6rBYfxpAg6HkDP9+hMz2tv4vUNKqocda/f6/Xi9QJ4cNgdONQZxO6ZzzcffM742Ws4WKRHbzKjrSonatUExn/zBZ/PCSK1oBZ7TSy7lk/ls9FfsTBwL3si9jDns88Z++VnjJ0wm2WHVFiMeox6HTq9BYenmpiAeUwZ+xlffP01X3zyDXN2RJFtB3tJMuELPmD44Jvo0q0P/rcNZtRXP/LLNgXFWYfZsWIOk8b/wtqwVPJqLRjNTrCWkBG8mO8++5Kvvx7LF599x6QZ20ix2bDazBh1GvRFwayd/ROfj/mOFZGh7Nq7kV8++YwvvviEsdNWsCVOg8usRW+yYDLqKQ6cy5QfxvLF2K/5+uuxfPbDSg5llmPx2NA3M4IkgERfUQJIbEtKAIntVgkgsSX94wEUiq7xitRYTtykh+nfszOX3fgxmxQlWAln0rN30sHPj56vz2ZdOni9HjRxW5k15Ar8zu/K9U/PIKGmlLLDY3mo+7/553k9eXFFDFlWSFvQEECjmRF4kCMrh+Pvdy5Xdu9Nj24dufRv53DRv4cwO6uEKpsFU6MxG+weKvZM5YO7zsPv/65n8MebUFJNesQEHr3kIq646mpuGvoqd1x9KRf4+XHO+RdyXvcHeXNKIBlKEzZT4/fWaQLIeeK2xOOwYDLZ8VaHEfDdw1zmdy7d7n2d6SlGDDYnWmUea17qSbfLzuf/7p/E/gQ1VG/gm2ev5wK/i7nukQe5/7HbucLPD7+/ncMFV3bl1pcns1VhRGsyYbJlsn/ZT7xya1cu/7sffn5++PmdzzV3PMe4PalkRO9kyiOX4Hfx1fTo2YOuV13IP867jD5vbSU5eAoj7uvGuX7/5rFJO4jQALWZKLZ/y4sP9+GSY4/3f1zS6T6G/7yU/UozepMJa8ovvHl/Dy7wu4xbnnmMu+/uxyV+fvztnHO4sFM/HvpgKaFFbow1lWTtmMGng3pz1cV/P/Z4/3fp9Tz69iz2p5egt5ma9R0sCSDRV5QAEtuSEkBiu1UCSGxJz/wUuM5c3OlWHn35U2Ys+5VFCxawaMlS5kwdz5v39sT/tqcZsywSpdqA2xXO9Dcfoe8FF3Dr6EVszgSPx40mcRcLX+7N5VffyH2vLiC5Rkl55I/89+Y+XNPpVkauiyfHCqkLGn8CFEtp6jbGv/409/bqRM/+tzDg1e/4YfJ6IstV1BhP/ATIYHNTuX82Yx/txPlX3ccL32ynjGoyo6bzbM/udL26G52738nLH3/BuJ8+4bn7b6LvVRdx2R3vMX1XLhaXudGOeuNT4LrTs0dfHnxnGtPmLuHXRQtYsGA+8+bMYuW+OFJVLryaCLZNfpqeF3XkpkGjmZdmxGB1oC0rYOOoW7mp59Vc9cQMQpLVUL2VCW/eT/d/X8ll19zEvYPe4afJXzFm5CBuuPIKOve5mcHTUyhX11Jx9Ceevb4rV1zQkwFvjmbspMl88tx/uO58Py66422+3xBNzPJPGfXkTVzT7Vr8b3+Sd8ZNZM5OBSXRs3j30RvpeEkfnp0RSILTTHHgREbdfiV+V1zHnU+8y8RJk/jmk9E81e9yOna6nicm7Ce9Wos9ZyHvP3ErXTt04F9d7mTQ8x8yYfLnjHj+QfpechEdb3qMEWsrqS1IYeObvenatRv+gz/mhymzWfjjSwy47nL8/LozdOI2UszuulMCf2deSgCJvqIEkNiWlAAS260SQGJLesYB9FB3OnTuTMcrLub//vZ3zjnnHM75+9855x//4LzLutHn3lHMjyhFZ7XhdoTxc4sE0PHvABUcXcqIPhfT664n+PygA6vLi9Niw+ly15+K5sXr9eABqvfP4ssmAmhYt8507d6fB97biELvAmoJ+eF5BvS+gn92HcI3q8Kp9NgxHHv9xwPoxb596HlNFzpeeh7n/uPv/P2cczjnnLpPO7q8OJO1WYDhTAPoPq656Aq6D/qCOYf1gJvSuGWMuu5KOvS4mdtHb6O4qIzo7wdyx7Ud6Xjz+yyJLcUF1EZvY8lXr/DyRz+z+EA5GDNJ+OUxrrqmP7cOnUWiyQmYMSpmMuLhG+oCaFYwGeoYVnz2KF3OuYI+j3/IL4cr6k5orMkj6Kv7uK5bV7rc8AaLYwuozV3GR0/eQud/deTaF6ezNcUG2FFsn8Bz3S7mkj4DGPLjEdR5Cta92puevXpyw0vTWL5xD5ERu1g5dzo/fPoVM7dGkKSyNXnRipOVABJ9RQkgsS0pASS2WyWAxJb0zD8B6sKlV1/HHQOG8OqotxgxfDjDR4xk5Bsv89JD/ejaoyf9hs1it0KF1R3BjBYKoB/WZgIGUg/M5bU+l9Drzsf5cKcGtdaAoSyJw0F72LF9Bzt37mTHtt0cyVaRE7SAbx47NYCGdulEz+vuYMTGCpQaF3azkfzloxl2e0cu6PoM362NpOo0AfRC75707NabWx5/mVfeGMlbI4YzfPibvP7KC3w8fy/hpR682jMNoHu56tyrGfjpQvZVg8sFlQkhzHji33TsdSt3f7iTgoJ01o+6i5u7d8B/5AbCMvR4bQb0proLFLidNqx2F25lNGETB9Lxmuu45b9TCK+oxWTVo0+eyVsP30DHf/Xh2bmHyIrbyIzX/Pn7P2/jle82kIkLg96Cw6ykIGICT/TpQY+eD/DBrkyK05bz6VM3c9VFPRn2806OasHjgaIDK/j6vgu5pM/D/Hd8BIbqIuJ/fYv/9OnApReey3nnncsVD41l1rpgjobHkVFcjtZuRHfKRSZOVQJI9BUlgMS2pASQ2G6VABJb0jP/DtBVnNvxIUb9HIQKcNqtWB0esFRRHvgNg27uyTWdb+SNNcnkmeOY/1ZdAN32/q9syQKPx4s+eR9LX+/z5wLorkF8vMeIVqemJuIrHrm2Axf83/n886J/ct7f/s3ACbvZt3cV4wefJoD63c4ba4oprnVgM+vJXvIOz9z2+wH0fI9r6NnnJl5ZXUKpAXBZsVpt2Gw2rCYDBqMdj7ohgDpx8+D3WJBuxGB1oqtQsu3d27i5qQA6rxMDPpzHrnI3LpeH8vj9THv833TsdRv3fLSd/LwoFrx0B/27XMV1ozYQlqHDa9WjNZqxOtx43A5sTg+e0kYB9PQ0In4rgF7ty98uu4/hE3dQjBODzoTNXklxyjxeuLYnvXref1IA9eC/k7ZyRO3B44H8oKV8eU9dAA0ZF4rJbsVszGLT96MZ9dIwhj37LA/f2I0uV/2Li/55Pc9PDCDGYMOq//31lgSQ6CtKAIltSQkgsd0qASS2pH8sgB7m7V8OoAY8LidOlwewos3dxmcD+tKnS2cemx5PWm0s80YM5NrzL+DGtxexNadunVubsJmpT/Xgij8RQD3ueJz3dxiw2MyYUhbx8YtP8fCDD/HII48w4P4n+GjVUY7sW8b3g85GAN3Iy8vzyK9xYDfr0evr1enQGex4qsPZOnEI3f/ZgRsHvcvcTA9uwFKWzK+v3kz/7p3p+GRzA+gW7v5wN0WFJRz49D5u69WBnkPnsjddC3ixqUvJT40h4mgCKfnV2MtjCZs0kI5X9+OWJydzRGvB5W10Cty/+vDsnFCyMvcwd9St/PMfvRn49kz219rqrmRnKiFlzXDu7tmVLr0fZ9yBbMoyl/PJk78dQP/9IRh1tZLspDgSEpJIK9FjdXjJXPstI//Ti+4dL6PjwLHMCyrDazf+7ryUABJ9RQkgsS0pASS2WyWAxJb0zAOoIxd0vJ+Xv15JTFE+WZkZZGTnkZ8SScSsF7jl2mu48pp+vLQoiRx9KktGDaT/xRfS+bFPmbYpgzJlFJvnv8N9V15Jh2tu4v7XFp5RACmCZvNK70vpfN29PPldIElpeZSra1DX1FJTo6ampga1ugatxUXFaS6C0BIB9NKyHHKrbViNJy0rgw2PJoYdU5+l70UX0eu+//JhQCF5mfHEBbzPw/170blzN64Z0vwAunPMLkpKy8lY8ioP9u3EZVcM4ONVe4hTKkldN57RD3Tgoq4DGT4jHI06nrCJD9GhQy+uu3ME8+PTyCyrRJMwg5EDGy6CsJ9UZykHfnmDuy+5gAv9B/PahD2UKJWkHN7DlCe70LVTD/oPmcKB/HLMeb/yweDfCqBHGDY5lLLsQKY82Y9evftxzwcbCIvPo7Q4jx3jnueRHv/gvNvG8POOAnCafndeSgCJvqIEkNiWlAAS260SQGJLekYBtO1H3rm/ExdfeQ3de/amr78//g327cO13TvTqUtfbnh0LFtSStB7HMTOfZehN/6bKzt1o0fva+nbrz/X9etL325XcXnH67jrpXkk1Sgpj/iOwf270eGKG3hzTRzZVkiZO4qne/nhd93rjFudARjJDF3Iu7ddQ+err6bT1T3of/t/GRdaSoXJgcNiwmSq0+L0ogqcwWcDruBvl93JsLFbKaOajKNTGXLVFVzT6yZeWXU8gLIWv8WTN17O3zs+yTerI5oMoOz4mQzt3IFruvXjuSXZ5DQVQFoDNlc1ibt/5vWbrqFL5y5069WXvv798L+uP/16dKbz1dfQYdDPBCepoXozP756B5f5XcF9781mR0MAxQUy+eFLuLzL9dw8aiul1TUYa3bz/bABXH9VJ7r26kUf/3707dmVzlddwQ3Pf8+iBDueqgQipj9Dn25Xc3Wnq+nifyu3DF+G4uBk3nu0P5ef342nf95NrMWL7vASJjzbny7du9O1ay/8+/lzbe/edLu6Gzc+8BzfBxdRrjdjz5jLO4/057JzOzP4p82E1wdQ3r5f+ez2czi/2wMM/v4wlupcspa9wT3Xd+PKzj3ofW1frut/Pf69etCzWxf+88lydmS6cJh/f15KAIm+ogSQ2JaUABLbrRJAYkt6RgG0awofD+pLl1598b+2D7169Tpuz+5063U9Nz82loD4PGosRowGE0ZdKhvGvcxDva+he48udOo7mBdeeJfxb91M11538vCIxShqlJRHTeS5u26gd497GB2QQK7VS9riD3n55kv5153vMGFDOh63E2t1AiEL3uTua/vQs2s3+t78BF8dLKJUZznh6mIGm4vKg/P59skeXNbtYV77fidl3mqyYmbxYp8eXHfzfYxcX0JJfQDlLB/DC/d25/JrX2D8hiiq3KcGUG7iAl7t15vrbriDN1bmktdkAGnR6c1YrFmErv+CQT160af7NXS97m5ueX46v7x0O/ff1Ifuz8zhkEKNt3o7U0Y9RLdLe/D4ZwvZU+7C6XRTnnCQGUOuoXv/u7n/w+2UVGqw2XVUlEQwb+Tj3NWjM1169KRb547c/uqPLI4xojcasVitlMbtY+rQvvS/tjtdet3IDa8tITl4Bp89czfdO9zAy3MCian14NDrMBTsY9X3z3B9l2706NmNLp39uW3AB6zIyKPMZMVk0GFKX8THT99Ft3/347lp24lUu3G7vRQcWMG3A66gww2DeHb8IfRGM47qbFKXvcUDt15L567d6dWzB9263sjQ8Ws5WGLCoDfI3wES25QSQGJbUgJIbLdKAIktafMCSItWp6e2ooj8zBSSFSmkpJysAkVKKmlZpdQYDBgMerQaLQazgarSfLJSklEoFCSn5pCfX0RZQRrJijQyckqp1taiqSoiOy0VhSKNvLJqanR61KV5ZKcmkpiWS1GZGr1ej1FfS62qgHRFCgqFgtS0LAora6nV6k7csdbp0VSWUJCpIFGRQU5hObV6DeqqYrIVClJS08ktq6VWq0en01KjzCM7XUFiSjaFZVVoTviivg6dXkNNdQk5KQpSUtPIUdZQo9Gh0zWxrDQ6jGYdterSuudSKFCkZZKeX0llfjoZqQqSs0pQVWvQa8opys1AkaggM7+UCk3d94k01ZUUZyWjSEkjPa+c2lotOp0Bk0VPZWE2GYpkFCkpKJKTSC8oR6WzYtZr0OqNaDW1VOSmkJqiQJGSRlqukurKYvKz0lAkpZJdUkGVRo/eYMZq1qIuyyU1WVH3O0xOJT2rmGqzGZNBX7dM1aX1P5tCdlE5qvox1lQqKchIIik1k6zCSrQ6PQaDEXNVAZnpqcfmiSI5jdzyGrQmMya9Bk0z5qUEkOgrSgCJbUkJILHdKgEktqTNDiCtBp3BjMXmwOE4nXbsNjOGxvNSo8NgtmJruI/ditVqwWSx43DYsVlN6LU6tHozVnvdbRajHp1Wg85kwWp34rRbMBt1aDQaNFo9eqMFe/3j2e02zAZdE58qaNAaTJhtDpwOG1azAZ1Gi05vwupw4LDbsRh16LSauuVgtGC1O3A6rJiNerQazYmPd9LPWo1NPedxNRodeoO50eu2YbeaMFnt2OwOHFYTBr0WjdaA2WLD4XRgs5gwaDVoNBq0egMmW/0ytRgbPZceo8V27PU7HA7sFhPGhrDQaNDq9Zisjvr72LFbjegNJixWOw6nHavJgF6rQaOtW54Gk7XR49mx2ywYG78enQmLzY7D6Tj+sxoNOoMRs82J0163fLVaLRqtDp3Rgs1uP2FeHH/O5s1LCSDRV5QAEtuSEkBiu1UCSGxJmx9Aovi/UwJI9BUlgMS2pASQ2G6VABJbUgkg0ReVABJ9RQkgsS0pASS2WyWAxJZUAkj0RSWARF9RAkhsS0oAie1WCSCxJZUAEn1RCSDRV5QAEtuSEkBiu1UCSGxJJYBEX1QCSPQVJYDEtqQEkNhulQASW1IJINEXlQASfUUJILEtKQEktlslgMSWVAJI9EUlgERfUQJIbEtKAIntVgkgsSWVABJ9UQkg0VeUABLbkmccQCqVCqPRiE6nE0WfVq/Xo1Qqqaqqkjkr/mn1ej0qlQqlUinzSfQZS0pKqKmpkTkptrp6vZ7KykrKysowGAytPh5R/C0b5muzAqjhjjqdjurqatRqtSj6rDU1NZSUlMicFVvEmpoaKioqUCqV6PX6Vh+PKKrVaoqLi1Gr1Wg0GlnHia1qTU0N5eXllJWVyTpS9HlrampQKpXNC6CqqioKCwspLS0VxTZhUVERxcXFrT4OsX1YXFxMUVFRq49DFBssKiqipKSk1cchiqWlso4U25YFBQVUVVU17xMgjUaD2+0WxTZhZWUlNTU1rT4OsX2o1+spKytr9XGIYoNKpRKDwdDq4xBFt9uNVqulvLy81cchis1Ro9FQUVHRvADS6/Wn3FEQfBWVSoVWq23tYQjtBJPJRHl5eWsPQxCOUVZWhtlsbu1hCAIABoOhyR1KQfBF9Hp98wNIp9P9TwYlCC2BSqVCo9G09jCEdoLRaJQAEnyKsrIyTCZTaw9DEIDT71AKgi+i0+kkgIT2iQSQ0JJIAAm+hgSQ4EtIAAltCQkgod0iASS0JBJAgq8hAST4EhJAQltCAkhot0gACS2JBJDga0gACb6EBJDQlpAAEtotEkBCSyIBJPgaEkCCLyEBJLQlJICEdosEkNCSSAAJvoYEkOBLSAAJbQkJIKHdIgEktCQSQIKvIQEk+BISQEJbQgJIaLdIAAktiQSQ4GtIAAm+hASQ0JaQABLaLRJAQksiAST4GhJAgi8hASS0JSSAhHaLBJDQkkgACb6GBFDL4fV4qKnWkqK2YXK19mjaJhJAQluiFQPIg9VmJq1ES3qNFavX24KPfeLzmMwWSmosGBvf7PXgMpvIM7pxna2nFlqVPx1AXgfVGh0JSgPFf2SLaLdTqaoluqiWuHIDhUY37WOqOVFpTZTqHXga3epyuFDXmqhtHy/yFJofQB70eiOpJVpy9HZsZ31kDbjQ6g0kFevINzg44xnrclKrNZFv8Jxws9fjRVNrpMrpPfPHFM4qEkAth9tiYc2S3fReUUC0tnXG4DSaKNbZqW38RvM60ZjMFBrcrTOoM6DNBpDbg0FroMDkxdl4++WyUqizobO3043aX5xWDCA7RcpUHv9xL73nK0i0n6U3t1vDpgNRvLAqi8TGt7tsaFJiGbStmKMaD76/ahHOlD8dQG412w+E0HFcMEMPqM785ysrWLkuiD4/7qTrpIM8ckCL1fP7P3Z6vHgddqosLmy/+The7E4HNUbHiSvzFsKjy+ezdZG8F6Y6YedeX6lm5cbDfJ1nO/FgQzuh+QHk4Gh0End/voMBW3NIOesja8DAoZgo+n6+l0e3FaA+o5/1YsnPZcLKcEbEW0/4H7fdwYFth/koXk3m2ZhQwh9GAqjlcNts7Nx8iMe2l6IwtMYIXBzccZjXdhYQqG88MA37ohN5bksxWhc+fRCt1QPI68Flt6OynL6IYdUAACAASURBVMmBbS/GKhXTlx3kfYUDTeOdQUMB721KZE6iDosvL3jhD9GKAeTF7TYRl5PM0HnJJFrORoJ4sWZn8uWKCEbEmHGe/H+GCsYtDGF0oo7iP7VjKvgiLXEKnMuiZMbeKIbu/AOnPnncWKx2qlXl7Nsfzv2BWgx/6hC6C1d6HM/sKyde/1v3s5FenMHoVVkU/5mnaxIP8cGRvLIhlSUVnhM2xl63iYS4KO5fpCDa7PLpDfUfofkB5MXhMLNpdxzvb04n7qyP7Pjz2h1qVobG8saaXM4o2T1adgZH8eyvKYSeHDleN4biZB6bH8PyQhOyqvQdJIBaGI8Hh9uLpxVWXm51Jq8sjuCHuJqTDpR5UOUW8t3SQ7yf4dsHa1s9gNwWKhNieGJ/DZWO5v6MkcT4aB5YqOCo0X3i+s3rInJvOC9uzma9ur1t0YSzGEBeXC43JrsLo92F0ebE6PScdAqFnSJVJm8sUpBidmB11N/P5mr6SLnXi9PpPHYfk92N0+PB6TndUREtG/dE8srqdCKa2PH0uuwk7w7hvk3FRGplcrc3/lAAeTxY7Q1zzI3LqWL1kThe3HXSm8TtxtRwP7sTo8Nz+h1Dey1J4ZE8tP80AeT1YHe6jj+WzYXVfeJ89Ho9WC0WVNFHuGdjIYHljvr7OjG7jm8UvR4PNoeOsPREhs1PJt7cMEYXJqfnhA27y+XGbHdhdnnr3j9u9/H31ulej7GAj1Yc4cOwSoynvGU8VJYX8O7sEMYV2mmVg6hnkTP7DpCLkEMpfLUtnRivG3Oj5XrKDozHg81x4u/f5j7N+qjxvLO5sLo8ODyNd9gM7I1L4v21uVR63Mcez+Tw/GaQOvOz+Xb1EV6PNDW5g+V1qflpYTCjoqvJkQLyGZoTQF6vF4fDhdnhxlH/njc6PI3WO3Xz7cT50Xg9WLf+OHYWkLduvpqdHuwuNxa7E7PLi8vrxW53YrS7m5y/LqcLU6M5bj9pHnka1r0ONw5P3fNYjr0v3DjqJ7nL5cZa/3qsLk+jn3VhcdSvz7zgdrkwO+puMznc2JzuunE7XFjsLizO+veE14vbWbefYjllOZy8MD1Y6peH0VY/1kY/4HW5sTpdmO0uLK7jj+X11I/Z6cba5EcTXiJ3hfDM9iL2NrUvYqhm555D3LC57E+eRXB2+SMB5PE0LNO65Wp2enB7Tt3+HJ8/rvrtnveE+3g8biwGLamHw7ltazmpWtexuWZxe0+7fdZXVDB75UFeibNjamLRewqSGboymi8T29sWTTiLAWQkYNdRHpgaSP+fD9B/8j76L0/n1/zGe4A2ciqyeGtRAmHZyTy3IBj/iUH4Tw7kiRA1ihPPxEBTXMakxfvoP20//ace5J7Zhxi3P4FP0p1UnfjxTh3qPD5fH85zB6qaPmridWMpTGTA/DjWFVvO4LUJbYE/EkAp4Qk8+8se/CcH4T8+jI/3x/Dl0URe3V15/E52G6kHj3DfjP30n7qf/j/vp/+sONYUn2ZHxKQmOuw3Aqgil2/WBHPdpP30n76f/uODeWFPAWnH7uBGbyjg/TkH8P9uOxeO20vXyfvxnxaE/09BPBdWTkL9BNeWlDN58W66/7SLS77eRc+p+/GfEoT/zwd5cHcleceGaCf0SCKPT9iB/7JMViWUExkShv+kQPwnB/NwQA55TezEGBJieHp5Ej9nN314za3XsCvgAAMC1Sj/d19++Z9wZgHkICg0jZ82R/BzYhx3TArCf0IgNy+MYZbKg73xXUszeW/5Qfof+/2HMDy0hNyTH9JuI+1gBP9pmHfT9vP81lheC6ogTNkwsXTsiEvhiyWx7DwSQd+pQfhP2M+t8xLYanbS1GoSXEQdjuPVFfEsPN13H7wu0vcd4uGN+exT+/Ae2F+M5gSQTWdg1Zr93P7Lfl5cHcnNM0Lwn5vIgZgEPlwXjP+4QIaGKok9tm6ykVecznNT9tdva4PoPzOUEQk2qt2AqYBv14TgPz2cp5Yc5tGfd3PvtgzGRRYzZuZu/H8+zJCgClyNp4m3jEmrw7hxfGDdeuvHUMZEV6A8fgcqK0r4ZPZe/GeE88LBKsqS4nly/v66fYJZcawtMQNuoqMV/HfyLvwnh/F2aAVOXJSpsnhlSiB9p4UyJERLjc1DwoGjDPx5L/6TA/FfnsGkrYmMW7wP/8mB9J18iFeDStECWM3E7D3EzdMC8Z96kAd3q8ht8hxeM3GpyQyaEFS/TxPIDfMj+CzDjaX+Naii4xk2Zx/+PwbxcqSKFDeAm8zMbF6bthv/6eG8ENLUZ7PlfDU7lC/i1JQ22UcmElLjGTQznmCn734KdMYB5DUQEhPPw+MD67ajM8K5b1ES0/YkE+J2N1pfVTIrIJxbfwqi//QD9J+0h3u35LO1puH/7ZRUZPLylH30+m47F363j15T9uM/NQj/ycGMSqiloMmytZGWlcJL04+yzkrTkeQu58eVhxm1r5ii5r8yoQ1wFgPIxdaoDLYlFhFeoCY8v5p1e+MZvSmNFcfe/w5KKlN55Ktd9J8ayuep5QRlVxGcU8hnKw7zQlAlR831d9UoCTgQz3O7S+ser6CSXYlRPD5xDwPCrJQ1sWV3ZqQweuVR3k2wnvqfAHhx2/N4ffp+RkXXUnIGr07wfc40gBRhcTy1JIHxkRUE51QRnJ7FxIC9XPZjCE8H1U9al4XixAQeWZnMlnRV/VxUE34khqeXR/NLRhPvkd8LoKpCAuILWZZa/1jZOUzaGckbgSXUrd+9OF1mUnLL2bv3ELesSGNmvIrg3CqCs6uIU1vR1a/cnRYrOUXFLDgUzcBZMazIUtW9ltxqIiobX93Ig7pGx9GYBF6fs5Mrv9zPsxsVbM1REZxTTWSZqcmjYYp9h3luUw5rq0+zEO0mskJD6TlfwWF907vbbZUzCyAnR44mcv/nW7htbQJzc6oIzi5mxYEj/GdtNsmNT/mtyGNFfDFr0ut//5mZfLP1KKNDyo5/iua1UVaYxvMrk9ma2jDvivluRSBXz0xlWWHDL9ZAaFwU/T7axYDViazLrSI4s5SNOw5x145Cco1N7TrpWbfnKC+uziDqtK/Hi0cRxe2zj/JLtpxy5Ss0J4A8TiclucXMWLiDKyeHMz6hjA1bw3j4l4N8FFlCcFQMr25JYWKuG/CSm5vL2HURfJpYPx8LqgnOymH00nDeiTZQaDWTWZrFGzN30Hl6ElMySpi5J4QbpsfycUwl6w6n8MriBMJcAB5c1dm8s/QAg/cUsCa7fr2VksK7y8IYHqI8tt212SykZheyMmAf53yzj+tmRDBLUUZwdhXB+VpKLS7Ai0ZTzJerQxm8OJWjNTY8eLHZqtm8P4wes5PYV2rH4faiq6pl+/p9PLgmjR/TjeSU68hOjGfEskPcu6WMhCpL3Q6224VGpeZQtpJdu4O5PqCEqFOu5OImMTGND9fH8G1K9bF9mj3J6by5+Cifpzqo8YBNo2XBkiCe2pTOlvJyFu4OY2BAPpuqTGzbE8VTsyKYV33ykSEvaNJ5ek4kszK0p4kbDwWFmbz2czDvZ3uw+ugJK2caQIWJGfy4I44fUuuXaXYRC1cH0X3KEVbZ6z8F8hhZv/MIw4PyWZVTf7+8cmbvjmLo+gxWVQF4sNgMxGcUsXZHKDeszmZtWlXdXMupJknnwNzUALw6wmOieGBBCmmnPe/RTMDWUB5dmc76Vro4hnB2OKvfAYo9FMvIXw8y+NcIBi+L5D8TttF9XjyTShvuYaewVMET3wczJrGaxrsW6vJM3lqVwOxkbd1Kym7gYGQCD/wcyuClEQxecpgBC4LoMi+FKLW7ySObJVEJDJsXwacpp9sR8+JyF/LOtH0MPawm84xeneDrND+AvEAV36+PY3Z0LcfPQHBRXZHNe2siGLan7hMgl0HP2qXb8PtqH/9ZFMHgZfXO2snfRm/ktr2lpJ18GOn3AshWzNzdkdw3J7zusZYG03/8Xm5dnc2Jb00vpMfw+O4Kkn5zn8dBdmkaby3N5Hc3RbpCZm0N56HNpURW2X/nzlbWBxxk4IY8tp5uQ+A0kR9+iC4zY9mnbe5J2G2DM/0EKCQskZcXRLFYaa4/9ddNVWUqQ2YncNTQaJ1kLmDClkgemHuk7ve/5AB9vtvHQ5sLOL6Y3ejVlXy98CCDFx5m8JIIBi89RJ/xIXxyVEX1sUWtZ190LE/MSmBbufXYzxrz4rhpaQbptU2sC13lzFwXwsC1Wb9xwQYPZMZy6/QwxjcV+UKr0OzvADmsKHaHMGh/DaUeICua+1eks1YF6LMZuyOZL1I8gIHgQ2F0+GQb3RdE1q/fInl80UE6fbIev1mZHK31AjVMD4jgw0AVJiDuSByvLk0mDNAoi/lmURRb3XWnoZUePsrwA4Xs0TfewXRQpEji/c1JjM9pvJ6wUBl9hP4rM/k13UDT52W4qVCkMW1nOhvrp6JDayBo3xHGpFtODAhDLp9sTmdzft0jZcVnMGlPGrubfGAPpEczcKeSyJMDyFXDmh0HuOSTnVy7+PhyGTgvkMs+2sgFSwspsNSt+MuCI/g4spr00mJmrtmK3/g4ZuaqySzKY9y2oiZekwcy47hj1hF+zjr9lzuLi7J5/Zf9vJTgafLglC9wpgFkqCxg2uZg+s09wuBlkQxecIB7ZxxgUJgRlRfAg6c2m2ETt3HpTwe5d1nDsj/CLT9uwu/zAzwf0Xh9ZKM2IYqHAmupbc4H1VY1QXtD6LMknZzTnXaMje07Q7nv11QW/oFrIQm+y9kJIK+H2rRMxqxL5MugXBZGFrAwqoil247wZkAyk48FkI2c0jReW6Ag+5QHqWb89mSWRNYcW6F57Gaik/JZeLSAhUfzmReazdvLIvk2upam9t1q4pN4bfFRPlacbkdMAqg9c2YBlMcbm3NQlJw8kWrZHp3ASzvr3iSWKg1zFuzjhZBC5kYXsDCq3pgSNqdUEKm2nnoZ6N8MIA2bA2MYsz2ZCRH5LIwqYHFMBp9ujeKltTknBozbgTkpioHbSzlS81trdzPxeSm89msa2b93KZyKbCbtSeKj1OacVOFk79ZQntqYx2YJoN/BQeDBZL7elUXGsdvsFFVn8saCZOKMDROhlrU7o3h/dwpTGn7/sWmMXn+Ut7YUUHvSo5pLy1gT3bAOLGDOhghe3JJOYFnDUWUd26OT+CCg4PgRT6+NiqIkBqzOJkfTRAB5qli4OYwha7JQnPb1SAD5Is0OIKOBmN2HGJ7oROUEcmN5emcR21WAKp1Pdyj4Oh2girUh4dy0KIVNscfXb4uiClmtqGB3gR6d3QNU8v3GeGZH1n0UfPhwGl9tSScdKMov4IvFMezygMvhJH3nUSYrHadelEOXz4zdcbxwpNEZGlYd2UeP8vABHac7b6Pu9ZSz9GAcI4NqADs5WRk8u0RBipWTPkGxc2RXOF8cqiS3sppFOxN493Bt02HltmNMOspDO5T1kdcIWzGTdoVz/7J0NjRaLouji1ibqiKo2Hjsuz2OwkQ+CS5nfkAScw9Hc/faDGZvDmdmgoJXDzT13vFAYSL/mRPJzMzfD6AX21EAgRt1tYrV9eu+hZGZTAiO4tk1WQSovbjw4ClL4J6FMXwXmMOKRtvcpfGlbMusIaWm0TbbbqQoKpIHdldR1JxvNThqORh8mJskgP6SnJ0AcrsIW7uH+3eqTtj4p4Yd5tGlCuYduz6rB60mnScmhPByaPUJXz6sSYvn1a3ZBBTX7UTVFpezI0FJwglP5CJh015u2V1LdhNrS29BOmPWRPJG1OkuyuvBpc9i6IxD/JCiQzbr7YszOwXOyMJ10cxJ1dL4J2pLsnhubgjDDtadjOa2GjgceoRngio5ebejPLOQDelqsk9uCY+OrKNRPBbaxI6KOYunpx9iXHKjOWqtYdbaYAZvLDhxQ+22Y4qL4D87K1A0/IdNxYq9iYxLrG60g2EiOieZ5xdnUnXsthrW7Engu3gjxY33gXX5zApM5qPU5n2voyT4CM+uz2BJ2Wk2FhYjSYHBXLcyj2Rj+/quyJkFkIcj4al8tyuLrGO3uVDrs3lrcSrZDf2jT2PglHBm5Tc6LcZQznfLD/L8rtLjO3NWC1nJ2SwqPGlyFcXz0OJYvk1pWAGaOJik4KONhY3mjgtzuYKB6/OpavJarha274/mpVUpBJ3uKoVeL8boCO5anMSywnb25a42TLMDyGklMzCMtxSeukvU58QyZGcJ+zVAdTof70rjp1wAG7HxaYxel0LYyccvTGX8ElNOut4LqJm2NYH5MXWJfuRQCl9tyyQfUOYVMHZJHKEAuFAnxTAkUEnuSdMmPz6Fr7crWFndeE6bqYqLYuAB3e/8/SwneYo0Jm9OZF6misXbIvk2r8mTnKA6k893K3hr7hG+Cs5i42k3CV7IiOaxvZWkn7w/4TISFJbI+1uyT9oHAWqLmRSjorzhtFaXillR6QybeIh58WVEZBTy49QA+q2NZ1zRaQ402XJ4ddYRpqZpmj5VCydZ+am8NO0wU6tO+g6hD3FmAWTkcEIh27NP3D/zavIZMfEAk9QuHAAmNRNWRTAlzXrSRbQsJGYWMi+90cUJbAYKjoRzzz7N8f05XSlTtyczI0/PqXlpJEoRy6Ozkojynm57pWPZhkM8G5BNyG9WudDWODsB5PGSmxHPK8uj+e/KOEZujmfkugienLmVyyfu4ab1+WwpNFBRnMmI5fu5/LO93D87hBGb4hm5MZ6Rm+IZPD+KH+O05NbvrBVGJTPk2wA6L0xg5OYERm6KZ9T6WF5ZHcfGUhf6puauRclPG8N5dnsJTa7zPG5qEo5y95J0Apt9zUShrXCm3wGqzE7m3fVHeXJNXN0cC4jhlRUH6TxuD5dMjOCnaBVaXJi0SuasDWHo+lhGBtTN15EBkQxcEs+3ibXkuQGPgfi0DN5dH8/IdUcYNH0nF06N5PUNcYzcmsz0HHvd3xuw1rB+ewQvLglnVEA8IwPieH1tOP1/3M5VXx/k/dDi4xdD8LpxVObw+pJInlkZW/e8y0J5bkUMczI1HPs+KE4qy4r4acEBhm1MYGRAHCM2hvLomkQmppspdwGactaEJjLy1wP0m7SXznNiGLkpjpFbU5mYePpl5ixMYtjSGL5Pavqggrm2ivnLDvBcjBF1O/urmc0PIBeZ2Xm8MW0XPcbt45XDpcS5PWi0RXyzMogOn+3lqU2ZhFlcuE3VrNwUzvPLI3i7/vf/yprD9B23nau/DeGLCCV5AAYde5Zsxu+HQwxbd3wd+PaKcD46Ukai1gtYSMlN4+mpu+j8VTAfHS6jABfaylw+XbaH8785wDNbckk0nLyu81Icm8SoZVF8e5q/B+D1Wtm7IZghgWVEyleAfIbmBJDDZCEkKIonJ2ymw5x43o/SUhV/lPtnB3Pfripy01P5dOk+ei9IZ12eFadWz+7gKB75tX7dtimekRvjGL4klFdCSslWV7AmNJJrv9lJ/0lHWZpXzZbYJB7+NpD3YpQcLMnjxe93MnBHBps1buzmamavC2f4qihGBtTP3Q0RPLI0iYlJmrqdUruJbEUqI9dF8syMnZw/+Qgvbohn5KYERh5UkqNvYmWiqyIoIoxuU6MZur6IylPvUY+VHTsPcdnonYyKqDopMOyolHmM3VK3vn997k4unHiIx1fVvRe/ideSWb/Ta6uqYuWeowxcElc3rk3xjFwfzetLDjEyohLVscuzudl38BD+Px1mWpoDbEq+n7WZf85IYN9pjwkZWLj4ICMPq2jyjH2njiPRR7lrYTr53t+5Ul0rcmYBVMUva/Zx1af7eGJz/bwIiOWldTGM2FtBdqMrwVVmpTNqdTRPr46tX/ZxjFwexrB18czLarQtcjuoKkhnyPxIXlobV/c7WhLC8+uTWFVibOLv07kozs/lg5mHmFRF0387yJjPu8uPMOaQql3+fbu/MmfxO0AG9kek8f7aWIZvjGP4+nTmReax8mgS7+3OY2OBgYqibD7cnMaP4aUkKdL5ZFs8wzfEMTwgjjFRGoobHxRVqdm0P573N8UzfGM8wwPiGL4pmc9jNXi9p1sdWEkKj+OtZfEsbuIa7m6XmZ2rAnl0fyXJchG4dseZXwXOREhUOmPWxNbNsfWxfBuWw5L4Aj7blMwPRyuPn5JUns+X2+IZvr5uvg5fH8sPqSbKGtbYHgNxqemMXBvH8E2JjNqm4OPtCYzYEMvwzYlMy7ZT23AwsELJ0sD6x1ofy+jQLGYlFPHLxkS+CC4i9YQx2omMSufjjTF1z7slm4PVTcS7zU5eQgpvb4xj+Po4RmxJZ/MJH22VsSo4geEbEnl/ezIfbI1neEAswzenMD7+N5aZu5b56w/z1p4i0k45DOmkuDCNwT+Hs1zt9NmjlH+UMwmgjKwCJm6LZ8zGRL48VEKs20OtRsnPm5P4cGsS727PJtTsqvuER1nM7N1xx37/74XnMi+ukCnrE/kmXFl3NTing8LkTL7emcBbAY3WgTvyOVrbsKQtKHLy+GZDAh9sSubrMCX5uNBUFvLd9iQ+3pbIyD35JJwSQEBNKTM2hfPM9oomDhZ5wVLM6zNC+TalcWgLrU3zAshMcEgi725L4sNtSYyN0VBVomR5SCLvhqrIKa4iLDqZMVuzWJNblwdWk4bVu+rXbQFxDA9IYGRQKaUuL7iqWBWs4P3Niby3QcHi3GoSa1TM3JTIT1FK4s0a1gQm8cGOdAJqvTgBT34uP26PY/j6+rm7NpovYtSkNExdu5Gs5JS659mq4OPtiby1MY7hAfEM319KdlMBhItERQKP/xTC2KLfPtqiyS9hRlg+e8tOXivZUZXm8vnGeIZviGdE/XOP2hTH8PUxfBmnIaPRUX+tWsWCbTF14wqIY/iGRD46VMHJZwRXZhawILqcCC2Aifj0fBbFqfittYcyPpJBq9JYecpp2OCqqmDlhgPcGazntLs7PsCZBZCF5Ox8xgXUHfiu2+bG8PbebDadspJxk5iQyRcBDcs+luEbM1idd2qSON1m9h9K5t2A2Lrf0a4Cks2nPxvBoa9l665gBuysRt3EhRD08dE8uTqRCbntbYsmtOIfQv0fUV3M1HWHeHRLOWWNb/e40Jdk8MyiGGYXWJv+hEho07TEH0IVTkWdlsBLy6L4JNl4wikJNoOGXXtCeXxXKcXO9nX6G5zpKXBtDRspsQm8PucIk5UnHoL2uJxkHAnnsYBMgtSyE+BL/LX/EKqF2Nh0Pt1X2j6i3KHi+18P8mZgKVmNz//zWIhPSOXVX2MJqDr5O06+Rav/IdQ/hJ2S3AyG/hLKnBInJ5wlbK9l1vpwRgeWEi8Hydsd7T+AsBKflsMvQYWkN77ZZceQk8HX8TrK5bzOdokE0FnCrWbN4XTmJqhP+JTHWK1jX0ga2w2c5u/NtG3adwAB6ip2haUxIfXEb1+4HU4iQ1NYV25FfZofFVqHv14A2cgtrWB9ZAHLgmN4Zf4+eq0r4XBl+1jjFCemMe1oBYcbf7Dh1hGRmcOEGN/f/2qbAQROo5lDoYlMzXaha3zszlTC1CNFhJTK9x7bI3+BABL+qkgACS1Juw8goc3x1wsgHXuPxPP4lIPcMecQ984J5oGl8XyZKIfnfYG2GkDCXxMJIKHdIgEktCQSQIKv8dcLIMGXkQAS2hISQEK7RQJIaEkkgARfQwJI8CUkgIS2hASQ0G6RABJaEgkgwdeQABJ8CQkgoS0hASS0WySAhJZEAkjwNSSABF9CAkhoS0gACe0WCSChJZEAEnwNCSDBl5AAEtoSEkBCu0UCSGhJJIAEX0MCSPAlJICEtoQEkNBukQASWhIJIMHXkAASfAkJIKEtIQEktFskgISWRAJI8DUkgARfQgJIaEucUQAZDIb/yaAEoSWoqqpCq9W29jCEdoLZbJaNu+BTlJWVYbHIHwEVfAODwUBlZWVrD0MQmoXBYGheAKlUKpRKJdXV1aLYJiwtLaWsrKzVxyG2DysqKigpKWn1cYhig8XFxVRUVLT6OESxurqa8vJyWUeKbUalUolKpWp+AKnValFsEzYEUGuPQ2wfNgRQa49DFBssLi6msrKy1cchimq1rCPFtmWzA0hOgRPaGnIKnNCSyClwgq8hp8AJvoScAie0JZp9CpxcBEFoa8hFEISWRC6CIPgachEEwZeQiyAIbQm5CpzQbpEAEloSCSDB15AAEnwJCSChLSEBJLRbJICElkQCSPA1JIAEX0ICSGhLSAAJ7RYJIKElkQASfA0JIMGXkAAS2hISQEK7RQJIaEkkgARfQwJI8CUkgIS2hASQ0G6RABJaEgkgwdeQABJ8CQkgoS0hASS0WySAhJZEAkjwNSSABF9CAkhoS0gACe0WCSChJZEAEnwNCSDBl5AAEtoSEkBCu0UCSGhJJIAEX0MCSPAlJICEtoQEkNBukQASWhIJIMHXkAASfAkJIKEtIQEktFskgISWRAJI8DUkgARfQgJIaEtIAAntlrMdQG6XiaAj6cxLN1HqOGtPI/gIEkCCr3FWA8hpRZmVw3fhSvIdnrPzHEK7QgJIaEu0fgDZbeTEp/LR1gRG70hnSrKeKrv31Pt5jCRlZDImIIEPtqUzM6ma5u3aOsgtUrIxppyCxje7nZhLClmcY0HrbJFXIvgYfzqAPHqiFRl8siOHdfmn7mQ47JV8ODGA3hsriWyVg7BmIuIL2ZmjQd34ZpuBvLxilhe5WmNQ7ZbmB5CLrJxCftqsYF56DVUt8uwezJYKFu1KZvTGJD7dm8chvQN7izx2PXotUckFrMg78VE9TheKhHxCNE4MLfl8wp/mrAaQVUPU9t34jY/igLFlN5KGYiXbkis43HhCea0Ul5eyKFVmWVtFAujsYK/REpZQwLaTNiYup4mgoyWkmB3IbuyZ0/oBZLORGZ3MyHVHeWHmLjqtKiZa01QAGYhLSWP4qiMMnLufG+enkN2cg1L6cuZsEbMfWgAAIABJREFUOsTANYXkNr7d7UCbk8QjSxWs/n/23ju6zeNO2M059/5z79092bP77bc9ZRPLdpxsnPW3ieU4RbLjWLbjEvca19iOSyy3SJarrN4b1azeC8XeCwiCYO+9ohAkQfROdLzP/YOUxAIqpE2KAD3POfOHgBfAEBr8Zp6Z38yrCyCSCOYfX1mAwnYUFSX8eHUOi5MmDnzDYTe5ylZ2t7rRfcUVIP/gIAqVlQbPNF5kaOWpbXJelZswjn7ca0ehKOeXRzop94KYu50Zpi5AQZpb23ng41R+dbyZyhn59DBuTx9bzlXxxKEiFryfw0cq+xQngaZCEHVdPS9tk7G0fawAhYMByrMK+V1KD8UO0c3GErMqQCEffR1dfKboQzWjK0BOjp0p5PfHm8lyjHpYGqK1tZn7d1eSOijhizIMEMQ2cy5A4QCOgX7OqoZwzMj8X5CmNj1lAy6uOPoNhTCqeskeCGCd8XlHLxXKah7coWDP4LjaBRxcOF7IY0W9NLrDM/3B8565F6DRtJTxm6ReFOYrRb4gbdomntvXTGf4r0XIAD1lNbz8RTmrtBMDeDDo5Mj+TO6VGWme0alUQSwwMylwFs4UV/JI8iwH9eoy3k5pY++Uq+ulJFHGQ+c7SLVMfNas0/DJzhyeaQ6IgcQMMb0UuAjF8gbeP99C7YzXxMnW/Uq2q21jxfer4Bpgd1Ix953SoJvwZATJ0cWDm2SsbrHjmqnPFHxl4nEPkFNVz5OHyvmg1jHhuZDdRvLJLH6aa8ci0orjjjkXIHxYyuXclGLGMiP9np9DR5R8UtZ35VgrBelKzeGRMi99M/Gxo2tg1rD+bBH3ZxmZ+JOQoL+Gn24uZ1+XW6wCTZNZFKAAPZpBzlVpOFKl4UiFimNtdrqHJrk8HMBTq2TxhV5KrihAHso7Gnh6KgIUGGDjOTkPnemJ0qkD4RD9JcX87FA7eQaRLjTf+DICFDCZya1TcaRSw5Hyfsp0PSSUVfN4yuUfSSQYorujlxNVao7V91NkDOKebII0HKCjTT38fpVaTtX2U6e3UGzw4woBIQel7b3sPlHAnftKeTp/5PdSpiW508rgJG/LUBdPbZfzUZWJicMIwGUhJ7WQn53pwxQSBjQTTE+AAmTmNfBJcj3ZdhNnK9QcqdBwqtlE14SJuiDd6gHOlKkvxcqz3Q56J5nQCwUsrN5Twja1bVzqo5uWrl5ONlpo0LuxavtG3k/D8fpBmiftHSWMtQ28dqCEP7dFj4ORiJvjR/J4KH+ASt8UvwLBrDMVAQr7A7S0aTnb1I9SZeBsbS9Hmy3Y7FbKO3s5UtZL/qB3VBwJYDQOcqpCw7HqPtJVDuyRcTEk6KSqQ8fpBjPlahMlrWqOVKg5WjdAkeFKwzA/aWdkPJXURUa0agfddNaW8qNdTTQNhRCRK76YvgCFMVnMpJarOVKl5khNP+fbbHTrbQxK0qjsBT/t3f2cKr8cI8+r3Ogjl9/H6baQWdrOxpO5LNjXyEblSF9aqSXP4Bu1ghPBZrWRV3vxeTVH6gYoNI3txIf0BjLq2nl2az73naxh/cVrawYoGvBd+ly33ciF0k4+25fJwpPtrCkded9yHUqzF+/FNwwMoVbrOFauI0/nwkaAxlYtxyrVHKnWkqkP4pwQ80PUldTy0v5ytpujfX8SEgZW7sjnrUoTPWIRaFrMogC52ZtYzJ1bclm8W87inQX8bE81H5ZZ0UZbbQkHcM+0APW28sYxBU8UT1bvCEFzM3dvKWZTq/NyQxXMC6YrQB6zlf2nFSxen8VNm/K4aU0eT5zI464L5TyWrr90XWjIS9qFIn6xKZsfrDjP/2RZqYvSeLxuN3JlK3/YnMFNm/O4aVM+C7ekc+e2NP7pWB8NDsCrZdVZOTd+mMQ/fZLOt9bnc9OWPG5aU8DDSZ2Trh6EGsq55WAte7smG416aGqu4BdbKsl0hBBx8aszXQHKK2rktYRsnkkv4scbcrlpfRY/2VLA83UOTJdiVwSDoYvlJ4u5dXMhi/fIWbw9l18cruGjemfU1MrgZAJkH+B4Ujbf+TSXm7aU8vn+rOF2tyGH/96eyyOyQWqGIlFmCX2k55bz2KF6EidbCZcimIrl3HKgieO9Yp4xVpiKAPkdTk6cyOG/PjzLNWuyWbC5gBvWFrH2XAEPHcrnpo+SWXi+g7OOkTYpuaivr2bRhmxuWJ3Gv2+qoXxoXAQZ6mVzYh7/tiybaz7P444d2dy0IYcfrStg8clOujxEl5eIlnf3FPGWrH+SyZ0QA8Z2nl4jY12/D5cwoLhiugLksgxwMFvBLzcWsni3jMV7FPx6o4zfJ8g5EQiPxKow+sF23j5SzK1bZJdj5LEGVje76A8CBOjVt/Pcphx++GkSf/NJFj/clD8c/zYW8nqdFdWlthSmvL6ZxzdmDI9NdxXyq4QSHkjSUG+PEBy5zlRVyzO7s/j28hT+ZWUmP9ySz02bcrhpZwXvV1wcV/gZ6Gng/q25XP/hBf5+ZQ43bB753LXFfNZq4ZK3uI3k5BZxw4o0vr++kDcrm3hwWwE3bczhpq2FPFfpmXiYkmTmUHoJDx9uo+UK32N5ch53nO0hzSwS3qfDrKbAyes6yGnUUKq2UKqxcDpZwX37K1jVG+XiWRAgZ20dz+9X8kbdZGvpEqFQDy+tz+AhuZn2qf5hgrhgegIUIOlcEXed6CTHONKuImZS8wv4txW53JsVpbsOh+nJLuSpQjOl48cgkp/i8kp+sb6Yd+ouSkoEj6eHP++WcWfKID2j9vu4Kit4L62N3ZMu+YylO0fGrw+3crJvsoDnp6e3lrs+y+OdnqBIW5oBpidAQRTKan76TjJ3pPbQDMAQna2V/GJ7DUrXyEpLyMSqPVksOt3K3p7hOFmqMbDrQgE/XFnIS40TY9ekAgQQMXIuI5v/9/08HpddTNqI4Pb08M6uPJ6virKyJJnYnyjngSOtV0jXi0BLOf+9sYiVLVHXHAVzwJRT4IbcFJ/JYsHuRgrtASxlJfx4fTEbenxgbuXdC3W83zC+rQVQD7bwxM56qlzRVgZN7DmXy/fWVLNzZOrZqday/kA+zzcRPR3H3MKju+W8V2acdG+ixazhjS3p3KvwMiASM+KK6QpQT1Ujy8+VsbzFPBz72nvYfSyL7+1pJjc40kL8g3ywPZPbL3RyRHUxRg6y+XQO160uZmnbqJYWcKMtK+GXaUa0V5jR7uozklLWcmlsml/TzVs7Mni4IoB5THz0cOBEGZ+W6lBd6Q/xemlIL+CpUjcdV9xOIaHq6eChFWf59k4lf+mQoqS1jWKol3VnZdx1Xh0902PkPfsKi7h+azlfdE2WYiWIxqwJUNjrIyVJweK1aVy/Jofr1+fyw4/Oc83eOjZES5KcBQFSK6u5f4eCpQ2TzVhKhEIq/rg+g98XmWmb6h8niAumLkASoOblMy3IusadQhDS80VBBY+kRAnqkTCqnEKekZkpGz8GCfSzM7ecR1P1E18XBU9lBe+ntbNnikeGKRLz+en+Fk7/FQG6+7M83uoRp3fNBNNdAcrKq2Pp2SZKI5cf0xpaeGJnLeUXB5SmRu7fnM6/fZjJDRtyuH79cLludToLNpXwasnEvIcrClDYwKEsBXef6hl3QEIAt66Ox5N0NJjGGVCon03H8lh0rI36Sf+eywL0WYu4HUKsMGUB8rioTC3giXLfsFR0VHD3+W7ODQLGFt5OqucvUQRIY2jlqV2TCZCRTckVrMjqu3yI0EAf584X8UITBKJ1z6o6lmwv5PXyCS33Elazlje2pHNPsZd+IUBxxbRT4MImEvMVXP9Z1nDsW5XGgq0FPKEcoj8IEhEiA3UsXpfOtz7O5Ib1l2PktavTuXZzGe9V2i6/X9BN74gA9U6WHBEM0FbTxoubUrl+7fB73bAqnWtWZfJgZQjbmC51WIA+K9WhvtLf4fPSOCJAnVc0mgitbV28va+ClHDkr2dmWHr4+FAuv0hUX2ESU6K/sIjrtpSzf/z4RXBFZkeAImG6cuTccbKTxL4AnkAIj9+PuryKt8/UsSbqGCJEsKGU25P7qLzix3ip7W7k2f0taP5KNbyN9fzxgJI/1Uya10E40M1z67N4ssRM9xT+NEH8MD0B6uWNU83kj9+kFhhgZ3YZj6ZHW5qJoM2V8azcSs34YBvQsye3nIeT+iYeVRwOYh4KEhiVV+8oK+ed1Hb2XRoXSPiGfOg9QaKNAfoL5fz6SAvHdZMLULemljs/L2CFJihOOZwBprsClFdQz7LkVhovPRZAZ27jmYR66rwj/2+mVh48XMXeejsWX2g4VgZCDPn9GB1DaJxRJm8iNtbvVbKr1zFRbAMD7M8r5YELfYxtkmHc6hpuO9FOpWF8D23lcIqCh4+0XuHEugg0lXHTZgVr2oROxwrTWQGqSSvkDzVBTGGgo4J7k9SkGAFDM28lN/Bhy/hIE0RnbOWZhAYavNHijIktKZV8nj9weSCn7yc5qZhXJptNdLTz9B4575caJ92wbbFoeH1TJg+Xe9ELAYorpidAEXz+APahAE7/xdjnoaGrjvvWyVnZFyGAhDTYzF0HajnZ5sQ6LkYO2ofoHS3nfhcqpYKfp5novxjmpBAWpw9zIEwE8DU3885hJa9UDY28VxBbfz/HTubzdG0Ixxhxd7PnaBmflvZxKXEpHMLi8mEefbuWoSFqU/J5ssxDz8XqhINYXD6s/rGa09HexfsHqpFN5Svy97EpsYh7z6queOJnb76MH+6o4mCP2MgxHWZHgMJhCs7lcFeyjhxLGF8ojG+on92n0vj3zZV82hNiOKVYIhIO4fQGsbs99JUVc8sZFZl9AezeAM5ghIv7t0PhMG5vALvXTm5jLQ/tqqfaHcDuDeLwhxm/RxOAgQ7+fLyYRwuiHJM1XFH8/fX8Zlsp+7rdUQeagvhleilwYbIvlPB+iQ65a7hd2b1eFOVV/PjjTH6d3IcrEEFCIhIK4fAGsbu8VKfm8VCOnhxzELs3iCsYGW5HUpCyyhp+v0vJR+0X3y+A3eFCkS7n1hPt1NkutzhnVSXvJjezUTXc9u3aXrYezOX2c91EyxiV2qu4dX8Vu9onWfKW3NTVlrFwZx2lnrDYTDwDTEeAQiEviRlVvHqyngJ/mAAQiQzRpGng91uryTd58UsSREJkJct5PlNHrjWMLzhSzDoOZlXwlGzEiCUJv3+4DZkcg3ywQ87qNiPd3gB2bwjfxdXwkIFTaVn8y9oyPukIXmp3JquL06eKeKfRhmbCynmAgoIKHj9Uw9HJxtJSGE2ejF8eaydxQOwoixWmIkCSJOG3WMg9l8vvi120eSJEWstZcqaDQ9oIoYEm/ny+hjerhvCGJSKRMB5vALvXTa26gd9vq6HA5B1uS/7wSJ8cwRvo55MzpbydosEYjBCWJHxqNQdPFfJkTRBrQJoYd6R+Pt4r4/X8vklm1AP06Zt5eI2CfWa/2JcbZ0xPgCwcSi7jlQvd1IdGxonBAO3dXby2s5QTntBwXxoKkHxexvN5ehT2UTHSoGFreiUvKUaN7/xuNOVKbr3QT4NlpN9treXBrYW8Xm/GCfSX1/DSwTKWdYVGPtNNS00J//N5BkuKh+j1RUaNJ90cOlnGCrmKGm8Qu9eHsrqee7eX8Hr1qL53aIj6zAIeK7JSaR/uw3Xl1fx+exHLai2EgXA4jNvrRVnbyisJZZzxBrF5A9h9QYYiUX4rANg4lankkYPNVEz6PYYpOJvLfam95NlFTz8dZkeAJHA7u1i6L58FH2dw7dosrl2Zz527sli4LYn/vamKFY1BwIu2vYbF67O5dlUm13yaxP+3Io1vrcri2s/TuT1rcGRvRYj6hhYeXZfOtWsy+dbKFL65LIXvrsnk2rW5/OS0Cq0nSqccNrEvqZhHT3SM5OCPIxSkM1fGwuPdFInNY/OO6R6CEHCr+OBIwUibzebazzO4ZXc+C3fk882/ZHNfuhZn2Iu+uoybNmZx7apMvvvRBb75cQbfWpPFtZ9l84hcT91IUwz4vZTUNHLPmgyuXZPFtWsyuXZNDtftbSBH68Ez6nS2iE/P3lQ51y9PH17aX1PIvYndtFl90W92GdTwxo4i3isdJGqSnc1E8rl8fp5inIX7Enw9mboABVCW13P7h+f5+3eS+J9TrWSEwugHW3lkdQrffDuZ720q57jDTwAIuk3sOFvMf69M59o12Vy7JoNrP8vlgQsd1I7cdyfgdHPqRC7/tTaTBWsy+MdlSfzvlRl8b00m124oZVurbbgDDQ5ysriEH6yX8cjGrOF2vCaDa9bm8bNTGlrcUtSJHndLM28fUvBSbfS8kUjYxvb9eTxVbKBRnIEQM0xFgHx2J0ePZPGfH5zjm5/m8su0QbRVldy9OZV/PaShqq6Vzw+m8A+flbO+1YpZp+KlTcMx67urUvnmshS+vTpzuG0e7qDeGoagjjVncvnHd8/zv97J5NliPd1OM2ePpvOv75/l79bIebTIwcRuOUxxqpzHz7VzJlpo9jtpURZz3RftdI8/eEEQ80xPgMwcSM7n399I5Ftrs0f63HQWbC3m5UofDi5LQcBlYP3xIn48OkauzOPxtG6anaMimhTBYdby2vZsrvt8pN9dJ2dVlR6NZ/gwoKDXxNmCEm78cGRsujqX/1mfx337k/m71XksyjAxcMm8Izg6GvnTvgy++1kW136WwvV7q3ivzoXGM2rMKIVxWFt5Zksu3/80g2vXZPL9TWVsqDCg84SQCNPS0saT69P4zqep/P3yZP59bTYLVmXyg83FfKz2T3KfoQidlY28dqCUlVGPMpYgomPplkKW11noF/4zLWbxEIQQA4NWlJ1GZN1GZF02Wg1OeowWlBo77c4IEMbrdlDWM3xNkdpChcZMcY8RWZeBcqOf4UlyCYfTRW23AVm3iWKVhXKtBXm3cfjfA8MzVxMJY65v4M0DSpY2T0zM9HstbNmTzROlFjrFIHHeMf1jsEPoDbZRbdZIld5Bl8VFpcpClcFLSArjs9tQjLRZucZKucY03GY7jdRYfGOW0KWQnw7NyPt1G5H1mFEaoylNBJvdQWWnAVmXAZnaRrvrSlIepD27mPtPNnN0wj4giT5VN0t35PPn7hB+ERRnhKkLUASrzUmd2kSpykxFvxujJOHzu2lQmSnXWFCo7fQHI5c2gjusDqq6DZfbSbeV9lE3HY2EQvT3my7FvNJeC0qViaJuI7IeG2rXyLVBPQfklfz+vBpVrwl5z+V2V2O7woDSb+JYRgn3H2oflbJ3+e8JGFu4e4uC7R3O6EIumBOmIkCRYIi+fhMKjYVytZkKgx+v20PXgJmS/iHsLh+DRgulajs9riAB7xCNquF2Ju+xUN5rGY5v3UZkOjeOoAQRL90DFpQqM6U9FhosPjyhAAMDZkrUZso0FmotQaJ1y35DKy8cKmGp0jRBxr1mM4cPZ3GnwiMmbuKQ6QlQCKvDSY3KRPHFuNdloLjXjjrKPhqb2U7F6BjZY6PbObGRSIQY0FtQXLxO48IeGXuFx+OipmvkvbrMlPc60dlsVGjNVBgD+EaHyrAPtd6MvNOIrNOAUj9E9G3qAdR9Zoq7RsazfZ5Rx1pLuFxu6noMFKvMlGpH6tdlpEhloSPq6ZwjH+/uY1eSnLsTeydKkhQh3FnBT3ZWc1w9JG56Pk1i60aos4HPyIFkOUsOdozt2EN+rE2VLDrWTrohJDr1ecjM3Ag1hnF186edRbxSqB978zWPmaKiUn59TkdPYJLjaAXTZnp7gOaIyCCHiyp5OivqTSOuQBhzSwtv7y7khXFnuocDfgqTCnhK1keNV8zKxxLxeCNU8JGVIueR402cGZ2dHnHT0FTPki8aqbYhUtLjkLm/Eep8JEhrVSPPJchZOy4fPuC3ceBgEW/WDNIjZjqnzfwXIMIYTBbKu8bdVDISwm82UjAYQPTp85N5L0AE6FQZqda7x26GD3gZ1JsouuJpioLpEvMC5BjkXGY+3/3wAn/zQQa3Haxmee3Q1AXYO0S31oBs3M7zSDiMpsdAiyeMuAdqbBGfAgR+s5VKjY2W0VsYpQAmq5l8nWhl8YoQoNkh7PbQpjZQMe4s7HDYR12HGd3IAQ+C6fE1ECDB15X5L0CCq0nMC9CQnYrGbrbIutkpb2ONXM1ZjV+sAM5j4lWABPMTIUCCeEIIkGDeIgRIMJPEvAAJvnYIARLEEkKABPGEECDBvEUIkGAmEQIkiDWEAAliCSFAgnhCCJBg3iIESDCTCAESxBpCgASxhBAgQTwhBEgwbxECJJhJhAAJYg0hQIJYQgiQIJ4QAiSYtwgBEswkQoAEsYYQIEEsIQRIEE8IARLMW4QACWYSIUCCWEMIkCCWEAIkiCeEAAnmLUKABDOJECBBrCEESBBLCAESxBPTEiCHwzHhQoEgVhECJJhJ3G63ECBBTNHX14fH45nraggEADidTiFAgrhhMmGPKkBWq5VwOCyKKHFR9Ho9FotlzushyvwoDoeDvr6+Oa+HKKJcLDqdDqfTOef1EEWUcDiMzWajv79/zushiihTKVardWoCZDAYUKlU6HQ6UUSJi6JWq9FoNHNeD1HmR9FqtajV6jmvhyiiXCxqtRqtVjvn9RBFFJ1OxEhR4quoVCoMBsPUVoBMJhM+n08UUeKiDAwMYDQa57weosyPYrVa0el0c14PUUS5WHQ6HTabbc7rIYooPp8Pi8VCX1/fnNdDFFGmUkwmE3q9fmoCJPYACeIJg8GAzWab62oI5gliD5Ag1hB7gASxhNgDJIgnprUHSJwCJ4gnxCEIgplEnAIniDXEKXCCWEKcAieIJ8Qx2IJ5ixAgwUwiBEgQawgBEsQSQoAE8YQQIMG8RQiQYCYRAiSINYQACWIJIUCCeEIIkGDeIgRIMJMIARLEGkKABLGEECBBPCEESDBvEQIkmEmEAAliDSFAglhCCJAgnhACJJi3CAESzCRCgASxhhAgQSwhBEgQTwgBEsxbhAAJZhIhQIJYQwiQIJYQAiSIJ4QACeYtQoAEM4kQIEGsIQRIEEsIARLEE0KABPMWIUCCmUQIkCDWEAIkiCWEAAniCSFAgnnLbAuQJIVxuLwYvGEC0qx9jCBGEAIkiDWEAAliidgQIIlIyM+gw4cjLCG6ZsFkfA0ESCIYCuHyBgmMeVgiEgxgD4ofyHzlqwtQmCGfH4MrgDMYmfBsMGBmzd5MlmSZqRv6Ch8zAYlAMIjDGyI85mEJnzeAN4Jos3PA1AVIwu8PYHL6sPnDY/8P54igP4A9IBEe3XCkEA5/CF8sVFDwpZj3AhQKYvOFCYwJvxI+fwhPQDTcWGPWBCgSxOb2MeDwYXAH8ISu1AMGsPXU8Os1cjb0u5mbX0cEty+IZ9y4IRwKM+QL4p+TOgnGM/8FSHKQIa/mpRPt1Ix+POTD1ljFQ1kDNDqEBM1HvrIAhY0k5hTynU9l/EFmnPB0MGBiZUI6t2WYqJlJAQqaSJSV82iiitGfGvYFyEkq4ZMWB5qJPiaYZaYuQAGUZbX8clka96T10DrrNbsyfqeTE6dk/Kl6iIHQqCc8apalNbK91hETkiaYPvEjQBLBcISwNI2eNhKkI7+E36f0orSOfl2AIkUzKzM6qBJxMKaYNQGydfLmgVy+/3Ea315VzKp6yxViVgBrdxW3rJSxpm+OBMjWySvHKtnUYBtTT0OXjt1JlSSYxYgzFpj3AhRWd7DisJyHC+xjfwhSBI9Fw2u7ZLzX5KJftMd5x1dfAQphM3fzl7MK7kmKNvCNYHN46PeE8c1gRzzY2s77B4t4qc5HcNTjUiSIvqWCxftqONs3o0tOgikwnRUgp8tGwiklz55uomLWa3YlfGja6rh9aymn9YGxqZphHznpJTx9ppXT5jmroOArED8C1M/Kc02kq11TvD6C16tm6YZ83muw0D9a3JFwaNpZfrKYxxSWWair4MsyawIU8qIy2Knubee5fSV8KNNfeRUl5KfP6sUaijAXjlyVVcg9p9o5ORgaM7keHDJwOquI20/30DcH9RKMZZ4LkJP0rFKeOtRAhnfis1LIh/JcDr+4oKPccfVrJ5hdZmYPkIkT8koeSblKec1hM8czSnjgWButofFPSkT8A7y9PZc3qi1or06NBCNMbw9QGJmsgb8kNlM1q7W6Ml6rleMnc7i7wIk+PHGWJ9Rdz5OHlbxS5ZyD2gm+KvEjQCpe2FXOkbYpdrQBP21FRSw81EWxLTwxQyNi5limgru+aKV5pqsq+NLM/h4gA+vOV7KmUI9vFj/lyyOBvYfnE+R8Wm3BOaHhBmlobOChbQr22hAr73PMLAqQm5ScSu7ZlsfC7YUs3JzLLSc7OKW73CK8VjtHTubzmwNK3i5s5Ym9cm7Zks/NW4tZ3upCf+nKEE0tHbyyK49f7Sjh+ew+nISxO9W8vUfGop1F3JtrRO0ZVwWbir+ckPNgxiSzBVIYd3sltybUcK43iiEJ4povI0CaqkZeSsjh5i0F3LxBySfyGj6tqOXJlFGt0eslI1nO4q153LJTzqtVbrSB8e8UobOzi1e3Z/PzQw1sqLNjaazhjl0F3Ly5kIUHm5DbJrwISdvO8qNyHi2KPiCVpADlSfncfkFDgU0sW15NpidAATLzm1h9oYzdrfX8dnM+N2/MZ/GROo5M6PisnMos5zfrR2Llphx+m9RDyqVwG8Ro6eaNnYX8amcxd6b10ucJ429t4c+HC/n1hkJeUA7SMGGqM4Ba28bz6+Rst0aix8BgP6tOFPNMshrddL4MQUwwVQEKDnlJSSzizr1y3iho4dmDJdy6JY+bN8l4o8ZM99ir6dd38tLWfBZuK2Dh1nwWJih4uznE5fUbC6dzKvjt+lxuO9TA3m4fuKykpRVz29YCbj9cy0EbBIJhijNLWLI9jX9ansr31uXys+2F3Lwll5uPt3FMM2GWBwCvy8SW3dk8XmGnN+pNZtNvAAAgAElEQVQoMUxrVSOv71eyYXA635hgNpm+AA1R3tDAQ+vzWLg9n4W7Srn7WCsHi1opDUfGZEAMM8BnZypYLYsmQEFM1m7e2FXIzZsK+NW+Os7Z/JOuFOl1Gt5JyOXmbQXcvEXOHXur2KyoYVVnAOPFDzb28OnpIhZuKmDh9gIWrpPzenE/k/YCUgRTWTE/P9jEmd6JtQfw9unYdiiPB0qHxOFJc8wsClCAE0UN7JG3c6Zex5laLVuSqnkjqYPEkXSLoNdHbUUTr68/y999nMOjhV0kKHvYkyXn10fqOKh2j8z8RDAY1bx9MJv/WlPOyR4HfiL4/EbOZOTzD58Vs6bWwfjxZLi9kVcPK3mxcrJ0IYmwt5MnNuTyeqWVuT67RDCzTFeAuioaeGxfOa+nd7BH2cOeolreOZrGP68t5IGsy71sJBiko1XNAUUHnySksCjLTPl4+UbCbLaQKqvmtYQU/nZFLnfuLuZDZRd7lD3srTGg9k7s2Q1V9bxxsJS/dE0WGSUCNSXctL2Cnd0iDe5qMj0BCiJX1vKbZef56dFS3lP2sKekhU/Oy1h8voeWS//3PvKKKvhjSjNrKrTDsbKmh1WpFTx9voNzZoAIniELZ/PL+cGbx/nGhhbUPqC0iG+9fIz/+KKGA1oXgxOajJvapnJ+tbUWZSDKLDoAQ1xIlXPX/gaO2b7MtyKYS6YqQJFgkLaGTj7alsg/fJDBkqx2tiu72ZNbwm8PV7K22T4i5RJajZq1iSW8WtTLmTodZ+p6OVbVzItHKvmwYYi+EMAQjV09vLwhkW/8KYPnagLgHmTj6qN8Y2kmf6wdoMYL4UgETYeGw6Xl/HJdAc9eaCahrIc9yi721Juot0VLUIpgdXTz7FoZG3RDTLZmFOzqZtneXJYUiIYbK0xXgLSN7axKLmepspcz9b2cqe5k1RfZLFhdyAF/eJoCFMHjtZBe3sO2/BoWf1rAxn5XlPbjpaapnqd2l/BwSjd7SnvYo+xg3eksvvvROX5S4KUvCPj62JxYyjtZrZyu0Q3H5oomlp0p4ZWCXlTR/qBIhNLzudydoqNgsuGyy0RWch7XHu5GfcXDHASzzaymwFWX1PLBKQUvn63h5fO1PLIplet2VLCyd9RFgSEqE3P4xVkttZce1PDHvSVsqDJzeX4oRH97GxvONZB8cbDpD9BYVMLTpVbsUeJoX1kND+8qYWlDdBMHiVBYxcvrMri/yDTnm5UFM8vUBUgCLKw9UcoKmYGBS14SQN3dwIO7i3ggXR/1leZCGc8WmSmdbAwStlKeW8D3EhrZPm5DZJSLURaVcd+eCtZMmiAcgZZybtxQxOdTTScRzAjTXQEqlNdw74YiVrbZRzrrMKb+Bu7cXIXCORLZ3Gr+uP4C/7haxj3nann5fA0vn6/mrg2J/N9/Tuc3haNjrp+aBjWbzyh5+XQFz+9RsDSjE6Ur+iw6fjul+YVck9BA3aSb1AJkZ8v51a4a1ouk9LhjeilwEdSZ+fz6WCeZl+ZOBvjgWAnv5fYPt1HJRaFMzn+8k8QPj9aMtMdaXjgl53tvHeMb29opsVxubzaDkdMZNbx7spSXD5Xx9KFKvmi1MnGkoGPpgWqSJ6RpRCOAQV3Nr1fK2WkcYtLcDI2KZbuz+GmSaLixwnQFyKzq4NNTBSw8Wj3c1o7LuW9bNr/MsqKNemDGlQRoNFbW71ayd8DFBD129LIjWcavTukYMzT0GDhRriFtIIxPAkdDKTd+mMiPtin54/mR38I5OTctP843PlGwPsrKoxR2suuLTO5MG0Q5WVP3milMz+M/djVQLwRoTpkdAZIiOHtUfHiigudO1bA0uYGlqU0sP5TPA8frWTs618JuQ55SyAsNEWyX4qqO945UsLfWMnYGwDHIWVkZj2ZZgRB2vYo/JFSQYQlFDZKD5TU8llDCW/VCgL6OTE+AunjqbCeNveMXzK2kVFTzWHKUoB4K0ZVdyNMyM2WTjUEcejLzS/mdYioZy2Eq5OU8uLeC1UKAYo5pp8Dl1rE8tX1UXPGjNrbyzK46Ki5Ki76G2xKKefJYLR+mNbA0dbi8n9nKBqWOLO34XjREweEL/F8vHuAbL+Sy1ThZbAMCdsoKi7hu99QEaJ0YR8Yd0xIgr5eG9AKerfTScynMDbLqXCVrCgeG+9CQnuN5Mq7ZXMnazMvt8e3UJj4q7GZHnQnDuJXrSEcTD7+zl288dprvHu1h4rhPIhJR8+q+So612aew7yGAobeW21cWs9M4xKTr3BoVyxKy+OkF0XBjhemnwAXRaNR8lFg/3NaSq3jxQgmPJmrJtkaYmCQ+NQHyeAx8squEPQOuiTKua2VVSg1/arpSvSTUaQUsOVTJk0nNvJt68bfQxIc5reysN1AWZTgshd3sP5jJXelCgOKB2RGgcIiSE+ksvDDA5TYWRluq5OHD9WwzjbrW56E+Q8ZLjdKoBj3AihPVHG8dvw8iSHdHG58eqeRon43zGSW8UGnBG4zeiKSuJv50pITnJuYnjRAh7O7gkY35vFdrwzTJVYL4ZHoCZGPDsQr2tzjHdLjuwS5e2C/j4dzox2RZCot4SemgbbI4FjJTKi/jd8VT27JpqWngzwdLeadjkjeUJLyVCv7Prmr29oh9a1eT6QlQhGJ5Ix+mttN26bEQJmcHz+9ppOPiKNCt54NjpWxqHD/MC2PoG+BU96jBrVvPQXkdz5xq4uOcZt5LKuPlzHq2dHiJ3so91LdUsHhzDcWTpsC5OZsi596DjZwV5yDEHdMSICmMNkfG81U++i/5sIlNSdVsVY70fmEXReX1PH+ylQnjw6CZMy0melwXG6+H2pY2XjtXy5+SGngvs5Y3EktZWqajeMxhbxKRSDd/2F3FedXFdh6mp6ub7fJ+FBPaXQSrU8WL6wtZox2aOIM/gq+zi2X78rivWDTcWGF6AjREbfsAJX3jJh2tHTz5aRYfDQajyK+JTYlVbFP+tWMrrazfU8pxW5QdQE4dO5Lk3HGuj54xT0h01news9GJJSBh66rhuRPtnB1/0GDES2u7Dlm0hhmRqLqQy5KkXvImG3o4TGRcyOUHx9ToohxMI7h6zI4ARSLUV5TyyNFaXk1rY11hO+uyK3l06zn+5vNsbkvTkWuIIHm9VBbX8vzGC1xzsJVNLW4cQQeKukr+5+MMluyvJ6XfzZhYajdTrJDxo4Qa7t7dQgNMfsyhU8OKk3IeTOmLMisFRMI4GstZuKee5H5xa6r5xnT3APVUV/HH89W8nDXSZvObeedkAf+yLJV/2VLN4VYbPimIs0/L1qJ21uW28Pb2ZK7ZXc1LWe2sy2vnmMo5vEHS76ShpYt1qRU8tTOdf95Vz5qCNtYVdrKl3oJ9st2PA52sOFbEg3nRu31J8lN4Lo8703oR/f7VZeoCFEaj7WXpzmxuWp3PO3UG2iISTlc/25IL+f7yXF7NVVPrG77RbW9tHS8cr+aFtNbhdlfYxrqUMv5wVMnSShuE/Zg1nSw7ksQ3XjzB358zYwHor+HW9w7xjWVyHpUbqZuwnyKIrreLV9cXstYgRZ8x9en46Hgxz6RpmXinK0GsM1UBCgcCNFa2sHTLBb6/t55ltU5MQRd1rXUsXpXOL7ZWclLlwAp4DSaOpypYcrKddQXtI7Gwhc9PFHBnSje1liA4TKQri/nR2wf4xgdlIym7NpJOneUbz5/m28dUHO3xjdzAVEKSzOw5VsyrZ2tZk9/OutxKnjxSwN2JKlKjhGi/28LefVk8UGJDHXWRM0h9eT2v7CtjpzgJO2aYngAZ2Hgki+99mM+rhZfb2bLUGl48r6ImHBleLZR8VDao2F7QxrrCcn6+Lotf7q7g84I21sk1pGmHNSk05KWyup0NhW2szKrklg/TWXKhno8L21kn11JhvhgBfdQ2N/DKoWIeSR3p6wvaWJXVxOO7inm12Io+AODgXKqCZ89U8X7uxfq18v7JCp481sChaH+mFMFWU8LP9zdwQhN9TOnq1bL+QD6PV/uYZO5ecJWYxT1AFk6kV3DP1kIW7S5i0c4qlmc2sCpTwZLDDWztChNxOjmbKOeOfcXcs1/Js3ILev8gh1IquC9Bzp07yljbahm3MhOio6eeO1Zk8njtEKErHvLupii/jD8cqOVUlMFiJOQl/2Q2i1L7qYqHk0QF02L6p8DZOJtdxe+2FrJot5xFO2T8IaWeTwqaeWC3kpcK+nFF/BibarlnXxGLdhVx+xdK7tlfzG/2FLFom5zXKoy0AHiMZOQpWbSzmDv2K/nd/mIWJchYtFvB3Wm96IcmabiSjcTsUh463ETFhPgpIfl0/HFLHu/WiUM7rjZTF6AgNXVtvLpfxl275Dye2kVhKILR1MPSvQru2avgzoP1JLsCIym+QZTKep5KKGBRgpxFCYUsSqjgk6qRWc7QEJqaan67T8G9B8p4MLN3+N5TrW28f7KE+3bLuON8N6n9E5OLAg47FxJzuS3DQl+UdAtfay2PHS7l9fqp7M0QxBpTFaDQkJfMtBJ+t7+Ye/YW81COAZXPTEp+NQ/ulLNku5JllfpLJwE6rIOsOyxjUULRSCnmN6c6aPKOxC29itXnS1iSUMz9J5o42O0Dp43MTCX375dz98EK3ih3MTSqSQ61trD0yPCprYu2FvGnMiOdk1U4GEBVoeCWva3kWUITJznDRg6kF/Obgx3jZvEFc8n0BMiFvLaJp3YWcftu+UifW8Bvj9ezc3SYlVyczajgvl2FLEooZsmBEpbsL2bxrkIW7a/h87rhcanfPjyevC1BxuLdxSw5qOTOvcUsTihi0f46TmtHT6UHUGnaeXFb4XDM3VXI4v1lvF7lGdvWwoPsyyjjtq2yS/W77WQr+9STDTwlcOt4c7eMZeUmTBMu81NdX8fvtio54b7C5L3gqhCH9wEK0t3awZun22iBSdI6RtHXw6dHZfwu3cSYiaJIGJe+i2d2Kfi03YNh1uormCtm5j5AVx9rdycrDhXyWJl7zKy9FA6iqlay+FADKYOxeReE+cz0UuBiBT/93U3cvUnO3l4/Y7w75OZskoI/nO8gPRZCu2DaxM99gKZLBH+wj4835fByhRGVf+xzho4W3j2u4IUq0XBjidm/D1B80FpYxG+PNrO/NzBmjOp16DmcKmNJcq/YchEDxIkAhTDb7ZR1GJDVt7L6eC4/OK2j1hIi8lcNyI2sspH3EzupG/OWfuwtdbwoN9E9H/sPQdwKEBEr2WW1vJKmGRMkw/4ABRmVbFO5GRBL51ed+BQgCLo9ZKQqebfei370gXEeLZ/ltXG4RQTAeGX+ChAQDqMrreS5rD4qxtzzLICirJ2thSra56xygmgIARrBrWH5+Vp2N4899MPY08/hrHpOuiZ9peAqEicC5KSwsopffZzOtWuzWLAqnWs2F/NUsRPfFG+lK0nSxNUiSRJLkPOYuBWgESJR2qwU9WhQwdUgXgVoGImINH7FXJrCBJIglpnXAjTCxHYLUpTHBHOPEKDLSJLE+O5akpjwmGDuiBMBkgiGQjiHAti9QRy+EG5/CHcwitQIBCPEuwAJYov4FiDBfOTrIECC+EEIkCCeiBMBEgimjxAgwUwiBEgQawgBEsQSQoAE8YQQIMG8RQiQYCYRAiSINYQACWIJIUCCeEIIkGDeIgRIMJMIARLEGkKABLGEECBBPCEESDBvEQIkmEmEAAliDSFAglhCCJAgnhACJJi3CAESzCRCgASxhhAgQSwhBEgQTwgBEsxbhAAJZhIhQIJYQwiQIJYQAiSIJ4QACeYtQoAEM4kQIEGsIQRIEEsIARLEE9MSIKfTeVUqJRDMBAaDAZvNNtfVEMwTPB6P6NwFMUVfXx9DQ0NzXQ2BABieJNLr9XNdDYFgSjidzqkJ0ODgIAMDA9hsNlFEiYui0+lEmxVlxsrg4CBarXbO6yGKKBeLVqu9NNEjiihzXfR6Pb29vXNeD1FEmUoZGBiIKuxRBUir1aLX60URJS6KVqult7d3zushyvwofX19aDSaOa+HKKJcLBqNhr6+vjmvhyii6PV6dDqdiJGixE3RarUMDg7+dQHS6/U4HI5pLC4JBHPL4OAgNptIgRPMDG63W+wBEsQUfX19eDyeua6GQABMnlIkEMQik+1ZE4cgCOIecQiCYCYRhyAIYg1xCIIglhCHIAjiCXEKnGDeIgRIMJMIARLEGkKABLGEECBBPCEESDBvEQIkmEmEAAliDSFAglhCCJAgnhACJJi3CAESzCRCgASxhhAgQSwhBEgQTwgBEsxbhAAJZhIhQIJYQwiQIJYQAiSIJ4QACeYtQoAEM4kQIEGsIQRIEEsIARLEE0KABPMWIUCCmUQIkCDWEAIkiCWEAAniCSFAgnmLECDBTCIESBBrCAESxBJCgATxhBAgwbxFCJBgJhECJIg1hAAJYgkhQIJ4QgiQYN4iBEgwkwgBEsQaQoAEsYQQIEE8IQRIMG8RAiSYSYQACWINIUCCWEIIkCCemL8CFA6i6PeQaApypSGwJAWp7PdwzhhGH7pqtRNcBWZbgCJhL+X1Ks6rvBiCs/YxghjhywqQ1+agqFbNhd4A0izUS/D1JWYEyG5DXq/hrMoz1zURzCFCgATxxPwVIJ+TF/L6+EGVk4YrXBaJuHk3T8f3y33IvFN434iE0+Yl0RjEMk6YjFY/1fYg+q9Sb8GM8ZUFKOKhuUvNDoWOvP6JjSPgH+TPq0+z4OwgyhgYg0xGKOhBXt3DvrI+ajxBJvV8nxeVqp8U7diBuhTxUdlsoNsbJHwV6hurfFkBMrR08sQn5/lRmp3IVF7gdVDT3M2OCj1K05VmZXzUtfRTpvfgGvOwi26dgTyT0K35zkwLkMdiJ6e0jX1NJlr903hhewtPrU7kP0/3zVhdZgO/2UpZp4Fy5+hHg9itBpK6PUiS+M18FYQAjWAzcKGqmz31Vnrck7UpiUDISXHtAE3eEGPmUB0mFFo7ja5JXiqYEeavAAV9HGuz8YnGx5VCsiT5SWyz8aEqSEfgr72pRDDg46hykDvahugJjG3Y3Wobr1Xb2GL9Og8TY4evLEBhC9lyGd/5KJvbUyb+SMIhB2ezqvmo2kHPdAYLVxm/z0rCyQK+804WKzQOov+Kw9i6O1ixM48nazxjBuqRsJNTR4t4SamjeWhKQ/h5yZcVIOeAgQNptaxsHJraCpBzkMSkTL67qpAHi68wo25t4/HNct6rMGMa83oDF3JLuT2xD40IRfOamRYgm3aATzcn8f3NCtZZpvHCwQEOZdWyoto2Y3W5EhGXk64BO21D03mVD1lOKQ9/UcVBw6iHJR/armbu3lND9kAIr3CgL038CFAQvdVOvc6Nbzbevq+T5fsu8M1N9ezommQSK+xH3VbBrWsqOGXxj63HYCdvnarkT0r72NgumFHmrwDNBpEwKqOF38qsJPskJvhSaIhVVQYeqfcgdgrMPTOTAmfimKyCh5PjIahfCSvr95SwQ2PHHO1pv5XkAiV37W2jfsKTEvRWs3BHOQntrq/tKtBV3QPk6uNEVjkPKCYToAAViYXck9hN1oSVHglNazuv75TxriYi0u7mMbORAmfq6GXLcQWbY3n7ZEcLmy9U8/E0Fpz8pk7eOa7guUIj4zOWgy436Sez+FWuFZUwoC9N/AiQh6yqGl480smsJW/01vNSYgvr2qIJkITPZuDogVzuLbZinDCYDFKUUcIjx+s55JitCgpmUYAiGN1BKi0BFJYACosfpSOEMeroKUy3LUCJ2T98rT2E2hXCFo6MkwyJoaEgJSPvWWILUDcUQuMOc3liOozOFaDUHKDcGqTHHyHa5LwkSRidAcosfkptQdp9Er6/EvdCQ37OVxpY3OJFH4p2cYjiDjNPlNs54BFBdK75MgIUdrlp1hpRqEwoum30WLTsK6nisVErQFI4jEFvoVRlorTXTocrjH/8f7fPi3bAQpnWSnWvjZp+J/1GK2VaKzW9Vko1dvrsdur6bVQZnHQM2KjuttDi9DLo8dDQZaRU50Q1NO6NAx4aes0oekwoVCZK+jzYJ+w/kgg57ShVJhQ9JpRaGy12C6v2KNmtjS5Ans5OPj5YxJNVk82H6flwRyFLywyov6aLQNMWIJ8Xbb8JhcpMeb8LrXvyL85ld1CrGml3Ggc6TTcn8yt4MKoASeDr4qnNclY1WYk6524a4OjpAhalm2dnhlMQE0xfgCTMRivlquH4oeix0OYOj0mL1bdq2Xq6hM3mENo+MyWq4TZcahzbk3rsLho1RhQqMwq1GaXaQq1xCHO0Pt7tpEFruhS3FBoH/b7ovwebwTIcu1RmStQ2NDYXnY4AziAg+dEZrRTmVfDKoRKeVppHYrWZij4XZkmaRPhDlOeU8szxBr6IFgBDXgbrlfxgTyOlVrFX78syfQGScLld1HaPtAu1jaoBD0a7B8f4/0uvhzbdSBvqMaIc8GAc3fdFwgzZbZSoLFTrPbiIYDbbqFQNX19l8uOIQMgzRLtWxarUEu5OqCVZNdKG1FbqLEGCoz807KVHb7ncbruttNoDUVKZI+hHxgQKlRmFzo27o4ZXUlpZ3x5FgCQvHV21/HZ9BameUNS09GBbA388VMqb1dNa5hRMg1kUID9f1Bq5NW+QG2VGbiw0cL3CyqreALZRATISCaO22Xi8yMiPCgzcWGTkRpmZe/MMbDD66L10oYTF6mFv9SD/mWdgQZ6Ba2UGfqg0cmu+BbnnYpMcYk+jiZ9k6fnXFD0PtHloj1K7cDBMap2Jm/IH+W7GAAubAtReMY1JYsDh5LVCIyvMESZLzQzqnbypNPG8OtqPRHA1ma4ABT1DpKQouW11KgtWZbHg41yePivjyZxKHk+7vLMrNOTlwul8frIqne+uSOLWXBtN40aZkk7Lji9S+OdlifztZ0Xcc7iOw6kF/GhtMv/Pu6l8f3UJB0rLuX9/Jn+3NpOfrM/lZyvSuD21jOdzqrj1o2S+vaGIhwtsw7OVkkTQ7aRFruDnmzNZsDKLBasz+P6GUlZXWbBcTMeUwrjN/ZxOzOU7q7NYsDKD67bk8Ju0Th7fVMIenZ2JmS1BlKU1PLm3gn3OCU9eQplUwL3nu0m2fD1b9nQFSOrVsu1QJgs+Tubf1hRyvyxa1JBwOY1sO1PMTSvTWLAqgwVrinjjWCEfpFXyWEkUAZIiBBtKufGLes5pJ9GbiJ2iUiW3JjRQE5hsUCiId6YjQBEpSP9gL+/tzeeGzzNYsDqLBZ+lcVtqNxmO4KWJQn2bli0n8nlW2cETm7K5bnUGC1Zn85+768ns9eIf+fl3ljfw1KaRWLk2i2s+SOG/9laRMGaYIIHfS1m2giVbsrhxfS43bszhxnVFvKPoY8B7eTAQDgXRqgb4ZFcG16/OZMHqLK5bm8mj+7JYcEJN2iAQGWBvqozvL7/A/1qRzN+vHP7sBZ9msXBfPTnhSPR+VzKw8bic55N66Iz67YRwODp5eq2MdWo3NvGD+VJMV4D8HhNnCpTcvDJruF1sKeKnm0p46bCS88HwpZU6v9tDeU4J92xMZ8HnWSxYmcZ3tlbylwoHpouz5AE33aUKFnyezj99UsBH7V28daSIn6xMZ8HKNBZnDlARAGd7F3/elsS/fpjMN5en8p9rs4bj7oZC7su3Yrv4oVIQY0sdz+/L4cdrcrlxUy43rszhgaRWCl2BS3WLRELo+tW8tjOX61eN/K7WK9h6IY/fJ7WzrSOK3gzZKMuTseC4GqN/kv7Ur+Oz00U8kqTBKNrjrDCrKXC5GgcFAx7qHUHqHUFSWq08WWpn46gRmMcT4FS1kZc1fuQj19V3WvhptoGX+gOXZqv9JjfLigb5TYOLrkAESyCCwR1kZ+kg18ks5FxaApLwhiJYA34O1Jp5q9kdJaVn5D1DEaz+MDWNRh5r9iO/4iEIYTrNVu7Lt3DMHyX97SION8sVg/yywTOpJAmuDtMToDD5KcX85lALJ1Q+LJ4AFkc/R9Ky+fvludybNXj5UknC7wtgdQ5RmZLHIwVmysaPQcJhvHo1+1JKuCPDjDUQwud3UV9bxs8Ot1Gh9+INBnEMNvPgxlRuSe6l1trP5hMZ/GBvE0keJ7l1NTzxRStaIBIYQplcwE93VnBK5xqun8dPX0UN9ycoWF5lww9E7HpOXSjgllNtNI5co7f2szwhi395L5fPdC4mOo6dC3lK7t/TQPEVviGDXMGN28rY3v71nJGa9gpQOMyQL4BlQMvJDAW35TkJj+/IIjYSThZwT6KWNIMfi8ePpV/NrmPJ/OPncv5QGuW7joTpzCrgluNdZBkm6xm91LdWctuqIj4fGL+SLpgvTFmApBA2WytPb8nlvlwrdXb/SAzpZ+OpAu4500XWSB9q6enl7VUn+NsNJbxWH8Dk8WNxeSjLLOan++vJ7PcTBMLBEM6hkfcZCqBv7uFwavWY/p1wAGu1khsSKtlXb6K+3z5c6mp4aGs2d2XqsEsAEVSqdh7blMd92UZ0rgAWTwCzq4elu7K4Zn/3yKEeEbz+APqaBj49W8k7bcOfbfEEsHlDk7dzdzdvHirixdz+SVdEhzwDLNuWzpICO+0xvKczlpmuAHVXNPJBYgWfd9mG24VKy6ETWXx7SzUXAmEkhk/qzTgv4793VnKi63Lf11jexNO7FbxR5bk0SRgOBtEatPxx9QX++bN07iiwUWcbjqv2QISgNJzB4RoycUxeyTOHWmkdGn4/y1AAR+CyQEcMLTyyS8ZbhRrqLrbb3i4+PpTFf+9vpDAEIGExqnkroYCnSpy0u0Z+D631PL31PH+7pYkD6olLopLFxNkTOdySbsY66QmyFg5eyOdXexs4P5UDugTTZtYESIpIFDSZWVKg54ZCIzfIjFyf2c+35XbWj1qClqQw2n4Lvyw0cH2BkRsKjNyQM8B/VQ+R7pJGLDuErNPKm1V2csalngUCEczBCIEJ44AQKU0WlqoTydwAACAASURBVLW4r3gKHEB/m4lnW/6KAEkhmrQm/k++meNBafKTtJxuPlAM8vN6DyJ1c26ZugBJQC9vnm4kqdk16v9WIuDpZUN6GQ+nRgvqEr25Mp6RRREgAII01Lfx9okGyoCQy8X5M0V80Dl0+SACRxtPHK9me8MQ4OBAZjkvn9MSJEh1ewN/2NeCDgmby8jnR6tI73ePzV8Ph1BkVvB2WgvZgLm5l32JlZz3jg26Nms/7+9QsO3/Z++9o9u67kTdWW+9d9e7b8296613576ZN8nMJOPkJjMTxS1KJolTbceO7diOJZe427Idl7jIvcuyeu+9UKIoURJ7BUmwEyBIggTYewNBEoUkCBC9ne/9AVIESdAmFdIC6f2ttZct8JyDDWCf397fbqcnwghQwMipRDk/O1ZH+Rd8S+aSUlbsUrC7KYq3vFtErnoNkN1AXr6CO+TTBUiCoUb+ktJOcpc/bJQmiLu/nV3J5ayONAUu4CfngoybY9rJmbVr0EVtcyW3bSjkQ70QoOXKnAXI48BUo+TRklE00w53D7fw4uUqPlKGJlMaW7v46Ggez2i82MI7p10uzscW8r7GTHOkaW69etKyq9kVFmCCHi+pZzP4+49S+PamHP5j+3jaks7/+3YiN15qRe4DJAvyygp+E9vB1Jl2QcacHoZdgalTk1oa2Z1SzWc65kZ/I48fkvNw/sCsdbfTPsiH+9O5NWd0fjvgCa4wXwEKOPo5mV7At9bLQuViYxrf3SHnIaULcwAgiD/Qy8tx9aQ3j0397QJuMvNq+Et8A6qwl51jBj45UMyOrhG6Zw18Y2RV1fBibNusj0kxFJWw8rMk/uEzGT+YKLfbs/in9y/x93sr2aYHcNDdpuGJlEGm7AAv+bE0VvLwxUZ2RhgBcg4a2XYok19kDH+BAI1wJknOLYe1nPt69jkuOosjQJJEX/sID1SOcnTAQ4PNR4PNR1XHCG+oR9k0bQ6uFAjQbfddOa5hzMqr5SaeaXVTFwTwk90ywtoaG+o5fzQfSXXDfNBop+GLM0tvU0iAyr5wsnyAVvMw98iHOTeHEaBbah0RetoFXyXzE6BuXrjYhKJrmgVLRmIKK3g4LcLm5sEAXTkFPFk0TOUsAco73E9Stoony0w0N9dy79lmWu2ByY0ELE08HF/L2SYXYOFYrpp3U/oAN4pGLU+faGYQGBkz8EmsBo1jZjBtzlfzbmodyYCxtpcTKdUzR3L8w2w5ouBgr3VmwJcsJOSUce+RWsq+4FsyFZdy/R4le5q/ns/6uGoBsg2SLVdwZ/70MWEJjHW8lKmjZGCayIzqOCdTsbos8ghQU+bcRoBu21jEun4hQMuVuQuQHWOlgidrfAxOlxdPF28mV/JOUchcjC09bIstZfuMtTISeReUHOocojdCsfN06kjMmipAPqebS2dyWVOqRzZgpcFgpWHQSoNxjBaDjc5Rd2gEKDBMtkrFbRfnZjSehga2Jan5pDc8exL+4CzTPW3tvHKqiDV5/RHXBENoBOiDfRnckTdKsxCgq2L+a4AC2OwOmgfGy8WgiUxtFfftVbGrP4AXkIJdPHuhFa1+ehQLUFZWxxtxmin1ndUyyCeHFFxw+L5g6q+VZFU1z51twxT2ajAohTqpJAldXiGPJHdwpM1K/US5NdhoNtpoG3Yy6AECY3S01PBUtgX79Kq5R8PzSU3saJ3ZWxAcMnE+NodbvmQE6HSSnF8eqSVejAAtCosjQEEJeZWB27UuVFfKrIekOgP/VhQ+BS6IzmrlnUobJVNKqpsDShNrO120SgAS1oExXikx8lhnuKUEsQxZeVxp4Yw9MG1oOyRA7zXaqf/CzIYE6KlGD6VfKEAS/VYrLxaY+WwkOOvOIQHjGG8oTDzZ6f3a7pYVLcxvCpyXyxfLWFdppOlKWQzSVKfh5xtl/D7LMPOUYIAuWQFPFA5TMVsPjeShpbWdhzbl88SFfF5scU3dZtXSxEPnNZxsCAnQUVkVa5N0gBtFg5YnjzeiA4KuMQqSCnmtxoU+PNC6+/g0qYqPio1YAb9Rx4UsJU+HL5wM+mjNL+GHn+TyiW4sQtn1UqJQ8+jRSk5/gdtUpuZz98V2EsxiDdC8sA2Snafgd/IIk2L9ZjbHVLKveThscwoHClUZN60v4rHyCDWfFMRTo+CGk3Uk6mZpqUlWSlQKfnFAg9It1gAtV+Y+Bc6DydjAo6caUUxrcbWVVfNmRgPnRkKBxdKl440NCfzwbGNYh0gAX4uG357QkN7vijiKEkmApKCPwcYq7jlbj9wy9aza6kY+y2knzwNIfpqa61m9u4iP26Qpo/CmCjX3xtWT2jdZ1j0N9WxNVPNxz/gLDhv5acXceq4ZrTtCzSsNsiW2mDUpXXRF/IICWMfaeWZLAes77AyLG+aqmJ8AWbiUo2F9Qf8UCRnq7+SlnUUctY4/Gyfg5sL5UtZrhuiYcnovRzOreLLQMqVOs44O8vHBMmIsbmb3BitJ5WrWnGkdf+8go6Nt/OVwMS9VeRgKgnesndeOVbC92TalA8nbp+dEpoZ9fYAUYLC/mzeOqUmf8ow9M8fOZ/NPO7Uc6YlQXzosKHIK+N6FXoZm7KA0jk/PxvgiVid20f/1rHIXnUUaAQKzbZQXFGZ+KDexssTMygITtxUO8D35IP9fsYWNA34gQPfoEDcn9fMPBSZuLjGzstjMyiIDv6hykm0L28HNF6BNZ+X14kFWFplD1yw08ZNCE2/q3bT4JQJAbccoj5YYWVls5FtZA/yPLAP/VmxiZaGZZ5udoUZGMIi518JtpWZWFplYkd3P32YZ+W5hKJ9PdrjRRIihXoeH8yojtze7Mc2YzA8QQNU2zGMqC4fHRAS91sx3EwS7qYW1MQWs2JzLyj35rNyZw68P5/LvW7P5r+/n8liOnrGgG4O2it8ckLNyZx4/+CSBv10n43s75azcls+zCsP4qOUkHqOBnTsS+J+7K8h1S+NzjCXobuSFY2n8X28l8c3NKk53d3K2oJhvvJ7HOxUd5LdX8cO/pPKLsw2UBgPYTF28dLiQm3eM52+PnJUbs7k/r5MK23iBDXjoae7g2Z2ZrNwtD6V9BfxgTz6/+jCJ72zJ48Xa0Rk9uLaWVj48WcRTmtnGCkxsOJjP6woD7V9Ts5+XAPnNJBco+fHWPFbuyOJfP03iv3yaw8qdufz4UBlr671YggBB+lu1PHsylx9szQv9pjtzuetAJjduSeNv15ewpsg07eISOFp5cGcJ2xotkUeahweJu5zPr1JNiNkTy5e5b4Ig4QvYqJYV8qt9uazcKR+Pcbl8b281uxscWJBoaWnjiY1pfGdDKr+5UMTNe/NZuTuPlbvkrNxdxOeNI1hmabBFEiCQwD+GWl7CbftzWLlj/H23Z3L98RrW1VrRj8cTr9uBoqaO+3fJ+dFueehe2C3nB7uVbK00onNMBp6gw8Tl/FKuX5fLyl25rNyZz8+O15DWPspIxLrZR2mWgifj6jgbadvEgBtTfTkrDmopGREbGF0t8xMgEwcvyvi7l5P43p78K3XuTQdKebbEhnFiFzgJbMYmXj6Zz4otE3VfLiu35PJYejvVY6GDzOZ+Pj0u56Ztmfzd24n8045cbtojZ+XOQl7VWuieUiz8mDs6+Hx/OtfvkrNyRw4rD+bxaGE/BUOB8R2BvXQ2aXj2eC4rtuZdyd+K3WU8kT1A/fht5/PZqVaU8qv9edw0cV/tlnH/gQz+8bN0vrmrmqMt0zq/gi6aW9T8ZnsVOa5AxM7yQFs9L55W8krF13PGxVfBIm6CEKB5yEVcj4OTvQ5O9rooGPJQMeQirt9F2VgQkHD7vZQOuojtdY4f5+Bkj5NMq8QMhwgG0ZmdnOyZPC52wEt437xxxE2yzsHJXiexehfn9U5ixo9NH/KFegQkCafVxbnx407rXcTrnZzROTjZ4yDV4scQKYYGA3QMDnFr0QgyT4R1QAEXW9VGHqyx0xvhdMFXy/y3wfbQ0tlPnKKLExXdnCjvIqnViEJn5nKVjuROGx7Jj90wwNnKLk6oujld00d8dQ8xlV2cUHaT1mdnxqwkn5cB3SCZnTamPApz1ExmrY54dS+x1YNoR20MjJi5XKFH3j+K2WlBVtXLhVrTeHkK0Naq45xqPH8VXZxQ6qm0eKZW2B4vrU1dnFCNp6peYttHqG0bILmqB5nRPXN9mmuIy7ml3HmiLeKuiQzU8PO95exrss2+/m2ZMy8BCjpo6enjpKKLE5W9nK3p42JNDyfLOzmp1pFrCoRtu29H3drHKUVX6Dct70XWaqSqd5D46j7SeyJVgC6K4/O5L6WL/AhFXN/SytoD+bzaGRCjP8uYeW+DPWYmuSYU20IxrpMzrTb63AASQ0PDpFd2k9Zppn54iISK7vE40sPp+pHxDQsi4+/qI002XYDGcY6QXdsz+b7KTi512RmcbhqSm5r6bk6pxu+Fim5Ot9iY+fzlIMOWIdLLJ2JcH2n6L5635hps5vVzZTxXMjTjnvA7HOTFZ/OfWUN0TH/0gGDOzE+AvPQZzaRW9hBT0T1ZHmsNqGeEPA+NbXpiFWF1X+UAStPktB2nY4yimi5OVfRwXttHbGU3Jyu6OFHeg8zgmvkAcI+b3k5dqKyVd3FWa4ywts2Jpn0iNofyd6rOjGZKr5MEHguZ1T2cnCjfqj6UvSaK2/ScqzZQPTS9YzGIc2SQ40dzWa0aZXjGNLgA5dllPHRWw9Fofh7XEkc8CHXeeEisMPFkt2dGz6tt0MbHtaOcsIkAGg0szINQvy4EMLU18/bePJ6udU4RqmBgjKS4Qp4o6qFm7Gs6/MNX/CDUOSCZGli1s4R3K0embmxhN5OSp+S3F3tp9iMEaBmzGA9CvVrMTc18cKqMzRGftBwNOJFllfHACTVx5rCXJTd9nU3cd6iCxD4/4hF+V8/SeRBqFOD30FGv5Cdbqrg87J26Ns3UwVvnVTxfPIz4NhePBRcgV0DirUYrT6tHeFpjWXbpWfUI9+bq+ZtMI3dVTv3b73IH+XaekV9rRqeepx7h3UYbnqCIrF8lQoDmicNOU3MPZ9vdUwUo6KRIrafe7p3xBPWvE9EmQOBEUd2DvG9s6oie00pjp57E6RsrCJYd11KA9M1dbE1Q8vT5Kp6OVXB3TDlP5/ZTHcVP3nUZTMjr+ykIb8pIXobN/ZxutBEUdfRfhRCg+SDh9lnIUvRS5fBNrVstg2S3DVER8SnXgoViUQTo3SYra6otrNEuxzTKiw1W3m4Y5c/a0Sl/+3O9ldfrrbw8/ZxqCx80CQH6qhECJFhIok+ABF93rqUA9bd0sT1JxZp4NWvOq3i9sI9isVzha40QIMFSQkyBEyxbhAAJFhIhQIJoI5qmwAkEQoAESwkhQIJlixAgwUIiBEgQbQgBEkQTQoAESwkhQIJlixAgwUIiBEgQbQgBEkQTQoAESwkhQIJlixAgwUIiBEgQbQgBEkQTQoAESwkhQIJlixAgwUIiBEgQbQgBEkQTQoAESwkhQIJlixAgwUIiBEgQbQgBEkQTQoAESwkhQIJlixAgwUIiBEgQbQgBEkQTQoAESwkhQIJlixAgwUIiBEgQbQgBEkQTQoAESwkhQIJlixAgwUIiBEgQbQgBEkQTQoAES4k5C5DRaKS7u5v+/n6RRFoSqaenh97e3mueD5GWR9LpdCIGihRVqbu7G51Od83zIZJI/f2hGNnT03PN8yGSSHNJ3d3dGAyGLxcgg8GAwWDAbreLJNKSSHq9XpRZkRYsmc1mdDrdNc+HSCJNJJ1Ox9DQ0DXPh0gi2e12TCYTfX191zwfIok0l2QwGBgcHPxyARocHMRms81jcEkguLYYjUYsFsu1zoZgmeBwOOjvF1PgBNGDXq/H6XRe62wIBADYbLaIDUqBIBqx2WxiDZBgeSLWAAkWErEGSBBtiDVAgmhCrAESLCXEJgiCZYsQIMFCIgRIEG0IARJEE0KABEsJIUCCZYsQIMFCIgRIEG0IARJEE0KABEsJIUCCZYsQIMFCIgRIEG0IARJEE0KABEsJIUCCZYsQIMFCIgRIEG0IARJEE0KABEsJIUCCZYsQIMFCIgRIEG0IARJEE0KABEsJIUCCZYsQIMFCIgRIEG0IARJEE0KABEsJIUCCZYsQIMFCIgRIEG0IARJEE0KABEsJIUCCZYsQIMFCIgRIEG0IARJEE0KABEuJqBKggD+A2y8RlBb1bQRfE4QACRaSqxUgSZLw+QN4AiKwCRYWIUCCaGK5ClAwEMTjD+ILXuucCBaSRRIgiUBQQppHfR9we8hMLOIPqXq01kVoKEgSM64a6TXBskEI0NJiZseHRDTVN1crQJYePRtjinlWaY+qz/PXIknMiJ+RXhMsHktdgGaUH0SdvJRZrgLUXq7hyTM17G73X+uszBtJkljsvjdJkghKc6yvI7S7r1W9sQgCFCRgauGF4/ncfKKZEqN3ThkJOF2cPZLCv5zsoHRkIb8KO0WVdbyX1IY2/GW/B2ujhueLh+hwLODbCaIGIUBLA4dxiLiUcj5tDeIMj6CjHbyR3Y5c575meQvnagXI1NLBc1tS+ZnMukwEaJjTKdVsUgyiC3/ZMYy6UstLFQ4xiv8VsVQFqFtdz7rsNuKHwl4M2qlvbeB52QCepdfOFLB8Bag2p4SVW4tZW+u71lmZH3YzsuwCbtin4k21c9HeplfbzHM707k9o5uiWZv8Eoy085f4WhJ6psYsXW0nR+VNpH/FVf0iCJCE5LJQUl7K9/ZVc6l9jl96MIhxcIgKgwvrQpax/k7Wny3knnQT4bGWYICxwTYeP1jG5y0OTAv4loLoQAjQAiEFMVbXskNjoXbBY6idarWaO/YoSRiR8Ic3nD1WDp0r5HlZP6oo6KS4WgHyu1y09Q2jHfFHWe+2h/ySFk5rponMl53VXMOqw0reVY8xpRrzu6jVarj3cBVnhyXm1vUl+Gu45gI01EuMsoPDHfOotH2DbDpbwKNJHTSHN3gkH/quLl49XMTG1gBjy6O34GvFYgqQpbaePWozygUp7g6Uze3skeuxzOVoi5WaPiudjuiK4AQDDKi1bKu1Tb2XJvC56Wuq462YAn4hsy1aB5x92ELsuQIeiKshZpa6WgoEUWfl8cvzHaSbpsYLu7GLTZeK+FPeIF9lVb94a4CsTdwfV0dip+evyuBfh4MSuYqnTtZw3jrzr0G/i9w4Gb9J70e99DrRBF+CEKCFYyhXzmNyM8oFvp0dhn4OXsjjDwVjRIrf9ioFv4rRsLfj2o8CLb9NELxcuFjO+/ld9M75HAuxMQU8ldVFuWvmX13GAQ4fy+ZuhZ2xwAJmVRCRay5ApiY+TKrmFe3cm1Z9ahUPna1hR8fMYCLZrZSk5vC9pEFM7ihrbAq+lMUUIHtRIc/k9JO1IJ1wDrIq1TxzqpWl3vQblOXxcKEF7Wyjpg4TJYUK7sgfW9R8GCsbWZ9Sw5mIBhPAM9TFM/sK2dI0hnVGuHCSUaDiD0eqyfoKlWHR1gBhauDu800oazqIl1ex6oSCVceVvKkcpDn8ULeL+jI1j55RsDq2mrdUFvpd0wKfzUhqfiWPJjSyobidYwlKVp0uY3VcDZ/Vu2efbjHWw8cXilmVqo9cyIMBRutU/PRILan911LUBIvB/AUogLqqkVdiSlkVU86qk6U8mNpJsmHi7xI2q4kDCSqeT6jlXFUTL16qYNUpBatO13LJ6MQ3fp3Wtk7eOa3iA+UAPQAuJ7XFlTx4ppJns3todfnB0MmniZU8ld3IxrQaXjqq4tMGHckd3bx9tISHLzdxuDO8p8RFZq6aJ08rQvk7Xcaf8gzUTSncHrr62nn9eCmPpbcR3y8xWFPHC+cUrDqlZFVaD/WW0DUH23rYHF/G6tOha606X8fWhvCLBXCbu/joUjl3bkrhX7YX8osT5aw6o2TV0Uo2aUyEhw6Xc4STiUpWnVay6rSCVWdUvKyyMjpr28hDraaOp/eUcXS22Oxo55nDJbynMBKhD+MrZb4CJBkMxKcrWHVSwZ8SmznSOl3iJNC383FiBU9ld3A8r5515xWsOlnGI6mdJA6EApvXOkZSmoKnUuo52D3GpZwano1RhL7n+BaKhifGWhyoGxpZc6KaLRozLsBvd5CVWc6DsVU8XzSI2RO6pq25lXUXi1m5PoPvb8/j9jPjZSBWw/rqL+gTNTdw90EFGzWWyCM8HivlBcWsjOmg2yu68Beb+QuQh9z8ap46PV5+TqjY0GzDOOM4H0NNdTwUowzFjXMqXlF1sUfeS8uIB7CRVarliT1ZfH9zFt/ZWxaKC8cVPJXWQqpttjn9Vk7EFPBMRjflkQaNgk562tT8fKeaIocP4dBLi/kLkIeGtlZeO1bGqhgFq2JreD6ti4zqLmonCpClhw1JFdy9OZVvb8vnp8cn6qAKPqkYCBu99mLStfPG+XJWnx6vh2LUHOr3El69mLv62BWfz093ZvHt9bncfaY8VF/Fqnm70oYtTCTGWlpZf0nBqpNKnszuRW78ghLZ38br8eWsOhl67+dK29hY2Eddazdp1bX8Ka6Wd7Mb+PRCKU+mN3O828rZlHIeOlPBU0UGhlxh8bK/j6MpytC1YhSsiqlmU/Vw2Jv5sRs6eOe8kjs2pfDPO4r49cmJ76WK7fVDk7OaRgfIKaridxkmCnNV/OmMglUxKh4vMDLimR6jfbS0tvDysYn7WcVrebpQG2bKYYMcyqhi9XEFq06V8mi+gROpdezJ0HA2kgD5PfSUFXHjiWaKhyKbmrmhmbdPFPNS01c3/3XxBMjcwB8PF3DvlhzWXK5gbZKWtYkKVp0pYY28n7qJwu3x0K5p5L0UNa8cSuebZ3pQDk8LnfZhCsvLuXV7Ev/Hp3ncd1bL2hQNf75Yxi+Parlk8BGpU0Bqr+flM2U8Pev8mSABewsP7pDzbo0F8xw/nWBpMF8B0jc18XaCllfSG9mc38LmvEbeuVTN84mtJOgDgITdPkJcehW//egi396UzX0JGtYma1l7JI87UptJN3iAAD29Pby0M5tfHquhCMDjplVdywvxcv55o4qcYTcM9XEoXc4/fXKZb+xW8tL5Mh6Ozebms5U8ermCh84Wc1e8DgsQ9AaoU9ew5mIj78uaQvmTN/FKbBV/yemj5Eps9KI39LIttow7NyXxD7tV3H2gmLVJNaF8FvXTPh7hO9QtbEsq50N56Fqbk6v5S3wNpzo840PlQTwWPftzalmzO53/2F/O6su1rE3TsjahgeMtI1fuGbfFRlZhJY9dbGaDvJnN4+nPZyr5uHw48jo7yUJ6qYI7DtXTOOuvYuFQjJw/JnRQuHhTmOfEvAVoeAhZsZa1cUXctT+PW2TWaZ01Ehh7OZCexz9/msQ/blXw7GUNa5OquO9YKQ8l9VDlAZ/dQX6OitWbL/N3e4v5z+Na/pKsYW2qlrUxBdx/qY5EnRNw0dhRz707ZPw2pgUTEHC5KC1R89zpLP77/gaaR0O/vaO7h8OyKu7cJuPHB4p5Kq2WtSka1ma0cLTJNutnclYo+GVMLcc7Z5vg5qa9Q81vt5ZyzOBDdCstLnMXIAmXz0xsppI7j1WzJmG8/CSVcNepct6vHp5s5NhtKIureOZYAY+lalmbrOXNlBru2ZfKf1mbx/GuMcBOaXUrH56W85Ndedx4vCYUFxI1fFTUTaF9FgHydvLSkWLeKTUQuc8jiHG4gxe25PJ6i5sR4dBLivkK0EBbB9tTlTyV1sTm/GY259Xx6sEcbtiSzwlPMFQP2QY4ll/HC3szWLGvjHsvjddBl+s4WGdm8MrV7Oh1Gp6PbWJ9zkQdVM6jFxuJ73dcKW8WvYGzMiX3Hs5lxZZCXrgS+xrZ1WDHEeY4ju4ejuRoWHsyi387UMk72ghxz+dFV9vA2yfkPJxQHapnU7U8cULG//laJm/ltlLU1MA9O5P5b+/lcPt5Nc8n5PPjQxXcc0rL85eU/GhnBWkmV2gWhHWQY+mVvHSxhs15zWzOb2Jzupq1F1VsrBkiNPAewDmsY3emhmd2p/NvB1U8kjBZN8e0W7jS8hkzkpcl5+83l/H7QyreStOwNknD7XuL2VprY2CiI0IaJae8klWnS/ljvGb8flbx9KlCnsjvoyN0EJJ9gMOXC7k/voIXE7WsTa7hyTOV/PqTVH5/qYFLEWYGBJ1u5Odl/C7bTN1szXFjLwfP5fGTxP6vrLNzcQVoRwY3HKmjcHjC6AJ0t2l58oSSN+oihL+mcm5P1lE6FCl0DpOYm8/1RxvInYj3zmF2HZLxcoszQg8WGCqq+dOhMt7QzjY/WcIf6OLPWzO5v8hM0xw/nWBpMD8BsnHkaCr/tKWMRzNb2VrYwtbCVt47lcs3Xk/gxqTByVFEr4eLp7L5RUInzRNFdaSBu06q2FQ9cetKaKqbef+cNiRA4wS8HTx3qJoC03jT0N3Os0cLeF5hxYeNMwlyfnOqHR3Q2lnH00fq6SWIc2yAtzdd5hsHtbyZN5m/l3cn87+/mc0a1ejU3lK3jaL4DL57uJpXVJF79INd3VzIU/ORPHStrQll/H67jJ9nz1ysbysq5sWSEWoids746G5t4P6PEvhuTAubCltD18tv5JH1F/ibjxQc64kwhc1lIC4ln5tiWtDP8quAk7iLufz0dAtnr3EPxVVPgfOZKStS8ju5LfJuPO52nj2axwMy85WpaD3qOl45pWDPRMj1u6m8lME3tpWxqSvsXOcge2JLeLVUT2cAwI5co+Gls21ho3NBPANabj3bQstweCz0k5KiZmNpLwbmhjajgF+cbCC2b7Zhdy89/Vru/iyXv7R7r/mo3XJnzgIU8GDuruSe4zVsaguG3d9uVEolfzir5eD4PTrY0s67e3N4omJoisR0VzezLq8TlTWsETjSxqbMWt5rmuN0NX0t9x0sZK1q9pt5ZKiX1/ZkcFeRC73YDGFJMW8ByoHDsgAAIABJREFUamrk4wtF3JsxXgdlVfHi4Wx+lDRAU3DqbmFeZRmvFhoomLVXxYvD08mW8y1szGkJ1ZH5Cm54J4tXNeZp67xdFGi0vHq+c25rFYdaWJem5S3NzKMdIyYOH87m99k9U0ZK7O3d7Mhq5GKfB3BToCzjrgP1FPvB0t/AQxsL2DwMkjTKnkMl7B8YwwqYVAr+47M0/vOUNvSdFLayNaucu9Zd4G82lZM0TSCGC4p4XmGdbItMZ8xIdpqMbx7QsLdjspWgTcrmnpyhK+tr3T1NfBBXzKNKc1h9HGSkq5HXjhXzZocbl8fPsLqce2PruWSdvFZA38/n+zO45Xx9RAFy2YfZfjiT+wpttM72+1n7ORkv43unm+e1JvWvYRGnwNVz10kNGTOmlg2RVqHmkeRpyhLwYq9R8NskHWWRBMg7wOH8Kp7MnizGrpExLpzN5/0OF6YIp+jLq3nwYNkX7NwhBGg5M3cBkoAOntmXz+/2l/B4rJI/xoTSqtgKnk9o5Eid+YoAuSxjxJ0tYF2vd3JjDVsLj8fXcFg70Xvuo6isnjfjaim/8j4BHO521hyqptA8fl+MNPFgfC3nmlyAhWN51byX0ge4UTRqeep4M4P4MI7W87v1eTxwuoyHz0zm78E4Na+ktJLSY5siQJLJSEZyEX+eMt80DMcI2fmVPHm0kFUnFPwxppyHThRw55Ei7s4fm7qFfTBAT24hT8uNFEQcHBijtLGCn3yUx+Px5TwQM5m/hy/U8HpWJ6qRCALkGCQ2Sc71Ma1zEqDYpSpAowNk5im4YzYBGmli9YU6LjRP1my91a1suqTi0IRBWC0UJOdzv8I9dac8AHU16+XtnBgFsJBYXs2fz7VP9gDiY6xfw2/PttAyEh4LncReruDD/M45x76q1Hx+dqKBc18mQOuFAH0VzFmA3GMYlaU80wQzN1nt5e3kCl7PGQIkSisaePVMLXVzykATH6XU8FrNHMf6erXcs7+Q1+ciQMUu+oUALSnmPwXORW1jI48fU4TqjJNF/D62hEezjVTYJMKj1WBhCc/n9JESsT9Pwj5mIVOp4t6jSv5wMnS91ecU/GRdPp+2DE0TICspqmqeP9saNoL0BegaeCdZG2EESEI/0Mtf9pWT84VbuI8QV1LNa5e68QPdXT28f6ySXAJYXWY+P1jG0UE7dkBxuZh7DuRxx7mKK/XoH8+oeDyumo9KesgPv939PtplBTxROET5bGFgdIBMeTn3FIeZic9Le3Y+TxaNUDVe7QwVadiv0iGffr5/DJ2qlOuThzCOemhPU7K5z03ftMPM6hZ2pEbeBME5ZmbjwUz+8KUClLMcBAiwNbHqRBmvl4wQ7jNuUyd7M6v4sC6CdzeUc0fawCxDZCZiS6p4UjYZOAN2F0lxhazv80ecAhdoqeOlGAXPVc42d0Yi4Grj0e25vFI5wvLbvPHrzfwEyMT+2DI+rxyZsRjfbbNQ3hu2SN/lJiWukM90vslRIVcbT1+u5UzzRFkLoFbW89rpKpKvVOJOiitU/HpvNaqJVqyjlccv1XGhzQtYOSpT8356P+BF0aBlzelWbIDD1ssnxxQc002X+QB9hmE0BtfUUZuxYYrTZhcgb105vz5WweftYTfnWA97zpfwh+Jp90swQFemnCcLh6ma+CxuG+X1OrJ0dgK4aWxrYu3JajJn3Ltu6npG6Ii0taM0QmpxGbcfbaAtcjYBK8fO5nH3xXayF3cN55dy1QLkMVFSNK0CCsfRymMX64hvm/y7obaDHUmVxEwUOtsoBZdzuTV1cHL6MAA+avIUvJneiWwUwE6GQs0TpxrDpGaEZFkJPzjVhmFK4XZw4oKKD4t6uPKpXFYKa/uQDUTuF7Upy/h1TD0nu2ZrmXro7K7mts1F7Or3McsnFiwQcxYgnxNjcyWrs8x0T/vpgvom3khWs6neAUh01LfwxtESNk0vA5KVgtoBqka9k1MbdfW8m1zDmw0ThTLIWP8AcbUmuiJNX3O189yRYt4tM0Sss0HCPNzJi9tkPF/nwiwWAS0p5idAHjr6RmgemVogPeZmHlon48N+35QdwfpzC1mTN4B8ovB5HWiadKR22Qnip7m1nvs2FXMivKqx63ljTxEbO0anrQMf5ZKyimdjO8JilI0SjQ7ZgB/H9LJrauaT9Ho+mVGfSoyaB9l6SM4rjaPTRpNcaJr7yetzAg6yVBrWJvQA0NfZxbvHqigEnG4zGw4qiLWEpp53lql4Pr2FjAh1aVu3mRZP2PRSv4+WdDmPl4zSOJFnp5WSuj5y9Y5Qp6jDREnx9PpHYiCvgOeUY7SMf1+Oxjo+zGni9PTRBLuZtORintTYGXP5GFSU81SZic4pP5uDnNRSHrzcQFqE+z7gdJF1TsZducM0zNYcH9JxJC6Xmy72MjzLIQvNomyDHRwdIq+8lBWfpfI/NlewsaSXxFo9idou1idW8MTlFmQeAD926xCyej2Jmh7OJebw7UM1fFbaR2JtHzK9C1MA8Dlo66jjqZN53HikgSK9A7vPR5O2nZe2p/F7WTepJv/MnlFLF+/GFbMqczDyXHQpgL2lilsOVnNZJ6rq5cZ81wCN1dXx9Bk17+b3klTXT1K9niR1HW9dLOEpmY5hwONxUl4VKnd3yrpIMftxue1oalXcvKuAJ5O7qRtxIwEjXZ18fiaP29L1JNb2EVep5a7tGfy3D/P5SNlPq8lMfnU5N+wq5Nm0PlpsgxyVKbhzby1K0xCFTWpu21DG8dYRBn1eOpVV/CGmjn2qvsn8lVfxSKySdZVDoeDrctHZqSehuJ63D2bwk2Qd57R6Euv6ydK5sI0HO3tjPS/EqFiT1UtSnZ6k2k72ZOTyr++m870zHch0jsnRimAQg1rJk5eb+FQRujcvpqt4YE8BrykMofcdHSEnq5w7z7UQX6sP5a+uj8QiBXeereZ8d6RGmpuqag2P7Snn3GybvHm6eeVwMW+VDF7zrernJUBBF139BhI1ehKVtbxzOofvxLRxWdtHYsMgypEgXgkYG6G4SsH1OwtZk9ZDk82Hc8xOeoqC+3fn8EzNEPUOwDFGYVwG3/o8l2fKe7hYqyexTk+iVsOj5zUcrx8drxSDtNY38Jcjch4p1ZNY20tseRk/+zyF/21DOXurzejdE61KD3k5lbyRoGaXVk+itpc9sgp+s7+ctWpH5N7Mfi23Hy5na6018gJ1n42qslJ+fLyFZrdYwLHYzH0NUACrU8fGU2VsKusiYaL81Pax6ZyKD4t6UU38XMMmLiUXc+spDQl1E8fpiM8v5fZD5ezrHZtcv2PuZltqJQ8kdoXq+IpmNp3O5ZexDeQHIvWID7PvZAHPZfeijVSAJDe93Rpu21ZBxpiXJfbUla898xMgI7tic1m5TcG2+n6S6vtJqtVxpKieF881UewLEN7GHtFW8kJCPe+UhOqghOwq/rRXzpoCA3589PQ288beIt7S9JFQpyepro8D53L57tokbk1tJs3ownKlQDpQ1NTy8hEVx2v1JGp7OKVQcPveUl6tcYfE22ujqn2ARK2eRHkZvztUzO+Se0jU6khpG6ZxQlDcTrSFKm49XMEh1Xhbt05PorKSB4+U8HZ5H3X6btaezeeXO9Vk6kap6ung2S1yPm4xUT9m4N1deTxX0E7uiA+3R8+2hFJeSK7nslYf+l60PezKruLhM1rOjTLZ2Rnw01+l4JGEFjYq+0is6+NCqpJ79xTxToUZr8+NvrWed0/K+E5MJ7I+F8FAAFufniMn01h5tontzXbMHsA7yP7MSl6+1Dj5GbS97M+v5dnYZlQABPENd/DnM5XsLOycPK6kmtWbLvK3O4t5s9FCy3TJ8XloKyjg5jPtlI1E7tWwtbTy0ckintZ8dStHF16ApAD+Fg33H87jpjNtnEiq4JXD2azYmsuKTRn8/GIbF67MG3LR26rhjl25rNiWw4qdcm7alcf1O3JYsSWLu3KMqNzAmJ6Y5AJu2Czjxu1FPJGrRzdm50K8nB/tkHHjrgKerXROLua6gpWMbAWPn64lK4LfSH43yoRcfpGkQyXmaiw7rmYb7BaFhkf3ZIbK644cVqyX83hON63jfx8dGWDdsTxu2C7jxt0FPFvpwGju5fMLhdy4WcYNu8rZVjc83ji0UqGu4GdbZKzYIuPHx0p4ubqTlw4W8bMdSk6pKnnobAE3bsnhht0VHO/sQa6t4efri3mjvBP1QBMPbszlV6fqyAcgSEl6Kb/Zmc2KbeP521DEh7XmyQ08TAYuxOeyYlsu1++Uc+POXFZsk7Fip5zbMgx0XGkr+ShTavnj9ixWbM9hxVY5D8Qo+CBNwU27irgnsx/3lDhl5MClEn68QcaKrdmsOFTDkZapDS/vqI3YczncsD2HFdtzWbE1hxXbyzlmcMzS2wujuj52nM3jEZU7YmPHW6fi16fU7JgRUb965iVAfhOX5WX8cKOMFTvyuH6XnJt25bJiazY/3FfMX+r82AJATwNPH88bLwMqDnXYGejp5cPDmdywOYsfn9Kwux+w2ahKzeGPSTXcuiefG7bmhH63zXmsqRyaOoLmGqYkv4Trt8pYsSWXW46W8bm6lvsPFXDDIS25w2EVzHAP+y7n88NNOazYlMFPztZx+AvbLyb2Hi/ghbxe6iP8YD6zgTMxMm4vsGIV05cWnXntAif58TbXcM/B8XtzR6g83hDXTvrg9J1XR5Gn5IfK2PYcVmzN4frdFZwZcU/rTPSj0Tby2M4sVmyVsWJbIQ9l9HzhhkKtpQoeiqvjoC5CAXFaqciW8914HQPTd4MVRD3zEyArmWVV3Lohmx/uyA2Vxy1Z3HS0gs87ifDMGjOnUxX89PPsUB20v4qttWHTAnxOdFUqVu4KldcVO/O4/nwtH50t4e7tuTyqNNEUflGzkcuX8vjh1hxWbJax8kgF+4zByXpotJP3YwtYsVHGip153LgrL1Sfbspg5Zla9ofPAQv46ChScOtu2Xi9l8OKjSV81molwAjJuaVcv0nGjRvzeTi9BZllgPcOyvntiRoSrGb2XSrhZ1vlvNIwFhqNH+5ma7ycFZvG79NNmayM0XJgxlxxCRhgZ1wxP9ooC9X1hzWc6RivL+1mcnOLuH6LjJt2FXNfjgGv20NnsZLb9uRw47Ycfpaoo3J8XqzU3cXW0zJWbBl/382Z3Hy8kk3dU9/VpKpi9f6JzypjxX41f46v5M/H0rn5bAMnZhQBP87BZlbtK+Vgu52ZO9y7kZdU8sCRSuK/wgcBLc4UOEnCH5TGdzySCAaD+AKh5JemHyrhH/+bLygRDEr4x4/3X1kEF3o9MJ4mXg8GJQLS+OtS5F1nAl2tfBhTzEMF1qkPWJKCOIZ7efVgIW/X2dCLWLvsuLrnAEkEwsqrLyDN2LkrEJTwh5c7abJsTrwWTmB6eb5yf4T+O3FecHzhTWC8XAPj94M0WRlIk/fHRP6mZm/8fgtOXDvs3gvO7JGdvDdDeQh/z5lfzdR7NfLXJ4Xl7QuOu5IBG2XlKn57sJoiuzS10vO7uXyxgMfSe5HPvjHZV8b8psCFYtbEd+APhv07EFZGpMm/BcZj5vTyFASw26hIL+BpjZ/hIGG/hTTLw+0kAmG/e+itppWlK1mY/F39cxi0sVZX8sfjVWxomNYYDnppaWrg0QMK9hiCYge4r4CreQ7Q1Pg2s06+wjzu5Slx5MvqUmcv78cU8kxW77ROywDmPj3rjsp5rc6HVUx/W3JczXOAgsGwemWWeuoK0+qgmcdNu5YU9h5ShOOnxL7pfw2rP6/E47B/z7zYrHVzMDhZ1098vok4Hwz7//B2rDTt/otYJ4cdO/m9TM1TMKyOmV4XhOcn/FrT3zfS9zwljky096e0/aed4fMhT8zhzmQdhZapN7fHqmNXYhEPpPbO6cG0C8XirQGKFiQr6UVVrIlroTr8db8bS10VD2QNoLV+0eI1wVJFPAh1aWDVD7Ivtoi3moJTp7Fa2liT0EBCmyMqngdyzR6EGgxi7RvgwnkZdxeMoh52M3otv5CggZ1xSt4p7J/6AFXHEOVllTxYMDpzDr1gUbjmD0K9KiTqS9S8mtQ0dWfH4BjaRi2rE7sZDl/nIFgyLOaDUAVLHQn/YAMPn6omtmtqzOrRtLI9XcNZ61d71y9/AULC6/NhdU57JoUkEfR6GfEK+VmuCAFaIgQl3C4PFt+0Rk/Qx4g7MK1H69pxrQTIOTzK8ZMZfOvTZP7nJxl8e0s+b7Y4ruGaKAmXy4vN458yR59gAK/Hi0Us3PjKWJoCFOoNtrl92KeIfBCvz8uwWDu2ZBECJPhiAow6vTinTTXwe/3YPf65bUm+gHwNBEjwdUUIkGAhuVYCFPQHGBq20Wwao81opdEwht4dRCyxESxVARIsT4QACZYSQoAEyxYhQIKF5JpNgRMIZkEIkCCaEAIkWEoIARIsW4QACRYSIUCCaEMIkCCaEAIkWEoIARIsW4QACRYSIUCCaEMIkCCaEAIkWEoIARIsW4QACRYSIUCCaEMIkCCaEAIkWEoIARIsW4QACRYSIUCCaEMIkCCaEAIkWEoIARIsW4QACRYSIUCCaEMIkCCaEAIkWEoIARIsW4QACRYSIUCCaEMIkCCaEAIkWErMS4BsNttXkimBYCEwGo1YLJZrnQ3BMsHhcAgBEkQVer0ep9N5rbMhEABgs9kYHBy81tkQCOaEzWabmwAZDAYMBgN2u10kkZZE0uv1osyKtGDJbDaj0+mueT5EEmki6XQ6hoaGrnk+RBLJbrdjMpno6+u75vkQSaS5JIPBEFHYZwiQ0Wiku7sbvV4vkkhLIvX09NDb23vN8yHS8kg6nU7EQJGiKnV3d6PT6a55PkQSSa8XMVKkpZW6u7sxGAxfLkBiDZBgqSHWAAkWErEGSBBt6PViDZAgehBrgARLCbEJgmDZIgRIsJAIARJEG0KABNGEECDBUkIIkGDZIgRIsJAIARJEG0KABNGEECDBUkIIkGDZIgRIsJAIARJEG0KABNGEECDBUkIIkGDZIgRIsJAIARJEG0KABNGEECDBUkIIkGDZIgRIsJAIARJEG0KABNGEECDBUkIIkGDZIgRIsJAIARJEG0KABNGEECDBUkIIkGDZIgRIsJAIARJEG0KABNGEECDBUkIIkGDZIgRIsJAIARJEG0KABNGEECDBUkIIkGDZIgRIsJAIARJEG0KABNGEECDBUkIIkGDZIgRIsJAIARJEG0KABNGEECDBUkIIkGDZIgRIsJAIARJEG0KABNGEECDBUkIIkGDZIgRIsJBcrQB57U7qO42Um/1Ii5AvwdcXIUCCaEIIkGApsQgCJCG5rSjbjci7xxj2BBcin/PATZvOSGZtP1mNJrQjblxzPXNklHqjkwFv2IuSB8OoFe2QbzEyK1hElowA+R009hpIre0nu2WIRouHud01PvoGLLQMuXBMuZ6H4eFRNFbR3F5IrlaATM0dPLMxmR9nWef4uy4wQYkRwxAaSwBXeAb8dupNdvT2a5IrwQKwrAVIgsCohaoBJ0Oe8D8EMQ6N0TnkxDvbuYJrwpIVIH8As2EI7WgQT3i16RtDa7RjdIoYuRxZBAEKEDA189zBdP7rZjUpvXPVj4XCxPHkUn68PoNvrE3n3sxOmud0nofUS/k8ktyJzBr2csBCdrma+863M+BF9OAuIZaMADl17Ewo5D/Wp/EPH+Xwpywdc2rSuHp483AxLxcM0Bf+un2IoqJybk0ZpN8vyuxCcbUCNKrrZ3tcGS9X2P86AZKC+J0OOqw+XIE5n4Rz2MSWwzKeUzsZ9If9ydHD25cq+bjEjGXO1xNEE8tagIJOSi/lcVtSDwpLeBTzUlqs5c1LWpLtouBGE4spQD67nb4xL9YF/8mDWAf7+eywjJdrvVNj4VgXL52vZKtqBKtwoGXH4kyBk4L4B2u540wtCR3uvzqT80MiEAzi9Tu5kFzF2xmtaOdwlnegjtVHlWzUWPBP+YvEcHcvm07IeVzjR4TbpcOSEaArZdbEwaxKXkvs5svvtADd+WXcF1vH8d7ANMkJ0tvRxiv7C3ivJ4BnlisI5se1XwPkwV6j5NZ0I23OuZ0hBZw0qJX87EgdpVbftHIi0VCg5E9xWvbqRe2+FFm2AiQFsA038adtpezpGmP6YHZwqIuNF4u5I30QMTcjelhMARotLeNleT+yBS7ukt9GeXkZPzvWiMY1vS6V0MhKWB3fxCmD6EpcbizeGqChBu6JqyezzYbN4aJ3xEHviBODKzBNMAAk7GNO+iwOei1OekdcjMw8CJBwO5yhYywOekddmGYdA/eSklHN+5mt1H5pZgPIE/JYndZLTqRpQw4zWdmFrDjfg020E5YMVyNAXreHwSvl0IFuzEv4DCEpGGRszIne6mLA6kQ35sNmd2GwuhiwutCPurF4Qpoc9Pux2JzoJsqrxcWA64sK0Agn86p4M2kOAhTQ8c7BQt4sG6AvQpGVRkxcjs/jFxlDjEa8lwTzZd4C5PczanOgs7gYdPiw+yP8UD4PRquLAYcPm8ONadRB74iDvjEfk53bEoGAF6N5mOqCIm6+0EV270QZdWJ0B2aZCiRhM5nYfyKHx6s8DEcqev1NPHumjDWlw9dmep7gr+JqBMjlcKG3TJafIa803uiT8Hq9GCxOjC4fzqCfodGJ2OWkzzGz+8/v9WIMj5dWz5R4I0kBRsdc9Fvd2NxejLaJtoCbUd/sJU5yO1Gl5fHzSzrUtkgNTyvJeeWsPlZLiSi4UcPVCJDX62VwxHGlTdc/5sPp8U123AW8mKxOqjIKeDC5g6M9423AYSdGp29SgKUgPrcLncXJgN2HDwmX002/JRRT+x1+Zla/EiN6PduO5/KM1ocjUlHrrWP1KSVvVY6KGLnMWCQBksDUwD2xdaTIKvngbA7Xrcvkuk/TueVSE4m24JWRFEkKYjbree9QLt/fkMl1G7O47vNs/qQw0eiXJm08GMTV28uBU5lctyGL6zZk8K/b8rkj04TeFanUuklIU/PeXARI6mPt7gLeV5uJfOs60TRWc892FameoBgFWiLMV4CkwBjn05TcsimD72+R8f2NGXzvUA2f17mYWMrmGbUReyab/7UuhW9szOU7Ma0cu1DM6l1p/OMn6XxzYykbtUMAjHTqWHcwlf+1Rcb3t2Tz/a1yfnqpC70jQDBiZ9IQx3KqWDsXAWpX84tjlexvdkT+e3CMmiol/3moFrVzeq+W4GqYrwBJul72nMrkuk9T+ZcdpTylmN5QlaCjlkcOZPDNfQoePVLMfdsyuO6zNP5lXxUfa134JAAfBnMLT2zJ5FsfJvFfP0znmxuyQrHys/FYGbFm9tDWVcdDWxWctQci95RLJvbGl/D4pXYaRCFZcsxHgCSC2O0mtpzOZ8XnGaHysy6TP8j7UHokggRobGzmgXWp3BxTxluaeu7blM13N2Ry3SYZ3znVhHrIS2C8nEgBF7nF1dyxKT0ULzdl8L29Sl5S2nCPV5Ie9xDbT8v593VZPH2+mFsO5HLd5xlc92EuzxT30R6IXOjsY4N8uj+XP9eO0R/xEAmdppG1J0p4v1MU3GhhvgIU8FvIKFXx808zQ3XkjkJ+vLeSDy9XkRkYb/+ZmnnmSA7/8m4C//3jdP5hQzbXbcriuo9y+FNON60TF/Pa6VCU8p3PM/n21jIODejZGF/MTevTue6zNH6VMUDp2PQcuNA2aVi9o5zLHimy4AQH2RhTxLPp3bSJorasWDwBMjewanc63/wgj49UfdT1j1LXr2NfejF3narnkh3AR/9gA4/vlnN/zhAl+lHqBkapG2jh5aP5PJE/iHa8RBqb23lhXy73JneOHzOKuq2fz4/n8YcsAz0zpoTMVYAkGKrnnn1l7G6czfCDdHc388S2XJ5rCETuJRBEHfMVIFV2CQ9dbuVg0wjqPgtq3QgZ+RoeOljK69UuJEAKBBjSDXDuXBa/zTSQNejGPDJGR3kpt56q5l3VKAPOUBeoVW+moLyJtD4L6r4R1K16jsflc7/MRE/EpXFzFyBjUTG/PtNIrG42HXfT3lPNHRsK+KzXxyyaJJgH8x4B8nowmEepa25lb2Ixv8m1MaO953bS2VHDHVsS+caRZo63jVLXb+ZUZgWPnNESbweQ8PnddPUZKMot5Edx7VxuG4+V/VY67b7IG71IY6hrlPx0v4ZKz+zlJC2zmNuPajhsmvtHE0QHcxegANaxdl45kMvvUgbI6p0oPx28fyafVSndlPgkXC4XalUTj3wax/+zt5S36q3UDoxS1zdEYkIBPz3TSJk5pNKNJZU8c17DOu1kvMyvaOHPB/J5rMSKRwIp6MdgtLD3cBr/+FkeH1QPht63uoZHY8t5oypSpPMzZGnh0c3F7B1wMqPNOk6wq5P3j+Tw6yxRcKOF+QpQR2UDnyRVsqFlJFRHdvZy8lw2/7xNQZwnEOps9rnoNlnJT8lnVUIre1qtoTKkt9Jp9XBlkYUUwG0fQ9XexsPrE/n7DenckjFIVs8odf2jtIz6GJseBoMWCpUKfn6ojsbIvZKAk4uJ+dx6soEzw/P+SgRRzCKOANVz795CXs7vxxjW9ega7WJjSjlPFFrAM0qrWskq+TDaKS20AIYODX+M03K8xQXYuKis49WLnbTapSnv09/dxgsHK4gzT9sJa84CFITGCn60u4StzdZZjpHo7W7lyR0yHq4KMCYEaEkwPwEa5NP9afzf72bwvd0F/HR/KN20MYW/fT2Fnyb0YLlybBCLsYGnzraiHfMDPjKTVXxWNUBbuEEPDBAbJ+OmPfmh6+2S8e/rUvnX+MEIwg7zEaCyJDk/OdFIfOTuUcBDp66Gu9fn8UaHD9scvwXB7Fz1GiCXkYICBXfIIwgQgL2Vx8+U81mF9YrI9FU38cE5JfumFAQvTo2C36Yb6ZjL3jJuC4qcfP71UC017tkmb3jJlhXzq0PVbNf2n25NAAAgAElEQVTP50MJooE5C5DXiamunAdlBvKnhMQgI/oGnolX85k6FCXGunv55GA2q8rGMIcfOmph3+lyYvus2BnlZJyMv1+bwrd2TcbLlVsz+Lu1Cfzz8Ra6whqUefH5PJHfR83E9DhPF28lqHgpfyhCZj0YOqr4+efF7DM5Z9/FtaeT9w9n85/JouBGC/MVINdwD3sS87hu63gduSOTH27P5b5SJ2ZJmjJzYay0lJfzB8j5kt48n9PIp/sL+UDTT9WX3RpOM9npeXznWAOts4xGgpuklHxuOVbHIeOcP5pgCbCoAnT3mTqy+qYvwTaRUanh+Tw7OIZoUZbzbCsz1wV52nksTs2uSjswzEFlAxtyZzZm3e4hNu4r4oDRPq3R6CYxTc37ma3UfVleezX8Zl8Zu5u+XIAeUQewCwFaEsxdgCSgk+cOlfF+djtZTQOkNPST0tBPWrOBgs4RGodcYessJAJeKxkXCnirxo6xq5mnzzdwqss9OT3SNsiFHBV/jG8krb6flIYBUrVdxKUX8tMUA50RC9EQx8cFaLaSOEFLdiG/imni/KyL1ycFaG2nEKCF4KoFyDpAVl5IgCL+WiNNPHihlvPNk7V1b3Urmy6pOBReEHxOTJVl/Cpl4P9n7z2j27oORN2s9d5a9625d+5a79777p3MJJNMlGRSNLZTxyUuSRw3xZbluMV23Htco0iyY1uWRElW740Ui3oXewU7CXYSIAkWsJMACIAEid7b936AXaAiKlQI0Ptba/8QtHnOPufss/f+djs0hV0XMQOfmeryUm4+2EiDa7YRoJAA3XOwnu3iG69RxzULkMvKUFU5LzYHGJ6ZCf19rEyu5sP8kIwMtvay9VQ5u8JU99KzxXzcOEwfemJOlfP62VYy2ybLy9RWLZKuUWQ6O+N9PEGvj4zTRXzUbKRz/EDOXj5KrWNVcbgudS9DuiYejinlgN4x++j1uACliIwbKcx9DVAAk3GUnKZQ/klp7uVweRUr4ho5qvUzdQstbVEpr+WqSL1qMzSIcXSQTw9KOee4hsWv3hEkBSX86BoF6JAQoEXFjdsEwdzCE/uy+cnpARqmlGD9rQpWnq5mqyYIfhttnQ08frrvinm+A9IqXs9qJ3kk1MMulTbzyUUFpdNi+XEoZTx4soNSo2/GHHc/2VkNrM3touevpdXTyfM7S9jYNDLLcLuH1q4mntpSyi5DQHx7IEqY2wiQg8KUUl7JUaOc1lb00NrewRclg9MFOxDArpXzRFIDf9yVz8pGPS1TSutAp4IP4gp5tHpKrgyq2Hgohx9fGmY4bNls4kRBPR+lDfzVNTuehkpuT5QR1zXbHm8OWlpruGtHFclGX5iNRwRz5boFyDVEcVEly4pn2brNruSZs42cUU7+v7axk22Xakic2v3ttaOvLOGOND3d44/d2Mf6U1Wslg9P760HwEGzso4HttWQ4/bNMr3XzPFLpTx+vIW8v/eGnYK/mWsWoIALvbqRx0900uiYXroMN8j4MK2RWG2oZjN09vP+jnTuy9EwLcda+3g1oYZjShtW3MjzK3njkpL8aZVmEPNgN+vzBlBNaVAWnCviY4WJ/vEfvP18llHPX6Th2hRBTJZ+/rijgE+77GHydQhzq5I1cYX8oU5k3EhhbgJkIbu8nXjZ9DraY+jmtc0Sto9On9qrkRTzimSQvPEfDYPEXqrgnRLttHab3zHEhkPXKEBYqWqs4YGddZQEArPUu6McPlXEU+eVlIotVRcV8y9AQT/+nlbeTcrgHz+TcOsXhTx3tJTl8VKWxxZyZ2w1fywboisAEMBs03HhjIR748tCcRKkLI8v5/b99RxR2hgfIHcOazmWU8xt+8pCcRLKWR5byqNHyviiy4F9LK+31Sh4/3gJy+NLuXldKv+yPos7E8pZHl/DmrLBKdOYpmInPi6PFwu11IWzG4+R0vJyfnqkhb4Zw7KCyGXOu8DptWw7Vc6D+4tDeTFRyvID+TyQVMnmltEwPZEWdu5P5b+sLuKY2jFtc4ygcYTzOVXcvb14Ik8/djSbOzcn85XPC/l1ygD9dj/goVjaxKvxpSxPKOR7G1L5p7W5PBhfxvJj9aypmmXSsaWdJ/aWsq5+JPw3g2yjFGQV8fPTA+jC7T4mmDNzEiD/CLmVDTx6pJzlRyT8OCaZ/yemmEeOlvHoyTo2Kv2h3QU1nfzlZCb/uDqF7++q5cyAgyHNIBv2pfKN1RdZeraNpPHyOeDDOtjBM/uL+c2hsfJyXz7PnW/k/IA1TOeNH726nzW7JKzuDYQfubb08OHxUl7IHby2b08JIoprXwMUxOUbJfdyIcuOlrL86Fj5drSM2/bWsLnBOLEB0FCXio07L/Gf+/K5O3G8Ti7j4QMSnqvWoxnfSmt0mOPJVTy0p3CyvDxcxINxJfxZPowhEMTnMXEqrYpbPzrHV7fk84dqC2rzCMn5hfzzmkt8daOUzXXDV0xz89rNXDyWw32SYZRh/cZFWVkdLx2p5bRY4BgxzE2A9Ow6mcX/ejeV2xPH8k9cKffHV/Bi7jC9wcC0ThuHtoX3j5Vy254ylseX8ci+En53TMZJpRkXQUZH9Ow+W86DByV87c+X+cHhUpYlSFl+tJJ1reawu6WCH1V3Fx/uLuAzNWObzszA1MEr8aW8U6znGr8+IIgSboAABfAP9rGzoJWN1SPIm3o5VSBnVVoTq1JkxNQO0eiZEV/by4bsplCc9CZWpTeyTmZCPa3g86HVa9ibIp+IsypdwfpK/bTpQn2t3ezKkrEqrZlP81pZn9fCx+mNrEpr5YDcMOtUIH1jBQ8kNBLbc+WMY49ukKMncrm9yDrL7l2CSOR6tsG29KmIzZGF8mJGE6sut3C0zRi+cRgAVXsP+xr09Nmu7F83jxo4k9cYyq9pzcTkd5Kn7GN7YSsflevQOQOAl4amLjanyViVrmBtXivrJS2sSZOzKqudA4rZJsPZyTtbxFPJneSGeS1N6gE2HcjhabmLsJskCubM3ATITFWzktXJjazKVPBpXhub8ppZnSZndU4biQP+0JaswyoOF7USk9PC2twu8nQujMPDXChqYl1WMxtK+sic0gUewE11bTvrMsbKwbx+5GHy3kQyHFYKcwu4/ayKLs+V8Yz1NTyZVM3qdtG1GY3MeRvsERW7JM2T5VuanE+qDbROOYSmfYBDx/JZU9PNRxljdXJaE2tyepF5pveSe/RDnM+fUl4mK9hZo2d8WwK/10ZueSvrc1tYn9XMnlY7QzYzJTIl6zMVrM9RcrzdeOW3yvxedO3V3LO7gUt695U7GLo17Esu5p4TPYRbRSRYGOYmQE7aevvZndnMxxlj+SdVzidFPWSHbWo6qWnsZEOynFVpclZL+sgfmthPGIt5lLOSJtZkKFhX0MZnmc2sTm9iVZqC+F4b+lnqQa91lNTMfH5xQYs2TAPPUCll2fEGNneLL04tNm7cFLhow2fgi7hcnknvo2Gq5gdsVNTKeTy2jswRxD7wUUT0fAj1OtE08/TeUt4pG5neCHCZkVZUc09CK0V2xLbt88TCfwj1evAxqu7ihe25fNLqnP6Vc/cwO86W8frMMk8QNdyID6HaetQcOFdB/IJWdkH8AQOxB7JYnqemcdrwpY/WukbeOV7J510i40YSN/JDqDcOD5rudn6/PY+NXd5p3/3DqWfDiVLezdWgEDMtFx1CgKagVSg5XKencmp94rdQ29nDXrlYRh5tLHoBwkpumZKTCgPT1mY6TbS2dLGrQ/RYzSfRKUAQcHuQVTazr8ONYaoAObXE16nIHxCjP9HK/ApQAK1Wx96TJdwZk8ZdF1vZWaGhLbBA074DYGlvZ3PFEIppm354kTUPcEmmm3V9kGBhiE4BAr/dSXVFMwe7fdM/dm/XcLBGTYVWrPxejAgBEixaFr8ACf6eRKsACRYv8ytAfrq6ulmVWMIjiRU8cqCUJ8+1UeYT614F10a0CpDgy4kQIMGiRQiQYD4RAiSING7EFDiB4HoRAiSIJoQACRYtQoAE84kQIEGkIQRIEEkIARJEE0KABIsWIUCC+UQIkCDSEAIkiCSEAAmiCSFAgkWLECDBfCIESBBpCAESRBJCgATRhBAgwaJFCJBgPhECJIg0hAAJIgkhQIJoQgiQYNEiBEgwnwgBEkQaQoAEkYQQIEE0IQRIsGgRAiSYT4QACSINIUCCSEIIkCCaEAIkWLQIARLMJ0KABJGGECBBJCEESBBNzEmAzGbz3yVRAsF8oNfrMRqNC50MwSLBZrMJARJEFGq1GrvdvtDJEAgAsFgsQoAEUcNswn6FAOl0Ovr7+9HpdCKIEBWhv78flUq14OkQYXEEtVpNX1/fgqdDBBHGQ19fH2q1esHTIYIIOp0OlUolykgRoiaMO801CZBGo8FoNIogQlQElUrF4ODggqdDhMURxgvMhU6HCCKMh/7+/omRbhFEWOig1WoZGBhY8HSIIMK1BI1Gg1ar/esCpNVqsVgscxhcEggWFjEFTjCf2O12Mb1DEFGo1WocDsdCJ0MgAELrJMM1KAWCSGS2KZtiEwRB1KPTiU0QBPOH2ARBEGmITRAEkYTYBEEQTYhd4ASLFiFAgvlECJAg0hACJIgkhAAJogkhQIJFixAgwXwiBEgQaQgBEkQSQoAE0YQQIMGiRQiQYD4RAiSINIQACSIJIUCCaEIIkGDRIgRIMJ8IARJEGkKABJGEECBBNCEESLBoEQIkmE+EAAkiDSFAgkhCCJAgmhACJFi0CAESzCdCgASRhhAgQSQhBEgQTQgBEixahAAJ5hMhQIJIQwiQIJIQAiSIJoQACRYtQoAE84kQIEGkIQRIEEkIARJEE0KABIsWIUCC+UQIkCDSEAIkiCSEAAmiCSFAC4ad1JwaPijSU2Nf6LQsToQACeaT6xUgs0bHwcs1fNTgIPA3pyKAe6iTlScbSNDYEU3fLzdCgASRhBAgQTRxAwQogN/QxarTFSw/303diHc+0jnPeDGqWnk5vpyHzyqptS5EGo1s2nuJJfHdXDIuwOmxU1DZyp5SFd1Tf3bbGFC08heZHYd/IdI1fyx+ATJzWaLgsGyIaa+wY5RGeRufK9wLlbBFyfUKkL61g+fWX+KWDNM8CJAfR08l3/tTOm+1GlnMuftG4zaaySloYHtXAEdwyn9Y+thQ0k/lYOS/PxElQEErcnk998fW8J50GF9w9qj6lg72lfSSOjUDB+209yj5uMzAPLwoggUgWgXIa7VTVFjPFqUP09S8Zxtga1kvBQOuBUub4MZxAwQoSMCq40xOAV/dUce5Lsd8pHOe8WMfUbE3t5TvbpCSPOjgKmX1DcJDa4eKjB4bKs/fdiSvRk12wwDpI3P4I42Sd2OLeSp7iKGpv/tc9LTIuP9QPSf0PiLx6V0ri12AAr1yHt9XzgeVJqY5tNtKVXUtv4lrIsMCvoVK4CLjegXIZbZSpVCRM+iZh3ImiN9mIFOmoc7s4W8sOq7xlH68A93sahih3fr3LylvDE7amxtZvqOYQ4MBPFMvy2lg47Fi3pVoaXQuWAKviYgSIFz097bw/NE8vp/Ug8s/S14JGNh3qoDHz7VTNXX2Q9BNT4eS5w+Wc6QvgH2xZLUvEdEpQG4GOlt4bHsBu/u80ztDXCPsPFXCm1kqaiO8LBDMnRs3Bc7SyopTTVzs/rtU0ddHsJc3D9cjGYrEUao50N7EFxfrWae71j9wUJxWxnOnmzkfxg9cFgPxsVk8VGpGE8W3ZnELkIXUk4U8k9ZFkTXM/w6q2HYoh9/VOXGI3tR54Uu9Bqi5nNsvqqiyLHRC5gf3qI6kS/ncmzFCmNeH0YoyfnWskb09EVx/EWkCBOCkuamW+8704ZplCGhYUctTSbXEtF7ZvRawmJBcyGZp+jAGtzCgaCMaBchjHuFiqoS7U4YYClyZ58w1lSw7Vs+GjsguCwRz5wYJUBCGmll2uhVp0wCSmhZWJstZebmRXU0jqKbEs9uMXJA0sSqng7hOF4wMklTcHIqf0UmuZnx0xs/QkJrdyXJWpjWyMlXGmrxOLs8c9XCNkFbdypoUOSvTG1l5uZGdjQZ6rkijD4ujk5cO1HK8rI348lY+S29iZUYHWRonYKdBoeSj9C5S2/Vo+rtYnd7IyhQ5f85q43Q42fCbKa9r4c/JofStzO7gWM/0odOgP0BLQxsb0mWsylRwoN2GesZ75RgxkVogY0NZNxfa1GzPbGJlqpw/Z3WQZQwwMTHDO4qkrpUPjki4c6eE2081TlzzhpIBWoLB8D3O1m7eOFrCmwXasJU/HgftpSX8JKEDuSV658HNXYCCKFt72JomC+WxFBmrS9SUThle8TmcSKXNfJzdxubiARqcPoLeUbLrOtmcIefjskGqRsaMI+ikX6lkVUpj6HjJTXxWoKIz3Kl9JopqFaG8kyLn49IO9it0FDYbMIeLb2rl0X1lxMhGCdsx5TBSnFvMz072MegVDYn5YK4CFBwxkFsqZ2VKI38p7CN5YPYK1NI7QGxOAytTG1mZouBQeSc5A6OUTeS9AA6njsScZv6c3MRnkl7KLTNHgAL0D6jZk9HMgapespq7WJ3WyMqUJj4tDJfvXDS2dbPhkoyVaXJWZneys1xDXa+e/rHjuVxDHMuR82FsFt/YWcYT5ybLmN0to3RPyHUQ46iB05KmUF5Pk/PnTAW72l3TpkJpO/vZny1nj0zFmfpe1qWG6oWYSg2N4UTdpuNYcTMrkxtZmSpnbU0vcXIdNV3miXzv81jJKGxi1dh5V6Y3sbnZfpURBB/K5lbe3FPC9tlGzU1KnjtSzpqKYSJ5iebcBchLbW0ba9PG6tHkZhL6HNPLGIuFqoomVqe3E9tqwMYolwsUrE6WszJNQdKAk/Hb5tMPcVYylm8vtxJb18Gl1noeODubANk4c6KQ59N6KAo3w9Bvp6elmp/ullHt8ImZcFHG3AXIS+9AP9svj5VBme3ElA5SqRykGwgQZKStg62SFvZ3OBjyA4FRCupbWX2piT2KUQa8HlS9XazNamdbZS/HChr5JLedU4NOimo62Jgm45NyHcqwbRkffV0dvLOzkI06wk/btHTxRnwpfyzUhW8vCaKWGyhACh6NLePNfRJeOlnCijgpK2Lz+VWilD/VjAtJEItlmIPnSnloazL/dWslKxMKeOJ4KSviyllxvIkzvVaCgF6n4nBOBcsTa3ntfD2vna3h+bMV/D6tj6yhKXO4HUo2XKxmRWwdr12o47VTZTxxvo4Y+SjTncWHxdXFq4fquHA+k3/99AJf21rIimONnOy1AxZKq6u4bVMm3/ksmzdP5POrpApWHC3n4YRCfnVCyUm1F/P4eUeGuJxTzlNHC1geJ2VFQhkrDpXwUGI9p3onm6hBv5/aknpeSSrj/vUXuOn8ABkzbqtNbyDhRC4//vQ8/7y9gDuTKlkRX87y/dn8KqOPyvE1S54hzhfV8ci2TH64KYvvH6xgRZKUFbEVvJLWSc0sAuRvqWNFUg1/aZxtgpuHYY2c32wtYX+fI2qnwc1VgAz93ay9UMtTx6tDeexMNU8n1fFmZj8lhtCd9NrsZKWW8vM/HeMrr+ewzeKDoJInPj/BV/6Yzi0X+8jTBwAnys52Np4p4dkzdbx2vo7XzlTz8rEyPqzU0OqZUrmPDHE5O5R3Ho2TsuKolEcSCvnmujRu2SWjI0xa3XUV3JEkJ37WEVYHre213L2tgrMjPqJ4IC9imLMA6bScSZOyYn8OP9mWx125lvAdEiM69l2u4feJVbx2ro7XzlbxSmwKtx6p5o328Uh+rDYVm09XsvxIAf+2KpdPe0wz1gD56ejs5o+7svjumgv8aF8Bv06UsiK2lEd25fOy3IDePdmk1HS1s/aSlOXHanjtfC2vna3h4c3Z/OZoJekABHA41Gw5U8GjO9L435vy+cUR6VgZI+XPNXpaJtoUQTr7+/kgLj+U18/X8srZWp440czpHjcjY/Mw+5s6WLXrMl//NJlv7S/jgfhyVsQW8OsjxbxUY8QUnDgcTo2apItFLIsvYcVRKSvipTx0NI//sTqdFWe7sAA+m4OKGhnPJtbx8rnQeV87V8djx+TsbjSjDts7YCavspIH9smpn/XpjbIvqYAnk7spj+Dp/9cuQEE8fhO50gYeOyjlobhyViRIWREn4ZfH69mmtKAfj2ocJS+nlHv3ZPLVz3N4NbOEe49U8Nu4clYkVLOl04YesGm07D8nZdm+otCxjpTyzNEs7jhZzO3n+vGEmwLn6+Xdw8WsLNHOsn7Nj87QwSub8/lLj2v6egxBxDNXATKo+tibXs4jiWNl0Plantwl4c4dhSR5A/gJoquT89zm83w/WU+ZHfAPcbGkjl99ksJPEuWct7noapOzbE86/3VVOrfsLePhpDzuOF7PAweqeSy+iKVfSNmrGA0jMFYq5NXct6seaXC2zGYi7nQhj59tp0BMg1tU3DgBGlbw2LY0vrmtlksTi0k9NDbW8rtDlXzaObVZ7cNbX8KSL/L4eUIbtfYZGTFoIyWzmJtj8nmhWs2FxlCIL6nh1jVn+fp5PT3O8cJWS0ZVLwfzB8bitfN+XB73HJJTNu2gfqzOTl7aWcQHhzP44fE2Ug0zV0s4qW2o4LsfZPFooXZKb6uFk6kF3Jeqo8USAPy0FFXzxIFydiinVEYOE+mpZdxzvIVmZ/CK3ixHeTlv5w5wOVxNYB7hUkI6SxM7qBv/zdrCb3dLSey0Tm9IdbSwO03OlmucAqcqlrIsrp6tHbON7vgYNbfy1IZsnm+wEa2TfuYmQA5OJKTzg311/LliMo8dvFDCD1cnc1vGMJPtoADq6npeP1bOh1U9nKuo4anEEp6vMNE9fkstA2w5lsm3tlcR1zh+vB4Opebw395J5YUWG6MBAB/NOeXct6+MbV1T+ppHRjh6voK3CtWTDZMptGQWcldiK2fUs3Vzu+keaGDZegnvd3lZJDOXFpTrngLnHqKkSMp9+RbCLotQKXjhVB1vZfeF8om8jfdPSrj1kIKMsNnXzM5YKXt7jdPX741h6+7j/R3pPCgZL7N8WJukfPtIC42jkyrcVlbNWxdrWVWjCp23rJ63DuVya0qY0aKWKh5IU1NzlYw0YrSSUljPhcbQ8c7WdPHOzhTuzjOimNpwaGvite05LC8ZIlSjOKiXVfHLfY20jb0/Aa+DvDN53JYgI9M4WU45evr4/GQlaxsM+PGj7e7gpZgUfnJpgFPysfdM1s+ftl/g/95QTXxfmA4C9xAXMgv5aUIbA7NejZPT5/O4PaGNpOHZr3mhuWYBCngwqOt5eJ+UD+TeKaNaNrLySnjgeDOJuqn3yo9W18i9a9K5M76BxCs26nGSll7Bk8dbSJ24P266W2v52Rc5/OhsP+5w1Yuumd8dLGZl5fCs6+FGDf28tzuDZSVONGIBY1QxVwHqlzXz8dkyXqscK4OqFaxPyOYHJ3qo8gUm8oihsJhXC/QUTCl/dPWtxFys5agNwMeAqoFlm0rZqgGPb4B3Nmfy+2o7JnycP1XB+hr1lTOBPCPkSYq5OVaBcrY1a7i4nFLAHUeaOBiuMhZELTd2ClxsHed6Z44fDHFBWstTyVNa614HQzXl3JOmJ+yeCe4Bdl3O4/98JuHe/YXcuncy3BNbyZPZKnTOkIhotJ2sPlHMT7bkheLsL+Tmz3O476SCymkHDeBwdPCHLzL43uZUfnq2l5Qh/4wpJRYyymt4Pr4F5YzrC9DHqwlNVPSHpsvtTm7iTNOVzRG7Zpj4Y/msUgeY2ZGoKyrl9ZwBksM0cgJaDcmXS3izdXwRewCPv4c3Dtdwods6TabczU18cbmB9f1h7l0YWvLK+NXBWrZ3XkWATCEBeuFLI0DdvL43jx9vyuPuKXnstn2F3Hukhk+kg1dOReuu4nurT/KVZ09xZ7l5mqj429v5fH8q/7qzhF9Mya+37S3kvsQqPm52Y/ADWNiZUMGWBm3YxuxsVFzO5z+PtnBWIwTo78V1C5B5kCyJlPtnEyD8VEtlPL03j1v3FHLrLgk/3l7Gs+m9KM1XvqM+7wibD5ezp9dIuLa5qqmLLWcrODjR3elC29PA3cfaaR+dOhY4zOm8Su7cJgnlzx1Z/ORoBe/WWJg2Wy/gxS2r4N7L/RQNzdJL6nbR0dTJO/tyuHVPAbfuKeS23QXctjmNe4ssKKcUfva6Oj5Nb2XfRBXgoLazieePKBjvk3E59Xy0T0rSkO0qU9Ds1LTX8LPVmdx1MPRuhd6zAu44WMqyEwqytGEqFJuO05ck/CDxSyRALitDVeW82BRAPzNL+ftYmVzNh/mGKT86aewNPZPusHl2gJXpLZxvmNmnbqVBUcv9s60B6pXx0N5C3q2a/aaOGvp5VwhQVDL3KXAWiqtruXtbfujd3ZnDTw4X8VyxGaUjiB8gGKA3t4hXCocpnpLdBmpb2XiplngbgAP5WH7tI4DLbSDmgJR4vRUHDuKSKoip1dA38/TOYbLT8/mOEKAvJTduEwRTCysSqtlcZ542hcpv7udofj2rp22p4cEuk/KrjCH6wk03cOs4lFPDK2mqK4fNPXYah5w4fEHAwPoDEl4u1U0xfSdZ2TW8fEZBw7Q/DOL1dvPGkXrydT3svFTKM6m9lDqnVvBmMqtqeOJIMzUzhj49oy08G99EhtoJuLmQXsf+qsErGiTDPf2sTZQSOxy4Yscma1kZf8zXkBOu/jLoyE4p4e32qT/28nZsHRmq6ZW6q1HOxksyNmknr802PEql2oYlzKI+e201KxLr2dA62/QpLyMjCh7dmMfKFjuGWWJFOtcuQEFgkJikCrbVjVwx5c9pt9E+7Jzy/PxoNQYuXS7mvrhC7tiZx7LLfRzvtTM+zdjT08Gey9V8IL9yorvHZKbD7CM0aGnn7Oky3srron7G4/DYrDSqrYRbpmAoKeXuYwqOD8wmsS46e+u5b+UZoYMAACAASURBVGMRm1TeqJ3GGElctwA59BQWVbCsOPxTsBqtDNgD03rEvR3tvLtfwu8qwxWIJnbESjmssYZd/2Vo62XnuUqOTJiDB9OAjF+e7EBlC0z8phm2MTxtobkPmayaB7aUsWdqUR/w4qov555kFZUTvQBuetUj1BucuABvdzebjubzu5opLVavmazzeTxVZqN7inf55Q2sz2zj0ITxO2nqa+bluFbU46lzj7LnSBEr5UMzpi77GRkx06R3YMOBvKOZN2MbKLzi1nro1VvROsK0oIOjpBeX88vYlvDr8QCwkXRawm9OKrkcwZ+/u2YB8tjRN1XxdJGJ/pm3ZFjJB8m1fF43tYvHS5dGwUtHFITvVxtiS4qcw1Uj0+s1r4HTeWXcc14V9q+wKXnpcAlrpHrCbzIexDDSy9vbs3mu3nmlrAkimrkJkI+hURuDtqkPOciQppnHNkj4RD2+C22AwYIiHstUT27443NRmlXFK+flnPUAuFGqFbwU24IG8LqH2XBAyrERBx6cxCVWsEWuu3I2RdBEcZWUOw800RymrRTCztmLBfwmUcGpxbqn0peUG7INdtBhpa2lmjs2pvD/bpdxqHGEBrWRBtUQ8dm1PH+6iQt2IOjHabUg69MiySrgB8eUnG0fDcXVOTB6JmVE3azkk1MVvF9romnQTNOgiaYBHZK8Mu682EOX1Q9o2XikiLfyu5FoTDQNmmisVfDC+oss2VfDiSE7w6EuBXxuM9Vdcu7fWU223gXuPt7ansPjyUoy1RZUNh9gpbimnO+tlvDbDE0oXWojDb16zl8s4p1qC+1j7ROzrIHVqQrWN45Oxuvr40hBFU9kDeILhM7rd9hoGQz9f+4lCb8908rWFiMNKiOtRhdWIODxoGpuZ0t8Dg8VWVCYfXj9TrrUzSzbVsKmCi0ql29ie2N3Ryvbkmt4s2rsvG19bIvL5e6TrTS5w/TYahQ8lSDl/YrR8ItMgy5UzVXcur+B/JHo3flkrmuAhqvrePpEIztlo5N5rL+bralSnkvvw0AQj9eJrK2Nhz+7yP+1VUaFyUcwMMrWuAy+skrCB2V61HYvQazkV9bx8tE6kjSTeba+W8eOY0W8XW2lb6xRaJXLefJwKR8WqSbzzkAfR1KLuTexmeJw5XJPPXcdqWZPqy38VBK/hboqKf95WEGTS7Qi5oM5CVDQi8FkoUFlpKFNya7zBfzogpo6lZGGQTPd9uDE+1t4Po/7TrSwT2mezCeVjcRcrOOLsdZn0O/HMGxCrjZS09vL69sLeL+6n3y1kQaNlcGxhr7D7qCkUM4bh/L5oMOGxhXE4xqlpKqcH+yr52K7GZMvAGj4+ICEJy+2kz04dl6NgTPFTbxzWkH51GsJ+HC31vLQmTZim8bKt4YGXtiTx+OFKrSAuauHmOOFPFMaKnebBg1Iq6Xcuv4i/35OReqgG7sfPDY78rxS/pBUzbuNdnRuH26XgXNlldy7vYa0QRvGYBD8fnpKKrn7cDWHZPrJ96KnnY+OFfK71G7aAUaGSU0uY1nyANXq8ffMSFNzPSuS6kiaOV0YACdV9Q08uauKS7ONMPhUrI4t5p0CNbM05SOCa18D5GPU2sPKuGriFXrqx++n2sjJS9Wsye+mwAMQwO6006rScrqqil9vq+Jcb+iZyzRW9N7ARJ3RXFLH6oxG9naNH2uEjKp6bvssla8daaVe78ARnHn39WyJK+SNvAHawhVcQTcDqkZ++0UF50yeWSRJEKnMTYCG2H+2iIdiZVyYKINGya5v4+14GZlu/9ja1SB0NnDX4UrWS7U0qI3USOU88/lZvrqvii/6LXQaDZyvrOLX26pJ01pRO/R8vLuQj2Vaur0WDiSW8lZmG/lmD7Zp+c5Fc5ucp7ZJOeWc5fNTfg2fJxbzamYfvX/b7RFEGPMvQEE/vtY6HtiTydcPNLPxeBnP705nSUw2Sz5P4aYkBYfVgdDQpseKUlrG9zZn8a0NGXwtJotvbcpiycZMlhxuIls9pfcz4KOpuYUnvkhnyaZslmzKZElMDj+KlVNi9oxNLQni6Wrm1SPZLFmXxZKYDJbsL2PZ0XKejknl5kQ5xywAXoy9Mu7blsXXd9WTb/SAto2XDmTwtU/S+NbmUtbWjQJ28uVNLN9UyouxmSzZnB1K26YcfpDUQbvFP1m5BpxkF9byy5i0UPo2Z7Hks2zuPtFM4fjQasCLvamWX+7KZsmGLL4Vk8G/xmTxzU1ZLFmbwf0ZPUgBt1rLlkOpfHNtKl/fUsLTZaMM2Xr56HAe3/gkjW+uK2ZTt4mJpxEwk19Vw+2fZoSueXMB96cMYHT7w0+5CQ6z72QxL6V00ximbRy0m8k/n8sdqbrwUxKjhDnvAhfwU51fzbIvUkP5dXMWSz7J5uEUJdXeAEG8aIfaeGZzBv/ycSr/tLmSEyYPuHtZFZfN/16Twtc3lrFRbsAPBHwj5JeW8YN1maE8sTGDJV9I+GWqlm77lDVhwQDGRgXv7Etnyfqsibzz61MKCt3+8N/xCWr4/GAR75ZopuzENYnfoOf0qTzuyRklzCwqwXUwJwHy6TmTU8K312ayZFMW34zJ5GsxWSzZkM63dxTymsyDcey5VWdLuXtjCt/YkB0qY2LS+fbWct6XGhjfwM9jsXH6ZA4/3JzJko1ZfGNDBt/YmBUqB7dI2dUSKg2aG1t4fFMq3/g0mW8fqmVrt4fBbhkPbM3ga2sz+NZ+GXkjbmCYfWcK+O5Hafzb5rHzfp7KD+Ma2NYbuKIhEPSNsv9UEbdsSA+VgZtLWVenxzrWIA4GHMiVMh5YF0rfko25LN1aytvnc1m6PYul51Q02mCwtpGntybzr5+m8o2DjRzqM9Hb08iDn6fx9U8y+fHhBjI8/tD5Az56Sit5eEcGSzaMvRef5PKspJdm71gdQhD78Aj74rL47sbx9yyLJTHFbOw2MTLLtJaRvn42JeTzoiz8BiEBZR33xdewsSmStpi+krnsAhcMeDA2VHH3zqyx+5nNkg3pfOtoK6f7xzdlcdDQJuP+zzP4VkwmX9+QGaqTY7L4zhYpR4ambIrjN3Ayu4xbPkkfO1YmPz9YyO/OVPL9dTncdqwVhWdm4RNEJinjqTMtJOjCFFwuC7KCQr5zopsBsX9/1DE3ARrlfF45N61OnSyD1qfx73ulrGwJTJffoIWECyX8dH0aSzZksORAA++erGXlrhRuSijl2axafhaTztc/zeQnh+s4Z9IRk5jP0pgSduv0xOdU8vO/pPJAgZraGVnSPDjI7oQ8nqlxz5CjEIFuGSsSK1lVJyaSLzZuyBS4oNeN3upC7/DjdnkwWh2oTU7UJgc6h29yLUwwgNflQmN2orG4GLI6GTQ7Q3GtHpwz5hAHA36MFgdqszMUTE609hnNw6APs92JZux8apuHUZcXi82JzubBNjYSE/B50Ftc6O1ePMEg+L2YHG50FicaswuTJwBYya6T8fqxdvrcbvTWsbSZnWidYebme7wYzNPTNzRtK88gQU/oHGpT6Jr1Vhdacyit+rF7E/T5MducaC0u9BYXw64A/oAPo3U8vguzd3ojxevzMmxyhK7Z7Por31AIYqqv58WEKtY0uqc3sIMBhrS9vLevgJVKF6NRvIPy9XwHKOj1MmJxTDxntdHFyMRq3iB+vxeD2Yne6mbY5sEeCELQh8XhZtjqQmtxY5pS6ft9HrTjxxp7NsPhnk3Aj8U2mb/UJifDTv+sC4UhwGCZlOVJcvZ3eZmWG4M+upTtvLqvhHWqK6deCq6PuY0A+bE7XRPPc9AaKt/G88CIZ1KAvR4vo+Nl33g+sXgwT9m+PBgIYLc50YzF0dlcaC3j/3Zj8YaO5vF4GbY40Vlc6KxuzN4gfq+HIYuLIasLjdWDMxAEAjjdHobMk8dUmxxo7TM+BDgFt9ONzjz2blg8V3xfKhDwMTpefpucDFo82DweDLZQOe0JgN/tYdjqRGdxorV6sPoC+Hwehs1jZZvVM/38Pi8Gi3Pa+2j0XtkwdjumXocTtdmD82pll89EcbmUu440U++esVtmwE9RSiGPX+omeSSyC8A5b4Pt9zI09X6aHAw6fExOFAji8XrQm5wMml3oba7JOtnsxuqfeq+CuN0e9CbHxH3X2dyY3V4MVhdam3f6B2bHCJi6eC+xhDcLBjFPe5RBzFodu47m8lytC6PouIk65iZAAdxj5dXUsm/Q6sEaxn09bg9D5rE2js2L1e3DYQ+VhcNOD7qxMkRndWMPBLA73ejNbix+P06Pl2GzkyGn78pRRb+VutpKfnFQToXNP73zJ+hHmlnCU+fbOTUc2WWBYO7cuDVAiwC/38gFaS0vJLVPzE1fNHj17D1XxvOXepi2zMhlQVldxW9SNHQ4ZhkSjhIW94dQAc8Af4kr5b3CwemLuW3DlJRU8WDmMAY/V5EowVz4Un8IddERYGRAxYa4fN5r8TNt41FTJy+eaiCuyXJ1iYoAIu9DqNeCj8q8Cl4828yJqYtmA1ZkzTKWnVTSZ4/uuufLSjR+CBWCWPU6tsbl8bbcw+hU8bZ089a5enbXmWbtGBJEL0KAZsM/TGphCd/4+DL/fXUK391ewqM542t5FgMBjGYb/aPO6bssBXw4rTY6bNF/oYtegPAzPGJlwOyevsOg34vFYqMrkr/gGIUIAVpk+PwYRy1024PTR1B9DjqNLqzhhi8ijOgUIPDbHQyMOtBOG572YXPYUJrE1m/RSnQKEOAPYB4102ULMu274T4HXUYnpqvOqBFEK0KAZiPoQqUbJrdVT36HjsxWPSWDTmbdKEQQcSx+ARL8PRECJIg0olWABIuTqBUgwZcSIUCCRYsQIMF8IgRIEGkIARJEEkKABNGEECDBokUIkGA+EQIkiDSEAAkiCSFAgmhCCJBg0SIESDCfCAESRBpCgASRhBAgQTQhBEiwaBECJJhPhAAJIg0hQIJIQgiQIJoQAiRYtAgBEswnQoAEkYYQIEEkIQRIEE0IARIsWoQACeYTIUCCSEMIkCCSEAIkiCaEAAkWLUKABPOJECBBpCEESBBJCAESRBNzEiCz2fx3SZRAMB/o9XqMRuNCJ0OwSLDZbEKABBGFWq3GbhdfPBZEBhaLRQiQIGqYTdjDCtDw8DBut1sEEaIiDA4OijwrwryF0dFRVCrVgqdDBBHGg0qlwmg0Lng6RBDB7XYzMjKCWq1e8HSIIMK1hOHhYbRa7V8XIL1eT09PDyqVSgQRoiL09vbS19e34OkQYXGE/v5+ent7FzwdIogwHnp7e+nv71/wdIgggkolykgRoiv09PSg1+uvbQRodHQUv98vgghREbRaLSMjIwueDhEWRzCbzajV6gVPhwgijAeVSoXFYlnwdIgggt/vx2g0otFoFjwdIohwLWF0dFSsARIsTnQ6nVgDJJg3xBogQaQh1gAJIgmxBkgQTcxpDZDYBU4QTYhd4ATzidgFThBpiF3gBJGE2AVOEE2IbbAFixYhQIL5RAiQINIQAiSIJIQACaIJIUCCRYsQIMF8IgRIEGkIARJEEkKABNGEECDBokUIkGA+EQIkiDSEAAkiCSFAgmhCCJBg0SIESDCfCAESRBpCgASRhBAgQTQhBEiwaBECJJhPhAAJIg0hQIJIQgiQIJoQAiRYtAgBEswnQoAEkYYQIEEkIQRIEE0IARIsWoQACeYTIUCCSEMIkCCSEAIkiCaEAAkWLUKABPOJECBBpCEESBBJCAESRBNCgASLFiFAgvlECJAg0hACJIgkhAAJogkhQIJFy40WoGDQh27YTKfZhyNww04jiBCuV4B8bg/qIQtdVv8NSJXgy4wQIEEkIQRIEE3cAAEKEvQ66RmyohxxYfcF5yOdgmsmgMfjQmV04Z5x661mByOeAN6FSdjfnb9FgNxOJ706E02DZpo0JhTDdrTu6XG8niHW7kvjzvQhah1hDuL1YjCYaRo0oxiyo3EEiOi3we/HZnMwYPNPS2cw6GfI6MTmj+jU33CuV4CGO3r4445Mfi2xEBme7EU3YqVNb2fEM39S5vd60Q+baBoce19cwQi53lnwB7Ba7GicM9Lpd6GyenBEQd0VrQIUcLnQW9yM+Kb+6sfpcjJgEx0F0YoQoHG86E0ODE7ftLrU6/IyanFhXbB0CaZyAwTIj1/fyvP7Mvif22Vkql3zkc6xQ/txuryIjtSr4DNRLK3g3uNKuqY2WINBytPLWVmhptoT+RX7fHC9AhT02kjOreKOz9NYsjGbJZ+n8sPYerb1T4/n9RjYHp/Lo3kG5M4wB9IOknAimyVrU/jXTfk8KDHhnKVFGPR6sboXciQpiE/dz6GTxTwttTH1FfP7TRw5XsGWtmE0X2IJul4BGunp5y9H8nmi1BohQjDItpMS/s9HhcQ0jc6blFu1Q+yJzWDJ56l8fVMuz9R7MUZsWR3EqNawNaGA91v82Kc+GFMnL5+Vc6zFSqQXldEpQAHqCqp47byC48NTf7YiU8h45EwXgw4iu7NIEBYhQCECw608n1DFZplxWl2q7+xn74UKtmojtmD8UnFDpsAF/W703fX84qici13hWobXiaqPM1l1rO2bv0MuLoIYevvZcDSflxq8OGfUIC51E48dqWBr8/SXcrFyvQLkljfw0rE6Pqq3orW40JodDFrdmHxXxvV4vFi9AcJ2Fvt8WKwO+lUDXMos4Y6sUSxhjgHgksuIyevihGHOyZ0fglZKq2p4fE8tl10zmulBH5aGCm5LkHG6dx7f5yjj+tcABXG7vVi9kdKk82GydvN6rJQtFUPzVhYEfH5MFjv9fYOcOZPHU9VudJE63Ow3U1ZRyd2HGqmcOQIU8JJzqZCnkntINy5UAq+NaBSgoLWHPyWV8FqempFpmS+AcXCQLXF5vNLgxvRlqKQWGUKAAAKUpBbw6MUukg3T61K/e5hLklJ+dVxJzwKlTjDJjVsDNNrCI6eaSe10EAgE8PgDeHxXNhSDwSDeQBB/IIA3EAz1+gSD+AJBfP4A/mDot0AggEOpZO/ZMt5oHTueP4DHH2aaRTD0txNxxo87PRKBQHDKcQKEa58Ex47lDUz+nXfquYMTEUPx/JPn8k859tTrDgSmHmPqsWfcF//4fZk8h3fGfZmG30hOSSX3xTXRGLahbWT70QKel6ho+BJULnMWoLFnOFRWwRuX2zikmz1qIBB61teEexRZqZRf5hjDCFDonMPSCt65pGCnavJd8YbJt8FA4Brzzox8Ey7PTv0bdR87ThbxiMQUfoqkr4dXdhbzSZ2B4XD//yVgzgIUDOKf5RnNFneivBh79lc8quD0smNmORAIBPHNeMb+sec+PbsOsvZ0DXsrh3AHg3h94/kpXFk5fuzpZer4Oa6Ib7dQlVbAH2rDC1BwZvl8RdqmX68vzPWGuy+eafGuPoJgHBhga2I+z9V58YT5f19bLb+Jr2WTwn6Voyw81ypAE/VJqILFHwhfN03/o8C0ezotXjCIf6wu8k3NbMHJ33zhChqgubCcJ08riB0MUwk5zdRLCvjOqV7Usw2XCyKW6xOg6e94qLycLIeCY23DyTJirF009p6Hfhova8fKh2n15CwZPDA9f4crpwNjx/FNOY/nqmVlEEaUPHOwjE2y0Ss6ocGHQtHMM3tL2WvgS9ERHcncIAEKwpCC355SUFDayNbzBSzdlMPSmGyWpXdTNFEpOulXyrh/ew637CjkoVwDgy5A3cqbCRJuXpfLs+VD9LpNZBeV8x+fpfEvn6bwPzfmsXRbLks35fHzg/VctnunNNpc5BTU8uDWLG7ansdNW7K4Oa6R7crpNbHDPszO44X8bGtuKN7WHP7zYj/lhqk51k9XVxev7sjgpgM1rJIa0NRXc9fuXJZuzmXpYRm5w2MLQ3RdrD8l4aZPC1lZN4BE3ctbu7JYuimLWw5V8WkHIVHzG4k9W8LtW3PG0pfNj053ka6d8vYFrTTIarljcza37Cnj2TIrbq8fOuSsOJjHzRvzeaN+lK6ZL5e2n/2nCvhNzmyN/iDdklJ+e7KFBPXir1zmLED9oXz3/U+S+f/WZvC1L/JYuiWLpbsreFc6OTTjczhJvVDIf27N5j+2SXi2wkJ3uFbUOLZhKovKwwuQtZd1Z4r4wcfJ/K/P0vnnzWN5e4OE5ZeU1E2J6vcZOXy6mNvG887WbH58poc8/dSM4KS1q5nlGzK4Ja6WdQoXDZJyfrkrm6Vf5LI0qZ3qoZmJ9dNcI+flI1I262e7CC9pp/P5feYABdHV4TxvzFWAgqoBDhzPYenGLG46UM2f6sItFAvRXiHjuT1Z3LQ1j5u2FPBMUgmfVvRwQDUlksdNe6GUX+3KDcXblsczKXW8KtFRqg4ANoprarl9XSEvFaixAl6LldMnc/mPbfn87Hwvqok5lmo+Pl1PYkkjsYUV3BSTzdJNGfzseBOHrqgPQpX6W0fzQ+X41hyWJtbxwtE6Ttap6JgZ3WSkOGV2AeqTtfHH/ZncvDWUh2/aLeW10vBDn3UF1Tyya/K+vHaqlDXVGk5O7Zyw2ajILOanO/K4aWseN++U8EKGnDfzh2k2hCvnnNQ0yHh6VyVnZ3tvvQP86UgJ7xVqiOT+7GsTIDfaLhn37yrgtqNNVDXU8fv4fJZuymXppizuy9ZSPvMQFhN5yQWhsmhLDku3F/BAzjDqserO2tTM20dyuHldDo/l9lMx1pIbVPXy3p4sbt5ZzH1pamxX9CoOs/1oIa/nDqAI92iCLgb65Ty4pZLLFk9YORVELnMXIBsltfU8EJPNTdtzuWlXKffENbInp4mSYJAAAVSllTy4O4dlRUbaPIB/kNj0Ev7j0yweSu+iJAjeIQP7j2bws7gK3msYYmNiEbduy2bp1lyW7qvn8uCMmQu6QRJP53HTlrzQebcWcO+5Dnqm5Uk7lzIruWdTOrec6aO0ZYDkrCKWbsxi6ZYifp/Zz9DMywkG0JWXcGdiCxfU4ad7eDRqDh6T8NtSG+7F3wyLaG6cAA0reGxPFt//JJcPCpSkNmlIbWrn44vFLD+jJNcN4Mc2PEDi6Sz+Ja6ds71unH7AYSH/Ug53Hq7jsw4XtoAHjU5Pcm4db8cV8nDeIKkKDanNg2S2j9DvC0yMAinKanj1Uitf1OmQdOiRtOs4k9/IC/HVrFNMrmK3Ou3E58tJa1aH4il17Dlbzlu5Koosk9dhsVioqG8hJj6V/7Imm9v3S9ndqCK1WUOqchSNa6zkd1pp7Bng88QC/v2jc3zjaA2vF6pJbVKTphxGZgn1SHp9Lo4VNXFZ1j9x3kMXK3krrZvUiekWXkZUHXyRmMU3j/dSqPUSCATBNML5kxn8LKGFAwPuKxbSjbZ1sfZoIa+3XOWtaq/j/r0lfFhnXPRzrOcsQDYTlZ2DnL5QxCOJtbwtHSRVoSa1dYjqocm8E/D5GejTktnYz4GEDO7PNVB1tY7iqwmQ14a8V8eZi0U8mljNG2VjebtxkMJ+MyPj0Rwu8rPL+H36ACcUuom8c/BCBY+fbuW0avyZ+zFZjRSWt7Jq90X+YV0+Nx+s47RsLM92mRmeOcUNG+lFVTx+WIbkKplCXVjCzw/WcahrHtf1RRFzHgGy22nv1pBa0chHJ4u4K9ccdvSN/lb+eKGRT0o0SJR6JMoedlzMZOnWCt7vHI/kQtOr4OmkBs7KBifi/SUhi3/a2Uhctx/woTP08dGpEh5NUqIDAl4vPd29JOQV82+HW2gbHc+Ag8Qcz+fb76fwcEYzh5o0pDYNsCe7iuVHG9ijHj+vF1urjN/ty+eFsm7ONmlIVWg4l1nOT987x90pnShmXs9fEaABRS/nyls5rwzlYUllG2tPSPlznX2ypzXgx9fZzHPnFOyoGr/eDj5PSuG7e2RsGhfDgJVGRSNPJjWS3qpHotST197Buwcz+OqBDrK04YZIjaSXlPOrI4or5W0CKwmnJNx/SkmKedZIC861CZAfp9VAal0Vt6xJ4TsbC/i0ujdUHjR3s+pECb9L7iVr7DrtGh3bkvK5J1FOiiL0vFNk/ayJLeTxLC1tNvAZjSQk5fHA0RoO9mo5XVTOslOtJGjsZBTU8uCmfD7utXFFUePo4OXDJayW6glfigQZHunh7W3ZvCBzMiS6yKOKuQpQb0Mr65Or+USmQ9KhQ9LSw96kbL61qYQkt58AQexaPSePZfDrDB1FViDooEOl58CJUp4+WUuCAwIuN+2yNtbsusA/bJJw92UVZ5pDeTc1u5TfJNRypGusxWRSk5BZyRMX20LlSocOiaKPEynF3H9BSaNjvIz00a8eJje/lDu3pPJvH+fxckozF5rUpCp0lKptV+Zhf4DS87k8nK6mcLZywzZMbqqE78Qr6YqCjVYWMzdwBKiZ5TvzeDy5hw7H5EM26ZWsPlvBy+XjTbsAVk0XryQqqPT4x0TGzMlLleysMaCfWoBq+jiVWsWaGYvRJxlm+6FU/sdH2fw4toIVSaHwwI4M/vs7F/jB6b6JBmXA5yczpYhnEkpZkVjBisQK7vz8PN892cPlmfO+fUbqC4v4fnwbJ5WWqwxbBigubODZg6XEtBtn9CZMUphdxovxxaHzJlVwz7qLLDnaQtzU7oSglz5lG6+cVNI+cVdHOHyygsNtNqxXvDcBmhvkPLWnmD91zZpA6JFx/y4Jr1cMCQGajfoaPs7u4tQ1NHyGCop4schAxdXaIFcToHHktXya1UFS2DUHfsymHl7+/AL/GFPMrxMm8/bd6y/wlfeyeFlqYNqh7SaKLuRwx6VejvX8lXU7AT1JyQXceaSJqqtEM5SWsXRnOTtbvpxDQNe9Bsg9RElRBfflW8JP9TKr+ORUGXftGSuLEgr48XYJD17oZ2CiC9yHaUjDnw5IWB5bNlZmFfO99fm8W6adskOhlbwGGW8d70A7cQI/Do2MXx1vp31CgDSsO5LHXUfkXB6Z0s/u0JOQJ+WpcwNoAZ/LSf65snkMOwAAIABJREFUPH6b2U/V1ILPbqa6RU2BzsEV7v9XBCjY2cWu0wU8eFTKiqQKHtufww83ZPOLHPNk2RoMEBjp4c2jpfz6wNj1Jkj4/pYCXsjRoh0/btDDQE8vr+/OZXm8lBWJUlbEF/GtDUWsk48yGm4+p13HmcsSfpjYzkCY/w7h5Mz5PG5PaCMpgud8zmUNkM/dwbPrc3m6ZBD1lN+N2nb+eLmJXXV2wIlU0cpLR+XkaKffvJFeJS8eqCa+34YNsJRV83FBP6WDw1y8cImvfFrG+w0GtIZeVp/qwECYaYh9ch7aV8h7VbPf1FFDP+/tzuChEiea2cpLQUQyVwEyqTvZdE7CfxwMlQUrjki4e2cuvymwMBiczD0jRSW8WqCnwDL5t/r6VjZeqiV+vCfYYUZyOpPvHG0la2q17zFx6YKUj6sHaQWsrQqejDnLP6wvnKhHVySUcM/6c3zlT1ms7nUz7Y3StvDuyTKWX1ZRO3L1DBnwm9kbl8V96Tqks3WKOg0UZkj4+sFG5EKAFpQbKkAPJTWRNzhzEHuYrNoGXkifnPLgcZkpSynk97UmBt1AZw1PX1ByXj39b33dXcRequD9WbvtunnlYAmvnm3kYJmS7cWhsKOsm4S6QUpUVhwALifK6kaeP97A2rx2thcp2V7cxY7jOTya1sfFmW1mi57CwgoeLP5r88FdXE6v55OcrvAL3LxeVA0KXj1ez5qsttB5S7rYfTKfxy8qiZsx/chu1JNyqZgXml14PEEczVIevthP2Wi4lzBIh1zBqweK+bAzzH+PIwTor2KqrOLDdCWxs04HG8PnozOnkD8UGaj8GwXIXF3Nn9PaOKgN978eBkebeGBzKZ/lt7K3ZDJv75L2cUqmp3HEOW0tXHBIT0ZyMW+0/ZVrAAgaOJ1RzH1Hmqi8SjRDWbkQoOsRINMgmRIp988mQIBRo+V06ViZUKhk7fk6/nBSRlLX9L3Xrb39HC4ZK7OKOth8vIxnL7ciGRzvizRyqbKeN052TnT2gBeLeqYA/f/svXlYm9e9qLvvfZ5z7j+n+/Tc3nP22e3u3m1P3e6m3e3u7M5Om6SZ2zQh8zwnTeI4TpwmcRLbied5xMY22BgbzDzPIASSmIWYEQgJJGYNINA8vfcPwGYQDrgQBF7v86w/bC30LUnr+631rukz8LdIBcdVM43bSX1PC89FtDACeMbsnD1dwCcGL/OeCLmWAFkMHEur4JlYJfsK29grUXMwr4a3Lkr5Y8HIrP0o/Z16zpZc/V7eiynn6ctNJOqn30j9bRoOSFqv5PswqoQnMjuoNgVZROUc5HJGET862zI/AZq1ziV0mL8AeRgcbuPJQ9WUOWYGIQvHc2v4OK0XsJLY0MD61GAfeoyjxyXsbB9iAEBfz9YiLdvjWzifX8JPLjez+XwpMQ013J1qxB9spLC3nvuOSXhLCNCqZOFL4Lz09/VwvKB1vE0rauC9bBkPxKhJGPKPL4EM+OnMKeK5oiEkU6q6vqqZ7YlVnJn8P+MgmUnFPF4bJMiWl7MxX0u8E3plKl45WchzUg37JJNtqZqDZTouN/ZTPeqfvvSys44XU5o5MI9TCwI+O5FR2dyV2U/ZZwnQMSFAy83SHYIw2kzYiXxuT+mjfUptMna28GF8BZ9opkS2gBdHTyv3n6wn16BjV0I5+2uG6Z4R/LxqNccvy3n7yrr4AEN1jWzI1qC0+QArqQlS3ijsmzbCBWDq03O2apAxwGs2E3kilZvLprbOo6TG5/CHBD0FMwfMfWZqShXcKZl7Df9keQpz6/g4uwNtkFd9Y2MkRqTw6/xRrg5kOJBmFnBLTDtx1pl/4KK7tZH7Tjci7dOyOaaC021Ogi5rB+xqDTvOFvF4zdxHL3nqKrj9hIKP6kN7c+9icN0zQLWVvJ+j4dI8Dus3FUl4QTZCy7XiWGCYFpmc24rm/s6Hy+RsSGsjarKX6RlFJq1jk7SHIXyMjfZxPKqED5tmTro7UDTqSGqzTp8BGjNTml7Cy63MAwd50koeCq8h+RqndrXlFLMusoEofage7bW0XLcAuYcoK1FwjzT4op+O+nYSdC6mqU5PB1sj8rm3cuK7djpQ17cT2TXj5tdWse5EOe+pJoOWnVxZNY+eViGbzOPrYfe5fL4Woebq9q8B9sYU8ovjjUim7nu0DhCZJePJiZ5GwO2gKi2Pn8e1UzWtV+CmpraZvdIeamd2Ut026jKLeKE+MOtADUeNjJtPVvDJ1AA53M7bJ4q5q+RqfA14vTTWqkmaOSDQWseLp0p5sXGidz1mpaZOw6WZ+RrL+M5xJaeDbs4bIVcu549HVdQFeXUcC8eiCnkgsYOSED74cP4C5MVsbebB3YU8Jx1mWkvW38bHSbV8WDsGeKitb+NvF1SzZ4MHWngksp4YvWP87/1DnFM28+edEvYUdFDQ2cu+vZf5UWQpzzV5gh+u4Onkr+ES3pb2Ebw34aPf2M7zO/N5p8OJReyRWFEsTIDGkCl1ZHbMaBfN7Ty9LYdtgx7Gbz0/VpmE38W1kzs5XmMZIPxMNr+KaSRtso5YjKRGZ/HTC53T9s7CGIkJpbxXYKDZDWPdbXycqOCD1pnx2ENFZTvpg54ZM0ANvJHezMH5HNvmD6BMyef2JB25pjnyDA+SlpjH9y92E+wcEMHnx+ILUMCPz9DJzsRc/teHWXzr0xJejq1hfXId6xMruD+ynOdy9Shn/PAerw1JQhEPn89gTbqeupHZNcNv7iMxX8pvTipZn1zL+oRqHjxazCsZGlS28fyBbh0fRst5IKpy/JqpStbHlvHgOSnrFf2MAl67jeJSKbdH1PJ8gpL1KXWsjynmd7vi+G87Crkz00CpCfCMUF3byPqLZdyzP5V/3FvOX5OVrE9V8U7ZAINXFji7qa3vYFtyBbfuzOLfd+YTlqpkfUItH0i0TE4c+VwuKipk3Hu6micvKyfKJuW2vXF8YXsuN6d0kT3jfPixUQvpF3K4KyaH/8wZoH/WouopWAycSSziN4m9czzs1Is8pZg/JahJvL7ng64oFixAQ3pOFqp46UAaa3YV8MuYOtYn1bA+V0Nc18Q36nNj6lDzbrqS9Yk1PL4nia8ckPOXy0rWJ9RxsNmCNgAERlE2t7ExQcn6yzL+ciCVL+xR8HJiLevT6jna4Z72jBSnvpUt8TJuOVM7Xrej5dx3TMpmWR9GAJ8PY1MLT56U8Uxc7dW6faGYu2KqONo8PC5AI8OUltWxPrqM2z9N4qvhSl5OGq+zH1cP0xe0Dx7AoGrk9VNS3tTMVb9GiThdwPNFvdTcoDuTFyRAvhHkqhbejFeyPraU2/el8sV9FbyRVMubGU1E6LzYJjqIOefS+dq2PP5wsY71qXWsT67ljXMy1qe1kjfZ4I9YSIu4zD9skfDE5Yl8KUo2REt5TaKn3HTlmCJ6O9rYfCqT/7ygZH1SLa8n5rN2Xxr/1weFPJmmoaFfz4UyBT/8MI1/+yCbR2IqWJ+kZH1SDc9ElfPoxWbSzZPLl3x4ejR8El3IA3FV4/lSlaxPKOXus6W8XNpLnRdwjdJc3zT+eqyCe3ck8pVj1TyXqGR9SgORegdmwNnVyeYYGbefrmZ9ipL1SVW8eC6Tb76fwhf3V7O12oQnAAGvh5jj8fyvHSX8Ke7q9/La2VI25WspnRws6u/h+KFY/uFTGa8kTdwTyUreipayQTFA88xBJQA8tDQ08cJBKQfnatKsap46Wcom2WBIP7RwIQI0PNpK2I48btol5ZlE5XgMSa7lpXAJbxcZqJwQPfvgEPG5Em6LHv8ux3+nWl4/U8RrVWb0V+zJT6lcwY+35LK+zA6eIc6cTuD//qiUSNdc5Rjl/PkinkrvpDRYHPHZ0bZU8vMDtchsHnFK1gpjYQI0wN5zmXzl7WweSJ24x5NqeDa2kmdT9TT5/Vd/f2MHDx0t4I5T5axPquW183Lu+CiRb21L55bcLnKHgRELORfSWLMrj9sSlbxxpe5KuDWuhYwrByGMIq+u5eWIYl5IVF657guXZdwR1ci5fs/4PT/QzfECFesjsvna9lx+EFEz3jZntBHVNtc952dUJeNXJ5Wc1wYf8LLotHwSUcBTKvfcJzAKPheWQIB8+LStbEio4tm8PopkzexLkBEWpSDsTCnPFxqQBp1I8YG2gjVbC/hbo22O0SEPhn4tH0bJCYuSERZdxSuy2ZptatWwLbZ0/Jrn5YRFVPKRon/KiR0BfP5BTiZV8HCknLBzCsLONxJR3sz27HIeTdWSPQi4LUjLqgmLLOfRS9U8d6mcsHNyws6X81huD732ydvThayyib9GlfHYpSqeiq3k4fNywk7LeDajjYxpLaiJ6PRqHj0rHy/buQaOyprZn1/O40ntxM2c9sKBUVXKP20t4ajezbUHI21UVtYSdryc5GCttq+PN48V8nJJH3Nuo1pFLFiA+jrZnlLOg+ereDq2kicuKAg7W0ZYQgsnJ6cxfS4Gmxt48oKcsCgFD12q5plLFTwSLSfstIL3lUbaAkBgBLlSxSOn5YRFV/DIpWqev1TOg1Eywi5U8nGTC+O01t1BpaqZv54uIyyqjLCLDRxomT1j1Kqo46Xosqt1+7SSM7rRq7MHZhM5OQrCzpXzWGw1z1xU8OBEnX1JakI/VwUy93ImWcIf43oIOnA12sQde6XsUFlm7/m4QViYAJnJL1cSNvH7X4kfkWWEXaxhp9pzZR+fpr6dLZflPHpOQdh5xfjvH9dMhHpKoHS5aK+q5/W4ch6azHdOTlhcG8VDM3qb3jFa6lQ8ESUn7KyCZxPrudSpZUtqLY8ntFGl13Akp5YnL7eTWd1GRG4FYWflhJ0t48HEVs7OnGUCGNDwfkL5eL7zcsJOl/NxvYUr34ZzBGVFDWGR43Xt0dhqnrlYPl73zlWxT2ObOD49QHurhvcvlI2XP7KCdzIaOVfRyHOxNfxVOjjx8FE/DZVNvBMr55Gp30uCmhT9lM9rG6NappyIzRP3RJSCsMQOVGNzz1Q6jP2cji/gjznDBOvKjJSXcfO5Og5e83jH5WchS+BMo+08cbSGfWkVvBw78T1FyXgwWUPRtLWKXgZNXXx8Tk5YlHz8dzpXzsOpnbQ7pyvJUJuOY8UakvoBHLS0tbO7qJu2a5SkT1XJg+dq2NE6Oxj5R4cpSszhptQBhpyid7jSWJgA2ahsamPDOQUPn5+4x8+W8WhSE+dnrcD0UFXZxGvRMsIiZYSlaTmn6CIprZTH0ttJMAFmIyUpeYTltPPyhQoenKy7kVUc1NqZds6k10ptVS0PnpWPXzdSxkNxKsKnhvceDVuTywmLquSZ2CqejCmfaJvr2V8/14LgADj6+Ft4EW/JBpl9EJyTitoabj+gINFOiDwY+8Zl6ZbAXQf99dU8UdCDblSM+1zFRVNVBU9IhrDP44EijsE+wmNyuTnLxNCM7PpaBfecr+Ws7sbowl73ErgbEhet9XU8u0/CFoN72v6wgN+BMkvCrcmt5M86QvvG4fofhCoIPRw0qZTctV/K2YEZz4Bzmtl3vphXc3u4xsnlIcH8BSiAy93B8+F1qOacnfmc8A6y70IhD8arqZ36/Qbc6Draef64lEMaP2PCf1Ycy/og1FELsjTJPJd9Ly2dZVJuOaviSKdzWltqM/VwKrmIe7N75xjkF3yeLK8A+T2M9PcTX6cnRqHh5V2p3JbeTrLZc8OOMgPgddLf00ucUk9UcQtP7kjlnkI9xaO+eTwXwUZzazPr0zTopu64DgSoLKojQm25YZ5ALARogZiM5BQpebvKNm1kyu+zciGtkbSBsZBeDrTUCAFaXThNw6TmVPGp2o99aoUf0fJBYSclhuU2hc9mvsdg20cGuKRQ8OMthfxNoiGubTjIcfifHz2qFvYUasZH7ifxj9Hc0cKbxQP4xND4imS5BMjrcNJYWc/bR9P5yWUdkao+amYeZvB54jCwI72eqJbhaW3pkLaP2MImUkN4X+GNxPIKkHuM9nI5P96fxw/25vHD/QX8ZL+Et5tHuaG7GXYz8mIpP9iTxw/25fGjvfn8/KiMT7QuMWqwAIQACRYTIUCCUGPeD0LVqPjToQJ+si+fH+7L5wfn26g23rizuYKlYbkEyDZgJPxcLj88UMBPdufy4yNlfKIT/SXBtQmJJXD+QIBA4OozA8TMNxC4+r1M+S/BAhACJFhMhAAJQo2FPAdosi0JBAj+QF6B4O9kOZfABZjsI03vTwoEcxESAiQQLAVCgASLiRAgQaixEAESCJaaZd0DJBAsECFAglWLECDBYiIESBBqCAEShBJCgAQrCSFAglWLECDBYiIESBBqCAEShBJCgAQrCSFAglWLECDBYiIESBBqCAEShBJCgAQrCSFAglWLECDBYiIESBBqCAEShBJCgAQrCSFAglWLECDBYiIESBBqCAEShBJCgAQrCSFAglWLECDBYiIESBBqCAEShBJCgAQriQUJkNVq/VwKJRAsBgMDA1gsluUuhmCVYLPZROMuCCkMBgN2u325iyEQAGC1Wunr61vuYggE88Jqtc5PgPr7+9Hr9RiNRpFEWhGpu7sbg8Gw7OUQaXWk3t5eurq6lr0cIok0mXQ6HX19fcteDpFEMhpFjBRpZSW9Xk9/f//8BWhwcFAkkVZEmhSg5S6HSKsj9fb2otPplr0cIok0mXQ6Hb29vcteDpFEGhwcpKenh66urmUvh0gizSfNW4DEEjjBSkMsgRMsJjabTewBEoQUYgmcIJQQS+AEK4l5L4EThyAIVhriEATBYiIOQRCEGuIQBEEoIQ5BEKwkxClwglWLECDBYiIESBBqCAEShBJCgAQrCSFAglWLECDBYiIESBBqCAEShBJCgAQrCSFAglWLECDBYiIESBBqCAEShBJCgAQrCSFAglWLECDBYiIESBBqCAEShBJCgAQrCSFAglWLECDBYiIESBBqCAEShBJCgAQrCSFAglWLECDBYiIESBBqCAEShBJCgAQrCSFAglWLECDBYiIESBBqCAEShBJCgAQrCSFAglWLECDBYiIESBBqCAEShBJCgAQrCSFAglWLECDBYiIESBBqCAEShBJCgAQrCSFAglWLECDBYnK9AjQ2aCSusJHDLQ4CS1AuwY1LSAiQf5jiymZ2yXrQLm9JBMuMECDBSmIJBMiPz9LN3sw63swz0DLiXYxyhg5eL4OtavbXDtPnnP5Sd3M3WW1DqJenZIIZ/D0CpOvQsSO+gmdiq3gmppyXsjtIGBx/LeByIZMoeSW2gueTVBxsczAYwtU84PWjrm0hQu2g1zPlBfcQSY0Gcrpcy1a2lcT1CtBAk5qHP4rnu2nD+JegXIvGiIXSmg5OqafXB5/Hi7KinVyTm5FlKpogOCEhQJ5utp5I4Z/311CyLAVw0dvbxZFSAz2+GUMMfTrONpqoty5LwW44VooAjfT0E5lWzrMXK3ktv5PUQRZ3cMpr5JJcQ7ZubFrMt/SaKKzRUeFbzIsJrpclEqAu9sbl8I87K7mssS9GOcffediCqq2HwmUb1A/gHOvj4OEs/iwdomumANXV8vLFcraqxZKEUOB6Bcjd182WmFJ+d0R+bQG6qODP2xP5WaaRStsiFz4YAR+egR7i1Fb0jvmGax8Oo57X9mfzerV1lgAdS5bxdGIHNYt3m65arleAbEYz6bI2IjucczayDkMP+Zphmhx/XxmvHw+aWiXPHypm4ywBclOZU8TdKR2UDHvm+HvBchASAuS3Iq9r50R1P/q/640CWK0jSJQ9tHr9zLeP6LUauZycy48v6tF5ZwpQC0+eLefd6mH6/66yCebDwgXIh1Y3SHGrkc9TmyYF6JkTefxmXwGP18NijmEaVXL+EF7JjuYZAmTo4lBsIY/JzSxbqBdcYemWwFmbuS+mngTNIo4u6zWcjS/jteWaZ/c4aFUp+O3BeortvtkBOjDEvjgJ98epxSxQCHDdM0BVCp673EzkPKq7sbCYpyVG5J9XH6S+jF8mGKie5/X8bie10mJ+fl5D9ejsED+sUvJCpIyXG8Us0GexlHuAfLJSXs7Qcnm5+rLWHo4lSflTbBezP6GfgLWDB/YV80njsJgFCiFCQoAWkeG+bjYelpE6779w09bQzHPHpBwbCDaK70ESX8C98W0kioq75FzPDFBJoZINcY00LFGZrompn6wUKS82wqIN7Xgs7D9TwEtFfTTPalZtSCsruPlQFUWeRZ51EiyYJRKgAAw2cNfFJkqa+6ht1RFepiG8VEOidhTjlXwehk0DXKrScbG6i9hOO6NewDpEVmM30XItmQYbwz4nHbpuTiQpeOxYPr9P0RCu0BBepuFMdR+tHv80y+4z9HFZ3k64XEO4rJ1TqiHqRoMU02Mhu0bLyTIN4XINJ5sGkXSYGbI6g44GOE2DREbmckfJCMagd4sPpaSSJ87VcGhQVO3lZsECNDxEZl0n+88XcOspBY/ndRIu7yC8wkCOPsgUiddLe04RTxQbUczRBwm4RpFUd0zURQ2nq3tRzaw7tmFKm7REyCbqtVRHhm50ygiRH5fLQk5FO4cv5fHt49W8ld8xnrdUQ1LXKH1B11b5sZr7+eRQLq81uxgKNqQ62sW2OCn3pepZPd2opWHBAmQdoap+/Hc/WzeAfChIVHGaKVBp2RuZy+9OVfB0/mQd6CSp3cLgtMwe6ht1nJGPx6twuYaodhvDvul5egf7iZG2c67FTMsYjHXriVR0EC7r5GSDGaNzZmUJ0F9Tx6tnZGxoCz7u7vePcel8Pn/J76VCDF2GDPMTIC9j5n4uVnQT12JmbHiQDJV2vE0u6yC+y4llana7jeamTiIUerK6rbgZo0yp5VRZB+FyLbmDLsZXlDlo0RqIknZwRtFNbvfo9PcBfF4HFQ06oqsNVOkHSFbpCJd1EF6mp2zIebXddthpbdawPb2SW3fm87y0nWOT9VxlpNc+x3yQfYC4zGJ+eUE769qTuJuque9MNTsbRMVdahYiQD6TCYmyjddOS7jlaCmbFJrx9lbRxaX20Yk+WIDhbgOxNTpSDS6G/YB/lFp1FxGlnSRrR+gD/DY7VcoOzjUOUD7sRtmoI1I+0e7WDGJwB++P+Q164hKvIUCuYUobJ+6VibY5W2+7hiwFcKorWXeiitPtwZeF9Gk6eDe8kNfUPmau2BR8viyhADXyp7PlbI0s5vnIfNbuLWDtnizWRlXyaat1omF30N1Ww60fxfEPHxZyb76ZfifQo+bNI4n8tw3p3FYyRJd7hHypgrXbMvj6x6n8791FrD1cyNp9Rdx8uo50u+dKhRwb6mV/ooLbjhRz+6lSbj9RzLqTlbxa0Eej9Wptc3vGqFIouP9sCbccL+H2U1J+H1HCTz4p4khlX5DpST/6nnae31/M9l7PnJ3FQHsTG86U8EipdVGnVAULZ8EC1N3Km9FF/OTjVP55Sybf2FfE2gN5rD1ewTsVptn5rylAfkyWIS7kVXHrnnzWHipk7f58fnY0n7DCXmrsgatBtLuJTTFF/OKwlNsjpNx+qJC/xCm50GtjfADJh3VUyzsni/j5tmT++8fZ3LSvcPwe2FvIM2V91AXtH7joNtRx90458SPuOYL2KInZMu6PqCPDGTSDYIKFClCgx8CpSwWs3ZHON3fkc0u+dfaI33Anmy+W8OMPk/mnLVl8c99EbNtVzDO5Wlomsvk9PrSaNl6JKOXW8PF4dfvJEn5ztp6j9VZ6r/x2dmqb67lvSwrf2J7L7y938FFEDr89lM/aA0X84nInbbP2ZTpJzyvn4cg6kt1zfRg/plIpvzxdT3TXXJkEnzfzEyAXA50q7jmcyRc/yOe9mHxujShk7b5C1u7L5sdn69nTPEbvZAwxGklJyucH2zP46q5itsgV3H6omJ/uzWftwRI2NY9OzBIOk1ZSxR935vCtd9P49flGFDOu7HaZOREr5XubEvjZ/ix+dKyQtQfyWbsli7tTW8m1TEQls4mMlGJ+uCuLL7+XypqDhfzsUCFrDxWx9qKaWlPw6OXR6jgQVchf5NeQG6eW108X8XyeATEuubQsRIDcHe18ei6Pf/8ojX/+KIPvHS5i7cF81h4pIyy3F1cAwE+3rJI7t8bx7eQB5HbA10dUtoz/eCuR70cqifWAx2ji1JkMvrMtle9erOeeQxJ+czCftQfH28j1pXrUQVZAXFOAfDYaKqt4NrKI249NtM0HCwmLr+NSzxhB9cYfoCWjgFsva8iaq7KZ+km4nM/Pkvowib1Ay8rSCdBQI/fvSeWftso40zkZoG1IyuXcfbyC3YaJRtRto7u2kj/E6+m4Ml3ooym3lA35egqmbl7UajiTpGBDx1zXdZN6MZtfRKjYpjJS2jlEaaeRpJxKfvdxGutyTBMdygDWkQEORhTztzo9uZohSjuHyEws4ucHStnSHGyu3EGruoY7tsuIsXnmHgEY6uC907n8KkmL2He5vFzvEjhbRQUbM9ScGfqMjNcSII+JNImEtUfqOHrl/vJjt2nYeCyfh2UmujwTAXJMT0Z9F2frx+traXsb710o4NfnWmesi/birlNwS7Ie+Xw+lt+GulbOD4/UUGKdq8Z6KJHIue2QnA9183jPG5jrXgI32kdOgYxb861zjviNyOS8nqXlUtDfNYB1sJ9th1L5RUoPye3G8XrSaeTomUy+sl3OrtYZ9jrUT8zpJP7HpxJuz+pljgHQibcf4lRiCfedb6F2zkx+aCrnR3slbG0Sa4lChfkvgfNjG2vhLx+m8OVDteQNT0qsm6LiMu4838DJrqkdRBedBiW/3ZjMd4/I2dvnY27t9SIpUfHWpXrKgr0c8JMZk8O/75dzbtLUB1t58UIZT0umDyz16rt4N7ycRI9/HsuDAnQ3tfFmeBGvtV4rXx87z+Rw88V28sSo5JKy8CVwXgqKVLyT0ET1XFkCAQz5xTxdMEDhlE5VZ3kjHyVUcWay+o8iODF7AAAgAElEQVQOkx6VzBe2FfByvY8raza6m3n8eAnv1hgZnVGpriVAnm4lt+zJ49ksDdKJeFva0cr6Yyl8ZX8ViUGcO+BzcTk6h3sy+yid67Z0GCnMyOdfT9RTP3PPmuBzZUmXwN19opyTLTM0wNfPeUklD6Ve3ZI4Yuljz+lSDvU7sAUAp4Y3omuIaBiZts8m0KnhdJKcN9vnum4Xbx7N5hvvZ/C9vbnctDuXm/bkctOubL67U8ITOd1Xl98FvLiba7jtcC437cjhpt053LQljd+nacge9QQJ9mM01Mj46XYZF+zeuWd3hjS8fzqHXyVqxVr5ZeZ6BWi0vJy3MtSc/nsEqFdNrFTFO5qZf+RmpFvJr882UdXvBnyYelt553we39yWzU27c/nu3iy+viWbm2PU9E3904AHp1LOLcl6yszzCJyeUVokxXz9cA2SOQXIi7REzq2H5GwWZ9hek+sWIGsf2QUy/lgwtwBZymS8lqXlYtDq6qKrT8XNf0tlzY4cvrtnIrbtzuWmXTl8b385x1qHp3cYe8cb9hcaA3zm7i5vD/ui87k5uoW6OTNdFaAtTeJxCKHC/AXIi3mklcd3yTg7aJ9RJwbYm6diT8HAlKXkThp19Tx+XIXK8VlnF3ooLlGxMbYeWdBL+8i8VMSGGiMtk5XU2cmmlCo2FE8VoACG7i7ePaEgwR1kj+0sfDSqVIQdLOaNtmvl62fXmWzWxbSTIwRoSVm4AHnIK6zj7YQmqubKEgjQlVfMc0WDFE/ZytBd2cwnidVXBchiJP1yPrfkDWOe0dyZSir5SNZNxoyV7NcSIEO+hF/uSOdr2/P43p6r/cnvfJrOj8/Vc8wwu6h+n4X9pzK5Ja0f2VwHI00K0HEVKiFAy8rSHYJgbuTeqBpONY1ND2R2AxeltWyYWju8Dvqq5NyS0kPDiItOSSkv5/dSPMMgvB3thCfI2dB59f8CDgfdIy7s/gBg4L2zMnbK+xlw+nH7/Li9ftw+L5ZRO10W10QlD+DzejDbXIx5fON5vH7c1nZePlrAk4X6IKfZuGjXqrhvRxnnggrSBAPt/O10Hr9L7SbYtiPB58f1CpCzsoJ3MtVEBln1Np0A3XnFPF1ipmbm8rGBDi5KVbzTOjPA+bB0VHPzhTaURg/4DWw6IWFDSQ9a73idtduNRBdW8Hi0esp+OcDnxlYt4+ZkPeVXbkUvFqudXrs3yKyknY7GctYeqqZ4TgFyU1ws5/bD5ewIEtAFV7luARrrJ79Qzh1Fc3dUh0rKeDVTS9yV39XH6Kgdw5gHHy46e5t5+mglqf0ObJ6rsc3jddNjtjFg904XoH4DicmlvDav01gsRKWWEnauico58/gJ1Cv48f5Sdswc1BIsG/MXIA/GkVYeO1xBQs+MYBXoZ19aFe/n9l4dNcdNa3cDT59snMezfXyUSuvZdLkheCfW7ycntpi/NVi4Mh7k0vF+ejXvlk7dueNHp9Py1nEFyVM6hg6bHYPVQ7BtQIOtHXwQUcTLzdfqSPbyyZkc/hinQSoEaElZuAC5ycpT8lZ805TZZx+WETs9tok9Mn4/+vwiHs7puypAfi+1RTWsj68lZrI6mwbJSijgQZmDma2+oaiM17N1JM98ob+HpORSXmmZ8f+BAD1SKY+naonr92C/0pf043S46B+20RdsZMnnJedSLvdm9CCZK0zajOSn5fP1U000CwFaVpZGgLxuLN1K/rg7hf95pJl4rQOjzYVxbIzskhqeja7l7LS3CuAY7WfryTKOVJdzy+VG0jsdszp0Xq2GiCQZL9a5xt/PZCEroZC1p5QUDnsBH91SBY9cauZ8p5NRl3c82QaIK67gyRQtAwA46VHXcGt4LVn99qv5HF28E63gE2k/s7e8B+jv1bL+UCGbOt1zyo2zqZ7Xz5bxYo146OFys2AB8nkZcbjQFJXxQkIje7QujGMujHYPY1cCVQCfx4PJ5sI4YqMiNZ+/ZPeSNTCed9jtH6+3fgspihpevaSmdWyivtpc9A6OcP6ihE2NI/T4gVE1Tx0vYVNpHyaXl1GnB12zmsd3JPPDs800O7xXZdvnxqYq55bLnaR3O8ffU9PIy0fzeaBIT9esD+Smp6+Jh3aUcsbkJugWn4CZ6PQywiKbKBfrka/JwgTIj9PlHq8/vV3EZEj5TaaRgTEXRpsbqycw7eAWk1zOq2lqjndN1JW2DjaH53FXmg4TAXzWYXKSJPwpq4+2Ec/VmDXUzptxVeypNY8PNPl82B0uBtQawi8W81i1iz7b+DUtLj/+oEHJTVFhBY+crSFqzs2NPjrzivltdBtJfaKihArzFyAfw9Zm7v8kk++f1yIfuBqTdIoqNqW1cMLgI0AAj9eDZWyY4uZa7jtci9Q80X7bPDj8gSvtmtfjZcTmwmgbIyGnhhfP15IxWdecEzM4AT9jVjsXIvN5UdaLwunH5/fjsKh5JVbBSzn9WN2+iff0o+/u4v1wGREm2/i9MjrInvNF/CpGQ9HQ7MobMHRxLLqQOwqD7K+bZETNc6elvFkyEKRdFywm1yNABUV1bIytI3vMhXHMSYu2nReOFvHnfDNmL0AAX1MFvzxdzfHGEYxjLvrqm3np0zj+5WQNp0xe7H5gxExKZCr/ukfBiSE7/RP12zimY1N0JUeqjYz5Ab8Ph3M8Ng+qOzl1sZhHq1z0TcTmMd94Hfe5u3g/QsYHlX10OCdirtNDR0M7n1yuYvfsBhcCfnQFxay70EZK8JOJ8A/0ci4mn9/nWMbLI1g2Fl+AAj68zTXceTCN/767ir+eKOah/Rms+TSbNVtT+fdTSnaqXbMOEQj43QzKSvjRjjR+KzXRGWStSMBjRaasYO3mLNZ8msmaHXl8/2wj8h4bo5P5XU7yM8u5dXvq+DV3ZLHmw0x+H6MibXhyBshFX5uC732Qwj9vyWTNjol8WzO4M68b+RwnzviGzaTF5fG7jCF6gk4BuSnIVfBwdB3RYvpn2VmwAGkbee5UDv/nvWS+9GEa//vTbNZsS2fN0So+UE3og9eBoVLOD/dkseaTLL72YTJf/CiTf92exZot2YSV9FI73vJjMxq4EJfD17dljdex7Zl8c2c+v4jrpsUWmOiwuukoq+Sh/Wl8a1sWa7ZlclN4EWtPFPIfG8Y3FkuvFDCAz9HPljMFfG9rBmu2Z7Hm0yLeknSjGXUHmZUMYB+2EB6Rw2MVNgzBJoGGOnj3opS/5A6IQzs+gwUJkHeA2Fwp3/o4izWfZvCVj1L4wkdZrPkkg2/tK+ZFpRvzlDDjcxrYF1fMtz/IYM2nGazZIeHxzC40I+7x3yUQwGE0c+h0Lt/fnsma7ZOxLZfn5HqaJmeADHqORWWx5uN0vrw5mf93azbf3J7Jml0F3Jo1NOWwhOnYmpvYGFnK89XBM/h9Fg6eyucJ6QANoqKEDAuZAbKMqXl0v4wHDmTxo71Z43Voeyb/Z7eMPcrhif0RdmpblNyxJYN/25rKF99L5d92ZLHm0yy+vVvOqSHHlQOC1OUqHt833s7+y0epfOmDVL66I4s1n+ZzS1w7esDrMXMwqoBvvhvPlz5M55ZCCxpTP6eT8/jSxgS+9GEhr0h6rmwo9zqsKPOL+OauLNZsy2LNjkzWpfWS3e8iyB528JhILyzlN2db0c5hQMMVCu6NVHJQLZ5htdQsXIACOAZ0hF/M5l+3ZrFmazprDkp4omyUtlEvV8YdPSb2nC/kex+lseaTTL55uJInTkh5/NNYvhyh4mg/MGxGkpDFb8+W8h+7cvnW9qzxGPlJJncV9VLnmrANi4HIpALWbB2Px1/enMz/2JrNNz/J4jsHpGzRuSf2b/swG5r565kcvv7xRBu+LZ2v75PzitRCf9A+YABfj4q7j8s52DQSRMr9dLS28NJRCVsMgXk/60qwNCzBDFCAgM2KUm+mZtCFxWxFbRhCpjUi6xyietBB8O0LPrz6WtaeqCWpK/gx1BDA6bbTrDOOv5/OTM3MxZ6Ab8xGS/fENbVGZBozTWbXlPcM4HXZaeuzUD6ZR2tE1mmmbcw79/I2v4surZK7d1cQa3HNXlvvMrDlYgmPpOpmHF8rWA4WLECOMZoNJuQ6C9V6M5W68Tor01vpGJ0IngEfzpFhyifqoEJvoabbNP5vjZF6i2vKRksfYyPDyDun1LEuM/UjM4Z9nHY0PSZknUZknUbK+620WWy0dZmp6RubcbyrH5NxmGrdRP3usjJwjR3uAZ8LTZ2cX4bXk2+aPWevK6/muagKNneKUPxZLEiAAm76TRZkmvE4VaG3UKs3jdenLjMto3480342HybLCDWdQ8i0Q8i6rXTZZ/+uY0bLeL28ErOG6XFPqU9OJ/req9es7pqMlSZqjW5cc404uo3EZJVx39kWlLNe9OPqb+TOg2UcUVuvsRle8HmzEAEyjap58lgtqW0D1OqNyCfqkLzHhtE1Wdd8jNpGUWqMKLos1BgsKK60t8MY3L4rM5f2kVEau4aQaU2Ud1uoNky2pyZq+u04gUDAQ3efmSq9heouEyqzB7vHRc/QMNVdZqq7h2mxuKZ0BAP47aNU68ZjoUxrouWaH89Hj1rDpvAiNqkDQQ77sBEbU0hYmoY8cQr2knM9zwEi4MFiGaa8c7y9VRisQQbrAlgtVpST9aLXht7iYKDPSEXPKHo3YB6iMKWQJytGkenMKKb06zoc/qsrijxOegcn2tuuKXGy04i8y4LG4Z/SV3RjGLQg1xiv9GHlPWMYrrWx0u8i/lIBj2Z2UzJzIDwwTE6pjN+F16Pyi+cALTdLtwdoofi8lGaW8nqNGYMnVKtFAK/dTHxUDrdk99MxYz69TV7NG4m1nBgQXYRQ4LofhLqqCOC2mth9Ioun5CN0Tq2azh62J5fz1+we+sSo/meylA9CXX78mJubeSe8iGdrp/cUfW4XhUmFPFXSi9IhRDmUWMgSuBGbmqeO11I+8yisFU7AZSG3oJifnm1H7Z1h+DoVD8fUsbfZIZ5z9jlwXQK0WFiMFCYX89yyPFF1Og5dLfeEK9haNzxtqfOgRse+ixI2qh1i9icEWF4B8tjorKrk5mPF/OpAAf/2Vhz/tLuEt9vGpp9+FUr4/diHhijSOxiZMUph7rPQMjTGZ+6dF3wuCAGaIACmngHkgx5GpkZd7xh1fcO0WkQong+rW4AApwOtYQjZwHQbDvj86HVDtDn8n32inOBzZd7PAdLW88DRDL6wIZnv7CvkN7HtKIOsnliZeBkdtSDVWBieucltxER5v51+UXE/F5ZLgGxDZs6ey+Lb78fzha2F/OpkOXu73cv3KJKAnVqtkWaTa9osj33YhlpvDnLIlmA5WF4B8rkwdndxWKrmoLSd4+VaTsk6yR5wiSOkBX83QoAEi8mqFyDBimN+AuRl1NTHeZmG0+WdHCtt52DNEAabGPgQLC7LJUDuMRvlte0cK9dyulTNEZmOQos3+ME/AsEEobMETiBYZIQACRYTIUCCUGP+S+AEgqVnWZfACQQLRAiQYNUiBEiwmAgBEoQaQoAEoYQQIMFKQgiQYNUiBEiwmAgBEoQaQoAEoYQQIMFKQgiQYNUiBEiwmAgBEoQaQoAEoYQQIMFKQgiQYNUiBEiwmAgBEoQaQoAEoYQQIMFKQgiQYNUiBEiwmAgBEoQaQoAEoYQQIMFKQgiQYNUiBEiwmAgBEoQaQoAEoYQQIMFKYkECNDIins4jWDn09/djsViWuxiCVcLY2JgQIEFIYTAYsNlsy10MgQAAq9UqBEiwYphL2IMKkNlsxuv1iiTSikh9fX0YjcZlL4dIqyONjIxgMBiWvRwiiTSZ9Ho9Vqt12cshkkherxeLxUJPT8+yl0MkkeaTzGbz/ARoYGCAzs5O9Hq9SCKtiKTVatHpdMteDpFWR+rq6kKr1S57OUQSaTJptVq6urqWvRwiiaTXixgp0spKnZ2dDAwMzG8GyGg04nK5RBJpRaTe3l6GhoaWvRwirY5ksVgwGAzLXg6RRJpMer2e4eHhZS+HSCK5XC5MJpOIkSKtmGQ0Gunr65ufAIk9QIKVxMDAgNgDJFg0xB4gQagh9gAJQgmxB0iwkljQHiBxCpxgJSFOgRMsJuIUOEGoIU6BE4QS4hQ4wUpCHIMtWLUIARIsJkKABKGGECBBKCEESLCSEAIkWLUIARIsJkKABKGGECBBKCEESLCSEAIkWLUIARIsJkKABKGGECBBKCEESLCSEAIkWLUIARIsJkKABKGGECBBKCEESLCSEAIkWLUIARIsJkKABKGGECBBKCEESLCSEAIkWLUIARIsJkKABKGGECBBKCEESLCSEAIkWLUIARIsJkKABKGGECBBKCEESLCSEAIkWLUIARIsJkKABKGGECBBKCEESLCSEAIkWLUIARIsJkKABKGGECBBKCEESLCSEAIkWLUIARIsJkKABKGGECBBKCEESLCSWEEC5Mft8WC2uTHbPYx5/PjnyOdwjeez2D3YvXPl+ywCeDxehu0ebF4/gXmUz+n2YLa5sEz8zfVd9xr4vIy5/XinFSaA2+PD5V30q614/h4B8vt8jNpdmGxuTDYXZocXu2+RCxhqBAJ4vV7GPDNrewCHy4d3WQoVOixYgHw+7E43Jpsbi9OLw/fZUWSp8Hm82LyB6TEp4MPu8eMRoWPFIgRoeQkEfNhc3hltMng9Xly+wOL3AUKcVS9AAT/uiVg67b8Dfhwu3w33e690Vo4A+UzkSMv47scZrPkkn9sut9MVtD8xSHiilB9+mM43N+fxbImezuu64CgllRX88IM8HsjswviZ+U1cypHx0w/TWbM5l7AsDU3Xdd058LlpK5QRlq6nanjqB3dTVNLEjrx2VIt5vVXAdQtQwEmhtIY/fprOt3Zk862tafxHRC17uxa/jEtFIBDAHwjMQ9yn0N9LTLKcp+VjTHU9n2+EU5eqidBa5nEfrF4WKkCB7i4ORWbxrS3prDkg46Vy2xKWbm7co6Ncvizh9Ro7vVMt1qbj/cwGTtRZF1ZPBCGDEKDPxh8IEFiSCu6gs1XJX843UW2bPjykLKxhu0xHmXsprhu6XI8AXVdbtUz4OjvYG1/JW0rnlP8NYB0Z5GB0NbEmB8sT5QXXw8oRoIAHo8WCrKOb40UKbj9eT1vQEVU3+gEL8g4DH52W8kJa63WKgRfzSA87kkv5S2Qrn31Le+gzWlC097I7RsaTl+pRXNd1g+HHbteyYU8Bb6lM9Himv2buaOatC6U8pbAs2hVXA9crQM7Gel44V8HLhf3ItEZknUMoDFa0jiUo5JLgpEWvZnNiB93zHpKyU1VTzSP75UQM+6Y1RoGAG0NZKb+OqSdZ75zzHVY7C54Bcjro6hmiVNnE9jgJ63Kt+D/3Vt5Jd1sdtx0oI7rHhWvq9X0OMtJKeeJyCwmmz7tcgsVACNBnMcDB9EYuNw0v+ui8w2Qk6kI2t+cP0+2efmNb9Q08HSnj/SrTDTUrsHAB8qKobONggYbGJSvVYmElM1fGQ6dqSbRO/1W9rlHq8or5abwapcUzx98LQo2VI0BXcNOobeDpU42or7mkxEdWVi3vZ7b9HTMjYxQolbx4Xs3AvP8mgExaz6b4Bsqv+7ozcDtplpaw9kw7ZSO+2SMl/kEiUqXcGdmKerGuuQq4XgFylSt4JbmVqBXrkw7qNHU8eLR+/rOf/d0cjZNwZ/oQ9mCvu9Q8tK+Ej2tNhEIUWA6uew+QcxBJsZw/Flj5vFfBOS0WYuNyuT1vmN6Z63QAj1rJo1FyXq0Z/XwLJlgUhAB9FgbePKPgSOViG76dxnoldx0pJ32EIJIzwpGYYh5ObqditS+dnsLCBchHfr6S9bENVC9ZqRaHgK6Vd86V8rRkBNesV304TA3ctqOUU91jwdtQQcixxALkRS5T8uixAtYdK2bdkQpeS6jiqKqTmP6JHGM20tLKuONEMeuOSVh3XMLvE7W0WOeKGjbK21Q88ZkC5CQhrZp35xAgp8PM6QQZfzxWzLrjEtYdLeLOrD7qrFNzjZBaWcfbMSqqdU08dFzCusOFrIuQ86HaH+QmAHCTV1jHxmsIkLWujmfOFLPuqIR1x4tZd7KWc51zN2K2kUEOnMjh4UorhqBfixeVQskrp8s5NDTn29xwLFiA9Go2XSrhV9tS+ddPsvn3wxLWHS1k3akq3q+a+T697Iku4w+Hi8fr9uFKTvXYuLriwU9Hh4b1x/O55UIjRxqsjDTXce8pCeuOlnBLdCOKOhVvxsm4M6GWty6V89D+El6v6SCqSc1z+/L5Q1QdO1sma5kPe387b5yXcvOR8ftk3eFSNjUMo59SqhFDP0cv5PGjPRn80weZ/OyYZLx8J6SE5Q+iDTo/70ddU8+LJ8vYbJjrnnISd66AJ3MNlK2YmbDF5boFaLiXzHzZNQRomMS8Su7eXzj+ux7K50/pWrKvxCInBk09D51S8OfLbRzLlHN/RDHrjhTzh8sdVBjnGnH00NXVxvO7Jew3zhGv3Aa2XpDyZKoOcbzDymN+AuRiQNfII6dk3B+vpq2tkdcvlbLucDHrDhfyWImR+qmVw2QkPVXC748qeKW4i263gZ3RZfz+UBHrjpWxuWX06ooI+wCXs8tYd6h4IlZWsrFyop8Q8GBtUnLfWRl3p+lpLFfxfoyEdUeKWXdAwiuKAVqnFtPvpE9Vwy0nJON9gaMSbj6lJHVsev326XQcvljILceq2d/Ug9bSyRtHi1l3qIhbIqs5MeDHEQBlcRUPh2fy1c1prNmVz2+PS1h3uIB1Fxo50T75nk70HQ08clLK3adkPC4xM+gCett4O66MOw6W8EbFAI0zDWdkkJSUAn4W34sl6BRPAF2JgofPK9nbdePMAS1EgNwaDbtiCvj+lnS+uiWTHx2XsO5YEevC5TxW0Idzsq8TGCUuo5KwkxJui1ByodMG2CmtqeeRA4XcGd/Ch5JeomOLuCdOyc7WYU7Gy7jreNF42xfZSLF5xlpE8yDJqSWsOzLRBztWyoPpOgbnLK2XqkIFj5yr4WjQdeAB3J4Rwk/m8Gy5hbYbbOnjSmUJBchMfI6cOyNqeDWzhT3FbezJq+bx/Rf5wm4pf52YqnCPjJGTVcEOhYbTFVoiKzvZe6mMN/L0lJuD9RYWR4CsdiuH0ys5UdpOZKWWyIpO3o8pZ5Okn8ornUQrhTWV/PLtNG47U8Lzkjb2FLawPa+Ke09W8nGzi8FZse0aAhTw4upS88qFCrYXqoms0I5fO7uC52OrOdoc7Pv1MWhu56mdxeztdTAyx6d1tbWx8WQ+fyqZK8eNx4IFyDJAQqWabWfy+M3xMu5Pb2NPUQt7pDqSdZOVwoO5V82GmAJuj2vi48LW8bqdVsrdZyvY3zbMeHckwODgILG55TxzJJUvfpjPn8IlvFXUwp4iNfsVPWj0euJKpHz7o3i+erSKzRlVPBudxfcjq3glT8Wr8aXcHaNlMADgxmZu5IOkDg6XTNQbRS3PxtSwr8F0JXA7LCMUlat4I17Cj3aW8E5hG3uKW9kjURPePIoxaGC2kyWpICy8luxrjFbqCiT88pSSU9rg6r/aWRoBciGRVfJySj0flXZO/K5qNqdU8HRyB6lmAA+WwW72ZRXzLxvT+MaBCt7Pb2VPUSvPHS/itYIeaoKKrQ1lYznrDtRQ5g4yczyRJyGthLtPq4i5Uaf2VjDzEyAvVqOew3klfOOdVH6+O4+XchvZU9jGnkIVj58t48mcHsomh61tY6jqGnknvoCvvp3CL0/nc1dSC9sKWtlT3E5Kn3N8Frhby47oQv58oYKdBROxMqWaJ05K2VhpAXw4e7s4nJrPlzZn8p87ink/s5E9RW3sya/k0Sgpz+TrqQXATqu6ibejFXxSrh1vGys6OZ0j59G4ei4P2Jkcd/GbTBRW1PL0yRy++m4yv42W8mBqK3sKWtkv0yGxBnAD3W06TkkU/G5PPn8+X8uuifZ7T3kPksHJQOfBbFCzJTyFfzxcx/5GO6NeYHiQmAvpfGd3KS/XWemZcfM49L0cO5tHWKUb51x+o6nnqRPFPFZiumEOkFmIAHmHBsmpaOS58GJ+e6iE1ySTbZWG080jUw5ncVJVX8EPNmdy38UWqkwuwE2nroH79qXzjeNNpLYNoyip4and8fzj3mJ+Hd3Kp0UTbXNsEXdeVHG5e6KCjw2SUljNE5fqiCyfaEtlrexPKOWpPB0aV7BGcIQziaU8Ftsy99YGj4+a1Fx+ENVGwdCN8ouvbJZGgAIB6K/jzyfKeE1h4+pKIhcdHR3sl/eimBzddLtplyh4KVXJhlQVG9PqeP5ACv/fsWYuG4JFlsURIJ8/QF6OjL8lV7MxVcXGNBVhOxO56UIH8VcKPEqhQsaPNuXxUuUgpinvLVWUcce5NvIHXTM6FnMLUMDtRJaYwX/5IIf7LtSyMX38uhujc/ifr8Xw5ehWqmfdNy4MHdX8bpuUcKOTOQffOzt461g2v0xdxSewLJDrPgShtpL3czRcCrIqKGC3oiwq4a5ENWnT+h0jZGdIeSCllYSBKQHUb6Eir4CvHa5lR3WQhtCh5pmIEt4ot+LHyrmkIm6P0jBAgFZNPU+H16MOAAQAHXsvqng9rm683qSX8aNN6TyY3z1jqZuHDkMjz59uvsaI1hT8g5xPLWLdyfprLts0lpbxvX1l7G+6MZfcLIkA2XS8sieZf95dQlha/cTvWsf9+5P4r29mcJvk6oCGy9HKI7uL2VQ7diXmDBRKeCRJw4Vgo5LuYRSFxXzrhArlnL00Nzk5JfzuWA27DAv/aILlZUFL4DxqHtuSxc1pWtqnVIeeDhVPxak4WD914Y6f/sEG7tlSwEs5Gkpmbf1zUZZfyUvna4jvnTIgEnBSW1LL/WeqyBwZj1oMqbh1Vw53ZBoYuBIAfXQ01vBKXB2H9AGwD3HxYhr/z99yeDJFNd42ptfxZnQW/+WFi/wwd5CmaYM3DiOLfQMAACAASURBVCTVFdz8cRHvK3ppnvND9/NRTBVRqmsNDHqx6lp49EI7zVc26dnJSpWzq3wQ3aygHaC7Q80rh/J4rgEcc3VDept55mgud+XouVF2Tl7PIQgKaQObU1qmzwbOwk5WkozdtWa0E82ry9DJoZwqtqgnvl3nKIUx6fzLkRoi+6f+6QBHo0vZVNGHFrC3NfHwzni+uFt+tQ+WXMljuy/zDxuy+bDLNXsJm0fPJ2cLuDe+nZa5iuj10JpVwFcPVZNhuFF+8ZXNEgmQH2rKuDXNgORa/U+vk752NW9GSXkhtooXL9fwwmUlb5/P5T8uqEnqCWbiiyBAbhfdDWpej5Tz9MUqXrhcwwsJdbx2PIPbUrpIvlLmEdLKqnjxgprZK4j1vHSymvzOsXkLkHvUwenjmdx6sYpnEmt5Ib5mPCXW8V5mM6dbzaiDCZCmmnXzFaAUIUCTXK8ADSvK2ZDexqkgG7/8QxakyQr2WmDWZMpgAy/E1/GOcsorI31kFci5p3SOgGhuJixWxYVmB2DhVH4N76boASdlTXU8FdGELgAu1ygFikoeia7k8dhqXoiv4aWUGu7YUcgbspkCZKOqXcXjJxtoDbLvI8iHIjq1mJuFAF2TxRegAPTX8IdjEu4/U8WbCTVXYsKrKfV8VKQlSTP5XbsxmFp44kQddVOWBJmkpfw1R0dcsC0OEwL0bSFAq5b5C5CHweFWnjhYRYljZiNj4XheLdvSDVOWSTqo09bz1KmmOZZGWtmfUk9s/ew1157BYS5G5fJadwAPPtyGOm4+00jtrM3hvURIlLwhscFAD2fPZPD9C428Hn/1PngxsY4P8luIaHfQN+3PLcSW1vBmgu4zZlf0vH2ugqOVRq61Nd1us5AeW8SLDaMYvYChlkcuNRMT9OSbAHpNO68KAZrFwgXITU5BHRvjGz9zz7SvS8lTcc2c0bgBG4k51bya2Eb9xPcfMA6SkVjEw1VB+o0VFWwq0pHohl5ZPc8dzuaeFBUvXalrtbya0sDOUi05Zt/s38uj59PI+QpQlRCgFcLSzQD1KvlTeAVbG53TA491mPzqTpJ7/WAdJP1yFl9Lmjp86aNNUsKvojvIDrrW0kNrVyPPn2nh2ttd/ORlK9map6F75juYzUSfTOU3kqlLeZyUpuVzT3I3uVf030G5qpLf767glG76sh9dUwX3JXahMs4OvxWlDWxObp41ouF1OpHnlfBQYd+sU+UCZhOyDhMds+5dH0PmDp7eVcyenrmXwDnb2th4soA/l1rnyHHj8ffOAF0M8lUGbCNUS+Q8LJ+9EVIrq+S1jBYu9k/5Eb1G5CUK7pHOERDtbTwRX09suwcY4WRONe9l9AIeZI11PBepxg6MmNU88FE+e6cezODs5+Pjxbym6JtxPPUYijYlYeHNUw7vGKVQ0UZkm53+WVXWTnZJBQ+G1/L/s/fe0W1dd6Luu+uVeeveNXfWuzPJzM3cm0kdjdOjzCQZuSWx3FJsp7gokR07li13xzUusmVZsnqnukQVUhQpVknsBSwgWAH2DrCAAIhGEiAa0fG9P0BKEAnKokyGILW/tfYfEg/O2cDZZ+/97f3b++RcIwSur6iMW481cXzg5gxwvmEB8pqRRi0DIbAP8faZKva0Th1zDDKsN5BxedFWCOe4kqcPN9MyfkVm3FUyXivRkTtjCFwtP92tQHqNELjUC+X86kQzySJ6dtFx/QLkZ3Ssk0d3lvGO3H61NFh6+ThDznvVoxEdvwCDhnaenlGAPEjya/mkbHBKhzCIvlfJC8fruGgJESSAR9PIT/ZX8kmb5+pBoyElH2bW8Jc2F9hNXCqS8YcC63ShMQwhGXSiverDTnJrG3ntfD/X3mNAzQvxtRxtulK4TUODnJBqKY3szgR9OPpa+PmJDioMBk5lythYa6F7hmhft3aIg/GF/K72U0LgDpfxeMWoCIGbEQ8X8xv5c1rEDFDATlF1D8e7nDivurk2ks9L2VCpo7BLxbqLCvb2XKk3Q6PDXDybz50Zuill0k3JBSlvFgwi98CYqpN16bV8op56V4Iou7RUWf1RBprHiJ8Igaua6av4AtRnFfC90z2UiBC4RcE8rgEaISmngocSG3iztIe4ShVxFT2sT6nloaP1bOsJgNNGeXEVPz3ezLYyJXGVKg7Iqvn11gz+r/UVPFU4RJslXJAMRhNpsh7iKtt5JbWEb2wo5b2KHuIqeznSZmFs4uWN+n4d56q6iZN2snpfISv2S3mzUkmctJ+0HitOwGO3k50v4edJXWyauG5cXiUrt6TwtztkPC0bocfiYEDdzUsn8/m7Vy9xR3x9+Dipkr2lnTxzWMr61nG0E+V8WGMgvbqbOGkXzxwp4cc7S3mlUkmctI+zHaMT4hLAZ+nng1PlvJjbTlyFKnzO8jbWnJLxZN4A0ih9S9eYiX2H83m4ZgxN1OfKR2NVI88dr+GA2M72MrMWIKuJiw0qth7P40f7pPw6J1xm4+qHKL0cu+HBqO3hmWNVbCnuJk46cQ8rWlh1vIF97aPhkE+PnfbuPuLy63n6UC7/fLiVvVJluLy2W7D7gmA1kVFWztc3F/Gb5F7ko1qO5Eu5baucHI0RSUc9t68rZ0fDEM1jarYdlfBkUQe7J665JUnCd19P5VtHatmrsjJ4ubHw0Kfu4Y24Mt6rCH+HPWUy7jtYwdpqG73TylgQVUMLa49IeXdwpuHMcZJOFfFkoZYqsQnCpxN00tarJq5MSVxhPX+aKAP7KnqIqx4g2xC4PHLcV6/gqbMNvJg/UU9WKonLrePphEpeqhkF/IwNa9hTUM4t7xfxclE/TeN+xgwGTp28xPf3yviDdJjWsak9MR+D6h6e3VbKdnMo+ii0R8P6xAqeuDiAIdrfBTHNbARozN7J7zbl8bWdtayTKMN1l1TJtoQK3ihUU2yH8OscDCSVt/NmhoRb1kt4u6yHOKmKAzINDU7f5QFNf28XGzLlrL7YPVFuVcRJmngjo5I/VU/WuwHcmgZ+sv0Stxxs4aPSifZW2sNbZ2p5q6CPmkD4umqdkvePlrJWqmT/5PkqlDx/pJQXK0ZoGQcYp7Nfy4nSRn5/opDvb6vkk0oVceUq4hsM9Aanvk9mhJPnZbx0roG9FSriypp47lwxKxM7OTNlht/ttZN5VsLajHyWZfUjn3FzEcBm5sKFYv4jRYcl6t72IfrKqnnsTBO7NGIThJnx06xo490zFbxSoSKuoptNebXcc6CWF6vGGJvS3/Erm1l3qZqvfiJnQ6X+6t15raNkn77Alz4pYpWkh32TbbO0hgfOtpLWP/mcWMirrOOPJ6rYMtkHk/awuVDOr48q2K/xRBlo9qOQVPP70/IZNpoK4fVZOXAonzV1VnrETtiLgnneBc5CSl4N92wvYsV+CSt2F3FbYjvHB65UCE7nMPvPlnHHvhJW7JNwa5yMrSWNrDkn5c74Vi6o3UCIto5uno0rYsW+Um4/UM5dR8q5bX8JK/aXszJLjW5iVLSlspEnDhayYm8pdx4u52eHyrl9Xwkr9lbybJFmIpQthMer5eOTZdy+J3zdFfvr2VQk54VkCXec66VowISspoY79tXxZk4n6YWV4e+wt5gVByr4Q8UY1oiHUyVv4/nDBazYW8odh8r52eHJ61awKrufqzbXGuxgzclSVuyWhM+5q5BfFwwhnekNWl43XZXl/PhYNxXWKCO5ARNHLlRw/8luVLO8Q0uZ2e8C183riaXcujdcbn4SFy6zK042sbUjYijQ52OgspZfHJwoO/skrNhdzB+ko7ROHmY3crFAyordpdxxqIKVh0pZsW+ivF4YxDgeAE0nL5wpZ+X+Un5ySMHpAQ3SjlZ+ubOKd+v7aTYqWbOnjF8mdVLt9+Prb2PVsVJu3RO+5q3n29iYqeC5uGIek2iojax0nU7qiyu5c7+EFbtLuO1QDbu0/hl2LgRMGg6eL+P+LBNRu1PuLn67o5wNjSMzzkIudWYlQH4zF8pquHVHCSviyq6UgT1F3HpExlttPqyXq0Ev5RUNPLyvaKI8FbNiXzXv1pgnttd1o1W18PDBMu6KK+MnRxSkWNzo2tp4Kb6Uu/YW85MUJZlRtoj0WK2kphZwT54FXZRwSG9XI6tOVfFiw80Z1rjYmU0I3IhdyeP76/nwXDkPHi25XNZuPd1O5uCkHo/TqmzjDztLuD0u3M7eHidhxV4Jtx2UkzgyHjE6HqSxoZ2n9hdOtKESVuwo47EsVcQ7Xfy4dE3claDgLycqeGyyztxTxG3JPaRdtbuAF+NAGw/HSa7Uq/tLeaDQTP/lgf4xcivl/GJbMXceKueuw2Xcul/Cip0SfpnYTlkgOG1Lal9PN++eLuHW3RJW7Cjh90WD1Ecd5/ET6q7mq+vzea7Z/ikRJuN0tDbxq33VZFqJMgtlZU9iKasyVchvHv+5oTVAjJsplMi4fXe4vb3zlILdmpkOtnIkIZ9bdimI1199E0PDw5RlFvDQxTYeOljObZNlaE8F73TYro66cY9SVioLl4n94fJ4+7EaPu5l5tk6dTd/OS3lCYk1ymCSH/dwCz/bXMkJjdgGe7GwCN8DdDMSZHxczdvbi3i5cRjNlBehmnvaeS1RytN14v5EcsMhcDcl4zQ0KPjDrkoOjPinvAjVQ3+ZlDvOtXFBd3PuAAefIQRuQfGgVbZw3y4p8VoP7sgb63eSeUHKE6ldZC3ad17d3Fy/AAVxuZX86VAj9Y6/Zo88BMYW7k7sos3yV38L8CwJMdIt57cXB+i0fnoIk9syQsLZPFbmjzIw5UWo1oEWnjhVxQeK0RlCT5cmNyRAsyFo5Uh6A9vqDdM3+BkbpeJCKc+0z9fF7RQUVvHoETnJ1quV1++2I88r5UcZKpotIvxtsSAEaLEQ8KEqq2ZVjha59epRs9KKDraX9DJvz/0iRQjQLDHqSblYzZpqx1UjmoHAGMdTGjg9aOVm/jUXpwCB1+4gM72CPzeMo49sm50DfJDfzrEW8RLUxcr1CVAQ77iV8s4GfrZFSlyzAblxHNd8v5U3FMTvsFAlr+Kb++o4pjDSOOzBEUsvBg0GcI2NUa8Zpapbz8a4XB6RaKhwBqZvcjONcQZ6mnkssQOF8+pOb5OkgW01g1TfZKFQ8yNAHtQGK3L1KPWySu45Xsvz1XZMEaM5Aa8PbaeSXfF5rMw3U6axofFMDYf87IQG+tibIeetpsg5oBA2m5l9SQ2kW9xi9mcRIQRoMREK4vGHpm2l6w8E8UeNQ765EQI0e4LBIJ5pHaMQXv/00JKbjcUqQAChQABPgKs7BKEg3sD0+kSweLg+AXIzpGzg7u25/Mv6bL6yKY+vneik1jzPm5kEPFibarl1Zy5f/Cibr2zM4dvn+ik3x1BN4rXTVSll2ZZcvrYply99lM2XNxfzUpuN69sUMVw3Tn2GAoEg/tDcd8BjnbkXoBChoJb1J0q4ZX02X9uUwxc/usiXj7dzqv+KSTsMZvYdy+YrG7P5l49yWLaznHV9Hua+xxoiEAgy9VVBoVC4HNxs93uxIwRIsGQRAiSYSxazAAmWJtcnQCECfh/Ddg/DTg9Guxu904d33gfNQgR9XkwOD8OO8HUNLj+eGPIfQiF8Hg8Gmxu9zY3J6cHs8GD1BT9ldzlBNOZnBiiAzenGYBtHb/dgdrgxuXxETrqFAkEcTjdGh4dhuxuD3cOYP3TTD9oJro0QIMGSRQiQYC4RAiSINWb1IlSBYJ6Z9zVAAsEcIgRIsGQRAiSYS4QACWINIUCCWEIIkGAxIQRIsGQRAiSYS4QACWINIUCCWEIIkGAxIQRIsGQRAiSYS4QACWINIUCCWEIIkGAxIQRIsGQRAiSYS4QACWINIUCCWEIIkGAxIQRIsGQRAiSYS4QACWINIUCCWEIIkGAxIQRIsGQRAiSYS4QACWINIUCCWEIIkGAxMSsBstlsf5VMCQRzgdFoxGKxLHQ2BEsEp9MpGndBTKHVanG5xLvnBbGB3W5Hr9cvdDYEguvCZrNdnwAZDAb0ej1jY2MiibQokkajEWVWpDlLJpOJwcHBBc+HSCJNJrVajclkWvB8iCTS2NgYBoNB1JEiLZqk1+ujCntUARoYGGBoaEgkkRZFGhgYYHBwcMHzIdLSSBqNRtSBIsVU6u/vR6PRLHg+RBJpaEjUkSItrjQwMIDBYPh0AZocSRcIFgsGg0GEwAnmDIfDIdYACWIKrVaL0+lc6GwIBMDMIUUCQSwyNhZ9zZrYBEGw6BGbIAjmErEJgiDWEJsgCGKJmTqUAkEsInaBEyxZhAAJ5hIhQIJYQwiQIJYQAiRYTAgBEixZhAAJ5hIhQIJYQwiQIJYQAiRYTAgBEixZhAAJ5hIhQIJYQwiQIJYQAiRYTAgBEixZhAAJ5hIhQIJYQwiQIJYQAiRYTAgBEixZhAAJ5hIhQIJYQwiQIJYQAiRYTAgBEixZhAAJ5hIhQIJYQwiQIJYQAiRYTAgBEixZhAAJ5hIhQIJYQwiQIJYQAiRYTAgBEixZhAAJ5hIhQIJYQwiQIJYQAiRYTAgBEixZhAAJ5hIhQIJYQwiQIJYQAiRYTAgBEixZhAAJ5pJ5FyCbmUuKfjIGHATm7yqCJYQQIEEsIQRIsJhYQAEKYbNZyCzv5rDcQE8gSGgOz34FP5ohI0WtJrSR/x3049bryBh04/DPy4UFC8xnESCjzkCCpJ1NxZ1sKmhja7UWiWWOMygAIOhy09mpJtcYwhtZCbjMZPVY0NhjQwdmK0Ahi4Xy2g42FXSyvUpL4ZDv2h/oU3DXx1n86MIgns+Y1xvCaae1R8uFwavzGfQH6OnQUG/341qIfAlmRAgQgI/RESPpzSbMwSm9iBE9Of02+kTB/auw5AXIPoaiW0euNrLTGMLtdlLRbGAwGCK4YJkTzJYFFSCzWcdf4vL46kflxLt8fEr34MZwGjiUXsbdJ5W0R/6/38Noez0/PdlO2pCP8fm4tmBBuVEB8o8a2H1eyo+2FLPycAUr40r4RUo7x5dwvT4nBLxYzcOU6b14rrsV8DHY3c0zuwt5TxVkPLL/MjbAM/FVbK4dxRADgxSzFqChIU6nlbFyZw7f3FrITwpt1x7kGdEQl9/CzlYLn+3r+jFardT322YhLH70LS28FCfhuVb3VX8JeL1UXCjh4QI1NWK0KKYQAgRB1ygXc4tZfqoPlX/KE6ZpZdVpORtaHIjxq/lnaQuQH019A2sOVPB6R+QQVQiHzcyR4xKebzaj98zPUL5g7lnwEDizUcN7B6tIGZ8Pb/YzJG/ixeNVvNszveH2eiwcOpLHw9JhuubFvgQLyQ3PANXX8OS5Vg4Z5j5PS5rgGN1SKf+Za8V7nR8JuMyk55dyR5IafRQ96C4o5d7kLs4YFn4W6IZD4FxGSiQy7im2EfirtI3jVLY38sSxLq679I8bib8o5aEzSrqn/TFIYKSLB3aVs7NzTAwWxRBCgPwMdPbwysFSNqqJ8ny5uXiumN9kKslxLkT+bi6WtAC5htibWsEjKf30Tf1b0Iutq5pb9irIM7jFLNAiYd4FyDZqpVZpoERppKRnlCadlUG7C60HIIhON8h7h6tIs1upHTBT0m2kRDlCtyt49Sjo+Dj9g0bKVBa6bR4CjNPeawofrxqm0xmY3unyG4lLr+CRcz0oo2XO76NfUsaPz/QgMS98B0swt8xagFx2mtQmLmSW8dsEBa/XmyhVGintHaVtdLJ0hfD6nDT3mijrH6XbBUG7nZYBY7gs9llRR46S+9109Rknyr+Rsn4rmqlFLehBYxylQmmkRGmipHeYyv5h6nRjKK8awg+iHxq+clyPkXK9G9vl2jaEw+GgodeEfGgM9YiVMpWJkh4Tpf22KJ3hIBbrGDVdE/nrHaVG68BodTIGETriQ60bprx74rrdRmrMHuyX/x7A7rJR16LiSFoJ305UkdFpCp9TaabF5p+h0xxksFPJW4ckvD1A9NkRbTO/PFrFhgbrZ5wV+ezcsACNDZFbJOPemQTI76JTY6ak24RsYIwBh2/GmaKAxYKsN1yWSpQmmsx2eiw+xiZGHT0OF539fWzPk3HP3nqSlBP3QWWm2ujBPUPLbG1p5dX4Sp5via6uwcAYR08U8VipgcbrtVvBvDMbAQoEvKgGzZT2jqAY9YPHhUp3pc3ttHjCHbeAD8vIKOXKyXrLRNnU+iPgQqkbRtpvo8c0RqcmXCYlfaO0WaO0pV4HTeqJ9rrPhtnuxDQySmXvKJ3WydHHEAG7hbKI60p6rZiuNWjgMZNZWM6tp5ToZzjE2VDLg/EN7OhckMDSm4rZCFDQ4aBz0Exl3zCy/lEatWMM6Icp6x2mus9Meb+VockK0+WgWW2itGeibHSP0GmbUk8G/ThHR5AozVRpHYwRxGgaRdZjpKTbQJXRzcjlRiSAzWalonuiLu0dptLgRD/iwh0MRal/Q4zIG3gmvpo3O6O1REFc42pe2VHC+m7btcusIGaYRwHyMzxqYEdSBT/YmM2yLXks21jMndszuTu1nr+oAEIY9Bre2VfM++UVrNhXyL9uzGXZhkvcX6Kj3n2lIg1pBjlw8hJfej+X/zxVy8lWOfdszudfP85h2c4y3lWNMzI1C9ouXkmQ8ljpTJ3gAF5DC/fuqeRAt/26R60Fi4NZC9BAO2uOFfD1dzP5H+su8k+b8ln2SQ7Ldsp4vnJ44qAAo2Mqnt2Ry5ffz+I/srScSJPx693ZLPs4h2VxCo51O4AQTped4ppmfrk5Z6L853LLrmKellvo9UXECtt7eO1EHv/wTjb/tr2Q727O5h/+nMT/u6OarQPhQ0LBEJZhDe8dL+U/thewfFcxy3fk861jbRzudGHxhfPW09PNqo0XWLYhmwdOFPPVbfnh624q5cP+MUYjQkRcdj3Hc6X88ON8lu8qZPmecv5zWzlrE2u4BASBEAFGLd28ckzC97YUsHx3Mcu35vDjpE6ODXgYCwK46exr5aGPs/nSugz+67ocvrYln2Wb81i2pZiXWm1oov7gdkpqanlwn4Kyme8iHx+VsCZfTccCj1HcsABZh8i5lgDZ+liXWMKy9Vl8/v0iXigfirIGKIjXZuFimoQ7dhWyfEcRy3fm8/OTEn6Y0Ed6b7gTaeoZ4N24C/zv9Rf4u3cu8pWt+SzbnMOybcXck2dG7552YsBDQXENj51s4NxMMXOhADpJGbed6uC8dqFVVDDJbATIPT7MjpNFfPvDDD53pIP0glr+dCyPZRtyWLZFyrp6c7gNdJgpLyjhq1uKWL6riOXbiviPPVK2q8cY9k/UWk41W5IL+Kd3i/j3HSX8Yl8Oyzbm8LVPSrg7rR+jZ3JAIwReJyqZjJ/tyQ3XkVsr2JRRxlPHLvH5j6t4v94CBBm3mSjKlfCtXUUs31nE8h2FLN9exvrOYbS+6GuEA4Nq9p8u4Vfl1/gNHCrWHi/jRYmeMdExnVdmI0Ce7i7ejcvgf7ydzt9tquRPSQ0czizkyxsy+ZvXLvK9fXLSxwPh+97dwMOHCvjWliKW7y5i+cZCHstXUmX3XWlHvQ5UVZUs25jN5z8o5t32Hl4+VcbyjTks25jNXTl6Ku0AIexjQyTmlfKdrYXhcrZXwrcOVvLkUQUKpy/KDM44WdkyHjvbQuYMHh30eslJyuP+HD11dlHQFgPzJ0C+Pl4/lM+dKRqKRnzYPT7sTj0ns/L5tzgFOyZ6RCOmAf60IZOvbJdxeHgci9uH3dDKbw7L2N40eqUgBoN4vFZK5NXc8mIayw5Vs03rCx/v8Ue1dmdTI2uOy3ipYaaRnxABXy9Pb8vlMekwPdf/7QSLgFkLUDCAy+tHU1HFi1md7NP4sU+Ur/EIcQiFgrgcTmrS8/jS+ov8rwOtFGucE8cG8AZDELCSL63g1t11bFBOlH+3G42pk6f3lPCMYoyhyQW7NhXbJEoSOty4nOP0Klp4Oq6Qn+fpL6+lcdvGOB6fy8qLQ1zot9Cos9Kos5CUIuH7u6r5uMNDCAgGgwz1DPDC5nS+daqDRo8fu3scbW0l3zzZRoXxiuZ3SBW8malgm8pCo85Co7KXvSdz+cqhZkomjvE69aw7kM9vCtVc0E5cV2tkV1Ihy/cr2DkYAEIEggGcFhOVJVJuu2hiwB7x2wVmWBjqN5NaUM7tJzpRz3hTnJw5V8gdZ7pJXuAN/eZNgEJB3F4/dreODanVvJOrYVq0TmicQVUz9x1vIrdrmEatlUadlveO5fOtw+2k6YITpwri9li4KFfwh2PttHuu3AenL8TUNeLhD40Qn1nB7053IJ/xSwShrYYf7CxnU8fY7H8DwbwwGwEKhUJ4PB7G6qV8e+MFvvCxjCPdlsvlwz1ZOD1jDPQqOdhioUFnpVFroqymih/uryPTMDGXGwri8enZlZTPFzbUsKl9HLvbx2BXHx8dL+GFdsJreoM+hmtl/PBgLccH7OFrDXTxelwa/21jDR80ucPX9VsoLK3gh/vqyBi0TtRvo9Q3VPPDjwp4vnkUY5Syq+9U8vZRCS90Xuub6/nkRD4rz6mQCHefV2YVAhcM4tZ08WFaLU9UjOEIBPG4RiiolHH7uX6GHH58k/d8uI+kZj2XVBNtUF8HL5wq5ffZg1wp/SGCfj9D5kGe35zJ//w4h/vLrLTZfNjdPhy+IOFm3IesqpU3z9ZxQjvR9nVr2Hssm2VHW6h2RhlpC5nYd66cVSk9tMz0ffw+2nOK+fKBRnJ1YrZxMTA/AhQKQkcN9yd3k6iO7PqE8Pt9WN2BiYIdRKdT80aclCNGV0RBHuTP8TXEKUambIzgpKK1kdWHW5A7fEQdzIygXybnoX1SXmueaYFPCL+/j2e35fCb8mGuWYcKFh03ugZovLaWN3N6iB++xkF+L915JTxcZEQyEpjewTeoSC5v5OU2/5Ry6kbXLeeOM50oTBMyEgrgCYbw+wP0KTr4/b4SnpCYuFIP+xmxdPLrM70inwAAIABJREFUDzL5/Ie5LNtWwDcm0tc/usDnPijl7Xrz5RCx0T4du06XsV47eYIAbk0Dt8W3I4uomIMODfszSvjyhtzw+TZm8bXdZTwld0/M7PhxDCpY8VEW//hhTsR18/nyh5l8blMl78gjOsNeK+1SGT/Nt0SE5V0D+xBnUgv55qmuGWaIAFwkphRy66kuEq91P/4KzJsAXcbMnou1fJAXRYAI4XM6OH2mkH/fmss3thTwja15/K/1EtbJTVh9kSd2Ut7WxNPxXTOGBV2FX8fOhCJ+mtBJ04wHBaG9huU7ytjQLl6HECvMfg1QWGTvPt/DuT4P09drh/D7RimvrORbG/O5ZWsB39iWxy2fXOJvN1aRZYwMZjWzJ6uaNy8NMjJ5Hr2WlNRSnmqFABAad5OVWMwLDaMR6yaCjNTXs+pEHe+3T9RRRj0nj2XwN+9ls2zrlfrtlk8u8bn3svhJ0Qgt0xr8AG1NzTy8p5RXpi9ci8DA1hN5/CRJSYEQoHll9muAPBSXNvN2VhctgEtr4NA5KVt0kTN+QdxDbaw5WsjXNuRNlI1L/ON7+TySEylAYZw2Ax/EVbBHbWWmyWr/qI6k9EK+timfb2zL5xsf57BsSxHPtTkwRQuB86j58Fgh96UqZ+4n+n105hbzxX1ycrRCgBYD8ydArdXcl9ZLlj56ix+aEKAh3SDvHq4myx9Z4DW8dbqOY02jU96H4UDS3MQzp3umh7tFwXEdM0D+iRmgRyvEDNBS40YFyFFbwxvZPZwwX+Mgr4eO3BL+WO2kL1polr6HcxUtvDNttaQfp6aRO061U2+MDLr0Ul5Rx8q91fy5xsbIhLOHR6y86Ec7WLWnhsSeEZRmB8rhcOoddaAyOzE4r8RDm5Va9p6VstsScU1tE3ed6aTecGUtUyjkx+pw0Wu2h89nNnOxvpZf7a3lgDn8OZu6gTuONZHWMXrVdftGHCiHnQw5I1oY1ygNZVLuyBvFevm/Q3j94VmxaTWBb2IGKL6TwRl/aCdnkgu543Q3ydfz0M8jNyxANj35xTLuK7F/yoEmdl2o5cN8bdRtsEPBEE6bk75h++V70VQkY+Wxeg51R8au2SlqbuSPJ7qIzK3fH8ATiHIfQiOcyKzgt9c5A7RRzADFDLMXoACh1hruu6BBFnVbNAfl9QoePywnaeJZV5qt1Pe38tD+evL0kQJkYmdWHRuLh66sz9NrycisYG1H+J+hcTdpp4t5vX1KGOxgG2+mNfBGU7g+Cmo1JKZIeFhmp2P4Sj2jGnHSP2yjz+7HFWVQZahDyVtHJLz4KTNAm0/kc9c5FSVCgOaVG9kEwaNTsS+7gddrhqhUKHgwuQ9r8EoIpd+v5u2D5bwv1yGfaKt6jGrWp1XzygX1NAGyWfV8cFDGOefMaykJ+nE4nPROtmnmYcprqrlzXx1JY97pyyFCRvYmlbEqpYfWmc7p99GRU8yX48QM0GJh/kLg3Eqeiyvm8VITnRGl0NTVy7tnqnir0QOEGNKpeetAuLBeKTKDvHayhkMNU2eA7BQ1NfLkNUNmItB28kqClFVlM22AGcRrbOW+PVL2ddsW5t0bgnnjRgXIWl3Nny92c8R4jYPcblqzi1klHaM12gp//zDnK+U8l66+StZ9znFy0kp5QTFC/+VRew95RVU8cKKBjzqcmP2Ay0xpVRNra8LriXwuK7mppTxWYkYf+VAE9ezPa2RLrflypW3s0bDzTDlbTEwMIPiwDTZy56kOqocmS/kwJ7LkbKzUEzmx0q/s4tm9lSR6QkCIgHOMY4kSXqmxoYlsTWwa9hU28q48ok6YEKDbc0YY9gGEQNnE7+KkrOuxMr3bbKe4ppYH9jVQMeMPbWDTMQlP56lpX8xrgAorubvo02aAjGzPrOH9aCFwDjvVhVX8scKKLfIcPfU8mNjE1s7IJttOUVMDTxyfrCeDOBwqXjtcypMyB4PTJsQ95BXV8NjJRlJm2uItFERfWsZtJ9tJFmuAYoZZC1DQj6+5ipXpAxQZoxhFwMzZ/HLuONbJ5W5B0Ed+ZhFf2yIjzRA5DWNkW0YN6/K0l8trUKchJa2MNW2TIXBehmQVLD/bhdQ8WfBGOXexiK9srmV9x8T/+WxUKup57FgHdVOy1Cyp5R2ZGUWU9WkBtZp9p0t4oOIaW7w5e3nueBkvlAxhFUsz5pUb2gUu6KKiroPfbMzn0XQZ69SR9UsAr7GJn26v5EjflXs82tHBbzZn8+ClqTNAIUZHh3gvTkr86Pg0OQLAZ+R0sYLXJfqIyI0Aw6Y2HtxRS8HkZiBXMU5GdiWPnW3lwgyLxYNeL3nn8rk3W0+tWAO0KJjHTRC8DGg7efFECd/elB9ePL09n2/slvHHfD1NliBmo5Y392XzP/6cxr/sk7FF48WGkbjkIj7/aipfeK+EdS0juBinWqHg/k9y+MrHWfztXy7yzd1FLN9WzG1HGsia6R1CPgN70yt4+JyS3mh/D/hQl5Xz49M9lJjELnBLjVkLkLqTl04V8533M/j/1l3kC1vDZXb5sQY2tk2Ig8tJXX45t+4qYNl7afy39fks21nE8h0F/CilL6JTEWBY38/hhDy+ub0ovGnBzgK+t1PCijMq6m3By8LiaGvhkQ1J/B+vXeQre0pZsbeY5Zuz+OePC7izcEIbQiHcJhObjxfzo+35LN9ZHF4M+nEeD+V0UTzsJkgQlUrF01sv8o+vp/BPB+vY2OPFrGnn8T0X+L9fz+LrexVc0LsBE9tO5fL3L2ewbHdx+Pnclsd3D1bxUq3jKlmxGft4/Xgpy7fmh7/HrkKWby5k1aUe6kYiWoOgD526h0d35PO97QXhhcw7y3i/UkOLzRvlGQ2i7lDyxsFS3lXPsAucroVfHa1ig8IyP+8JmwWzEiC/ifQSGT/YXMjy7bl86YMM/ubDfL6/PZ8fxEl5tcU3sSDbSVpODSt35LN8Vy7/+H4mf78uh+/uyGf5/mpelk3os32M/FMZ/J/vXOKWbRP3a1cRP9hRxocKE3p35K8XwKpRs+tQNt/cWcTy7QUs31vAwxINRWY/zij93tHmFl6Jr+TF1ui/cjBo40R8EY9K9CjESFHMcN0CFPAw0lzPyv1FfH99Ov/Pe9l8ZWsRy3cWsPxoM4mqCbsIeTH1qPjoUDbf2VnE8h1F/GBfMd8/Uswtb2Xxr59UclDvIhgcYn9GMZ9/I5W/fyOPtTIDffYRMhJz+OJbKfz3rZX8sXIMVygErjHS00q5a2cey7cXsXx7Pr/af5FbTrSyofXKjLTLbSY7v5Tlu4v4/s6JDRh2FvOdI82cUUXu4BWB20R6QTm3nlYx03iVq7GWh+IVbO8QBXe+udFtsF29vbz6cSpfiW+l9aqGIETQY6coq4yVu3L5wfYilm8v5AfHJHxncw5f/HMOD+f2owJGzTo+OFLEd7fm8PdvZvDP2wr57q4ilm+X8GLjKH2T5/Vp2ZuczX95JYtvX277CvjBwXJebrQxMvVdUhP5MNcrWBNfzdtdM+wC5x7ktR0lfNhli7peTRB7zPM22D761HrO1/STIFeTUN/P2Y5RuibqWpfLjqxVQ1qzlpSmIertAby4aOwaIrNRw3m5DpnZjR8/Q0Yj6TUDnGvSkt6q5axcTUKdmnPNRlS+4Az7rvvR1jfywvFq1qmmC47Xa+Xo0Tx+WzFM50L3rgRzzqwFyDZCSZuaxAYtaS1azjeEy2xCi5Ga4Yny4/eh79dwTqEmqVlHRvMgSQo1CfUDnO0aQ+2MqPlCXsz6IRLr1eHyLx8goUFLnt4/EQIaxjs8gqxTS1azhpSGyWPVJLebUUxp9S2aITIa+i8fk1A7hGLsSifCarVS0qTmfJOGtFY9NZYALvsI+S06spo1nGsxoXL6AR+DejPZisHwsyRXk1DXT3KHmbZpsfZB1ANDpMv7I76HgRbL9IfGH/DQ3qUhST4QPrZ99Mr6gCgEnGZS8yTckazBGEWBVIWl3HOuk9P6hR+gmJUABV30DOpIqB0gQaEhuVlHZvNguDw1aik1BydmnH309A2RWt9PgnyQ1BYdac2a8HENQ0h0E1MyAT8jOiM5rRH3S64moXkY9XiU38bnxaCeqCfrB0hqNtJ+rTrOZeD4BSkPJvSimv5lCFi6eXBXOds7xmbxclXBfHPdAhQK4DYbSG1Uk9CgJbNFw7mGiWe5xUSHNaJw+H3oBybLjprEJg05Oit1nUOky4docvoJhRw0KnWkNmpIVWgp0TkZ87pRKjWkNGlIb9GRr/NcCY0bMZPXPEBCvZqEei3Vinqev9DCm1ftqR7C7xrhkiKifMvVZGpm3r4dfPR1dPPSwTI2a6K9B8hDbnIxv85Qculmfl3SX4kbfg+Qe5zeAQOlGhdRa3rLMMUt6onyM8D53mFkgyMUyjXk9I1hBdwuB7JmNYmKQdLadKQ0qEmUq0moH6TE5L4yqBfyoDOYyGocDP99oi+Z3Gqi+1qT2w4du89X8Mj5gekRSEEvju4avrFHQY7BHf07CGKOBX8R6rzj0HMgtZSVJ1V0RP6/34ulQ85P41tJ0flEo74EueEXoQr+ivhQd3Xxp12FfNAbZPyqMDs1a+NlbKweYSgGoq5uOARuUeBH19zCC/slvDDFgANeL9JLJfw2b4BqRwzcCMFlFu2LUNsUrD2r4MPez/7KyKBzhKzsIr5/up/eqaP32jZ+f6qe9U3261o3LPhsLOkXoeJnoE7B0wcqeLPranF32swcO1HCM40mhjyfvUwL/josfQHCx4BWT06T8eqF1gEf4zoNyf1u7KJNX5IIAVocBJzjtLX1c0EfwhvZf3EZOd85woAtNsbTlrYAAQ4bTZ2DpA1cHeQe9AfobFVTPeaPsjudYCFZHAIUAo2SdZm1/P50Db8/U8VdB2t4q9xI20xrzmaFj+FhPecaDBinTgGZdWT1jqEUBfevwtIWIMBmpbZDS5Ymcjo9hNvtQKIYoj8wUzSSIBa5CQRIcLMiBEgwlyx5ARIsOhaNAA31sz2/kRdTG3gxTc6fK420fNqmiIJFx5IXIMGSQgiQYMkiBEgwlwgBEsQai0OABDcLQoAEiwkhQIIlixAgwVwiBEgQawgBEsQSQoAEiwkhQIIlixAgwVwiBEgQawgBEsQSQoAEiwkhQIIlixAgwVwiBEgQawgBEsQSQoAEiwkhQIIlixAgwVwiBEgQawgBEsQSQoAEiwkhQIIlixAgwVwiBEgQawgBEsQSQoAEiwkhQIIlixAgwVwiBEgQawgBEsQSQoAEiwkhQIIlixAgwVwiBEgQawgBEsQSQoAEi4lZC1AoFBJJpEWRJgVoofMh0tJIkwK00PkQSaTJNClAC50PkUQKhUKXBWih8yGSSNeTrluAjEYj/f39aLVakURaFGlgYAC1Wr3g+RBpaaTBwUFRB4oUU6m/v5/BwcEFz4dIImm1WtRqtagjRVo0qb+/H4PB8OkCZDAYMBqNOJ1OkURaFEmn04kyK9KcpeHhYTQazYLnQySRJtPg4CAjIyMLng+RRHI6nZjNZlFHirRoktFoRK/XX18I3NjY2LQDBYJYxWg0YrFYFjobgiWCw+EQa4AEMYVWq8Xlci10NgQCAGw2W9QOpUAQi8y0Zk1sgiBY9IhNEARzidgEQRBraLViEwRB7CA2QRAsJsQucIIlixAgwVwiBEgQawgBEsQSQoAEiwkhQIIlixAgwVwiBEgQawgBEsQSQoAEiwkhQIIlixAgwVwiBEgQawgBEsQSQoAEiwkhQIIlixAgwVwiBEgQawgBEsQSQoAEiwkhQIIlixAgwVwiBEgQawgBEsQSQoAEiwkhQIIlixAgwVwiBEgQawgBEsQSQoAEiwkhQIIlixAgwVwiBEgQawgBEsQSQoAEiwkhQIIlixAgwVwiBEgQawgBEsQSQoAEiwkhQIIlixAgwVwiBEgQawgBEsQSQoAEiwkhQIIlixAgwVwiBEgQawgBEsQS8y9AIYKhEMHQPF5CcNMgBEiwZBECJJhLhAAJYg0hQIJYYt4FSNfNq2dr+KBhhOD8XUVwk7DwAuRyUV8g5fY9hfzHnnJ+XWii13kz632Q/v5e1u4u5qHUbmrm6zJeA4l5FazYJ2dLy9g1D20qrePdqmEUroj/9Jk5X9fBJ7WxK8VCgOYJn4HDhU1sqTHhifhvm9FCRl4jiRbwLljm5o/ZClBIq+HI2SL+fVshPz6m4P1G16d/6K+Iq6ODN08U8u/bCliR0MnJPv+cnj/o8yErrOFduR1VZEFxD3GwsouDTfY5vd7NyJIWoGAQfZ2C5wuHqLdE9gm8yGp7OFShpnfBMieIxrwLkErO7ZtyeLBET2AOT+sds5OdW8OH7T4skWZl7+fDYiWX+sbn8GqCWGHhBcjnQ9+v4WytksPJ+fxr4gCy4aUsQCECQQOHCpRIh1xRRjFCjI2NcDRdxn17qskKwbz8GkEn7V0N/PJQOavyjDMdBGP9PL23iLdqhzH4Iv/kokKq4I/xChJN85HBz87CC1CA3j4t8SUqmubidEE/nt4uPqg20267VqnwoNL3s7tAjW4eYgV0ijoeja/lnTbnVY2Q12EhL7+Uu1L7UHrnsnmKDWY9A2S309jez+kSOS+dlHB7/lhMhW74hocpbe7ndG4FPz9ewzN17jk8ux+HvodHdpbwSYcdS2Rx8Du4kFfDE2fbyBTjE5+JpStAQbz+ITbtzuepKiPKq4pmAG1HG68lVPJ847UH7wR/XeZdgFw26vvMNI145rBf5Ka3s4Vf7CznuM6H+yrXHuNochlrLg1QsRQfs5uchRegSNqruTtzEOmSFiCAfp6OqyGtf+YR4YG+Xt45Xk/+vObDQFxhPc/kRzeYkD9Ac0kJP0nuo2R0+uiwX9PLJwkSVpbHZiO08AIEXS2dvHKsjoo5OVsImitZkaal/pqD5146Bpp4JK6FOQ/Y8pnYnlDGmtwBlL6pf/SjHmjnge1lHDT4WGpjZjccAuc1Iy2r4p5iG4FYrNosKnZlK3h2DgUoMO6iLKeI29N1tLqmy7BH2cZLp8tZVSt6FZ+FJStAPi9qeSW3Hmojf9g/faDQb+ToxXLuOtmDeiHyJ4jKYtwEwT06TFJ6IStzRhkJTa+gnY01/OJUPes753KASBALzLMAhWhv6uTNs1WsPlvL6oQWPilqJ1WpI3d4yqEBL44GGT/LGKQymgC5LFTWNPFUQi2rk2pZfbqOl3L76Yp2Wd0ghy/VsjqhltUJNbxR0MaBVjP5fZFxGCFwaNmWJefxMzWsPlvL44UqDko19I+Mo9MZ2J9RzRt57ewpaePxpEY2SDXo+rt4PqWOx8+3kWzy4Yw4o6qrlw+Tqlh9to7VCVU8ntXNGc2V7xL0+qguV/Ds2SK+/mEutx2W8Yek8LGrcwfI0092FAK0dfTyQXwVaeY+/pJSx+ozNaxOaSXJ7J/esbSNkFNUN/F9q3k8o40DvdM7HfrWLt5PqWJ1Yi2rT7eQ1N7K+9IGXogqQEE8HiMf7Srk1WYbmmgBt95hUgoruetEF4PR7sMCcyMCNNrdy6bUKlafruIpyRBZbcPk5VXxdHYPyYbJo0JYWtp4MaU2/FuerWV1eg/V1iuSGDIZyciv5v59hdzycR53JdWx+mwNq5PqWVMyhMkd8YOODnGySM6TZybK9kkFn9SbGLl8QACHS8fu1FpW7b3EP20p5e6Tk89BLR82mumeuN12g5nECxXcf6iAL39UwK8Sa1mdGL7uK7IRtJcLjw9Fcw9vJMh4pkSPfMiGprWFxxNqWJ1Qz59LNGij9Na9PXIeOlbLR03RO13joyaOxRfwYKUN09xGVC04NyxA1iFyimTcey0BGhrkwMWaiWe4iiey+7gYbWLWqWFrZn24Pjhby+NFvRwp7qVWayX8FAcZ0mrZmVYbrocSa1h9vomN7ddovIe62HhBwXP1Mx/j6urkL6kTdWpiLR9JezjYaqHBEO0mBxkdGeTN7UW81+fBEu07e4bYk1HBQ8l96GfOmeBTmI0AeT1jJOfKeTK5gXcUdjxGHQnFclafrmb12RZOdFkJj2kEsFo1fHK2Jly/JdawOqWRfQNcnvHta+7h/ZRq3m0ZIaddx+7zVeHjzjbyUd1wxOh8iEDAyLFLcv54Vs5mpQ/joIHE3Nrwdc+3c7xr+miOxzHKieN5PFAxSl/UeFoviupG1h6t4Yhldr+ZYP6YrQAFTUbSi+pZk1jL6qQ6/pgi5/nURt7OU1HrD10RX7uWuFw5q0/V8mx6Fxc1zqtmgMZHx0i9VMXa/G5ODTrIKGjg2cnym6miwTFTRIKPXmUXa3eWsmOY6GF1zj5eOlHOC8VDiKK2tJhHAbIhqW7ksaM1/DahjrWpCtaek/HLLWf5h90VPNc95fBPEyCLjhxJDY+ktrEuv4112Q28fr6Sl6uHGPBEFFuXkeMXa3kpSc66nDbW5TTz6rkivrFDym8KJyvaEK5xCxnZlay51MTbOa2sy2vjjaRyvv1+Ph/XmdDrjRw7nce33z3PF3dJWX22lkd25bPmTAkPJ9fwp4N5rJSYaR8P53W4r4/NmXL+mNrCurw21uW08HpqA0+ldJCiDjcrQZ+Pelkzr6VK+MZH+dx1ooZn0xSsPV/H2qJBio2Tj3sQpUrFnzZdYOWpYn6R3sDalHrWxBdwZ4aKMsuVFsGp0XEguZzfHqlg7XkFa8/X82RCDb863sixPm+4kgjBQGsPzx6R8tiZuvBxCRU8eTqbrx+s5FmJOcr98zM20sIvt8s4qXUwbbAfAA819XJ+u0vGvqlCGwPMVoAM3X28fqKS38XXsja5jlWn5dz7cQ7f3ZDFiku9ZJiAgAfrgIq3EmS8damFdblt4ft9rpK1OV0U68OGERo2k11Sz28PFvOdTfn8Ik3B2lQ5a9MaebXCwHCkAGm72Jpdz58yJsp2Vi1r0+rY1DJCuMQGcbr0HLogZ82BHP55ezkPJCpYm6Zg7TkFW1pGUE2czmEa4XxeFb85XsjXNxTx6PmJ66Y38k6thaHLfVwfzW0qPojP49ub8/jRtgpeOFPK6hQ5a8838l65jqEo8Vp9hRX8NqmD4zO1ceN2mvOK+bcTXcjtSysMbr4EyNjdy3vxEh6Nr2JtioK1KXU8dqyK353rIm1o4saGfNgHVXyYVMz9yfWsSZGzNlXB40eL+NLaVB6V9BOuUoM09vTx9pmKcLnMbeWdC838KbGJMwNexqLdkmsKUADnsJqPzlbxRmZTuLznNvBsfB5f2NXIxuZovVMP6oEG7t5Wy8Uxzwyx+uPklVTx0MF6TsXuMsKYZ3YCZCOjqIEX92fxXzeVsmp/CU8lV7H2XD1rU9tJ7BnDD5iMOk4UyFiV2nqlDOXUsSqlg6N9XoYDMNCuYv3+TL68NYcvH5Lz6Ok61p6XszZRxh9OVPBmvZlwXECIQMBMQn4Tqzen84WdUn6+T8baM7LwdbO6SFBOzX8Qi62PZ7ZJ2DTgYqYa3NWt5J2jxfymUqwlixVmK0AueROvxGXz/YQGXspqYc2ZQj733Fn+Z3wv1ZEC5BjieHETa89J+MaGIl4r11+1ztRtsXEhq5x7NqXx+TgZdxxt4Jnz4Tpy7bFifpfVSbExWv1mQ9ZQw8o9jdRGmf2Z+FacPCfhobOd5DlnOESwKJknAQrBaCuP7Jfwh9IxrpzeSUNzCy/n9pM7tVb7NAEKjtLU0cGfc5UcqFRxQNbO+0mFfGFLHaW2iO65U8c7Z6tZm9w8cVwXr54uZcUBOQnaydHKEE77MGdOl/BEUQc7pSoOVKrYdjSfHx9XcGBwIjRN28+240U8UDkGITuVGfn8y6kBRkJB6K7hJ2mDVI6EABfp5/L5t02l/DavlwMyFQdkvWxNk/G9N1L4whk15qu+0iCvHpeTPTjTiGsQlaqbRzfk8EDOZMcGcHXy4G4ZJ5X2idEPFzlF9fzqkJwzgxG/gcdJ1kUpd59R0e4P4A5a2RlfxtoiI5rLvREbZVWVfG9zGU+VRhGgoBdLaxXf3VNDsm6mUL0grU0NPLRLwnPtMxyygMxOgOwcPlnMw1lqJgfLQ3ot7+xJ5+vHW0ifKDoBp5Xc5Iv8l48r+KBYOXGvVRxIL+C/v3yeFXlaBiPcprdTyXtnGqm91qXdWs5Xd/JOwcT5pApWxeWxPL5zeghbRw33XRqi+Zrr6X0oNW08fbyDmVZ3XfnaA+xLyuNftteztenTnm8vWanF/DxZSepMQ2E+B6oKCf97Zy05Fs8MBy1O5keA7Bw9V8GDZ7uoifz5zXq2JZTz8AUtQ4DPaaMsLY/vn+5EEjkbq+lnZ2YTe5VWJj9uNI6QnFczUf/1sqewmYe3ZvGzcheaaCMZ1xQgP3ZDL384LOOD3M7Lde9je4u4L7kb6WiUujrgRFkj5Zb9Ckqt0YdOIIBMWs09e2W8I1ay3zA3FALXXctte4u5/WQXldYpehpyUVEh41vvXeLu/Ctt2R6JnP98O5G/OdxL1eRn2pp47JMMvpOuo+HyRKCb/joFvzsu54IjSOT84LhMys/3FnJHSh81UacFJ/Fi1DRyz8cVHDC5mLGqG+jjnUN5/DBTO7vvL5g3ZitA7kED1b2j4c0svMOcyq5jdWoXKTOuKzazI72OzRI902ort52SxAt8bnsV2yLjIq2DrDtRzpt1RnRTI1k8wxQUlPKto230zDg97yYzq4Rbj7RwwDDDIYJFyfwIUCgIDZXcfUGDZOTTDwc+RYC8DOp62ZFaxq2Hyrn3qJT7jpVx99FivrOngWrH1WEYzp5e1ieWcu9hKfceLecXu8t4JLmVAsOUqtSo5IXESu47XMG9Ryu4P66A+9O7OGsaxwH4u7s4kFnPe1rAPUqrVMZPC224xr34mqr4aaaG6lEALX85WcKPPynhdyel3Hs0nO4/LuORxCbWy3QYL3+lIL5AH2uP1HGuxzbD6GiAtvYe3oqXU8aVz3kCfazQk7mCAAAgAElEQVQ9XEdar31iZETLusJ24munj4ANm4f4YK+URPc45qCS1UkqBk1TOyMGDpfKeTZaCFzQw2hDJbfsriZpyQtQCFDy5FE5Gaqrf8vuhnbeSqjj6MR/u0wWdu3N4gfHZNx3/Mq9vvdEFX9IkLO5bRTl5UrWj6Kxk9dOyimc8drjtLU283JCKXccCJft+0+UcuueEn5xtufq8KCAF2dDFXdlDFIxfK1NQJ3UK5tZfaSVLv+nLDoZ6mLTxQZebrme2ZpxziUXsjJJSdqnCdCuWnIsS2svuLkXoBCg4snUbhoGpv9WLY1dvHW8hgLAbrJw6EQJW81wTa102KiubOOJ/SXceyRcNn9+qIx7d+XyYNU4Q7MWoDCDtY08GV82cc4K7t9VxnMFvbRGu8d+Jz2VZXx1nwLJ9QhQ37W+kOBazFqAgn58zdXcd0FLTbSlm34DyYUlfGFDKb+Pl3LfRP1237FKfn1WzppCDf32cHs7VlvLmrQOjk59JEatyHOkPNcd4PJeLaEQmuIynik1IfvUpRRejH1y7vy4nP0m18xrCQd6eedQHj8SAhQz3NgaoCAjOhXvppZw16k2zlyzzzjEhpRaPimNIkDDJi6llfCbau+0zWZC1XW8V6YmxTblM+PD5OUUs+xoG91CgG465kmAQjCg4Jfxjezp8V69W8e4kxaVgerhqbHjIWir5p6LQzRPmxE3sOd8KQ8k9EbEYAbpbq/n5weaaPZeuYJn1EKT2Xt1J2FMw66TBXwnw3D5s+OOMep0U6tWLW/sL+CxHHV45LxfyYkL9XwwBPgtNFXIuKvYAX4f/uYqfnZRT5sDYJTjqVW8W6xjmkp47MgH7TiuEiAVfzxUT8bA5PVDmPQGCros9Ew81X2qXt6Ll1N+1ckGeOmYnNzLCzksHM1rYptEz9VtWQCDqovVR5sp83qxB/T85VQDuVNmnMZNPTybIOO5smiS4GNM38jdu6o5q3POsOe+D4VCwW92VvCRJuoBC8rsBMjI+mMVfCIf5Urx8yCX1LP6TB3HJgRo3GIhPV3CGoVt2lbP3lEr7SYnwxECVCfv4KV4BVVc+T+laojcARdjfsCv4omdEt6ui8ynlaR8GY+eVXFVfR3w4qiXcmemDsVkJkNOmrqHKNI5uKJuDmp6Gnn0SHvE7Kublm4dxVrP1TtyjSrZldPAy83XF67WllvO75K7ODPTCJ3bQUdxCV892IJ0bGktArphAXKbKC+r5pflU+ubEGBifVID5zrsXP1rjVMha+KJc120Am6rlYykAn4nG5kyqxdgcNCIdNCBGRhvbuHlI2WsjVwc6TJyJqGIVfW+6DHsI0p25jTyarQyEAxgNY3QOLXq72vigf1lPFU1tUcB4KZfWc8du+opGPPOsFuTl5LSKn4ZV8OeT52mFMzEDc0Addbyi4szCZCF7EoFv09RTp99Djmo1dkvr1+01dXyzGk5H/VeXRMGzBqOnCnng54AkW+0sJWX83yZicpPFaAAI2NK/riljJ1aFzNtseNXqXj3SCH3FF/vKKtgvpm9AHkZGlKxMVnCwzn9yAEIMaIfQTkejBJ6b2Jbej27K6dHrYRGzWQnF3J//ggDV/3FhyJXyqt5akqmFqbQGOV1VdwZ10zzjCFwDpJSS7jvVDspIlx3STGPa4AM7EuW8GBqB3Htegq6DRR06knIa+DhQ1W82+wGAjjtFiq6DRR0aMi6WMTXjzSzvVZPQaceqcHNiB/wmTiTLePhU41kdhsp6jb8/+y9d3Cb152wmzuzd757Z+6d/W52v2xJdjcbORspyZfiTewUy47tJDbtuCZx773EvVu2eu+NonqhRFVSEhsAkiBBgL0XgB0kwQoQRCF6x3P/INhBWVKoEKTOM3NmbPEQ7+H7HvzOeU57yazU8vKm8/zDMgWbao3o/CFCgCEnl5u2FfB6Xh/ZLQayW/Rkl9WzJrWc96tHIq8HnbqQ767IY0VpdySfgewmDa+cqiKh2oTH7qAmt5gX43O4r8CCpn+A6hw5NyS2k6NzYC9X8tODdWyqGcLkDeNtUPN2Yhl/yekhuznyeZpWNqcqeSBFi260UxwiEOplxcECVuRqkTbpkTU08eGJLG492sypwTBOp41zWWXcuy6XFVoLbb4w/pCDqpYqbl+Ty8c5OhqdfvxAR0U9X1wo47PqyD1u1iOrbmHfxQKeKbbjDgOhEMVZKl6RtbJXE8nT1M2Wc3n848fp/OJEC+UG16RgE8Ll1vHOBjlfNtkZiBYbQlZS84qI21NH9RXUjL8VV7oHqCaviCfPNLC2oh9Zkx5ZeT2vbE7mWweqODrax/DQ11HPM3sL2VrdO/asmzr46EgBr+b2UDbakw3S1NjC0sMqVjYN1//UGg1P7FJwT5oerQtwdfLJ4XzeSG9G1mQgu0nP2bxqbv/yHN/ZVk6Kzsbo9qqQH3dTFfcmqtlSEimjqpRHt2XzjLKXMQd109jewBu7i9nfMHzdjPoKHtoh5zGFlWYv4HGg0RmQqUp5fL+C2y90DX9ei5GSqGulh3FUl/LAwQrWNUSfhwhYTZw7IePOLBO982sF3JUJUNhDt2GQrAY9sgo1SxOzWXS8HUljP1mtRqqsIUbGbWrySngzU82W+nHf4ZJall8o58O6yE0MuumpKiduj4q1VT3Dz6pZj6xRzcv7c3lC1kMNYG1qZslxJU/l6ofrZXM3SVI531uWwqIzXSR3e3AGgaCThu4BZA16ZIWlPLY/nzsvdCFr7Ce73ULTyFp3j4ui0+n8R3wtuyr1YzFVVcrrqQ0kaKNJboABYxsvrctjU5+XqDs0gkb2X1Tx8LGm6AfZCC6LyxagcBCf1YyiuZeMtBwW7q1hVXEkhmitdNrHnqO1q5edp/N5PFtP1mh86yVdks+tZ5ooGhgWHmdlJY+uSOZHSfUcaRypjx3sUpXz9Kn24UNUwiEcRhPK5n4SEyXcmqhmeYUeWVM/sg4bHdO8889lH2BjvJSnyofGLdseT5Dmijre2l/IGvFu4pjhygQohGmghdc2nefftpYQ3zaAvMXAeWUjr22T8m6nPxI7/HT2GMlt6kfWrOaR3bk8nqQhrakfWauJOnNEwIfMpB6+yLfW5PJubR+SkRjZVMeTidUcaxyKMhjjQdNUx5MbVRxyEH2g19/N54cVvCLpQsw1zi+u8SlwBvYkK7lxWQYL10tZuDqdhQnVrG8YGRV009lUyZ0bpSxcK2XhBhmLNshYFMn7e6meokhsD/d0s+eYhEVrpCxcI+GHu/OIu1jFExuy+NmWEo5avfgBe0U1z+zMZOEa6fA112WycG0eL8t7xzXEPgY7a7l/q2xcPikLV8l4umiAVmCoqY33d6axaFUGi+Ir+LLIQFuhih9tU/Cg1EBfdQUP7JaxaF/DaIPQUanhpW1pw3/LeikLl8u462QDRVO+dWEMJeX8aXuknCskPJTTTbEfwgTRatt4ZWsGi1Zm8tOEcvaYAti8XXyWkMMPVmayaLWSddqhyJr/ISQFpSweucfrJCxcm8PdZ1vpnHDdXtYey+PHKzKH862RcG9SCU8lFbNolZxnsrqZ/HRDPj/ylCzi0vootkd5Y9FAJ1tP53GrJNohCrPPlZ8C5yIls4TfrE1n4VoJC7eWcP+OfN5LrWDv+JGjkA9LTSm3bpUOP791UhauzuD3Uj3Fk/sibgslufksWjucZ9HWPF6p8jF+AtRRV88b8ZksWi1l4epMfnq0kD+dK+MPy6TckahGNf7SISsHTudz89qM4We9sYitasvUpZS2IXIv5PCD9VIWrpbw/c35fNriGtuL1t/Kl4lZLFwlHf7ObYh8Vzbl8yfZJeb5XZ18eDifN+W9mKZUiRB9Pa08t0XOCp0vesd3DnNFAhQwcDpLxaIVEhauj8S1DTIWrslg0VYFr9X4MI8+tElxcl0mC9cqeDWvd+I9DPkYqi3j9m3j6l0kZmlGn4WT8vpq4lZkDv98bQ6/2FHMp6lybtyWzeJUPe0uwNPJipNyFk4on5SFq9L48b4K1nZEPs7vpSFbyS2bJGNxbZ2ERRuL2KKxTPsuDp/DTvIpKfdkm2n1Ts0V6mnig+P5PKwQ5yr9NVy2AAU9mKpLuGXLcN0ZbWfXZbJwdxWHW8bv7g7T29vJW9slw3VonZSF62T8cE8NcvPYqMZQWTkrzir41cFifrY60q6szOTmQ1UcHHmsQT9teYXcsUXCorXj2vc16Sw8qOZAVIEGvB7UObn88lgbBZYo3dKwiSRpAX84oJmZd6wJZoQrEyA/xaW1PLAunYXrZfxgo4zvr5eycFUmP4kvZkt/MDIoa+PQWSW/WJvBwnXjYunaDBZuKeaDkkgbbzahSJFyz5lKFm/K5vsjdXdNNi9Vmplupa1dryf+mIw/FbqxRwlogeZKHjhcwifV8/C4+euca/4eoFAwiNsXwBlJrkBoQmctFBr3c38Qjz+IK/L/7kB4wpr5UDA4+jlOfxBvKEwgEMTtC+IfyRcK4w9MvKbTF8Q3OYaGh/O5JueLfE44FMLrD+KOlMkbDA//WyCIO/LfvkAQlz80VsZwGJ9/4ud5pltXGg7h9Y/l844rXyhybU/k+v4whBn3b74gvlB4tPMRDoXw+L76uoFJf68nGCIQCuHxB/EEQlE6MyF8eg0P7lSxWT2Ea/w9DAdoLK/jjYNFrI7RFzFc7XuAwuEwoXCYECEaitV8fqKUA5NjXziEe8KzDuCZbltOKDR23/3j6urYBfEHghO+I75QGL8/iNsfmiI3E75TUX4+VsTxzzs4cYnVaP0bq+Mj+dyX3DcUpl5RxOOJNWzTBSbUmaDfRlFRAYsPqKmM8u6Xuc6VLYEbjk0j99Q16R57QhNfcBwMXkbMAiCExx89Zo1dOox33M/d/hDBkXgWCEfWx4fwjX/m48rn8k+89misG1++8XEvKj6M7TX8bnsRR3QuJjhQyE+5opwXjlWya269MiTmuJIlcKPxYFI76/QH8Uc58dE/qZ65JsUFd3kpn2Y2s38AQsGxNsgdCE0YSQ8Fh6/lmnLdEP5ptzIGcTm1vLkxlyVqC/oJ4SSMs7uFJSeV/DHaAT6CWeNKl8AFg8N9Km9gYlvlDoyPL+P7akHcgeF4Ndp3GsloGSTvQh4v1oawBobbz5HfmdLmjifspK66jN/srCDLGpjYnoZ8yC7m88S5FpLFS5vnHbH1IlRB7BEKkJmcy/M5ekrHDxL6DRxSVPKGtJ8oA7wxwdUIUNAfwObyYnb5MDsHOJJRzNPHGyiN0b9xVnB0sOR0Ee8o9BM2og71D3LsjIpVuonvx5ovXPUeoOuUoNvJ6aQcXiy00jy+ori7WSep4vN841R5E1wRs/UiVL/XR3ueihfP1rNB62XIH5pmn+hfQciHWpLPfed1FE44bdCHQlnP0tRGCr/qkBfB35TZehFqOBjC3tXN8aQsHi5wonX4px6SMP1v4zQaiT8m5y+1/nEz84BNy1+Sa9hXa5vmVSCCuYwQIMFXEnB7GHAFcU+aARpyezF5YrcBuhoBqlNU8NCGVG5YlckNS1P5xUk1J8x+EfwmEGTI6cHkmjQDFAhic3iYrwsFhABdOT6XG4M7NHGQJOzH5PJhFfbzVzNbAlSXX8GDq8/xj0tS+ecl6dx5vgXZ5fc4Lx+vh36HH/fkGSCXD6s7MPPSJfirmC0BcuiN7Nibyre+OM/Xv8jgu5vz+aLdO2VZ/7SEw7idbgY84SkzQAMu/5TZT8H8QAiQYN5yNQLktNrRdJso7zJTrjPTYPVN/x4KwXWFECBBrDFbAuQcstPQZ6G210p1l5m6QTfRtuoIri9mS4CCPj+9egtVfUPU9Zip6Bmi0xNifp1DKphphAAJ5i1XuwdIIIiGECBBrDFbAiQQRGO2BEgguBqEAAnmLUKABDOJECBBrCEESBBLCAESzCWEAAnmLUKABDOJECBBrCEESBBLCAESzCWEAAnmLUKABDOJECBBrCEESBBLCAESzCWEAAnmLUKABDOJECBBrCEESBBLCAESzCWEAAnmLUKABDOJECBBrCEESBBLCAESzCWEAAnmLUKABDOJECBBrCEESBBLCAESzCWuSICGhob+JoUSCGYCg8GAxWKZ7WII5gkOh0MIkCCm6Onpwel0znYxBAIAbDYb/f39s10MgeCymE7YpwiQXq/HYDDgdDpFEmlOpN7eXlFnRZqxNDg4SHd396yXQySRRlJXVxcmk2nWyyGSSE6nE6PROCrlIokU68lgMEQV9ikCZDAY6OjooKenRySR5kTq7OxEp9PNejlEmh+pq6tLxECRYip1dHTQ1dU16+UQSaSenh50Op2IkSLNmdTR0YFer/9qAerv78disRAOh0USaU6kkT1As10OkeZHstls9Pb2zno5RBJpJPX09GC322e9HCKJFA6HR/dUzHY5RBLpcpLFYhGHIAjmJ+IQBMFMIg5BEMQaPT3iEARB7CAOQRDMJcQpcIJ5ixAgwUwiBEgQawgBEsQSQoAEcwkhQIJ5ixAgwUwiBEgQawgBEsQSQoAEcwkhQIJ5ixAgwUwiBEgQawgBEsQSQoAEcwkhQIJ5ixAgwUwiBEgQawgBEsQSQoAEcwkhQIJ5ixAgwUwiBEgQawgBEsQSQoAEcwkhQIJ5ixAgwUwiBEgQawgBEsQSQoAEcwkhQIJ5ixAgwUwiBEgQawgBEsQSQoAEcwkhQIJ5ixAgwUwiBEgQawgBEsQSQoAEcwkhQIJ5ixAgwUwiBEgQawgBEsQSQoAEc4nrXoDCYS+NbX3k9XowBWa7NIKZRAiQYCYRAiSINYQACWKJ2BCgED6HGblmgEZXANGtE0zHdS9AIb+RTzed4wen+8iP1o64XbS2dXO6uotzDUZKjX6C4Zktg89spa7XhtYz7h/DfgatFor1vpm92HXEtRKgUCBAh7aX5Oouzqr7KRz04wxd3WcZewfIUveiNHqwzVC98rvc1Dd2cbq6i+QmIzVD4RluBDy09pmoNbgIjvtXn8tLR7cJXXDaX5zTzFkBCoYY7BugzBTENb6eBuxU9dvQ2efpA7sOEAJ0bTB0G5Cq+ygY9GKfNlcIr3uI4nYLpsDEBsDUZ6bF4sF2rQsaY8SGAHkZbCpkwQcSPtXZL/H8BF9FyOujq8dI1RCM1fAweKwU9Tqxeq+y4xMjCAEKDnEkpZDXlWbU7igZjAZOn8nmx2tSuWGVhJ+nmRjyz2QJvGRdzOexJA1nTOMLZqe8ppp7jjTQaAfRRblyrpUABVxuUs/l8asNEr635Bw3S8zURKs7l0G1opzbPz3NTRk6CmbIUhz9RnYdlvDjVWn858oMHizzY5nBCuQfaOS1I0peyjPgHffvNr2Rw0ly3qhzYA3P8ChBDDA3BSiEc9DAqngJL1W46B9fx5w6PjpdymeKAQZFgJmTCAG6NpRll7D40zP8WtZD+TTfjXDAQWVhPj/b20CZc2LwrpUX8VqahjPm62v+ITYEyI+tu4EXD1ZyZMCFa5ZLc3X46TM76BnyMXuKEaS7qZW3d+fwaSuMdXtDhE0tPH64nANqO/Y57EDXvQBdDuFwmKB9kPI8FYszTJhmcFLGP9DICwcL+KDQyGSvcugNxB+S8lCxB5vooFwx13IJXDgcJuT305Qp58ncQYqusg8SDocpuFDAOzlacmcwkITDYYImEznJOTxZ7mNgxtphP4oMFU+ebuDk4OSLOqmrKeWWHRXk2gOzGLivDXNRgMJBF/Xlhfxqbz2FtqmVoDGviMeP17C1e749resDIUDXDmWykncUneRHHfAMYe7tZdXeLF6vmzrAFHa08+bBfN6Q911Xs0CxIUDzASNbL5axKmf27mXIY+SsLJ/bE9vomvLTMEXnc7gnpYN089wd7LzmAuRze+getNM26KBt0EW/zcOQz8/EtjiMbchJ+6Ajks+JcSToBP2Yhpx0DnnQ2930Gh102b3YQwEMJgdak4t+T5hQGDxOFzqzE70vhMPtpc80dt0Bz8QGPhwOY7c56Rh00Gn1MOgNEbjUc/SYqVMWcFvm9ALk93rpHb2mHa3Fg/mSs0VBCtIUPHqumdPR+umeISryFHzvcCtdHtFBuVKuRoDCXi99ZjttRjvtNj9D3iAOm4MOqwfT5GcZDtEhy+WZvEGKp+uDhAMYzSP12kG72c3QpHpWmlbEJ/ntSJ0++k122gbttJndDHjHZwwTCvjotzjRjnxPjE4MvtD0ojFkQXVBztMV0wlQGI/HQ5cxUmdNLrqGfDg9PjzRsgNhSzMvH1TxnnJgwuzPyOcN9Hfy3o5s3m/xYJ27cTEqlytAPreXXrODXrsHg82F1uRiwOUn4HOjHXSgtXiwhWD09gR8GKzj4p/RicE91qMKB4NYrA46hzyYA2FsNhedI3nN3onL2iYQxmYwsH2/jGcqvZii5etr4MWjBbyoMolZ5jnIlQhQOBTEZHWiNbnoc4eH21abkzajfbiNdAdG62Q45Kd/cCxuaU0uBibEvyBWuwudyYnO7KTL7kbv9NJjctJpcdFpdtHjDI7FJq+H3nFxsM3kZmhSgxsI+NGbh78fg94wBLz0Why0GSP5/aHxmTFb7aOfp7O4sXr9WPxMjId+L3rLxOuafFG+CCEfvaaxfN3uMMrzBXyqnEaAgjaKi4v4VUIdNd5ogc5NcnI+j55tJO0qVwfMRWZXgMIEgj76TA60gy567D5cofBYnCWM0+Why+Sk3+7BMOQcbmddAQIuF9pBBx1WHx7CEBpua3VWH36/D4vdNVwPjXY6bX6c0S7vcaMbV4c6HIGJg9qhAHaHE63Rhd4VIEAI65ADbaR/3OsO4Qd8Ljc9pnY+OF7AGymt1Ef6k21mNwb336ofGKanoZlP9it4r2Wahry1glv3lbGj0cFcbeqvoQCF8XisHE4p4OYVqSxYncmC5XJ+v0PC05IaVnUM5wqFg+gNXXy4W8b3VmWwYFUmC1ZKeERloC4QJmTqYFNiJt/aKOUnu3K5c0k6Nx9V8X61mgdWpfOfq6X8KnWAbleYmqxCbl1xjp+ntfLuuSruWZPKgpXpLFiRzaPp7ejGBb6g28PFMzn8ZHUq316ayh3ZZuouFaicJqrypxegUMBFhryc365JZ9F6GYvWpPO97cW8WWTDNV3PItzHl3vyeCuvh46oGby0d9bx4LpCjln8UTqcgktxpQIU8gdQSku4e+1FFixL5YaDGt47q+b9TWf4t4RKNnRO+oVAgFZpLk9PI0CBgI8aTSOPrUsfrv8r0vmvzXl80OTCOK4DXJxaxCeKOt6W1fKH1aksWJnGgrUKHpX2MuQfyeXH3l3Lg9uy+N4qKYvWS1m0SsKf8nopn06CLGbyzk8vQAHfICezC7lpaQaL1ktYtEnBL7cVs+R8JVkQ9TMtxUU8eLiaLa3RzT5ssyI7k8WvL/bTMc8a/ssVIG1ZPY+vTeZHm7O4bZec76zM5bHEclJyFXx7RToLNubxsdY7tuero54X9kn5r5VSFm2QsmipjEclbVT5QoQBt8nKnn2pfG+jjPvzdLy9N5cbV6cPx8p1BWxWm3FF3Zjoobm9lj+vL+S4IzhlhhmAsJEdp5Q8eaaFOjHGMue4EgFyu4xsOJjFouWp3HC8g+Liat48KGHB0jQWrFbyWdkAPiAUdFLbXM09qyUsWidl0dpMFm7K5tECO1rPSFwwcuiikoUfXeBfl1xkcUo5r+fUc/+yNP7tixT+eb2CP+VZcYWBkJ+G3ELu3pLBojXS4VizNp8lpXpsoxIUpq+3k79sTuXba7K543w3NQVF3LEtkwXLM1iwqZSjHZHdHKEgHbXNvL4tlUVrpSxaI+OWbTLevFjGq/UhRre0hYJ0FpTx520j181k0Zo8/qLoYXBUpsKEgk6a68u4dUMm31mRwYI1En6c1MGKBAVLirpQRfnihI16Tp7K5rZME45p2ndbeTlPHipjieb62cc7uwLkxzDYxNMbMvnO0jS+tVLJbqN73BI4L3mqSn6zNJUfbZJyx65MFmws4METai6clrFgRQb/tamYRJsXj7WF1xIkfHNFIXtlJbx7IovvLMtkwbILfP9ADZu0ATxjVRe/3Y4qNZeb1mWwYGUmC1am892DTZzr8uMbyWc3kJaew39+ksEvDlVyqKeTt3ZJ+e7KNBaslfJIkZPuILSpynlgQwpf/+Q8/9+SNP5zTSYLVqayYFsx75T/rRb02ZGpSvnTrirk09lNqJsPduXxrqqPrjlqQNdOgMLdrDyUxeLENhLbbTQabDT2drAh8QL/tLmELzsAfPT21fP4lhwezjZT3B/JZ2jhrX05PJnTR7Xfh3GwjY8PXOSb2ys50K7nrDSbRZtVfNZoQqGt44/xNeQP+nDbnVSmy/npl6f5pyOtHGqNfF5rKxtOyPldSjv6keKFwgxZ7bT0W5CdlfGwbID8S+2W+woBqs0r4ekTNaysM1PVY6Gq24y8pJEXdsp5XGmL3vmwNvL4HiVLSo3TbFIPYzBoeXWThMfLPRivr+XEfzVXJkBhiiSF/P5ADbvqrDTqbchV9dz3WRL/sr2I1V1uBiY/90sJUNiOorSIO7cU8XbFSL22UNJWwyPbFHyocTIQyVohKeSWL5L458ON7G6K5K1rZckBOX/I7IvMTPrxelrZrzCS12KJ1LFm3tyr4n1VX5Qpar5SgBoKqvj4QhUbWyN1trWd7Ycy+c/tZaRPc5fK0xT86XQzJyYvfxvB66A5V863d1SRM7Ob5WadyxUgr8tDe2EZf1h1gcUXOqhu6WDFrlR+drQeRbceRXY+t2UOoB0ZRhxoJ6mmh+SR59rezOenlTyVrsMKhAJBTN19HNqfwv+7LIPfSI2o+iL1pKKCBxJULKkyTRXWsJ2KyiJ+ubOacu90ozAe0jLy+W1CNfGGq783gtnhSgQoFAowYLLSoMjjhuUX+dYyBeuq+mjU22g0OOh3BQgTRKPW8NqBfD6oj4gOm4gAACAASURBVNTHHgvF2lZe25XFw3ILTR6AAOYhE1uPqnj2dC2pVjd9DjflJU28F5/NO00OtI4goZAfe105v9pXwYGaAaq6I59ZVcVTe+Q8mds32kH1+3309vYjvSDh//w0je9sKeF4u2m4fEYX5pEBTIOWzakVPJ2lj8RBAxdKVPx6hYzHK4ORTe8hwk1V/G5/KRtK+8euW1fPW/uzuTe9CwsAThqqy7h7ewGbdRY0BhuNBjvHTufz44/OcltOL5VRBgasuh427Mvi6eog7uk6f11qno/P4eEcPdeLAs36DFDAS9eAjaqOdl7ZlM+OPjvWcT93ON0oZaX8fHka92f306jW8sKmdG451Uattp9zp3N4rtJNr9dLj6mZ5zen8vUPZXxQ3E2D3kaj3sLZvDIe3FfG2s7hTw3YbRxOzObG/TVktVsibb2Ns+dV3HWonsO64PBgZyiAzWZDVlrDHZ+c4n9tyeUx1RDVehuNA3Z0zuEZIK/TRceAlvcjM0BVkc9rNDrpnX66f2YJGDgmUfLbI81M3+LZ2HtUyh2n2smYo+s8r40AhUPQWsa9iXXsavGP69yHcNhtqA3u4SVuLjON5UX8KddC/QSxDWJsr+GhEzXsa/ECerZlFPF42gBefNQ2VvLAzjo0hHH52nhhVwXZA8PzI87CQu5KKGWZxjtuxiSISdPKtpQK9lqYMl2nz1HwvHwAxVULkJEdxyR8470LfHuznJu2D6cb16XxD++lcMPhZnTRgqS2it9uz+P98ul6k2GM+g5e35LBfSoPeiFAV8TlC1AY6OWT/QWsLRtktDvhc3D2Yj5xB6s4EW1N2KUEyNjOKUU5L5Q6GZjw7J2oK0u4LamFmsgG2dL0fP5wsJJ17b5xo1VBtDWtfHykkH2m4TIG/G28syuPn2/IHq5jOyT8yztpPKbopjPan/UVAuQyallzKpsF6yKftz6N72/J5Yky9zQn57hITMri9hOtnLNEzQA+B235ufzbllIyrfOr2b+iPUANdXx5qpwvdCHwGkhLV/ArqQ3CHoYqC/n1hX5aRm7yUCufHs/jf6+NPIdtGXzr8wx+d66d0dvsdlBwTspPEttQjQ/DYQ9VslKWqjrJmzxF7LFQKJPznfhaqqZdQutDIs3ntvhKNvZc7p0QxApXtQeooYTfHlezrcY29XCUkAVpTi5ffzeZb20aa8t+tkXCNz48zd/t0FA0ODaw4WnXsCy9nvVaADuqqhqeOtfOUOTnYZ8PyYl0/uen5/mvDTmjn3fTxlT+/u1T3HCikZzx9TbkoLtIyY1JWtJ17ugDh347GfkV3Lpayk3b5Ny0VcYPN0hZdLCZdld4eCAgFKIwWcY3P03m2yPfq+1ybtqUzjfePcW/7Kvhog8wm1FkFPJWnYPxZxAFbHaOHZXzUp6OwimxM0xHayPPbcnihTqmF6DeBp7fJeMP0p7rZvVGzOwB8g+yJr6AvRMEaJiuUjXvnyxjrwMw9nI0Sc6jtSHwuWnMlPNYkRtdAKCXz3bl8ERGB2rfuIV03gGOFlXzetoA4KPH1MZLh+rI657USXAOsuFYEZ8ruyes8Oloa+Ptnfls6RlCN+0Y4fAeoNU5/X/ljbhKhrqJP5nFT463Mv24mIODx6X8KrGN5On6AzHOtROgmkLuOq9DZrxEPruRhsJiXmhi6gyIp5UnT1SwtdIJ9LJWUs7r2RbATWlLHc/vb6QfPyZHC8/uriR3cDjEDOQpeV7SjWRyUXt7OH9BxavNkwQoHKRDlsdz8gGUl2pHXCaqIwI0dV9PNx8fLeDNc01kteiRNA4nabOB/A4L9QMuoq4G0tfzULySz8sGp1lDOSZA9xcIAbpSrkyAtLy0r5wzLROHMnTVTSw/WUpCtBGOYIA26fAeoJLJi4J7mzmlqmdJ95Rfwm+o5dcH6inTD1ek4tQC3s3romBSJRjSDXLiZCFJ3jBDzkESzih5MU9HUkP/cB1r7uLDPSo+LtChjfZnWc0ozst5psKHMeoEQJBBkxm5JvJ5DR3EK4p58EAtiYPRjs4OkJWSywOnW6PvWYNRAfr3LWXXtQC5a6pZlVrHxgHA2YdUXkRcvhu8DvpLC1icaqDDFQYM7Egq4J2sZk5EnoO0uZXPk4t56Yx2rFNmtaC4IOfxcj+2SS4TLC/jk8wW9k6OtUEbpYVKfhJfQ5VnuhmgYQH6TXwlm+bW+Q4CrkKAwgECdcXcfbGb4mjNuV9PoryAXx5sRDmuLZM0GcjrMFPS58QxYS/OEIlpFbyX3UepvpddZ1V80j7WQPpdHpIOynhG3kFi07jPax5AqR2k1uRmcHx99lhpLizkDqkFxyWW1QTcLupb+yKf18/54jbe3q/g7SIrjhAQDnLhWA7PSprZ12RAMnLtZgOKtkFqjE4MIQj1G8m+WMJG89Q+SE1aIZ8qO1FG6aQaOjr4LD6LF+rClxAgDc/vlnGfTAjQ3xqXy8Dy3QXs7bePyvgITao6ll2s4XQY6Ovm3HkVf2mFgMNBZZqcJ0vcdPsBunj3QAkHNJO/KE4UDbW8cLAFK17aTI08eUJHcEo98XP6TDGf5rSiHv23IGpNCx8drCD/kn+BnnUppSyV9czOKXaePg5ezGNxYstXCtCvj2tJEQI0njDYG3l6Rx6vFFkZ77Derm42JZezQu2HgJOm1mr+fKKdrkmNeoeqhFclzVy0hYE+tmRV8IbcCngpbarl2QNNGAlidrTwbHwVxZFTFUz5BdyxLo93GobGBR0f9Zp63j1UjTzK0PaAXMFL+SbKL9VfCwwNB2bZUJTpbA9V2UW8nNJCzoSOchC9roUlUh090QZgAx28Fa/go4J+os8B+enqa+SptXms7fVdskEQTOXKlsC5STyWw0s5ejQjLaHHSNJJKd/fV8HhaWYH+3PyeEFloW5y8PMaSFJW8Gq6fmLDGvJTkK7g2UIDbZFRJU1WEb9ZLuWNevNYsAtYycst464kLVaCGAcbeXBpLrvHn6DQ08zzayU8Wdg/upxuAi4bpam5vFAbiiLgFs7maDhUP/E7PdjZxPMb80hwhqNuiu/NVfFwopo9k7+wIzhtlKZl8+PjHagd82tTyRXNAGlqWZdax5ZBwN1HRnYR96g8EHTSX1rAbRmm4U3ldjV3bshna8u4Zk6v4+1dmdx/QTcWw+xDZCdlsmhXLec94wOBlaMpRXyZ1U3blFlKF/XNFcRtLCPTG5jmkAMrR5OV/DlRg3y6ky8EMcvVzgDFXeymMFqnJeSlrrqBt49VcHpyz9HYxns5nVRMOg3G1NLE7gu5/OBwJW8kt9IzrnqGgj46qkq491QzZZPqV3djGzvzO1COb1BDDnpKCrldYp72vWhd9c3sVulQjq/Q3iFkSZncluvCFAQIMaAu56EkNRnmiXHI3KljT04LMjeEvVaKiov5g3Rg4vdD38qLm9O4Q96PJkoZAv39HDqWxT0Kx7R7fIOaKp7ZV8ibZY55dyLmdMSKABEYZO2eQo4MuqfEPV2xmhUXazgH0N/F6RQVb2kBl4OqNDnPVPgjA09dfJQg5eeHtBSO/y4MdpOUUcSLRQ68hLAMGthwsJCDhuDE52xq4f0zNSyrsjP+G9re0sanBytQXPIP6GfFuRKWZY/0ngN0dap5/XAlmzqi78+dWSyczyvi/j31VE+bx8DqPTk8n9U1tf8zR7iGhyC4qGmo5tkDCm7ZqSBuv4q4BAWLdxbw52Qtsv4gEMLuNHD+dDa37csnbq+KuH0q4vYpuWlXJQe0LkyuPo6kZfHvnyXz9WUFrKjQomgr58fvS3g0s4VKi5o/fJnOz3aUc9Lkoau0hOe2p7Fgt5LfJeQPX3d3NrccLeGLevvwTEvQi0ldwyOHVcQl5LN4xTn+58psbtyjIm63irdL9KjDAEOUVFZzf7ySuD053Lw6hb9bnsMdCUriDhbyYa177L0alkESz5dw97ac4b9jv4q4nXJ+t1/FErUJS9Rg7ubccTlPp7WTE22KyG9HU1HEj3fXU+8JztmTNmaLKz0EwdLdzseJBdy6U0HcXiVxCUpuWXmR205WjQlQwIO+vpo/HhquO7csP8ffr8rhZ5G68165kcYQQIAuXSubDsm4LWGkXufz+4QCbj/YQJ41iAcXGfJK7lySzMJNadx0RMUd8fnE7VMSt1PO/cfKOdjlYfiFe0Yyz8m5Zb+C30c+7/bdcn7+WQrfXZHJ46peKsOAx0JJYSlxCSridsm58cuz/P36fG5PUBG3v4Q1bU6GJwr6WL4vjX94N5Vf7I/U1z25/OZAMa/lm9AzdakoQLC7lj/vL+Lz8uixwGbsY+PeLJ6qckY6IvOHyxWgbnUrH29N5pufnuffjzZzorqL7PNp/I8NZXxZZKAjL5uvr5KzOLkTnclEVpqK+3flcE/CcJ367cFcFi6/yL9+IOFZWftwB8xho/BMBv+9NYsbE1TcPRIr90i5NbmF9IFoY8xBBnq7+HxbNh+2h7BHe6BDWt49puQ5WV/0k40EMc1lC1DQh7WxlscPK7lrXQr/40spP9k5HJPiTjSQ0jnWAAXtDuSqMn67Tcnd+yL1bK+Su3bk8mZRH52Td/0HBjiZmsrXPlHwSs3k4cEw+MxI0xXcszeXuD2RWBOfzS/2lfFBySAtAcBjo66kjLg9cn61OoW/W5YzFjdT2qmzjPWwNPJiFn96in/aHPmsffnExSt58EQdhRbGNp0Hh5BnFfDQXjl3x49cN4df7i3mtXwDaj9AAIu+m7X7srgnQTl8vf0q4nbm8osVZ/nG6nR+n6OnaPIAmMdMTo6C/z7cRk/UA0gCFEsKePRkPYevzZsYYpLZFCCv1UbyBRX37lPyuz3ZfPPDFG7Ykced+1TEHa4jTW+hXN3Mk6vO868fn+O/U9s5U2vgaMJZvpFQw4Z6B3lJqfz7xnzuyzHS4+li5TEVNy6TcefeSP90r4K7til4JqWVqshXJuz10agu4d7dSm5PUEbqpJK4rdm8oeyl0QEQpK2tnY8O5vHLjZl84+ML/Gi/irsTlPzhSAU7e3yTjkt3U6uq4KXtEn6XoCJudw53HMrjmdxu8kzR2+aZJUBDZT2vxxewcbpVXAP13BtfxPpay5yd4bzGx2B7qFZrWZ9Wz1KZhqWZdSwv6qNowseECBl0bMjWsFSiZqlUzVKJmvV1Nvr9gNtETkUz67Ma2Shv42TrAL32ARJzW9hZ0U+Xx0RmSStrZVry7T50BYV8mKnm3dx21mTWs1SmZmm6mh3VA7SOXtKPTdfOumwNSyUalue2sCm3kVVZw3n3Nlkie3acNLVpWZmhZqmsgZW5LWzJbWCZVM3SrAYOdngxj2sLfIYBkhV1LJVoItdtZE/NIJeKf5aWSv58uJyV6qmNWMBsJjlJws9l1nGngQkulys/BjuMtqWTndK64bqY28WOlCpWXSxj98gIUNCHpbOdNdlqlko0rIjUnZUyNUvTNexvGWL0lSohD11tbSzPVLNUqmGppJ6l2c3sa/NFRqW8lNe0sTGrmdRuPRmaDtZk1A9/B6StJE5ajoe5l/jcBpZlDn9PlpX1Iant4kSOhp1qE21hwOegqaGZpZnDdXZVXgub5BqWS9UslTVxps8TWRLgRq3tYpesgRUyzfD3M6OONUXdl14KGhri6GkFz11oo3iKtHvRttZw50YVJ82Bebfx93IFyKjrI1GhYX12A+sLe8jT2dG3a9mi1HK8xcFQTzd7lU0sLx1gwAuY9JxUaoafWWY9ayu7ONPQy1FJI7sq9cMHXAxZKb6YzRO53azLamT5SKzMaOJ0r3vKOvcRgm47imw5v0zqoiXKW7vNFaU8cqSMT5vn29O6PrhsAQr5cXR3sCFHw9KsZrbkNbIqKxKTFF0UGSZ2YXxuGxkK9VibLG1gRaGegaiDGn46eno4U65n2kOqbHqOqhpYmqEejTXb1FbaRwYQfS46mlqGryNvYUteI8tlkbhZpKfTMTaPbjOYSCvUsG4kbknqWZrdyt7mKArvNJJc3DjhupuqB5lwMFswiKmllTVZkT6ITMNSZR9Zah3HlfVsqrHQOCXW+elua+WVHXls7gbP5OY5pOfzQ3k8k96JbppbMh+ZTQHyO10UFmtYJlWzTNbI+vwW1mZH+ms5HZRaHLToetib08D6bA1byvWo+r001zWxuaCdlB4/3S0d7FE0sKl2iEFfF5+dqGJNah0HlMPt/VJJPUtzO0ntGV+BwsAQafmNw229TDP8nZF3UTW6DDxEX5+eQ1n1rMhuYkN+M6tlwzF/eU4raYOBqUvdrGbkpZH2Pl3N1soB2v4md3IYn7mXfSly7kobiLoMrzsnl18nNZHUN3f3Zsy7F6F6Cgp4K2+A0tkuyOUStrLvhJw/nmpCMb6/G3ajUav5055SUvqZs4Y9m8zEi1BbS6p5ZX85Z8UDGGWopYon9qt4vcQ6YZOyyzzI6eQc7s/qpzc4/xZ9zOqLUD0OajLyeLnhSn8xgKVXy/ObpHyqcU8YsMEzwIZTKl5N01Ezz44sv14QL0KdPYJuG1npMn5yrJM690QzbC8v5amkCna0X1/zqjGzBG5G6OPTY+Wc1V6vwdFDfXUNf9yax46+8XvkwoRtPby9P58vi010ztHlbzCvBCiMVqNl+a4UvrtZxf2n64lvNNM+B5bhmFs7OFbei3z8OtOwixZdB1urJi/EFlwuVyNAPS069shq+SJTzRdpJTx2vJj3VXrEAVnjCFtIK28lsd48YZbHabKjKG4l1828fKnmbAmQz+miQF7G4xuS+Y891byV2cQ5vXeak/qmEvL6qS3VsKfVO3FZoqefI1U95PUIu5+rCAGaTfxYBrrYnNtJ66RDRlqrtaRqzdO832/+Mj8EKEzYoee4qpAffJHO7ftL+CxXh0p//cVJn2WIvOJGDndPEqChLraV6Wmzzt3ZH5hnAlRbUMMrxwp55HAhD+5R8laxntq5/XwEfwVXI0AtFRreOazgnn0q7olX8WZBH3XXqHyCucVsCZDHaif5YgEPHS3mkYMq7jtcyuYO9yWX1gquD4QACWKJyxUgn8FAemkz2xQtbFO2Tk35LWwraGV7hY79BW3szJ8mn7KFbfJWjtUbZ3CQMkzY0sGKcyX8+VARDx9Sce8JDec6ZuU8tigEsJv6OVrQOv39U7awTallr7Kdw8rp8kTus6KVlB7XNAdxzW/mkQAJBBOZiSVwAsEIs7oETiCIghAgQSxxuQLkampiyVE5i7fnsXh3lLQrj8UJ+dx6spyHEpTcsWuafLvzWLxZwdNpbdT8Df6+2MDLQKeGJxPyWLzjEvdlt4r7dxfy6LQ/j9zn7fm8V2Om/TrcZi4ESDBvEQIkmEmEAAliDSFAglhifiyBE1wvCAESzFuEAAlmEiFAglhDCJAglhACJJhLCAESzFuEAAlmEiFAglhDCJAglhACJJhLCAESzFuEAAlmEiFAglhDCJAglhACJJhLCAESzFuEAAlmEiFAglhDCJAglhACJJhLCAESzFuEAAlmEiFAglhDCJAglhACJJhLCAESzFuEAAlmEiFAglhDCJAglhACJJhLXJEADQ0N/U0KJRDMBHq9HovFMtvFEMwTHA6HECBBTNHT04PT6ZztYggEANhsNiFAgjnDdMI+RYD0ej06nY7+/n6RRJoTSafT0dXVNevlEGl+pJ6eHjo7O2e9HCKJNJI6Ozvp6emZ9XKIJFJ/fz/d3d0iRoo0Z5JOp0Ov11+eAPX19WG1WkUSaU6k7u5uUWdFmrFkMBjo6uqa9XKIJNJI0ul0GAyGWS+HSCJZrVb0er2IkSLNmdTX10d/f/9XC1B/fz82m+0KJpcEgtnFYDCIJXCCGcPpdIrlHYKYoqenB5fLNdvFEAiA4X2S0TqUAkEsMt2STXEIgmDOIw5BEMwk4hAEQawhDkEQxBLiEATBXGJkFmgyQoAEcx4hQIKZRAiQINYQAiSIJYQACeYSQoAE8xYhQIKZRAiQINYQAiSIJYQACeYSQoAE8xYhQIKZRAiQINYQAiSIJYQACeYSQoAE8xYhQIKZRAiQINYQAiSIJYQACeYSQoAE8xYhQIKZRAiQINYQAiSIJYQACeYSQoAE8xYhQIKZRAiQINYQAiSIJYQACeYSQoAE8xYhQIKZRAiQINYQAiSIJYQACeYSQoAE8xYhQIKZRAiQINYQAiSIJYQACeYSQoAE8xYhQIKZRAiQINYQAiSIJYQACeYSQoAE8xYhQIKZRAiQINYQAiSIJYQACeYSQoAE8xYhQIKZRAiQINYQAiSIJYQACeYS160ABb0+FFmlPHogn/uPlPB5jYMu3+yUZaChlYSiLiTjb2/YSWN7G6tKLbNTqHnA5QtQGHTNfHCmmMel/dQNha952eY0IRNnChvZVz3I+K+MY3CIrPxGMh0QmLXCXTvmqgAFPT7KVTVsbvJiHP9g3L3sKdUh6fTMWtkEfx3zWYDCgQAlueW8kFjK2lYHA9OGZQ+dujaWZ3WiC07K1NPK1soBSkQz+jdBCJBgLnHdClDI76emopGVGdW8uvk8v0wbQGWfjYKY2Zko58+nmyka346FPTRpGnh8TxHHe8Aj+uRXzBUJkKGbhFPp/EtCA4m64DUv21URCuLr6WRPnQWt81IVwkeXsY8TRf0MhGa+4pgbKnlsfyF/qRjCP+7f3VYTyRdyuCejl65AaMavO9vMTQHyY+pu5cmNWSxrcmMdX7W9g2w/reKlix2UumatgIK/gnktQMEgDZVNPLP6PPepDNROE1J8lgGOn5Vy87l+eiYLkLGVlw8W8l6Jma5rX+TrHiFAgrnEdStA47Hm5fNi7gCKWRCgwYZy/nSkgrWNzik/C1rNXDwl4aeZZob8woCulCteAtdRyWPnW0iM5T5uXQG/PNdD5SX7PH4adTU8sque/pm+ftDCvpMKnk9tp3LKxIGP9rY6fr9BybHBAN6ZvvYsMxcFKOCykyPJ4Vene9H6pvYgh6rKeORIKR81zrendX0wnwVohNKUfD4s66cq6riUB3VNPU/tKuCwKdrPgxSnyLnvdCOnxGroa44QIMFc4poLUFebjt2yepbLNCyXaDlW0Ul+7yClQ+NzeSgqa2KNTDOcT9rMBaN/eHmN04S8vIkNxZ0kVnVwMFPDztpeSm1mTmdrWJndypEOL+4g9DS1szO3gWM9Lspb+zmaU89yqZrlsjaSO6YKBgChIO2yPJ6VD5AfTYDCXgwdWlZKI2WTNLBW2Yt2QiYHhbVatsga2VXaR8lgADxO6tVt7JQ3sblAh9IRZmr3w8nJY3KeSe9AEa3/EXDQUF3MjTtrqfEEo/y+4FJcsQA1lfFIWid7inq5qKpnuUTNyvwucvT+Cdl8Xju5pS2sHqmvMg2b6u0M+Cd/YBCz1cBhSSRfdjPrivQUNfah9QfGlo/ZBskob2K1RMPyLA3L05s41mRlrFsTwu0xckquZskhKd/ZXszzFyJ5MzXsb7HSFakcLrMVqaqKl5Ny+dGaPP4yUm+zGtlaZ2NgtJ4FaG7tYqe0ng2VZtrMbkwdWlZI1CyXNrKtwhB19ijQWc0f9xfzRYUt6i20D+rZtl/GY+UOBmN0Iu1quVwBGtT1cTRPw/4KHafKtKzI0pLcaGSgt5OV0gZWKXUUO8NjywStBs6VNLJq9Pk3c6bdzphfBrE5DCTmNLI5v409agtWXwi/vp+Usha2SBs51DI0WgcY93v6nk4+2pLDZ7oQUScN7e18cEzJs9JeZmMCXPDXcSUC5Pc5yCluYlVOC/ta3ISHBpFVNLE8c7iNTNM5xupkOECvpjnSHmtYnt1EQqtnrA2yGkguaWJzmRH1EIAPXX83OzLqWV/aS34k7IYCTuQlzWxWaMlt7eZAUfNwm5zZRmafa9JS2TABax/xWZrhPDlNxDe6uJiUzxeV+ugCZO8nKTWXX57sYrq7EGiu5OEDZayunaYPIJgxhAAJ5hLXUIBc1DQ08drBAm7fqSBun4q4eAV3rDnJdxIKeKMZIIzLY+ZifiX371TxuwTlcL4EGXecUnOs143V3suR1GwWrDjH/7Mqi7u35hJ3UMpvLxbz2x0KbouX8cPD7dQPBWkqquaJ1af55m4lN+8r577dCuL25hO3I4cHjlVwSGtnSgy9pAB56OxoZfMpBQ8llvLUiVKeOlbMEweVfFjWR6MvEGkQzJyTl/LTdxP52htS3qz1g6OPDWuP8rWXzvKzM/WctISnXtvfzhvx+Xxc2E/0bnqA7v4mnl2Xy/IuH3YxCXRFXLEANVfw0JESfr25gCf35BK3R8EtmxU8mtJGzbjW1WozsvSwnCePFg3XieMl3HOoml31tgn7yOzGAU7nFnDvvhKeOl7CU0ml/HlXHotXSdlico51OLsb+OKMirsPlPJUUilPHczn8TOV7Gm34QYgiN3ZxYpjKu5af5F/WJXNzfEq4variNut4p1SA+pI5bL1Gdh7Ss6vtmbyr19msnifirh9SuIOFPJ0rhHd6FInHyXlGl7ceoH/WJPDvQmlfJGYze0J+cQlFPJsRsfU9fRAd46Kh4+r2ds9TWV02alIz+aHR9uodcwvZb9cAepWt/LRthT+/bNz3LBFwW93KnloezYfn5GzOD6X32yR8sdyO4aR3l97HW+fLODeg5Hnv1/BEyk1HO20R2bRAgxaOvggPpP/6+VjfG2Thi4vUJzPt187zP+xRMbLZQNoptxuF3VN5dy1qRyZNzDNAIqNxJR8/nhUjcR91bdGMEtciQB5PRYOpRRy37oU/u8NxXxyRMHTR3KJ260gbl8l2+vN+IGQw0lJYS2v7pZx9z4VcXuV3L1XxS0J1exqdGLxA/p21h+5wD9urGBVQxDwoG5r5Ll1qfxgQzZP1UEICPmsHDlfzM8/PcsP16Vz0z4lcQn5xK2TEpesIXlgJGD6MRg62X5Ozq/3R/LsL+TXu8t4ZG0mr5YbUUepwN72TjYflvNIztn8mgAAEn5JREFU6SVmMH2dvHtAznOSbnpEG3pNEQIkmEtcIwEKg72RZ3ZkcX+miebRwDVEXmEJD55sIskABFy0NZdyx7YSvmhmXANt5tg5OXedbSXTEQYM7DmXxc+PtFET9lFXpuIna4tJ8oRxeNt4aVc52ZGhbU9xEbcuO8dPUg3UjIzIB8zIMlXclaimYvLu7EsJkKOXHUkSFmwq4YimjzRNH2kNXRyTZPP1ty/yrNqOcbTQIeqq1TwVX8D7OR1kFml4b3c2T2Z00DTdbeqv54Hd+XxWNjjtfTTqO3h9Swb3qTzo5+PO8mvIFQtQSwV3b0ljYWInBZFNsw5NA58dUfFu21g2jz+EtKCGC7W64Tqh6WN1Qhq3nGnnwrjNtoYWLZtO5vJccaTu1Go5eFLKDXvqOWfzjY1+unq4WKVlR2nvcL56DW8dyuLmw01M7G6HoL6Euy72UnnJ4XovDbp6nt+voeer/mZrJ1sT0/lfywr4oGiAS/cPAkiS5dx3upUz091Wn4O2/Fz+bUspmdZZOlXkGnFFS+CaNbyxM4vHS23gHuDwkQy+l9SNFw+2qkJ+fb6f5pFn6OjiVEUHe8oj9aSujuf2ZHHnybaJAyMBCweSS3jgcCWHK7tJPq/iwV2FbNU5oi83DAxRqlLyo/haqj3TTcf5kEjzuS2+ko1fWVkEscZVLYFrKOEXGzP5/o4a0g2Ta46ftqYWnt2awyuF42tfmPLsAm7bpyZVH1md0VvPexfqWFI/bup7sI+08/m8pAbfuGCSfVLGj3aVc3YwktfawuvHC3gmd3jdWtg9iESq4DfHm6kad9XqnBJuW3qB+4oGaZoSnMJ0qJt4c08ubzVzidilZ/1BCb850YpUtKHXFCFAgrnEtRGgcAhqirjrfCeSgUvksxtpKCzm+UaYsp3A3cLjJyrYWukEelkrKefVLDPgpqyljmf3NdKLH7OzhWd3VyI3DgfywXwVD59t5ax+0ud195KeUcKnPZMC5SUEKNTayppdF/iXDXncvDWHGyPpv7fmcMveAt6pdtM3OaA2qXn+y8N87blk/vt0O5ecdG+v4rfb8/igXAjQteBqlsA9nNJK0rjZjUBzIzuSS/loZM1jMIC5R8/a/dncvDmLG7fkcONWOTcvT+HnKd1IJyztdKJWV3Hnxki+TVJ+skPGH6SDVAyFIkvgfHS3a3jvaDY/WCfjxq05/Gy7jEVrs/jdiZaJe3hCPlzVRdyZ0oXKdKnZFScVbbU8vbee5iizOBPob2JNaiWvV12OrLg4fjKLO060cm66U5XGCVDGdSxA7ppqVl6oZb0BcPYhzSniLoULfA70pQUsTtXT5gDwoWup4+WDOfzvdVmR5y/lv1Zl88fzHVFmhoNUnknj7/9ylK/9RU587yVOcPNYKJLJ+U58LVWe6eqLEKC5zBULUDhAoK6Yu853oYi6Z8bM+Xo1b5+PtntwiC3x+WxsHcQA0FHLX87Xs1QzrmEy9JFxIZ+XxwlQOBAgPSmXj2rNNI/kc7fzyYVyPogUwtfeS2paOduirKwtPKfgo/JoS+BCaGpreXRbHm83T/29MYQA/a0QAiSYS1w7AWot455EDQc7JkWcgI8+o412RwhcZhoqSniiyD1VFPrVPHW6moRmL9DP5qwK3pBbAS+lzbU8d6AJI0HMjhaeja+icGj4OsY8JU+ebSbROLHB93ZqiT9ZwBftU0eK9DkKXlSYKJs0GObvaGN3SjFvVnmnLF/zDtnQ2gK4Ry8TxDJk5mhWOQ9vlbBoQw6/O1HN2UH39HshbE08uUfJkpIBpmwfASCEwaDl1U0Snqr0YJxneyquNVcsQG3lPHJBy5nxfdy2ZhIulLNEN/y/IYuZlEQJt0ktmEcrko+azDyeyOhBMirRQWxON31Dvgn1zeNs5dnVUt5QOxkACHTy5o48Pig0MOpOATNJ8v+/vXMNjuq6D/j3TifuhzaJTeNx2eblTidpXWdapx176iZpmqTGmSbF2C4k8cQuset67BobB4IAK/gJxjYGi6d5gy3QE4SEtFo9kISEhISk1Wof0j60q737uLv33t29+/r1wwpYhHAgI8Lu+vxm/l80K52juWfPOb/zP/ecTh7da+EKz0jrqGfbeKDSRfeliYKO0xvmQjiRt4ig0DXWz+KtF/JOPkri9oYYDqXQ8r8a0hiv1/TxdP/1zQz6alr4j0Nm9vqv8YGEwujpJv5i8zlOy3O36mLlRgQoMzRAefV53pIAzUNdYwc/aI1DSmWqq437ayW8OpC2suzNFtYMBLm0A02fZktNB08ctV/ZL6bjmF0OVlQ08y/vNPD1Dc38b6+L3mhm7mPHs1F6+zq4b/M5uhPX6jziVNUa+e7Wc3zwaYtVgoLk98oAXTjD94876ZhzOI9y6vwwzx22X/1OWHyKFVvP8J5Nzom5c4CnDvex8vzFhY4MmsVM+V4jy6/Y9pDl1KFmXhoMY7/4I93Br6t7ebktV4mU28Px+i5WTswSdV1l1+5Glp+VGJujtgGzldUVTfxy6NMWejyUbT/Jvx2x0iHG0JuKECBBMXHz3gHKOlmz4xQ/rrJxzBvBPB3FPB2htW2QpR+08VyfDiSwT42wfNtZjk2EZj6Ti/2H21nR7uSMruOXzDxz0MSiIy7cqkyH+RyLNvZhCiu4o6MsfquTHSMhAqkM/rYOHlhVxfcbHbRNz5Tr87DDdJYnD43n9gBnM6RiGuP+KGZvmFNHG/hBpYPd9ihmX5QJJYmWBbJRTnf1sqyil4OSgjWQizF3gK17m/nvzgjjCSCZwOMZ5ucbj/BHb/az2Z1CT0xz+Fg1f/xKA4s7VSbV9Bwp+inKtpzmV6ddjM/Zf8ex2vv50YYODsrJkjtV62ZzQwKUiDPZbeL+XQOs71cJJ7M5We/p48VdRpb2anhiWWKBADv3neDfG4N0+WbaxPh5HnnzKAsqRtk2kSCcBJA5frqdH27q4dBMu7FKUc7ZbTy7pYvd/hgagDzOU9uMPNc0iVlSsEoKPWeHWVT2MXdvPU9nKH55EpxOog12872DY+wblXNte7CfZZsa+Emzi4lL/4zGgHWIX7x/lrqp3PduyDXE45tO8ePGECMzbdYbimI+f45f7Wvn4UYJ83QEs19hInptGZK7O3loRx9vmOfO7mQiIWoPNvBPNT4mSux6mesVIF2LYzF28tSeMzwzGkeS3NTVt3BvlYQrKOPuMPLNAw5OueMkgmaWbjGxusONZeb5t3f08+DqT7h31zADsk6CDLoWpLW9BcPKSv6mNoQtniY+NcBD5Yf50w9G+XAyQVif3YkksNgGWbyhjZ3R9NyLLBkfbx9o5bEjFkbE+xFFx3ULUDabG/N8IYZaWrh3zwgVw3LuOy/FCCYui4fXMsmmQyZWmS+Px2ZviEFTO4tqnHQEsrmxLDbBK3uNPF5p4fx0BLNjgu0fHeO2spM83K5iV9OkM2n8/jDvbzvBo6cnaIik0dMpgr5hlu4x8ViVC7eSJJMOYzzby8P7zVzwzpTpk7lgauObqz7mnloHjZFZizcAnkm27Gviuw3hax8SFBxlWYWJF9r8lFZOuvAQAiQoJm7iIQhZ4nEnr+47zddeqcbwah2Gsiru2tTNih7l0rHOmaTCmNHIX22oxbC2DsP6OgzravnKTgsn/RnSsoM39tez4KVjfHF1M08azXQ6B7h/ZT33HxiiKzzKz16rZ2GZifemNexdZ3h+fzPf2NzC3WU1uXJXVXPPnn52Bme6yHQMX08H97xWh2FtLXetqeKLZbXcub4Ow+o6Hmpy0j2zUpRKBWk0tnJ3We2lui0sP8l9R10MyRlSWcA5zNMVNXz++SPcVt5J+agOER87dx3ntueP8mflRhYbZa7ehZKhq87ITw+Psk+aY/YRk+luauare6y4r7mFRXAtbugeIEs/P3mnmi+8fJw/33SOA5NJmJrgt1urWPDSJ9zxVif/0xMnm0kyPT3MktdOsPBim1jbwtK9DXxrYxV3bh3hoBNAobmrk7994RhfWl+Xa4drq1n4eiOPdmp4UzPPO5NmqruXxzdWYyirw1BWw9e3tfDPO1v5+/+r5tu7BzHm1TSjS7yxu4m/LqvGsK4Ww/oWVnV5kRLpvCxllnQowLH99TPfu1r+ckMjT54LMZaYabOeMVbuPoFhVTV3rKnm9rV1GNbVYNjQzEP1n3J4tjzO8u2tPGv0cvXVMVl8HjtPb2rkxfEE8hy/XsxcrwBZuwf5rw0fc8fLlSzY0s+mLjdn6k/yhQ0mft7kY6Kjla+V13PXTgtjsk6wu4eH36zO9X9lNdy9o5XvVBj5u+drePDoOMMZDWuHia+WVfInK6pYsMfGpJYl3d/Dv67/mM+9WMmXKobZN8f9VdFpP+9vP8kjXXGkuboQ5wV+tquNJ9qDv+P9L0Ehct0ClI4j9XXyrdfrWPibKj6/piY33q2rwfBOL9vNebnGtMbAaC8PrqnFsO7imFzPlzd2U+mLc3lXbYaRzgGWbPiEhWtrMJS3sKiigzW7q7n9ty381BQmqAZ4d3cjX/l1JbevruY7jSGsAS8fVp7ijhcruf03p3mq2U2MLKmgxOF99TPl1WF49QRffvsMyz6o5xvlx/iHOh9ds7eKpEOcaGnngQ+HGLlGdsff1s6Pdg2w2Sr2v91shAAJiombfAx2FkXRsE1HsfhnIpxAnt1R6XFsUt5n/FFsSjq3hzidRJJV7AEVR0DDo+ok0jpTQY0JOUE8k0SSNWySRigDvlYTTzc42O2MMyEpjPujWKYVJqL65S0mM6th1pkyx4MajmBuhd4yHWVSTRLLXv4fUnoce17dLJKCU8ubLiQTTIVU7AENpxzPrcSm00SiGs6QiiOo4pozAwTpgJlfbjfxbKsvr8xcubLHy9vbT/JId4KoSN3fMDeUAdLjOEMqEwEFWyieE/RUEimsYguo2IMaU5ceUAp/UMlrDzECWhyfrGANJcjt/MqS0BN4girW/LYT0K4+LjulMx26/PescgyvpuMNqDjC8VnbQ7Ooiob94vclECMyV9vIZtHVXJYzV0eNYP4EOKXjCytY/Cr2oIojMFO+pDKpfNpEIUXHCRNLDgyxy3dli85mFM71nuEf3+vDpKRKbkJ93RmgWBx3UMEeULCH4gRiafRYjImQhltNk0rEcYVUxsM6egZI6UzltSdrJI5PTTAlqUxELmaANKwBlclQjMmoTjKTJRNP4JM1JgMK1nBi7rvCMhrDfZ18+/1+msPJK59JNkN/UztL9g3wrqfUntZngxvJAKVjGjZJwSKpTARVrJJyqQ8JJa6043Rax5Pfb/kVLCH96ixiMok/dLmP8UR1YpqGI6ji1HIZoGA418fYJYVJNZcBCkU17FJuzPSoM+0ym0VX1VllJggpMTzBKI5o/pbzi2Tw2Rys3tbI8sH01ReGZyLs+KiJxbWOua+aEMwrQoAExUTJXYTqaTLyi3on1XNfU1KAJGmpMfHYwQscyH8pNROhp7+PH35kxq4i7gD6Pbjhd4AE10U6MMYze0w82ey94vCSyJSfnQeaeW5EQ86W3oS6GC9ChSxa0M8bW0/wRI/GVL7bqg5eONzDapOELDqYouSzcBHq7yQZptnYyn07zJhTsxqyrZ8lh4Z4dyxx9UFLgnlHCJCgmCghAcrSdeoM31tziM+trObOspP8Z7OL7iLIeqciUcb9Kq78DcrZFLISZTBQWi+S/yERAnSz0HFKMpZg/AoxT8aTeHwRvCU6mS5OAQIyWWR/iGF51gp5SsMcUPFe9WKFoFgQAgSQJhZTGPQoKLMXXtQII6FE7u4iwU1HCJCgmCghAQKf00f9BTfVg24+6Zukwa3gE2P7ZxYhQIL5pGgFSFCyCAESFBJCgATFREkJkECQjxAgwXwiBEhQaAgBEhQSQoAExYQQIEHJIgRIMJ8IARIUGkKABIWEECBBMSEESFCyCAESzCdCgASFhhAgQSEhBEhQTAgBEpQsQoAE84kQIEGhIQRIUEgIARIUE0KABCWLECDBfCIESFBoCAESFBJCgATFhBAgQckiBEgwnwgBEhQaQoAEhYQQIEExIQRIULIIARLMJ0KABIWGECBBISEESFBM3JAAybL8B6mUQDAfeL1eQqHQra6GoERQFEUIkKCgcLlcqKp6q6shEAAQiUSEAAmKhmsJ+5wCFAgESCaTIkQURUxNTSFJ0i2vh4jSiHA4jMvluuX1ECHiYjidTmRZvuX1ECEimUwSDAZxu923vB4iRFxPBAKB6xMgn8+HxWLBbreLEFEUYbPZsNlst7weIkojRHsSUWgh2qSIQgrRHkUUU1gsFnw+31UC9P/YSPgXPe3PyQAAAABJRU5ErkJggg==)"
      ]
    },
    {
      "cell_type": "markdown",
      "metadata": {
        "id": "n22iy4Dh049C"
      },
      "source": [
        "write a program to create a list of all factors of 5 from 1 to 1000 using list comprehension method"
      ]
    },
    {
      "cell_type": "code",
      "source": [
        ""
      ],
      "metadata": {
        "id": "_D3XjOSr0Pbu"
      },
      "execution_count": null,
      "outputs": []
    },
    {
      "cell_type": "markdown",
      "metadata": {
        "id": "WpvWOsh81TKS"
      },
      "source": [
        "write a program to create a list using list comprehension method that holds all vowels from a given string"
      ]
    },
    {
      "cell_type": "code",
      "source": [
        ""
      ],
      "metadata": {
        "id": "LKhcy8Uw0QKr"
      },
      "execution_count": null,
      "outputs": []
    },
    {
      "cell_type": "markdown",
      "metadata": {
        "id": "OdFqN5FZ18ga"
      },
      "source": [
        "write a program to create a dictionary whose values hold list of tables for given number as key\n",
        "using list comprehension method\n",
        "\n",
        "\n",
        "```\n",
        "{1:[1,2,3,4,5,6,7,8,9,10],\n",
        "2:[2,4,6,8,10,12,14,16,18,20],\n",
        "3:[3,6,9,12,15,18,21,24,27,30]}\n",
        "```\n",
        "\n"
      ]
    },
    {
      "cell_type": "code",
      "source": [
        ""
      ],
      "metadata": {
        "id": "BTd_r_tb0SK8"
      },
      "execution_count": null,
      "outputs": []
    },
    {
      "cell_type": "markdown",
      "metadata": {
        "id": "w-2hM-W_2XNC"
      },
      "source": [
        "write a program using list comprehention method to store a list a words whose length is less than 5\n",
        "\n",
        "\n",
        "```\n",
        "s='This is example of formatted as code'\n",
        "l=['This','is','of','as','code']\n",
        "```\n",
        "\n"
      ]
    },
    {
      "cell_type": "code",
      "source": [
        ""
      ],
      "metadata": {
        "id": "CbGulYe70Snv"
      },
      "execution_count": null,
      "outputs": []
    },
    {
      "cell_type": "markdown",
      "metadata": {
        "id": "36mloh4s2vJu"
      },
      "source": [
        "write a program using list comprehension method to store list of all repeated letters in a word as a value to dict with word as key\n",
        "\n",
        "\n",
        "\n",
        "```\n",
        "s=\"Hello world. python is cool and aggressive\"\n",
        "d={\"Hello\":['l'],\n",
        "\"cool\":[\"o\"],\n",
        "\"aggressive\":[\"g\",\"s\"]}\n",
        "```\n",
        "\n"
      ]
    },
    {
      "cell_type": "code",
      "metadata": {
        "colab": {
          "base_uri": "https://localhost:8080/"
        },
        "id": "fT5mCMp7efv8",
        "outputId": "bdeb3f12-22e2-49c8-f2ce-b7473afb74ef"
      },
      "source": [
        "s=\"Hello world. python is cool and aggressive\"\n",
        "d={}\n",
        "for word in s.split():\n",
        "    l=[]\n",
        "    for letter in word:\n",
        "        if (word.count(letter)>1) and (letter not in l):\n",
        "            l.append(letter)\n",
        "            d.setdefault(word,l)\n",
        "d"
      ],
      "execution_count": null,
      "outputs": [
        {
          "output_type": "execute_result",
          "data": {
            "text/plain": [
              "{'Hello': ['l'], 'aggressive': ['g', 'e', 's'], 'cool': ['o']}"
            ]
          },
          "metadata": {},
          "execution_count": 35
        }
      ]
    },
    {
      "cell_type": "code",
      "metadata": {
        "colab": {
          "base_uri": "https://localhost:8080/"
        },
        "id": "hhLhLffFe7W3",
        "outputId": "7b19280e-2913-49af-d46b-c09f349e266c"
      },
      "source": [
        "#check\n",
        "s=\"Hello world. python is cool and aggressive\"\n",
        "d={}\n",
        "for word in s.split():\n",
        "    l=[letter for letter in word if ((word.count(letter)>1)) ]\n",
        "    if l!=[]:\n",
        "        d.setdefault(word,l)\n",
        "\n",
        "d"
      ],
      "execution_count": null,
      "outputs": [
        {
          "output_type": "execute_result",
          "data": {
            "text/plain": [
              "{'Hello': ['l', 'l'],\n",
              " 'aggressive': ['g', 'g', 'e', 's', 's', 'e'],\n",
              " 'cool': ['o', 'o']}"
            ]
          },
          "metadata": {},
          "execution_count": 36
        }
      ]
    }
  ]
}