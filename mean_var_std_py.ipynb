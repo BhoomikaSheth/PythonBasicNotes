{
  "nbformat": 4,
  "nbformat_minor": 0,
  "metadata": {
    "colab": {
      "provenance": [],
      "authorship_tag": "ABX9TyMBz37DGYHnj+E9Ow8qZrz0",
      "include_colab_link": true
    },
    "kernelspec": {
      "name": "python3",
      "display_name": "Python 3"
    },
    "language_info": {
      "name": "python"
    }
  },
  "cells": [
    {
      "cell_type": "markdown",
      "metadata": {
        "id": "view-in-github",
        "colab_type": "text"
      },
      "source": [
        "<a href=\"https://colab.research.google.com/github/BhoomikaSheth/PythonBasicNotes/blob/main/mean_var_std_py.ipynb\" target=\"_parent\"><img src=\"https://colab.research.google.com/assets/colab-badge.svg\" alt=\"Open In Colab\"/></a>"
      ]
    },
    {
      "cell_type": "markdown",
      "source": [
        "### Problem statement\n",
        "\n",
        "Create a function named calculate() in mean_var_std.py that uses Numpy to output the mean, variance, standard deviation, max, min, and sum of the rows, columns, and elements in a 3 x 3 matrix.\n",
        "\n",
        "The input of the function should be a list containing 9 digits. The function should convert the list into a 3 x 3 Numpy array, and then return a dictionary containing the mean, variance, standard deviation, max, min, and sum along both axes and for the flattened matrix.\n",
        "\n",
        "The returned dictionary should follow this format:\n",
        "\n",
        "```\n",
        "{\n",
        "  'mean': [axis1, axis2, flattened],\n",
        "  'variance': [axis1, axis2, flattened],\n",
        "  'standard deviation': [axis1, axis2, flattened],\n",
        "  'max': [axis1, axis2, flattened],\n",
        "  'min': [axis1, axis2, flattened],\n",
        "  'sum': [axis1, axis2, flattened]\n",
        "}\n",
        "```\n",
        "If a list containing less than 9 elements is passed into the function, it should raise a ValueError exception with the message: \"List must contain nine numbers.\" The values in the returned dictionary should be lists and not Numpy arrays."
      ],
      "metadata": {
        "id": "1OugZsD5rWrU"
      }
    },
    {
      "cell_type": "code",
      "execution_count": null,
      "metadata": {
        "colab": {
          "base_uri": "https://localhost:8080/"
        },
        "id": "UsSFX7q-4JZK",
        "outputId": "19b6a994-c0ea-4cbc-a5a3-052170b91bc2"
      },
      "outputs": [
        {
          "output_type": "execute_result",
          "data": {
            "text/plain": [
              "{'mean': [[3.0, 4.0, 5.0], [1.0, 4.0, 7.0], 4.0],\n",
              " 'var': [[6.0, 6.0, 6.0],\n",
              "  [0.6666666666666666, 0.6666666666666666, 0.6666666666666666],\n",
              "  6.666666666666667],\n",
              " 'std': [[2.449489742783178, 2.449489742783178, 2.449489742783178],\n",
              "  [0.816496580927726, 0.816496580927726, 0.816496580927726],\n",
              "  2.581988897471611],\n",
              " 'max': [[6, 7, 8], [2, 5, 8], 8],\n",
              " 'min': [[0, 1, 2], [0, 3, 6], 0],\n",
              " 'sum': [[9, 12, 15], [3, 12, 21], 36]}"
            ]
          },
          "metadata": {},
          "execution_count": 1
        }
      ],
      "source": [
        "import numpy as np\n",
        "\n",
        "def calculate(input_list):\n",
        "  try:\n",
        "    if len(input_list)!=9:\n",
        "      raise ValueError\n",
        "    input_arr=np.array(input_list).reshape(3,3)\n",
        "    output_dict={}\n",
        "    output_dict[\"mean\"]=[list(input_arr.mean(axis=0)),list(input_arr.mean(axis=1)),input_arr.mean()]\n",
        "    output_dict[\"var\"]=[list(input_arr.var(axis=0)),list(input_arr.var(axis=1)),input_arr.var()]\n",
        "    output_dict[\"std\"]=[list(input_arr.std(axis=0)),list(input_arr.std(axis=1)),input_arr.std()]\n",
        "    output_dict[\"max\"]=[list(input_arr.max(axis=0)),list(input_arr.max(axis=1)),input_arr.max()]\n",
        "    output_dict[\"min\"]=[list(input_arr.min(axis=0)),list(input_arr.min(axis=1)),input_arr.min()]\n",
        "    output_dict[\"sum\"]=[list(input_arr.sum(axis=0)),list(input_arr.sum(axis=1)),input_arr.sum()]\n",
        "    return output_dict\n",
        "  except ValueError :\n",
        "    return \"List must contain nine numbers.\"\n",
        "calculate([0,1,2,3,4,5,6,7,8])"
      ]
    },
    {
      "cell_type": "code",
      "source": [
        "calculate([2,6,2,8,4,0,1,5,7])"
      ],
      "metadata": {
        "colab": {
          "base_uri": "https://localhost:8080/"
        },
        "id": "X9tdecw0-H4Y",
        "outputId": "657836cd-a5ca-4c5d-fa8b-b873eca9bbb3"
      },
      "execution_count": null,
      "outputs": [
        {
          "output_type": "execute_result",
          "data": {
            "text/plain": [
              "{'mean': [[3.6666666666666665, 5.0, 3.0],\n",
              "  [3.3333333333333335, 4.0, 4.333333333333333],\n",
              "  3.888888888888889],\n",
              " 'var': [[9.555555555555557, 0.6666666666666666, 8.666666666666666],\n",
              "  [3.555555555555556, 10.666666666666666, 6.222222222222221],\n",
              "  6.987654320987654],\n",
              " 'std': [[3.091206165165235, 0.816496580927726, 2.943920288775949],\n",
              "  [1.8856180831641267, 3.265986323710904, 2.494438257849294],\n",
              "  2.6434171674156266],\n",
              " 'max': [[8, 6, 7], [6, 8, 7], 8],\n",
              " 'min': [[1, 4, 0], [2, 0, 1], 0],\n",
              " 'sum': [[11, 15, 9], [10, 12, 13], 35]}"
            ]
          },
          "metadata": {},
          "execution_count": 2
        }
      ]
    },
    {
      "cell_type": "code",
      "source": [
        "calculate([9,1,5,3,3,3,2,9,0])"
      ],
      "metadata": {
        "colab": {
          "base_uri": "https://localhost:8080/"
        },
        "id": "LI0HNQao-NkM",
        "outputId": "7b8cc79f-bd95-4c62-e0c6-3ef4581020ec"
      },
      "execution_count": null,
      "outputs": [
        {
          "output_type": "execute_result",
          "data": {
            "text/plain": [
              "{'mean': [[4.666666666666667, 4.333333333333333, 2.6666666666666665],\n",
              "  [5.0, 3.0, 3.6666666666666665],\n",
              "  3.888888888888889],\n",
              " 'var': [[9.555555555555555, 11.555555555555557, 4.222222222222222],\n",
              "  [10.666666666666666, 0.0, 14.888888888888891],\n",
              "  9.209876543209875],\n",
              " 'std': [[3.0912061651652345, 3.39934634239519, 2.0548046676563256],\n",
              "  [3.265986323710904, 0.0, 3.8586123009300755],\n",
              "  3.0347778408328137],\n",
              " 'max': [[9, 9, 5], [9, 3, 9], 9],\n",
              " 'min': [[2, 1, 0], [1, 3, 0], 0],\n",
              " 'sum': [[14, 13, 8], [15, 9, 11], 35]}"
            ]
          },
          "metadata": {},
          "execution_count": 3
        }
      ]
    }
  ]
}