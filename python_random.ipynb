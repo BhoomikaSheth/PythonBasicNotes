{
  "nbformat": 4,
  "nbformat_minor": 0,
  "metadata": {
    "colab": {
      "provenance": [],
      "authorship_tag": "ABX9TyO4IOualaumRSCR6cp710dS",
      "include_colab_link": true
    },
    "kernelspec": {
      "name": "python3",
      "display_name": "Python 3"
    },
    "language_info": {
      "name": "python"
    }
  },
  "cells": [
    {
      "cell_type": "markdown",
      "metadata": {
        "id": "view-in-github",
        "colab_type": "text"
      },
      "source": [
        "<a href=\"https://colab.research.google.com/github/BhoomikaSheth/PythonBasicNotes/blob/main/python_random.ipynb\" target=\"_parent\"><img src=\"https://colab.research.google.com/assets/colab-badge.svg\" alt=\"Open In Colab\"/></a>"
      ]
    },
    {
      "cell_type": "code",
      "execution_count": 1,
      "metadata": {
        "colab": {
          "base_uri": "https://localhost:8080/"
        },
        "id": "5Z22O1cyWjz1",
        "outputId": "925e1ec6-2b87-49eb-8d62-238c625c0e9e"
      },
      "outputs": [
        {
          "output_type": "stream",
          "name": "stdout",
          "text": [
            "12\n",
            "8\n",
            "[2, 3]\n",
            "0.7582800036398112\n",
            "[2, 7, 1, 44, 5, 8, 33]\n",
            "64\n"
          ]
        }
      ],
      "source": [
        "import random\n",
        "\n",
        "print(random.randint(10, 15))\n",
        "print(random.choice([1,2,3,4,5,6,7,8]))\n",
        "print(random.choices([1,2,3,4,5,6,7,8,9], k=2))\n",
        "print(random.random()) ## Will give a random number between 0 and 1. \n",
        "a = [1,2,33,44,5,7,8]\n",
        "(random.shuffle(a))\n",
        "print(a)\n",
        "print(random.randrange(50, 100, 2))\n"
      ]
    },
    {
      "cell_type": "code",
      "source": [
        "import random\n",
        "random.seed(5)\n",
        "random.randint(1,10)"
      ],
      "metadata": {
        "colab": {
          "base_uri": "https://localhost:8080/"
        },
        "id": "x9DSSJFOWqeq",
        "outputId": "3b848ab9-280b-4313-cab6-b63fc1f4b63c"
      },
      "execution_count": 2,
      "outputs": [
        {
          "output_type": "execute_result",
          "data": {
            "text/plain": [
              "10"
            ]
          },
          "metadata": {},
          "execution_count": 2
        }
      ]
    },
    {
      "cell_type": "code",
      "source": [
        "person_score = 0\n",
        "computer_score = 0\n",
        "\n",
        "for i in range(0, 10): \n",
        "  a = random.choice([\"H\", \"T\"])\n",
        "  y = input(\"Please enter either H/T: \")\n",
        "\n",
        "  if a == y: \n",
        "    computer_score += 1\n",
        "  else :\n",
        "    person_score += 1\n",
        "\n",
        "print(computer_score)\n",
        "print(person_score)\n"
      ],
      "metadata": {
        "colab": {
          "base_uri": "https://localhost:8080/"
        },
        "id": "aO35HpOmWsRw",
        "outputId": "eb4be0a7-27bd-4d6a-ff88-ed3bfc40e625"
      },
      "execution_count": 3,
      "outputs": [
        {
          "output_type": "stream",
          "name": "stdout",
          "text": [
            "Please enter either H/T: H\n",
            "Please enter either H/T: T\n",
            "Please enter either H/T: H\n",
            "Please enter either H/T: H\n",
            "Please enter either H/T: T\n",
            "Please enter either H/T: T\n",
            "Please enter either H/T: T\n",
            "Please enter either H/T: H\n",
            "Please enter either H/T: H\n",
            "Please enter either H/T: H\n",
            "3\n",
            "7\n"
          ]
        }
      ]
    },
    {
      "cell_type": "code",
      "source": [
        "# write a program to generate 5 random words from a given paragraph\n",
        "randompara = 'They decided to find the end of the rainbow. While they hoped they would find a pot of gold, neither of them truly believed that the mythical pot would actually be there. Nor did they believe they could actually find the end of the rainbow. Still, it seemed like a fun activity for the day, and pictures of them chasing rainbows would look great on their Instagram accounts. They would have never believed they would actually find the end of a rainbow, and when they did, what they actually found there.'\n",
        "random.choices(randompara.split(), k=5)"
      ],
      "metadata": {
        "colab": {
          "base_uri": "https://localhost:8080/"
        },
        "id": "5UEO6joFW0dj",
        "outputId": "5b097e05-009d-4142-c4df-6ffd1a99a527"
      },
      "execution_count": 4,
      "outputs": [
        {
          "output_type": "execute_result",
          "data": {
            "text/plain": [
              "['of', 'they', 'While', 'truly', 'Instagram']"
            ]
          },
          "metadata": {},
          "execution_count": 4
        }
      ]
    },
    {
      "cell_type": "code",
      "source": [
        "\n",
        "# write a paragraph to rearrange words in a given string\n",
        "y1 = randompara.split()\n",
        "random.shuffle(y1)\n",
        "print(y1)\n",
        "y2 = \" \".join(y1)\n",
        "print(y2)"
      ],
      "metadata": {
        "colab": {
          "base_uri": "https://localhost:8080/"
        },
        "id": "OrmbJq5yW6yt",
        "outputId": "a79af818-6ea1-4802-a434-415447ccfd26"
      },
      "execution_count": 5,
      "outputs": [
        {
          "output_type": "stream",
          "name": "stdout",
          "text": [
            "['would', 'them', 'rainbows', 'actually', 'look', 'great', 'that', 'would', 'it', 'they', 'seemed', 'actually', 'a', 'rainbow.', 'never', 'Nor', 'the', 'found', 'of', 'of', 'end', 'did', 'find', 'activity', 'gold,', 'they', 'they', 'would', 'there.', 'they', 'fun', 'Instagram', 'like', 'decided', 'of', 'find', 'find', 'their', 'end', 'hoped', 'what', 'be', 'rainbow.', 'truly', 'day,', 'rainbow,', 'and', 'Still,', 'the', 'the', 'the', 'believed', 'on', 'there.', 'neither', 'they', 'the', 'and', 'did,', 'chasing', 'they', 'They', 'accounts.', 'to', 'actually', 'they', 'have', 'actually', 'find', 'would', 'the', 'the', 'could', 'would', 'them', 'pot', 'mythical', 'end', 'They', 'a', 'pot', 'pictures', 'when', 'of', 'of', 'While', 'of', 'a', 'believed', 'believe', 'for']\n",
            "would them rainbows actually look great that would it they seemed actually a rainbow. never Nor the found of of end did find activity gold, they they would there. they fun Instagram like decided of find find their end hoped what be rainbow. truly day, rainbow, and Still, the the the believed on there. neither they the and did, chasing they They accounts. to actually they have actually find would the the could would them pot mythical end They a pot pictures when of of While of a believed believe for\n"
          ]
        }
      ]
    }
  ]
}